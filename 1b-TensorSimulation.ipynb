{
 "cells": [
  {
   "cell_type": "markdown",
   "id": "7964d39f-90f0-4e85-b9c0-7c6574269420",
   "metadata": {},
   "source": [
    "# Simulate Tensor"
   ]
  },
  {
   "cell_type": "code",
   "execution_count": 1,
   "id": "d1b986b0-e1cc-4d2f-933f-c80c6521ff97",
   "metadata": {},
   "outputs": [],
   "source": [
    "# from IPython.core.alias import Instance\n",
    "import numpy as np\n",
    "\n",
    "def traverse(o, tree_types=(list, tuple, np.ndarray), index = None, nest_layer = 100):\n",
    "    if isinstance(o, tree_types) and nest_layer > 0:\n",
    "        for idx, value in enumerate(o):\n",
    "            new_index = index + [idx] if type(index) == list else [idx]\n",
    "            for subvalue in traverse(value, tree_types, new_index, nest_layer - 1):\n",
    "                yield subvalue\n",
    "    else:\n",
    "        if not isinstance(o, tree_types): \n",
    "            length = None\n",
    "        else:\n",
    "            length = len(o)\n",
    "        yield index, length, o"
   ]
  },
  {
   "cell_type": "code",
   "execution_count": 2,
   "id": "80e70b39-e486-4467-b213-ada3e7940568",
   "metadata": {},
   "outputs": [
    {
     "name": "stdout",
     "output_type": "stream",
     "text": [
      "5\n",
      "[3, 6, 2, 2, 100]\n"
     ]
    }
   ],
   "source": [
    "# TODO: based on fld_name, get input_tensor\n",
    "import numpy as np\n",
    "B_lenP = 3\n",
    "B2P_lnEC = [6, 5, 2] # \n",
    "prefix_layers_num = 2\n",
    "vocab_size = 100\n",
    "\n",
    "###############\n",
    "# 'B-P-EC:Diag-Rec:V-VdftGrn'\n",
    "# B: batch\n",
    "# P: patient\n",
    "# EC:Diag: Encounter's DiagInfo\n",
    "# Rec:V: a Rec's Value: E11\n",
    "# VdftGrn: Value to a list of Grn. ICD-10 [E, 1, 1]\n",
    "fld_name = 'B-P-EC-DiagRec:DiagV-DiagVdftGrn'\n",
    "###############\n",
    "\n",
    "\n",
    "# fld_name = 'B2St2TkGrn'\n",
    "layers_num = len(fld_name.split('-'))\n",
    "print(layers_num)\n",
    "\n",
    "# max_list = df['max'].astype(int).to_list()\n",
    "prefix = [np.array(B_lenP).max(), max(B2P_lnEC)] \n",
    "max_list = [np.array(B_lenP).max(), max(B2P_lnEC)] + list(np.random.randint(1, 10, layers_num - len(prefix) - 1)) + [vocab_size]\n",
    "print(max_list)"
   ]
  },
  {
   "cell_type": "code",
   "execution_count": 3,
   "id": "a85820a2-85cb-467d-afaa-76e23184d1cf",
   "metadata": {},
   "outputs": [],
   "source": [
    "def get_next_info(layer, current_info, max_list):\n",
    "    current_max = max_list[layer]\n",
    "    next_max = max_list[layer + 1]\n",
    "    # to do: get next_info\n",
    "    next_info = np.zeros(list(np.array(current_info).shape) + [current_max]).astype(int)\n",
    "    # print(next_info.shape)\n",
    "    for element in list(traverse(current_info, nest_layer = layer)):\n",
    "        idx, leng, value = element\n",
    "        # print(next_info[tuple(idx)])\n",
    "        next_info[tuple(idx)][:value] = np.random.randint(1, next_max + 1, value)\n",
    "\n",
    "    # print(next_info)\n",
    "    return next_info"
   ]
  },
  {
   "cell_type": "code",
   "execution_count": 4,
   "id": "87175a8d-e962-4507-926f-1c135aa9afea",
   "metadata": {},
   "outputs": [],
   "source": [
    "def get_simulated_tensor_from_fldname(fld_name, B_lenP, B2P_lnEC, prefix_layers_num, vocab_size):\n",
    "    layers_num = len(fld_name.split('-'))\n",
    "    # print(layers_num)\n",
    "\n",
    "    # max_list = df['max'].astype(int).to_list()\n",
    "    prefix = [np.array(B_lenP).max(), max(B2P_lnEC)] \n",
    "    max_list = [np.array(B_lenP).max(), max(B2P_lnEC)] + list(np.random.randint(1, 10, layers_num - len(prefix) - 1)) + [vocab_size]\n",
    "    # print(max_list)\n",
    "\n",
    "    init_info = np.array(B2P_lnEC)\n",
    "    \n",
    "    for layer_idx in range(prefix_layers_num - 1, layers_num - 1):\n",
    "        print(layer_idx)\n",
    "        current_info = init_info\n",
    "        next_info = get_next_info(layer_idx, current_info, max_list)\n",
    "        # print(next_info)\n",
    "        init_info = next_info\n",
    "\n",
    "        print(layer_idx, '-->', current_info.shape)\n",
    "        print(layer_idx + 1, '-->', next_info.shape)\n",
    "\n",
    "\n",
    "    fld_tensor_idx = next_info\n",
    "    # print(fld_tensor.shape)\n",
    "    return fld_tensor_idx\n"
   ]
  },
  {
   "cell_type": "code",
   "execution_count": 5,
   "id": "dc91139e-65a7-42bc-a16c-a4afd57338df",
   "metadata": {},
   "outputs": [
    {
     "name": "stdout",
     "output_type": "stream",
     "text": [
      "1\n",
      "1 --> (3,)\n",
      "2 --> (3, 6)\n",
      "2\n",
      "2 --> (3, 6)\n",
      "3 --> (3, 6, 6)\n",
      "3\n",
      "3 --> (3, 6, 6)\n",
      "4 --> (3, 6, 6, 4)\n",
      "(3, 6, 6, 4)\n"
     ]
    }
   ],
   "source": [
    "B_lenP = 3\n",
    "B2P_lnEC = [6, 5, 2] # \n",
    "prefix_layers_num = 2\n",
    "vocab_size = 100\n",
    "\n",
    "fld_name = 'B-P-EC-Diag:DiagV-DiagVdftGrn'\n",
    "fld_tensor_idx = get_simulated_tensor_from_fldname(fld_name, B_lenP, B2P_lnEC, prefix_layers_num, vocab_size)\n",
    "print(fld_tensor_idx.shape)\n",
    "# fld_tensor_idx"
   ]
  },
  {
   "cell_type": "code",
   "execution_count": 6,
   "id": "18684cec-64d3-4773-8f4e-5714a0f5ba5d",
   "metadata": {},
   "outputs": [
    {
     "data": {
      "text/plain": [
       "(3, 6, 6, 4)"
      ]
     },
     "execution_count": 6,
     "metadata": {},
     "output_type": "execute_result"
    }
   ],
   "source": [
    "fld_tensor_idx.shape\n",
    "\n",
    "# ( 3,6,      4,    3)\n",
    "# 'B-P-EC:Diag-DiagRec:V-VdftGrn' [E, 1, 1]\n",
    "# fld_tensor_idx"
   ]
  },
  {
   "cell_type": "markdown",
   "id": "ad58c174-01c1-4594-9015-6ea39768b80b",
   "metadata": {},
   "source": [
    "# info_idx, info, leng_mask, leng\n",
    "\n",
    "1. Current Layer:\n",
    "```python\n",
    "leng_mask = info_idx == 0 # or info_idx != 0\n",
    "leng = leng_mask.sum(-1)\n",
    "```\n",
    "\n",
    "2. Transfer\n",
    "\n",
    "```python\n",
    "old_leng = leng\n",
    "```\n",
    "\n",
    "\n",
    "3. Next Layer\n",
    "```python\n",
    "leng_mask = old_leng != 0\n",
    "leng = (leng_mask == 0).sum(-1)\n",
    "```"
   ]
  },
  {
   "cell_type": "code",
   "execution_count": 7,
   "id": "12359593-aa76-49f0-b5a5-3859192cca11",
   "metadata": {},
   "outputs": [
    {
     "name": "stdout",
     "output_type": "stream",
     "text": [
      "1\n",
      "1 --> (3,)\n",
      "2 --> (3, 6)\n",
      "2\n",
      "2 --> (3, 6)\n",
      "3 --> (3, 6, 8)\n",
      "3\n",
      "3 --> (3, 6, 8)\n",
      "4 --> (3, 6, 8, 9)\n",
      "(3, 6, 8, 9)\n"
     ]
    }
   ],
   "source": [
    "########################\n",
    "B_lenP = 3\n",
    "B2P_lnEC = [6, 4, 3] # \n",
    "prefix_layers_num = 2\n",
    "vocab_size = 100\n",
    "########################\n",
    "\n",
    "fullname = 'B-P-EC-Diag:DiagV-DiagVdftGrn'\n",
    "# fld_name = 'B2St2TkGrn'\n",
    "data = get_simulated_tensor_from_fldname(fullname, B_lenP, B2P_lnEC, prefix_layers_num, vocab_size)\n",
    "print(data.shape)\n",
    "# fld_tensor_idx"
   ]
  },
  {
   "cell_type": "markdown",
   "id": "fc95c31a-26c7-4df8-8364-e60996ce31e6",
   "metadata": {},
   "source": [
    "## 'B-P-EC-Diag:DiagV-DiagVdftGrn'"
   ]
  },
  {
   "cell_type": "code",
   "execution_count": 8,
   "id": "ad6547e0-b798-4716-a3ef-532c7fdcad24",
   "metadata": {},
   "outputs": [
    {
     "data": {
      "text/plain": [
       "array([[[[ 51,  73,  63, ...,   0,   0,   0],\n",
       "         [ 89,  15,   0, ...,   0,   0,   0],\n",
       "         [  2,  16,  44, ...,  15,   0,   0],\n",
       "         ...,\n",
       "         [  0,   0,   0, ...,   0,   0,   0],\n",
       "         [  0,   0,   0, ...,   0,   0,   0],\n",
       "         [  0,   0,   0, ...,   0,   0,   0]],\n",
       "\n",
       "        [[ 86,   3,  29, ...,   0,   0,   0],\n",
       "         [ 54,  49,  49, ...,   0,   0,   0],\n",
       "         [ 59,  36,  68, ...,   0,   0,   0],\n",
       "         ...,\n",
       "         [ 38,   0,   0, ...,   0,   0,   0],\n",
       "         [  0,   0,   0, ...,   0,   0,   0],\n",
       "         [  0,   0,   0, ...,   0,   0,   0]],\n",
       "\n",
       "        [[ 78,  41,   0, ...,   0,   0,   0],\n",
       "         [100,  53,   5, ...,   0,   0,   0],\n",
       "         [ 67,  54,  98, ...,   0,   0,   0],\n",
       "         ...,\n",
       "         [ 87,  12,   0, ...,   0,   0,   0],\n",
       "         [ 17,  65,  99, ...,  62,  10,  51],\n",
       "         [ 97,  39,  23, ...,   0,   0,   0]],\n",
       "\n",
       "        [[ 62,   0,   0, ...,   0,   0,   0],\n",
       "         [ 18,  68,  98, ...,   0,   0,   0],\n",
       "         [  0,   0,   0, ...,   0,   0,   0],\n",
       "         ...,\n",
       "         [  0,   0,   0, ...,   0,   0,   0],\n",
       "         [  0,   0,   0, ...,   0,   0,   0],\n",
       "         [  0,   0,   0, ...,   0,   0,   0]],\n",
       "\n",
       "        [[  2,  22,  52, ...,   0,   0,   0],\n",
       "         [  0,   0,   0, ...,   0,   0,   0],\n",
       "         [  0,   0,   0, ...,   0,   0,   0],\n",
       "         ...,\n",
       "         [  0,   0,   0, ...,   0,   0,   0],\n",
       "         [  0,   0,   0, ...,   0,   0,   0],\n",
       "         [  0,   0,   0, ...,   0,   0,   0]],\n",
       "\n",
       "        [[100,  46,   0, ...,   0,   0,   0],\n",
       "         [ 71,  62,  72, ...,   0,   0,   0],\n",
       "         [ 67,  34,   0, ...,   0,   0,   0],\n",
       "         ...,\n",
       "         [  0,   0,   0, ...,   0,   0,   0],\n",
       "         [  0,   0,   0, ...,   0,   0,   0],\n",
       "         [  0,   0,   0, ...,   0,   0,   0]]],\n",
       "\n",
       "\n",
       "       [[[ 36,  86,  19, ...,  65,   0,   0],\n",
       "         [ 48,  21,  78, ...,  71,  34,   0],\n",
       "         [ 61,   4,  13, ...,  59,  97,  13],\n",
       "         ...,\n",
       "         [  0,   0,   0, ...,   0,   0,   0],\n",
       "         [  0,   0,   0, ...,   0,   0,   0],\n",
       "         [  0,   0,   0, ...,   0,   0,   0]],\n",
       "\n",
       "        [[ 23, 100,  32, ...,  69,  33,  57],\n",
       "         [ 22,   0,   0, ...,   0,   0,   0],\n",
       "         [ 51,   9,   8, ...,  85,   0,   0],\n",
       "         ...,\n",
       "         [  0,   0,   0, ...,   0,   0,   0],\n",
       "         [  0,   0,   0, ...,   0,   0,   0],\n",
       "         [  0,   0,   0, ...,   0,   0,   0]],\n",
       "\n",
       "        [[ 27,  60,  36, ...,   0,   0,   0],\n",
       "         [ 13,   2,  67, ...,   0,   0,   0],\n",
       "         [  1,   3,  72, ...,   0,   0,   0],\n",
       "         ...,\n",
       "         [  0,   0,   0, ...,   0,   0,   0],\n",
       "         [  0,   0,   0, ...,   0,   0,   0],\n",
       "         [  0,   0,   0, ...,   0,   0,   0]],\n",
       "\n",
       "        [[  5,  51,  91, ...,  51,   0,   0],\n",
       "         [  0,   0,   0, ...,   0,   0,   0],\n",
       "         [  0,   0,   0, ...,   0,   0,   0],\n",
       "         ...,\n",
       "         [  0,   0,   0, ...,   0,   0,   0],\n",
       "         [  0,   0,   0, ...,   0,   0,   0],\n",
       "         [  0,   0,   0, ...,   0,   0,   0]],\n",
       "\n",
       "        [[  0,   0,   0, ...,   0,   0,   0],\n",
       "         [  0,   0,   0, ...,   0,   0,   0],\n",
       "         [  0,   0,   0, ...,   0,   0,   0],\n",
       "         ...,\n",
       "         [  0,   0,   0, ...,   0,   0,   0],\n",
       "         [  0,   0,   0, ...,   0,   0,   0],\n",
       "         [  0,   0,   0, ...,   0,   0,   0]],\n",
       "\n",
       "        [[  0,   0,   0, ...,   0,   0,   0],\n",
       "         [  0,   0,   0, ...,   0,   0,   0],\n",
       "         [  0,   0,   0, ...,   0,   0,   0],\n",
       "         ...,\n",
       "         [  0,   0,   0, ...,   0,   0,   0],\n",
       "         [  0,   0,   0, ...,   0,   0,   0],\n",
       "         [  0,   0,   0, ...,   0,   0,   0]]],\n",
       "\n",
       "\n",
       "       [[[  3,  69,  15, ...,   4,  17,  95],\n",
       "         [  0,   0,   0, ...,   0,   0,   0],\n",
       "         [  0,   0,   0, ...,   0,   0,   0],\n",
       "         ...,\n",
       "         [  0,   0,   0, ...,   0,   0,   0],\n",
       "         [  0,   0,   0, ...,   0,   0,   0],\n",
       "         [  0,   0,   0, ...,   0,   0,   0]],\n",
       "\n",
       "        [[  9,  22,   9, ...,   0,   0,   0],\n",
       "         [ 22,  91,  72, ...,  83,   0,   0],\n",
       "         [ 77,  54,  29, ...,   0,   0,   0],\n",
       "         ...,\n",
       "         [ 71,  43,  28, ...,  12,   0,   0],\n",
       "         [ 71,   0,   0, ...,   0,   0,   0],\n",
       "         [ 38,  70,  97, ...,   0,   0,   0]],\n",
       "\n",
       "        [[ 53,  32,  79, ...,  86,  33,  89],\n",
       "         [ 39,   0,   0, ...,   0,   0,   0],\n",
       "         [ 42,  41,  95, ...,   0,   0,   0],\n",
       "         ...,\n",
       "         [ 83,  84,  13, ...,  59,  19,   2],\n",
       "         [  6,   0,   0, ...,   0,   0,   0],\n",
       "         [ 81,  81,  24, ...,  50,  10,  91]],\n",
       "\n",
       "        [[  0,   0,   0, ...,   0,   0,   0],\n",
       "         [  0,   0,   0, ...,   0,   0,   0],\n",
       "         [  0,   0,   0, ...,   0,   0,   0],\n",
       "         ...,\n",
       "         [  0,   0,   0, ...,   0,   0,   0],\n",
       "         [  0,   0,   0, ...,   0,   0,   0],\n",
       "         [  0,   0,   0, ...,   0,   0,   0]],\n",
       "\n",
       "        [[  0,   0,   0, ...,   0,   0,   0],\n",
       "         [  0,   0,   0, ...,   0,   0,   0],\n",
       "         [  0,   0,   0, ...,   0,   0,   0],\n",
       "         ...,\n",
       "         [  0,   0,   0, ...,   0,   0,   0],\n",
       "         [  0,   0,   0, ...,   0,   0,   0],\n",
       "         [  0,   0,   0, ...,   0,   0,   0]],\n",
       "\n",
       "        [[  0,   0,   0, ...,   0,   0,   0],\n",
       "         [  0,   0,   0, ...,   0,   0,   0],\n",
       "         [  0,   0,   0, ...,   0,   0,   0],\n",
       "         ...,\n",
       "         [  0,   0,   0, ...,   0,   0,   0],\n",
       "         [  0,   0,   0, ...,   0,   0,   0],\n",
       "         [  0,   0,   0, ...,   0,   0,   0]]]])"
      ]
     },
     "execution_count": 8,
     "metadata": {},
     "output_type": "execute_result"
    }
   ],
   "source": [
    "data"
   ]
  },
  {
   "cell_type": "code",
   "execution_count": 9,
   "id": "83278f99-b140-4a8c-8a6c-979d18cc6b3f",
   "metadata": {},
   "outputs": [
    {
     "name": "stdout",
     "output_type": "stream",
     "text": [
      "torch.Size([3, 6, 8, 9])\n",
      "torch.Size([3, 6, 8, 9])\n",
      "torch.Size([3, 6, 8, 9])\n"
     ]
    },
    {
     "data": {
      "text/plain": [
       "tensor([[[[False, False, False,  ...,  True,  True,  True],\n",
       "          [False, False,  True,  ...,  True,  True,  True],\n",
       "          [False, False, False,  ..., False,  True,  True],\n",
       "          ...,\n",
       "          [ True,  True,  True,  ...,  True,  True,  True],\n",
       "          [ True,  True,  True,  ...,  True,  True,  True],\n",
       "          [ True,  True,  True,  ...,  True,  True,  True]],\n",
       "\n",
       "         [[False, False, False,  ...,  True,  True,  True],\n",
       "          [False, False, False,  ...,  True,  True,  True],\n",
       "          [False, False, False,  ...,  True,  True,  True],\n",
       "          ...,\n",
       "          [False,  True,  True,  ...,  True,  True,  True],\n",
       "          [ True,  True,  True,  ...,  True,  True,  True],\n",
       "          [ True,  True,  True,  ...,  True,  True,  True]],\n",
       "\n",
       "         [[False, False,  True,  ...,  True,  True,  True],\n",
       "          [False, False, False,  ...,  True,  True,  True],\n",
       "          [False, False, False,  ...,  True,  True,  True],\n",
       "          ...,\n",
       "          [False, False,  True,  ...,  True,  True,  True],\n",
       "          [False, False, False,  ..., False, False, False],\n",
       "          [False, False, False,  ...,  True,  True,  True]],\n",
       "\n",
       "         [[False,  True,  True,  ...,  True,  True,  True],\n",
       "          [False, False, False,  ...,  True,  True,  True],\n",
       "          [ True,  True,  True,  ...,  True,  True,  True],\n",
       "          ...,\n",
       "          [ True,  True,  True,  ...,  True,  True,  True],\n",
       "          [ True,  True,  True,  ...,  True,  True,  True],\n",
       "          [ True,  True,  True,  ...,  True,  True,  True]],\n",
       "\n",
       "         [[False, False, False,  ...,  True,  True,  True],\n",
       "          [ True,  True,  True,  ...,  True,  True,  True],\n",
       "          [ True,  True,  True,  ...,  True,  True,  True],\n",
       "          ...,\n",
       "          [ True,  True,  True,  ...,  True,  True,  True],\n",
       "          [ True,  True,  True,  ...,  True,  True,  True],\n",
       "          [ True,  True,  True,  ...,  True,  True,  True]],\n",
       "\n",
       "         [[False, False,  True,  ...,  True,  True,  True],\n",
       "          [False, False, False,  ...,  True,  True,  True],\n",
       "          [False, False,  True,  ...,  True,  True,  True],\n",
       "          ...,\n",
       "          [ True,  True,  True,  ...,  True,  True,  True],\n",
       "          [ True,  True,  True,  ...,  True,  True,  True],\n",
       "          [ True,  True,  True,  ...,  True,  True,  True]]],\n",
       "\n",
       "\n",
       "        [[[False, False, False,  ..., False,  True,  True],\n",
       "          [False, False, False,  ..., False, False,  True],\n",
       "          [False, False, False,  ..., False, False, False],\n",
       "          ...,\n",
       "          [ True,  True,  True,  ...,  True,  True,  True],\n",
       "          [ True,  True,  True,  ...,  True,  True,  True],\n",
       "          [ True,  True,  True,  ...,  True,  True,  True]],\n",
       "\n",
       "         [[False, False, False,  ..., False, False, False],\n",
       "          [False,  True,  True,  ...,  True,  True,  True],\n",
       "          [False, False, False,  ..., False,  True,  True],\n",
       "          ...,\n",
       "          [ True,  True,  True,  ...,  True,  True,  True],\n",
       "          [ True,  True,  True,  ...,  True,  True,  True],\n",
       "          [ True,  True,  True,  ...,  True,  True,  True]],\n",
       "\n",
       "         [[False, False, False,  ...,  True,  True,  True],\n",
       "          [False, False, False,  ...,  True,  True,  True],\n",
       "          [False, False, False,  ...,  True,  True,  True],\n",
       "          ...,\n",
       "          [ True,  True,  True,  ...,  True,  True,  True],\n",
       "          [ True,  True,  True,  ...,  True,  True,  True],\n",
       "          [ True,  True,  True,  ...,  True,  True,  True]],\n",
       "\n",
       "         [[False, False, False,  ..., False,  True,  True],\n",
       "          [ True,  True,  True,  ...,  True,  True,  True],\n",
       "          [ True,  True,  True,  ...,  True,  True,  True],\n",
       "          ...,\n",
       "          [ True,  True,  True,  ...,  True,  True,  True],\n",
       "          [ True,  True,  True,  ...,  True,  True,  True],\n",
       "          [ True,  True,  True,  ...,  True,  True,  True]],\n",
       "\n",
       "         [[ True,  True,  True,  ...,  True,  True,  True],\n",
       "          [ True,  True,  True,  ...,  True,  True,  True],\n",
       "          [ True,  True,  True,  ...,  True,  True,  True],\n",
       "          ...,\n",
       "          [ True,  True,  True,  ...,  True,  True,  True],\n",
       "          [ True,  True,  True,  ...,  True,  True,  True],\n",
       "          [ True,  True,  True,  ...,  True,  True,  True]],\n",
       "\n",
       "         [[ True,  True,  True,  ...,  True,  True,  True],\n",
       "          [ True,  True,  True,  ...,  True,  True,  True],\n",
       "          [ True,  True,  True,  ...,  True,  True,  True],\n",
       "          ...,\n",
       "          [ True,  True,  True,  ...,  True,  True,  True],\n",
       "          [ True,  True,  True,  ...,  True,  True,  True],\n",
       "          [ True,  True,  True,  ...,  True,  True,  True]]],\n",
       "\n",
       "\n",
       "        [[[False, False, False,  ..., False, False, False],\n",
       "          [ True,  True,  True,  ...,  True,  True,  True],\n",
       "          [ True,  True,  True,  ...,  True,  True,  True],\n",
       "          ...,\n",
       "          [ True,  True,  True,  ...,  True,  True,  True],\n",
       "          [ True,  True,  True,  ...,  True,  True,  True],\n",
       "          [ True,  True,  True,  ...,  True,  True,  True]],\n",
       "\n",
       "         [[False, False, False,  ...,  True,  True,  True],\n",
       "          [False, False, False,  ..., False,  True,  True],\n",
       "          [False, False, False,  ...,  True,  True,  True],\n",
       "          ...,\n",
       "          [False, False, False,  ..., False,  True,  True],\n",
       "          [False,  True,  True,  ...,  True,  True,  True],\n",
       "          [False, False, False,  ...,  True,  True,  True]],\n",
       "\n",
       "         [[False, False, False,  ..., False, False, False],\n",
       "          [False,  True,  True,  ...,  True,  True,  True],\n",
       "          [False, False, False,  ...,  True,  True,  True],\n",
       "          ...,\n",
       "          [False, False, False,  ..., False, False, False],\n",
       "          [False,  True,  True,  ...,  True,  True,  True],\n",
       "          [False, False, False,  ..., False, False, False]],\n",
       "\n",
       "         [[ True,  True,  True,  ...,  True,  True,  True],\n",
       "          [ True,  True,  True,  ...,  True,  True,  True],\n",
       "          [ True,  True,  True,  ...,  True,  True,  True],\n",
       "          ...,\n",
       "          [ True,  True,  True,  ...,  True,  True,  True],\n",
       "          [ True,  True,  True,  ...,  True,  True,  True],\n",
       "          [ True,  True,  True,  ...,  True,  True,  True]],\n",
       "\n",
       "         [[ True,  True,  True,  ...,  True,  True,  True],\n",
       "          [ True,  True,  True,  ...,  True,  True,  True],\n",
       "          [ True,  True,  True,  ...,  True,  True,  True],\n",
       "          ...,\n",
       "          [ True,  True,  True,  ...,  True,  True,  True],\n",
       "          [ True,  True,  True,  ...,  True,  True,  True],\n",
       "          [ True,  True,  True,  ...,  True,  True,  True]],\n",
       "\n",
       "         [[ True,  True,  True,  ...,  True,  True,  True],\n",
       "          [ True,  True,  True,  ...,  True,  True,  True],\n",
       "          [ True,  True,  True,  ...,  True,  True,  True],\n",
       "          ...,\n",
       "          [ True,  True,  True,  ...,  True,  True,  True],\n",
       "          [ True,  True,  True,  ...,  True,  True,  True],\n",
       "          [ True,  True,  True,  ...,  True,  True,  True]]]])"
      ]
     },
     "execution_count": 9,
     "metadata": {},
     "output_type": "execute_result"
    }
   ],
   "source": [
    "import torch\n",
    "info_idx = torch.LongTensor(data)\n",
    "print(info_idx.shape)\n",
    "\n",
    "holder = info_idx\n",
    "\n",
    "leng_mask = holder == 0\n",
    "print(leng_mask.shape)\n",
    "leng = (leng_mask == 0).sum(-1)\n",
    "pos_idx = (leng_mask == False).cumsum(-1).masked_fill(leng_mask, 0)\n",
    "print(pos_idx.shape)\n",
    "\n",
    "leng_mask\n"
   ]
  },
  {
   "cell_type": "markdown",
   "id": "149f1f58-16cd-4fe0-8234-9106e57409f7",
   "metadata": {},
   "source": [
    "## 'B-P-EC-Diag:DiagV'\n",
    "\n",
    "or 'B-P-EC-Diag:DiagV:DiagVdftGrn'\n",
    "\n",
    "or 'B-P-EC-Diag:DiagV'"
   ]
  },
  {
   "cell_type": "code",
   "execution_count": 10,
   "id": "e17dccb6-4a1f-42e6-aa3e-005169d47d23",
   "metadata": {},
   "outputs": [
    {
     "name": "stdout",
     "output_type": "stream",
     "text": [
      "torch.Size([3, 6, 8])\n"
     ]
    },
    {
     "data": {
      "text/plain": [
       "tensor([[[False, False, False, False,  True,  True,  True,  True],\n",
       "         [False, False, False, False, False, False,  True,  True],\n",
       "         [False, False, False, False, False, False, False, False],\n",
       "         [False, False,  True,  True,  True,  True,  True,  True],\n",
       "         [False,  True,  True,  True,  True,  True,  True,  True],\n",
       "         [False, False, False, False,  True,  True,  True,  True]],\n",
       "\n",
       "        [[False, False, False, False,  True,  True,  True,  True],\n",
       "         [False, False, False,  True,  True,  True,  True,  True],\n",
       "         [False, False, False, False, False,  True,  True,  True],\n",
       "         [False,  True,  True,  True,  True,  True,  True,  True],\n",
       "         [ True,  True,  True,  True,  True,  True,  True,  True],\n",
       "         [ True,  True,  True,  True,  True,  True,  True,  True]],\n",
       "\n",
       "        [[False,  True,  True,  True,  True,  True,  True,  True],\n",
       "         [False, False, False, False, False, False, False, False],\n",
       "         [False, False, False, False, False, False, False, False],\n",
       "         [ True,  True,  True,  True,  True,  True,  True,  True],\n",
       "         [ True,  True,  True,  True,  True,  True,  True,  True],\n",
       "         [ True,  True,  True,  True,  True,  True,  True,  True]]])"
      ]
     },
     "execution_count": 10,
     "metadata": {},
     "output_type": "execute_result"
    }
   ],
   "source": [
    "# next layer\n",
    "holder = leng\n",
    "\n",
    "leng_mask = holder == 0\n",
    "print(leng_mask.shape)\n",
    "leng = (leng_mask == 0).sum(-1)\n",
    "\n",
    "leng_mask"
   ]
  },
  {
   "cell_type": "markdown",
   "id": "f1245360-2980-44fa-8c07-d8d0446c2946",
   "metadata": {},
   "source": [
    "## 'B-P-EC'\n",
    "\n",
    "or 'B-P-EC:Diag:DiagV:DiagVdftGrn'\n",
    "\n",
    "or 'B-P-EC:Diag:DiagV'\n",
    "\n",
    "or 'B-P-EC:Diag'\n",
    "\n",
    "or 'B-P-EC'\n"
   ]
  },
  {
   "cell_type": "code",
   "execution_count": 11,
   "id": "5aec6986-b083-4539-a710-5f7110433ced",
   "metadata": {},
   "outputs": [
    {
     "name": "stdout",
     "output_type": "stream",
     "text": [
      "torch.Size([3, 6])\n"
     ]
    },
    {
     "data": {
      "text/plain": [
       "tensor([[False, False, False, False, False, False],\n",
       "        [False, False, False, False,  True,  True],\n",
       "        [False, False, False,  True,  True,  True]])"
      ]
     },
     "execution_count": 11,
     "metadata": {},
     "output_type": "execute_result"
    }
   ],
   "source": [
    "holder = leng\n",
    "leng_mask = holder == 0\n",
    "print(leng_mask.shape)\n",
    "leng = (leng_mask == 0).sum(-1)\n",
    "\n",
    "leng_mask"
   ]
  },
  {
   "cell_type": "markdown",
   "id": "02c78f60-8067-4d31-9f77-a59976cf02ab",
   "metadata": {},
   "source": [
    "## B-P"
   ]
  },
  {
   "cell_type": "code",
   "execution_count": 12,
   "id": "a7912909-a658-4684-9d3d-a74f53fae24d",
   "metadata": {},
   "outputs": [
    {
     "name": "stdout",
     "output_type": "stream",
     "text": [
      "torch.Size([3])\n"
     ]
    },
    {
     "data": {
      "text/plain": [
       "tensor([False, False, False])"
      ]
     },
     "execution_count": 12,
     "metadata": {},
     "output_type": "execute_result"
    }
   ],
   "source": [
    "holder = leng\n",
    "leng_mask = holder == 0\n",
    "\n",
    "print(leng_mask.shape)\n",
    "leng_mask"
   ]
  },
  {
   "cell_type": "code",
   "execution_count": 13,
   "id": "012158cf-d453-4d71-b28b-09e4825d9567",
   "metadata": {},
   "outputs": [
    {
     "data": {
      "text/plain": [
       "tensor(3)"
      ]
     },
     "execution_count": 13,
     "metadata": {},
     "output_type": "execute_result"
    }
   ],
   "source": [
    "leng = (leng_mask == 0).sum(-1)\n",
    "leng"
   ]
  },
  {
   "cell_type": "code",
   "execution_count": 14,
   "id": "2c19b229-a8f1-4d9c-ad7d-725236ed4bf8",
   "metadata": {},
   "outputs": [
    {
     "data": {
      "text/plain": [
       "[6, 4, 3]"
      ]
     },
     "execution_count": 14,
     "metadata": {},
     "output_type": "execute_result"
    }
   ],
   "source": [
    "B2P_lnEC"
   ]
  }
 ],
 "metadata": {
  "kernelspec": {
   "display_name": "Python 3 (ipykernel)",
   "language": "python",
   "name": "python3"
  },
  "language_info": {
   "codemirror_mode": {
    "name": "ipython",
    "version": 3
   },
   "file_extension": ".py",
   "mimetype": "text/x-python",
   "name": "python",
   "nbconvert_exporter": "python",
   "pygments_lexer": "ipython3",
   "version": "3.9.6"
  }
 },
 "nbformat": 4,
 "nbformat_minor": 5
}
