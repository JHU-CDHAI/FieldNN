{
 "cells": [
  {
   "cell_type": "code",
   "execution_count": 1,
   "id": "10b52be6-2328-479f-873e-e2720c6d56fd",
   "metadata": {
    "tags": []
   },
   "outputs": [
    {
     "name": "stdout",
     "output_type": "stream",
     "text": [
      "/Users/floydluo/Library/CloudStorage/GoogleDrive-jjluo@terpmail.umd.edu/.shortcut-targets-by-id/1qNzMmGHCg5Xa63Vw3aKbZdMXvkfT2CgC/MedStar/MS_CODE/FieldNN\n"
     ]
    }
   ],
   "source": [
    "%cd .."
   ]
  },
  {
   "cell_type": "markdown",
   "id": "834e8add-db1f-431d-9b73-06ead0711a3c",
   "metadata": {},
   "source": [
    "# Read Raw Data"
   ]
  },
  {
   "cell_type": "code",
   "execution_count": 2,
   "id": "e3ff702a-b3f1-4fc4-bf30-45d337e13cc4",
   "metadata": {
    "tags": []
   },
   "outputs": [
    {
     "name": "stdout",
     "output_type": "stream",
     "text": [
      "data/Simulations/P.csv\n"
     ]
    }
   ],
   "source": [
    "import os \n",
    "import pandas as pd\n",
    "\n",
    "RecName = 'P'\n",
    "folder = 'data/Simulations/'\n",
    "raw_file_path =  os.path.join(folder, RecName) + '.csv'\n",
    "print(raw_file_path)\n"
   ]
  },
  {
   "cell_type": "code",
   "execution_count": 3,
   "id": "e434f2fb-e4ef-4ea8-9ca4-03018e507399",
   "metadata": {
    "tags": []
   },
   "outputs": [
    {
     "data": {
      "text/html": [
       "<div>\n",
       "<style scoped>\n",
       "    .dataframe tbody tr th:only-of-type {\n",
       "        vertical-align: middle;\n",
       "    }\n",
       "\n",
       "    .dataframe tbody tr th {\n",
       "        vertical-align: top;\n",
       "    }\n",
       "\n",
       "    .dataframe thead th {\n",
       "        text-align: right;\n",
       "    }\n",
       "</style>\n",
       "<table border=\"1\" class=\"dataframe\">\n",
       "  <thead>\n",
       "    <tr style=\"text-align: right;\">\n",
       "      <th></th>\n",
       "      <th>PID</th>\n",
       "      <th>age</th>\n",
       "      <th>basicInfo</th>\n",
       "    </tr>\n",
       "  </thead>\n",
       "  <tbody>\n",
       "    <tr>\n",
       "      <th>0</th>\n",
       "      <td>P0</td>\n",
       "      <td>52</td>\n",
       "      <td>Male&amp;B</td>\n",
       "    </tr>\n",
       "    <tr>\n",
       "      <th>1</th>\n",
       "      <td>P1</td>\n",
       "      <td>21</td>\n",
       "      <td>Male&amp;B</td>\n",
       "    </tr>\n",
       "    <tr>\n",
       "      <th>2</th>\n",
       "      <td>P2</td>\n",
       "      <td>23</td>\n",
       "      <td>Female&amp;B</td>\n",
       "    </tr>\n",
       "    <tr>\n",
       "      <th>3</th>\n",
       "      <td>P3</td>\n",
       "      <td>77</td>\n",
       "      <td>Female&amp;B</td>\n",
       "    </tr>\n",
       "    <tr>\n",
       "      <th>4</th>\n",
       "      <td>P4</td>\n",
       "      <td>23</td>\n",
       "      <td>Male&amp;A</td>\n",
       "    </tr>\n",
       "    <tr>\n",
       "      <th>5</th>\n",
       "      <td>P5</td>\n",
       "      <td>73</td>\n",
       "      <td>Female&amp;D</td>\n",
       "    </tr>\n",
       "    <tr>\n",
       "      <th>6</th>\n",
       "      <td>P6</td>\n",
       "      <td>34</td>\n",
       "      <td>Female&amp;A</td>\n",
       "    </tr>\n",
       "    <tr>\n",
       "      <th>7</th>\n",
       "      <td>P7</td>\n",
       "      <td>76</td>\n",
       "      <td>Male&amp;C</td>\n",
       "    </tr>\n",
       "  </tbody>\n",
       "</table>\n",
       "</div>"
      ],
      "text/plain": [
       "  PID  age basicInfo\n",
       "0  P0   52    Male&B\n",
       "1  P1   21    Male&B\n",
       "2  P2   23  Female&B\n",
       "3  P3   77  Female&B\n",
       "4  P4   23    Male&A\n",
       "5  P5   73  Female&D\n",
       "6  P6   34  Female&A\n",
       "7  P7   76    Male&C"
      ]
     },
     "execution_count": 3,
     "metadata": {},
     "output_type": "execute_result"
    }
   ],
   "source": [
    "\n",
    "# load all records\n",
    "df = pd.read_csv(raw_file_path)\n",
    "df"
   ]
  },
  {
   "cell_type": "markdown",
   "id": "e473f072-fe59-4316-84d2-d1d3a00c1838",
   "metadata": {},
   "source": [
    "# Preprocess\n",
    "\n",
    "TODO"
   ]
  },
  {
   "cell_type": "markdown",
   "id": "6afc1713-2671-4bd9-8674-39d99c7eab16",
   "metadata": {},
   "source": [
    "# Save To Disk by Bucket"
   ]
  },
  {
   "cell_type": "code",
   "execution_count": 4,
   "id": "0accd58d-ba45-4cb9-b0af-c3ec57ae998c",
   "metadata": {
    "tags": []
   },
   "outputs": [],
   "source": [
    "from recfldgrn.datapoint import convert_PID_to_PIDgroup\n",
    "from recfldgrn.datapoint import RANGE_SIZE, write_df_to_folders, load_df_data_from_folder"
   ]
  },
  {
   "cell_type": "code",
   "execution_count": 5,
   "id": "5de8a634-4b8f-425d-a485-4e99a0cf8281",
   "metadata": {
    "tags": []
   },
   "outputs": [
    {
     "name": "stdout",
     "output_type": "stream",
     "text": [
      "(8, 3) data/ProcData/RecFolder/P\n"
     ]
    }
   ],
   "source": [
    "rec_folder = 'data/ProcData/RecFolder'\n",
    "fullrec_folder = os.path.join(rec_folder, RecName)\n",
    "print(df.shape, fullrec_folder)\n",
    "\n",
    "if not os.path.exists(fullrec_folder): os.makedirs(fullrec_folder)\n",
    "write_df_to_folders(RecName, fullrec_folder, df)\n"
   ]
  },
  {
   "cell_type": "code",
   "execution_count": 6,
   "id": "2e469447-0d1b-4fd4-8904-acd21d9c8718",
   "metadata": {
    "tags": []
   },
   "outputs": [
    {
     "name": "stdout",
     "output_type": "stream",
     "text": [
      "data/ProcData/RecFolder\n",
      "<recfldgrn.datapoint.PatientDP object at 0x7f7de2098760>\n"
     ]
    },
    {
     "data": {
      "text/html": [
       "<div>\n",
       "<style scoped>\n",
       "    .dataframe tbody tr th:only-of-type {\n",
       "        vertical-align: middle;\n",
       "    }\n",
       "\n",
       "    .dataframe tbody tr th {\n",
       "        vertical-align: top;\n",
       "    }\n",
       "\n",
       "    .dataframe thead th {\n",
       "        text-align: right;\n",
       "    }\n",
       "</style>\n",
       "<table border=\"1\" class=\"dataframe\">\n",
       "  <thead>\n",
       "    <tr style=\"text-align: right;\">\n",
       "      <th></th>\n",
       "      <th>PID</th>\n",
       "      <th>age</th>\n",
       "      <th>basicInfo</th>\n",
       "    </tr>\n",
       "  </thead>\n",
       "  <tbody>\n",
       "    <tr>\n",
       "      <th>0</th>\n",
       "      <td>P4</td>\n",
       "      <td>23</td>\n",
       "      <td>Male&amp;A</td>\n",
       "    </tr>\n",
       "  </tbody>\n",
       "</table>\n",
       "</div>"
      ],
      "text/plain": [
       "  PID  age basicInfo\n",
       "0  P4   23    Male&A"
      ]
     },
     "execution_count": 6,
     "metadata": {},
     "output_type": "execute_result"
    }
   ],
   "source": [
    "from recfldgrn.datapoint import PatientDP\n",
    "print(rec_folder)\n",
    "PID = 'P4'\n",
    "Pat = PatientDP(PID, rec_folder, RANGE_SIZE)\n",
    "print(Pat)\n",
    "dfx = Pat.get_df_rec('P')\n",
    "dfx"
   ]
  },
  {
   "cell_type": "code",
   "execution_count": 7,
   "id": "2e15574f-d2a6-40c2-b57c-c88fa0d436d7",
   "metadata": {
    "tags": []
   },
   "outputs": [
    {
     "name": "stdout",
     "output_type": "stream",
     "text": [
      "data/ProcData/RecFolder/P\n"
     ]
    },
    {
     "data": {
      "text/html": [
       "<div>\n",
       "<style scoped>\n",
       "    .dataframe tbody tr th:only-of-type {\n",
       "        vertical-align: middle;\n",
       "    }\n",
       "\n",
       "    .dataframe tbody tr th {\n",
       "        vertical-align: top;\n",
       "    }\n",
       "\n",
       "    .dataframe thead th {\n",
       "        text-align: right;\n",
       "    }\n",
       "</style>\n",
       "<table border=\"1\" class=\"dataframe\">\n",
       "  <thead>\n",
       "    <tr style=\"text-align: right;\">\n",
       "      <th></th>\n",
       "      <th>PID</th>\n",
       "      <th>age</th>\n",
       "      <th>basicInfo</th>\n",
       "    </tr>\n",
       "  </thead>\n",
       "  <tbody>\n",
       "    <tr>\n",
       "      <th>0</th>\n",
       "      <td>P0</td>\n",
       "      <td>52</td>\n",
       "      <td>Male&amp;B</td>\n",
       "    </tr>\n",
       "    <tr>\n",
       "      <th>1</th>\n",
       "      <td>P1</td>\n",
       "      <td>21</td>\n",
       "      <td>Male&amp;B</td>\n",
       "    </tr>\n",
       "    <tr>\n",
       "      <th>2</th>\n",
       "      <td>P2</td>\n",
       "      <td>23</td>\n",
       "      <td>Female&amp;B</td>\n",
       "    </tr>\n",
       "    <tr>\n",
       "      <th>3</th>\n",
       "      <td>P3</td>\n",
       "      <td>77</td>\n",
       "      <td>Female&amp;B</td>\n",
       "    </tr>\n",
       "    <tr>\n",
       "      <th>4</th>\n",
       "      <td>P4</td>\n",
       "      <td>23</td>\n",
       "      <td>Male&amp;A</td>\n",
       "    </tr>\n",
       "    <tr>\n",
       "      <th>5</th>\n",
       "      <td>P5</td>\n",
       "      <td>73</td>\n",
       "      <td>Female&amp;D</td>\n",
       "    </tr>\n",
       "    <tr>\n",
       "      <th>6</th>\n",
       "      <td>P6</td>\n",
       "      <td>34</td>\n",
       "      <td>Female&amp;A</td>\n",
       "    </tr>\n",
       "    <tr>\n",
       "      <th>7</th>\n",
       "      <td>P7</td>\n",
       "      <td>76</td>\n",
       "      <td>Male&amp;C</td>\n",
       "    </tr>\n",
       "  </tbody>\n",
       "</table>\n",
       "</div>"
      ],
      "text/plain": [
       "  PID  age basicInfo\n",
       "0  P0   52    Male&B\n",
       "1  P1   21    Male&B\n",
       "2  P2   23  Female&B\n",
       "3  P3   77  Female&B\n",
       "4  P4   23    Male&A\n",
       "5  P5   73  Female&D\n",
       "6  P6   34  Female&A\n",
       "7  P7   76    Male&C"
      ]
     },
     "execution_count": 7,
     "metadata": {},
     "output_type": "execute_result"
    }
   ],
   "source": [
    "from recfldgrn.datapoint import load_df_data_from_folder\n",
    "print(fullrec_folder)\n",
    "df = load_df_data_from_folder(fullrec_folder)\n",
    "df"
   ]
  },
  {
   "cell_type": "markdown",
   "id": "0d5e6a0f-041b-4bb7-8c3c-243bf4413259",
   "metadata": {},
   "source": [
    "# Field & Grain"
   ]
  },
  {
   "cell_type": "code",
   "execution_count": 8,
   "id": "49c79dfc-3538-42bb-89c8-0f745737a0f2",
   "metadata": {
    "tags": []
   },
   "outputs": [],
   "source": [
    "FieldGrainInfo = []"
   ]
  },
  {
   "cell_type": "code",
   "execution_count": 9,
   "id": "71b269f4-806c-44b7-8e91-b6a926c49b93",
   "metadata": {
    "tags": []
   },
   "outputs": [],
   "source": [
    "RecName = 'P'\n",
    "prefix_ids = []\n",
    "focal_ids = ['PID']\n",
    "field_list = ['basicInfo', 'age']"
   ]
  },
  {
   "cell_type": "markdown",
   "id": "33aa0658-be8f-43d0-94c8-b03ef196fc34",
   "metadata": {},
   "source": [
    "## Field `basicInfo`"
   ]
  },
  {
   "cell_type": "code",
   "execution_count": 10,
   "id": "3978b37a-c3be-409d-b109-c6343cbbdc16",
   "metadata": {
    "tags": []
   },
   "outputs": [
    {
     "data": {
      "text/html": [
       "<div>\n",
       "<style scoped>\n",
       "    .dataframe tbody tr th:only-of-type {\n",
       "        vertical-align: middle;\n",
       "    }\n",
       "\n",
       "    .dataframe tbody tr th {\n",
       "        vertical-align: top;\n",
       "    }\n",
       "\n",
       "    .dataframe thead th {\n",
       "        text-align: right;\n",
       "    }\n",
       "</style>\n",
       "<table border=\"1\" class=\"dataframe\">\n",
       "  <thead>\n",
       "    <tr style=\"text-align: right;\">\n",
       "      <th></th>\n",
       "      <th>PID</th>\n",
       "      <th>basicInfo</th>\n",
       "    </tr>\n",
       "  </thead>\n",
       "  <tbody>\n",
       "    <tr>\n",
       "      <th>0</th>\n",
       "      <td>P0</td>\n",
       "      <td>Male&amp;B</td>\n",
       "    </tr>\n",
       "    <tr>\n",
       "      <th>1</th>\n",
       "      <td>P1</td>\n",
       "      <td>Male&amp;B</td>\n",
       "    </tr>\n",
       "    <tr>\n",
       "      <th>2</th>\n",
       "      <td>P2</td>\n",
       "      <td>Female&amp;B</td>\n",
       "    </tr>\n",
       "    <tr>\n",
       "      <th>3</th>\n",
       "      <td>P3</td>\n",
       "      <td>Female&amp;B</td>\n",
       "    </tr>\n",
       "    <tr>\n",
       "      <th>4</th>\n",
       "      <td>P4</td>\n",
       "      <td>Male&amp;A</td>\n",
       "    </tr>\n",
       "    <tr>\n",
       "      <th>5</th>\n",
       "      <td>P5</td>\n",
       "      <td>Female&amp;D</td>\n",
       "    </tr>\n",
       "    <tr>\n",
       "      <th>6</th>\n",
       "      <td>P6</td>\n",
       "      <td>Female&amp;A</td>\n",
       "    </tr>\n",
       "    <tr>\n",
       "      <th>7</th>\n",
       "      <td>P7</td>\n",
       "      <td>Male&amp;C</td>\n",
       "    </tr>\n",
       "  </tbody>\n",
       "</table>\n",
       "</div>"
      ],
      "text/plain": [
       "  PID basicInfo\n",
       "0  P0    Male&B\n",
       "1  P1    Male&B\n",
       "2  P2  Female&B\n",
       "3  P3  Female&B\n",
       "4  P4    Male&A\n",
       "5  P5  Female&D\n",
       "6  P6  Female&A\n",
       "7  P7    Male&C"
      ]
     },
     "execution_count": 10,
     "metadata": {},
     "output_type": "execute_result"
    }
   ],
   "source": [
    "# (a) field and (b) get field-focused df\n",
    "field = 'basicInfo'\n",
    "dfx = df[prefix_ids + focal_ids + [field]]\n",
    "dfx"
   ]
  },
  {
   "cell_type": "markdown",
   "id": "588f5c71-cb29-4c15-9dc1-a18dcd4bbc11",
   "metadata": {},
   "source": [
    "### Grain `basicInfoDftGrn`"
   ]
  },
  {
   "cell_type": "code",
   "execution_count": 11,
   "id": "abc08c2d-d945-4485-8471-6e75cd38b45c",
   "metadata": {
    "tags": []
   },
   "outputs": [],
   "source": [
    "from recfldgrn.grains import Field2Grain_2_get_GrnStrList_Fn\n",
    "from recfldgrn.grains import Field2Grain_2_get_GrnIdxList_Fn\n",
    "from recfldgrn.grains import Field2Grain_2_get_GrnWgtList_Fn\n",
    "from recfldgrn.utils import generate_grain_vocab_info"
   ]
  },
  {
   "cell_type": "code",
   "execution_count": 12,
   "id": "350d4af0-7a4e-41d5-bbab-d77c116f4e47",
   "metadata": {
    "tags": []
   },
   "outputs": [
    {
     "name": "stdout",
     "output_type": "stream",
     "text": [
      "basicInfoDftGrn\n",
      "basicInfo-basicInfoDftGrn\n",
      "P@basicInfo-basicInfoDftGrn\n"
     ]
    }
   ],
   "source": [
    "# (c) grain\n",
    "grain = 'basicInfoDftGrn'\n",
    "field2grain = '-'.join([field, grain])\n",
    "recfield2grain = RecName + '@' + field2grain\n",
    "print(grain)\n",
    "print(field2grain)\n",
    "print(recfield2grain)"
   ]
  },
  {
   "cell_type": "code",
   "execution_count": 13,
   "id": "47a40ab2-8581-4d7f-b428-8f45d877e910",
   "metadata": {
    "tags": []
   },
   "outputs": [
    {
     "data": {
      "text/plain": [
       "0      [Male, B]\n",
       "1      [Male, B]\n",
       "2    [Female, B]\n",
       "3    [Female, B]\n",
       "4      [Male, A]\n",
       "5    [Female, D]\n",
       "6    [Female, A]\n",
       "7      [Male, C]\n",
       "Name: basicInfo, dtype: object"
      ]
     },
     "execution_count": 13,
     "metadata": {},
     "output_type": "execute_result"
    }
   ],
   "source": [
    "grain_str_fn = Field2Grain_2_get_GrnStrList_Fn[recfield2grain]\n",
    "s = dfx[field].apply(grain_str_fn)\n",
    "s"
   ]
  },
  {
   "cell_type": "code",
   "execution_count": 14,
   "id": "e631b03c-12a5-47a4-9933-3932673f3aa2",
   "metadata": {
    "tags": []
   },
   "outputs": [],
   "source": [
    "from recfldgrn.utils import generate_grain_vocab_info\n",
    "Vocab = generate_grain_vocab_info(s) # load from disk\n",
    "v2idx = Vocab['v2idx']"
   ]
  },
  {
   "cell_type": "code",
   "execution_count": 15,
   "id": "08471b52-78f1-413c-822c-87f873b4ea20",
   "metadata": {
    "tags": []
   },
   "outputs": [
    {
     "data": {
      "text/plain": [
       "0    [0, 1]\n",
       "1    [0, 1]\n",
       "2    [2, 1]\n",
       "3    [2, 1]\n",
       "4    [0, 3]\n",
       "5    [2, 4]\n",
       "6    [2, 3]\n",
       "7    [0, 5]\n",
       "Name: basicInfo, dtype: object"
      ]
     },
     "execution_count": 15,
     "metadata": {},
     "output_type": "execute_result"
    }
   ],
   "source": [
    "grain_idx_fn = Field2Grain_2_get_GrnIdxList_Fn[recfield2grain]\n",
    "s = dfx[field].apply(lambda x: grain_idx_fn(x, v2idx))\n",
    "s"
   ]
  },
  {
   "cell_type": "code",
   "execution_count": 16,
   "id": "b8e70d29-4219-40ba-b389-5a3ec3bf77f4",
   "metadata": {
    "tags": []
   },
   "outputs": [
    {
     "name": "stdout",
     "output_type": "stream",
     "text": [
      "{'Male': 0, 'B': 1, 'Female': 2, 'A': 3, 'D': 4, 'C': 5}\n"
     ]
    },
    {
     "data": {
      "text/plain": [
       "0    [0, 1]\n",
       "1    [0, 1]\n",
       "2    [2, 1]\n",
       "3    [2, 1]\n",
       "4    [0, 3]\n",
       "5    [2, 4]\n",
       "6    [2, 3]\n",
       "7    [0, 5]\n",
       "Name: basicInfo, dtype: object"
      ]
     },
     "execution_count": 16,
     "metadata": {},
     "output_type": "execute_result"
    }
   ],
   "source": [
    "from recfldgrn.grains.misc.dt_grn import load_DTgrn_Dictionary\n",
    "from transformers import AutoTokenizer\n",
    "\n",
    "if 'Nume' in grain:\n",
    "    # print('Current grain is a numeric grain')\n",
    "    grain_wgt_fn = Field2Grain_2_get_GrnWgtList_Fn[recfield2grain]\n",
    "    series_wgt = dfx[field].apply(grain_wgt_fn)\n",
    "    Vocab = {'v2idx': len(series_wgt.iloc[0]) * [1]}\n",
    "    v2idx = Vocab['v2idx']\n",
    "\n",
    "elif 'DT' in grain:\n",
    "    grain_str_fn = Field2Grain_2_get_GrnStrList_Fn[recfield2grain]\n",
    "    series_str = dfx[field].apply(grain_str_fn)\n",
    "    Vocab = load_DTgrn_Dictionary()\n",
    "    v2idx = Vocab['v2idx']\n",
    "    \n",
    "elif 'Tknz' in grain:\n",
    "    tokenizer = AutoTokenizer.from_pretrained(\"bert-base-uncased\")\n",
    "    v2idx = tokenizer\n",
    "    Vocab = {'v2idx': v2idx}\n",
    "\n",
    "else:\n",
    "    grain_str_fn = Field2Grain_2_get_GrnStrList_Fn[recfield2grain]\n",
    "    series_str = dfx[field].apply(grain_str_fn)\n",
    "    Vocab = generate_grain_vocab_info(series_str)\n",
    "    v2idx = Vocab['v2idx']\n",
    "\n",
    "print(v2idx)\n",
    "grain_idx_fn = Field2Grain_2_get_GrnIdxList_Fn[recfield2grain]\n",
    "series_idx = dfx[field].apply(lambda x: grain_idx_fn(x, v2idx))\n",
    "series_idx\n"
   ]
  },
  {
   "cell_type": "code",
   "execution_count": 17,
   "id": "df8e390b-9081-4d03-9f79-afefd8da6386",
   "metadata": {
    "tags": []
   },
   "outputs": [],
   "source": [
    "d = {}\n",
    "d['RecName'] = RecName\n",
    "\n",
    "d['prefix_ids'] = prefix_ids\n",
    "d['focal_ids'] = focal_ids \n",
    "d['field_list'] = field_list\n",
    "\n",
    "d['field'] = field\n",
    "d['grain'] = grain\n",
    "d['field2grain'] = field2grain\n",
    "d['recfield2grain'] = recfield2grain\n",
    "d['Vocab'] = Vocab\n",
    "\n",
    "FieldGrainInfo.append(d)"
   ]
  },
  {
   "cell_type": "markdown",
   "id": "17269be5-8f61-4980-a1a7-5dbdb55d6410",
   "metadata": {},
   "source": [
    "## Field `Age`"
   ]
  },
  {
   "cell_type": "code",
   "execution_count": 18,
   "id": "544baac0-2f0f-4812-bcff-aab9c8d83d7f",
   "metadata": {
    "tags": []
   },
   "outputs": [
    {
     "data": {
      "text/html": [
       "<div>\n",
       "<style scoped>\n",
       "    .dataframe tbody tr th:only-of-type {\n",
       "        vertical-align: middle;\n",
       "    }\n",
       "\n",
       "    .dataframe tbody tr th {\n",
       "        vertical-align: top;\n",
       "    }\n",
       "\n",
       "    .dataframe thead th {\n",
       "        text-align: right;\n",
       "    }\n",
       "</style>\n",
       "<table border=\"1\" class=\"dataframe\">\n",
       "  <thead>\n",
       "    <tr style=\"text-align: right;\">\n",
       "      <th></th>\n",
       "      <th>PID</th>\n",
       "      <th>age</th>\n",
       "    </tr>\n",
       "  </thead>\n",
       "  <tbody>\n",
       "    <tr>\n",
       "      <th>0</th>\n",
       "      <td>P0</td>\n",
       "      <td>52</td>\n",
       "    </tr>\n",
       "    <tr>\n",
       "      <th>1</th>\n",
       "      <td>P1</td>\n",
       "      <td>21</td>\n",
       "    </tr>\n",
       "    <tr>\n",
       "      <th>2</th>\n",
       "      <td>P2</td>\n",
       "      <td>23</td>\n",
       "    </tr>\n",
       "    <tr>\n",
       "      <th>3</th>\n",
       "      <td>P3</td>\n",
       "      <td>77</td>\n",
       "    </tr>\n",
       "    <tr>\n",
       "      <th>4</th>\n",
       "      <td>P4</td>\n",
       "      <td>23</td>\n",
       "    </tr>\n",
       "    <tr>\n",
       "      <th>5</th>\n",
       "      <td>P5</td>\n",
       "      <td>73</td>\n",
       "    </tr>\n",
       "    <tr>\n",
       "      <th>6</th>\n",
       "      <td>P6</td>\n",
       "      <td>34</td>\n",
       "    </tr>\n",
       "    <tr>\n",
       "      <th>7</th>\n",
       "      <td>P7</td>\n",
       "      <td>76</td>\n",
       "    </tr>\n",
       "  </tbody>\n",
       "</table>\n",
       "</div>"
      ],
      "text/plain": [
       "  PID  age\n",
       "0  P0   52\n",
       "1  P1   21\n",
       "2  P2   23\n",
       "3  P3   77\n",
       "4  P4   23\n",
       "5  P5   73\n",
       "6  P6   34\n",
       "7  P7   76"
      ]
     },
     "execution_count": 18,
     "metadata": {},
     "output_type": "execute_result"
    }
   ],
   "source": [
    "# (a) field and (b) get field-focused df\n",
    "field = 'age'\n",
    "dfx = df[prefix_ids + focal_ids + [field]]\n",
    "dfx"
   ]
  },
  {
   "cell_type": "markdown",
   "id": "a2d95607-bbdc-4267-93ad-3ba55e5b5298",
   "metadata": {},
   "source": [
    "### AgeNumeGrn"
   ]
  },
  {
   "cell_type": "code",
   "execution_count": 19,
   "id": "8ecb820d-a040-4386-92df-8012a093bb7c",
   "metadata": {
    "tags": []
   },
   "outputs": [
    {
     "name": "stdout",
     "output_type": "stream",
     "text": [
      "AgeNumeDftGrn\n",
      "age-AgeNumeDftGrn\n",
      "P@age-AgeNumeDftGrn\n"
     ]
    }
   ],
   "source": [
    "# (c) grain\n",
    "grain = 'AgeNumeDftGrn'\n",
    "field2grain = '-'.join([field, grain])\n",
    "recfield2grain = RecName + '@' + field2grain\n",
    "print(grain)\n",
    "print(field2grain)\n",
    "print(recfield2grain)"
   ]
  },
  {
   "cell_type": "code",
   "execution_count": 20,
   "id": "c9236268-2131-41d6-af56-3d3e4281fda8",
   "metadata": {
    "tags": []
   },
   "outputs": [
    {
     "name": "stdout",
     "output_type": "stream",
     "text": [
      "[1, 1, 1, 1, 1, 1, 1, 1, 1, 1, 1, 1, 1, 1, 1, 1, 1, 1, 1]\n"
     ]
    },
    {
     "data": {
      "text/plain": [
       "0    [1, 1, 1, 1, 1, 1, 1, 1, 1, 1, 1, 1, 1, 1, 1, ...\n",
       "1    [1, 1, 1, 1, 1, 1, 1, 1, 1, 1, 1, 1, 1, 1, 1, ...\n",
       "2    [1, 1, 1, 1, 1, 1, 1, 1, 1, 1, 1, 1, 1, 1, 1, ...\n",
       "3    [1, 1, 1, 1, 1, 1, 1, 1, 1, 1, 1, 1, 1, 1, 1, ...\n",
       "4    [1, 1, 1, 1, 1, 1, 1, 1, 1, 1, 1, 1, 1, 1, 1, ...\n",
       "5    [1, 1, 1, 1, 1, 1, 1, 1, 1, 1, 1, 1, 1, 1, 1, ...\n",
       "6    [1, 1, 1, 1, 1, 1, 1, 1, 1, 1, 1, 1, 1, 1, 1, ...\n",
       "7    [1, 1, 1, 1, 1, 1, 1, 1, 1, 1, 1, 1, 1, 1, 1, ...\n",
       "Name: age, dtype: object"
      ]
     },
     "execution_count": 20,
     "metadata": {},
     "output_type": "execute_result"
    }
   ],
   "source": [
    "from recfldgrn.grains.misc.dt_grn import load_DTgrn_Dictionary\n",
    "from transformers import AutoTokenizer\n",
    "\n",
    "if 'Nume' in grain:\n",
    "    # print('Current grain is a numeric grain')\n",
    "    grain_wgt_fn = Field2Grain_2_get_GrnWgtList_Fn[recfield2grain]\n",
    "    series_wgt = dfx[field].apply(grain_wgt_fn)\n",
    "    Vocab = {'v2idx': len(series_wgt.iloc[0]) * [1]}\n",
    "    v2idx = Vocab['v2idx']\n",
    "\n",
    "elif 'DT' in grain:\n",
    "    grain_str_fn = Field2Grain_2_get_GrnStrList_Fn[recfield2grain]\n",
    "    series_str = dfx[field].apply(grain_str_fn)\n",
    "    Vocab = load_DTgrn_Dictionary()\n",
    "    v2idx = Vocab['v2idx']\n",
    "    \n",
    "elif 'Tknz' in grain:\n",
    "    tokenizer = AutoTokenizer.from_pretrained(\"bert-base-uncased\")\n",
    "    v2idx = tokenizer\n",
    "    Vocab = {'v2idx': v2idx}\n",
    "\n",
    "else:\n",
    "    grain_str_fn = Field2Grain_2_get_GrnStrList_Fn[recfield2grain]\n",
    "    series_str = dfx[field].apply(grain_str_fn)\n",
    "    Vocab = generate_grain_vocab_info(series_str)\n",
    "    v2idx = Vocab['v2idx']\n",
    "\n",
    "print(v2idx)\n",
    "grain_idx_fn = Field2Grain_2_get_GrnIdxList_Fn[recfield2grain]\n",
    "series_idx = dfx[field].apply(lambda x: grain_idx_fn(x, v2idx))\n",
    "series_idx\n"
   ]
  },
  {
   "cell_type": "code",
   "execution_count": 21,
   "id": "1cfa622a-b396-41eb-9ea7-d994d01e7476",
   "metadata": {
    "tags": []
   },
   "outputs": [],
   "source": [
    "d = {}\n",
    "d['RecName'] = RecName\n",
    "\n",
    "d['prefix_ids'] = prefix_ids\n",
    "d['focal_ids'] = focal_ids \n",
    "d['field_list'] = field_list\n",
    "\n",
    "\n",
    "d['field'] = field\n",
    "d['grain'] = grain\n",
    "d['field2grain'] = field2grain\n",
    "d['recfield2grain'] = recfield2grain\n",
    "d['Vocab'] = Vocab\n",
    "\n",
    "FieldGrainInfo.append(d)"
   ]
  },
  {
   "cell_type": "markdown",
   "id": "9dae8268-b49e-4944-a372-47c763ec9dfd",
   "metadata": {},
   "source": [
    "# Save Field Grain Info\n",
    "\n"
   ]
  },
  {
   "cell_type": "code",
   "execution_count": 22,
   "id": "d5ccbac2-b6b5-42d3-9e6d-e088b63d644c",
   "metadata": {
    "tags": []
   },
   "outputs": [
    {
     "data": {
      "text/html": [
       "<div>\n",
       "<style scoped>\n",
       "    .dataframe tbody tr th:only-of-type {\n",
       "        vertical-align: middle;\n",
       "    }\n",
       "\n",
       "    .dataframe tbody tr th {\n",
       "        vertical-align: top;\n",
       "    }\n",
       "\n",
       "    .dataframe thead th {\n",
       "        text-align: right;\n",
       "    }\n",
       "</style>\n",
       "<table border=\"1\" class=\"dataframe\">\n",
       "  <thead>\n",
       "    <tr style=\"text-align: right;\">\n",
       "      <th></th>\n",
       "      <th>RecName</th>\n",
       "      <th>prefix_ids</th>\n",
       "      <th>focal_ids</th>\n",
       "      <th>field_list</th>\n",
       "      <th>field</th>\n",
       "      <th>grain</th>\n",
       "      <th>field2grain</th>\n",
       "      <th>recfield2grain</th>\n",
       "      <th>Vocab</th>\n",
       "    </tr>\n",
       "  </thead>\n",
       "  <tbody>\n",
       "    <tr>\n",
       "      <th>0</th>\n",
       "      <td>P</td>\n",
       "      <td>[]</td>\n",
       "      <td>[PID]</td>\n",
       "      <td>[basicInfo, age]</td>\n",
       "      <td>basicInfo</td>\n",
       "      <td>basicInfoDftGrn</td>\n",
       "      <td>basicInfo-basicInfoDftGrn</td>\n",
       "      <td>P@basicInfo-basicInfoDftGrn</td>\n",
       "      <td>{'idx2v': {0: 'Male', 1: 'B', 2: 'Female', 3: ...</td>\n",
       "    </tr>\n",
       "    <tr>\n",
       "      <th>1</th>\n",
       "      <td>P</td>\n",
       "      <td>[]</td>\n",
       "      <td>[PID]</td>\n",
       "      <td>[basicInfo, age]</td>\n",
       "      <td>age</td>\n",
       "      <td>AgeNumeDftGrn</td>\n",
       "      <td>age-AgeNumeDftGrn</td>\n",
       "      <td>P@age-AgeNumeDftGrn</td>\n",
       "      <td>{'v2idx': [1, 1, 1, 1, 1, 1, 1, 1, 1, 1, 1, 1,...</td>\n",
       "    </tr>\n",
       "  </tbody>\n",
       "</table>\n",
       "</div>"
      ],
      "text/plain": [
       "  RecName prefix_ids focal_ids        field_list      field            grain  \\\n",
       "0       P         []     [PID]  [basicInfo, age]  basicInfo  basicInfoDftGrn   \n",
       "1       P         []     [PID]  [basicInfo, age]        age    AgeNumeDftGrn   \n",
       "\n",
       "                 field2grain               recfield2grain  \\\n",
       "0  basicInfo-basicInfoDftGrn  P@basicInfo-basicInfoDftGrn   \n",
       "1          age-AgeNumeDftGrn          P@age-AgeNumeDftGrn   \n",
       "\n",
       "                                               Vocab  \n",
       "0  {'idx2v': {0: 'Male', 1: 'B', 2: 'Female', 3: ...  \n",
       "1  {'v2idx': [1, 1, 1, 1, 1, 1, 1, 1, 1, 1, 1, 1,...  "
      ]
     },
     "execution_count": 22,
     "metadata": {},
     "output_type": "execute_result"
    }
   ],
   "source": [
    "df_FieldGrainInfo = pd.DataFrame(FieldGrainInfo)\n",
    "df_FieldGrainInfo"
   ]
  },
  {
   "cell_type": "code",
   "execution_count": 23,
   "id": "40db996c-d8fa-4100-9d64-9ab55a6b5559",
   "metadata": {
    "tags": []
   },
   "outputs": [],
   "source": [
    "fldgrn_folder = 'data/ProcData/FldGrnInfo'\n",
    "\n",
    "if not os.path.exists(fldgrn_folder): os.makedirs(fldgrn_folder)\n",
    "\n",
    "fullfldgrn_file = os.path.join(fldgrn_folder, RecName + '.p')\n",
    "df_FieldGrainInfo.to_pickle(fullfldgrn_file)"
   ]
  },
  {
   "cell_type": "code",
   "execution_count": null,
   "id": "1aa254d3-fb3f-4278-baa5-8c120bfd31c2",
   "metadata": {},
   "outputs": [],
   "source": []
  }
 ],
 "metadata": {
  "kernelspec": {
   "display_name": "Python 3 (ipykernel)",
   "language": "python",
   "name": "python3"
  },
  "language_info": {
   "codemirror_mode": {
    "name": "ipython",
    "version": 3
   },
   "file_extension": ".py",
   "mimetype": "text/x-python",
   "name": "python",
   "nbconvert_exporter": "python",
   "pygments_lexer": "ipython3",
   "version": "3.8.8"
  }
 },
 "nbformat": 4,
 "nbformat_minor": 5
}
