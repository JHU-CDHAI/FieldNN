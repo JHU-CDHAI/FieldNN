{
 "cells": [
  {
   "cell_type": "code",
   "execution_count": 1,
   "id": "82a4ade6-2517-44ea-ac53-9fee492ae9c7",
   "metadata": {
    "tags": []
   },
   "outputs": [
    {
     "name": "stdout",
     "output_type": "stream",
     "text": [
      "/Users/floydluo/Library/CloudStorage/GoogleDrive-jjluo@terpmail.umd.edu/.shortcut-targets-by-id/1qNzMmGHCg5Xa63Vw3aKbZdMXvkfT2CgC/MedStar/MS_CODE/FieldNN\n"
     ]
    }
   ],
   "source": [
    "%cd .."
   ]
  },
  {
   "cell_type": "markdown",
   "id": "b8f7f518-05c9-4be9-a375-1c683fbbd605",
   "metadata": {},
   "source": [
    "# Patient Data Point"
   ]
  },
  {
   "cell_type": "code",
   "execution_count": 2,
   "id": "eb00a045-950d-4b72-a1d3-428ef957ea8f",
   "metadata": {
    "tags": []
   },
   "outputs": [
    {
     "data": {
      "text/plain": [
       "<recfldgrn.datapoint.PatientDP at 0x7fcce040c970>"
      ]
     },
     "execution_count": 2,
     "metadata": {},
     "output_type": "execute_result"
    }
   ],
   "source": [
    "from recfldgrn.datapoint import PatientDP, RANGE_SIZE\n",
    "\n",
    "PID = 'P4'\n",
    "rec_folder = 'data/ProcData/RecFolder/'\n",
    "Pat = PatientDP(PID, rec_folder, RANGE_SIZE)\n",
    "Pat"
   ]
  },
  {
   "cell_type": "markdown",
   "id": "9f5711b1-2157-48ec-ae85-45b3b64f166d",
   "metadata": {},
   "source": [
    "## Patient Record"
   ]
  },
  {
   "cell_type": "code",
   "execution_count": 3,
   "id": "7ea19a4a-6246-4297-a1d9-656a4e7cc805",
   "metadata": {
    "tags": []
   },
   "outputs": [
    {
     "data": {
      "text/html": [
       "<div>\n",
       "<style scoped>\n",
       "    .dataframe tbody tr th:only-of-type {\n",
       "        vertical-align: middle;\n",
       "    }\n",
       "\n",
       "    .dataframe tbody tr th {\n",
       "        vertical-align: top;\n",
       "    }\n",
       "\n",
       "    .dataframe thead th {\n",
       "        text-align: right;\n",
       "    }\n",
       "</style>\n",
       "<table border=\"1\" class=\"dataframe\">\n",
       "  <thead>\n",
       "    <tr style=\"text-align: right;\">\n",
       "      <th></th>\n",
       "      <th>PID</th>\n",
       "      <th>age</th>\n",
       "      <th>basicInfo</th>\n",
       "    </tr>\n",
       "  </thead>\n",
       "  <tbody>\n",
       "    <tr>\n",
       "      <th>0</th>\n",
       "      <td>P4</td>\n",
       "      <td>23</td>\n",
       "      <td>Male&amp;A</td>\n",
       "    </tr>\n",
       "  </tbody>\n",
       "</table>\n",
       "</div>"
      ],
      "text/plain": [
       "  PID  age basicInfo\n",
       "0  P4   23    Male&A"
      ]
     },
     "execution_count": 3,
     "metadata": {},
     "output_type": "execute_result"
    }
   ],
   "source": [
    "RecName = 'P'\n",
    "df = Pat.get_df_rec(RecName)\n",
    "df"
   ]
  },
  {
   "cell_type": "markdown",
   "id": "9a502eac-a8e6-4ddb-998f-0c2d7c2451b4",
   "metadata": {},
   "source": [
    "### Task Selection"
   ]
  },
  {
   "cell_type": "code",
   "execution_count": 4,
   "id": "c7b937e5-6685-4864-b121-819765aa98f1",
   "metadata": {
    "tags": []
   },
   "outputs": [
    {
     "data": {
      "text/plain": [
       "['P0', 'P1', 'P2', 'P3', 'P4', 'P5', 'P6', 'P7']"
      ]
     },
     "execution_count": 4,
     "metadata": {},
     "output_type": "execute_result"
    }
   ],
   "source": [
    "TaskName = 'Task2YearXXX'\n",
    "\n",
    "ELIG_PAT_SET = [f'P{i}' for i in range(0, 8)]\n",
    "ELIG_PAT_SET"
   ]
  },
  {
   "cell_type": "code",
   "execution_count": 5,
   "id": "0e68b259-197f-4852-8109-abb57cb11ef7",
   "metadata": {
    "tags": []
   },
   "outputs": [
    {
     "name": "stdout",
     "output_type": "stream",
     "text": [
      "data/ProcData/TensorFolder/Task2YearXXX\n"
     ]
    }
   ],
   "source": [
    "import os\n",
    "import pandas as pd\n",
    "\n",
    "Tensor_folder = 'data/ProcData/TensorFolder'\n",
    "TaskTensor_folder = os.path.join(Tensor_folder, TaskName)\n",
    "\n",
    "if not os.path.exists(TaskTensor_folder): os.makedirs(TaskTensor_folder)\n",
    "\n",
    "print(TaskTensor_folder)"
   ]
  },
  {
   "cell_type": "code",
   "execution_count": 6,
   "id": "1d481217-f7f7-4d3c-86f7-2f15cec0f321",
   "metadata": {
    "tags": []
   },
   "outputs": [
    {
     "name": "stdout",
     "output_type": "stream",
     "text": [
      "(8, 3)\n"
     ]
    },
    {
     "data": {
      "text/html": [
       "<div>\n",
       "<style scoped>\n",
       "    .dataframe tbody tr th:only-of-type {\n",
       "        vertical-align: middle;\n",
       "    }\n",
       "\n",
       "    .dataframe tbody tr th {\n",
       "        vertical-align: top;\n",
       "    }\n",
       "\n",
       "    .dataframe thead th {\n",
       "        text-align: right;\n",
       "    }\n",
       "</style>\n",
       "<table border=\"1\" class=\"dataframe\">\n",
       "  <thead>\n",
       "    <tr style=\"text-align: right;\">\n",
       "      <th></th>\n",
       "      <th>PID</th>\n",
       "      <th>age</th>\n",
       "      <th>basicInfo</th>\n",
       "    </tr>\n",
       "  </thead>\n",
       "  <tbody>\n",
       "    <tr>\n",
       "      <th>0</th>\n",
       "      <td>P0</td>\n",
       "      <td>52</td>\n",
       "      <td>Male&amp;B</td>\n",
       "    </tr>\n",
       "    <tr>\n",
       "      <th>0</th>\n",
       "      <td>P1</td>\n",
       "      <td>21</td>\n",
       "      <td>Male&amp;B</td>\n",
       "    </tr>\n",
       "    <tr>\n",
       "      <th>0</th>\n",
       "      <td>P2</td>\n",
       "      <td>23</td>\n",
       "      <td>Female&amp;B</td>\n",
       "    </tr>\n",
       "    <tr>\n",
       "      <th>0</th>\n",
       "      <td>P3</td>\n",
       "      <td>77</td>\n",
       "      <td>Female&amp;B</td>\n",
       "    </tr>\n",
       "    <tr>\n",
       "      <th>0</th>\n",
       "      <td>P4</td>\n",
       "      <td>23</td>\n",
       "      <td>Male&amp;A</td>\n",
       "    </tr>\n",
       "    <tr>\n",
       "      <th>0</th>\n",
       "      <td>P5</td>\n",
       "      <td>73</td>\n",
       "      <td>Female&amp;D</td>\n",
       "    </tr>\n",
       "    <tr>\n",
       "      <th>0</th>\n",
       "      <td>P6</td>\n",
       "      <td>34</td>\n",
       "      <td>Female&amp;A</td>\n",
       "    </tr>\n",
       "    <tr>\n",
       "      <th>0</th>\n",
       "      <td>P7</td>\n",
       "      <td>76</td>\n",
       "      <td>Male&amp;C</td>\n",
       "    </tr>\n",
       "  </tbody>\n",
       "</table>\n",
       "</div>"
      ],
      "text/plain": [
       "  PID  age basicInfo\n",
       "0  P0   52    Male&B\n",
       "0  P1   21    Male&B\n",
       "0  P2   23  Female&B\n",
       "0  P3   77  Female&B\n",
       "0  P4   23    Male&A\n",
       "0  P5   73  Female&D\n",
       "0  P6   34  Female&A\n",
       "0  P7   76    Male&C"
      ]
     },
     "execution_count": 6,
     "metadata": {},
     "output_type": "execute_result"
    }
   ],
   "source": [
    "RecName = 'P'\n",
    "\n",
    "df = pd.DataFrame()\n",
    "for PID in ELIG_PAT_SET:\n",
    "    Pat = PatientDP(PID, rec_folder, RANGE_SIZE)\n",
    "    dfx = Pat.get_df_rec(RecName)\n",
    "    # make some operation to select good dfx\n",
    "    dfx = dfx \n",
    "    df = pd.concat([df, dfx])\n",
    "    \n",
    "print(df.shape)\n",
    "df"
   ]
  },
  {
   "cell_type": "markdown",
   "id": "75a8a5c0-31f8-496e-9a28-7209349b0194",
   "metadata": {},
   "source": [
    "### Load Meta Info"
   ]
  },
  {
   "cell_type": "code",
   "execution_count": 7,
   "id": "135e3109-ac53-468c-a35e-ae0a15cb8361",
   "metadata": {
    "tags": []
   },
   "outputs": [
    {
     "data": {
      "text/html": [
       "<div>\n",
       "<style scoped>\n",
       "    .dataframe tbody tr th:only-of-type {\n",
       "        vertical-align: middle;\n",
       "    }\n",
       "\n",
       "    .dataframe tbody tr th {\n",
       "        vertical-align: top;\n",
       "    }\n",
       "\n",
       "    .dataframe thead th {\n",
       "        text-align: right;\n",
       "    }\n",
       "</style>\n",
       "<table border=\"1\" class=\"dataframe\">\n",
       "  <thead>\n",
       "    <tr style=\"text-align: right;\">\n",
       "      <th></th>\n",
       "      <th>RecName</th>\n",
       "      <th>prefix_ids</th>\n",
       "      <th>focal_ids</th>\n",
       "      <th>field_list</th>\n",
       "      <th>field</th>\n",
       "      <th>grain</th>\n",
       "      <th>field2grain</th>\n",
       "      <th>recfield2grain</th>\n",
       "      <th>Vocab</th>\n",
       "    </tr>\n",
       "  </thead>\n",
       "  <tbody>\n",
       "    <tr>\n",
       "      <th>0</th>\n",
       "      <td>P</td>\n",
       "      <td>[]</td>\n",
       "      <td>[PID]</td>\n",
       "      <td>[basicInfo, age]</td>\n",
       "      <td>basicInfo</td>\n",
       "      <td>basicInfoDftGrn</td>\n",
       "      <td>basicInfo-basicInfoDftGrn</td>\n",
       "      <td>P@basicInfo-basicInfoDftGrn</td>\n",
       "      <td>{'idx2v': {0: 'Male', 1: 'B', 2: 'Female', 3: ...</td>\n",
       "    </tr>\n",
       "    <tr>\n",
       "      <th>1</th>\n",
       "      <td>P</td>\n",
       "      <td>[]</td>\n",
       "      <td>[PID]</td>\n",
       "      <td>[basicInfo, age]</td>\n",
       "      <td>age</td>\n",
       "      <td>AgeNumeDftGrn</td>\n",
       "      <td>age-AgeNumeDftGrn</td>\n",
       "      <td>P@age-AgeNumeDftGrn</td>\n",
       "      <td>{'v2idx': [1, 1, 1, 1, 1, 1, 1, 1, 1, 1, 1, 1,...</td>\n",
       "    </tr>\n",
       "  </tbody>\n",
       "</table>\n",
       "</div>"
      ],
      "text/plain": [
       "  RecName prefix_ids focal_ids        field_list      field            grain  \\\n",
       "0       P         []     [PID]  [basicInfo, age]  basicInfo  basicInfoDftGrn   \n",
       "1       P         []     [PID]  [basicInfo, age]        age    AgeNumeDftGrn   \n",
       "\n",
       "                 field2grain               recfield2grain  \\\n",
       "0  basicInfo-basicInfoDftGrn  P@basicInfo-basicInfoDftGrn   \n",
       "1          age-AgeNumeDftGrn          P@age-AgeNumeDftGrn   \n",
       "\n",
       "                                               Vocab  \n",
       "0  {'idx2v': {0: 'Male', 1: 'B', 2: 'Female', 3: ...  \n",
       "1  {'v2idx': [1, 1, 1, 1, 1, 1, 1, 1, 1, 1, 1, 1,...  "
      ]
     },
     "execution_count": 7,
     "metadata": {},
     "output_type": "execute_result"
    }
   ],
   "source": [
    "import os\n",
    "import pandas as pd\n",
    "\n",
    "fldgrn_folder = 'data/ProcData/FldGrnInfo'\n",
    "\n",
    "fullfldgrn_file = os.path.join(fldgrn_folder, RecName + '.p')\n",
    "\n",
    "df_FieldGrainInfo = pd.read_pickle(fullfldgrn_file)\n",
    "df_FieldGrainInfo"
   ]
  },
  {
   "cell_type": "markdown",
   "id": "d59b90b4-d4f9-4aea-87d4-d5b6a0b033c8",
   "metadata": {},
   "source": [
    "### RecFldGrn `P@basicInfo-basicInfoDftGrn`"
   ]
  },
  {
   "cell_type": "code",
   "execution_count": 8,
   "id": "6642a79c-33b1-4a25-ad28-926c4d8cc1d5",
   "metadata": {
    "tags": []
   },
   "outputs": [],
   "source": [
    "from recfldgrn.grains import Field2Grain_2_get_GrnStrList_Fn\n",
    "from recfldgrn.grains import Field2Grain_2_get_GrnIdxList_Fn\n",
    "from recfldgrn.grains import Field2Grain_2_get_GrnWgtList_Fn\n",
    "from recfldgrn.utils import generate_grain_vocab_info\n",
    "from recfldgrn.utils import get_compressed_df\n",
    "from recfldgrn.datapoint import write_df_to_folders"
   ]
  },
  {
   "cell_type": "code",
   "execution_count": 9,
   "id": "fcb8c02d-adfb-4c4e-9df0-a4b4354c9607",
   "metadata": {
    "tags": []
   },
   "outputs": [],
   "source": [
    "from recfldgrn.utils import get_highorder_input_idx\n",
    "\n",
    "# def get_highorder_input_idx(df, recfield2grain, \n",
    "#                             v2idx, prefix_ids, focal_ids, \n",
    "#                             Field2Grain_2_get_GrnIdxList_Fn, \n",
    "#                             Field2Grain_2_get_GrnWgtList_Fn):\n",
    "    \n",
    "#     RecName, field = recfield2grain.split('-')[0].split('@')\n",
    "#     grain = recfield2grain.split('-')[-1]\n",
    "    \n",
    "#     suffix = '_idx' if 'Nume' not in recfield2grain else '_wgt'\n",
    "#     if suffix == '_idx':\n",
    "#         get_grn_idx_fn = Field2Grain_2_get_GrnIdxList_Fn[recfield2grain]\n",
    "#         df[recfield2grain + suffix] = df[field].apply(lambda x: get_grn_idx_fn(x, v2idx))\n",
    "#     elif suffix == '_wgt':\n",
    "#         get_grn_wgt_fn = Field2Grain_2_get_GrnWgtList_Fn[recfield2grain]\n",
    "#         df[recfield2grain + suffix] = df[field].apply(lambda x: get_grn_wgt_fn(x))\n",
    "#     else:\n",
    "#         raise ValueError(f'Incorrect suffix \"{suffix}\"')\n",
    "    \n",
    "    \n",
    "#     full_recfldgrn_name_c = recfield2grain + suffix\n",
    "#     top_id = df.columns[0] # need to double check this.\n",
    "    \n",
    "#     if len(prefix_ids) > 0:\n",
    "#         prefix_ids_c = prefix_ids\n",
    "#         df_Rec = df[prefix_ids_c + [full_recfldgrn_name_c]]\n",
    "#         for i in range(len(prefix_ids_c)):\n",
    "#             df_Rec, full_recfldgrn_name_c, prefix_ids_c = get_compressed_df(df_Rec, full_recfldgrn_name_c, prefix_ids_c)\n",
    "#     else:\n",
    "#         df_Rec = df[focal_ids + [full_recfldgrn_name_c]]\n",
    "\n",
    "#     # df_p = df_Rec#.set_index(top_id)\n",
    "#     df_p = df_Rec.reset_index(drop = True)\n",
    "#     return df_p"
   ]
  },
  {
   "cell_type": "code",
   "execution_count": 10,
   "id": "cb570ab8-d650-49ee-87ef-d6f86fb9467c",
   "metadata": {
    "tags": []
   },
   "outputs": [
    {
     "data": {
      "text/plain": [
       "'data/ProcData/TensorFolder/Task2YearXXX'"
      ]
     },
     "execution_count": 10,
     "metadata": {},
     "output_type": "execute_result"
    }
   ],
   "source": [
    "TaskTensor_folder"
   ]
  },
  {
   "cell_type": "code",
   "execution_count": 11,
   "id": "5711417c-33d2-4e9d-9a1c-78c22d2b8b62",
   "metadata": {
    "tags": []
   },
   "outputs": [
    {
     "name": "stdout",
     "output_type": "stream",
     "text": [
      "(8, 4) data/ProcData/TensorFolder/Task2YearXXX/P@basicInfo-basicInfoDftGrn\n"
     ]
    },
    {
     "data": {
      "text/html": [
       "<div>\n",
       "<style scoped>\n",
       "    .dataframe tbody tr th:only-of-type {\n",
       "        vertical-align: middle;\n",
       "    }\n",
       "\n",
       "    .dataframe tbody tr th {\n",
       "        vertical-align: top;\n",
       "    }\n",
       "\n",
       "    .dataframe thead th {\n",
       "        text-align: right;\n",
       "    }\n",
       "</style>\n",
       "<table border=\"1\" class=\"dataframe\">\n",
       "  <thead>\n",
       "    <tr style=\"text-align: right;\">\n",
       "      <th></th>\n",
       "      <th>PID</th>\n",
       "      <th>P@basicInfo-basicInfoDftGrn_idx</th>\n",
       "    </tr>\n",
       "  </thead>\n",
       "  <tbody>\n",
       "    <tr>\n",
       "      <th>0</th>\n",
       "      <td>P0</td>\n",
       "      <td>[0, 1]</td>\n",
       "    </tr>\n",
       "    <tr>\n",
       "      <th>1</th>\n",
       "      <td>P1</td>\n",
       "      <td>[0, 1]</td>\n",
       "    </tr>\n",
       "    <tr>\n",
       "      <th>2</th>\n",
       "      <td>P2</td>\n",
       "      <td>[2, 1]</td>\n",
       "    </tr>\n",
       "    <tr>\n",
       "      <th>3</th>\n",
       "      <td>P3</td>\n",
       "      <td>[2, 1]</td>\n",
       "    </tr>\n",
       "    <tr>\n",
       "      <th>4</th>\n",
       "      <td>P4</td>\n",
       "      <td>[0, 3]</td>\n",
       "    </tr>\n",
       "    <tr>\n",
       "      <th>5</th>\n",
       "      <td>P5</td>\n",
       "      <td>[2, 4]</td>\n",
       "    </tr>\n",
       "    <tr>\n",
       "      <th>6</th>\n",
       "      <td>P6</td>\n",
       "      <td>[2, 3]</td>\n",
       "    </tr>\n",
       "    <tr>\n",
       "      <th>7</th>\n",
       "      <td>P7</td>\n",
       "      <td>[0, 5]</td>\n",
       "    </tr>\n",
       "  </tbody>\n",
       "</table>\n",
       "</div>"
      ],
      "text/plain": [
       "  PID P@basicInfo-basicInfoDftGrn_idx\n",
       "0  P0                          [0, 1]\n",
       "1  P1                          [0, 1]\n",
       "2  P2                          [2, 1]\n",
       "3  P3                          [2, 1]\n",
       "4  P4                          [0, 3]\n",
       "5  P5                          [2, 4]\n",
       "6  P6                          [2, 3]\n",
       "7  P7                          [0, 5]"
      ]
     },
     "execution_count": 11,
     "metadata": {},
     "output_type": "execute_result"
    }
   ],
   "source": [
    "recfield2grain = 'P@basicInfo-basicInfoDftGrn'\n",
    "\n",
    "d = df_FieldGrainInfo[df_FieldGrainInfo['recfield2grain'] == recfield2grain].iloc[0]\n",
    "v2idx = d['Vocab']['v2idx']\n",
    "prefix_ids = d['prefix_ids']\n",
    "focal_ids = d['focal_ids']\n",
    "\n",
    "df_p = get_highorder_input_idx(df, recfield2grain, \n",
    "                               v2idx, prefix_ids, focal_ids,\n",
    "                               Field2Grain_2_get_GrnIdxList_Fn, \n",
    "                               Field2Grain_2_get_GrnWgtList_Fn)\n",
    "\n",
    "\n",
    "\n",
    "fullTaskTensor_folder = os.path.join(TaskTensor_folder, recfield2grain)\n",
    "print(df.shape, fullTaskTensor_folder)\n",
    "if not os.path.exists(fullTaskTensor_folder): os.makedirs(fullTaskTensor_folder)\n",
    "write_df_to_folders(recfield2grain, fullTaskTensor_folder, df_p)\n",
    "\n",
    "df_p"
   ]
  },
  {
   "cell_type": "markdown",
   "id": "b74ad689-41f2-4b27-b7ac-13f23a74d6bc",
   "metadata": {},
   "source": [
    "### RecFldGrn `P@age-AgeNumeDftGrn`"
   ]
  },
  {
   "cell_type": "code",
   "execution_count": 12,
   "id": "8d7fbdde-ce81-49c3-8246-6b4e1b835baf",
   "metadata": {
    "tags": []
   },
   "outputs": [
    {
     "data": {
      "text/html": [
       "<div>\n",
       "<style scoped>\n",
       "    .dataframe tbody tr th:only-of-type {\n",
       "        vertical-align: middle;\n",
       "    }\n",
       "\n",
       "    .dataframe tbody tr th {\n",
       "        vertical-align: top;\n",
       "    }\n",
       "\n",
       "    .dataframe thead th {\n",
       "        text-align: right;\n",
       "    }\n",
       "</style>\n",
       "<table border=\"1\" class=\"dataframe\">\n",
       "  <thead>\n",
       "    <tr style=\"text-align: right;\">\n",
       "      <th></th>\n",
       "      <th>PID</th>\n",
       "      <th>P@age-AgeNumeDftGrn_wgt</th>\n",
       "    </tr>\n",
       "  </thead>\n",
       "  <tbody>\n",
       "    <tr>\n",
       "      <th>0</th>\n",
       "      <td>P0</td>\n",
       "      <td>[0, 0, 0, 0, 0, 1, 1.0, 1.0, 1.0, 1.0, 1.0, 1....</td>\n",
       "    </tr>\n",
       "    <tr>\n",
       "      <th>1</th>\n",
       "      <td>P1</td>\n",
       "      <td>[0, 0, 0, 0, 0, 1, 0.6, 0.0, 0.0, 0.0, 0.0, 0....</td>\n",
       "    </tr>\n",
       "    <tr>\n",
       "      <th>2</th>\n",
       "      <td>P2</td>\n",
       "      <td>[0, 0, 0, 0, 0, 1, 1.0, 0.0, 0.0, 0.0, 0.0, 0....</td>\n",
       "    </tr>\n",
       "    <tr>\n",
       "      <th>3</th>\n",
       "      <td>P3</td>\n",
       "      <td>[0, 0, 0, 0, 0, 1, 1.0, 1.0, 1.0, 1.0, 1.0, 1....</td>\n",
       "    </tr>\n",
       "    <tr>\n",
       "      <th>4</th>\n",
       "      <td>P4</td>\n",
       "      <td>[0, 0, 0, 0, 0, 1, 1.0, 0.0, 0.0, 0.0, 0.0, 0....</td>\n",
       "    </tr>\n",
       "    <tr>\n",
       "      <th>5</th>\n",
       "      <td>P5</td>\n",
       "      <td>[0, 0, 0, 0, 0, 1, 1.0, 1.0, 1.0, 1.0, 1.0, 1....</td>\n",
       "    </tr>\n",
       "    <tr>\n",
       "      <th>6</th>\n",
       "      <td>P6</td>\n",
       "      <td>[0, 0, 0, 0, 0, 1, 1.0, 1.0, 1.0, 0.2, 0.0, 0....</td>\n",
       "    </tr>\n",
       "    <tr>\n",
       "      <th>7</th>\n",
       "      <td>P7</td>\n",
       "      <td>[0, 0, 0, 0, 0, 1, 1.0, 1.0, 1.0, 1.0, 1.0, 1....</td>\n",
       "    </tr>\n",
       "  </tbody>\n",
       "</table>\n",
       "</div>"
      ],
      "text/plain": [
       "  PID                            P@age-AgeNumeDftGrn_wgt\n",
       "0  P0  [0, 0, 0, 0, 0, 1, 1.0, 1.0, 1.0, 1.0, 1.0, 1....\n",
       "1  P1  [0, 0, 0, 0, 0, 1, 0.6, 0.0, 0.0, 0.0, 0.0, 0....\n",
       "2  P2  [0, 0, 0, 0, 0, 1, 1.0, 0.0, 0.0, 0.0, 0.0, 0....\n",
       "3  P3  [0, 0, 0, 0, 0, 1, 1.0, 1.0, 1.0, 1.0, 1.0, 1....\n",
       "4  P4  [0, 0, 0, 0, 0, 1, 1.0, 0.0, 0.0, 0.0, 0.0, 0....\n",
       "5  P5  [0, 0, 0, 0, 0, 1, 1.0, 1.0, 1.0, 1.0, 1.0, 1....\n",
       "6  P6  [0, 0, 0, 0, 0, 1, 1.0, 1.0, 1.0, 0.2, 0.0, 0....\n",
       "7  P7  [0, 0, 0, 0, 0, 1, 1.0, 1.0, 1.0, 1.0, 1.0, 1...."
      ]
     },
     "execution_count": 12,
     "metadata": {},
     "output_type": "execute_result"
    }
   ],
   "source": [
    "recfield2grain = 'P@age-AgeNumeDftGrn'\n",
    "\n",
    "\n",
    "d = df_FieldGrainInfo[df_FieldGrainInfo['recfield2grain'] == recfield2grain].iloc[0]\n",
    "v2idx = d['Vocab']['v2idx']\n",
    "prefix_ids = d['prefix_ids']\n",
    "focal_ids = d['focal_ids']\n",
    "\n",
    "df_p = get_highorder_input_idx(df, recfield2grain, \n",
    "                               v2idx, prefix_ids, focal_ids,\n",
    "                               Field2Grain_2_get_GrnIdxList_Fn, \n",
    "                               Field2Grain_2_get_GrnWgtList_Fn)\n",
    "\n",
    "df_p"
   ]
  },
  {
   "cell_type": "markdown",
   "id": "2167450f-5522-4f9b-b53c-509063fac241",
   "metadata": {},
   "source": [
    "## Encounter Records"
   ]
  },
  {
   "cell_type": "code",
   "execution_count": 13,
   "id": "e7d594e2-c379-4396-ab68-60035eae2c03",
   "metadata": {
    "tags": []
   },
   "outputs": [
    {
     "data": {
      "text/html": [
       "<div>\n",
       "<style scoped>\n",
       "    .dataframe tbody tr th:only-of-type {\n",
       "        vertical-align: middle;\n",
       "    }\n",
       "\n",
       "    .dataframe tbody tr th {\n",
       "        vertical-align: top;\n",
       "    }\n",
       "\n",
       "    .dataframe thead th {\n",
       "        text-align: right;\n",
       "    }\n",
       "</style>\n",
       "<table border=\"1\" class=\"dataframe\">\n",
       "  <thead>\n",
       "    <tr style=\"text-align: right;\">\n",
       "      <th></th>\n",
       "      <th>PID</th>\n",
       "      <th>ECID</th>\n",
       "      <th>DT_min</th>\n",
       "      <th>DT_max</th>\n",
       "      <th>BasicInfo</th>\n",
       "    </tr>\n",
       "  </thead>\n",
       "  <tbody>\n",
       "    <tr>\n",
       "      <th>0</th>\n",
       "      <td>P7</td>\n",
       "      <td>EC17</td>\n",
       "      <td>2023-03-18</td>\n",
       "      <td>2023-04-06</td>\n",
       "      <td>A&amp;W</td>\n",
       "    </tr>\n",
       "  </tbody>\n",
       "</table>\n",
       "</div>"
      ],
      "text/plain": [
       "  PID  ECID     DT_min     DT_max BasicInfo\n",
       "0  P7  EC17 2023-03-18 2023-04-06       A&W"
      ]
     },
     "execution_count": 13,
     "metadata": {},
     "output_type": "execute_result"
    }
   ],
   "source": [
    "RecName = 'EC'\n",
    "df = Pat.get_df_rec(RecName)\n",
    "df"
   ]
  },
  {
   "cell_type": "markdown",
   "id": "04c49761-28a3-4e58-b715-f0c563986cb0",
   "metadata": {},
   "source": [
    "### Task Selection"
   ]
  },
  {
   "cell_type": "code",
   "execution_count": 14,
   "id": "6f91f36f-bb22-4615-8842-623969ec10d3",
   "metadata": {
    "tags": []
   },
   "outputs": [
    {
     "name": "stdout",
     "output_type": "stream",
     "text": [
      "(225, 5)\n"
     ]
    },
    {
     "data": {
      "text/html": [
       "<div>\n",
       "<style scoped>\n",
       "    .dataframe tbody tr th:only-of-type {\n",
       "        vertical-align: middle;\n",
       "    }\n",
       "\n",
       "    .dataframe tbody tr th {\n",
       "        vertical-align: top;\n",
       "    }\n",
       "\n",
       "    .dataframe thead th {\n",
       "        text-align: right;\n",
       "    }\n",
       "</style>\n",
       "<table border=\"1\" class=\"dataframe\">\n",
       "  <thead>\n",
       "    <tr style=\"text-align: right;\">\n",
       "      <th></th>\n",
       "      <th>PID</th>\n",
       "      <th>ECID</th>\n",
       "      <th>DT_min</th>\n",
       "      <th>DT_max</th>\n",
       "      <th>BasicInfo</th>\n",
       "    </tr>\n",
       "  </thead>\n",
       "  <tbody>\n",
       "    <tr>\n",
       "      <th>0</th>\n",
       "      <td>P0</td>\n",
       "      <td>EC18</td>\n",
       "      <td>2023-03-18</td>\n",
       "      <td>2023-04-16</td>\n",
       "      <td>D&amp;X</td>\n",
       "    </tr>\n",
       "    <tr>\n",
       "      <th>1</th>\n",
       "      <td>P0</td>\n",
       "      <td>EC140</td>\n",
       "      <td>2023-03-19</td>\n",
       "      <td>2023-04-05</td>\n",
       "      <td>D&amp;X</td>\n",
       "    </tr>\n",
       "    <tr>\n",
       "      <th>2</th>\n",
       "      <td>P0</td>\n",
       "      <td>EC23</td>\n",
       "      <td>2023-03-19</td>\n",
       "      <td>2023-04-16</td>\n",
       "      <td>C&amp;W</td>\n",
       "    </tr>\n",
       "    <tr>\n",
       "      <th>3</th>\n",
       "      <td>P0</td>\n",
       "      <td>EC141</td>\n",
       "      <td>2023-03-20</td>\n",
       "      <td>2023-04-16</td>\n",
       "      <td>C&amp;Z</td>\n",
       "    </tr>\n",
       "    <tr>\n",
       "      <th>4</th>\n",
       "      <td>P0</td>\n",
       "      <td>EC142</td>\n",
       "      <td>2023-03-20</td>\n",
       "      <td>2023-04-15</td>\n",
       "      <td>B&amp;W</td>\n",
       "    </tr>\n",
       "    <tr>\n",
       "      <th>...</th>\n",
       "      <td>...</td>\n",
       "      <td>...</td>\n",
       "      <td>...</td>\n",
       "      <td>...</td>\n",
       "      <td>...</td>\n",
       "    </tr>\n",
       "    <tr>\n",
       "      <th>3</th>\n",
       "      <td>P6</td>\n",
       "      <td>EC15</td>\n",
       "      <td>2023-03-21</td>\n",
       "      <td>2023-04-09</td>\n",
       "      <td>B&amp;X</td>\n",
       "    </tr>\n",
       "    <tr>\n",
       "      <th>4</th>\n",
       "      <td>P6</td>\n",
       "      <td>EC93</td>\n",
       "      <td>2023-03-23</td>\n",
       "      <td>2023-04-04</td>\n",
       "      <td>B&amp;X</td>\n",
       "    </tr>\n",
       "    <tr>\n",
       "      <th>5</th>\n",
       "      <td>P6</td>\n",
       "      <td>EC195</td>\n",
       "      <td>2023-03-25</td>\n",
       "      <td>2023-03-25</td>\n",
       "      <td>C&amp;Z</td>\n",
       "    </tr>\n",
       "    <tr>\n",
       "      <th>6</th>\n",
       "      <td>P6</td>\n",
       "      <td>EC173</td>\n",
       "      <td>2023-04-05</td>\n",
       "      <td>2023-04-13</td>\n",
       "      <td>C&amp;W</td>\n",
       "    </tr>\n",
       "    <tr>\n",
       "      <th>0</th>\n",
       "      <td>P7</td>\n",
       "      <td>EC17</td>\n",
       "      <td>2023-03-18</td>\n",
       "      <td>2023-04-06</td>\n",
       "      <td>A&amp;W</td>\n",
       "    </tr>\n",
       "  </tbody>\n",
       "</table>\n",
       "<p>225 rows × 5 columns</p>\n",
       "</div>"
      ],
      "text/plain": [
       "   PID   ECID     DT_min     DT_max BasicInfo\n",
       "0   P0   EC18 2023-03-18 2023-04-16       D&X\n",
       "1   P0  EC140 2023-03-19 2023-04-05       D&X\n",
       "2   P0   EC23 2023-03-19 2023-04-16       C&W\n",
       "3   P0  EC141 2023-03-20 2023-04-16       C&Z\n",
       "4   P0  EC142 2023-03-20 2023-04-15       B&W\n",
       "..  ..    ...        ...        ...       ...\n",
       "3   P6   EC15 2023-03-21 2023-04-09       B&X\n",
       "4   P6   EC93 2023-03-23 2023-04-04       B&X\n",
       "5   P6  EC195 2023-03-25 2023-03-25       C&Z\n",
       "6   P6  EC173 2023-04-05 2023-04-13       C&W\n",
       "0   P7   EC17 2023-03-18 2023-04-06       A&W\n",
       "\n",
       "[225 rows x 5 columns]"
      ]
     },
     "execution_count": 14,
     "metadata": {},
     "output_type": "execute_result"
    }
   ],
   "source": [
    "RecName = 'EC'\n",
    "\n",
    "df = pd.DataFrame()\n",
    "for PID in ELIG_PAT_SET:\n",
    "    Pat = PatientDP(PID, rec_folder, RANGE_SIZE)\n",
    "    dfx = Pat.get_df_rec(RecName)\n",
    "    # make some operation to select good dfx\n",
    "    dfx = dfx \n",
    "    df = pd.concat([df, dfx])\n",
    "    \n",
    "print(df.shape)\n",
    "df"
   ]
  },
  {
   "cell_type": "markdown",
   "id": "629c9706-dd13-40af-b232-b1fd75f463b5",
   "metadata": {},
   "source": [
    "### Load Meta Info"
   ]
  },
  {
   "cell_type": "code",
   "execution_count": 15,
   "id": "46a42845-f324-44a9-8c43-b4f478ae8097",
   "metadata": {
    "tags": []
   },
   "outputs": [
    {
     "data": {
      "text/html": [
       "<div>\n",
       "<style scoped>\n",
       "    .dataframe tbody tr th:only-of-type {\n",
       "        vertical-align: middle;\n",
       "    }\n",
       "\n",
       "    .dataframe tbody tr th {\n",
       "        vertical-align: top;\n",
       "    }\n",
       "\n",
       "    .dataframe thead th {\n",
       "        text-align: right;\n",
       "    }\n",
       "</style>\n",
       "<table border=\"1\" class=\"dataframe\">\n",
       "  <thead>\n",
       "    <tr style=\"text-align: right;\">\n",
       "      <th></th>\n",
       "      <th>RecName</th>\n",
       "      <th>prefix_ids</th>\n",
       "      <th>focal_ids</th>\n",
       "      <th>field_list</th>\n",
       "      <th>field</th>\n",
       "      <th>grain</th>\n",
       "      <th>field2grain</th>\n",
       "      <th>recfield2grain</th>\n",
       "      <th>Vocab</th>\n",
       "    </tr>\n",
       "  </thead>\n",
       "  <tbody>\n",
       "    <tr>\n",
       "      <th>0</th>\n",
       "      <td>EC</td>\n",
       "      <td>[PID]</td>\n",
       "      <td>[ECID]</td>\n",
       "      <td>[BasicInfo, DT_min]</td>\n",
       "      <td>BasicInfo</td>\n",
       "      <td>BasicDftGrn</td>\n",
       "      <td>BasicInfo-BasicDftGrn</td>\n",
       "      <td>EC@BasicInfo-BasicDftGrn</td>\n",
       "      <td>{'idx2v': {0: 'X', 1: 'D', 2: 'Y', 3: 'B', 4: ...</td>\n",
       "    </tr>\n",
       "    <tr>\n",
       "      <th>1</th>\n",
       "      <td>EC</td>\n",
       "      <td>[PID]</td>\n",
       "      <td>[ECID]</td>\n",
       "      <td>[BasicInfo, DT_min]</td>\n",
       "      <td>DT_min</td>\n",
       "      <td>DTDftGrn</td>\n",
       "      <td>DT_min-DTDftGrn</td>\n",
       "      <td>EC@DT_min-DTDftGrn</td>\n",
       "      <td>{'idx2v': {0: '_missing', 1: 'Yx', 2: 'Y2010',...</td>\n",
       "    </tr>\n",
       "  </tbody>\n",
       "</table>\n",
       "</div>"
      ],
      "text/plain": [
       "  RecName prefix_ids focal_ids           field_list      field        grain  \\\n",
       "0      EC      [PID]    [ECID]  [BasicInfo, DT_min]  BasicInfo  BasicDftGrn   \n",
       "1      EC      [PID]    [ECID]  [BasicInfo, DT_min]     DT_min     DTDftGrn   \n",
       "\n",
       "             field2grain            recfield2grain  \\\n",
       "0  BasicInfo-BasicDftGrn  EC@BasicInfo-BasicDftGrn   \n",
       "1        DT_min-DTDftGrn        EC@DT_min-DTDftGrn   \n",
       "\n",
       "                                               Vocab  \n",
       "0  {'idx2v': {0: 'X', 1: 'D', 2: 'Y', 3: 'B', 4: ...  \n",
       "1  {'idx2v': {0: '_missing', 1: 'Yx', 2: 'Y2010',...  "
      ]
     },
     "execution_count": 15,
     "metadata": {},
     "output_type": "execute_result"
    }
   ],
   "source": [
    "import os\n",
    "import pandas as pd\n",
    "\n",
    "fldgrn_folder = 'data/ProcData/FldGrnInfo'\n",
    "\n",
    "fullfldgrn_file = os.path.join(fldgrn_folder, RecName + '.p')\n",
    "\n",
    "df_FieldGrainInfo = pd.read_pickle(fullfldgrn_file)\n",
    "df_FieldGrainInfo"
   ]
  },
  {
   "cell_type": "markdown",
   "id": "021d7da8-622b-4e32-830c-224c4cb2458a",
   "metadata": {},
   "source": [
    "### RecFldGrn `EC@BasicInfo-BasicDftGrn`"
   ]
  },
  {
   "cell_type": "code",
   "execution_count": 16,
   "id": "12801198-0b5d-4dee-a04f-86587e4b1aee",
   "metadata": {
    "tags": []
   },
   "outputs": [
    {
     "name": "stdout",
     "output_type": "stream",
     "text": [
      "(225, 6) data/ProcData/TensorFolder/Task2YearXXX/EC@BasicInfo-BasicDftGrn\n"
     ]
    },
    {
     "data": {
      "text/html": [
       "<div>\n",
       "<style scoped>\n",
       "    .dataframe tbody tr th:only-of-type {\n",
       "        vertical-align: middle;\n",
       "    }\n",
       "\n",
       "    .dataframe tbody tr th {\n",
       "        vertical-align: top;\n",
       "    }\n",
       "\n",
       "    .dataframe thead th {\n",
       "        text-align: right;\n",
       "    }\n",
       "</style>\n",
       "<table border=\"1\" class=\"dataframe\">\n",
       "  <thead>\n",
       "    <tr style=\"text-align: right;\">\n",
       "      <th></th>\n",
       "      <th>PID</th>\n",
       "      <th>P-EC@BasicInfo-BasicDftGrn_idx</th>\n",
       "    </tr>\n",
       "  </thead>\n",
       "  <tbody>\n",
       "    <tr>\n",
       "      <th>0</th>\n",
       "      <td>P0</td>\n",
       "      <td>[[1, 0], [1, 0], [6, 7], [6, 4], [3, 7], [3, 0...</td>\n",
       "    </tr>\n",
       "    <tr>\n",
       "      <th>1</th>\n",
       "      <td>P1</td>\n",
       "      <td>[[1, 2], [5, 0], [1, 7], [6, 0], [6, 7], [6, 4...</td>\n",
       "    </tr>\n",
       "    <tr>\n",
       "      <th>2</th>\n",
       "      <td>P2</td>\n",
       "      <td>[[1, 2], [6, 0], [3, 4], [5, 0], [5, 7], [5, 7...</td>\n",
       "    </tr>\n",
       "    <tr>\n",
       "      <th>3</th>\n",
       "      <td>P3</td>\n",
       "      <td>[[6, 2], [5, 0], [6, 7], [1, 2], [5, 2], [6, 2...</td>\n",
       "    </tr>\n",
       "    <tr>\n",
       "      <th>4</th>\n",
       "      <td>P4</td>\n",
       "      <td>[[3, 4], [3, 4], [6, 7], [1, 0], [1, 0], [5, 0...</td>\n",
       "    </tr>\n",
       "    <tr>\n",
       "      <th>5</th>\n",
       "      <td>P5</td>\n",
       "      <td>[[1, 2], [1, 7], [5, 7], [1, 0], [1, 0], [1, 2...</td>\n",
       "    </tr>\n",
       "    <tr>\n",
       "      <th>6</th>\n",
       "      <td>P6</td>\n",
       "      <td>[[3, 2], [5, 7], [1, 4], [3, 0], [3, 0], [6, 4...</td>\n",
       "    </tr>\n",
       "    <tr>\n",
       "      <th>7</th>\n",
       "      <td>P7</td>\n",
       "      <td>[[5, 7]]</td>\n",
       "    </tr>\n",
       "  </tbody>\n",
       "</table>\n",
       "</div>"
      ],
      "text/plain": [
       "  PID                     P-EC@BasicInfo-BasicDftGrn_idx\n",
       "0  P0  [[1, 0], [1, 0], [6, 7], [6, 4], [3, 7], [3, 0...\n",
       "1  P1  [[1, 2], [5, 0], [1, 7], [6, 0], [6, 7], [6, 4...\n",
       "2  P2  [[1, 2], [6, 0], [3, 4], [5, 0], [5, 7], [5, 7...\n",
       "3  P3  [[6, 2], [5, 0], [6, 7], [1, 2], [5, 2], [6, 2...\n",
       "4  P4  [[3, 4], [3, 4], [6, 7], [1, 0], [1, 0], [5, 0...\n",
       "5  P5  [[1, 2], [1, 7], [5, 7], [1, 0], [1, 0], [1, 2...\n",
       "6  P6  [[3, 2], [5, 7], [1, 4], [3, 0], [3, 0], [6, 4...\n",
       "7  P7                                           [[5, 7]]"
      ]
     },
     "execution_count": 16,
     "metadata": {},
     "output_type": "execute_result"
    }
   ],
   "source": [
    "recfield2grain = 'EC@BasicInfo-BasicDftGrn'\n",
    "\n",
    "d = df_FieldGrainInfo[df_FieldGrainInfo['recfield2grain'] == recfield2grain].iloc[0]\n",
    "v2idx = d['Vocab']['v2idx']\n",
    "prefix_ids = d['prefix_ids']\n",
    "focal_ids = d['focal_ids']\n",
    "\n",
    "df_p = get_highorder_input_idx(df, recfield2grain, \n",
    "                               v2idx, prefix_ids, focal_ids,\n",
    "                               Field2Grain_2_get_GrnIdxList_Fn, \n",
    "                               Field2Grain_2_get_GrnWgtList_Fn)\n",
    "\n",
    "\n",
    "\n",
    "fullTaskTensor_folder = os.path.join(TaskTensor_folder, recfield2grain)\n",
    "print(df.shape, fullTaskTensor_folder)\n",
    "if not os.path.exists(fullTaskTensor_folder): os.makedirs(fullTaskTensor_folder)\n",
    "write_df_to_folders(recfield2grain, fullTaskTensor_folder, df_p)\n",
    "\n",
    "df_p"
   ]
  },
  {
   "cell_type": "markdown",
   "id": "788a3855-c807-4058-9d4d-0aba67f9691c",
   "metadata": {},
   "source": [
    "### RecFldGrn `EC@DT_min-DTDftGrn`"
   ]
  },
  {
   "cell_type": "code",
   "execution_count": 17,
   "id": "817e3b4b-d991-42eb-865d-b217abc595b2",
   "metadata": {
    "tags": []
   },
   "outputs": [
    {
     "name": "stdout",
     "output_type": "stream",
     "text": [
      "(225, 7) data/ProcData/TensorFolder/Task2YearXXX/EC@DT_min-DTDftGrn\n"
     ]
    },
    {
     "data": {
      "text/html": [
       "<div>\n",
       "<style scoped>\n",
       "    .dataframe tbody tr th:only-of-type {\n",
       "        vertical-align: middle;\n",
       "    }\n",
       "\n",
       "    .dataframe tbody tr th {\n",
       "        vertical-align: top;\n",
       "    }\n",
       "\n",
       "    .dataframe thead th {\n",
       "        text-align: right;\n",
       "    }\n",
       "</style>\n",
       "<table border=\"1\" class=\"dataframe\">\n",
       "  <thead>\n",
       "    <tr style=\"text-align: right;\">\n",
       "      <th></th>\n",
       "      <th>PID</th>\n",
       "      <th>P-EC@DT_min-DTDftGrn_idx</th>\n",
       "    </tr>\n",
       "  </thead>\n",
       "  <tbody>\n",
       "    <tr>\n",
       "      <th>0</th>\n",
       "      <td>P0</td>\n",
       "      <td>[[15, 25, 53, 68, 78, 92, 137], [15, 25, 54, 6...</td>\n",
       "    </tr>\n",
       "    <tr>\n",
       "      <th>1</th>\n",
       "      <td>P1</td>\n",
       "      <td>[[15, 25, 53, 68, 78, 92, 137], [15, 25, 53, 6...</td>\n",
       "    </tr>\n",
       "    <tr>\n",
       "      <th>2</th>\n",
       "      <td>P2</td>\n",
       "      <td>[[15, 25, 53, 68, 78, 92, 137], [15, 25, 53, 6...</td>\n",
       "    </tr>\n",
       "    <tr>\n",
       "      <th>3</th>\n",
       "      <td>P3</td>\n",
       "      <td>[[15, 25, 53, 68, 78, 92, 137], [15, 25, 53, 6...</td>\n",
       "    </tr>\n",
       "    <tr>\n",
       "      <th>4</th>\n",
       "      <td>P4</td>\n",
       "      <td>[[15, 25, 53, 68, 78, 92, 137], [15, 25, 53, 6...</td>\n",
       "    </tr>\n",
       "    <tr>\n",
       "      <th>5</th>\n",
       "      <td>P5</td>\n",
       "      <td>[[15, 25, 53, 68, 78, 92, 137], [15, 25, 53, 6...</td>\n",
       "    </tr>\n",
       "    <tr>\n",
       "      <th>6</th>\n",
       "      <td>P6</td>\n",
       "      <td>[[15, 25, 54, 68, 79, 92, 137], [15, 25, 54, 6...</td>\n",
       "    </tr>\n",
       "    <tr>\n",
       "      <th>7</th>\n",
       "      <td>P7</td>\n",
       "      <td>[[15, 25, 53, 68, 78, 92, 137]]</td>\n",
       "    </tr>\n",
       "  </tbody>\n",
       "</table>\n",
       "</div>"
      ],
      "text/plain": [
       "  PID                           P-EC@DT_min-DTDftGrn_idx\n",
       "0  P0  [[15, 25, 53, 68, 78, 92, 137], [15, 25, 54, 6...\n",
       "1  P1  [[15, 25, 53, 68, 78, 92, 137], [15, 25, 53, 6...\n",
       "2  P2  [[15, 25, 53, 68, 78, 92, 137], [15, 25, 53, 6...\n",
       "3  P3  [[15, 25, 53, 68, 78, 92, 137], [15, 25, 53, 6...\n",
       "4  P4  [[15, 25, 53, 68, 78, 92, 137], [15, 25, 53, 6...\n",
       "5  P5  [[15, 25, 53, 68, 78, 92, 137], [15, 25, 53, 6...\n",
       "6  P6  [[15, 25, 54, 68, 79, 92, 137], [15, 25, 54, 6...\n",
       "7  P7                    [[15, 25, 53, 68, 78, 92, 137]]"
      ]
     },
     "execution_count": 17,
     "metadata": {},
     "output_type": "execute_result"
    }
   ],
   "source": [
    "recfield2grain = 'EC@DT_min-DTDftGrn'\n",
    "\n",
    "d = df_FieldGrainInfo[df_FieldGrainInfo['recfield2grain'] == recfield2grain].iloc[0]\n",
    "v2idx = d['Vocab']['v2idx']\n",
    "prefix_ids = d['prefix_ids']\n",
    "focal_ids = d['focal_ids']\n",
    "\n",
    "df_p = get_highorder_input_idx(df, recfield2grain, \n",
    "                               v2idx, prefix_ids, focal_ids,\n",
    "                               Field2Grain_2_get_GrnIdxList_Fn, \n",
    "                               Field2Grain_2_get_GrnWgtList_Fn)\n",
    "\n",
    "\n",
    "\n",
    "fullTaskTensor_folder = os.path.join(TaskTensor_folder, recfield2grain)\n",
    "print(df.shape, fullTaskTensor_folder)\n",
    "if not os.path.exists(fullTaskTensor_folder): os.makedirs(fullTaskTensor_folder)\n",
    "write_df_to_folders(recfield2grain, fullTaskTensor_folder, df_p)\n",
    "\n",
    "df_p"
   ]
  },
  {
   "cell_type": "markdown",
   "id": "95330e13-b5ac-48d0-9718-c65a0d18e9cd",
   "metadata": {},
   "source": [
    "## Diag Record\n",
    "\n",
    "TODO"
   ]
  },
  {
   "cell_type": "code",
   "execution_count": 6,
   "id": "f7ea457a-4c96-4391-9a6a-44e1a1016aa6",
   "metadata": {
    "tags": []
   },
   "outputs": [],
   "source": [
    "# RecName = 'Diag'\n",
    "# df = Pat.get_df_rec(RecName)\n",
    "# df"
   ]
  },
  {
   "cell_type": "markdown",
   "id": "948682fa-7016-4a79-b1c9-9a7d03240446",
   "metadata": {},
   "source": [
    "## A1C Record\n",
    "\n",
    "TODO"
   ]
  },
  {
   "cell_type": "code",
   "execution_count": 7,
   "id": "daa3bfde-6f7a-4fa9-acaf-49e1f2f5e9b3",
   "metadata": {
    "tags": []
   },
   "outputs": [],
   "source": [
    "# RecName = 'A1C'\n",
    "# df = Pat.get_df_rec(RecName)\n",
    "# df"
   ]
  },
  {
   "cell_type": "markdown",
   "id": "495f33e6-31bb-43c8-bde5-5c6ca0b9d5f8",
   "metadata": {},
   "source": [
    "## Smoking Record\n",
    "\n",
    "TODO"
   ]
  },
  {
   "cell_type": "code",
   "execution_count": 8,
   "id": "4d619a28-ad43-42a2-a518-6b852d1d4c2b",
   "metadata": {
    "tags": []
   },
   "outputs": [],
   "source": [
    "# RecName = 'Smoking'\n",
    "# df = Pat.get_df_rec(RecName)\n",
    "# df"
   ]
  },
  {
   "cell_type": "markdown",
   "id": "a073fa00-f885-42b6-9f7f-48a0bbabe830",
   "metadata": {},
   "source": [
    "## PN Record\n",
    "\n",
    "TODO"
   ]
  },
  {
   "cell_type": "code",
   "execution_count": 9,
   "id": "dcc54164-4671-423c-a9f3-a7aaa06d20c4",
   "metadata": {
    "tags": []
   },
   "outputs": [],
   "source": [
    "# RecName = 'PN'\n",
    "# df = Pat.get_df_rec(RecName)\n",
    "# df"
   ]
  },
  {
   "cell_type": "markdown",
   "id": "e516b51d-7132-400f-9ba8-1d92c6ee6a06",
   "metadata": {},
   "source": [
    "## PNSect Record\n",
    "\n",
    "TODO"
   ]
  },
  {
   "cell_type": "code",
   "execution_count": 10,
   "id": "22c8f68a-d240-49da-b393-ef677ca7f5d2",
   "metadata": {
    "tags": []
   },
   "outputs": [],
   "source": [
    "# RecName = 'PNSect'\n",
    "# df = Pat.get_df_rec(RecName)\n",
    "# df"
   ]
  },
  {
   "cell_type": "markdown",
   "id": "0b44489e-07b4-4703-8d0c-1bacbfbf1203",
   "metadata": {},
   "source": [
    "## PNSectSent Record"
   ]
  },
  {
   "cell_type": "code",
   "execution_count": 18,
   "id": "734c168e-e327-44e9-a433-825252d13607",
   "metadata": {
    "tags": []
   },
   "outputs": [
    {
     "data": {
      "text/html": [
       "<div>\n",
       "<style scoped>\n",
       "    .dataframe tbody tr th:only-of-type {\n",
       "        vertical-align: middle;\n",
       "    }\n",
       "\n",
       "    .dataframe tbody tr th {\n",
       "        vertical-align: top;\n",
       "    }\n",
       "\n",
       "    .dataframe thead th {\n",
       "        text-align: right;\n",
       "    }\n",
       "</style>\n",
       "<table border=\"1\" class=\"dataframe\">\n",
       "  <thead>\n",
       "    <tr style=\"text-align: right;\">\n",
       "      <th></th>\n",
       "      <th>PID</th>\n",
       "      <th>ECID</th>\n",
       "      <th>PNID</th>\n",
       "      <th>PNSectID</th>\n",
       "      <th>SentID</th>\n",
       "      <th>Sentence</th>\n",
       "    </tr>\n",
       "  </thead>\n",
       "  <tbody>\n",
       "    <tr>\n",
       "      <th>0</th>\n",
       "      <td>P7</td>\n",
       "      <td>EC17</td>\n",
       "      <td>435</td>\n",
       "      <td>50</td>\n",
       "      <td>397</td>\n",
       "      <td>Particularly who appear top paper stock college.</td>\n",
       "    </tr>\n",
       "    <tr>\n",
       "      <th>1</th>\n",
       "      <td>P7</td>\n",
       "      <td>EC17</td>\n",
       "      <td>435</td>\n",
       "      <td>42</td>\n",
       "      <td>334</td>\n",
       "      <td>Chance capital pretty.</td>\n",
       "    </tr>\n",
       "    <tr>\n",
       "      <th>2</th>\n",
       "      <td>P7</td>\n",
       "      <td>EC17</td>\n",
       "      <td>435</td>\n",
       "      <td>42</td>\n",
       "      <td>335</td>\n",
       "      <td>Learn force understand reflect important least...</td>\n",
       "    </tr>\n",
       "    <tr>\n",
       "      <th>3</th>\n",
       "      <td>P7</td>\n",
       "      <td>EC17</td>\n",
       "      <td>435</td>\n",
       "      <td>42</td>\n",
       "      <td>336</td>\n",
       "      <td>Decade employee too music foot window.</td>\n",
       "    </tr>\n",
       "    <tr>\n",
       "      <th>4</th>\n",
       "      <td>P7</td>\n",
       "      <td>EC17</td>\n",
       "      <td>435</td>\n",
       "      <td>42</td>\n",
       "      <td>337</td>\n",
       "      <td>Trade drive fast.</td>\n",
       "    </tr>\n",
       "    <tr>\n",
       "      <th>...</th>\n",
       "      <td>...</td>\n",
       "      <td>...</td>\n",
       "      <td>...</td>\n",
       "      <td>...</td>\n",
       "      <td>...</td>\n",
       "      <td>...</td>\n",
       "    </tr>\n",
       "    <tr>\n",
       "      <th>83</th>\n",
       "      <td>P7</td>\n",
       "      <td>EC17</td>\n",
       "      <td>435</td>\n",
       "      <td>43</td>\n",
       "      <td>372</td>\n",
       "      <td>Man artist food area character.</td>\n",
       "    </tr>\n",
       "    <tr>\n",
       "      <th>84</th>\n",
       "      <td>P7</td>\n",
       "      <td>EC17</td>\n",
       "      <td>435</td>\n",
       "      <td>43</td>\n",
       "      <td>373</td>\n",
       "      <td>Language very back strategy.</td>\n",
       "    </tr>\n",
       "    <tr>\n",
       "      <th>85</th>\n",
       "      <td>P7</td>\n",
       "      <td>EC17</td>\n",
       "      <td>435</td>\n",
       "      <td>43</td>\n",
       "      <td>374</td>\n",
       "      <td>Feel budget tough edge read collection however...</td>\n",
       "    </tr>\n",
       "    <tr>\n",
       "      <th>86</th>\n",
       "      <td>P7</td>\n",
       "      <td>EC17</td>\n",
       "      <td>435</td>\n",
       "      <td>39</td>\n",
       "      <td>310</td>\n",
       "      <td>Car true daughter guy strategy.</td>\n",
       "    </tr>\n",
       "    <tr>\n",
       "      <th>87</th>\n",
       "      <td>P7</td>\n",
       "      <td>EC17</td>\n",
       "      <td>435</td>\n",
       "      <td>40</td>\n",
       "      <td>311</td>\n",
       "      <td>Own thank himself within future.</td>\n",
       "    </tr>\n",
       "  </tbody>\n",
       "</table>\n",
       "<p>88 rows × 6 columns</p>\n",
       "</div>"
      ],
      "text/plain": [
       "   PID  ECID  PNID  PNSectID  SentID  \\\n",
       "0   P7  EC17   435        50     397   \n",
       "1   P7  EC17   435        42     334   \n",
       "2   P7  EC17   435        42     335   \n",
       "3   P7  EC17   435        42     336   \n",
       "4   P7  EC17   435        42     337   \n",
       "..  ..   ...   ...       ...     ...   \n",
       "83  P7  EC17   435        43     372   \n",
       "84  P7  EC17   435        43     373   \n",
       "85  P7  EC17   435        43     374   \n",
       "86  P7  EC17   435        39     310   \n",
       "87  P7  EC17   435        40     311   \n",
       "\n",
       "                                             Sentence  \n",
       "0    Particularly who appear top paper stock college.  \n",
       "1                              Chance capital pretty.  \n",
       "2   Learn force understand reflect important least...  \n",
       "3              Decade employee too music foot window.  \n",
       "4                                   Trade drive fast.  \n",
       "..                                                ...  \n",
       "83                    Man artist food area character.  \n",
       "84                       Language very back strategy.  \n",
       "85  Feel budget tough edge read collection however...  \n",
       "86                    Car true daughter guy strategy.  \n",
       "87                   Own thank himself within future.  \n",
       "\n",
       "[88 rows x 6 columns]"
      ]
     },
     "execution_count": 18,
     "metadata": {},
     "output_type": "execute_result"
    }
   ],
   "source": [
    "RecName = 'PNSectSent'\n",
    "df = Pat.get_df_rec(RecName)\n",
    "df"
   ]
  },
  {
   "cell_type": "markdown",
   "id": "721446e7-13b7-41c2-b6a1-979f54cfe9ff",
   "metadata": {},
   "source": [
    "### Task Selection\n",
    "\n",
    "Based on the tasks, sometime we only use a subset of all records to generate input tensor"
   ]
  },
  {
   "cell_type": "code",
   "execution_count": 19,
   "id": "14abe89d-875b-4e80-94cb-0d7117c47f2e",
   "metadata": {
    "tags": []
   },
   "outputs": [
    {
     "name": "stdout",
     "output_type": "stream",
     "text": [
      "(2587, 6)\n"
     ]
    }
   ],
   "source": [
    "RecName = 'PNSectSent'\n",
    "\n",
    "df = pd.DataFrame()\n",
    "for PID in ELIG_PAT_SET:\n",
    "    Pat = PatientDP(PID, rec_folder, RANGE_SIZE)\n",
    "    dfx = Pat.get_df_rec(RecName)\n",
    "    # make some operation to select good dfx\n",
    "    dfx = dfx \n",
    "    df = pd.concat([df, dfx])\n",
    "    \n",
    "print(df.shape)"
   ]
  },
  {
   "cell_type": "code",
   "execution_count": 20,
   "id": "998a1b57-4b88-4221-b865-a20e85428c0e",
   "metadata": {
    "tags": []
   },
   "outputs": [
    {
     "data": {
      "text/html": [
       "<div>\n",
       "<style scoped>\n",
       "    .dataframe tbody tr th:only-of-type {\n",
       "        vertical-align: middle;\n",
       "    }\n",
       "\n",
       "    .dataframe tbody tr th {\n",
       "        vertical-align: top;\n",
       "    }\n",
       "\n",
       "    .dataframe thead th {\n",
       "        text-align: right;\n",
       "    }\n",
       "</style>\n",
       "<table border=\"1\" class=\"dataframe\">\n",
       "  <thead>\n",
       "    <tr style=\"text-align: right;\">\n",
       "      <th></th>\n",
       "      <th>PID</th>\n",
       "      <th>ECID</th>\n",
       "      <th>PNID</th>\n",
       "      <th>PNSectID</th>\n",
       "      <th>SentID</th>\n",
       "      <th>Sentence</th>\n",
       "    </tr>\n",
       "  </thead>\n",
       "  <tbody>\n",
       "    <tr>\n",
       "      <th>0</th>\n",
       "      <td>P0</td>\n",
       "      <td>EC21</td>\n",
       "      <td>72374</td>\n",
       "      <td>149</td>\n",
       "      <td>1293</td>\n",
       "      <td>Later available sure scientist water out less.</td>\n",
       "    </tr>\n",
       "    <tr>\n",
       "      <th>1</th>\n",
       "      <td>P0</td>\n",
       "      <td>EC21</td>\n",
       "      <td>72374</td>\n",
       "      <td>145</td>\n",
       "      <td>1272</td>\n",
       "      <td>Wear relationship down surface section.</td>\n",
       "    </tr>\n",
       "    <tr>\n",
       "      <th>2</th>\n",
       "      <td>P0</td>\n",
       "      <td>EC21</td>\n",
       "      <td>72374</td>\n",
       "      <td>145</td>\n",
       "      <td>1271</td>\n",
       "      <td>Concern painting able than.</td>\n",
       "    </tr>\n",
       "    <tr>\n",
       "      <th>3</th>\n",
       "      <td>P0</td>\n",
       "      <td>EC21</td>\n",
       "      <td>72374</td>\n",
       "      <td>145</td>\n",
       "      <td>1270</td>\n",
       "      <td>Quite together just fund field.</td>\n",
       "    </tr>\n",
       "    <tr>\n",
       "      <th>4</th>\n",
       "      <td>P0</td>\n",
       "      <td>EC21</td>\n",
       "      <td>72374</td>\n",
       "      <td>145</td>\n",
       "      <td>1269</td>\n",
       "      <td>Owner PM building win cultural agent forward.</td>\n",
       "    </tr>\n",
       "    <tr>\n",
       "      <th>...</th>\n",
       "      <td>...</td>\n",
       "      <td>...</td>\n",
       "      <td>...</td>\n",
       "      <td>...</td>\n",
       "      <td>...</td>\n",
       "      <td>...</td>\n",
       "    </tr>\n",
       "    <tr>\n",
       "      <th>83</th>\n",
       "      <td>P7</td>\n",
       "      <td>EC17</td>\n",
       "      <td>435</td>\n",
       "      <td>43</td>\n",
       "      <td>372</td>\n",
       "      <td>Man artist food area character.</td>\n",
       "    </tr>\n",
       "    <tr>\n",
       "      <th>84</th>\n",
       "      <td>P7</td>\n",
       "      <td>EC17</td>\n",
       "      <td>435</td>\n",
       "      <td>43</td>\n",
       "      <td>373</td>\n",
       "      <td>Language very back strategy.</td>\n",
       "    </tr>\n",
       "    <tr>\n",
       "      <th>85</th>\n",
       "      <td>P7</td>\n",
       "      <td>EC17</td>\n",
       "      <td>435</td>\n",
       "      <td>43</td>\n",
       "      <td>374</td>\n",
       "      <td>Feel budget tough edge read collection however...</td>\n",
       "    </tr>\n",
       "    <tr>\n",
       "      <th>86</th>\n",
       "      <td>P7</td>\n",
       "      <td>EC17</td>\n",
       "      <td>435</td>\n",
       "      <td>39</td>\n",
       "      <td>310</td>\n",
       "      <td>Car true daughter guy strategy.</td>\n",
       "    </tr>\n",
       "    <tr>\n",
       "      <th>87</th>\n",
       "      <td>P7</td>\n",
       "      <td>EC17</td>\n",
       "      <td>435</td>\n",
       "      <td>40</td>\n",
       "      <td>311</td>\n",
       "      <td>Own thank himself within future.</td>\n",
       "    </tr>\n",
       "  </tbody>\n",
       "</table>\n",
       "<p>2587 rows × 6 columns</p>\n",
       "</div>"
      ],
      "text/plain": [
       "   PID  ECID   PNID  PNSectID  SentID  \\\n",
       "0   P0  EC21  72374       149    1293   \n",
       "1   P0  EC21  72374       145    1272   \n",
       "2   P0  EC21  72374       145    1271   \n",
       "3   P0  EC21  72374       145    1270   \n",
       "4   P0  EC21  72374       145    1269   \n",
       "..  ..   ...    ...       ...     ...   \n",
       "83  P7  EC17    435        43     372   \n",
       "84  P7  EC17    435        43     373   \n",
       "85  P7  EC17    435        43     374   \n",
       "86  P7  EC17    435        39     310   \n",
       "87  P7  EC17    435        40     311   \n",
       "\n",
       "                                             Sentence  \n",
       "0      Later available sure scientist water out less.  \n",
       "1             Wear relationship down surface section.  \n",
       "2                         Concern painting able than.  \n",
       "3                     Quite together just fund field.  \n",
       "4       Owner PM building win cultural agent forward.  \n",
       "..                                                ...  \n",
       "83                    Man artist food area character.  \n",
       "84                       Language very back strategy.  \n",
       "85  Feel budget tough edge read collection however...  \n",
       "86                    Car true daughter guy strategy.  \n",
       "87                   Own thank himself within future.  \n",
       "\n",
       "[2587 rows x 6 columns]"
      ]
     },
     "execution_count": 20,
     "metadata": {},
     "output_type": "execute_result"
    }
   ],
   "source": [
    "df"
   ]
  },
  {
   "cell_type": "markdown",
   "id": "a0744b91-9e08-4faa-87a2-19cd94379b9b",
   "metadata": {},
   "source": [
    "### Load Meta Info"
   ]
  },
  {
   "cell_type": "code",
   "execution_count": 21,
   "id": "1cc322be-24d0-49de-b680-d0740d258be6",
   "metadata": {
    "tags": []
   },
   "outputs": [
    {
     "data": {
      "text/html": [
       "<div>\n",
       "<style scoped>\n",
       "    .dataframe tbody tr th:only-of-type {\n",
       "        vertical-align: middle;\n",
       "    }\n",
       "\n",
       "    .dataframe tbody tr th {\n",
       "        vertical-align: top;\n",
       "    }\n",
       "\n",
       "    .dataframe thead th {\n",
       "        text-align: right;\n",
       "    }\n",
       "</style>\n",
       "<table border=\"1\" class=\"dataframe\">\n",
       "  <thead>\n",
       "    <tr style=\"text-align: right;\">\n",
       "      <th></th>\n",
       "      <th>RecName</th>\n",
       "      <th>prefix_ids</th>\n",
       "      <th>focal_ids</th>\n",
       "      <th>field_list</th>\n",
       "      <th>field</th>\n",
       "      <th>grain</th>\n",
       "      <th>field2grain</th>\n",
       "      <th>recfield2grain</th>\n",
       "      <th>Vocab</th>\n",
       "    </tr>\n",
       "  </thead>\n",
       "  <tbody>\n",
       "    <tr>\n",
       "      <th>0</th>\n",
       "      <td>PNSectSent</td>\n",
       "      <td>[PID, ECID, PNID, PNSectID]</td>\n",
       "      <td>[SentID]</td>\n",
       "      <td>[Sentence]</td>\n",
       "      <td>Sentence</td>\n",
       "      <td>Tk@TknzLLMGrn</td>\n",
       "      <td>Sentence-Tk@TknzLLMGrn</td>\n",
       "      <td>PNSectSent@Sentence-Tk@TknzLLMGrn</td>\n",
       "      <td>{'v2idx': BertTokenizerFast(name_or_path='bert...</td>\n",
       "    </tr>\n",
       "  </tbody>\n",
       "</table>\n",
       "</div>"
      ],
      "text/plain": [
       "      RecName                   prefix_ids focal_ids  field_list     field  \\\n",
       "0  PNSectSent  [PID, ECID, PNID, PNSectID]  [SentID]  [Sentence]  Sentence   \n",
       "\n",
       "           grain             field2grain                     recfield2grain  \\\n",
       "0  Tk@TknzLLMGrn  Sentence-Tk@TknzLLMGrn  PNSectSent@Sentence-Tk@TknzLLMGrn   \n",
       "\n",
       "                                               Vocab  \n",
       "0  {'v2idx': BertTokenizerFast(name_or_path='bert...  "
      ]
     },
     "execution_count": 21,
     "metadata": {},
     "output_type": "execute_result"
    }
   ],
   "source": [
    "import os\n",
    "import pandas as pd\n",
    "\n",
    "fldgrn_folder = 'data/ProcData/FldGrnInfo'\n",
    "\n",
    "fullfldgrn_file = os.path.join(fldgrn_folder, RecName + '.p')\n",
    "\n",
    "df_FieldGrainInfo = pd.read_pickle(fullfldgrn_file)\n",
    "df_FieldGrainInfo"
   ]
  },
  {
   "cell_type": "markdown",
   "id": "3a65ab71-9395-436f-88fc-5fa670d581f6",
   "metadata": {},
   "source": [
    "### RecFldGrn `PNSectSent@Sentence-Tk@TknzLLMGrn`"
   ]
  },
  {
   "cell_type": "code",
   "execution_count": 22,
   "id": "b396b477-3808-491f-a371-a8d3d9bf1b27",
   "metadata": {
    "tags": []
   },
   "outputs": [],
   "source": [
    "recfield2grain = 'PNSectSent@Sentence-Tk@TknzLLMGrn'\n",
    "\n",
    "from recfldgrn.grains import Field2Grain_2_get_GrnStrList_Fn\n",
    "from recfldgrn.grains import Field2Grain_2_get_GrnIdxList_Fn\n",
    "from recfldgrn.grains import Field2Grain_2_get_GrnWgtList_Fn\n",
    "from recfldgrn.utils import generate_grain_vocab_info\n",
    "d = df_FieldGrainInfo[df_FieldGrainInfo['recfield2grain'] == recfield2grain].iloc[0]\n",
    "field = d['field']\n",
    "grain = d['grain']\n",
    "Vocab = d['Vocab']\n",
    "v2idx = Vocab['v2idx']\n",
    "prefix_ids = d['prefix_ids']"
   ]
  },
  {
   "cell_type": "code",
   "execution_count": 23,
   "id": "e87c81b3-ae2d-4baf-9957-2ce2f11fdfe6",
   "metadata": {
    "tags": []
   },
   "outputs": [
    {
     "name": "stdout",
     "output_type": "stream",
     "text": [
      "BertTokenizerFast(name_or_path='bert-base-uncased', vocab_size=30522, model_max_length=512, is_fast=True, padding_side='right', truncation_side='right', special_tokens={'unk_token': '[UNK]', 'sep_token': '[SEP]', 'pad_token': '[PAD]', 'cls_token': '[CLS]', 'mask_token': '[MASK]'})\n"
     ]
    }
   ],
   "source": [
    "print(v2idx)"
   ]
  },
  {
   "cell_type": "code",
   "execution_count": 24,
   "id": "e40c064f-d24b-40d5-8272-835819b36112",
   "metadata": {
    "tags": []
   },
   "outputs": [
    {
     "data": {
      "text/html": [
       "<div>\n",
       "<style scoped>\n",
       "    .dataframe tbody tr th:only-of-type {\n",
       "        vertical-align: middle;\n",
       "    }\n",
       "\n",
       "    .dataframe tbody tr th {\n",
       "        vertical-align: top;\n",
       "    }\n",
       "\n",
       "    .dataframe thead th {\n",
       "        text-align: right;\n",
       "    }\n",
       "</style>\n",
       "<table border=\"1\" class=\"dataframe\">\n",
       "  <thead>\n",
       "    <tr style=\"text-align: right;\">\n",
       "      <th></th>\n",
       "      <th>PID</th>\n",
       "      <th>ECID</th>\n",
       "      <th>PNID</th>\n",
       "      <th>PNSectID</th>\n",
       "      <th>SentID</th>\n",
       "      <th>Sentence</th>\n",
       "      <th>PNSectSent@Sentence-Tk@TknzLLMGrn_idx</th>\n",
       "    </tr>\n",
       "  </thead>\n",
       "  <tbody>\n",
       "    <tr>\n",
       "      <th>0</th>\n",
       "      <td>P0</td>\n",
       "      <td>EC21</td>\n",
       "      <td>72374</td>\n",
       "      <td>149</td>\n",
       "      <td>1293</td>\n",
       "      <td>Later available sure scientist water out less.</td>\n",
       "      <td>[101, 2101, 2800, 2469, 7155, 2300, 2041, 2625...</td>\n",
       "    </tr>\n",
       "    <tr>\n",
       "      <th>1</th>\n",
       "      <td>P0</td>\n",
       "      <td>EC21</td>\n",
       "      <td>72374</td>\n",
       "      <td>145</td>\n",
       "      <td>1272</td>\n",
       "      <td>Wear relationship down surface section.</td>\n",
       "      <td>[101, 4929, 3276, 2091, 3302, 2930, 1012, 102]</td>\n",
       "    </tr>\n",
       "    <tr>\n",
       "      <th>2</th>\n",
       "      <td>P0</td>\n",
       "      <td>EC21</td>\n",
       "      <td>72374</td>\n",
       "      <td>145</td>\n",
       "      <td>1271</td>\n",
       "      <td>Concern painting able than.</td>\n",
       "      <td>[101, 5142, 4169, 2583, 2084, 1012, 102]</td>\n",
       "    </tr>\n",
       "    <tr>\n",
       "      <th>3</th>\n",
       "      <td>P0</td>\n",
       "      <td>EC21</td>\n",
       "      <td>72374</td>\n",
       "      <td>145</td>\n",
       "      <td>1270</td>\n",
       "      <td>Quite together just fund field.</td>\n",
       "      <td>[101, 3243, 2362, 2074, 4636, 2492, 1012, 102]</td>\n",
       "    </tr>\n",
       "    <tr>\n",
       "      <th>4</th>\n",
       "      <td>P0</td>\n",
       "      <td>EC21</td>\n",
       "      <td>72374</td>\n",
       "      <td>145</td>\n",
       "      <td>1269</td>\n",
       "      <td>Owner PM building win cultural agent forward.</td>\n",
       "      <td>[101, 3954, 7610, 2311, 2663, 3451, 4005, 2830...</td>\n",
       "    </tr>\n",
       "    <tr>\n",
       "      <th>...</th>\n",
       "      <td>...</td>\n",
       "      <td>...</td>\n",
       "      <td>...</td>\n",
       "      <td>...</td>\n",
       "      <td>...</td>\n",
       "      <td>...</td>\n",
       "      <td>...</td>\n",
       "    </tr>\n",
       "    <tr>\n",
       "      <th>83</th>\n",
       "      <td>P7</td>\n",
       "      <td>EC17</td>\n",
       "      <td>435</td>\n",
       "      <td>43</td>\n",
       "      <td>372</td>\n",
       "      <td>Man artist food area character.</td>\n",
       "      <td>[101, 2158, 3063, 2833, 2181, 2839, 1012, 102]</td>\n",
       "    </tr>\n",
       "    <tr>\n",
       "      <th>84</th>\n",
       "      <td>P7</td>\n",
       "      <td>EC17</td>\n",
       "      <td>435</td>\n",
       "      <td>43</td>\n",
       "      <td>373</td>\n",
       "      <td>Language very back strategy.</td>\n",
       "      <td>[101, 2653, 2200, 2067, 5656, 1012, 102]</td>\n",
       "    </tr>\n",
       "    <tr>\n",
       "      <th>85</th>\n",
       "      <td>P7</td>\n",
       "      <td>EC17</td>\n",
       "      <td>435</td>\n",
       "      <td>43</td>\n",
       "      <td>374</td>\n",
       "      <td>Feel budget tough edge read collection however...</td>\n",
       "      <td>[101, 2514, 5166, 7823, 3341, 3191, 3074, 2174...</td>\n",
       "    </tr>\n",
       "    <tr>\n",
       "      <th>86</th>\n",
       "      <td>P7</td>\n",
       "      <td>EC17</td>\n",
       "      <td>435</td>\n",
       "      <td>39</td>\n",
       "      <td>310</td>\n",
       "      <td>Car true daughter guy strategy.</td>\n",
       "      <td>[101, 2482, 2995, 2684, 3124, 5656, 1012, 102]</td>\n",
       "    </tr>\n",
       "    <tr>\n",
       "      <th>87</th>\n",
       "      <td>P7</td>\n",
       "      <td>EC17</td>\n",
       "      <td>435</td>\n",
       "      <td>40</td>\n",
       "      <td>311</td>\n",
       "      <td>Own thank himself within future.</td>\n",
       "      <td>[101, 2219, 4067, 2370, 2306, 2925, 1012, 102]</td>\n",
       "    </tr>\n",
       "  </tbody>\n",
       "</table>\n",
       "<p>2587 rows × 7 columns</p>\n",
       "</div>"
      ],
      "text/plain": [
       "   PID  ECID   PNID  PNSectID  SentID  \\\n",
       "0   P0  EC21  72374       149    1293   \n",
       "1   P0  EC21  72374       145    1272   \n",
       "2   P0  EC21  72374       145    1271   \n",
       "3   P0  EC21  72374       145    1270   \n",
       "4   P0  EC21  72374       145    1269   \n",
       "..  ..   ...    ...       ...     ...   \n",
       "83  P7  EC17    435        43     372   \n",
       "84  P7  EC17    435        43     373   \n",
       "85  P7  EC17    435        43     374   \n",
       "86  P7  EC17    435        39     310   \n",
       "87  P7  EC17    435        40     311   \n",
       "\n",
       "                                             Sentence  \\\n",
       "0      Later available sure scientist water out less.   \n",
       "1             Wear relationship down surface section.   \n",
       "2                         Concern painting able than.   \n",
       "3                     Quite together just fund field.   \n",
       "4       Owner PM building win cultural agent forward.   \n",
       "..                                                ...   \n",
       "83                    Man artist food area character.   \n",
       "84                       Language very back strategy.   \n",
       "85  Feel budget tough edge read collection however...   \n",
       "86                    Car true daughter guy strategy.   \n",
       "87                   Own thank himself within future.   \n",
       "\n",
       "                PNSectSent@Sentence-Tk@TknzLLMGrn_idx  \n",
       "0   [101, 2101, 2800, 2469, 7155, 2300, 2041, 2625...  \n",
       "1      [101, 4929, 3276, 2091, 3302, 2930, 1012, 102]  \n",
       "2            [101, 5142, 4169, 2583, 2084, 1012, 102]  \n",
       "3      [101, 3243, 2362, 2074, 4636, 2492, 1012, 102]  \n",
       "4   [101, 3954, 7610, 2311, 2663, 3451, 4005, 2830...  \n",
       "..                                                ...  \n",
       "83     [101, 2158, 3063, 2833, 2181, 2839, 1012, 102]  \n",
       "84           [101, 2653, 2200, 2067, 5656, 1012, 102]  \n",
       "85  [101, 2514, 5166, 7823, 3341, 3191, 3074, 2174...  \n",
       "86     [101, 2482, 2995, 2684, 3124, 5656, 1012, 102]  \n",
       "87     [101, 2219, 4067, 2370, 2306, 2925, 1012, 102]  \n",
       "\n",
       "[2587 rows x 7 columns]"
      ]
     },
     "execution_count": 24,
     "metadata": {},
     "output_type": "execute_result"
    }
   ],
   "source": [
    "suffix = '_idx' if 'Nume' not in recfield2grain else '_wgt'\n",
    "\n",
    "get_grn_idx_fn = Field2Grain_2_get_GrnIdxList_Fn[recfield2grain]\n",
    "\n",
    "## Pay attention to this `df`.\n",
    "\n",
    "df[recfield2grain + suffix] = df[field].apply(lambda x: get_grn_idx_fn(x, v2idx))\n",
    "df"
   ]
  },
  {
   "cell_type": "code",
   "execution_count": 25,
   "id": "acbafc24-6a9e-4f70-8af3-ec2100b44a62",
   "metadata": {},
   "outputs": [
    {
     "name": "stdout",
     "output_type": "stream",
     "text": [
      "['PID', 'ECID', 'PNID', 'PNSectID'] PNSectSent@Sentence-Tk@TknzLLMGrn_idx\n",
      "['PID', 'ECID', 'PNID'] PNSect-PNSectSent@Sentence-Tk@TknzLLMGrn_idx \n",
      "\n",
      "['PID', 'ECID', 'PNID'] PNSect-PNSectSent@Sentence-Tk@TknzLLMGrn_idx\n",
      "['PID', 'ECID'] PN-PNSect-PNSectSent@Sentence-Tk@TknzLLMGrn_idx \n",
      "\n",
      "['PID', 'ECID'] PN-PNSect-PNSectSent@Sentence-Tk@TknzLLMGrn_idx\n",
      "['PID'] EC-PN-PNSect-PNSectSent@Sentence-Tk@TknzLLMGrn_idx \n",
      "\n",
      "['PID'] EC-PN-PNSect-PNSectSent@Sentence-Tk@TknzLLMGrn_idx\n",
      "[] P-EC-PN-PNSect-PNSectSent@Sentence-Tk@TknzLLMGrn_idx \n",
      "\n"
     ]
    },
    {
     "data": {
      "text/html": [
       "<div>\n",
       "<style scoped>\n",
       "    .dataframe tbody tr th:only-of-type {\n",
       "        vertical-align: middle;\n",
       "    }\n",
       "\n",
       "    .dataframe tbody tr th {\n",
       "        vertical-align: top;\n",
       "    }\n",
       "\n",
       "    .dataframe thead th {\n",
       "        text-align: right;\n",
       "    }\n",
       "</style>\n",
       "<table border=\"1\" class=\"dataframe\">\n",
       "  <thead>\n",
       "    <tr style=\"text-align: right;\">\n",
       "      <th></th>\n",
       "      <th>P-EC-PN-PNSect-PNSectSent@Sentence-Tk@TknzLLMGrn_idx</th>\n",
       "    </tr>\n",
       "    <tr>\n",
       "      <th>PID</th>\n",
       "      <th></th>\n",
       "    </tr>\n",
       "  </thead>\n",
       "  <tbody>\n",
       "    <tr>\n",
       "      <th>P0</th>\n",
       "      <td>[[[[[101, 2739, 4950, 2025, 1012, 102]], [[101...</td>\n",
       "    </tr>\n",
       "    <tr>\n",
       "      <th>P1</th>\n",
       "      <td>[[[[[101, 3178, 5987, 1037, 2694, 1012, 102]],...</td>\n",
       "    </tr>\n",
       "    <tr>\n",
       "      <th>P2</th>\n",
       "      <td>[[[[[101, 2187, 2267, 2312, 3200, 2590, 2369, ...</td>\n",
       "    </tr>\n",
       "    <tr>\n",
       "      <th>P3</th>\n",
       "      <td>[[[[[101, 2055, 2832, 2574, 2735, 1012, 102]],...</td>\n",
       "    </tr>\n",
       "    <tr>\n",
       "      <th>P4</th>\n",
       "      <td>[[[[[101, 2085, 2934, 2161, 2283, 1012, 102]],...</td>\n",
       "    </tr>\n",
       "    <tr>\n",
       "      <th>P5</th>\n",
       "      <td>[[[[[101, 2565, 2653, 2946, 3260, 5293, 3267, ...</td>\n",
       "    </tr>\n",
       "    <tr>\n",
       "      <th>P6</th>\n",
       "      <td>[[[[[101, 4551, 4299, 3087, 2835, 2017, 2231, ...</td>\n",
       "    </tr>\n",
       "    <tr>\n",
       "      <th>P7</th>\n",
       "      <td>[[[[[101, 2482, 2995, 2684, 3124, 5656, 1012, ...</td>\n",
       "    </tr>\n",
       "  </tbody>\n",
       "</table>\n",
       "</div>"
      ],
      "text/plain": [
       "    P-EC-PN-PNSect-PNSectSent@Sentence-Tk@TknzLLMGrn_idx\n",
       "PID                                                     \n",
       "P0   [[[[[101, 2739, 4950, 2025, 1012, 102]], [[101...  \n",
       "P1   [[[[[101, 3178, 5987, 1037, 2694, 1012, 102]],...  \n",
       "P2   [[[[[101, 2187, 2267, 2312, 3200, 2590, 2369, ...  \n",
       "P3   [[[[[101, 2055, 2832, 2574, 2735, 1012, 102]],...  \n",
       "P4   [[[[[101, 2085, 2934, 2161, 2283, 1012, 102]],...  \n",
       "P5   [[[[[101, 2565, 2653, 2946, 3260, 5293, 3267, ...  \n",
       "P6   [[[[[101, 4551, 4299, 3087, 2835, 2017, 2231, ...  \n",
       "P7   [[[[[101, 2482, 2995, 2684, 3124, 5656, 1012, ...  "
      ]
     },
     "execution_count": 25,
     "metadata": {},
     "output_type": "execute_result"
    }
   ],
   "source": [
    "from recfldgrn.utils import get_compressed_df\n",
    "\n",
    "\n",
    "prefix_ids_c = prefix_ids\n",
    "top_id = prefix_ids[0]\n",
    "full_recfldgrn_name_c = recfield2grain + suffix\n",
    "df_Rec = df[prefix_ids_c + [full_recfldgrn_name_c]]\n",
    "\n",
    "for i in range(len(prefix_ids_c)):\n",
    "    print(prefix_ids_c, full_recfldgrn_name_c)\n",
    "    df_Rec, full_recfldgrn_name_c, prefix_ids_c = get_compressed_df(df_Rec, \n",
    "                                                                    full_recfldgrn_name_c, \n",
    "                                                                    prefix_ids_c)\n",
    "    print(prefix_ids_c, full_recfldgrn_name_c, '\\n')\n",
    "    \n",
    "df_p = df_Rec.set_index(top_id)\n",
    "df_p"
   ]
  },
  {
   "cell_type": "code",
   "execution_count": null,
   "id": "e30bde12-4fd7-4203-8cbc-6be9d398f688",
   "metadata": {},
   "outputs": [],
   "source": []
  },
  {
   "cell_type": "code",
   "execution_count": null,
   "id": "5b5e7ea0-5aed-474e-a811-d257fa6619cd",
   "metadata": {},
   "outputs": [],
   "source": []
  }
 ],
 "metadata": {
  "kernelspec": {
   "display_name": "Python 3 (ipykernel)",
   "language": "python",
   "name": "python3"
  },
  "language_info": {
   "codemirror_mode": {
    "name": "ipython",
    "version": 3
   },
   "file_extension": ".py",
   "mimetype": "text/x-python",
   "name": "python",
   "nbconvert_exporter": "python",
   "pygments_lexer": "ipython3",
   "version": "3.8.8"
  },
  "toc-autonumbering": true
 },
 "nbformat": 4,
 "nbformat_minor": 5
}
