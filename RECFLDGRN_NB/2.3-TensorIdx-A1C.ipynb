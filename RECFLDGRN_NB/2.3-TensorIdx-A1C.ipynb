{
 "cells": [
  {
   "cell_type": "code",
   "execution_count": 1,
   "id": "82a4ade6-2517-44ea-ac53-9fee492ae9c7",
   "metadata": {
    "tags": []
   },
   "outputs": [
    {
     "name": "stdout",
     "output_type": "stream",
     "text": [
      "/Users/floydluo/Library/CloudStorage/GoogleDrive-jjluo@terpmail.umd.edu/.shortcut-targets-by-id/1qNzMmGHCg5Xa63Vw3aKbZdMXvkfT2CgC/MedStar/MS_CODE/FieldNN\n"
     ]
    }
   ],
   "source": [
    "%cd .."
   ]
  },
  {
   "cell_type": "markdown",
   "id": "b8f7f518-05c9-4be9-a375-1c683fbbd605",
   "metadata": {},
   "source": [
    "# Data Point"
   ]
  },
  {
   "cell_type": "code",
   "execution_count": 2,
   "id": "eb00a045-950d-4b72-a1d3-428ef957ea8f",
   "metadata": {
    "tags": []
   },
   "outputs": [
    {
     "data": {
      "text/plain": [
       "<recfldgrn.datapoint.PatientDP at 0x7ff42076fa90>"
      ]
     },
     "execution_count": 2,
     "metadata": {},
     "output_type": "execute_result"
    }
   ],
   "source": [
    "from recfldgrn.datapoint import PatientDP, RANGE_SIZE\n",
    "\n",
    "PID = 'P4'\n",
    "rec_folder = 'data/ProcData/RecFolder/'\n",
    "Pat = PatientDP(PID, rec_folder, RANGE_SIZE)\n",
    "Pat"
   ]
  },
  {
   "cell_type": "code",
   "execution_count": 3,
   "id": "7ea19a4a-6246-4297-a1d9-656a4e7cc805",
   "metadata": {
    "tags": []
   },
   "outputs": [
    {
     "data": {
      "text/html": [
       "<div>\n",
       "<style scoped>\n",
       "    .dataframe tbody tr th:only-of-type {\n",
       "        vertical-align: middle;\n",
       "    }\n",
       "\n",
       "    .dataframe tbody tr th {\n",
       "        vertical-align: top;\n",
       "    }\n",
       "\n",
       "    .dataframe thead th {\n",
       "        text-align: right;\n",
       "    }\n",
       "</style>\n",
       "<table border=\"1\" class=\"dataframe\">\n",
       "  <thead>\n",
       "    <tr style=\"text-align: right;\">\n",
       "      <th></th>\n",
       "      <th>PID</th>\n",
       "      <th>ECID</th>\n",
       "      <th>RID</th>\n",
       "      <th>V</th>\n",
       "      <th>DT</th>\n",
       "    </tr>\n",
       "  </thead>\n",
       "  <tbody>\n",
       "    <tr>\n",
       "      <th>0</th>\n",
       "      <td>P4</td>\n",
       "      <td>EC196</td>\n",
       "      <td>3500</td>\n",
       "      <td>23.831523</td>\n",
       "      <td>2023-03-31</td>\n",
       "    </tr>\n",
       "    <tr>\n",
       "      <th>1</th>\n",
       "      <td>P4</td>\n",
       "      <td>EC36</td>\n",
       "      <td>5382</td>\n",
       "      <td>2.313767</td>\n",
       "      <td>2023-04-13</td>\n",
       "    </tr>\n",
       "    <tr>\n",
       "      <th>2</th>\n",
       "      <td>P4</td>\n",
       "      <td>EC197</td>\n",
       "      <td>3499</td>\n",
       "      <td>47.156259</td>\n",
       "      <td>2023-04-14</td>\n",
       "    </tr>\n",
       "  </tbody>\n",
       "</table>\n",
       "</div>"
      ],
      "text/plain": [
       "  PID   ECID   RID          V         DT\n",
       "0  P4  EC196  3500  23.831523 2023-03-31\n",
       "1  P4   EC36  5382   2.313767 2023-04-13\n",
       "2  P4  EC197  3499  47.156259 2023-04-14"
      ]
     },
     "execution_count": 3,
     "metadata": {},
     "output_type": "execute_result"
    }
   ],
   "source": [
    "####################\n",
    "RecName = 'A1C'\n",
    "####################\n",
    "\n",
    "df = Pat.get_df_rec(RecName)\n",
    "df"
   ]
  },
  {
   "cell_type": "markdown",
   "id": "9a502eac-a8e6-4ddb-998f-0c2d7c2451b4",
   "metadata": {},
   "source": [
    "# Task Selection"
   ]
  },
  {
   "cell_type": "code",
   "execution_count": 4,
   "id": "c7b937e5-6685-4864-b121-819765aa98f1",
   "metadata": {
    "tags": []
   },
   "outputs": [
    {
     "data": {
      "text/plain": [
       "['P0', 'P1', 'P2', 'P3', 'P4', 'P5', 'P6', 'P7']"
      ]
     },
     "execution_count": 4,
     "metadata": {},
     "output_type": "execute_result"
    }
   ],
   "source": [
    "TaskName = 'Task2YearXXX'\n",
    "\n",
    "ELIG_PAT_SET = [f'P{i}' for i in range(0, 8)]\n",
    "ELIG_PAT_SET"
   ]
  },
  {
   "cell_type": "code",
   "execution_count": 5,
   "id": "0e68b259-197f-4852-8109-abb57cb11ef7",
   "metadata": {
    "tags": []
   },
   "outputs": [
    {
     "name": "stdout",
     "output_type": "stream",
     "text": [
      "data/ProcData/TensorFolder/Task2YearXXX\n"
     ]
    }
   ],
   "source": [
    "import os\n",
    "import pandas as pd\n",
    "\n",
    "Tensor_folder = 'data/ProcData/TensorFolder'\n",
    "TaskTensor_folder = os.path.join(Tensor_folder, TaskName)\n",
    "\n",
    "if not os.path.exists(TaskTensor_folder): os.makedirs(TaskTensor_folder)\n",
    "\n",
    "print(TaskTensor_folder)"
   ]
  },
  {
   "cell_type": "code",
   "execution_count": 6,
   "id": "1d481217-f7f7-4d3c-86f7-2f15cec0f321",
   "metadata": {
    "tags": []
   },
   "outputs": [
    {
     "name": "stdout",
     "output_type": "stream",
     "text": [
      "(27, 5)\n"
     ]
    },
    {
     "data": {
      "text/html": [
       "<div>\n",
       "<style scoped>\n",
       "    .dataframe tbody tr th:only-of-type {\n",
       "        vertical-align: middle;\n",
       "    }\n",
       "\n",
       "    .dataframe tbody tr th {\n",
       "        vertical-align: top;\n",
       "    }\n",
       "\n",
       "    .dataframe thead th {\n",
       "        text-align: right;\n",
       "    }\n",
       "</style>\n",
       "<table border=\"1\" class=\"dataframe\">\n",
       "  <thead>\n",
       "    <tr style=\"text-align: right;\">\n",
       "      <th></th>\n",
       "      <th>PID</th>\n",
       "      <th>ECID</th>\n",
       "      <th>RID</th>\n",
       "      <th>V</th>\n",
       "      <th>DT</th>\n",
       "    </tr>\n",
       "  </thead>\n",
       "  <tbody>\n",
       "    <tr>\n",
       "      <th>0</th>\n",
       "      <td>P0</td>\n",
       "      <td>EC13</td>\n",
       "      <td>5050</td>\n",
       "      <td>36.499557</td>\n",
       "      <td>2023-03-27</td>\n",
       "    </tr>\n",
       "    <tr>\n",
       "      <th>1</th>\n",
       "      <td>P0</td>\n",
       "      <td>EC14</td>\n",
       "      <td>4651</td>\n",
       "      <td>36.247254</td>\n",
       "      <td>2023-04-06</td>\n",
       "    </tr>\n",
       "    <tr>\n",
       "      <th>2</th>\n",
       "      <td>P0</td>\n",
       "      <td>EC18</td>\n",
       "      <td>5801</td>\n",
       "      <td>9.260195</td>\n",
       "      <td>2023-04-08</td>\n",
       "    </tr>\n",
       "    <tr>\n",
       "      <th>3</th>\n",
       "      <td>P0</td>\n",
       "      <td>EC87</td>\n",
       "      <td>3542</td>\n",
       "      <td>44.569271</td>\n",
       "      <td>2023-04-09</td>\n",
       "    </tr>\n",
       "    <tr>\n",
       "      <th>4</th>\n",
       "      <td>P0</td>\n",
       "      <td>EC201</td>\n",
       "      <td>5800</td>\n",
       "      <td>17.660021</td>\n",
       "      <td>2023-04-12</td>\n",
       "    </tr>\n",
       "    <tr>\n",
       "      <th>0</th>\n",
       "      <td>P1</td>\n",
       "      <td>EC33</td>\n",
       "      <td>5799</td>\n",
       "      <td>15.500044</td>\n",
       "      <td>2023-03-25</td>\n",
       "    </tr>\n",
       "    <tr>\n",
       "      <th>1</th>\n",
       "      <td>P1</td>\n",
       "      <td>EC0</td>\n",
       "      <td>4649</td>\n",
       "      <td>45.309869</td>\n",
       "      <td>2023-04-02</td>\n",
       "    </tr>\n",
       "    <tr>\n",
       "      <th>2</th>\n",
       "      <td>P1</td>\n",
       "      <td>EC26</td>\n",
       "      <td>6204</td>\n",
       "      <td>21.664842</td>\n",
       "      <td>2023-04-06</td>\n",
       "    </tr>\n",
       "    <tr>\n",
       "      <th>3</th>\n",
       "      <td>P1</td>\n",
       "      <td>EC2</td>\n",
       "      <td>3541</td>\n",
       "      <td>31.810007</td>\n",
       "      <td>2023-04-06</td>\n",
       "    </tr>\n",
       "    <tr>\n",
       "      <th>4</th>\n",
       "      <td>P1</td>\n",
       "      <td>EC28</td>\n",
       "      <td>3897</td>\n",
       "      <td>32.831454</td>\n",
       "      <td>2023-04-08</td>\n",
       "    </tr>\n",
       "    <tr>\n",
       "      <th>5</th>\n",
       "      <td>P1</td>\n",
       "      <td>EC25</td>\n",
       "      <td>3896</td>\n",
       "      <td>7.628861</td>\n",
       "      <td>2023-04-10</td>\n",
       "    </tr>\n",
       "    <tr>\n",
       "      <th>6</th>\n",
       "      <td>P1</td>\n",
       "      <td>EC27</td>\n",
       "      <td>5048</td>\n",
       "      <td>38.356969</td>\n",
       "      <td>2023-04-13</td>\n",
       "    </tr>\n",
       "    <tr>\n",
       "      <th>0</th>\n",
       "      <td>P2</td>\n",
       "      <td>EC71</td>\n",
       "      <td>5770</td>\n",
       "      <td>20.662630</td>\n",
       "      <td>2023-03-19</td>\n",
       "    </tr>\n",
       "    <tr>\n",
       "      <th>1</th>\n",
       "      <td>P2</td>\n",
       "      <td>EC51</td>\n",
       "      <td>6171</td>\n",
       "      <td>2.577225</td>\n",
       "      <td>2023-03-25</td>\n",
       "    </tr>\n",
       "    <tr>\n",
       "      <th>2</th>\n",
       "      <td>P2</td>\n",
       "      <td>EC75</td>\n",
       "      <td>3861</td>\n",
       "      <td>16.653541</td>\n",
       "      <td>2023-04-08</td>\n",
       "    </tr>\n",
       "    <tr>\n",
       "      <th>3</th>\n",
       "      <td>P2</td>\n",
       "      <td>EC35</td>\n",
       "      <td>4616</td>\n",
       "      <td>7.850530</td>\n",
       "      <td>2023-04-11</td>\n",
       "    </tr>\n",
       "    <tr>\n",
       "      <th>0</th>\n",
       "      <td>P3</td>\n",
       "      <td>EC69</td>\n",
       "      <td>6202</td>\n",
       "      <td>31.077959</td>\n",
       "      <td>2023-04-15</td>\n",
       "    </tr>\n",
       "    <tr>\n",
       "      <th>0</th>\n",
       "      <td>P4</td>\n",
       "      <td>EC196</td>\n",
       "      <td>3500</td>\n",
       "      <td>23.831523</td>\n",
       "      <td>2023-03-31</td>\n",
       "    </tr>\n",
       "    <tr>\n",
       "      <th>1</th>\n",
       "      <td>P4</td>\n",
       "      <td>EC36</td>\n",
       "      <td>5382</td>\n",
       "      <td>2.313767</td>\n",
       "      <td>2023-04-13</td>\n",
       "    </tr>\n",
       "    <tr>\n",
       "      <th>2</th>\n",
       "      <td>P4</td>\n",
       "      <td>EC197</td>\n",
       "      <td>3499</td>\n",
       "      <td>47.156259</td>\n",
       "      <td>2023-04-14</td>\n",
       "    </tr>\n",
       "    <tr>\n",
       "      <th>0</th>\n",
       "      <td>P5</td>\n",
       "      <td>EC198</td>\n",
       "      <td>3879</td>\n",
       "      <td>37.447457</td>\n",
       "      <td>2023-04-04</td>\n",
       "    </tr>\n",
       "    <tr>\n",
       "      <th>1</th>\n",
       "      <td>P5</td>\n",
       "      <td>EC200</td>\n",
       "      <td>3524</td>\n",
       "      <td>49.140256</td>\n",
       "      <td>2023-04-09</td>\n",
       "    </tr>\n",
       "    <tr>\n",
       "      <th>2</th>\n",
       "      <td>P5</td>\n",
       "      <td>EC199</td>\n",
       "      <td>5409</td>\n",
       "      <td>17.241648</td>\n",
       "      <td>2023-04-11</td>\n",
       "    </tr>\n",
       "    <tr>\n",
       "      <th>0</th>\n",
       "      <td>P6</td>\n",
       "      <td>EC195</td>\n",
       "      <td>5056</td>\n",
       "      <td>46.861784</td>\n",
       "      <td>2023-03-25</td>\n",
       "    </tr>\n",
       "    <tr>\n",
       "      <th>1</th>\n",
       "      <td>P6</td>\n",
       "      <td>EC15</td>\n",
       "      <td>3546</td>\n",
       "      <td>16.714732</td>\n",
       "      <td>2023-04-09</td>\n",
       "    </tr>\n",
       "    <tr>\n",
       "      <th>2</th>\n",
       "      <td>P6</td>\n",
       "      <td>EC115</td>\n",
       "      <td>3898</td>\n",
       "      <td>1.220883</td>\n",
       "      <td>2023-04-12</td>\n",
       "    </tr>\n",
       "    <tr>\n",
       "      <th>0</th>\n",
       "      <td>P7</td>\n",
       "      <td>EC17</td>\n",
       "      <td>4555</td>\n",
       "      <td>17.246819</td>\n",
       "      <td>2023-04-06</td>\n",
       "    </tr>\n",
       "  </tbody>\n",
       "</table>\n",
       "</div>"
      ],
      "text/plain": [
       "  PID   ECID   RID          V         DT\n",
       "0  P0   EC13  5050  36.499557 2023-03-27\n",
       "1  P0   EC14  4651  36.247254 2023-04-06\n",
       "2  P0   EC18  5801   9.260195 2023-04-08\n",
       "3  P0   EC87  3542  44.569271 2023-04-09\n",
       "4  P0  EC201  5800  17.660021 2023-04-12\n",
       "0  P1   EC33  5799  15.500044 2023-03-25\n",
       "1  P1    EC0  4649  45.309869 2023-04-02\n",
       "2  P1   EC26  6204  21.664842 2023-04-06\n",
       "3  P1    EC2  3541  31.810007 2023-04-06\n",
       "4  P1   EC28  3897  32.831454 2023-04-08\n",
       "5  P1   EC25  3896   7.628861 2023-04-10\n",
       "6  P1   EC27  5048  38.356969 2023-04-13\n",
       "0  P2   EC71  5770  20.662630 2023-03-19\n",
       "1  P2   EC51  6171   2.577225 2023-03-25\n",
       "2  P2   EC75  3861  16.653541 2023-04-08\n",
       "3  P2   EC35  4616   7.850530 2023-04-11\n",
       "0  P3   EC69  6202  31.077959 2023-04-15\n",
       "0  P4  EC196  3500  23.831523 2023-03-31\n",
       "1  P4   EC36  5382   2.313767 2023-04-13\n",
       "2  P4  EC197  3499  47.156259 2023-04-14\n",
       "0  P5  EC198  3879  37.447457 2023-04-04\n",
       "1  P5  EC200  3524  49.140256 2023-04-09\n",
       "2  P5  EC199  5409  17.241648 2023-04-11\n",
       "0  P6  EC195  5056  46.861784 2023-03-25\n",
       "1  P6   EC15  3546  16.714732 2023-04-09\n",
       "2  P6  EC115  3898   1.220883 2023-04-12\n",
       "0  P7   EC17  4555  17.246819 2023-04-06"
      ]
     },
     "execution_count": 6,
     "metadata": {},
     "output_type": "execute_result"
    }
   ],
   "source": [
    "######################### Change this\n",
    "RecName = 'A1C'\n",
    "######################### \n",
    "\n",
    "\n",
    "df = pd.DataFrame()\n",
    "for PID in ELIG_PAT_SET:\n",
    "    Pat = PatientDP(PID, rec_folder, RANGE_SIZE)\n",
    "    dfx = Pat.get_df_rec(RecName)\n",
    "    \n",
    "    ###################################\n",
    "    # TODO: make some operation to select good dfx\n",
    "    dfx = dfx \n",
    "    ###################################\n",
    "    \n",
    "    df = pd.concat([df, dfx])\n",
    "    \n",
    "print(df.shape)\n",
    "df"
   ]
  },
  {
   "cell_type": "markdown",
   "id": "75a8a5c0-31f8-496e-9a28-7209349b0194",
   "metadata": {},
   "source": [
    "# Load Meta Info"
   ]
  },
  {
   "cell_type": "code",
   "execution_count": 7,
   "id": "135e3109-ac53-468c-a35e-ae0a15cb8361",
   "metadata": {
    "tags": []
   },
   "outputs": [
    {
     "data": {
      "text/html": [
       "<div>\n",
       "<style scoped>\n",
       "    .dataframe tbody tr th:only-of-type {\n",
       "        vertical-align: middle;\n",
       "    }\n",
       "\n",
       "    .dataframe tbody tr th {\n",
       "        vertical-align: top;\n",
       "    }\n",
       "\n",
       "    .dataframe thead th {\n",
       "        text-align: right;\n",
       "    }\n",
       "</style>\n",
       "<table border=\"1\" class=\"dataframe\">\n",
       "  <thead>\n",
       "    <tr style=\"text-align: right;\">\n",
       "      <th></th>\n",
       "      <th>RecName</th>\n",
       "      <th>prefix_ids</th>\n",
       "      <th>focal_ids</th>\n",
       "      <th>field_list</th>\n",
       "      <th>field</th>\n",
       "      <th>grain</th>\n",
       "      <th>field2grain</th>\n",
       "      <th>recfield2grain</th>\n",
       "      <th>Vocab</th>\n",
       "    </tr>\n",
       "  </thead>\n",
       "  <tbody>\n",
       "    <tr>\n",
       "      <th>0</th>\n",
       "      <td>A1C</td>\n",
       "      <td>[PID, ECID]</td>\n",
       "      <td>[RID]</td>\n",
       "      <td>[V, DT]</td>\n",
       "      <td>V</td>\n",
       "      <td>A1CNumeDftGrn</td>\n",
       "      <td>V-A1CNumeDftGrn</td>\n",
       "      <td>A1C@V-A1CNumeDftGrn</td>\n",
       "      <td>{'v2idx': [1, 1, 1, 1, 1, 1, 1, 1, 1, 1, 1, 1,...</td>\n",
       "    </tr>\n",
       "    <tr>\n",
       "      <th>1</th>\n",
       "      <td>A1C</td>\n",
       "      <td>[PID, ECID]</td>\n",
       "      <td>[RID]</td>\n",
       "      <td>[V, DT]</td>\n",
       "      <td>DT</td>\n",
       "      <td>DTDftGrn</td>\n",
       "      <td>DT-DTDftGrn</td>\n",
       "      <td>A1C@DT-DTDftGrn</td>\n",
       "      <td>{'idx2v': {0: '_missing', 1: 'Yx', 2: 'Y2010',...</td>\n",
       "    </tr>\n",
       "  </tbody>\n",
       "</table>\n",
       "</div>"
      ],
      "text/plain": [
       "  RecName   prefix_ids focal_ids field_list field          grain  \\\n",
       "0     A1C  [PID, ECID]     [RID]    [V, DT]     V  A1CNumeDftGrn   \n",
       "1     A1C  [PID, ECID]     [RID]    [V, DT]    DT       DTDftGrn   \n",
       "\n",
       "       field2grain       recfield2grain  \\\n",
       "0  V-A1CNumeDftGrn  A1C@V-A1CNumeDftGrn   \n",
       "1      DT-DTDftGrn      A1C@DT-DTDftGrn   \n",
       "\n",
       "                                               Vocab  \n",
       "0  {'v2idx': [1, 1, 1, 1, 1, 1, 1, 1, 1, 1, 1, 1,...  \n",
       "1  {'idx2v': {0: '_missing', 1: 'Yx', 2: 'Y2010',...  "
      ]
     },
     "execution_count": 7,
     "metadata": {},
     "output_type": "execute_result"
    }
   ],
   "source": [
    "import os\n",
    "import pandas as pd\n",
    "\n",
    "fldgrn_folder = 'data/ProcData/FldGrnInfo'\n",
    "\n",
    "fullfldgrn_file = os.path.join(fldgrn_folder, RecName + '.p')\n",
    "\n",
    "df_FieldGrainInfo = pd.read_pickle(fullfldgrn_file)\n",
    "df_FieldGrainInfo"
   ]
  },
  {
   "cell_type": "markdown",
   "id": "d59b90b4-d4f9-4aea-87d4-d5b6a0b033c8",
   "metadata": {},
   "source": [
    "# RecFldGrn `A1C@V-A1CNumeDftGrn`"
   ]
  },
  {
   "cell_type": "code",
   "execution_count": 8,
   "id": "6642a79c-33b1-4a25-ad28-926c4d8cc1d5",
   "metadata": {
    "tags": []
   },
   "outputs": [],
   "source": [
    "from recfldgrn.grains import Field2Grain_2_get_GrnStrList_Fn\n",
    "from recfldgrn.grains import Field2Grain_2_get_GrnIdxList_Fn\n",
    "from recfldgrn.grains import Field2Grain_2_get_GrnWgtList_Fn\n",
    "from recfldgrn.utils import generate_grain_vocab_info\n",
    "from recfldgrn.utils import get_compressed_df\n",
    "from recfldgrn.datapoint import write_df_to_folders"
   ]
  },
  {
   "cell_type": "code",
   "execution_count": 9,
   "id": "fcb8c02d-adfb-4c4e-9df0-a4b4354c9607",
   "metadata": {
    "tags": []
   },
   "outputs": [],
   "source": [
    "from recfldgrn.utils import get_highorder_input_idx"
   ]
  },
  {
   "cell_type": "code",
   "execution_count": 10,
   "id": "cb570ab8-d650-49ee-87ef-d6f86fb9467c",
   "metadata": {
    "tags": []
   },
   "outputs": [
    {
     "data": {
      "text/plain": [
       "'data/ProcData/TensorFolder/Task2YearXXX'"
      ]
     },
     "execution_count": 10,
     "metadata": {},
     "output_type": "execute_result"
    }
   ],
   "source": [
    "TaskTensor_folder"
   ]
  },
  {
   "cell_type": "code",
   "execution_count": 11,
   "id": "5711417c-33d2-4e9d-9a1c-78c22d2b8b62",
   "metadata": {
    "tags": []
   },
   "outputs": [
    {
     "name": "stdout",
     "output_type": "stream",
     "text": [
      "(27, 6) data/ProcData/TensorFolder/Task2YearXXX/A1C@V-A1CNumeDftGrn\n"
     ]
    },
    {
     "data": {
      "text/html": [
       "<div>\n",
       "<style scoped>\n",
       "    .dataframe tbody tr th:only-of-type {\n",
       "        vertical-align: middle;\n",
       "    }\n",
       "\n",
       "    .dataframe tbody tr th {\n",
       "        vertical-align: top;\n",
       "    }\n",
       "\n",
       "    .dataframe thead th {\n",
       "        text-align: right;\n",
       "    }\n",
       "</style>\n",
       "<table border=\"1\" class=\"dataframe\">\n",
       "  <thead>\n",
       "    <tr style=\"text-align: right;\">\n",
       "      <th></th>\n",
       "      <th>PID</th>\n",
       "      <th>P-EC-A1C@V-A1CNumeDftGrn_wgt</th>\n",
       "    </tr>\n",
       "  </thead>\n",
       "  <tbody>\n",
       "    <tr>\n",
       "      <th>0</th>\n",
       "      <td>P0</td>\n",
       "      <td>[[[0, 0, 0, 0, 8.571301925765386, 1, 1.0, 1.0,...</td>\n",
       "    </tr>\n",
       "    <tr>\n",
       "      <th>1</th>\n",
       "      <td>P1</td>\n",
       "      <td>[[[0, 0, 0, 0, 11.08853405587856, 1, 1.0, 1.0,...</td>\n",
       "    </tr>\n",
       "    <tr>\n",
       "      <th>2</th>\n",
       "      <td>P2</td>\n",
       "      <td>[[[0, 0, 0, 0, 0.38586582765888877, 1, 1.0, 1....</td>\n",
       "    </tr>\n",
       "    <tr>\n",
       "      <th>3</th>\n",
       "      <td>P3</td>\n",
       "      <td>[[[0, 0, 0, 0, 7.022274046376522, 1, 1.0, 1.0,...</td>\n",
       "    </tr>\n",
       "    <tr>\n",
       "      <th>4</th>\n",
       "      <td>P4</td>\n",
       "      <td>[[[0, 0, 0, 0, 4.951863775201697, 1, 1.0, 1.0,...</td>\n",
       "    </tr>\n",
       "    <tr>\n",
       "      <th>5</th>\n",
       "      <td>P5</td>\n",
       "      <td>[[[0, 0, 0, 0, 8.842130499673823, 1, 1.0, 1.0,...</td>\n",
       "    </tr>\n",
       "    <tr>\n",
       "      <th>6</th>\n",
       "      <td>P6</td>\n",
       "      <td>[[[0, 0, 0, 0.6511763706255762, 0, 0, 0.0, 0.0...</td>\n",
       "    </tr>\n",
       "    <tr>\n",
       "      <th>7</th>\n",
       "      <td>P7</td>\n",
       "      <td>[[[0, 0, 0, 0, 3.0705198239387923, 1, 1.0, 1.0...</td>\n",
       "    </tr>\n",
       "  </tbody>\n",
       "</table>\n",
       "</div>"
      ],
      "text/plain": [
       "  PID                       P-EC-A1C@V-A1CNumeDftGrn_wgt\n",
       "0  P0  [[[0, 0, 0, 0, 8.571301925765386, 1, 1.0, 1.0,...\n",
       "1  P1  [[[0, 0, 0, 0, 11.08853405587856, 1, 1.0, 1.0,...\n",
       "2  P2  [[[0, 0, 0, 0, 0.38586582765888877, 1, 1.0, 1....\n",
       "3  P3  [[[0, 0, 0, 0, 7.022274046376522, 1, 1.0, 1.0,...\n",
       "4  P4  [[[0, 0, 0, 0, 4.951863775201697, 1, 1.0, 1.0,...\n",
       "5  P5  [[[0, 0, 0, 0, 8.842130499673823, 1, 1.0, 1.0,...\n",
       "6  P6  [[[0, 0, 0, 0.6511763706255762, 0, 0, 0.0, 0.0...\n",
       "7  P7  [[[0, 0, 0, 0, 3.0705198239387923, 1, 1.0, 1.0..."
      ]
     },
     "execution_count": 11,
     "metadata": {},
     "output_type": "execute_result"
    }
   ],
   "source": [
    "######################### Change this\n",
    "recfield2grain = 'A1C@V-A1CNumeDftGrn'\n",
    "#########################\n",
    "\n",
    "\n",
    "d = df_FieldGrainInfo[df_FieldGrainInfo['recfield2grain'] == recfield2grain].iloc[0]\n",
    "v2idx = d['Vocab']['v2idx']\n",
    "prefix_ids = d['prefix_ids']\n",
    "focal_ids = d['focal_ids']\n",
    "\n",
    "df_p = get_highorder_input_idx(df, recfield2grain, \n",
    "                               v2idx, prefix_ids, focal_ids,\n",
    "                               Field2Grain_2_get_GrnIdxList_Fn, \n",
    "                               Field2Grain_2_get_GrnWgtList_Fn)\n",
    "\n",
    "\n",
    "\n",
    "fullTaskTensor_folder = os.path.join(TaskTensor_folder, recfield2grain)\n",
    "print(df.shape, fullTaskTensor_folder)\n",
    "if not os.path.exists(fullTaskTensor_folder): os.makedirs(fullTaskTensor_folder)\n",
    "write_df_to_folders(recfield2grain, fullTaskTensor_folder, df_p)\n",
    "\n",
    "df_p"
   ]
  },
  {
   "cell_type": "markdown",
   "id": "b74ad689-41f2-4b27-b7ac-13f23a74d6bc",
   "metadata": {},
   "source": [
    "# RecFldGrn `A1C@DT-DTDftGrn`"
   ]
  },
  {
   "cell_type": "code",
   "execution_count": 12,
   "id": "8d7fbdde-ce81-49c3-8246-6b4e1b835baf",
   "metadata": {
    "tags": []
   },
   "outputs": [
    {
     "name": "stdout",
     "output_type": "stream",
     "text": [
      "(27, 7) data/ProcData/TensorFolder/Task2YearXXX/A1C@DT-DTDftGrn\n"
     ]
    },
    {
     "data": {
      "text/html": [
       "<div>\n",
       "<style scoped>\n",
       "    .dataframe tbody tr th:only-of-type {\n",
       "        vertical-align: middle;\n",
       "    }\n",
       "\n",
       "    .dataframe tbody tr th {\n",
       "        vertical-align: top;\n",
       "    }\n",
       "\n",
       "    .dataframe thead th {\n",
       "        text-align: right;\n",
       "    }\n",
       "</style>\n",
       "<table border=\"1\" class=\"dataframe\">\n",
       "  <thead>\n",
       "    <tr style=\"text-align: right;\">\n",
       "      <th></th>\n",
       "      <th>PID</th>\n",
       "      <th>P-EC-A1C@DT-DTDftGrn_idx</th>\n",
       "    </tr>\n",
       "  </thead>\n",
       "  <tbody>\n",
       "    <tr>\n",
       "      <th>0</th>\n",
       "      <td>P0</td>\n",
       "      <td>[[[15, 25, 62, 68, 73, 94, 137]], [[15, 26, 41...</td>\n",
       "    </tr>\n",
       "    <tr>\n",
       "      <th>1</th>\n",
       "      <td>P1</td>\n",
       "      <td>[[[15, 26, 37, 69, 79, 94, 137]], [[15, 26, 41...</td>\n",
       "    </tr>\n",
       "    <tr>\n",
       "      <th>2</th>\n",
       "      <td>P2</td>\n",
       "      <td>[[[15, 26, 46, 69, 74, 96, 137]], [[15, 25, 60...</td>\n",
       "    </tr>\n",
       "    <tr>\n",
       "      <th>3</th>\n",
       "      <td>P3</td>\n",
       "      <td>[[[15, 26, 50, 69, 78, 96, 137]]]</td>\n",
       "    </tr>\n",
       "    <tr>\n",
       "      <th>4</th>\n",
       "      <td>P4</td>\n",
       "      <td>[[[15, 25, 66, 68, 77, 94, 137]], [[15, 26, 49...</td>\n",
       "    </tr>\n",
       "    <tr>\n",
       "      <th>5</th>\n",
       "      <td>P5</td>\n",
       "      <td>[[[15, 26, 39, 69, 74, 95, 137]], [[15, 26, 46...</td>\n",
       "    </tr>\n",
       "    <tr>\n",
       "      <th>6</th>\n",
       "      <td>P6</td>\n",
       "      <td>[[[15, 26, 47, 69, 75, 96, 137]], [[15, 26, 44...</td>\n",
       "    </tr>\n",
       "    <tr>\n",
       "      <th>7</th>\n",
       "      <td>P7</td>\n",
       "      <td>[[[15, 26, 41, 69, 76, 95, 137]]]</td>\n",
       "    </tr>\n",
       "  </tbody>\n",
       "</table>\n",
       "</div>"
      ],
      "text/plain": [
       "  PID                           P-EC-A1C@DT-DTDftGrn_idx\n",
       "0  P0  [[[15, 25, 62, 68, 73, 94, 137]], [[15, 26, 41...\n",
       "1  P1  [[[15, 26, 37, 69, 79, 94, 137]], [[15, 26, 41...\n",
       "2  P2  [[[15, 26, 46, 69, 74, 96, 137]], [[15, 25, 60...\n",
       "3  P3                  [[[15, 26, 50, 69, 78, 96, 137]]]\n",
       "4  P4  [[[15, 25, 66, 68, 77, 94, 137]], [[15, 26, 49...\n",
       "5  P5  [[[15, 26, 39, 69, 74, 95, 137]], [[15, 26, 46...\n",
       "6  P6  [[[15, 26, 47, 69, 75, 96, 137]], [[15, 26, 44...\n",
       "7  P7                  [[[15, 26, 41, 69, 76, 95, 137]]]"
      ]
     },
     "execution_count": 12,
     "metadata": {},
     "output_type": "execute_result"
    }
   ],
   "source": [
    "######################### Change this\n",
    "recfield2grain = 'A1C@DT-DTDftGrn'\n",
    "#########################\n",
    "\n",
    "d = df_FieldGrainInfo[df_FieldGrainInfo['recfield2grain'] == recfield2grain].iloc[0]\n",
    "v2idx = d['Vocab']['v2idx']\n",
    "prefix_ids = d['prefix_ids']\n",
    "focal_ids = d['focal_ids']\n",
    "\n",
    "df_p = get_highorder_input_idx(df, recfield2grain, \n",
    "                               v2idx, prefix_ids, focal_ids,\n",
    "                               Field2Grain_2_get_GrnIdxList_Fn, \n",
    "                               Field2Grain_2_get_GrnWgtList_Fn)\n",
    "\n",
    "\n",
    "fullTaskTensor_folder = os.path.join(TaskTensor_folder, recfield2grain)\n",
    "print(df.shape, fullTaskTensor_folder)\n",
    "if not os.path.exists(fullTaskTensor_folder): os.makedirs(fullTaskTensor_folder)\n",
    "write_df_to_folders(recfield2grain, fullTaskTensor_folder, df_p)\n",
    "\n",
    "df_p"
   ]
  },
  {
   "cell_type": "code",
   "execution_count": null,
   "id": "eced6ecd-d071-4ae0-93a0-94a5473ad8be",
   "metadata": {},
   "outputs": [],
   "source": []
  }
 ],
 "metadata": {
  "kernelspec": {
   "display_name": "Python 3 (ipykernel)",
   "language": "python",
   "name": "python3"
  },
  "language_info": {
   "codemirror_mode": {
    "name": "ipython",
    "version": 3
   },
   "file_extension": ".py",
   "mimetype": "text/x-python",
   "name": "python",
   "nbconvert_exporter": "python",
   "pygments_lexer": "ipython3",
   "version": "3.8.8"
  },
  "toc-autonumbering": true
 },
 "nbformat": 4,
 "nbformat_minor": 5
}
