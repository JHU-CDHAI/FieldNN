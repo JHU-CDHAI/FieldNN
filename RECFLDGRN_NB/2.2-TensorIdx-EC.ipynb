{
 "cells": [
  {
   "cell_type": "code",
   "execution_count": 1,
   "id": "82a4ade6-2517-44ea-ac53-9fee492ae9c7",
   "metadata": {
    "tags": []
   },
   "outputs": [
    {
     "name": "stdout",
     "output_type": "stream",
     "text": [
      "/Users/floydluo/Library/CloudStorage/GoogleDrive-jjluo@terpmail.umd.edu/.shortcut-targets-by-id/1qNzMmGHCg5Xa63Vw3aKbZdMXvkfT2CgC/MedStar/MS_CODE/RecFldGrn\n"
     ]
    }
   ],
   "source": [
    "%cd .."
   ]
  },
  {
   "cell_type": "markdown",
   "id": "b8f7f518-05c9-4be9-a375-1c683fbbd605",
   "metadata": {},
   "source": [
    "# Data Point"
   ]
  },
  {
   "cell_type": "code",
   "execution_count": 2,
   "id": "eb00a045-950d-4b72-a1d3-428ef957ea8f",
   "metadata": {
    "tags": []
   },
   "outputs": [
    {
     "data": {
      "text/plain": [
       "<recfldgrn.datapoint.PatientDP at 0x7fa9e1695310>"
      ]
     },
     "execution_count": 2,
     "metadata": {},
     "output_type": "execute_result"
    }
   ],
   "source": [
    "from recfldgrn.datapoint import PatientDP, RANGE_SIZE\n",
    "\n",
    "PID = 'P4'\n",
    "rec_folder = 'data/ProcData/RecFolder/'\n",
    "Pat = PatientDP(PID, rec_folder, RANGE_SIZE)\n",
    "Pat"
   ]
  },
  {
   "cell_type": "code",
   "execution_count": 3,
   "id": "7ea19a4a-6246-4297-a1d9-656a4e7cc805",
   "metadata": {
    "tags": []
   },
   "outputs": [
    {
     "data": {
      "text/html": [
       "<div>\n",
       "<style scoped>\n",
       "    .dataframe tbody tr th:only-of-type {\n",
       "        vertical-align: middle;\n",
       "    }\n",
       "\n",
       "    .dataframe tbody tr th {\n",
       "        vertical-align: top;\n",
       "    }\n",
       "\n",
       "    .dataframe thead th {\n",
       "        text-align: right;\n",
       "    }\n",
       "</style>\n",
       "<table border=\"1\" class=\"dataframe\">\n",
       "  <thead>\n",
       "    <tr style=\"text-align: right;\">\n",
       "      <th></th>\n",
       "      <th>PID</th>\n",
       "      <th>ECID</th>\n",
       "      <th>DT_min</th>\n",
       "      <th>DT_max</th>\n",
       "      <th>BasicInfo</th>\n",
       "    </tr>\n",
       "  </thead>\n",
       "  <tbody>\n",
       "    <tr>\n",
       "      <th>0</th>\n",
       "      <td>P4</td>\n",
       "      <td>EC125</td>\n",
       "      <td>2023-03-18</td>\n",
       "      <td>2023-04-02</td>\n",
       "      <td>B&amp;Z</td>\n",
       "    </tr>\n",
       "    <tr>\n",
       "      <th>1</th>\n",
       "      <td>P4</td>\n",
       "      <td>EC24</td>\n",
       "      <td>2023-03-18</td>\n",
       "      <td>2023-04-16</td>\n",
       "      <td>B&amp;Z</td>\n",
       "    </tr>\n",
       "    <tr>\n",
       "      <th>2</th>\n",
       "      <td>P4</td>\n",
       "      <td>EC36</td>\n",
       "      <td>2023-03-18</td>\n",
       "      <td>2023-04-13</td>\n",
       "      <td>C&amp;W</td>\n",
       "    </tr>\n",
       "    <tr>\n",
       "      <th>3</th>\n",
       "      <td>P4</td>\n",
       "      <td>EC80</td>\n",
       "      <td>2023-03-19</td>\n",
       "      <td>2023-04-15</td>\n",
       "      <td>D&amp;X</td>\n",
       "    </tr>\n",
       "    <tr>\n",
       "      <th>4</th>\n",
       "      <td>P4</td>\n",
       "      <td>EC163</td>\n",
       "      <td>2023-03-20</td>\n",
       "      <td>2023-04-06</td>\n",
       "      <td>D&amp;X</td>\n",
       "    </tr>\n",
       "    <tr>\n",
       "      <th>5</th>\n",
       "      <td>P4</td>\n",
       "      <td>EC106</td>\n",
       "      <td>2023-03-21</td>\n",
       "      <td>2023-04-05</td>\n",
       "      <td>A&amp;X</td>\n",
       "    </tr>\n",
       "    <tr>\n",
       "      <th>6</th>\n",
       "      <td>P4</td>\n",
       "      <td>EC85</td>\n",
       "      <td>2023-03-21</td>\n",
       "      <td>2023-03-31</td>\n",
       "      <td>A&amp;Z</td>\n",
       "    </tr>\n",
       "    <tr>\n",
       "      <th>7</th>\n",
       "      <td>P4</td>\n",
       "      <td>EC88</td>\n",
       "      <td>2023-03-21</td>\n",
       "      <td>2023-04-12</td>\n",
       "      <td>A&amp;Y</td>\n",
       "    </tr>\n",
       "    <tr>\n",
       "      <th>8</th>\n",
       "      <td>P4</td>\n",
       "      <td>EC179</td>\n",
       "      <td>2023-03-22</td>\n",
       "      <td>2023-03-23</td>\n",
       "      <td>B&amp;W</td>\n",
       "    </tr>\n",
       "    <tr>\n",
       "      <th>9</th>\n",
       "      <td>P4</td>\n",
       "      <td>EC48</td>\n",
       "      <td>2023-03-22</td>\n",
       "      <td>2023-04-14</td>\n",
       "      <td>A&amp;Y</td>\n",
       "    </tr>\n",
       "    <tr>\n",
       "      <th>10</th>\n",
       "      <td>P4</td>\n",
       "      <td>EC7</td>\n",
       "      <td>2023-03-23</td>\n",
       "      <td>2023-04-12</td>\n",
       "      <td>B&amp;Z</td>\n",
       "    </tr>\n",
       "    <tr>\n",
       "      <th>11</th>\n",
       "      <td>P4</td>\n",
       "      <td>EC70</td>\n",
       "      <td>2023-03-23</td>\n",
       "      <td>2023-04-13</td>\n",
       "      <td>D&amp;Y</td>\n",
       "    </tr>\n",
       "    <tr>\n",
       "      <th>12</th>\n",
       "      <td>P4</td>\n",
       "      <td>EC86</td>\n",
       "      <td>2023-03-23</td>\n",
       "      <td>2023-04-14</td>\n",
       "      <td>B&amp;X</td>\n",
       "    </tr>\n",
       "    <tr>\n",
       "      <th>13</th>\n",
       "      <td>P4</td>\n",
       "      <td>EC10</td>\n",
       "      <td>2023-03-25</td>\n",
       "      <td>2023-04-15</td>\n",
       "      <td>B&amp;Z</td>\n",
       "    </tr>\n",
       "    <tr>\n",
       "      <th>14</th>\n",
       "      <td>P4</td>\n",
       "      <td>EC130</td>\n",
       "      <td>2023-03-26</td>\n",
       "      <td>2023-04-07</td>\n",
       "      <td>A&amp;W</td>\n",
       "    </tr>\n",
       "    <tr>\n",
       "      <th>15</th>\n",
       "      <td>P4</td>\n",
       "      <td>EC110</td>\n",
       "      <td>2023-03-28</td>\n",
       "      <td>2023-04-13</td>\n",
       "      <td>A&amp;X</td>\n",
       "    </tr>\n",
       "    <tr>\n",
       "      <th>16</th>\n",
       "      <td>P4</td>\n",
       "      <td>EC202</td>\n",
       "      <td>2023-03-30</td>\n",
       "      <td>2023-03-30</td>\n",
       "      <td>D&amp;Y</td>\n",
       "    </tr>\n",
       "    <tr>\n",
       "      <th>17</th>\n",
       "      <td>P4</td>\n",
       "      <td>EC121</td>\n",
       "      <td>2023-03-31</td>\n",
       "      <td>2023-04-16</td>\n",
       "      <td>D&amp;Y</td>\n",
       "    </tr>\n",
       "    <tr>\n",
       "      <th>18</th>\n",
       "      <td>P4</td>\n",
       "      <td>EC196</td>\n",
       "      <td>2023-03-31</td>\n",
       "      <td>2023-03-31</td>\n",
       "      <td>B&amp;Z</td>\n",
       "    </tr>\n",
       "    <tr>\n",
       "      <th>19</th>\n",
       "      <td>P4</td>\n",
       "      <td>EC203</td>\n",
       "      <td>2023-04-04</td>\n",
       "      <td>2023-04-04</td>\n",
       "      <td>A&amp;W</td>\n",
       "    </tr>\n",
       "    <tr>\n",
       "      <th>20</th>\n",
       "      <td>P4</td>\n",
       "      <td>EC204</td>\n",
       "      <td>2023-04-12</td>\n",
       "      <td>2023-04-12</td>\n",
       "      <td>A&amp;W</td>\n",
       "    </tr>\n",
       "    <tr>\n",
       "      <th>21</th>\n",
       "      <td>P4</td>\n",
       "      <td>EC197</td>\n",
       "      <td>2023-04-14</td>\n",
       "      <td>2023-04-14</td>\n",
       "      <td>A&amp;X</td>\n",
       "    </tr>\n",
       "  </tbody>\n",
       "</table>\n",
       "</div>"
      ],
      "text/plain": [
       "   PID   ECID     DT_min     DT_max BasicInfo\n",
       "0   P4  EC125 2023-03-18 2023-04-02       B&Z\n",
       "1   P4   EC24 2023-03-18 2023-04-16       B&Z\n",
       "2   P4   EC36 2023-03-18 2023-04-13       C&W\n",
       "3   P4   EC80 2023-03-19 2023-04-15       D&X\n",
       "4   P4  EC163 2023-03-20 2023-04-06       D&X\n",
       "5   P4  EC106 2023-03-21 2023-04-05       A&X\n",
       "6   P4   EC85 2023-03-21 2023-03-31       A&Z\n",
       "7   P4   EC88 2023-03-21 2023-04-12       A&Y\n",
       "8   P4  EC179 2023-03-22 2023-03-23       B&W\n",
       "9   P4   EC48 2023-03-22 2023-04-14       A&Y\n",
       "10  P4    EC7 2023-03-23 2023-04-12       B&Z\n",
       "11  P4   EC70 2023-03-23 2023-04-13       D&Y\n",
       "12  P4   EC86 2023-03-23 2023-04-14       B&X\n",
       "13  P4   EC10 2023-03-25 2023-04-15       B&Z\n",
       "14  P4  EC130 2023-03-26 2023-04-07       A&W\n",
       "15  P4  EC110 2023-03-28 2023-04-13       A&X\n",
       "16  P4  EC202 2023-03-30 2023-03-30       D&Y\n",
       "17  P4  EC121 2023-03-31 2023-04-16       D&Y\n",
       "18  P4  EC196 2023-03-31 2023-03-31       B&Z\n",
       "19  P4  EC203 2023-04-04 2023-04-04       A&W\n",
       "20  P4  EC204 2023-04-12 2023-04-12       A&W\n",
       "21  P4  EC197 2023-04-14 2023-04-14       A&X"
      ]
     },
     "execution_count": 3,
     "metadata": {},
     "output_type": "execute_result"
    }
   ],
   "source": [
    "RecName = 'EC'\n",
    "df = Pat.get_df_rec(RecName)\n",
    "df"
   ]
  },
  {
   "cell_type": "markdown",
   "id": "9a502eac-a8e6-4ddb-998f-0c2d7c2451b4",
   "metadata": {},
   "source": [
    "# Task Selection"
   ]
  },
  {
   "cell_type": "code",
   "execution_count": 4,
   "id": "c7b937e5-6685-4864-b121-819765aa98f1",
   "metadata": {
    "tags": []
   },
   "outputs": [
    {
     "data": {
      "text/plain": [
       "['P0', 'P1', 'P2', 'P3', 'P4', 'P5', 'P6', 'P7']"
      ]
     },
     "execution_count": 4,
     "metadata": {},
     "output_type": "execute_result"
    }
   ],
   "source": [
    "TaskName = 'Task2YearXXX'\n",
    "\n",
    "ELIG_PAT_SET = [f'P{i}' for i in range(0, 8)]\n",
    "ELIG_PAT_SET"
   ]
  },
  {
   "cell_type": "code",
   "execution_count": 5,
   "id": "0e68b259-197f-4852-8109-abb57cb11ef7",
   "metadata": {
    "tags": []
   },
   "outputs": [
    {
     "name": "stdout",
     "output_type": "stream",
     "text": [
      "data/ProcData/TensorFolder/Task2YearXXX\n"
     ]
    }
   ],
   "source": [
    "import os\n",
    "import pandas as pd\n",
    "\n",
    "Tensor_folder = 'data/ProcData/TensorFolder'\n",
    "TaskTensor_folder = os.path.join(Tensor_folder, TaskName)\n",
    "\n",
    "if not os.path.exists(TaskTensor_folder): os.makedirs(TaskTensor_folder)\n",
    "\n",
    "print(TaskTensor_folder)"
   ]
  },
  {
   "cell_type": "code",
   "execution_count": 6,
   "id": "1d481217-f7f7-4d3c-86f7-2f15cec0f321",
   "metadata": {
    "tags": []
   },
   "outputs": [
    {
     "name": "stdout",
     "output_type": "stream",
     "text": [
      "(225, 5)\n"
     ]
    },
    {
     "data": {
      "text/html": [
       "<div>\n",
       "<style scoped>\n",
       "    .dataframe tbody tr th:only-of-type {\n",
       "        vertical-align: middle;\n",
       "    }\n",
       "\n",
       "    .dataframe tbody tr th {\n",
       "        vertical-align: top;\n",
       "    }\n",
       "\n",
       "    .dataframe thead th {\n",
       "        text-align: right;\n",
       "    }\n",
       "</style>\n",
       "<table border=\"1\" class=\"dataframe\">\n",
       "  <thead>\n",
       "    <tr style=\"text-align: right;\">\n",
       "      <th></th>\n",
       "      <th>PID</th>\n",
       "      <th>ECID</th>\n",
       "      <th>DT_min</th>\n",
       "      <th>DT_max</th>\n",
       "      <th>BasicInfo</th>\n",
       "    </tr>\n",
       "  </thead>\n",
       "  <tbody>\n",
       "    <tr>\n",
       "      <th>0</th>\n",
       "      <td>P0</td>\n",
       "      <td>EC18</td>\n",
       "      <td>2023-03-18</td>\n",
       "      <td>2023-04-16</td>\n",
       "      <td>D&amp;X</td>\n",
       "    </tr>\n",
       "    <tr>\n",
       "      <th>1</th>\n",
       "      <td>P0</td>\n",
       "      <td>EC140</td>\n",
       "      <td>2023-03-19</td>\n",
       "      <td>2023-04-05</td>\n",
       "      <td>D&amp;X</td>\n",
       "    </tr>\n",
       "    <tr>\n",
       "      <th>2</th>\n",
       "      <td>P0</td>\n",
       "      <td>EC23</td>\n",
       "      <td>2023-03-19</td>\n",
       "      <td>2023-04-16</td>\n",
       "      <td>C&amp;W</td>\n",
       "    </tr>\n",
       "    <tr>\n",
       "      <th>3</th>\n",
       "      <td>P0</td>\n",
       "      <td>EC141</td>\n",
       "      <td>2023-03-20</td>\n",
       "      <td>2023-04-16</td>\n",
       "      <td>C&amp;Z</td>\n",
       "    </tr>\n",
       "    <tr>\n",
       "      <th>4</th>\n",
       "      <td>P0</td>\n",
       "      <td>EC142</td>\n",
       "      <td>2023-03-20</td>\n",
       "      <td>2023-04-15</td>\n",
       "      <td>B&amp;W</td>\n",
       "    </tr>\n",
       "    <tr>\n",
       "      <th>...</th>\n",
       "      <td>...</td>\n",
       "      <td>...</td>\n",
       "      <td>...</td>\n",
       "      <td>...</td>\n",
       "      <td>...</td>\n",
       "    </tr>\n",
       "    <tr>\n",
       "      <th>3</th>\n",
       "      <td>P6</td>\n",
       "      <td>EC15</td>\n",
       "      <td>2023-03-21</td>\n",
       "      <td>2023-04-09</td>\n",
       "      <td>B&amp;X</td>\n",
       "    </tr>\n",
       "    <tr>\n",
       "      <th>4</th>\n",
       "      <td>P6</td>\n",
       "      <td>EC93</td>\n",
       "      <td>2023-03-23</td>\n",
       "      <td>2023-04-04</td>\n",
       "      <td>B&amp;X</td>\n",
       "    </tr>\n",
       "    <tr>\n",
       "      <th>5</th>\n",
       "      <td>P6</td>\n",
       "      <td>EC195</td>\n",
       "      <td>2023-03-25</td>\n",
       "      <td>2023-03-25</td>\n",
       "      <td>C&amp;Z</td>\n",
       "    </tr>\n",
       "    <tr>\n",
       "      <th>6</th>\n",
       "      <td>P6</td>\n",
       "      <td>EC173</td>\n",
       "      <td>2023-04-05</td>\n",
       "      <td>2023-04-13</td>\n",
       "      <td>C&amp;W</td>\n",
       "    </tr>\n",
       "    <tr>\n",
       "      <th>0</th>\n",
       "      <td>P7</td>\n",
       "      <td>EC17</td>\n",
       "      <td>2023-03-18</td>\n",
       "      <td>2023-04-06</td>\n",
       "      <td>A&amp;W</td>\n",
       "    </tr>\n",
       "  </tbody>\n",
       "</table>\n",
       "<p>225 rows × 5 columns</p>\n",
       "</div>"
      ],
      "text/plain": [
       "   PID   ECID     DT_min     DT_max BasicInfo\n",
       "0   P0   EC18 2023-03-18 2023-04-16       D&X\n",
       "1   P0  EC140 2023-03-19 2023-04-05       D&X\n",
       "2   P0   EC23 2023-03-19 2023-04-16       C&W\n",
       "3   P0  EC141 2023-03-20 2023-04-16       C&Z\n",
       "4   P0  EC142 2023-03-20 2023-04-15       B&W\n",
       "..  ..    ...        ...        ...       ...\n",
       "3   P6   EC15 2023-03-21 2023-04-09       B&X\n",
       "4   P6   EC93 2023-03-23 2023-04-04       B&X\n",
       "5   P6  EC195 2023-03-25 2023-03-25       C&Z\n",
       "6   P6  EC173 2023-04-05 2023-04-13       C&W\n",
       "0   P7   EC17 2023-03-18 2023-04-06       A&W\n",
       "\n",
       "[225 rows x 5 columns]"
      ]
     },
     "execution_count": 6,
     "metadata": {},
     "output_type": "execute_result"
    }
   ],
   "source": [
    "######################### Change this\n",
    "RecName = 'EC'\n",
    "######################### \n",
    "\n",
    "\n",
    "df = pd.DataFrame()\n",
    "for PID in ELIG_PAT_SET:\n",
    "    Pat = PatientDP(PID, rec_folder, RANGE_SIZE)\n",
    "    dfx = Pat.get_df_rec(RecName)\n",
    "    \n",
    "    ###################################\n",
    "    # TODO: make some operation to select good dfx\n",
    "    dfx = dfx \n",
    "    ###################################\n",
    "    \n",
    "    df = pd.concat([df, dfx])\n",
    "    \n",
    "print(df.shape)\n",
    "df"
   ]
  },
  {
   "cell_type": "markdown",
   "id": "75a8a5c0-31f8-496e-9a28-7209349b0194",
   "metadata": {},
   "source": [
    "# Load Meta Info"
   ]
  },
  {
   "cell_type": "code",
   "execution_count": 7,
   "id": "135e3109-ac53-468c-a35e-ae0a15cb8361",
   "metadata": {
    "tags": []
   },
   "outputs": [
    {
     "data": {
      "text/html": [
       "<div>\n",
       "<style scoped>\n",
       "    .dataframe tbody tr th:only-of-type {\n",
       "        vertical-align: middle;\n",
       "    }\n",
       "\n",
       "    .dataframe tbody tr th {\n",
       "        vertical-align: top;\n",
       "    }\n",
       "\n",
       "    .dataframe thead th {\n",
       "        text-align: right;\n",
       "    }\n",
       "</style>\n",
       "<table border=\"1\" class=\"dataframe\">\n",
       "  <thead>\n",
       "    <tr style=\"text-align: right;\">\n",
       "      <th></th>\n",
       "      <th>RecName</th>\n",
       "      <th>prefix_ids</th>\n",
       "      <th>focal_ids</th>\n",
       "      <th>field_list</th>\n",
       "      <th>field</th>\n",
       "      <th>grain</th>\n",
       "      <th>field2grain</th>\n",
       "      <th>recfield2grain</th>\n",
       "      <th>Vocab</th>\n",
       "    </tr>\n",
       "  </thead>\n",
       "  <tbody>\n",
       "    <tr>\n",
       "      <th>0</th>\n",
       "      <td>EC</td>\n",
       "      <td>[PID]</td>\n",
       "      <td>[ECID]</td>\n",
       "      <td>[BasicInfo, DT_min]</td>\n",
       "      <td>BasicInfo</td>\n",
       "      <td>BasicDftGrn</td>\n",
       "      <td>BasicInfo-BasicDftGrn</td>\n",
       "      <td>EC@BasicInfo-BasicDftGrn</td>\n",
       "      <td>{'idx2v': {0: '_padding', 1: 'X', 2: 'D', 3: '...</td>\n",
       "    </tr>\n",
       "    <tr>\n",
       "      <th>1</th>\n",
       "      <td>EC</td>\n",
       "      <td>[PID]</td>\n",
       "      <td>[ECID]</td>\n",
       "      <td>[BasicInfo, DT_min]</td>\n",
       "      <td>DT_min</td>\n",
       "      <td>DTDftGrn</td>\n",
       "      <td>DT_min-DTDftGrn</td>\n",
       "      <td>EC@DT_min-DTDftGrn</td>\n",
       "      <td>{'idx2v': {0: '_padding', 1: '_missing', 2: 'Y...</td>\n",
       "    </tr>\n",
       "  </tbody>\n",
       "</table>\n",
       "</div>"
      ],
      "text/plain": [
       "  RecName prefix_ids focal_ids           field_list      field        grain  \\\n",
       "0      EC      [PID]    [ECID]  [BasicInfo, DT_min]  BasicInfo  BasicDftGrn   \n",
       "1      EC      [PID]    [ECID]  [BasicInfo, DT_min]     DT_min     DTDftGrn   \n",
       "\n",
       "             field2grain            recfield2grain  \\\n",
       "0  BasicInfo-BasicDftGrn  EC@BasicInfo-BasicDftGrn   \n",
       "1        DT_min-DTDftGrn        EC@DT_min-DTDftGrn   \n",
       "\n",
       "                                               Vocab  \n",
       "0  {'idx2v': {0: '_padding', 1: 'X', 2: 'D', 3: '...  \n",
       "1  {'idx2v': {0: '_padding', 1: '_missing', 2: 'Y...  "
      ]
     },
     "execution_count": 7,
     "metadata": {},
     "output_type": "execute_result"
    }
   ],
   "source": [
    "import os\n",
    "import pandas as pd\n",
    "\n",
    "fldgrn_folder = 'data/ProcData/FldGrnInfo'\n",
    "\n",
    "fullfldgrn_file = os.path.join(fldgrn_folder, RecName + '.p')\n",
    "\n",
    "df_FieldGrainInfo = pd.read_pickle(fullfldgrn_file)\n",
    "df_FieldGrainInfo"
   ]
  },
  {
   "cell_type": "markdown",
   "id": "d59b90b4-d4f9-4aea-87d4-d5b6a0b033c8",
   "metadata": {},
   "source": [
    "# RecFldGrn `EC@BasicInfo-BasicDftGrn`"
   ]
  },
  {
   "cell_type": "code",
   "execution_count": 8,
   "id": "6642a79c-33b1-4a25-ad28-926c4d8cc1d5",
   "metadata": {
    "tags": []
   },
   "outputs": [],
   "source": [
    "from recfldgrn.grains import Field2Grain_2_get_GrnStrList_Fn\n",
    "from recfldgrn.grains import Field2Grain_2_get_GrnIdxList_Fn\n",
    "from recfldgrn.grains import Field2Grain_2_get_GrnWgtList_Fn\n",
    "from recfldgrn.utils import generate_grain_vocab_info\n",
    "from recfldgrn.utils import get_compressed_df\n",
    "from recfldgrn.datapoint import write_df_to_folders"
   ]
  },
  {
   "cell_type": "code",
   "execution_count": 9,
   "id": "fcb8c02d-adfb-4c4e-9df0-a4b4354c9607",
   "metadata": {
    "tags": []
   },
   "outputs": [],
   "source": [
    "from recfldgrn.utils import get_highorder_input_idx"
   ]
  },
  {
   "cell_type": "code",
   "execution_count": 10,
   "id": "cb570ab8-d650-49ee-87ef-d6f86fb9467c",
   "metadata": {
    "tags": []
   },
   "outputs": [
    {
     "data": {
      "text/plain": [
       "'data/ProcData/TensorFolder/Task2YearXXX'"
      ]
     },
     "execution_count": 10,
     "metadata": {},
     "output_type": "execute_result"
    }
   ],
   "source": [
    "TaskTensor_folder"
   ]
  },
  {
   "cell_type": "code",
   "execution_count": 11,
   "id": "5711417c-33d2-4e9d-9a1c-78c22d2b8b62",
   "metadata": {
    "tags": []
   },
   "outputs": [
    {
     "name": "stdout",
     "output_type": "stream",
     "text": [
      "(225, 6) data/ProcData/TensorFolder/Task2YearXXX/EC@BasicInfo-BasicDftGrn\n"
     ]
    },
    {
     "data": {
      "text/html": [
       "<div>\n",
       "<style scoped>\n",
       "    .dataframe tbody tr th:only-of-type {\n",
       "        vertical-align: middle;\n",
       "    }\n",
       "\n",
       "    .dataframe tbody tr th {\n",
       "        vertical-align: top;\n",
       "    }\n",
       "\n",
       "    .dataframe thead th {\n",
       "        text-align: right;\n",
       "    }\n",
       "</style>\n",
       "<table border=\"1\" class=\"dataframe\">\n",
       "  <thead>\n",
       "    <tr style=\"text-align: right;\">\n",
       "      <th></th>\n",
       "      <th>PID</th>\n",
       "      <th>P-EC@BasicInfo-BasicDftGrn_idx</th>\n",
       "    </tr>\n",
       "  </thead>\n",
       "  <tbody>\n",
       "    <tr>\n",
       "      <th>0</th>\n",
       "      <td>P0</td>\n",
       "      <td>[[2, 1], [2, 1], [7, 8], [7, 5], [4, 8], [4, 1...</td>\n",
       "    </tr>\n",
       "    <tr>\n",
       "      <th>1</th>\n",
       "      <td>P1</td>\n",
       "      <td>[[2, 3], [6, 1], [2, 8], [7, 1], [7, 8], [7, 5...</td>\n",
       "    </tr>\n",
       "    <tr>\n",
       "      <th>2</th>\n",
       "      <td>P2</td>\n",
       "      <td>[[2, 3], [7, 1], [4, 5], [6, 1], [6, 8], [6, 8...</td>\n",
       "    </tr>\n",
       "    <tr>\n",
       "      <th>3</th>\n",
       "      <td>P3</td>\n",
       "      <td>[[7, 3], [6, 1], [7, 8], [2, 3], [6, 3], [7, 3...</td>\n",
       "    </tr>\n",
       "    <tr>\n",
       "      <th>4</th>\n",
       "      <td>P4</td>\n",
       "      <td>[[4, 5], [4, 5], [7, 8], [2, 1], [2, 1], [6, 1...</td>\n",
       "    </tr>\n",
       "    <tr>\n",
       "      <th>5</th>\n",
       "      <td>P5</td>\n",
       "      <td>[[2, 3], [2, 8], [6, 8], [2, 1], [2, 1], [2, 3...</td>\n",
       "    </tr>\n",
       "    <tr>\n",
       "      <th>6</th>\n",
       "      <td>P6</td>\n",
       "      <td>[[4, 3], [6, 8], [2, 5], [4, 1], [4, 1], [7, 5...</td>\n",
       "    </tr>\n",
       "    <tr>\n",
       "      <th>7</th>\n",
       "      <td>P7</td>\n",
       "      <td>[[6, 8]]</td>\n",
       "    </tr>\n",
       "  </tbody>\n",
       "</table>\n",
       "</div>"
      ],
      "text/plain": [
       "  PID                     P-EC@BasicInfo-BasicDftGrn_idx\n",
       "0  P0  [[2, 1], [2, 1], [7, 8], [7, 5], [4, 8], [4, 1...\n",
       "1  P1  [[2, 3], [6, 1], [2, 8], [7, 1], [7, 8], [7, 5...\n",
       "2  P2  [[2, 3], [7, 1], [4, 5], [6, 1], [6, 8], [6, 8...\n",
       "3  P3  [[7, 3], [6, 1], [7, 8], [2, 3], [6, 3], [7, 3...\n",
       "4  P4  [[4, 5], [4, 5], [7, 8], [2, 1], [2, 1], [6, 1...\n",
       "5  P5  [[2, 3], [2, 8], [6, 8], [2, 1], [2, 1], [2, 3...\n",
       "6  P6  [[4, 3], [6, 8], [2, 5], [4, 1], [4, 1], [7, 5...\n",
       "7  P7                                           [[6, 8]]"
      ]
     },
     "execution_count": 11,
     "metadata": {},
     "output_type": "execute_result"
    }
   ],
   "source": [
    "######################### Change this\n",
    "recfield2grain = 'EC@BasicInfo-BasicDftGrn'\n",
    "#########################\n",
    "\n",
    "\n",
    "d = df_FieldGrainInfo[df_FieldGrainInfo['recfield2grain'] == recfield2grain].iloc[0]\n",
    "v2idx = d['Vocab']['v2idx']\n",
    "prefix_ids = d['prefix_ids']\n",
    "focal_ids = d['focal_ids']\n",
    "\n",
    "df_p = get_highorder_input_idx(df, recfield2grain, \n",
    "                               v2idx, prefix_ids, focal_ids,\n",
    "                               Field2Grain_2_get_GrnIdxList_Fn, \n",
    "                               Field2Grain_2_get_GrnWgtList_Fn)\n",
    "\n",
    "\n",
    "\n",
    "fullTaskTensor_folder = os.path.join(TaskTensor_folder, recfield2grain)\n",
    "print(df.shape, fullTaskTensor_folder)\n",
    "if not os.path.exists(fullTaskTensor_folder): os.makedirs(fullTaskTensor_folder)\n",
    "write_df_to_folders(recfield2grain, fullTaskTensor_folder, df_p)\n",
    "\n",
    "df_p"
   ]
  },
  {
   "cell_type": "markdown",
   "id": "b74ad689-41f2-4b27-b7ac-13f23a74d6bc",
   "metadata": {},
   "source": [
    "# RecFldGrn `EC@DT_min-DTDftGrn`"
   ]
  },
  {
   "cell_type": "code",
   "execution_count": 12,
   "id": "8d7fbdde-ce81-49c3-8246-6b4e1b835baf",
   "metadata": {
    "tags": []
   },
   "outputs": [
    {
     "name": "stdout",
     "output_type": "stream",
     "text": [
      "(225, 7) data/ProcData/TensorFolder/Task2YearXXX/EC@DT_min-DTDftGrn\n"
     ]
    },
    {
     "data": {
      "text/html": [
       "<div>\n",
       "<style scoped>\n",
       "    .dataframe tbody tr th:only-of-type {\n",
       "        vertical-align: middle;\n",
       "    }\n",
       "\n",
       "    .dataframe tbody tr th {\n",
       "        vertical-align: top;\n",
       "    }\n",
       "\n",
       "    .dataframe thead th {\n",
       "        text-align: right;\n",
       "    }\n",
       "</style>\n",
       "<table border=\"1\" class=\"dataframe\">\n",
       "  <thead>\n",
       "    <tr style=\"text-align: right;\">\n",
       "      <th></th>\n",
       "      <th>PID</th>\n",
       "      <th>P-EC@DT_min-DTDftGrn_idx</th>\n",
       "    </tr>\n",
       "  </thead>\n",
       "  <tbody>\n",
       "    <tr>\n",
       "      <th>0</th>\n",
       "      <td>P0</td>\n",
       "      <td>[[16, 26, 54, 69, 79, 93, 138], [16, 26, 55, 6...</td>\n",
       "    </tr>\n",
       "    <tr>\n",
       "      <th>1</th>\n",
       "      <td>P1</td>\n",
       "      <td>[[16, 26, 54, 69, 79, 93, 138], [16, 26, 54, 6...</td>\n",
       "    </tr>\n",
       "    <tr>\n",
       "      <th>2</th>\n",
       "      <td>P2</td>\n",
       "      <td>[[16, 26, 54, 69, 79, 93, 138], [16, 26, 54, 6...</td>\n",
       "    </tr>\n",
       "    <tr>\n",
       "      <th>3</th>\n",
       "      <td>P3</td>\n",
       "      <td>[[16, 26, 54, 69, 79, 93, 138], [16, 26, 54, 6...</td>\n",
       "    </tr>\n",
       "    <tr>\n",
       "      <th>4</th>\n",
       "      <td>P4</td>\n",
       "      <td>[[16, 26, 54, 69, 79, 93, 138], [16, 26, 54, 6...</td>\n",
       "    </tr>\n",
       "    <tr>\n",
       "      <th>5</th>\n",
       "      <td>P5</td>\n",
       "      <td>[[16, 26, 54, 69, 79, 93, 138], [16, 26, 54, 6...</td>\n",
       "    </tr>\n",
       "    <tr>\n",
       "      <th>6</th>\n",
       "      <td>P6</td>\n",
       "      <td>[[16, 26, 55, 69, 80, 93, 138], [16, 26, 55, 6...</td>\n",
       "    </tr>\n",
       "    <tr>\n",
       "      <th>7</th>\n",
       "      <td>P7</td>\n",
       "      <td>[[16, 26, 54, 69, 79, 93, 138]]</td>\n",
       "    </tr>\n",
       "  </tbody>\n",
       "</table>\n",
       "</div>"
      ],
      "text/plain": [
       "  PID                           P-EC@DT_min-DTDftGrn_idx\n",
       "0  P0  [[16, 26, 54, 69, 79, 93, 138], [16, 26, 55, 6...\n",
       "1  P1  [[16, 26, 54, 69, 79, 93, 138], [16, 26, 54, 6...\n",
       "2  P2  [[16, 26, 54, 69, 79, 93, 138], [16, 26, 54, 6...\n",
       "3  P3  [[16, 26, 54, 69, 79, 93, 138], [16, 26, 54, 6...\n",
       "4  P4  [[16, 26, 54, 69, 79, 93, 138], [16, 26, 54, 6...\n",
       "5  P5  [[16, 26, 54, 69, 79, 93, 138], [16, 26, 54, 6...\n",
       "6  P6  [[16, 26, 55, 69, 80, 93, 138], [16, 26, 55, 6...\n",
       "7  P7                    [[16, 26, 54, 69, 79, 93, 138]]"
      ]
     },
     "execution_count": 12,
     "metadata": {},
     "output_type": "execute_result"
    }
   ],
   "source": [
    "######################### Change this\n",
    "recfield2grain = 'EC@DT_min-DTDftGrn'\n",
    "#########################\n",
    "\n",
    "d = df_FieldGrainInfo[df_FieldGrainInfo['recfield2grain'] == recfield2grain].iloc[0]\n",
    "v2idx = d['Vocab']['v2idx']\n",
    "prefix_ids = d['prefix_ids']\n",
    "focal_ids = d['focal_ids']\n",
    "\n",
    "df_p = get_highorder_input_idx(df, recfield2grain, \n",
    "                               v2idx, prefix_ids, focal_ids,\n",
    "                               Field2Grain_2_get_GrnIdxList_Fn, \n",
    "                               Field2Grain_2_get_GrnWgtList_Fn)\n",
    "\n",
    "\n",
    "fullTaskTensor_folder = os.path.join(TaskTensor_folder, recfield2grain)\n",
    "print(df.shape, fullTaskTensor_folder)\n",
    "if not os.path.exists(fullTaskTensor_folder): os.makedirs(fullTaskTensor_folder)\n",
    "write_df_to_folders(recfield2grain, fullTaskTensor_folder, df_p)\n",
    "\n",
    "df_p"
   ]
  },
  {
   "cell_type": "code",
   "execution_count": null,
   "id": "eced6ecd-d071-4ae0-93a0-94a5473ad8be",
   "metadata": {},
   "outputs": [],
   "source": []
  },
  {
   "cell_type": "code",
   "execution_count": null,
   "id": "1a3b201e-109d-4b9d-bd90-63ac9e30ccaf",
   "metadata": {},
   "outputs": [],
   "source": []
  }
 ],
 "metadata": {
  "kernelspec": {
   "display_name": "Python 3 (ipykernel)",
   "language": "python",
   "name": "python3"
  },
  "language_info": {
   "codemirror_mode": {
    "name": "ipython",
    "version": 3
   },
   "file_extension": ".py",
   "mimetype": "text/x-python",
   "name": "python",
   "nbconvert_exporter": "python",
   "pygments_lexer": "ipython3",
   "version": "3.8.8"
  },
  "toc-autonumbering": true
 },
 "nbformat": 4,
 "nbformat_minor": 5
}
