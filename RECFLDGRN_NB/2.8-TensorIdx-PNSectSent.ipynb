{
 "cells": [
  {
   "cell_type": "code",
   "execution_count": 1,
   "id": "82a4ade6-2517-44ea-ac53-9fee492ae9c7",
   "metadata": {
    "tags": []
   },
   "outputs": [
    {
     "name": "stdout",
     "output_type": "stream",
     "text": [
      "/Users/floydluo/Library/CloudStorage/GoogleDrive-jjluo@terpmail.umd.edu/.shortcut-targets-by-id/1qNzMmGHCg5Xa63Vw3aKbZdMXvkfT2CgC/MedStar/MS_CODE/RecFldGrn\n"
     ]
    }
   ],
   "source": [
    "%cd .."
   ]
  },
  {
   "cell_type": "markdown",
   "id": "b8f7f518-05c9-4be9-a375-1c683fbbd605",
   "metadata": {},
   "source": [
    "# Data Point"
   ]
  },
  {
   "cell_type": "code",
   "execution_count": 2,
   "id": "eb00a045-950d-4b72-a1d3-428ef957ea8f",
   "metadata": {
    "tags": []
   },
   "outputs": [
    {
     "data": {
      "text/plain": [
       "<recfldgrn.datapoint.PatientDP at 0x7fd8286cf8b0>"
      ]
     },
     "execution_count": 2,
     "metadata": {},
     "output_type": "execute_result"
    }
   ],
   "source": [
    "from recfldgrn.datapoint import PatientDP, RANGE_SIZE\n",
    "\n",
    "PID = 'P4'\n",
    "rec_folder = 'data/ProcData/RecFolder/'\n",
    "Pat = PatientDP(PID, rec_folder, RANGE_SIZE)\n",
    "Pat"
   ]
  },
  {
   "cell_type": "code",
   "execution_count": 3,
   "id": "7ea19a4a-6246-4297-a1d9-656a4e7cc805",
   "metadata": {
    "tags": []
   },
   "outputs": [
    {
     "data": {
      "text/html": [
       "<div>\n",
       "<style scoped>\n",
       "    .dataframe tbody tr th:only-of-type {\n",
       "        vertical-align: middle;\n",
       "    }\n",
       "\n",
       "    .dataframe tbody tr th {\n",
       "        vertical-align: top;\n",
       "    }\n",
       "\n",
       "    .dataframe thead th {\n",
       "        text-align: right;\n",
       "    }\n",
       "</style>\n",
       "<table border=\"1\" class=\"dataframe\">\n",
       "  <thead>\n",
       "    <tr style=\"text-align: right;\">\n",
       "      <th></th>\n",
       "      <th>PID</th>\n",
       "      <th>ECID</th>\n",
       "      <th>PNID</th>\n",
       "      <th>PNSectID</th>\n",
       "      <th>SentID</th>\n",
       "      <th>Sentence</th>\n",
       "    </tr>\n",
       "  </thead>\n",
       "  <tbody>\n",
       "    <tr>\n",
       "      <th>0</th>\n",
       "      <td>P4</td>\n",
       "      <td>EC125</td>\n",
       "      <td>72530</td>\n",
       "      <td>437</td>\n",
       "      <td>2742</td>\n",
       "      <td>NaN</td>\n",
       "    </tr>\n",
       "    <tr>\n",
       "      <th>1</th>\n",
       "      <td>P4</td>\n",
       "      <td>EC24</td>\n",
       "      <td>72531</td>\n",
       "      <td>438</td>\n",
       "      <td>2743</td>\n",
       "      <td>NaN</td>\n",
       "    </tr>\n",
       "    <tr>\n",
       "      <th>2</th>\n",
       "      <td>P4</td>\n",
       "      <td>EC36</td>\n",
       "      <td>72532</td>\n",
       "      <td>439</td>\n",
       "      <td>2744</td>\n",
       "      <td>NaN</td>\n",
       "    </tr>\n",
       "    <tr>\n",
       "      <th>3</th>\n",
       "      <td>P4</td>\n",
       "      <td>EC80</td>\n",
       "      <td>72533</td>\n",
       "      <td>440</td>\n",
       "      <td>2745</td>\n",
       "      <td>NaN</td>\n",
       "    </tr>\n",
       "    <tr>\n",
       "      <th>4</th>\n",
       "      <td>P4</td>\n",
       "      <td>EC163</td>\n",
       "      <td>72534</td>\n",
       "      <td>441</td>\n",
       "      <td>2746</td>\n",
       "      <td>NaN</td>\n",
       "    </tr>\n",
       "    <tr>\n",
       "      <th>...</th>\n",
       "      <td>...</td>\n",
       "      <td>...</td>\n",
       "      <td>...</td>\n",
       "      <td>...</td>\n",
       "      <td>...</td>\n",
       "      <td>...</td>\n",
       "    </tr>\n",
       "    <tr>\n",
       "      <th>239</th>\n",
       "      <td>P4</td>\n",
       "      <td>EC121</td>\n",
       "      <td>72545</td>\n",
       "      <td>452</td>\n",
       "      <td>2757</td>\n",
       "      <td>NaN</td>\n",
       "    </tr>\n",
       "    <tr>\n",
       "      <th>240</th>\n",
       "      <td>P4</td>\n",
       "      <td>EC196</td>\n",
       "      <td>72546</td>\n",
       "      <td>453</td>\n",
       "      <td>2758</td>\n",
       "      <td>NaN</td>\n",
       "    </tr>\n",
       "    <tr>\n",
       "      <th>241</th>\n",
       "      <td>P4</td>\n",
       "      <td>EC203</td>\n",
       "      <td>72547</td>\n",
       "      <td>454</td>\n",
       "      <td>2759</td>\n",
       "      <td>NaN</td>\n",
       "    </tr>\n",
       "    <tr>\n",
       "      <th>242</th>\n",
       "      <td>P4</td>\n",
       "      <td>EC204</td>\n",
       "      <td>72548</td>\n",
       "      <td>455</td>\n",
       "      <td>2760</td>\n",
       "      <td>NaN</td>\n",
       "    </tr>\n",
       "    <tr>\n",
       "      <th>243</th>\n",
       "      <td>P4</td>\n",
       "      <td>EC197</td>\n",
       "      <td>72549</td>\n",
       "      <td>456</td>\n",
       "      <td>2761</td>\n",
       "      <td>NaN</td>\n",
       "    </tr>\n",
       "  </tbody>\n",
       "</table>\n",
       "<p>244 rows × 6 columns</p>\n",
       "</div>"
      ],
      "text/plain": [
       "    PID   ECID   PNID  PNSectID  SentID Sentence\n",
       "0    P4  EC125  72530       437    2742      NaN\n",
       "1    P4   EC24  72531       438    2743      NaN\n",
       "2    P4   EC36  72532       439    2744      NaN\n",
       "3    P4   EC80  72533       440    2745      NaN\n",
       "4    P4  EC163  72534       441    2746      NaN\n",
       "..   ..    ...    ...       ...     ...      ...\n",
       "239  P4  EC121  72545       452    2757      NaN\n",
       "240  P4  EC196  72546       453    2758      NaN\n",
       "241  P4  EC203  72547       454    2759      NaN\n",
       "242  P4  EC204  72548       455    2760      NaN\n",
       "243  P4  EC197  72549       456    2761      NaN\n",
       "\n",
       "[244 rows x 6 columns]"
      ]
     },
     "execution_count": 3,
     "metadata": {},
     "output_type": "execute_result"
    }
   ],
   "source": [
    "####################\n",
    "RecName = 'PNSectSent'\n",
    "####################\n",
    "\n",
    "df = Pat.get_df_rec(RecName)\n",
    "df"
   ]
  },
  {
   "cell_type": "code",
   "execution_count": 4,
   "id": "8578d39b-ece0-400f-8ffb-b0d1f2133d2a",
   "metadata": {
    "tags": []
   },
   "outputs": [
    {
     "data": {
      "text/html": [
       "<div>\n",
       "<style scoped>\n",
       "    .dataframe tbody tr th:only-of-type {\n",
       "        vertical-align: middle;\n",
       "    }\n",
       "\n",
       "    .dataframe tbody tr th {\n",
       "        vertical-align: top;\n",
       "    }\n",
       "\n",
       "    .dataframe thead th {\n",
       "        text-align: right;\n",
       "    }\n",
       "</style>\n",
       "<table border=\"1\" class=\"dataframe\">\n",
       "  <thead>\n",
       "    <tr style=\"text-align: right;\">\n",
       "      <th></th>\n",
       "      <th>PID</th>\n",
       "      <th>ECID</th>\n",
       "      <th>PNID</th>\n",
       "      <th>PNSectID</th>\n",
       "      <th>SentID</th>\n",
       "      <th>Sentence</th>\n",
       "    </tr>\n",
       "  </thead>\n",
       "  <tbody>\n",
       "    <tr>\n",
       "      <th>10</th>\n",
       "      <td>P4</td>\n",
       "      <td>EC7</td>\n",
       "      <td>1074</td>\n",
       "      <td>32</td>\n",
       "      <td>255</td>\n",
       "      <td>Push tell pretty behind ball buy international.</td>\n",
       "    </tr>\n",
       "    <tr>\n",
       "      <th>11</th>\n",
       "      <td>P4</td>\n",
       "      <td>EC7</td>\n",
       "      <td>1074</td>\n",
       "      <td>32</td>\n",
       "      <td>256</td>\n",
       "      <td>Study eight cause assume start chair can.</td>\n",
       "    </tr>\n",
       "    <tr>\n",
       "      <th>12</th>\n",
       "      <td>P4</td>\n",
       "      <td>EC7</td>\n",
       "      <td>1074</td>\n",
       "      <td>32</td>\n",
       "      <td>257</td>\n",
       "      <td>Parent part record they.</td>\n",
       "    </tr>\n",
       "    <tr>\n",
       "      <th>13</th>\n",
       "      <td>P4</td>\n",
       "      <td>EC7</td>\n",
       "      <td>1074</td>\n",
       "      <td>32</td>\n",
       "      <td>258</td>\n",
       "      <td>Prevent your suffer cell level.</td>\n",
       "    </tr>\n",
       "    <tr>\n",
       "      <th>14</th>\n",
       "      <td>P4</td>\n",
       "      <td>EC7</td>\n",
       "      <td>1074</td>\n",
       "      <td>32</td>\n",
       "      <td>259</td>\n",
       "      <td>Tree world sing long beautiful issue with.</td>\n",
       "    </tr>\n",
       "    <tr>\n",
       "      <th>...</th>\n",
       "      <td>...</td>\n",
       "      <td>...</td>\n",
       "      <td>...</td>\n",
       "      <td>...</td>\n",
       "      <td>...</td>\n",
       "      <td>...</td>\n",
       "    </tr>\n",
       "    <tr>\n",
       "      <th>231</th>\n",
       "      <td>P4</td>\n",
       "      <td>EC10</td>\n",
       "      <td>1286</td>\n",
       "      <td>14</td>\n",
       "      <td>89</td>\n",
       "      <td>Pm explain that win ago job.</td>\n",
       "    </tr>\n",
       "    <tr>\n",
       "      <th>232</th>\n",
       "      <td>P4</td>\n",
       "      <td>EC10</td>\n",
       "      <td>1286</td>\n",
       "      <td>14</td>\n",
       "      <td>90</td>\n",
       "      <td>Scene scene themselves white.</td>\n",
       "    </tr>\n",
       "    <tr>\n",
       "      <th>233</th>\n",
       "      <td>P4</td>\n",
       "      <td>EC10</td>\n",
       "      <td>1286</td>\n",
       "      <td>14</td>\n",
       "      <td>91</td>\n",
       "      <td>Current red suggest who.</td>\n",
       "    </tr>\n",
       "    <tr>\n",
       "      <th>234</th>\n",
       "      <td>P4</td>\n",
       "      <td>EC10</td>\n",
       "      <td>1286</td>\n",
       "      <td>13</td>\n",
       "      <td>86</td>\n",
       "      <td>Now professor season party.</td>\n",
       "    </tr>\n",
       "    <tr>\n",
       "      <th>235</th>\n",
       "      <td>P4</td>\n",
       "      <td>EC10</td>\n",
       "      <td>1286</td>\n",
       "      <td>24</td>\n",
       "      <td>182</td>\n",
       "      <td>Trip plan old create far.</td>\n",
       "    </tr>\n",
       "  </tbody>\n",
       "</table>\n",
       "<p>224 rows × 6 columns</p>\n",
       "</div>"
      ],
      "text/plain": [
       "    PID  ECID  PNID  PNSectID  SentID  \\\n",
       "10   P4   EC7  1074        32     255   \n",
       "11   P4   EC7  1074        32     256   \n",
       "12   P4   EC7  1074        32     257   \n",
       "13   P4   EC7  1074        32     258   \n",
       "14   P4   EC7  1074        32     259   \n",
       "..   ..   ...   ...       ...     ...   \n",
       "231  P4  EC10  1286        14      89   \n",
       "232  P4  EC10  1286        14      90   \n",
       "233  P4  EC10  1286        14      91   \n",
       "234  P4  EC10  1286        13      86   \n",
       "235  P4  EC10  1286        24     182   \n",
       "\n",
       "                                            Sentence  \n",
       "10   Push tell pretty behind ball buy international.  \n",
       "11         Study eight cause assume start chair can.  \n",
       "12                          Parent part record they.  \n",
       "13                   Prevent your suffer cell level.  \n",
       "14        Tree world sing long beautiful issue with.  \n",
       "..                                               ...  \n",
       "231                     Pm explain that win ago job.  \n",
       "232                    Scene scene themselves white.  \n",
       "233                         Current red suggest who.  \n",
       "234                      Now professor season party.  \n",
       "235                        Trip plan old create far.  \n",
       "\n",
       "[224 rows x 6 columns]"
      ]
     },
     "execution_count": 4,
     "metadata": {},
     "output_type": "execute_result"
    }
   ],
   "source": [
    "df[-df['Sentence'].isna()]"
   ]
  },
  {
   "cell_type": "markdown",
   "id": "9a502eac-a8e6-4ddb-998f-0c2d7c2451b4",
   "metadata": {},
   "source": [
    "# Task Selection"
   ]
  },
  {
   "cell_type": "code",
   "execution_count": 5,
   "id": "c7b937e5-6685-4864-b121-819765aa98f1",
   "metadata": {
    "tags": []
   },
   "outputs": [
    {
     "data": {
      "text/plain": [
       "['P0', 'P1', 'P2', 'P3', 'P4', 'P5', 'P6', 'P7']"
      ]
     },
     "execution_count": 5,
     "metadata": {},
     "output_type": "execute_result"
    }
   ],
   "source": [
    "TaskName = 'Task2YearXXX'\n",
    "\n",
    "ELIG_PAT_SET = [f'P{i}' for i in range(0, 8)]\n",
    "ELIG_PAT_SET"
   ]
  },
  {
   "cell_type": "code",
   "execution_count": 6,
   "id": "0e68b259-197f-4852-8109-abb57cb11ef7",
   "metadata": {
    "tags": []
   },
   "outputs": [
    {
     "name": "stdout",
     "output_type": "stream",
     "text": [
      "data/ProcData/TensorFolder/Task2YearXXX\n"
     ]
    }
   ],
   "source": [
    "import os\n",
    "import pandas as pd\n",
    "\n",
    "Tensor_folder = 'data/ProcData/TensorFolder'\n",
    "TaskTensor_folder = os.path.join(Tensor_folder, TaskName)\n",
    "\n",
    "if not os.path.exists(TaskTensor_folder): os.makedirs(TaskTensor_folder)\n",
    "\n",
    "print(TaskTensor_folder)"
   ]
  },
  {
   "cell_type": "code",
   "execution_count": 7,
   "id": "1d481217-f7f7-4d3c-86f7-2f15cec0f321",
   "metadata": {
    "tags": []
   },
   "outputs": [
    {
     "name": "stdout",
     "output_type": "stream",
     "text": [
      "(2790, 6)\n"
     ]
    },
    {
     "data": {
      "text/html": [
       "<div>\n",
       "<style scoped>\n",
       "    .dataframe tbody tr th:only-of-type {\n",
       "        vertical-align: middle;\n",
       "    }\n",
       "\n",
       "    .dataframe tbody tr th {\n",
       "        vertical-align: top;\n",
       "    }\n",
       "\n",
       "    .dataframe thead th {\n",
       "        text-align: right;\n",
       "    }\n",
       "</style>\n",
       "<table border=\"1\" class=\"dataframe\">\n",
       "  <thead>\n",
       "    <tr style=\"text-align: right;\">\n",
       "      <th></th>\n",
       "      <th>PID</th>\n",
       "      <th>ECID</th>\n",
       "      <th>PNID</th>\n",
       "      <th>PNSectID</th>\n",
       "      <th>SentID</th>\n",
       "      <th>Sentence</th>\n",
       "    </tr>\n",
       "  </thead>\n",
       "  <tbody>\n",
       "    <tr>\n",
       "      <th>0</th>\n",
       "      <td>P0</td>\n",
       "      <td>EC18</td>\n",
       "      <td>71800</td>\n",
       "      <td>190</td>\n",
       "      <td>1547</td>\n",
       "      <td>Question religious small evidence.</td>\n",
       "    </tr>\n",
       "    <tr>\n",
       "      <th>1</th>\n",
       "      <td>P0</td>\n",
       "      <td>EC18</td>\n",
       "      <td>71800</td>\n",
       "      <td>190</td>\n",
       "      <td>1546</td>\n",
       "      <td>Prove subject responsibility.</td>\n",
       "    </tr>\n",
       "    <tr>\n",
       "      <th>2</th>\n",
       "      <td>P0</td>\n",
       "      <td>EC18</td>\n",
       "      <td>71800</td>\n",
       "      <td>190</td>\n",
       "      <td>1545</td>\n",
       "      <td>Card machine know fight experience option.</td>\n",
       "    </tr>\n",
       "    <tr>\n",
       "      <th>3</th>\n",
       "      <td>P0</td>\n",
       "      <td>EC18</td>\n",
       "      <td>71800</td>\n",
       "      <td>190</td>\n",
       "      <td>1544</td>\n",
       "      <td>Bank message several deal option be.</td>\n",
       "    </tr>\n",
       "    <tr>\n",
       "      <th>4</th>\n",
       "      <td>P0</td>\n",
       "      <td>EC18</td>\n",
       "      <td>71800</td>\n",
       "      <td>190</td>\n",
       "      <td>1543</td>\n",
       "      <td>Skin despite security set we.</td>\n",
       "    </tr>\n",
       "    <tr>\n",
       "      <th>...</th>\n",
       "      <td>...</td>\n",
       "      <td>...</td>\n",
       "      <td>...</td>\n",
       "      <td>...</td>\n",
       "      <td>...</td>\n",
       "      <td>...</td>\n",
       "    </tr>\n",
       "    <tr>\n",
       "      <th>83</th>\n",
       "      <td>P7</td>\n",
       "      <td>EC17</td>\n",
       "      <td>435</td>\n",
       "      <td>41</td>\n",
       "      <td>321</td>\n",
       "      <td>More nothing scene leave chance tax.</td>\n",
       "    </tr>\n",
       "    <tr>\n",
       "      <th>84</th>\n",
       "      <td>P7</td>\n",
       "      <td>EC17</td>\n",
       "      <td>435</td>\n",
       "      <td>40</td>\n",
       "      <td>312</td>\n",
       "      <td>Long follow account dream life.</td>\n",
       "    </tr>\n",
       "    <tr>\n",
       "      <th>85</th>\n",
       "      <td>P7</td>\n",
       "      <td>EC17</td>\n",
       "      <td>435</td>\n",
       "      <td>40</td>\n",
       "      <td>313</td>\n",
       "      <td>Policy capital piece degree soon already.</td>\n",
       "    </tr>\n",
       "    <tr>\n",
       "      <th>86</th>\n",
       "      <td>P7</td>\n",
       "      <td>EC17</td>\n",
       "      <td>435</td>\n",
       "      <td>40</td>\n",
       "      <td>314</td>\n",
       "      <td>Concern mind near some.</td>\n",
       "    </tr>\n",
       "    <tr>\n",
       "      <th>87</th>\n",
       "      <td>P7</td>\n",
       "      <td>EC17</td>\n",
       "      <td>435</td>\n",
       "      <td>40</td>\n",
       "      <td>311</td>\n",
       "      <td>Own thank himself within future.</td>\n",
       "    </tr>\n",
       "  </tbody>\n",
       "</table>\n",
       "<p>2790 rows × 6 columns</p>\n",
       "</div>"
      ],
      "text/plain": [
       "   PID  ECID   PNID  PNSectID  SentID  \\\n",
       "0   P0  EC18  71800       190    1547   \n",
       "1   P0  EC18  71800       190    1546   \n",
       "2   P0  EC18  71800       190    1545   \n",
       "3   P0  EC18  71800       190    1544   \n",
       "4   P0  EC18  71800       190    1543   \n",
       "..  ..   ...    ...       ...     ...   \n",
       "83  P7  EC17    435        41     321   \n",
       "84  P7  EC17    435        40     312   \n",
       "85  P7  EC17    435        40     313   \n",
       "86  P7  EC17    435        40     314   \n",
       "87  P7  EC17    435        40     311   \n",
       "\n",
       "                                      Sentence  \n",
       "0           Question religious small evidence.  \n",
       "1                Prove subject responsibility.  \n",
       "2   Card machine know fight experience option.  \n",
       "3         Bank message several deal option be.  \n",
       "4                Skin despite security set we.  \n",
       "..                                         ...  \n",
       "83        More nothing scene leave chance tax.  \n",
       "84             Long follow account dream life.  \n",
       "85   Policy capital piece degree soon already.  \n",
       "86                     Concern mind near some.  \n",
       "87            Own thank himself within future.  \n",
       "\n",
       "[2790 rows x 6 columns]"
      ]
     },
     "execution_count": 7,
     "metadata": {},
     "output_type": "execute_result"
    }
   ],
   "source": [
    "######################### Change this\n",
    "RecName = 'PNSectSent'\n",
    "######################### \n",
    "\n",
    "\n",
    "df = pd.DataFrame()\n",
    "for PID in ELIG_PAT_SET:\n",
    "    Pat = PatientDP(PID, rec_folder, RANGE_SIZE)\n",
    "    dfx = Pat.get_df_rec(RecName)\n",
    "    \n",
    "    ###################################\n",
    "    # TODO: make some operation to select good dfx\n",
    "    dfx = dfx \n",
    "    ###################################\n",
    "    \n",
    "    df = pd.concat([df, dfx])\n",
    "    \n",
    "print(df.shape)\n",
    "df"
   ]
  },
  {
   "cell_type": "markdown",
   "id": "75a8a5c0-31f8-496e-9a28-7209349b0194",
   "metadata": {},
   "source": [
    "# Load Meta Info"
   ]
  },
  {
   "cell_type": "code",
   "execution_count": 8,
   "id": "135e3109-ac53-468c-a35e-ae0a15cb8361",
   "metadata": {
    "tags": []
   },
   "outputs": [
    {
     "data": {
      "text/html": [
       "<div>\n",
       "<style scoped>\n",
       "    .dataframe tbody tr th:only-of-type {\n",
       "        vertical-align: middle;\n",
       "    }\n",
       "\n",
       "    .dataframe tbody tr th {\n",
       "        vertical-align: top;\n",
       "    }\n",
       "\n",
       "    .dataframe thead th {\n",
       "        text-align: right;\n",
       "    }\n",
       "</style>\n",
       "<table border=\"1\" class=\"dataframe\">\n",
       "  <thead>\n",
       "    <tr style=\"text-align: right;\">\n",
       "      <th></th>\n",
       "      <th>RecName</th>\n",
       "      <th>prefix_ids</th>\n",
       "      <th>focal_ids</th>\n",
       "      <th>field_list</th>\n",
       "      <th>field</th>\n",
       "      <th>grain</th>\n",
       "      <th>field2grain</th>\n",
       "      <th>recfield2grain</th>\n",
       "      <th>Vocab</th>\n",
       "    </tr>\n",
       "  </thead>\n",
       "  <tbody>\n",
       "    <tr>\n",
       "      <th>0</th>\n",
       "      <td>PNSectSent</td>\n",
       "      <td>[PID, ECID, PNID, PNSectID]</td>\n",
       "      <td>[SentID]</td>\n",
       "      <td>[Sentence]</td>\n",
       "      <td>Sentence</td>\n",
       "      <td>Tk@TknzLLMGrn</td>\n",
       "      <td>Sentence-Tk@TknzLLMGrn</td>\n",
       "      <td>PNSectSent@Sentence-Tk@TknzLLMGrn</td>\n",
       "      <td>{'v2idx': BertTokenizerFast(name_or_path='bert...</td>\n",
       "    </tr>\n",
       "  </tbody>\n",
       "</table>\n",
       "</div>"
      ],
      "text/plain": [
       "      RecName                   prefix_ids focal_ids  field_list     field  \\\n",
       "0  PNSectSent  [PID, ECID, PNID, PNSectID]  [SentID]  [Sentence]  Sentence   \n",
       "\n",
       "           grain             field2grain                     recfield2grain  \\\n",
       "0  Tk@TknzLLMGrn  Sentence-Tk@TknzLLMGrn  PNSectSent@Sentence-Tk@TknzLLMGrn   \n",
       "\n",
       "                                               Vocab  \n",
       "0  {'v2idx': BertTokenizerFast(name_or_path='bert...  "
      ]
     },
     "execution_count": 8,
     "metadata": {},
     "output_type": "execute_result"
    }
   ],
   "source": [
    "import os\n",
    "import pandas as pd\n",
    "\n",
    "fldgrn_folder = 'data/ProcData/FldGrnInfo'\n",
    "\n",
    "fullfldgrn_file = os.path.join(fldgrn_folder, RecName + '.p')\n",
    "\n",
    "df_FieldGrainInfo = pd.read_pickle(fullfldgrn_file)\n",
    "df_FieldGrainInfo"
   ]
  },
  {
   "cell_type": "markdown",
   "id": "d59b90b4-d4f9-4aea-87d4-d5b6a0b033c8",
   "metadata": {},
   "source": [
    "# RecFldGrn `PNSectSent@Sentence-Tk@TknzLLMGrn`"
   ]
  },
  {
   "cell_type": "code",
   "execution_count": 9,
   "id": "6642a79c-33b1-4a25-ad28-926c4d8cc1d5",
   "metadata": {
    "tags": []
   },
   "outputs": [],
   "source": [
    "from recfldgrn.grains import Field2Grain_2_get_GrnStrList_Fn\n",
    "from recfldgrn.grains import Field2Grain_2_get_GrnIdxList_Fn\n",
    "from recfldgrn.grains import Field2Grain_2_get_GrnWgtList_Fn\n",
    "from recfldgrn.utils import generate_grain_vocab_info\n",
    "from recfldgrn.utils import get_compressed_df\n",
    "from recfldgrn.datapoint import write_df_to_folders"
   ]
  },
  {
   "cell_type": "code",
   "execution_count": 10,
   "id": "fcb8c02d-adfb-4c4e-9df0-a4b4354c9607",
   "metadata": {
    "tags": []
   },
   "outputs": [],
   "source": [
    "from recfldgrn.utils import get_highorder_input_idx"
   ]
  },
  {
   "cell_type": "code",
   "execution_count": 11,
   "id": "cb570ab8-d650-49ee-87ef-d6f86fb9467c",
   "metadata": {
    "tags": []
   },
   "outputs": [
    {
     "data": {
      "text/plain": [
       "'data/ProcData/TensorFolder/Task2YearXXX'"
      ]
     },
     "execution_count": 11,
     "metadata": {},
     "output_type": "execute_result"
    }
   ],
   "source": [
    "TaskTensor_folder"
   ]
  },
  {
   "cell_type": "code",
   "execution_count": 18,
   "id": "3e6defb4-a875-4ab3-8f1b-fe6af2cdf99b",
   "metadata": {
    "tags": []
   },
   "outputs": [],
   "source": [
    "######################### Change this\n",
    "recfield2grain = 'PNSectSent@Sentence-Tk@TknzLLMGrn'\n",
    "#########################\n",
    "\n",
    "\n",
    "d = df_FieldGrainInfo[df_FieldGrainInfo['recfield2grain'] == recfield2grain].iloc[0]\n",
    "v2idx_tokenizer = d['Vocab']['v2idx']\n",
    "prefix_ids = d['prefix_ids']\n",
    "focal_ids = d['focal_ids']"
   ]
  },
  {
   "cell_type": "code",
   "execution_count": 19,
   "id": "3a6b902f-c796-4a04-a4f8-845bbe995bce",
   "metadata": {
    "tags": []
   },
   "outputs": [
    {
     "name": "stdout",
     "output_type": "stream",
     "text": [
      "PNSectSent@Sentence-Tk@TknzLLMGrn\n"
     ]
    }
   ],
   "source": [
    "print(recfield2grain)"
   ]
  },
  {
   "cell_type": "code",
   "execution_count": null,
   "id": "2fd1c07d-b95a-4d6c-8c2e-51eec70592cb",
   "metadata": {},
   "outputs": [],
   "source": []
  },
  {
   "cell_type": "code",
   "execution_count": 20,
   "id": "0aa53a7d-5999-4e7f-bae4-3c10bfa445ba",
   "metadata": {
    "tags": []
   },
   "outputs": [
    {
     "name": "stdout",
     "output_type": "stream",
     "text": [
      "PNSectSent Sentence Tk@TknzLLMGrn\n"
     ]
    }
   ],
   "source": [
    "rec, field = recfield2grain.split('-')[0].split('@')\n",
    "grain = recfield2grain.split('-')[-1]\n",
    "print(rec, field, grain)"
   ]
  },
  {
   "cell_type": "code",
   "execution_count": 21,
   "id": "d8964dc4-a9fa-43ae-9031-418c80b33f8d",
   "metadata": {
    "tags": []
   },
   "outputs": [
    {
     "data": {
      "text/plain": [
       "'PNSectSent@Sentence-Tk@TknzLLMGrn'"
      ]
     },
     "execution_count": 21,
     "metadata": {},
     "output_type": "execute_result"
    }
   ],
   "source": [
    "recfield2grain"
   ]
  },
  {
   "cell_type": "code",
   "execution_count": 22,
   "id": "4342f78e-76ad-495f-97cc-8a1708c3dc6f",
   "metadata": {
    "tags": []
   },
   "outputs": [
    {
     "data": {
      "text/plain": [
       "<function recfldgrn.grains.<lambda>(x, tokenizer)>"
      ]
     },
     "execution_count": 22,
     "metadata": {},
     "output_type": "execute_result"
    }
   ],
   "source": [
    "suffix = '_idx' if 'Nume' not in recfield2grain else '_wgt'\n",
    "\n",
    "get_grn_idx_fn = Field2Grain_2_get_GrnIdxList_Fn[recfield2grain]\n",
    "get_grn_idx_fn"
   ]
  },
  {
   "cell_type": "code",
   "execution_count": 23,
   "id": "65b840b4-b95f-4ee0-81d5-f8db258dc210",
   "metadata": {
    "tags": []
   },
   "outputs": [
    {
     "data": {
      "text/plain": [
       "BertTokenizerFast(name_or_path='bert-base-uncased', vocab_size=30522, model_max_length=512, is_fast=True, padding_side='right', truncation_side='right', special_tokens={'unk_token': '[UNK]', 'sep_token': '[SEP]', 'pad_token': '[PAD]', 'cls_token': '[CLS]', 'mask_token': '[MASK]'})"
      ]
     },
     "execution_count": 23,
     "metadata": {},
     "output_type": "execute_result"
    }
   ],
   "source": [
    "v2idx_tokenizer"
   ]
  },
  {
   "cell_type": "code",
   "execution_count": 24,
   "id": "35b9187b-9d33-4c91-88de-080f763b0afc",
   "metadata": {
    "tags": []
   },
   "outputs": [
    {
     "data": {
      "text/plain": [
       "[101, 2016, 2003, 2214, 102]"
      ]
     },
     "execution_count": 24,
     "metadata": {},
     "output_type": "execute_result"
    }
   ],
   "source": [
    "x = 'she is old'\n",
    "get_grn_idx_fn(x, v2idx_tokenizer)"
   ]
  },
  {
   "cell_type": "code",
   "execution_count": 25,
   "id": "92a25cf8-e641-4899-a661-b8b5b7939cf6",
   "metadata": {
    "tags": []
   },
   "outputs": [
    {
     "data": {
      "text/plain": [
       "0             Question religious small evidence.\n",
       "1                  Prove subject responsibility.\n",
       "2     Card machine know fight experience option.\n",
       "3           Bank message several deal option be.\n",
       "4                  Skin despite security set we.\n",
       "                         ...                    \n",
       "83          More nothing scene leave chance tax.\n",
       "84               Long follow account dream life.\n",
       "85     Policy capital piece degree soon already.\n",
       "86                       Concern mind near some.\n",
       "87              Own thank himself within future.\n",
       "Name: Sentence, Length: 2790, dtype: object"
      ]
     },
     "execution_count": 25,
     "metadata": {},
     "output_type": "execute_result"
    }
   ],
   "source": [
    "df[field]"
   ]
  },
  {
   "cell_type": "code",
   "execution_count": 27,
   "id": "c2204be7-40f0-4809-8534-49b83fb8a87d",
   "metadata": {
    "tags": []
   },
   "outputs": [
    {
     "data": {
      "text/plain": [
       "Index(['PID', 'ECID', 'PNID', 'PNSectID', 'SentID', 'Sentence',\n",
       "       'PNSectSent@Sentence-Tk@TknzLLMGrn_idx'],\n",
       "      dtype='object')"
      ]
     },
     "execution_count": 27,
     "metadata": {},
     "output_type": "execute_result"
    }
   ],
   "source": [
    "\n",
    "df[recfield2grain + suffix] = df[field].apply(lambda x: get_grn_idx_fn(x, v2idx_tokenizer))\n",
    "\n",
    "df[recfield2grain + suffix]\n",
    "df.columns"
   ]
  },
  {
   "cell_type": "code",
   "execution_count": 28,
   "id": "a9b4c84c-27fc-4698-880f-75350efd6b1a",
   "metadata": {
    "tags": []
   },
   "outputs": [
    {
     "data": {
      "text/plain": [
       "'PNSectSent@Sentence-Tk@TknzLLMGrn_idx'"
      ]
     },
     "execution_count": 28,
     "metadata": {},
     "output_type": "execute_result"
    }
   ],
   "source": [
    "# eg. full_recfldgrn_name_c: SectSent@Sentence-Tk@TknzLLMGrn_idx\n",
    "full_recfldgrn_name_c = recfield2grain + suffix\n",
    "full_recfldgrn_name_c"
   ]
  },
  {
   "cell_type": "code",
   "execution_count": 29,
   "id": "52511ca8-99f6-49b9-8bee-45850f56c0a2",
   "metadata": {
    "tags": []
   },
   "outputs": [
    {
     "data": {
      "text/plain": [
       "['PID', 'ECID', 'PNID', 'PNSectID']"
      ]
     },
     "execution_count": 29,
     "metadata": {},
     "output_type": "execute_result"
    }
   ],
   "source": [
    "prefix_ids"
   ]
  },
  {
   "cell_type": "code",
   "execution_count": 31,
   "id": "2a4ad8df-7094-41cd-bb2a-5b39f93f5618",
   "metadata": {
    "tags": []
   },
   "outputs": [
    {
     "data": {
      "text/html": [
       "<div>\n",
       "<style scoped>\n",
       "    .dataframe tbody tr th:only-of-type {\n",
       "        vertical-align: middle;\n",
       "    }\n",
       "\n",
       "    .dataframe tbody tr th {\n",
       "        vertical-align: top;\n",
       "    }\n",
       "\n",
       "    .dataframe thead th {\n",
       "        text-align: right;\n",
       "    }\n",
       "</style>\n",
       "<table border=\"1\" class=\"dataframe\">\n",
       "  <thead>\n",
       "    <tr style=\"text-align: right;\">\n",
       "      <th></th>\n",
       "      <th>PID</th>\n",
       "      <th>ECID</th>\n",
       "      <th>PNID</th>\n",
       "      <th>PNSectID</th>\n",
       "      <th>SentID</th>\n",
       "      <th>PNSectSent@Sentence-Tk@TknzLLMGrn_idx</th>\n",
       "    </tr>\n",
       "  </thead>\n",
       "  <tbody>\n",
       "    <tr>\n",
       "      <th>0</th>\n",
       "      <td>P0</td>\n",
       "      <td>EC18</td>\n",
       "      <td>71800</td>\n",
       "      <td>190</td>\n",
       "      <td>1547</td>\n",
       "      <td>[101, 3160, 3412, 2235, 3350, 1012, 102]</td>\n",
       "    </tr>\n",
       "    <tr>\n",
       "      <th>1</th>\n",
       "      <td>P0</td>\n",
       "      <td>EC18</td>\n",
       "      <td>71800</td>\n",
       "      <td>190</td>\n",
       "      <td>1546</td>\n",
       "      <td>[101, 6011, 3395, 5368, 1012, 102]</td>\n",
       "    </tr>\n",
       "    <tr>\n",
       "      <th>2</th>\n",
       "      <td>P0</td>\n",
       "      <td>EC18</td>\n",
       "      <td>71800</td>\n",
       "      <td>190</td>\n",
       "      <td>1545</td>\n",
       "      <td>[101, 4003, 3698, 2113, 2954, 3325, 5724, 1012...</td>\n",
       "    </tr>\n",
       "    <tr>\n",
       "      <th>3</th>\n",
       "      <td>P0</td>\n",
       "      <td>EC18</td>\n",
       "      <td>71800</td>\n",
       "      <td>190</td>\n",
       "      <td>1544</td>\n",
       "      <td>[101, 2924, 4471, 2195, 3066, 5724, 2022, 1012...</td>\n",
       "    </tr>\n",
       "    <tr>\n",
       "      <th>4</th>\n",
       "      <td>P0</td>\n",
       "      <td>EC18</td>\n",
       "      <td>71800</td>\n",
       "      <td>190</td>\n",
       "      <td>1543</td>\n",
       "      <td>[101, 3096, 2750, 3036, 2275, 2057, 1012, 102]</td>\n",
       "    </tr>\n",
       "  </tbody>\n",
       "</table>\n",
       "</div>"
      ],
      "text/plain": [
       "  PID  ECID   PNID  PNSectID  SentID  \\\n",
       "0  P0  EC18  71800       190    1547   \n",
       "1  P0  EC18  71800       190    1546   \n",
       "2  P0  EC18  71800       190    1545   \n",
       "3  P0  EC18  71800       190    1544   \n",
       "4  P0  EC18  71800       190    1543   \n",
       "\n",
       "               PNSectSent@Sentence-Tk@TknzLLMGrn_idx  \n",
       "0           [101, 3160, 3412, 2235, 3350, 1012, 102]  \n",
       "1                 [101, 6011, 3395, 5368, 1012, 102]  \n",
       "2  [101, 4003, 3698, 2113, 2954, 3325, 5724, 1012...  \n",
       "3  [101, 2924, 4471, 2195, 3066, 5724, 2022, 1012...  \n",
       "4     [101, 3096, 2750, 3036, 2275, 2057, 1012, 102]  "
      ]
     },
     "execution_count": 31,
     "metadata": {},
     "output_type": "execute_result"
    }
   ],
   "source": [
    "prefix_ids_c = prefix_ids.copy() # _c: copy (meaningless)\n",
    "df_Rec = df[prefix_ids_c + focal_ids + [full_recfldgrn_name_c]]\n",
    "df_Rec.head()"
   ]
  },
  {
   "cell_type": "code",
   "execution_count": 32,
   "id": "0ef35fac-d0e1-42f4-b624-fa82f29c3e54",
   "metadata": {
    "tags": []
   },
   "outputs": [],
   "source": [
    "df_Rec_xxx, full_recfldgrn_name_c_xxx, prefix_ids_c_xxx = get_compressed_df(df_Rec, full_recfldgrn_name_c, prefix_ids_c)\n",
    "\n"
   ]
  },
  {
   "cell_type": "code",
   "execution_count": 33,
   "id": "706f99bd-72fb-436b-805c-a5ad4b85a9c8",
   "metadata": {
    "tags": []
   },
   "outputs": [
    {
     "data": {
      "text/html": [
       "<div>\n",
       "<style scoped>\n",
       "    .dataframe tbody tr th:only-of-type {\n",
       "        vertical-align: middle;\n",
       "    }\n",
       "\n",
       "    .dataframe tbody tr th {\n",
       "        vertical-align: top;\n",
       "    }\n",
       "\n",
       "    .dataframe thead th {\n",
       "        text-align: right;\n",
       "    }\n",
       "</style>\n",
       "<table border=\"1\" class=\"dataframe\">\n",
       "  <thead>\n",
       "    <tr style=\"text-align: right;\">\n",
       "      <th></th>\n",
       "      <th>PID</th>\n",
       "      <th>ECID</th>\n",
       "      <th>PNID</th>\n",
       "      <th>PNSectID</th>\n",
       "      <th>PNSect-PNSectSent@Sentence-Tk@TknzLLMGrn_idx</th>\n",
       "    </tr>\n",
       "  </thead>\n",
       "  <tbody>\n",
       "    <tr>\n",
       "      <th>0</th>\n",
       "      <td>P6</td>\n",
       "      <td>EC15</td>\n",
       "      <td>1335</td>\n",
       "      <td>0</td>\n",
       "      <td>[[101, 4551, 4299, 3087, 2835, 2017, 2231, 546...</td>\n",
       "    </tr>\n",
       "    <tr>\n",
       "      <th>1</th>\n",
       "      <td>P6</td>\n",
       "      <td>EC15</td>\n",
       "      <td>1335</td>\n",
       "      <td>1</td>\n",
       "      <td>[[101, 2022, 3082, 3639, 2000, 1012, 102], [10...</td>\n",
       "    </tr>\n",
       "    <tr>\n",
       "      <th>2</th>\n",
       "      <td>P6</td>\n",
       "      <td>EC15</td>\n",
       "      <td>1335</td>\n",
       "      <td>2</td>\n",
       "      <td>[[101, 4254, 2428, 2627, 1012, 102], [101, 271...</td>\n",
       "    </tr>\n",
       "    <tr>\n",
       "      <th>3</th>\n",
       "      <td>P6</td>\n",
       "      <td>EC15</td>\n",
       "      <td>1335</td>\n",
       "      <td>3</td>\n",
       "      <td>[[101, 3257, 2276, 4708, 6611, 2452, 3635, 255...</td>\n",
       "    </tr>\n",
       "    <tr>\n",
       "      <th>4</th>\n",
       "      <td>P6</td>\n",
       "      <td>EC15</td>\n",
       "      <td>1335</td>\n",
       "      <td>4</td>\n",
       "      <td>[[101, 4687, 2491, 4390, 2377, 2016, 3178, 101...</td>\n",
       "    </tr>\n",
       "    <tr>\n",
       "      <th>...</th>\n",
       "      <td>...</td>\n",
       "      <td>...</td>\n",
       "      <td>...</td>\n",
       "      <td>...</td>\n",
       "      <td>...</td>\n",
       "    </tr>\n",
       "    <tr>\n",
       "      <th>480</th>\n",
       "      <td>P6</td>\n",
       "      <td>EC123</td>\n",
       "      <td>72573</td>\n",
       "      <td>480</td>\n",
       "      <td>[[101, 2053, 2592, 2182, 1012, 102]]</td>\n",
       "    </tr>\n",
       "    <tr>\n",
       "      <th>481</th>\n",
       "      <td>P6</td>\n",
       "      <td>EC92</td>\n",
       "      <td>72574</td>\n",
       "      <td>481</td>\n",
       "      <td>[[101, 2053, 2592, 2182, 1012, 102]]</td>\n",
       "    </tr>\n",
       "    <tr>\n",
       "      <th>482</th>\n",
       "      <td>P6</td>\n",
       "      <td>EC93</td>\n",
       "      <td>72575</td>\n",
       "      <td>482</td>\n",
       "      <td>[[101, 2053, 2592, 2182, 1012, 102]]</td>\n",
       "    </tr>\n",
       "    <tr>\n",
       "      <th>483</th>\n",
       "      <td>P6</td>\n",
       "      <td>EC195</td>\n",
       "      <td>72576</td>\n",
       "      <td>483</td>\n",
       "      <td>[[101, 2053, 2592, 2182, 1012, 102]]</td>\n",
       "    </tr>\n",
       "    <tr>\n",
       "      <th>484</th>\n",
       "      <td>P6</td>\n",
       "      <td>EC173</td>\n",
       "      <td>72577</td>\n",
       "      <td>484</td>\n",
       "      <td>[[101, 2053, 2592, 2182, 1012, 102]]</td>\n",
       "    </tr>\n",
       "  </tbody>\n",
       "</table>\n",
       "<p>485 rows × 5 columns</p>\n",
       "</div>"
      ],
      "text/plain": [
       "    PID   ECID   PNID  PNSectID  \\\n",
       "0    P6   EC15   1335         0   \n",
       "1    P6   EC15   1335         1   \n",
       "2    P6   EC15   1335         2   \n",
       "3    P6   EC15   1335         3   \n",
       "4    P6   EC15   1335         4   \n",
       "..   ..    ...    ...       ...   \n",
       "480  P6  EC123  72573       480   \n",
       "481  P6   EC92  72574       481   \n",
       "482  P6   EC93  72575       482   \n",
       "483  P6  EC195  72576       483   \n",
       "484  P6  EC173  72577       484   \n",
       "\n",
       "          PNSect-PNSectSent@Sentence-Tk@TknzLLMGrn_idx  \n",
       "0    [[101, 4551, 4299, 3087, 2835, 2017, 2231, 546...  \n",
       "1    [[101, 2022, 3082, 3639, 2000, 1012, 102], [10...  \n",
       "2    [[101, 4254, 2428, 2627, 1012, 102], [101, 271...  \n",
       "3    [[101, 3257, 2276, 4708, 6611, 2452, 3635, 255...  \n",
       "4    [[101, 4687, 2491, 4390, 2377, 2016, 3178, 101...  \n",
       "..                                                 ...  \n",
       "480               [[101, 2053, 2592, 2182, 1012, 102]]  \n",
       "481               [[101, 2053, 2592, 2182, 1012, 102]]  \n",
       "482               [[101, 2053, 2592, 2182, 1012, 102]]  \n",
       "483               [[101, 2053, 2592, 2182, 1012, 102]]  \n",
       "484               [[101, 2053, 2592, 2182, 1012, 102]]  \n",
       "\n",
       "[485 rows x 5 columns]"
      ]
     },
     "execution_count": 33,
     "metadata": {},
     "output_type": "execute_result"
    }
   ],
   "source": [
    "df_Rec_xxx"
   ]
  },
  {
   "cell_type": "code",
   "execution_count": 35,
   "id": "da2e32ac-e098-479a-9a6f-5f0486ec8d7d",
   "metadata": {
    "tags": []
   },
   "outputs": [
    {
     "data": {
      "text/plain": [
       "'PNSectSent@Sentence-Tk@TknzLLMGrn_idx'"
      ]
     },
     "execution_count": 35,
     "metadata": {},
     "output_type": "execute_result"
    }
   ],
   "source": [
    "full_recfldgrn_name_c"
   ]
  },
  {
   "cell_type": "code",
   "execution_count": 34,
   "id": "88f6b140-7281-494d-ae71-ad803eec10a4",
   "metadata": {
    "tags": []
   },
   "outputs": [
    {
     "data": {
      "text/plain": [
       "'PNSect-PNSectSent@Sentence-Tk@TknzLLMGrn_idx'"
      ]
     },
     "execution_count": 34,
     "metadata": {},
     "output_type": "execute_result"
    }
   ],
   "source": [
    "full_recfldgrn_name_c_xxx"
   ]
  },
  {
   "cell_type": "code",
   "execution_count": 37,
   "id": "dbb8120b-f905-4e4c-9052-94879a8ca107",
   "metadata": {
    "tags": []
   },
   "outputs": [
    {
     "data": {
      "text/plain": [
       "['PID', 'ECID', 'PNID', 'PNSectID']"
      ]
     },
     "execution_count": 37,
     "metadata": {},
     "output_type": "execute_result"
    }
   ],
   "source": [
    "prefix_ids_c"
   ]
  },
  {
   "cell_type": "code",
   "execution_count": 36,
   "id": "402e6ab8-d291-42d9-9d00-ad41d9d48eca",
   "metadata": {
    "tags": []
   },
   "outputs": [
    {
     "data": {
      "text/plain": [
       "['PID', 'ECID', 'PNID']"
      ]
     },
     "execution_count": 36,
     "metadata": {},
     "output_type": "execute_result"
    }
   ],
   "source": [
    "prefix_ids_c_xxx"
   ]
  },
  {
   "cell_type": "code",
   "execution_count": 38,
   "id": "907f63dd-2f85-4061-aaf2-54bf7b00cc75",
   "metadata": {
    "tags": []
   },
   "outputs": [
    {
     "name": "stdout",
     "output_type": "stream",
     "text": [
      "Index(['PID', 'ECID', 'PNID', 'PNSectID',\n",
      "       'PNSect-PNSectSent@Sentence-Tk@TknzLLMGrn_idx'],\n",
      "      dtype='object')\n",
      "Index(['PID', 'ECID', 'PNID',\n",
      "       'PN-PNSect-PNSectSent@Sentence-Tk@TknzLLMGrn_idx'],\n",
      "      dtype='object')\n",
      "Index(['PID', 'ECID', 'EC-PN-PNSect-PNSectSent@Sentence-Tk@TknzLLMGrn_idx'], dtype='object')\n",
      "Index(['PID', 'P-EC-PN-PNSect-PNSectSent@Sentence-Tk@TknzLLMGrn_idx'], dtype='object')\n"
     ]
    }
   ],
   "source": [
    "for i in range(len(prefix_ids_c)):\n",
    "    df_Rec, full_recfldgrn_name_c, prefix_ids_c = get_compressed_df(df_Rec, full_recfldgrn_name_c, prefix_ids_c)\n",
    "    print(df_Rec.columns)\n",
    "        "
   ]
  },
  {
   "cell_type": "code",
   "execution_count": 41,
   "id": "a61d93ca-7cd5-48ad-a612-0f9b992ea54a",
   "metadata": {
    "tags": []
   },
   "outputs": [],
   "source": [
    "# def get_highorder_input_idx(df, recfield2grain, \n",
    "#                             v2idx_tokenizer, prefix_ids, focal_ids, \n",
    "#                             Field2Grain_2_get_GrnIdxList_Fn, \n",
    "#                             Field2Grain_2_get_GrnWgtList_Fn):\n",
    "#     '''\n",
    "#         df: raw data with column: prefix_ids + focal_ids + field\n",
    "#             prefix_ids: [PID, ECID, PNID, PNSectID]\n",
    "#             focal_ids: [SectSentID]\n",
    "            \n",
    "#         recfield2grain: The rec@field-grain we want to derive. eg. SectSent@Sentence-Tk@TknzLLMGrn\n",
    "#         v2idx_tokenizer: dict vocabuary, if tknz in recfield2grain, this one will be tokeninzor\n",
    "#     '''\n",
    "    \n",
    "#     rec, field = recfield2grain.split('-')[0].split('@')\n",
    "#     grain = recfield2grain.split('-')[-1]\n",
    "    \n",
    "#     suffix = '_idx' if 'Nume' not in recfield2grain else '_wgt'\n",
    "#     if suffix == '_idx':\n",
    "        \n",
    "#         get_grn_idx_fn = Field2Grain_2_get_GrnIdxList_Fn[recfield2grain]\n",
    "#         df[recfield2grain + suffix] = df[field].apply(lambda x: get_grn_idx_fn(x, v2idx_tokenizer))\n",
    "\n",
    "#     elif suffix == '_wgt':\n",
    "\n",
    "#         get_grn_wgt_fn = Field2Grain_2_get_GrnWgtList_Fn[recfield2grain]\n",
    "#         df[recfield2grain + suffix] = df[field].apply(lambda x: get_grn_wgt_fn(x))\n",
    "\n",
    "#     else:\n",
    "#         raise ValueError(f'Incorrect suffix \"{suffix}\"')\n",
    "    \n",
    "#     # eg. full_recfldgrn_name_c: SectSent@Sentence-Tk@TknzLLMGrn_idx\n",
    "#     full_recfldgrn_name_c = recfield2grain + suffix\n",
    "\n",
    "#     # top_id = df.columns[0] # need to double check this.\n",
    "#     if len(prefix_ids) > 0:\n",
    "#         prefix_ids_c = prefix_ids.copy() # _c: copy (meaningless)\n",
    "#         df_Rec = df[prefix_ids_c + [full_recfldgrn_name_c]]\n",
    "#         for i in range(len(prefix_ids_c)):\n",
    "#             df_Rec, full_recfldgrn_name_c, prefix_ids_c = get_compressed_df(df_Rec, full_recfldgrn_name_c, prefix_ids_c)\n",
    "#     else:\n",
    "#         df_Rec = df[focal_ids + [full_recfldgrn_name_c]]\n",
    "\n",
    "#     df_p = df_Rec.reset_index(drop = True) # p: patient.\n",
    "#     return df_p"
   ]
  },
  {
   "cell_type": "code",
   "execution_count": 39,
   "id": "6d5f4b6b-1539-41a6-8a31-259c46550aa4",
   "metadata": {
    "tags": []
   },
   "outputs": [],
   "source": [
    "df_p = get_highorder_input_idx(df, recfield2grain, \n",
    "                               v2idx, prefix_ids, focal_ids,\n",
    "                               Field2Grain_2_get_GrnIdxList_Fn, \n",
    "                               Field2Grain_2_get_GrnWgtList_Fn)"
   ]
  },
  {
   "cell_type": "code",
   "execution_count": 40,
   "id": "df0cfe7b-220f-4940-8269-9cc2f9935acc",
   "metadata": {
    "tags": []
   },
   "outputs": [
    {
     "data": {
      "text/html": [
       "<div>\n",
       "<style scoped>\n",
       "    .dataframe tbody tr th:only-of-type {\n",
       "        vertical-align: middle;\n",
       "    }\n",
       "\n",
       "    .dataframe tbody tr th {\n",
       "        vertical-align: top;\n",
       "    }\n",
       "\n",
       "    .dataframe thead th {\n",
       "        text-align: right;\n",
       "    }\n",
       "</style>\n",
       "<table border=\"1\" class=\"dataframe\">\n",
       "  <thead>\n",
       "    <tr style=\"text-align: right;\">\n",
       "      <th></th>\n",
       "      <th>PID</th>\n",
       "      <th>P-EC-PN-PNSect-PNSectSent@Sentence-Tk@TknzLLMGrn_idx</th>\n",
       "    </tr>\n",
       "  </thead>\n",
       "  <tbody>\n",
       "    <tr>\n",
       "      <th>0</th>\n",
       "      <td>P0</td>\n",
       "      <td>[[[[[101, 2053, 2592, 2182, 1012, 102]]]], [[[...</td>\n",
       "    </tr>\n",
       "    <tr>\n",
       "      <th>1</th>\n",
       "      <td>P1</td>\n",
       "      <td>[[[[[101, 3178, 5987, 1037, 2694, 1012, 102]],...</td>\n",
       "    </tr>\n",
       "    <tr>\n",
       "      <th>2</th>\n",
       "      <td>P2</td>\n",
       "      <td>[[[[[101, 2053, 2592, 2182, 1012, 102]]]], [[[...</td>\n",
       "    </tr>\n",
       "    <tr>\n",
       "      <th>3</th>\n",
       "      <td>P3</td>\n",
       "      <td>[[[[[101, 2055, 2832, 2574, 2735, 1012, 102]],...</td>\n",
       "    </tr>\n",
       "    <tr>\n",
       "      <th>4</th>\n",
       "      <td>P4</td>\n",
       "      <td>[[[[[101, 2085, 2934, 2161, 2283, 1012, 102]],...</td>\n",
       "    </tr>\n",
       "    <tr>\n",
       "      <th>5</th>\n",
       "      <td>P5</td>\n",
       "      <td>[[[[[101, 2053, 2592, 2182, 1012, 102]]]], [[[...</td>\n",
       "    </tr>\n",
       "    <tr>\n",
       "      <th>6</th>\n",
       "      <td>P6</td>\n",
       "      <td>[[[[[101, 2053, 2592, 2182, 1012, 102]]]], [[[...</td>\n",
       "    </tr>\n",
       "    <tr>\n",
       "      <th>7</th>\n",
       "      <td>P7</td>\n",
       "      <td>[[[[[101, 2482, 2995, 2684, 3124, 5656, 1012, ...</td>\n",
       "    </tr>\n",
       "  </tbody>\n",
       "</table>\n",
       "</div>"
      ],
      "text/plain": [
       "  PID P-EC-PN-PNSect-PNSectSent@Sentence-Tk@TknzLLMGrn_idx\n",
       "0  P0  [[[[[101, 2053, 2592, 2182, 1012, 102]]]], [[[...  \n",
       "1  P1  [[[[[101, 3178, 5987, 1037, 2694, 1012, 102]],...  \n",
       "2  P2  [[[[[101, 2053, 2592, 2182, 1012, 102]]]], [[[...  \n",
       "3  P3  [[[[[101, 2055, 2832, 2574, 2735, 1012, 102]],...  \n",
       "4  P4  [[[[[101, 2085, 2934, 2161, 2283, 1012, 102]],...  \n",
       "5  P5  [[[[[101, 2053, 2592, 2182, 1012, 102]]]], [[[...  \n",
       "6  P6  [[[[[101, 2053, 2592, 2182, 1012, 102]]]], [[[...  \n",
       "7  P7  [[[[[101, 2482, 2995, 2684, 3124, 5656, 1012, ...  "
      ]
     },
     "execution_count": 40,
     "metadata": {},
     "output_type": "execute_result"
    }
   ],
   "source": [
    "df_p"
   ]
  },
  {
   "cell_type": "code",
   "execution_count": 12,
   "id": "5711417c-33d2-4e9d-9a1c-78c22d2b8b62",
   "metadata": {
    "tags": []
   },
   "outputs": [
    {
     "name": "stdout",
     "output_type": "stream",
     "text": [
      "(2790, 7) data/ProcData/TensorFolder/Task2YearXXX/PNSectSent@Sentence-Tk@TknzLLMGrn\n"
     ]
    },
    {
     "data": {
      "text/html": [
       "<div>\n",
       "<style scoped>\n",
       "    .dataframe tbody tr th:only-of-type {\n",
       "        vertical-align: middle;\n",
       "    }\n",
       "\n",
       "    .dataframe tbody tr th {\n",
       "        vertical-align: top;\n",
       "    }\n",
       "\n",
       "    .dataframe thead th {\n",
       "        text-align: right;\n",
       "    }\n",
       "</style>\n",
       "<table border=\"1\" class=\"dataframe\">\n",
       "  <thead>\n",
       "    <tr style=\"text-align: right;\">\n",
       "      <th></th>\n",
       "      <th>PID</th>\n",
       "      <th>P-EC-PN-PNSect-PNSectSent@Sentence-Tk@TknzLLMGrn_idx</th>\n",
       "    </tr>\n",
       "  </thead>\n",
       "  <tbody>\n",
       "    <tr>\n",
       "      <th>0</th>\n",
       "      <td>P0</td>\n",
       "      <td>[[[[[101, 2053, 2592, 2182, 1012, 102]]]], [[[...</td>\n",
       "    </tr>\n",
       "    <tr>\n",
       "      <th>1</th>\n",
       "      <td>P1</td>\n",
       "      <td>[[[[[101, 3178, 5987, 1037, 2694, 1012, 102]],...</td>\n",
       "    </tr>\n",
       "    <tr>\n",
       "      <th>2</th>\n",
       "      <td>P2</td>\n",
       "      <td>[[[[[101, 2053, 2592, 2182, 1012, 102]]]], [[[...</td>\n",
       "    </tr>\n",
       "    <tr>\n",
       "      <th>3</th>\n",
       "      <td>P3</td>\n",
       "      <td>[[[[[101, 2055, 2832, 2574, 2735, 1012, 102]],...</td>\n",
       "    </tr>\n",
       "    <tr>\n",
       "      <th>4</th>\n",
       "      <td>P4</td>\n",
       "      <td>[[[[[101, 2085, 2934, 2161, 2283, 1012, 102]],...</td>\n",
       "    </tr>\n",
       "    <tr>\n",
       "      <th>5</th>\n",
       "      <td>P5</td>\n",
       "      <td>[[[[[101, 2053, 2592, 2182, 1012, 102]]]], [[[...</td>\n",
       "    </tr>\n",
       "    <tr>\n",
       "      <th>6</th>\n",
       "      <td>P6</td>\n",
       "      <td>[[[[[101, 2053, 2592, 2182, 1012, 102]]]], [[[...</td>\n",
       "    </tr>\n",
       "    <tr>\n",
       "      <th>7</th>\n",
       "      <td>P7</td>\n",
       "      <td>[[[[[101, 2482, 2995, 2684, 3124, 5656, 1012, ...</td>\n",
       "    </tr>\n",
       "  </tbody>\n",
       "</table>\n",
       "</div>"
      ],
      "text/plain": [
       "  PID P-EC-PN-PNSect-PNSectSent@Sentence-Tk@TknzLLMGrn_idx\n",
       "0  P0  [[[[[101, 2053, 2592, 2182, 1012, 102]]]], [[[...  \n",
       "1  P1  [[[[[101, 3178, 5987, 1037, 2694, 1012, 102]],...  \n",
       "2  P2  [[[[[101, 2053, 2592, 2182, 1012, 102]]]], [[[...  \n",
       "3  P3  [[[[[101, 2055, 2832, 2574, 2735, 1012, 102]],...  \n",
       "4  P4  [[[[[101, 2085, 2934, 2161, 2283, 1012, 102]],...  \n",
       "5  P5  [[[[[101, 2053, 2592, 2182, 1012, 102]]]], [[[...  \n",
       "6  P6  [[[[[101, 2053, 2592, 2182, 1012, 102]]]], [[[...  \n",
       "7  P7  [[[[[101, 2482, 2995, 2684, 3124, 5656, 1012, ...  "
      ]
     },
     "execution_count": 12,
     "metadata": {},
     "output_type": "execute_result"
    }
   ],
   "source": [
    "######################### Change this\n",
    "recfield2grain = 'PNSectSent@Sentence-Tk@TknzLLMGrn'\n",
    "#########################\n",
    "\n",
    "\n",
    "d = df_FieldGrainInfo[df_FieldGrainInfo['recfield2grain'] == recfield2grain].iloc[0]\n",
    "v2idx = d['Vocab']['v2idx']\n",
    "prefix_ids = d['prefix_ids']\n",
    "focal_ids = d['focal_ids']\n",
    "\n",
    "df_p = get_highorder_input_idx(df, recfield2grain, \n",
    "                               v2idx, prefix_ids, focal_ids,\n",
    "                               Field2Grain_2_get_GrnIdxList_Fn, \n",
    "                               Field2Grain_2_get_GrnWgtList_Fn)\n",
    "\n",
    "\n",
    "\n",
    "fullTaskTensor_folder = os.path.join(TaskTensor_folder, recfield2grain)\n",
    "print(df.shape, fullTaskTensor_folder)\n",
    "if not os.path.exists(fullTaskTensor_folder): os.makedirs(fullTaskTensor_folder)\n",
    "write_df_to_folders(recfield2grain, fullTaskTensor_folder, df_p)\n",
    "\n",
    "df_p"
   ]
  },
  {
   "cell_type": "code",
   "execution_count": null,
   "id": "eced6ecd-d071-4ae0-93a0-94a5473ad8be",
   "metadata": {},
   "outputs": [],
   "source": []
  }
 ],
 "metadata": {
  "kernelspec": {
   "display_name": "Python 3 (ipykernel)",
   "language": "python",
   "name": "python3"
  },
  "language_info": {
   "codemirror_mode": {
    "name": "ipython",
    "version": 3
   },
   "file_extension": ".py",
   "mimetype": "text/x-python",
   "name": "python",
   "nbconvert_exporter": "python",
   "pygments_lexer": "ipython3",
   "version": "3.8.8"
  },
  "toc-autonumbering": true
 },
 "nbformat": 4,
 "nbformat_minor": 5
}
