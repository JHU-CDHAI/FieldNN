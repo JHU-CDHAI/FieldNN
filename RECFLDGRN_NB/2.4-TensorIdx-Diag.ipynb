{
 "cells": [
  {
   "cell_type": "code",
   "execution_count": 1,
   "id": "82a4ade6-2517-44ea-ac53-9fee492ae9c7",
   "metadata": {
    "tags": []
   },
   "outputs": [
    {
     "name": "stdout",
     "output_type": "stream",
     "text": [
      "/Users/floydluo/Library/CloudStorage/GoogleDrive-jjluo@terpmail.umd.edu/.shortcut-targets-by-id/1qNzMmGHCg5Xa63Vw3aKbZdMXvkfT2CgC/MedStar/MS_CODE/FieldNN\n"
     ]
    }
   ],
   "source": [
    "%cd .."
   ]
  },
  {
   "cell_type": "markdown",
   "id": "b8f7f518-05c9-4be9-a375-1c683fbbd605",
   "metadata": {},
   "source": [
    "# Data Point"
   ]
  },
  {
   "cell_type": "code",
   "execution_count": 2,
   "id": "eb00a045-950d-4b72-a1d3-428ef957ea8f",
   "metadata": {
    "tags": []
   },
   "outputs": [
    {
     "data": {
      "text/plain": [
       "<recfldgrn.datapoint.PatientDP at 0x7fc609f01820>"
      ]
     },
     "execution_count": 2,
     "metadata": {},
     "output_type": "execute_result"
    }
   ],
   "source": [
    "from recfldgrn.datapoint import PatientDP, RANGE_SIZE\n",
    "\n",
    "PID = 'P4'\n",
    "rec_folder = 'data/ProcData/RecFolder/'\n",
    "Pat = PatientDP(PID, rec_folder, RANGE_SIZE)\n",
    "Pat"
   ]
  },
  {
   "cell_type": "code",
   "execution_count": 3,
   "id": "7ea19a4a-6246-4297-a1d9-656a4e7cc805",
   "metadata": {
    "tags": []
   },
   "outputs": [
    {
     "data": {
      "text/html": [
       "<div>\n",
       "<style scoped>\n",
       "    .dataframe tbody tr th:only-of-type {\n",
       "        vertical-align: middle;\n",
       "    }\n",
       "\n",
       "    .dataframe tbody tr th {\n",
       "        vertical-align: top;\n",
       "    }\n",
       "\n",
       "    .dataframe thead th {\n",
       "        text-align: right;\n",
       "    }\n",
       "</style>\n",
       "<table border=\"1\" class=\"dataframe\">\n",
       "  <thead>\n",
       "    <tr style=\"text-align: right;\">\n",
       "      <th></th>\n",
       "      <th>PID</th>\n",
       "      <th>ECID</th>\n",
       "      <th>RID</th>\n",
       "      <th>DT</th>\n",
       "      <th>Value</th>\n",
       "    </tr>\n",
       "  </thead>\n",
       "  <tbody>\n",
       "    <tr>\n",
       "      <th>0</th>\n",
       "      <td>P4</td>\n",
       "      <td>EC125</td>\n",
       "      <td>238249</td>\n",
       "      <td>2023-03-18</td>\n",
       "      <td>N97.5</td>\n",
       "    </tr>\n",
       "    <tr>\n",
       "      <th>1</th>\n",
       "      <td>P4</td>\n",
       "      <td>EC125</td>\n",
       "      <td>158555</td>\n",
       "      <td>2023-03-22</td>\n",
       "      <td>X4.5</td>\n",
       "    </tr>\n",
       "    <tr>\n",
       "      <th>2</th>\n",
       "      <td>P4</td>\n",
       "      <td>EC125</td>\n",
       "      <td>158547</td>\n",
       "      <td>2023-04-02</td>\n",
       "      <td>P36.5</td>\n",
       "    </tr>\n",
       "    <tr>\n",
       "      <th>3</th>\n",
       "      <td>P4</td>\n",
       "      <td>EC24</td>\n",
       "      <td>238252</td>\n",
       "      <td>2023-03-18</td>\n",
       "      <td>C91.0</td>\n",
       "    </tr>\n",
       "    <tr>\n",
       "      <th>4</th>\n",
       "      <td>P4</td>\n",
       "      <td>EC24</td>\n",
       "      <td>145433</td>\n",
       "      <td>2023-03-22</td>\n",
       "      <td>H48.5</td>\n",
       "    </tr>\n",
       "    <tr>\n",
       "      <th>...</th>\n",
       "      <td>...</td>\n",
       "      <td>...</td>\n",
       "      <td>...</td>\n",
       "      <td>...</td>\n",
       "      <td>...</td>\n",
       "    </tr>\n",
       "    <tr>\n",
       "      <th>79</th>\n",
       "      <td>P4</td>\n",
       "      <td>EC121</td>\n",
       "      <td>158548</td>\n",
       "      <td>2023-04-16</td>\n",
       "      <td>R28.5</td>\n",
       "    </tr>\n",
       "    <tr>\n",
       "      <th>80</th>\n",
       "      <td>P4</td>\n",
       "      <td>EC196</td>\n",
       "      <td>248719</td>\n",
       "      <td>NaT</td>\n",
       "      <td>NaN</td>\n",
       "    </tr>\n",
       "    <tr>\n",
       "      <th>81</th>\n",
       "      <td>P4</td>\n",
       "      <td>EC203</td>\n",
       "      <td>238255</td>\n",
       "      <td>2023-04-04</td>\n",
       "      <td>P40.5</td>\n",
       "    </tr>\n",
       "    <tr>\n",
       "      <th>82</th>\n",
       "      <td>P4</td>\n",
       "      <td>EC204</td>\n",
       "      <td>145439</td>\n",
       "      <td>2023-04-12</td>\n",
       "      <td>U55.0</td>\n",
       "    </tr>\n",
       "    <tr>\n",
       "      <th>83</th>\n",
       "      <td>P4</td>\n",
       "      <td>EC197</td>\n",
       "      <td>248720</td>\n",
       "      <td>NaT</td>\n",
       "      <td>NaN</td>\n",
       "    </tr>\n",
       "  </tbody>\n",
       "</table>\n",
       "<p>84 rows × 5 columns</p>\n",
       "</div>"
      ],
      "text/plain": [
       "   PID   ECID     RID         DT  Value\n",
       "0   P4  EC125  238249 2023-03-18  N97.5\n",
       "1   P4  EC125  158555 2023-03-22   X4.5\n",
       "2   P4  EC125  158547 2023-04-02  P36.5\n",
       "3   P4   EC24  238252 2023-03-18  C91.0\n",
       "4   P4   EC24  145433 2023-03-22  H48.5\n",
       "..  ..    ...     ...        ...    ...\n",
       "79  P4  EC121  158548 2023-04-16  R28.5\n",
       "80  P4  EC196  248719        NaT    NaN\n",
       "81  P4  EC203  238255 2023-04-04  P40.5\n",
       "82  P4  EC204  145439 2023-04-12  U55.0\n",
       "83  P4  EC197  248720        NaT    NaN\n",
       "\n",
       "[84 rows x 5 columns]"
      ]
     },
     "execution_count": 3,
     "metadata": {},
     "output_type": "execute_result"
    }
   ],
   "source": [
    "####################\n",
    "RecName = 'Diag'\n",
    "####################\n",
    "\n",
    "df = Pat.get_df_rec(RecName)\n",
    "df"
   ]
  },
  {
   "cell_type": "markdown",
   "id": "9a502eac-a8e6-4ddb-998f-0c2d7c2451b4",
   "metadata": {},
   "source": [
    "# Task Selection"
   ]
  },
  {
   "cell_type": "code",
   "execution_count": 4,
   "id": "c7b937e5-6685-4864-b121-819765aa98f1",
   "metadata": {
    "tags": []
   },
   "outputs": [
    {
     "data": {
      "text/plain": [
       "['P0', 'P1', 'P2', 'P3', 'P4', 'P5', 'P6', 'P7']"
      ]
     },
     "execution_count": 4,
     "metadata": {},
     "output_type": "execute_result"
    }
   ],
   "source": [
    "TaskName = 'Task2YearXXX'\n",
    "\n",
    "ELIG_PAT_SET = [f'P{i}' for i in range(0, 8)]\n",
    "ELIG_PAT_SET"
   ]
  },
  {
   "cell_type": "code",
   "execution_count": 5,
   "id": "0e68b259-197f-4852-8109-abb57cb11ef7",
   "metadata": {
    "tags": []
   },
   "outputs": [
    {
     "name": "stdout",
     "output_type": "stream",
     "text": [
      "data/ProcData/TensorFolder/Task2YearXXX\n"
     ]
    }
   ],
   "source": [
    "import os\n",
    "import pandas as pd\n",
    "\n",
    "Tensor_folder = 'data/ProcData/TensorFolder'\n",
    "TaskTensor_folder = os.path.join(Tensor_folder, TaskName)\n",
    "\n",
    "if not os.path.exists(TaskTensor_folder): os.makedirs(TaskTensor_folder)\n",
    "\n",
    "print(TaskTensor_folder)"
   ]
  },
  {
   "cell_type": "code",
   "execution_count": 6,
   "id": "1d481217-f7f7-4d3c-86f7-2f15cec0f321",
   "metadata": {
    "tags": []
   },
   "outputs": [
    {
     "name": "stdout",
     "output_type": "stream",
     "text": [
      "(934, 5)\n"
     ]
    },
    {
     "data": {
      "text/html": [
       "<div>\n",
       "<style scoped>\n",
       "    .dataframe tbody tr th:only-of-type {\n",
       "        vertical-align: middle;\n",
       "    }\n",
       "\n",
       "    .dataframe tbody tr th {\n",
       "        vertical-align: top;\n",
       "    }\n",
       "\n",
       "    .dataframe thead th {\n",
       "        text-align: right;\n",
       "    }\n",
       "</style>\n",
       "<table border=\"1\" class=\"dataframe\">\n",
       "  <thead>\n",
       "    <tr style=\"text-align: right;\">\n",
       "      <th></th>\n",
       "      <th>PID</th>\n",
       "      <th>ECID</th>\n",
       "      <th>RID</th>\n",
       "      <th>DT</th>\n",
       "      <th>Value</th>\n",
       "    </tr>\n",
       "  </thead>\n",
       "  <tbody>\n",
       "    <tr>\n",
       "      <th>0</th>\n",
       "      <td>P0</td>\n",
       "      <td>EC18</td>\n",
       "      <td>200972</td>\n",
       "      <td>2023-04-10</td>\n",
       "      <td>D14.0</td>\n",
       "    </tr>\n",
       "    <tr>\n",
       "      <th>1</th>\n",
       "      <td>P0</td>\n",
       "      <td>EC18</td>\n",
       "      <td>227676</td>\n",
       "      <td>2023-04-13</td>\n",
       "      <td>J19.5</td>\n",
       "    </tr>\n",
       "    <tr>\n",
       "      <th>2</th>\n",
       "      <td>P0</td>\n",
       "      <td>EC18</td>\n",
       "      <td>214361</td>\n",
       "      <td>2023-04-16</td>\n",
       "      <td>J74.5</td>\n",
       "    </tr>\n",
       "    <tr>\n",
       "      <th>3</th>\n",
       "      <td>P0</td>\n",
       "      <td>EC18</td>\n",
       "      <td>200975</td>\n",
       "      <td>2023-04-08</td>\n",
       "      <td>I94.0</td>\n",
       "    </tr>\n",
       "    <tr>\n",
       "      <th>4</th>\n",
       "      <td>P0</td>\n",
       "      <td>EC140</td>\n",
       "      <td>161119</td>\n",
       "      <td>2023-03-19</td>\n",
       "      <td>N91.5</td>\n",
       "    </tr>\n",
       "    <tr>\n",
       "      <th>...</th>\n",
       "      <td>...</td>\n",
       "      <td>...</td>\n",
       "      <td>...</td>\n",
       "      <td>...</td>\n",
       "      <td>...</td>\n",
       "    </tr>\n",
       "    <tr>\n",
       "      <th>20</th>\n",
       "      <td>P6</td>\n",
       "      <td>EC173</td>\n",
       "      <td>174622</td>\n",
       "      <td>2023-04-05</td>\n",
       "      <td>R80.5</td>\n",
       "    </tr>\n",
       "    <tr>\n",
       "      <th>0</th>\n",
       "      <td>P7</td>\n",
       "      <td>EC17</td>\n",
       "      <td>209056</td>\n",
       "      <td>2023-03-18</td>\n",
       "      <td>S37.5</td>\n",
       "    </tr>\n",
       "    <tr>\n",
       "      <th>1</th>\n",
       "      <td>P7</td>\n",
       "      <td>EC17</td>\n",
       "      <td>209055</td>\n",
       "      <td>2023-03-18</td>\n",
       "      <td>J24.5</td>\n",
       "    </tr>\n",
       "    <tr>\n",
       "      <th>2</th>\n",
       "      <td>P7</td>\n",
       "      <td>EC17</td>\n",
       "      <td>248716</td>\n",
       "      <td>2023-03-24</td>\n",
       "      <td>J74.5</td>\n",
       "    </tr>\n",
       "    <tr>\n",
       "      <th>3</th>\n",
       "      <td>P7</td>\n",
       "      <td>EC17</td>\n",
       "      <td>169041</td>\n",
       "      <td>2023-03-27</td>\n",
       "      <td>M44.5</td>\n",
       "    </tr>\n",
       "  </tbody>\n",
       "</table>\n",
       "<p>934 rows × 5 columns</p>\n",
       "</div>"
      ],
      "text/plain": [
       "   PID   ECID     RID         DT  Value\n",
       "0   P0   EC18  200972 2023-04-10  D14.0\n",
       "1   P0   EC18  227676 2023-04-13  J19.5\n",
       "2   P0   EC18  214361 2023-04-16  J74.5\n",
       "3   P0   EC18  200975 2023-04-08  I94.0\n",
       "4   P0  EC140  161119 2023-03-19  N91.5\n",
       "..  ..    ...     ...        ...    ...\n",
       "20  P6  EC173  174622 2023-04-05  R80.5\n",
       "0   P7   EC17  209056 2023-03-18  S37.5\n",
       "1   P7   EC17  209055 2023-03-18  J24.5\n",
       "2   P7   EC17  248716 2023-03-24  J74.5\n",
       "3   P7   EC17  169041 2023-03-27  M44.5\n",
       "\n",
       "[934 rows x 5 columns]"
      ]
     },
     "execution_count": 6,
     "metadata": {},
     "output_type": "execute_result"
    }
   ],
   "source": [
    "######################### Change this\n",
    "RecName = 'Diag'\n",
    "######################### \n",
    "\n",
    "\n",
    "df = pd.DataFrame()\n",
    "for PID in ELIG_PAT_SET:\n",
    "    Pat = PatientDP(PID, rec_folder, RANGE_SIZE)\n",
    "    dfx = Pat.get_df_rec(RecName)\n",
    "    \n",
    "    ###################################\n",
    "    # TODO: make some operation to select good dfx\n",
    "    dfx = dfx \n",
    "    ###################################\n",
    "    \n",
    "    df = pd.concat([df, dfx])\n",
    "    \n",
    "print(df.shape)\n",
    "df"
   ]
  },
  {
   "cell_type": "markdown",
   "id": "75a8a5c0-31f8-496e-9a28-7209349b0194",
   "metadata": {},
   "source": [
    "# Load Meta Info"
   ]
  },
  {
   "cell_type": "code",
   "execution_count": 7,
   "id": "135e3109-ac53-468c-a35e-ae0a15cb8361",
   "metadata": {
    "tags": []
   },
   "outputs": [
    {
     "data": {
      "text/html": [
       "<div>\n",
       "<style scoped>\n",
       "    .dataframe tbody tr th:only-of-type {\n",
       "        vertical-align: middle;\n",
       "    }\n",
       "\n",
       "    .dataframe tbody tr th {\n",
       "        vertical-align: top;\n",
       "    }\n",
       "\n",
       "    .dataframe thead th {\n",
       "        text-align: right;\n",
       "    }\n",
       "</style>\n",
       "<table border=\"1\" class=\"dataframe\">\n",
       "  <thead>\n",
       "    <tr style=\"text-align: right;\">\n",
       "      <th></th>\n",
       "      <th>RecName</th>\n",
       "      <th>prefix_ids</th>\n",
       "      <th>focal_ids</th>\n",
       "      <th>field_list</th>\n",
       "      <th>field</th>\n",
       "      <th>grain</th>\n",
       "      <th>field2grain</th>\n",
       "      <th>recfield2grain</th>\n",
       "      <th>Vocab</th>\n",
       "    </tr>\n",
       "  </thead>\n",
       "  <tbody>\n",
       "    <tr>\n",
       "      <th>0</th>\n",
       "      <td>Diag</td>\n",
       "      <td>[PID, ECID]</td>\n",
       "      <td>[RID]</td>\n",
       "      <td>[Value, DT]</td>\n",
       "      <td>Value</td>\n",
       "      <td>DiagDftGrn</td>\n",
       "      <td>Value-DiagDftGrn</td>\n",
       "      <td>Diag@Value-DiagDftGrn</td>\n",
       "      <td>{'idx2v': {0: '_padding', 1: '_missing', 2: 'C...</td>\n",
       "    </tr>\n",
       "    <tr>\n",
       "      <th>1</th>\n",
       "      <td>Diag</td>\n",
       "      <td>[PID, ECID]</td>\n",
       "      <td>[RID]</td>\n",
       "      <td>[Value, DT]</td>\n",
       "      <td>DT</td>\n",
       "      <td>DTDftGrn</td>\n",
       "      <td>DT-DTDftGrn</td>\n",
       "      <td>Diag@DT-DTDftGrn</td>\n",
       "      <td>{'idx2v': {0: '_padding', 1: '_missing', 2: 'Y...</td>\n",
       "    </tr>\n",
       "  </tbody>\n",
       "</table>\n",
       "</div>"
      ],
      "text/plain": [
       "  RecName   prefix_ids focal_ids   field_list  field       grain  \\\n",
       "0    Diag  [PID, ECID]     [RID]  [Value, DT]  Value  DiagDftGrn   \n",
       "1    Diag  [PID, ECID]     [RID]  [Value, DT]     DT    DTDftGrn   \n",
       "\n",
       "        field2grain         recfield2grain  \\\n",
       "0  Value-DiagDftGrn  Diag@Value-DiagDftGrn   \n",
       "1       DT-DTDftGrn       Diag@DT-DTDftGrn   \n",
       "\n",
       "                                               Vocab  \n",
       "0  {'idx2v': {0: '_padding', 1: '_missing', 2: 'C...  \n",
       "1  {'idx2v': {0: '_padding', 1: '_missing', 2: 'Y...  "
      ]
     },
     "execution_count": 7,
     "metadata": {},
     "output_type": "execute_result"
    }
   ],
   "source": [
    "import os\n",
    "import pandas as pd\n",
    "\n",
    "fldgrn_folder = 'data/ProcData/FldGrnInfo'\n",
    "\n",
    "fullfldgrn_file = os.path.join(fldgrn_folder, RecName + '.p')\n",
    "\n",
    "df_FieldGrainInfo = pd.read_pickle(fullfldgrn_file)\n",
    "df_FieldGrainInfo"
   ]
  },
  {
   "cell_type": "markdown",
   "id": "d59b90b4-d4f9-4aea-87d4-d5b6a0b033c8",
   "metadata": {},
   "source": [
    "# RecFldGrn `Diag@Value-DiagDftGrn`"
   ]
  },
  {
   "cell_type": "code",
   "execution_count": 8,
   "id": "6642a79c-33b1-4a25-ad28-926c4d8cc1d5",
   "metadata": {
    "tags": []
   },
   "outputs": [],
   "source": [
    "from recfldgrn.grains import Field2Grain_2_get_GrnStrList_Fn\n",
    "from recfldgrn.grains import Field2Grain_2_get_GrnIdxList_Fn\n",
    "from recfldgrn.grains import Field2Grain_2_get_GrnWgtList_Fn\n",
    "from recfldgrn.utils import generate_grain_vocab_info\n",
    "from recfldgrn.utils import get_compressed_df\n",
    "from recfldgrn.datapoint import write_df_to_folders"
   ]
  },
  {
   "cell_type": "code",
   "execution_count": 9,
   "id": "fcb8c02d-adfb-4c4e-9df0-a4b4354c9607",
   "metadata": {
    "tags": []
   },
   "outputs": [],
   "source": [
    "from recfldgrn.utils import get_highorder_input_idx"
   ]
  },
  {
   "cell_type": "code",
   "execution_count": 10,
   "id": "cb570ab8-d650-49ee-87ef-d6f86fb9467c",
   "metadata": {
    "tags": []
   },
   "outputs": [
    {
     "data": {
      "text/plain": [
       "'data/ProcData/TensorFolder/Task2YearXXX'"
      ]
     },
     "execution_count": 10,
     "metadata": {},
     "output_type": "execute_result"
    }
   ],
   "source": [
    "TaskTensor_folder"
   ]
  },
  {
   "cell_type": "code",
   "execution_count": 11,
   "id": "5711417c-33d2-4e9d-9a1c-78c22d2b8b62",
   "metadata": {
    "tags": []
   },
   "outputs": [
    {
     "name": "stdout",
     "output_type": "stream",
     "text": [
      "(934, 6) data/ProcData/TensorFolder/Task2YearXXX/Diag@Value-DiagDftGrn\n"
     ]
    },
    {
     "data": {
      "text/html": [
       "<div>\n",
       "<style scoped>\n",
       "    .dataframe tbody tr th:only-of-type {\n",
       "        vertical-align: middle;\n",
       "    }\n",
       "\n",
       "    .dataframe tbody tr th {\n",
       "        vertical-align: top;\n",
       "    }\n",
       "\n",
       "    .dataframe thead th {\n",
       "        text-align: right;\n",
       "    }\n",
       "</style>\n",
       "<table border=\"1\" class=\"dataframe\">\n",
       "  <thead>\n",
       "    <tr style=\"text-align: right;\">\n",
       "      <th></th>\n",
       "      <th>PID</th>\n",
       "      <th>P-EC-Diag@Value-DiagDftGrn_idx</th>\n",
       "    </tr>\n",
       "  </thead>\n",
       "  <tbody>\n",
       "    <tr>\n",
       "      <th>0</th>\n",
       "      <td>P0</td>\n",
       "      <td>[[[17, 630, 3], [12, 631, 2]], [[23, 625, 3], ...</td>\n",
       "    </tr>\n",
       "    <tr>\n",
       "      <th>1</th>\n",
       "      <td>P1</td>\n",
       "      <td>[[[7, 44, 2], [8, 133, 2], [18, 122, 3], [14, ...</td>\n",
       "    </tr>\n",
       "    <tr>\n",
       "      <th>2</th>\n",
       "      <td>P2</td>\n",
       "      <td>[[[23, 765, 3], [6, 766, 3], [17, 767, 2], [19...</td>\n",
       "    </tr>\n",
       "    <tr>\n",
       "      <th>3</th>\n",
       "      <td>P3</td>\n",
       "      <td>[[[18, 706, 2], [16, 127, 3], [24, 707, 3], [1...</td>\n",
       "    </tr>\n",
       "    <tr>\n",
       "      <th>4</th>\n",
       "      <td>P4</td>\n",
       "      <td>[[[7, 191, 2], [5, 78, 3]], [[21, 364, 2], [19...</td>\n",
       "    </tr>\n",
       "    <tr>\n",
       "      <th>5</th>\n",
       "      <td>P5</td>\n",
       "      <td>[[[13, 361, 3], [21, 359, 2], [24, 376, 3], [2...</td>\n",
       "    </tr>\n",
       "    <tr>\n",
       "      <th>6</th>\n",
       "      <td>P6</td>\n",
       "      <td>[[[5, 294, 2], [26, 281, 3], [23, 301, 2]], [[...</td>\n",
       "    </tr>\n",
       "    <tr>\n",
       "      <th>7</th>\n",
       "      <td>P7</td>\n",
       "      <td>[[[17, 800, 2], [9, 47, 2], [9, 37, 2], [14, 3...</td>\n",
       "    </tr>\n",
       "  </tbody>\n",
       "</table>\n",
       "</div>"
      ],
      "text/plain": [
       "  PID                     P-EC-Diag@Value-DiagDftGrn_idx\n",
       "0  P0  [[[17, 630, 3], [12, 631, 2]], [[23, 625, 3], ...\n",
       "1  P1  [[[7, 44, 2], [8, 133, 2], [18, 122, 3], [14, ...\n",
       "2  P2  [[[23, 765, 3], [6, 766, 3], [17, 767, 2], [19...\n",
       "3  P3  [[[18, 706, 2], [16, 127, 3], [24, 707, 3], [1...\n",
       "4  P4  [[[7, 191, 2], [5, 78, 3]], [[21, 364, 2], [19...\n",
       "5  P5  [[[13, 361, 3], [21, 359, 2], [24, 376, 3], [2...\n",
       "6  P6  [[[5, 294, 2], [26, 281, 3], [23, 301, 2]], [[...\n",
       "7  P7  [[[17, 800, 2], [9, 47, 2], [9, 37, 2], [14, 3..."
      ]
     },
     "execution_count": 11,
     "metadata": {},
     "output_type": "execute_result"
    }
   ],
   "source": [
    "######################### Change this\n",
    "recfield2grain = 'Diag@Value-DiagDftGrn'\n",
    "#########################\n",
    "\n",
    "\n",
    "d = df_FieldGrainInfo[df_FieldGrainInfo['recfield2grain'] == recfield2grain].iloc[0]\n",
    "v2idx = d['Vocab']['v2idx']\n",
    "prefix_ids = d['prefix_ids']\n",
    "focal_ids = d['focal_ids']\n",
    "\n",
    "df_p = get_highorder_input_idx(df, recfield2grain, \n",
    "                               v2idx, prefix_ids, focal_ids,\n",
    "                               Field2Grain_2_get_GrnIdxList_Fn, \n",
    "                               Field2Grain_2_get_GrnWgtList_Fn)\n",
    "\n",
    "\n",
    "\n",
    "fullTaskTensor_folder = os.path.join(TaskTensor_folder, recfield2grain)\n",
    "print(df.shape, fullTaskTensor_folder)\n",
    "if not os.path.exists(fullTaskTensor_folder): os.makedirs(fullTaskTensor_folder)\n",
    "write_df_to_folders(recfield2grain, fullTaskTensor_folder, df_p)\n",
    "\n",
    "df_p"
   ]
  },
  {
   "cell_type": "markdown",
   "id": "b74ad689-41f2-4b27-b7ac-13f23a74d6bc",
   "metadata": {},
   "source": [
    "# RecFldGrn `Diag@DT-DTDftGrn`"
   ]
  },
  {
   "cell_type": "code",
   "execution_count": 12,
   "id": "8d7fbdde-ce81-49c3-8246-6b4e1b835baf",
   "metadata": {
    "tags": []
   },
   "outputs": [
    {
     "name": "stdout",
     "output_type": "stream",
     "text": [
      "(934, 7) data/ProcData/TensorFolder/Task2YearXXX/Diag@DT-DTDftGrn\n"
     ]
    },
    {
     "data": {
      "text/html": [
       "<div>\n",
       "<style scoped>\n",
       "    .dataframe tbody tr th:only-of-type {\n",
       "        vertical-align: middle;\n",
       "    }\n",
       "\n",
       "    .dataframe tbody tr th {\n",
       "        vertical-align: top;\n",
       "    }\n",
       "\n",
       "    .dataframe thead th {\n",
       "        text-align: right;\n",
       "    }\n",
       "</style>\n",
       "<table border=\"1\" class=\"dataframe\">\n",
       "  <thead>\n",
       "    <tr style=\"text-align: right;\">\n",
       "      <th></th>\n",
       "      <th>PID</th>\n",
       "      <th>P-EC-Diag@DT-DTDftGrn_idx</th>\n",
       "    </tr>\n",
       "  </thead>\n",
       "  <tbody>\n",
       "    <tr>\n",
       "      <th>0</th>\n",
       "      <td>P0</td>\n",
       "      <td>[[[16, 26, 61, 69, 79, 94, 138], [16, 27, 45, ...</td>\n",
       "    </tr>\n",
       "    <tr>\n",
       "      <th>1</th>\n",
       "      <td>P1</td>\n",
       "      <td>[[[16, 26, 54, 69, 79, 93, 138], [16, 26, 58, ...</td>\n",
       "    </tr>\n",
       "    <tr>\n",
       "      <th>2</th>\n",
       "      <td>P2</td>\n",
       "      <td>[[[16, 26, 56, 69, 74, 94, 138], [16, 26, 67, ...</td>\n",
       "    </tr>\n",
       "    <tr>\n",
       "      <th>3</th>\n",
       "      <td>P3</td>\n",
       "      <td>[[[16, 26, 54, 69, 79, 93, 138], [16, 26, 64, ...</td>\n",
       "    </tr>\n",
       "    <tr>\n",
       "      <th>4</th>\n",
       "      <td>P4</td>\n",
       "      <td>[[[16, 26, 61, 69, 79, 94, 138], [16, 26, 66, ...</td>\n",
       "    </tr>\n",
       "    <tr>\n",
       "      <th>5</th>\n",
       "      <td>P5</td>\n",
       "      <td>[[[16, 26, 57, 69, 75, 94, 138], [16, 26, 58, ...</td>\n",
       "    </tr>\n",
       "    <tr>\n",
       "      <th>6</th>\n",
       "      <td>P6</td>\n",
       "      <td>[[[16, 26, 55, 69, 80, 93, 138], [16, 27, 48, ...</td>\n",
       "    </tr>\n",
       "    <tr>\n",
       "      <th>7</th>\n",
       "      <td>P7</td>\n",
       "      <td>[[[16, 26, 54, 69, 79, 93, 138], [16, 26, 54, ...</td>\n",
       "    </tr>\n",
       "  </tbody>\n",
       "</table>\n",
       "</div>"
      ],
      "text/plain": [
       "  PID                          P-EC-Diag@DT-DTDftGrn_idx\n",
       "0  P0  [[[16, 26, 61, 69, 79, 94, 138], [16, 27, 45, ...\n",
       "1  P1  [[[16, 26, 54, 69, 79, 93, 138], [16, 26, 58, ...\n",
       "2  P2  [[[16, 26, 56, 69, 74, 94, 138], [16, 26, 67, ...\n",
       "3  P3  [[[16, 26, 54, 69, 79, 93, 138], [16, 26, 64, ...\n",
       "4  P4  [[[16, 26, 61, 69, 79, 94, 138], [16, 26, 66, ...\n",
       "5  P5  [[[16, 26, 57, 69, 75, 94, 138], [16, 26, 58, ...\n",
       "6  P6  [[[16, 26, 55, 69, 80, 93, 138], [16, 27, 48, ...\n",
       "7  P7  [[[16, 26, 54, 69, 79, 93, 138], [16, 26, 54, ..."
      ]
     },
     "execution_count": 12,
     "metadata": {},
     "output_type": "execute_result"
    }
   ],
   "source": [
    "######################### Change this\n",
    "recfield2grain = 'Diag@DT-DTDftGrn'\n",
    "#########################\n",
    "\n",
    "d = df_FieldGrainInfo[df_FieldGrainInfo['recfield2grain'] == recfield2grain].iloc[0]\n",
    "v2idx = d['Vocab']['v2idx']\n",
    "prefix_ids = d['prefix_ids']\n",
    "focal_ids = d['focal_ids']\n",
    "\n",
    "df_p = get_highorder_input_idx(df, recfield2grain, \n",
    "                               v2idx, prefix_ids, focal_ids,\n",
    "                               Field2Grain_2_get_GrnIdxList_Fn, \n",
    "                               Field2Grain_2_get_GrnWgtList_Fn)\n",
    "\n",
    "\n",
    "fullTaskTensor_folder = os.path.join(TaskTensor_folder, recfield2grain)\n",
    "print(df.shape, fullTaskTensor_folder)\n",
    "if not os.path.exists(fullTaskTensor_folder): os.makedirs(fullTaskTensor_folder)\n",
    "write_df_to_folders(recfield2grain, fullTaskTensor_folder, df_p)\n",
    "\n",
    "df_p"
   ]
  },
  {
   "cell_type": "code",
   "execution_count": null,
   "id": "eced6ecd-d071-4ae0-93a0-94a5473ad8be",
   "metadata": {},
   "outputs": [],
   "source": []
  }
 ],
 "metadata": {
  "kernelspec": {
   "display_name": "Python 3 (ipykernel)",
   "language": "python",
   "name": "python3"
  },
  "language_info": {
   "codemirror_mode": {
    "name": "ipython",
    "version": 3
   },
   "file_extension": ".py",
   "mimetype": "text/x-python",
   "name": "python",
   "nbconvert_exporter": "python",
   "pygments_lexer": "ipython3",
   "version": "3.8.8"
  },
  "toc-autonumbering": true
 },
 "nbformat": 4,
 "nbformat_minor": 5
}
