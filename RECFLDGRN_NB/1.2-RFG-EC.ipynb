{
 "cells": [
  {
   "cell_type": "code",
   "execution_count": 1,
   "id": "10b52be6-2328-479f-873e-e2720c6d56fd",
   "metadata": {
    "tags": []
   },
   "outputs": [
    {
     "name": "stdout",
     "output_type": "stream",
     "text": [
      "/Users/floydluo/Library/CloudStorage/GoogleDrive-jjluo@terpmail.umd.edu/.shortcut-targets-by-id/1qNzMmGHCg5Xa63Vw3aKbZdMXvkfT2CgC/MedStar/MS_CODE/FieldNN\n"
     ]
    }
   ],
   "source": [
    "%cd .."
   ]
  },
  {
   "cell_type": "markdown",
   "id": "834e8add-db1f-431d-9b73-06ead0711a3c",
   "metadata": {},
   "source": [
    "# Read Raw Data"
   ]
  },
  {
   "cell_type": "code",
   "execution_count": 2,
   "id": "e3ff702a-b3f1-4fc4-bf30-45d337e13cc4",
   "metadata": {
    "tags": []
   },
   "outputs": [
    {
     "name": "stdout",
     "output_type": "stream",
     "text": [
      "data/Simulations/EC.csv\n"
     ]
    }
   ],
   "source": [
    "import os \n",
    "import pandas as pd\n",
    "\n",
    "RecName = 'EC'\n",
    "folder = 'data/Simulations/'\n",
    "raw_file_path =  os.path.join(folder, RecName) + '.csv'\n",
    "print(raw_file_path)\n"
   ]
  },
  {
   "cell_type": "code",
   "execution_count": 3,
   "id": "e434f2fb-e4ef-4ea8-9ca4-03018e507399",
   "metadata": {
    "tags": []
   },
   "outputs": [
    {
     "data": {
      "text/html": [
       "<div>\n",
       "<style scoped>\n",
       "    .dataframe tbody tr th:only-of-type {\n",
       "        vertical-align: middle;\n",
       "    }\n",
       "\n",
       "    .dataframe tbody tr th {\n",
       "        vertical-align: top;\n",
       "    }\n",
       "\n",
       "    .dataframe thead th {\n",
       "        text-align: right;\n",
       "    }\n",
       "</style>\n",
       "<table border=\"1\" class=\"dataframe\">\n",
       "  <thead>\n",
       "    <tr style=\"text-align: right;\">\n",
       "      <th></th>\n",
       "      <th>PID</th>\n",
       "      <th>ECID</th>\n",
       "      <th>DT_min</th>\n",
       "      <th>DT_max</th>\n",
       "      <th>BasicInfo</th>\n",
       "    </tr>\n",
       "  </thead>\n",
       "  <tbody>\n",
       "    <tr>\n",
       "      <th>0</th>\n",
       "      <td>P0</td>\n",
       "      <td>EC18</td>\n",
       "      <td>2023-03-18</td>\n",
       "      <td>2023-04-16</td>\n",
       "      <td>D&amp;X</td>\n",
       "    </tr>\n",
       "    <tr>\n",
       "      <th>1</th>\n",
       "      <td>P0</td>\n",
       "      <td>EC140</td>\n",
       "      <td>2023-03-19</td>\n",
       "      <td>2023-04-05</td>\n",
       "      <td>D&amp;X</td>\n",
       "    </tr>\n",
       "    <tr>\n",
       "      <th>2</th>\n",
       "      <td>P0</td>\n",
       "      <td>EC23</td>\n",
       "      <td>2023-03-19</td>\n",
       "      <td>2023-04-16</td>\n",
       "      <td>C&amp;W</td>\n",
       "    </tr>\n",
       "    <tr>\n",
       "      <th>3</th>\n",
       "      <td>P0</td>\n",
       "      <td>EC141</td>\n",
       "      <td>2023-03-20</td>\n",
       "      <td>2023-04-16</td>\n",
       "      <td>C&amp;Z</td>\n",
       "    </tr>\n",
       "    <tr>\n",
       "      <th>4</th>\n",
       "      <td>P0</td>\n",
       "      <td>EC142</td>\n",
       "      <td>2023-03-20</td>\n",
       "      <td>2023-04-15</td>\n",
       "      <td>B&amp;W</td>\n",
       "    </tr>\n",
       "    <tr>\n",
       "      <th>...</th>\n",
       "      <td>...</td>\n",
       "      <td>...</td>\n",
       "      <td>...</td>\n",
       "      <td>...</td>\n",
       "      <td>...</td>\n",
       "    </tr>\n",
       "    <tr>\n",
       "      <th>220</th>\n",
       "      <td>P6</td>\n",
       "      <td>EC15</td>\n",
       "      <td>2023-03-21</td>\n",
       "      <td>2023-04-09</td>\n",
       "      <td>B&amp;X</td>\n",
       "    </tr>\n",
       "    <tr>\n",
       "      <th>221</th>\n",
       "      <td>P6</td>\n",
       "      <td>EC93</td>\n",
       "      <td>2023-03-23</td>\n",
       "      <td>2023-04-04</td>\n",
       "      <td>B&amp;X</td>\n",
       "    </tr>\n",
       "    <tr>\n",
       "      <th>222</th>\n",
       "      <td>P6</td>\n",
       "      <td>EC195</td>\n",
       "      <td>2023-03-25</td>\n",
       "      <td>2023-03-25</td>\n",
       "      <td>C&amp;Z</td>\n",
       "    </tr>\n",
       "    <tr>\n",
       "      <th>223</th>\n",
       "      <td>P6</td>\n",
       "      <td>EC173</td>\n",
       "      <td>2023-04-05</td>\n",
       "      <td>2023-04-13</td>\n",
       "      <td>C&amp;W</td>\n",
       "    </tr>\n",
       "    <tr>\n",
       "      <th>224</th>\n",
       "      <td>P7</td>\n",
       "      <td>EC17</td>\n",
       "      <td>2023-03-18</td>\n",
       "      <td>2023-04-06</td>\n",
       "      <td>A&amp;W</td>\n",
       "    </tr>\n",
       "  </tbody>\n",
       "</table>\n",
       "<p>225 rows × 5 columns</p>\n",
       "</div>"
      ],
      "text/plain": [
       "    PID   ECID      DT_min      DT_max BasicInfo\n",
       "0    P0   EC18  2023-03-18  2023-04-16       D&X\n",
       "1    P0  EC140  2023-03-19  2023-04-05       D&X\n",
       "2    P0   EC23  2023-03-19  2023-04-16       C&W\n",
       "3    P0  EC141  2023-03-20  2023-04-16       C&Z\n",
       "4    P0  EC142  2023-03-20  2023-04-15       B&W\n",
       "..   ..    ...         ...         ...       ...\n",
       "220  P6   EC15  2023-03-21  2023-04-09       B&X\n",
       "221  P6   EC93  2023-03-23  2023-04-04       B&X\n",
       "222  P6  EC195  2023-03-25  2023-03-25       C&Z\n",
       "223  P6  EC173  2023-04-05  2023-04-13       C&W\n",
       "224  P7   EC17  2023-03-18  2023-04-06       A&W\n",
       "\n",
       "[225 rows x 5 columns]"
      ]
     },
     "execution_count": 3,
     "metadata": {},
     "output_type": "execute_result"
    }
   ],
   "source": [
    "RecName = 'EC'\n",
    "# load all records\n",
    "df = pd.read_csv(raw_file_path)\n",
    "df"
   ]
  },
  {
   "cell_type": "markdown",
   "id": "e473f072-fe59-4316-84d2-d1d3a00c1838",
   "metadata": {},
   "source": [
    "# Preprocess\n",
    "\n",
    "TODO"
   ]
  },
  {
   "cell_type": "markdown",
   "id": "b3cdf2bd-27d6-48fb-90ef-b287019b87be",
   "metadata": {},
   "source": [
    "## Update DT Format"
   ]
  },
  {
   "cell_type": "code",
   "execution_count": 4,
   "id": "d9150a77-66e1-4ef7-ba97-4553b3b17630",
   "metadata": {
    "tags": []
   },
   "outputs": [],
   "source": [
    "df['DT_min'] = pd.to_datetime(df['DT_min'])\n",
    "df['DT_max'] = pd.to_datetime(df['DT_max'])\n"
   ]
  },
  {
   "cell_type": "markdown",
   "id": "6afc1713-2671-4bd9-8674-39d99c7eab16",
   "metadata": {},
   "source": [
    "# Save To Disk by Bucket"
   ]
  },
  {
   "cell_type": "code",
   "execution_count": 5,
   "id": "0accd58d-ba45-4cb9-b0af-c3ec57ae998c",
   "metadata": {
    "tags": []
   },
   "outputs": [],
   "source": [
    "from recfldgrn.datapoint import convert_PID_to_PIDgroup\n",
    "from recfldgrn.datapoint import RANGE_SIZE, write_df_to_folders, load_df_data_from_folder"
   ]
  },
  {
   "cell_type": "code",
   "execution_count": 6,
   "id": "5de8a634-4b8f-425d-a485-4e99a0cf8281",
   "metadata": {
    "tags": []
   },
   "outputs": [
    {
     "name": "stdout",
     "output_type": "stream",
     "text": [
      "(225, 5) data/ProcData/RecFolder/EC\n"
     ]
    }
   ],
   "source": [
    "rec_folder = 'data/ProcData/RecFolder'\n",
    "fullrec_folder = os.path.join(rec_folder, RecName)\n",
    "print(df.shape, fullrec_folder)\n",
    "\n",
    "if not os.path.exists(fullrec_folder): os.makedirs(fullrec_folder)\n",
    "write_df_to_folders(RecName, fullrec_folder, df)\n"
   ]
  },
  {
   "cell_type": "code",
   "execution_count": 7,
   "id": "2e469447-0d1b-4fd4-8904-acd21d9c8718",
   "metadata": {
    "tags": []
   },
   "outputs": [
    {
     "name": "stdout",
     "output_type": "stream",
     "text": [
      "data/ProcData/RecFolder\n",
      "<recfldgrn.datapoint.PatientDP object at 0x7fa928334310>\n"
     ]
    },
    {
     "data": {
      "text/html": [
       "<div>\n",
       "<style scoped>\n",
       "    .dataframe tbody tr th:only-of-type {\n",
       "        vertical-align: middle;\n",
       "    }\n",
       "\n",
       "    .dataframe tbody tr th {\n",
       "        vertical-align: top;\n",
       "    }\n",
       "\n",
       "    .dataframe thead th {\n",
       "        text-align: right;\n",
       "    }\n",
       "</style>\n",
       "<table border=\"1\" class=\"dataframe\">\n",
       "  <thead>\n",
       "    <tr style=\"text-align: right;\">\n",
       "      <th></th>\n",
       "      <th>PID</th>\n",
       "      <th>ECID</th>\n",
       "      <th>DT_min</th>\n",
       "      <th>DT_max</th>\n",
       "      <th>BasicInfo</th>\n",
       "    </tr>\n",
       "  </thead>\n",
       "  <tbody>\n",
       "    <tr>\n",
       "      <th>0</th>\n",
       "      <td>P4</td>\n",
       "      <td>EC125</td>\n",
       "      <td>2023-03-18</td>\n",
       "      <td>2023-04-02</td>\n",
       "      <td>B&amp;Z</td>\n",
       "    </tr>\n",
       "    <tr>\n",
       "      <th>1</th>\n",
       "      <td>P4</td>\n",
       "      <td>EC24</td>\n",
       "      <td>2023-03-18</td>\n",
       "      <td>2023-04-16</td>\n",
       "      <td>B&amp;Z</td>\n",
       "    </tr>\n",
       "    <tr>\n",
       "      <th>2</th>\n",
       "      <td>P4</td>\n",
       "      <td>EC36</td>\n",
       "      <td>2023-03-18</td>\n",
       "      <td>2023-04-13</td>\n",
       "      <td>C&amp;W</td>\n",
       "    </tr>\n",
       "    <tr>\n",
       "      <th>3</th>\n",
       "      <td>P4</td>\n",
       "      <td>EC80</td>\n",
       "      <td>2023-03-19</td>\n",
       "      <td>2023-04-15</td>\n",
       "      <td>D&amp;X</td>\n",
       "    </tr>\n",
       "    <tr>\n",
       "      <th>4</th>\n",
       "      <td>P4</td>\n",
       "      <td>EC163</td>\n",
       "      <td>2023-03-20</td>\n",
       "      <td>2023-04-06</td>\n",
       "      <td>D&amp;X</td>\n",
       "    </tr>\n",
       "    <tr>\n",
       "      <th>5</th>\n",
       "      <td>P4</td>\n",
       "      <td>EC106</td>\n",
       "      <td>2023-03-21</td>\n",
       "      <td>2023-04-05</td>\n",
       "      <td>A&amp;X</td>\n",
       "    </tr>\n",
       "    <tr>\n",
       "      <th>6</th>\n",
       "      <td>P4</td>\n",
       "      <td>EC85</td>\n",
       "      <td>2023-03-21</td>\n",
       "      <td>2023-03-31</td>\n",
       "      <td>A&amp;Z</td>\n",
       "    </tr>\n",
       "    <tr>\n",
       "      <th>7</th>\n",
       "      <td>P4</td>\n",
       "      <td>EC88</td>\n",
       "      <td>2023-03-21</td>\n",
       "      <td>2023-04-12</td>\n",
       "      <td>A&amp;Y</td>\n",
       "    </tr>\n",
       "    <tr>\n",
       "      <th>8</th>\n",
       "      <td>P4</td>\n",
       "      <td>EC179</td>\n",
       "      <td>2023-03-22</td>\n",
       "      <td>2023-03-23</td>\n",
       "      <td>B&amp;W</td>\n",
       "    </tr>\n",
       "    <tr>\n",
       "      <th>9</th>\n",
       "      <td>P4</td>\n",
       "      <td>EC48</td>\n",
       "      <td>2023-03-22</td>\n",
       "      <td>2023-04-14</td>\n",
       "      <td>A&amp;Y</td>\n",
       "    </tr>\n",
       "    <tr>\n",
       "      <th>10</th>\n",
       "      <td>P4</td>\n",
       "      <td>EC7</td>\n",
       "      <td>2023-03-23</td>\n",
       "      <td>2023-04-12</td>\n",
       "      <td>B&amp;Z</td>\n",
       "    </tr>\n",
       "    <tr>\n",
       "      <th>11</th>\n",
       "      <td>P4</td>\n",
       "      <td>EC70</td>\n",
       "      <td>2023-03-23</td>\n",
       "      <td>2023-04-13</td>\n",
       "      <td>D&amp;Y</td>\n",
       "    </tr>\n",
       "    <tr>\n",
       "      <th>12</th>\n",
       "      <td>P4</td>\n",
       "      <td>EC86</td>\n",
       "      <td>2023-03-23</td>\n",
       "      <td>2023-04-14</td>\n",
       "      <td>B&amp;X</td>\n",
       "    </tr>\n",
       "    <tr>\n",
       "      <th>13</th>\n",
       "      <td>P4</td>\n",
       "      <td>EC10</td>\n",
       "      <td>2023-03-25</td>\n",
       "      <td>2023-04-15</td>\n",
       "      <td>B&amp;Z</td>\n",
       "    </tr>\n",
       "    <tr>\n",
       "      <th>14</th>\n",
       "      <td>P4</td>\n",
       "      <td>EC130</td>\n",
       "      <td>2023-03-26</td>\n",
       "      <td>2023-04-07</td>\n",
       "      <td>A&amp;W</td>\n",
       "    </tr>\n",
       "    <tr>\n",
       "      <th>15</th>\n",
       "      <td>P4</td>\n",
       "      <td>EC110</td>\n",
       "      <td>2023-03-28</td>\n",
       "      <td>2023-04-13</td>\n",
       "      <td>A&amp;X</td>\n",
       "    </tr>\n",
       "    <tr>\n",
       "      <th>16</th>\n",
       "      <td>P4</td>\n",
       "      <td>EC202</td>\n",
       "      <td>2023-03-30</td>\n",
       "      <td>2023-03-30</td>\n",
       "      <td>D&amp;Y</td>\n",
       "    </tr>\n",
       "    <tr>\n",
       "      <th>17</th>\n",
       "      <td>P4</td>\n",
       "      <td>EC121</td>\n",
       "      <td>2023-03-31</td>\n",
       "      <td>2023-04-16</td>\n",
       "      <td>D&amp;Y</td>\n",
       "    </tr>\n",
       "    <tr>\n",
       "      <th>18</th>\n",
       "      <td>P4</td>\n",
       "      <td>EC196</td>\n",
       "      <td>2023-03-31</td>\n",
       "      <td>2023-03-31</td>\n",
       "      <td>B&amp;Z</td>\n",
       "    </tr>\n",
       "    <tr>\n",
       "      <th>19</th>\n",
       "      <td>P4</td>\n",
       "      <td>EC203</td>\n",
       "      <td>2023-04-04</td>\n",
       "      <td>2023-04-04</td>\n",
       "      <td>A&amp;W</td>\n",
       "    </tr>\n",
       "    <tr>\n",
       "      <th>20</th>\n",
       "      <td>P4</td>\n",
       "      <td>EC204</td>\n",
       "      <td>2023-04-12</td>\n",
       "      <td>2023-04-12</td>\n",
       "      <td>A&amp;W</td>\n",
       "    </tr>\n",
       "    <tr>\n",
       "      <th>21</th>\n",
       "      <td>P4</td>\n",
       "      <td>EC197</td>\n",
       "      <td>2023-04-14</td>\n",
       "      <td>2023-04-14</td>\n",
       "      <td>A&amp;X</td>\n",
       "    </tr>\n",
       "  </tbody>\n",
       "</table>\n",
       "</div>"
      ],
      "text/plain": [
       "   PID   ECID     DT_min     DT_max BasicInfo\n",
       "0   P4  EC125 2023-03-18 2023-04-02       B&Z\n",
       "1   P4   EC24 2023-03-18 2023-04-16       B&Z\n",
       "2   P4   EC36 2023-03-18 2023-04-13       C&W\n",
       "3   P4   EC80 2023-03-19 2023-04-15       D&X\n",
       "4   P4  EC163 2023-03-20 2023-04-06       D&X\n",
       "5   P4  EC106 2023-03-21 2023-04-05       A&X\n",
       "6   P4   EC85 2023-03-21 2023-03-31       A&Z\n",
       "7   P4   EC88 2023-03-21 2023-04-12       A&Y\n",
       "8   P4  EC179 2023-03-22 2023-03-23       B&W\n",
       "9   P4   EC48 2023-03-22 2023-04-14       A&Y\n",
       "10  P4    EC7 2023-03-23 2023-04-12       B&Z\n",
       "11  P4   EC70 2023-03-23 2023-04-13       D&Y\n",
       "12  P4   EC86 2023-03-23 2023-04-14       B&X\n",
       "13  P4   EC10 2023-03-25 2023-04-15       B&Z\n",
       "14  P4  EC130 2023-03-26 2023-04-07       A&W\n",
       "15  P4  EC110 2023-03-28 2023-04-13       A&X\n",
       "16  P4  EC202 2023-03-30 2023-03-30       D&Y\n",
       "17  P4  EC121 2023-03-31 2023-04-16       D&Y\n",
       "18  P4  EC196 2023-03-31 2023-03-31       B&Z\n",
       "19  P4  EC203 2023-04-04 2023-04-04       A&W\n",
       "20  P4  EC204 2023-04-12 2023-04-12       A&W\n",
       "21  P4  EC197 2023-04-14 2023-04-14       A&X"
      ]
     },
     "execution_count": 7,
     "metadata": {},
     "output_type": "execute_result"
    }
   ],
   "source": [
    "from recfldgrn.datapoint import PatientDP\n",
    "print(rec_folder)\n",
    "PID = 'P4'\n",
    "Pat = PatientDP(PID, rec_folder, RANGE_SIZE)\n",
    "print(Pat)\n",
    "dfx = Pat.get_df_rec(RecName)\n",
    "dfx"
   ]
  },
  {
   "cell_type": "code",
   "execution_count": 8,
   "id": "2e15574f-d2a6-40c2-b57c-c88fa0d436d7",
   "metadata": {
    "tags": []
   },
   "outputs": [
    {
     "name": "stdout",
     "output_type": "stream",
     "text": [
      "data/ProcData/RecFolder/EC\n"
     ]
    },
    {
     "data": {
      "text/html": [
       "<div>\n",
       "<style scoped>\n",
       "    .dataframe tbody tr th:only-of-type {\n",
       "        vertical-align: middle;\n",
       "    }\n",
       "\n",
       "    .dataframe tbody tr th {\n",
       "        vertical-align: top;\n",
       "    }\n",
       "\n",
       "    .dataframe thead th {\n",
       "        text-align: right;\n",
       "    }\n",
       "</style>\n",
       "<table border=\"1\" class=\"dataframe\">\n",
       "  <thead>\n",
       "    <tr style=\"text-align: right;\">\n",
       "      <th></th>\n",
       "      <th>PID</th>\n",
       "      <th>ECID</th>\n",
       "      <th>DT_min</th>\n",
       "      <th>DT_max</th>\n",
       "      <th>BasicInfo</th>\n",
       "    </tr>\n",
       "  </thead>\n",
       "  <tbody>\n",
       "    <tr>\n",
       "      <th>0</th>\n",
       "      <td>P0</td>\n",
       "      <td>EC18</td>\n",
       "      <td>2023-03-18</td>\n",
       "      <td>2023-04-16</td>\n",
       "      <td>D&amp;X</td>\n",
       "    </tr>\n",
       "    <tr>\n",
       "      <th>1</th>\n",
       "      <td>P0</td>\n",
       "      <td>EC140</td>\n",
       "      <td>2023-03-19</td>\n",
       "      <td>2023-04-05</td>\n",
       "      <td>D&amp;X</td>\n",
       "    </tr>\n",
       "    <tr>\n",
       "      <th>2</th>\n",
       "      <td>P0</td>\n",
       "      <td>EC23</td>\n",
       "      <td>2023-03-19</td>\n",
       "      <td>2023-04-16</td>\n",
       "      <td>C&amp;W</td>\n",
       "    </tr>\n",
       "    <tr>\n",
       "      <th>3</th>\n",
       "      <td>P0</td>\n",
       "      <td>EC141</td>\n",
       "      <td>2023-03-20</td>\n",
       "      <td>2023-04-16</td>\n",
       "      <td>C&amp;Z</td>\n",
       "    </tr>\n",
       "    <tr>\n",
       "      <th>4</th>\n",
       "      <td>P0</td>\n",
       "      <td>EC142</td>\n",
       "      <td>2023-03-20</td>\n",
       "      <td>2023-04-15</td>\n",
       "      <td>B&amp;W</td>\n",
       "    </tr>\n",
       "    <tr>\n",
       "      <th>...</th>\n",
       "      <td>...</td>\n",
       "      <td>...</td>\n",
       "      <td>...</td>\n",
       "      <td>...</td>\n",
       "      <td>...</td>\n",
       "    </tr>\n",
       "    <tr>\n",
       "      <th>220</th>\n",
       "      <td>P6</td>\n",
       "      <td>EC15</td>\n",
       "      <td>2023-03-21</td>\n",
       "      <td>2023-04-09</td>\n",
       "      <td>B&amp;X</td>\n",
       "    </tr>\n",
       "    <tr>\n",
       "      <th>221</th>\n",
       "      <td>P6</td>\n",
       "      <td>EC93</td>\n",
       "      <td>2023-03-23</td>\n",
       "      <td>2023-04-04</td>\n",
       "      <td>B&amp;X</td>\n",
       "    </tr>\n",
       "    <tr>\n",
       "      <th>222</th>\n",
       "      <td>P6</td>\n",
       "      <td>EC195</td>\n",
       "      <td>2023-03-25</td>\n",
       "      <td>2023-03-25</td>\n",
       "      <td>C&amp;Z</td>\n",
       "    </tr>\n",
       "    <tr>\n",
       "      <th>223</th>\n",
       "      <td>P6</td>\n",
       "      <td>EC173</td>\n",
       "      <td>2023-04-05</td>\n",
       "      <td>2023-04-13</td>\n",
       "      <td>C&amp;W</td>\n",
       "    </tr>\n",
       "    <tr>\n",
       "      <th>224</th>\n",
       "      <td>P7</td>\n",
       "      <td>EC17</td>\n",
       "      <td>2023-03-18</td>\n",
       "      <td>2023-04-06</td>\n",
       "      <td>A&amp;W</td>\n",
       "    </tr>\n",
       "  </tbody>\n",
       "</table>\n",
       "<p>225 rows × 5 columns</p>\n",
       "</div>"
      ],
      "text/plain": [
       "    PID   ECID     DT_min     DT_max BasicInfo\n",
       "0    P0   EC18 2023-03-18 2023-04-16       D&X\n",
       "1    P0  EC140 2023-03-19 2023-04-05       D&X\n",
       "2    P0   EC23 2023-03-19 2023-04-16       C&W\n",
       "3    P0  EC141 2023-03-20 2023-04-16       C&Z\n",
       "4    P0  EC142 2023-03-20 2023-04-15       B&W\n",
       "..   ..    ...        ...        ...       ...\n",
       "220  P6   EC15 2023-03-21 2023-04-09       B&X\n",
       "221  P6   EC93 2023-03-23 2023-04-04       B&X\n",
       "222  P6  EC195 2023-03-25 2023-03-25       C&Z\n",
       "223  P6  EC173 2023-04-05 2023-04-13       C&W\n",
       "224  P7   EC17 2023-03-18 2023-04-06       A&W\n",
       "\n",
       "[225 rows x 5 columns]"
      ]
     },
     "execution_count": 8,
     "metadata": {},
     "output_type": "execute_result"
    }
   ],
   "source": [
    "from recfldgrn.datapoint import load_df_data_from_folder\n",
    "print(fullrec_folder)\n",
    "df = load_df_data_from_folder(fullrec_folder)\n",
    "df"
   ]
  },
  {
   "cell_type": "markdown",
   "id": "0d5e6a0f-041b-4bb7-8c3c-243bf4413259",
   "metadata": {},
   "source": [
    "# Field & Grain"
   ]
  },
  {
   "cell_type": "code",
   "execution_count": 9,
   "id": "49c79dfc-3538-42bb-89c8-0f745737a0f2",
   "metadata": {
    "tags": []
   },
   "outputs": [],
   "source": [
    "FieldGrainInfo = []"
   ]
  },
  {
   "cell_type": "code",
   "execution_count": 10,
   "id": "71b269f4-806c-44b7-8e91-b6a926c49b93",
   "metadata": {
    "tags": []
   },
   "outputs": [],
   "source": [
    "RecName = 'EC'\n",
    "prefix_ids = ['PID']\n",
    "focal_ids = ['ECID']\n",
    "field_list = ['BasicInfo', 'DT_min']"
   ]
  },
  {
   "cell_type": "markdown",
   "id": "33aa0658-be8f-43d0-94c8-b03ef196fc34",
   "metadata": {},
   "source": [
    "## Field `BasicInfo`"
   ]
  },
  {
   "cell_type": "code",
   "execution_count": 11,
   "id": "3978b37a-c3be-409d-b109-c6343cbbdc16",
   "metadata": {
    "tags": []
   },
   "outputs": [
    {
     "data": {
      "text/html": [
       "<div>\n",
       "<style scoped>\n",
       "    .dataframe tbody tr th:only-of-type {\n",
       "        vertical-align: middle;\n",
       "    }\n",
       "\n",
       "    .dataframe tbody tr th {\n",
       "        vertical-align: top;\n",
       "    }\n",
       "\n",
       "    .dataframe thead th {\n",
       "        text-align: right;\n",
       "    }\n",
       "</style>\n",
       "<table border=\"1\" class=\"dataframe\">\n",
       "  <thead>\n",
       "    <tr style=\"text-align: right;\">\n",
       "      <th></th>\n",
       "      <th>PID</th>\n",
       "      <th>ECID</th>\n",
       "      <th>BasicInfo</th>\n",
       "    </tr>\n",
       "  </thead>\n",
       "  <tbody>\n",
       "    <tr>\n",
       "      <th>0</th>\n",
       "      <td>P0</td>\n",
       "      <td>EC18</td>\n",
       "      <td>D&amp;X</td>\n",
       "    </tr>\n",
       "    <tr>\n",
       "      <th>1</th>\n",
       "      <td>P0</td>\n",
       "      <td>EC140</td>\n",
       "      <td>D&amp;X</td>\n",
       "    </tr>\n",
       "    <tr>\n",
       "      <th>2</th>\n",
       "      <td>P0</td>\n",
       "      <td>EC23</td>\n",
       "      <td>C&amp;W</td>\n",
       "    </tr>\n",
       "    <tr>\n",
       "      <th>3</th>\n",
       "      <td>P0</td>\n",
       "      <td>EC141</td>\n",
       "      <td>C&amp;Z</td>\n",
       "    </tr>\n",
       "    <tr>\n",
       "      <th>4</th>\n",
       "      <td>P0</td>\n",
       "      <td>EC142</td>\n",
       "      <td>B&amp;W</td>\n",
       "    </tr>\n",
       "    <tr>\n",
       "      <th>...</th>\n",
       "      <td>...</td>\n",
       "      <td>...</td>\n",
       "      <td>...</td>\n",
       "    </tr>\n",
       "    <tr>\n",
       "      <th>220</th>\n",
       "      <td>P6</td>\n",
       "      <td>EC15</td>\n",
       "      <td>B&amp;X</td>\n",
       "    </tr>\n",
       "    <tr>\n",
       "      <th>221</th>\n",
       "      <td>P6</td>\n",
       "      <td>EC93</td>\n",
       "      <td>B&amp;X</td>\n",
       "    </tr>\n",
       "    <tr>\n",
       "      <th>222</th>\n",
       "      <td>P6</td>\n",
       "      <td>EC195</td>\n",
       "      <td>C&amp;Z</td>\n",
       "    </tr>\n",
       "    <tr>\n",
       "      <th>223</th>\n",
       "      <td>P6</td>\n",
       "      <td>EC173</td>\n",
       "      <td>C&amp;W</td>\n",
       "    </tr>\n",
       "    <tr>\n",
       "      <th>224</th>\n",
       "      <td>P7</td>\n",
       "      <td>EC17</td>\n",
       "      <td>A&amp;W</td>\n",
       "    </tr>\n",
       "  </tbody>\n",
       "</table>\n",
       "<p>225 rows × 3 columns</p>\n",
       "</div>"
      ],
      "text/plain": [
       "    PID   ECID BasicInfo\n",
       "0    P0   EC18       D&X\n",
       "1    P0  EC140       D&X\n",
       "2    P0   EC23       C&W\n",
       "3    P0  EC141       C&Z\n",
       "4    P0  EC142       B&W\n",
       "..   ..    ...       ...\n",
       "220  P6   EC15       B&X\n",
       "221  P6   EC93       B&X\n",
       "222  P6  EC195       C&Z\n",
       "223  P6  EC173       C&W\n",
       "224  P7   EC17       A&W\n",
       "\n",
       "[225 rows x 3 columns]"
      ]
     },
     "execution_count": 11,
     "metadata": {},
     "output_type": "execute_result"
    }
   ],
   "source": [
    "# (a) field and (b) get field-focused df\n",
    "field = 'BasicInfo'\n",
    "dfx = df[prefix_ids + focal_ids + [field]]\n",
    "dfx"
   ]
  },
  {
   "cell_type": "markdown",
   "id": "588f5c71-cb29-4c15-9dc1-a18dcd4bbc11",
   "metadata": {},
   "source": [
    "### Grain `BasicDftGrn`"
   ]
  },
  {
   "cell_type": "code",
   "execution_count": 12,
   "id": "abc08c2d-d945-4485-8471-6e75cd38b45c",
   "metadata": {
    "tags": []
   },
   "outputs": [],
   "source": [
    "from recfldgrn.grains import Field2Grain_2_get_GrnStrList_Fn\n",
    "from recfldgrn.grains import Field2Grain_2_get_GrnIdxList_Fn\n",
    "from recfldgrn.grains import Field2Grain_2_get_GrnWgtList_Fn\n",
    "from recfldgrn.utils import generate_grain_vocab_info"
   ]
  },
  {
   "cell_type": "code",
   "execution_count": 13,
   "id": "350d4af0-7a4e-41d5-bbab-d77c116f4e47",
   "metadata": {
    "tags": []
   },
   "outputs": [
    {
     "name": "stdout",
     "output_type": "stream",
     "text": [
      "BasicDftGrn\n",
      "BasicInfo-BasicDftGrn\n",
      "EC@BasicInfo-BasicDftGrn\n"
     ]
    }
   ],
   "source": [
    "# (c) grain\n",
    "grain = 'BasicDftGrn'\n",
    "field2grain = '-'.join([field, grain])\n",
    "recfield2grain = RecName + '@' + field2grain\n",
    "print(grain)\n",
    "print(field2grain)\n",
    "print(recfield2grain)"
   ]
  },
  {
   "cell_type": "code",
   "execution_count": 14,
   "id": "47a40ab2-8581-4d7f-b428-8f45d877e910",
   "metadata": {
    "tags": []
   },
   "outputs": [],
   "source": [
    "# grain_str_fn = Field2Grain_2_get_GrnStrList_Fn[recfield2grain]\n",
    "# s = dfx[field].apply(grain_str_fn)\n",
    "# s"
   ]
  },
  {
   "cell_type": "code",
   "execution_count": 15,
   "id": "e631b03c-12a5-47a4-9933-3932673f3aa2",
   "metadata": {
    "tags": []
   },
   "outputs": [],
   "source": [
    "# Vocab = generate_grain_vocab_info(s) # load from disk\n",
    "# v2idx = Vocab['v2idx']"
   ]
  },
  {
   "cell_type": "code",
   "execution_count": 16,
   "id": "08471b52-78f1-413c-822c-87f873b4ea20",
   "metadata": {
    "tags": []
   },
   "outputs": [],
   "source": [
    "# grain_idx_fn = Field2Grain_2_get_GrnIdxList_Fn[recfield2grain]\n",
    "# s = dfx[field].apply(lambda x: grain_idx_fn(x, v2idx))\n",
    "# s"
   ]
  },
  {
   "cell_type": "code",
   "execution_count": 17,
   "id": "845fb2b8-bc48-43c9-b1bd-e162a1b53aa4",
   "metadata": {
    "tags": []
   },
   "outputs": [
    {
     "name": "stdout",
     "output_type": "stream",
     "text": [
      "{'X': 0, 'D': 1, 'Y': 2, 'B': 3, 'Z': 4, 'A': 5, 'C': 6, 'W': 7}\n"
     ]
    },
    {
     "data": {
      "text/plain": [
       "0      [1, 0]\n",
       "1      [1, 0]\n",
       "2      [6, 7]\n",
       "3      [6, 4]\n",
       "4      [3, 7]\n",
       "        ...  \n",
       "220    [3, 0]\n",
       "221    [3, 0]\n",
       "222    [6, 4]\n",
       "223    [6, 7]\n",
       "224    [5, 7]\n",
       "Name: BasicInfo, Length: 225, dtype: object"
      ]
     },
     "execution_count": 17,
     "metadata": {},
     "output_type": "execute_result"
    }
   ],
   "source": [
    "from recfldgrn.grains.misc.dt_grn import load_DTgrn_Dictionary\n",
    "from transformers import AutoTokenizer\n",
    "\n",
    "if 'Nume' in grain:\n",
    "    # print('Current grain is a numeric grain')\n",
    "    grain_wgt_fn = Field2Grain_2_get_GrnWgtList_Fn[recfield2grain]\n",
    "    series_wgt = dfx[field].apply(grain_wgt_fn)\n",
    "    Vocab = {'v2idx': len(series_wgt.iloc[0]) * [1]}\n",
    "    v2idx = Vocab['v2idx']\n",
    "\n",
    "elif 'DT' in grain:\n",
    "    grain_str_fn = Field2Grain_2_get_GrnStrList_Fn[recfield2grain]\n",
    "    series_str = dfx[field].apply(grain_str_fn)\n",
    "    Vocab = load_DTgrn_Dictionary()\n",
    "    v2idx = Vocab['v2idx']\n",
    "    \n",
    "elif 'Tknz' in grain:\n",
    "    tokenizer = AutoTokenizer.from_pretrained(\"bert-base-uncased\")\n",
    "    v2idx = tokenizer\n",
    "    Vocab = {'v2idx': v2idx}\n",
    "\n",
    "else:\n",
    "    grain_str_fn = Field2Grain_2_get_GrnStrList_Fn[recfield2grain]\n",
    "    series_str = dfx[field].apply(grain_str_fn)\n",
    "    Vocab = generate_grain_vocab_info(series_str)\n",
    "    v2idx = Vocab['v2idx']\n",
    "\n",
    "print(v2idx)\n",
    "grain_idx_fn = Field2Grain_2_get_GrnIdxList_Fn[recfield2grain]\n",
    "series_idx = dfx[field].apply(lambda x: grain_idx_fn(x, v2idx))\n",
    "series_idx\n"
   ]
  },
  {
   "cell_type": "code",
   "execution_count": 18,
   "id": "df8e390b-9081-4d03-9f79-afefd8da6386",
   "metadata": {
    "tags": []
   },
   "outputs": [],
   "source": [
    "d = {}\n",
    "d['RecName'] = RecName\n",
    "\n",
    "d['prefix_ids'] = prefix_ids\n",
    "d['focal_ids'] = focal_ids \n",
    "d['field_list'] = field_list\n",
    "\n",
    "d['field'] = field\n",
    "d['grain'] = grain\n",
    "d['field2grain'] = field2grain\n",
    "d['recfield2grain'] = recfield2grain\n",
    "d['Vocab'] = Vocab\n",
    "\n",
    "FieldGrainInfo.append(d)"
   ]
  },
  {
   "cell_type": "markdown",
   "id": "17269be5-8f61-4980-a1a7-5dbdb55d6410",
   "metadata": {},
   "source": [
    "## Field `DT_min`"
   ]
  },
  {
   "cell_type": "code",
   "execution_count": 19,
   "id": "544baac0-2f0f-4812-bcff-aab9c8d83d7f",
   "metadata": {
    "tags": []
   },
   "outputs": [
    {
     "data": {
      "text/html": [
       "<div>\n",
       "<style scoped>\n",
       "    .dataframe tbody tr th:only-of-type {\n",
       "        vertical-align: middle;\n",
       "    }\n",
       "\n",
       "    .dataframe tbody tr th {\n",
       "        vertical-align: top;\n",
       "    }\n",
       "\n",
       "    .dataframe thead th {\n",
       "        text-align: right;\n",
       "    }\n",
       "</style>\n",
       "<table border=\"1\" class=\"dataframe\">\n",
       "  <thead>\n",
       "    <tr style=\"text-align: right;\">\n",
       "      <th></th>\n",
       "      <th>PID</th>\n",
       "      <th>ECID</th>\n",
       "      <th>DT_min</th>\n",
       "    </tr>\n",
       "  </thead>\n",
       "  <tbody>\n",
       "    <tr>\n",
       "      <th>0</th>\n",
       "      <td>P0</td>\n",
       "      <td>EC18</td>\n",
       "      <td>2023-03-18</td>\n",
       "    </tr>\n",
       "    <tr>\n",
       "      <th>1</th>\n",
       "      <td>P0</td>\n",
       "      <td>EC140</td>\n",
       "      <td>2023-03-19</td>\n",
       "    </tr>\n",
       "    <tr>\n",
       "      <th>2</th>\n",
       "      <td>P0</td>\n",
       "      <td>EC23</td>\n",
       "      <td>2023-03-19</td>\n",
       "    </tr>\n",
       "    <tr>\n",
       "      <th>3</th>\n",
       "      <td>P0</td>\n",
       "      <td>EC141</td>\n",
       "      <td>2023-03-20</td>\n",
       "    </tr>\n",
       "    <tr>\n",
       "      <th>4</th>\n",
       "      <td>P0</td>\n",
       "      <td>EC142</td>\n",
       "      <td>2023-03-20</td>\n",
       "    </tr>\n",
       "    <tr>\n",
       "      <th>...</th>\n",
       "      <td>...</td>\n",
       "      <td>...</td>\n",
       "      <td>...</td>\n",
       "    </tr>\n",
       "    <tr>\n",
       "      <th>220</th>\n",
       "      <td>P6</td>\n",
       "      <td>EC15</td>\n",
       "      <td>2023-03-21</td>\n",
       "    </tr>\n",
       "    <tr>\n",
       "      <th>221</th>\n",
       "      <td>P6</td>\n",
       "      <td>EC93</td>\n",
       "      <td>2023-03-23</td>\n",
       "    </tr>\n",
       "    <tr>\n",
       "      <th>222</th>\n",
       "      <td>P6</td>\n",
       "      <td>EC195</td>\n",
       "      <td>2023-03-25</td>\n",
       "    </tr>\n",
       "    <tr>\n",
       "      <th>223</th>\n",
       "      <td>P6</td>\n",
       "      <td>EC173</td>\n",
       "      <td>2023-04-05</td>\n",
       "    </tr>\n",
       "    <tr>\n",
       "      <th>224</th>\n",
       "      <td>P7</td>\n",
       "      <td>EC17</td>\n",
       "      <td>2023-03-18</td>\n",
       "    </tr>\n",
       "  </tbody>\n",
       "</table>\n",
       "<p>225 rows × 3 columns</p>\n",
       "</div>"
      ],
      "text/plain": [
       "    PID   ECID     DT_min\n",
       "0    P0   EC18 2023-03-18\n",
       "1    P0  EC140 2023-03-19\n",
       "2    P0   EC23 2023-03-19\n",
       "3    P0  EC141 2023-03-20\n",
       "4    P0  EC142 2023-03-20\n",
       "..   ..    ...        ...\n",
       "220  P6   EC15 2023-03-21\n",
       "221  P6   EC93 2023-03-23\n",
       "222  P6  EC195 2023-03-25\n",
       "223  P6  EC173 2023-04-05\n",
       "224  P7   EC17 2023-03-18\n",
       "\n",
       "[225 rows x 3 columns]"
      ]
     },
     "execution_count": 19,
     "metadata": {},
     "output_type": "execute_result"
    }
   ],
   "source": [
    "# (a) field and (b) get field-focused df\n",
    "field = 'DT_min'\n",
    "dfx = df[prefix_ids + focal_ids + [field]]\n",
    "dfx"
   ]
  },
  {
   "cell_type": "markdown",
   "id": "a2d95607-bbdc-4267-93ad-3ba55e5b5298",
   "metadata": {},
   "source": [
    "### AgeNumeGrn"
   ]
  },
  {
   "cell_type": "code",
   "execution_count": 20,
   "id": "8ecb820d-a040-4386-92df-8012a093bb7c",
   "metadata": {
    "tags": []
   },
   "outputs": [
    {
     "name": "stdout",
     "output_type": "stream",
     "text": [
      "DTDftGrn\n",
      "DT_min-DTDftGrn\n",
      "EC@DT_min-DTDftGrn\n"
     ]
    }
   ],
   "source": [
    "# (c) grain\n",
    "grain = 'DTDftGrn'\n",
    "field2grain = '-'.join([field, grain])\n",
    "recfield2grain = RecName + '@' + field2grain\n",
    "print(grain)\n",
    "print(field2grain)\n",
    "print(recfield2grain)"
   ]
  },
  {
   "cell_type": "code",
   "execution_count": 21,
   "id": "c9236268-2131-41d6-af56-3d3e4281fda8",
   "metadata": {
    "tags": []
   },
   "outputs": [
    {
     "name": "stdout",
     "output_type": "stream",
     "text": [
      "{'_missing': 0, 'Yx': 1, 'Y2010': 2, 'Y2011': 3, 'Y2012': 4, 'Y2013': 5, 'Y2014': 6, 'Y2015': 7, 'Y2016': 8, 'Y2017': 9, 'Y2018': 10, 'Y2019': 11, 'Y2020': 12, 'Y2021': 13, 'Y2022': 14, 'Y2023': 15, 'Y2024': 16, 'Y2025': 17, 'Y2026': 18, 'Y2027': 19, 'Y2028': 20, 'Y2029': 21, 'Mx': 22, 'M1': 23, 'M2': 24, 'M3': 25, 'M4': 26, 'M5': 27, 'M6': 28, 'M7': 29, 'M8': 30, 'M9': 31, 'M10': 32, 'M11': 33, 'M12': 34, 'Dx': 35, 'D1': 36, 'D2': 37, 'D3': 38, 'D4': 39, 'D5': 40, 'D6': 41, 'D7': 42, 'D8': 43, 'D9': 44, 'D10': 45, 'D11': 46, 'D12': 47, 'D13': 48, 'D14': 49, 'D15': 50, 'D16': 51, 'D17': 52, 'D18': 53, 'D19': 54, 'D20': 55, 'D21': 56, 'D22': 57, 'D23': 58, 'D24': 59, 'D25': 60, 'D26': 61, 'D27': 62, 'D28': 63, 'D29': 64, 'D30': 65, 'D31': 66, 'Sx': 67, 'S1': 68, 'S2': 69, 'S3': 70, 'S4': 71, 'Wx': 72, 'W1': 73, 'W2': 74, 'W3': 75, 'W4': 76, 'W5': 77, 'W6': 78, 'W7': 79, 'WYx': 80, 'WY1': 81, 'WY2': 82, 'WY3': 83, 'WY4': 84, 'WY5': 85, 'WY6': 86, 'WY7': 87, 'WY8': 88, 'WY9': 89, 'WY10': 90, 'WY11': 91, 'WY12': 92, 'WY13': 93, 'WY14': 94, 'WY15': 95, 'WY16': 96, 'WY17': 97, 'WY18': 98, 'WY19': 99, 'WY20': 100, 'WY21': 101, 'WY22': 102, 'WY23': 103, 'WY24': 104, 'WY25': 105, 'WY26': 106, 'WY27': 107, 'WY28': 108, 'WY29': 109, 'WY30': 110, 'WY31': 111, 'WY32': 112, 'WY33': 113, 'WY34': 114, 'WY35': 115, 'WY36': 116, 'WY37': 117, 'WY38': 118, 'WY39': 119, 'WY40': 120, 'WY41': 121, 'WY42': 122, 'WY43': 123, 'WY44': 124, 'WY45': 125, 'WY46': 126, 'WY47': 127, 'WY48': 128, 'WY49': 129, 'WY50': 130, 'WY51': 131, 'WY52': 132, 'WY53': 133, 'WY54': 134, 'WY55': 135, 'Hx': 136, 'H0': 137, 'H1': 138, 'H2': 139, 'H3': 140, 'H4': 141, 'H5': 142, 'H6': 143, 'H7': 144, 'H8': 145, 'H9': 146, 'H10': 147, 'H11': 148, 'H12': 149, 'H13': 150, 'H14': 151, 'H15': 152, 'H16': 153, 'H17': 154, 'H18': 155, 'H19': 156, 'H20': 157, 'H21': 158, 'H22': 159, 'H23': 160}\n"
     ]
    },
    {
     "data": {
      "text/plain": [
       "0      [15, 25, 53, 68, 78, 92, 137]\n",
       "1      [15, 25, 54, 68, 79, 92, 137]\n",
       "2      [15, 25, 54, 68, 79, 92, 137]\n",
       "3      [15, 25, 55, 68, 73, 93, 137]\n",
       "4      [15, 25, 55, 68, 73, 93, 137]\n",
       "                   ...              \n",
       "220    [15, 25, 56, 68, 74, 93, 137]\n",
       "221    [15, 25, 58, 68, 76, 93, 137]\n",
       "222    [15, 25, 60, 68, 78, 93, 137]\n",
       "223    [15, 26, 40, 69, 75, 95, 137]\n",
       "224    [15, 25, 53, 68, 78, 92, 137]\n",
       "Name: DT_min, Length: 225, dtype: object"
      ]
     },
     "execution_count": 21,
     "metadata": {},
     "output_type": "execute_result"
    }
   ],
   "source": [
    "from recfldgrn.grains.misc.dt_grn import load_DTgrn_Dictionary\n",
    "from transformers import AutoTokenizer\n",
    "\n",
    "if 'Nume' in grain:\n",
    "    # print('Current grain is a numeric grain')\n",
    "    grain_wgt_fn = Field2Grain_2_get_GrnWgtList_Fn[recfield2grain]\n",
    "    series_wgt = dfx[field].apply(grain_wgt_fn)\n",
    "    Vocab = {'v2idx': len(series_wgt.iloc[0]) * [1]}\n",
    "    v2idx = Vocab['v2idx']\n",
    "\n",
    "elif 'DT' in grain:\n",
    "    grain_str_fn = Field2Grain_2_get_GrnStrList_Fn[recfield2grain]\n",
    "    series_str = dfx[field].apply(grain_str_fn)\n",
    "    Vocab = load_DTgrn_Dictionary()\n",
    "    v2idx = Vocab['v2idx']\n",
    "    \n",
    "elif 'Tknz' in grain:\n",
    "    tokenizer = AutoTokenizer.from_pretrained(\"bert-base-uncased\")\n",
    "    v2idx = tokenizer\n",
    "    Vocab = {'v2idx': v2idx}\n",
    "\n",
    "else:\n",
    "    grain_str_fn = Field2Grain_2_get_GrnStrList_Fn[recfield2grain]\n",
    "    series_str = dfx[field].apply(grain_str_fn)\n",
    "    Vocab = generate_grain_vocab_info(series_str)\n",
    "    v2idx = Vocab['v2idx']\n",
    "\n",
    "print(v2idx)\n",
    "grain_idx_fn = Field2Grain_2_get_GrnIdxList_Fn[recfield2grain]\n",
    "series_idx = dfx[field].apply(lambda x: grain_idx_fn(x, v2idx))\n",
    "series_idx\n"
   ]
  },
  {
   "cell_type": "code",
   "execution_count": 22,
   "id": "1cfa622a-b396-41eb-9ea7-d994d01e7476",
   "metadata": {
    "tags": []
   },
   "outputs": [],
   "source": [
    "d = {}\n",
    "d['RecName'] = RecName\n",
    "\n",
    "d['prefix_ids'] = prefix_ids\n",
    "d['focal_ids'] = focal_ids \n",
    "d['field_list'] = field_list\n",
    "\n",
    "\n",
    "d['field'] = field\n",
    "d['grain'] = grain\n",
    "d['field2grain'] = field2grain\n",
    "d['recfield2grain'] = recfield2grain\n",
    "d['Vocab'] = Vocab\n",
    "\n",
    "FieldGrainInfo.append(d)"
   ]
  },
  {
   "cell_type": "markdown",
   "id": "9dae8268-b49e-4944-a372-47c763ec9dfd",
   "metadata": {},
   "source": [
    "# Save Field Grain Info\n",
    "\n"
   ]
  },
  {
   "cell_type": "code",
   "execution_count": 23,
   "id": "d5ccbac2-b6b5-42d3-9e6d-e088b63d644c",
   "metadata": {
    "tags": []
   },
   "outputs": [
    {
     "data": {
      "text/html": [
       "<div>\n",
       "<style scoped>\n",
       "    .dataframe tbody tr th:only-of-type {\n",
       "        vertical-align: middle;\n",
       "    }\n",
       "\n",
       "    .dataframe tbody tr th {\n",
       "        vertical-align: top;\n",
       "    }\n",
       "\n",
       "    .dataframe thead th {\n",
       "        text-align: right;\n",
       "    }\n",
       "</style>\n",
       "<table border=\"1\" class=\"dataframe\">\n",
       "  <thead>\n",
       "    <tr style=\"text-align: right;\">\n",
       "      <th></th>\n",
       "      <th>RecName</th>\n",
       "      <th>prefix_ids</th>\n",
       "      <th>focal_ids</th>\n",
       "      <th>field_list</th>\n",
       "      <th>field</th>\n",
       "      <th>grain</th>\n",
       "      <th>field2grain</th>\n",
       "      <th>recfield2grain</th>\n",
       "      <th>Vocab</th>\n",
       "    </tr>\n",
       "  </thead>\n",
       "  <tbody>\n",
       "    <tr>\n",
       "      <th>0</th>\n",
       "      <td>EC</td>\n",
       "      <td>[PID]</td>\n",
       "      <td>[ECID]</td>\n",
       "      <td>[BasicInfo, DT_min]</td>\n",
       "      <td>BasicInfo</td>\n",
       "      <td>BasicDftGrn</td>\n",
       "      <td>BasicInfo-BasicDftGrn</td>\n",
       "      <td>EC@BasicInfo-BasicDftGrn</td>\n",
       "      <td>{'idx2v': {0: 'X', 1: 'D', 2: 'Y', 3: 'B', 4: ...</td>\n",
       "    </tr>\n",
       "    <tr>\n",
       "      <th>1</th>\n",
       "      <td>EC</td>\n",
       "      <td>[PID]</td>\n",
       "      <td>[ECID]</td>\n",
       "      <td>[BasicInfo, DT_min]</td>\n",
       "      <td>DT_min</td>\n",
       "      <td>DTDftGrn</td>\n",
       "      <td>DT_min-DTDftGrn</td>\n",
       "      <td>EC@DT_min-DTDftGrn</td>\n",
       "      <td>{'idx2v': {0: '_missing', 1: 'Yx', 2: 'Y2010',...</td>\n",
       "    </tr>\n",
       "  </tbody>\n",
       "</table>\n",
       "</div>"
      ],
      "text/plain": [
       "  RecName prefix_ids focal_ids           field_list      field        grain  \\\n",
       "0      EC      [PID]    [ECID]  [BasicInfo, DT_min]  BasicInfo  BasicDftGrn   \n",
       "1      EC      [PID]    [ECID]  [BasicInfo, DT_min]     DT_min     DTDftGrn   \n",
       "\n",
       "             field2grain            recfield2grain  \\\n",
       "0  BasicInfo-BasicDftGrn  EC@BasicInfo-BasicDftGrn   \n",
       "1        DT_min-DTDftGrn        EC@DT_min-DTDftGrn   \n",
       "\n",
       "                                               Vocab  \n",
       "0  {'idx2v': {0: 'X', 1: 'D', 2: 'Y', 3: 'B', 4: ...  \n",
       "1  {'idx2v': {0: '_missing', 1: 'Yx', 2: 'Y2010',...  "
      ]
     },
     "execution_count": 23,
     "metadata": {},
     "output_type": "execute_result"
    }
   ],
   "source": [
    "df_FieldGrainInfo = pd.DataFrame(FieldGrainInfo)\n",
    "df_FieldGrainInfo"
   ]
  },
  {
   "cell_type": "code",
   "execution_count": 24,
   "id": "40db996c-d8fa-4100-9d64-9ab55a6b5559",
   "metadata": {
    "tags": []
   },
   "outputs": [],
   "source": [
    "fldgrn_folder = 'data/ProcData/FldGrnInfo'\n",
    "\n",
    "if not os.path.exists(fldgrn_folder): os.makedirs(fldgrn_folder)\n",
    "\n",
    "fullfldgrn_file = os.path.join(fldgrn_folder, RecName + '.p')\n",
    "df_FieldGrainInfo.to_pickle(fullfldgrn_file)"
   ]
  },
  {
   "cell_type": "code",
   "execution_count": null,
   "id": "1aa254d3-fb3f-4278-baa5-8c120bfd31c2",
   "metadata": {},
   "outputs": [],
   "source": []
  }
 ],
 "metadata": {
  "kernelspec": {
   "display_name": "Python 3 (ipykernel)",
   "language": "python",
   "name": "python3"
  },
  "language_info": {
   "codemirror_mode": {
    "name": "ipython",
    "version": 3
   },
   "file_extension": ".py",
   "mimetype": "text/x-python",
   "name": "python",
   "nbconvert_exporter": "python",
   "pygments_lexer": "ipython3",
   "version": "3.8.8"
  }
 },
 "nbformat": 4,
 "nbformat_minor": 5
}
