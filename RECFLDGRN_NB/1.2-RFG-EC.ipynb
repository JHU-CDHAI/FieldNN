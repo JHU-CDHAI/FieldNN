{
 "cells": [
  {
   "cell_type": "code",
   "execution_count": 1,
   "id": "10b52be6-2328-479f-873e-e2720c6d56fd",
   "metadata": {
    "tags": []
   },
   "outputs": [
    {
     "name": "stdout",
     "output_type": "stream",
     "text": [
      "/Users/floydluo/Library/CloudStorage/GoogleDrive-jjluo@terpmail.umd.edu/.shortcut-targets-by-id/1qNzMmGHCg5Xa63Vw3aKbZdMXvkfT2CgC/MedStar/MS_CODE/FieldNN\n"
     ]
    }
   ],
   "source": [
    "%cd .."
   ]
  },
  {
   "cell_type": "markdown",
   "id": "834e8add-db1f-431d-9b73-06ead0711a3c",
   "metadata": {},
   "source": [
    "# Read Raw Data"
   ]
  },
  {
   "cell_type": "code",
   "execution_count": 2,
   "id": "e3ff702a-b3f1-4fc4-bf30-45d337e13cc4",
   "metadata": {
    "tags": []
   },
   "outputs": [
    {
     "name": "stdout",
     "output_type": "stream",
     "text": [
      "data/Simulations/EC.csv\n"
     ]
    }
   ],
   "source": [
    "import os \n",
    "import pandas as pd\n",
    "\n",
    "RecName = 'EC'\n",
    "folder = 'data/Simulations/'\n",
    "raw_file_path =  os.path.join(folder, RecName) + '.csv'\n",
    "print(raw_file_path)\n"
   ]
  },
  {
   "cell_type": "code",
   "execution_count": 3,
   "id": "e434f2fb-e4ef-4ea8-9ca4-03018e507399",
   "metadata": {
    "tags": []
   },
   "outputs": [
    {
     "data": {
      "text/html": [
       "<div>\n",
       "<style scoped>\n",
       "    .dataframe tbody tr th:only-of-type {\n",
       "        vertical-align: middle;\n",
       "    }\n",
       "\n",
       "    .dataframe tbody tr th {\n",
       "        vertical-align: top;\n",
       "    }\n",
       "\n",
       "    .dataframe thead th {\n",
       "        text-align: right;\n",
       "    }\n",
       "</style>\n",
       "<table border=\"1\" class=\"dataframe\">\n",
       "  <thead>\n",
       "    <tr style=\"text-align: right;\">\n",
       "      <th></th>\n",
       "      <th>PID</th>\n",
       "      <th>ECID</th>\n",
       "      <th>DT_min</th>\n",
       "      <th>DT_max</th>\n",
       "      <th>BasicInfo</th>\n",
       "    </tr>\n",
       "  </thead>\n",
       "  <tbody>\n",
       "    <tr>\n",
       "      <th>0</th>\n",
       "      <td>P0</td>\n",
       "      <td>EC18</td>\n",
       "      <td>2023-03-18</td>\n",
       "      <td>2023-04-16</td>\n",
       "      <td>D&amp;X</td>\n",
       "    </tr>\n",
       "    <tr>\n",
       "      <th>1</th>\n",
       "      <td>P0</td>\n",
       "      <td>EC140</td>\n",
       "      <td>2023-03-19</td>\n",
       "      <td>2023-04-05</td>\n",
       "      <td>D&amp;X</td>\n",
       "    </tr>\n",
       "    <tr>\n",
       "      <th>2</th>\n",
       "      <td>P0</td>\n",
       "      <td>EC23</td>\n",
       "      <td>2023-03-19</td>\n",
       "      <td>2023-04-16</td>\n",
       "      <td>C&amp;W</td>\n",
       "    </tr>\n",
       "    <tr>\n",
       "      <th>3</th>\n",
       "      <td>P0</td>\n",
       "      <td>EC141</td>\n",
       "      <td>2023-03-20</td>\n",
       "      <td>2023-04-16</td>\n",
       "      <td>C&amp;Z</td>\n",
       "    </tr>\n",
       "    <tr>\n",
       "      <th>4</th>\n",
       "      <td>P0</td>\n",
       "      <td>EC142</td>\n",
       "      <td>2023-03-20</td>\n",
       "      <td>2023-04-15</td>\n",
       "      <td>B&amp;W</td>\n",
       "    </tr>\n",
       "    <tr>\n",
       "      <th>...</th>\n",
       "      <td>...</td>\n",
       "      <td>...</td>\n",
       "      <td>...</td>\n",
       "      <td>...</td>\n",
       "      <td>...</td>\n",
       "    </tr>\n",
       "    <tr>\n",
       "      <th>220</th>\n",
       "      <td>P6</td>\n",
       "      <td>EC15</td>\n",
       "      <td>2023-03-21</td>\n",
       "      <td>2023-04-09</td>\n",
       "      <td>B&amp;X</td>\n",
       "    </tr>\n",
       "    <tr>\n",
       "      <th>221</th>\n",
       "      <td>P6</td>\n",
       "      <td>EC93</td>\n",
       "      <td>2023-03-23</td>\n",
       "      <td>2023-04-04</td>\n",
       "      <td>B&amp;X</td>\n",
       "    </tr>\n",
       "    <tr>\n",
       "      <th>222</th>\n",
       "      <td>P6</td>\n",
       "      <td>EC195</td>\n",
       "      <td>2023-03-25</td>\n",
       "      <td>2023-03-25</td>\n",
       "      <td>C&amp;Z</td>\n",
       "    </tr>\n",
       "    <tr>\n",
       "      <th>223</th>\n",
       "      <td>P6</td>\n",
       "      <td>EC173</td>\n",
       "      <td>2023-04-05</td>\n",
       "      <td>2023-04-13</td>\n",
       "      <td>C&amp;W</td>\n",
       "    </tr>\n",
       "    <tr>\n",
       "      <th>224</th>\n",
       "      <td>P7</td>\n",
       "      <td>EC17</td>\n",
       "      <td>2023-03-18</td>\n",
       "      <td>2023-04-06</td>\n",
       "      <td>A&amp;W</td>\n",
       "    </tr>\n",
       "  </tbody>\n",
       "</table>\n",
       "<p>225 rows × 5 columns</p>\n",
       "</div>"
      ],
      "text/plain": [
       "    PID   ECID      DT_min      DT_max BasicInfo\n",
       "0    P0   EC18  2023-03-18  2023-04-16       D&X\n",
       "1    P0  EC140  2023-03-19  2023-04-05       D&X\n",
       "2    P0   EC23  2023-03-19  2023-04-16       C&W\n",
       "3    P0  EC141  2023-03-20  2023-04-16       C&Z\n",
       "4    P0  EC142  2023-03-20  2023-04-15       B&W\n",
       "..   ..    ...         ...         ...       ...\n",
       "220  P6   EC15  2023-03-21  2023-04-09       B&X\n",
       "221  P6   EC93  2023-03-23  2023-04-04       B&X\n",
       "222  P6  EC195  2023-03-25  2023-03-25       C&Z\n",
       "223  P6  EC173  2023-04-05  2023-04-13       C&W\n",
       "224  P7   EC17  2023-03-18  2023-04-06       A&W\n",
       "\n",
       "[225 rows x 5 columns]"
      ]
     },
     "execution_count": 3,
     "metadata": {},
     "output_type": "execute_result"
    }
   ],
   "source": [
    "RecName = 'EC'\n",
    "# load all records\n",
    "df = pd.read_csv(raw_file_path)\n",
    "df"
   ]
  },
  {
   "cell_type": "markdown",
   "id": "e473f072-fe59-4316-84d2-d1d3a00c1838",
   "metadata": {},
   "source": [
    "# Preprocess"
   ]
  },
  {
   "cell_type": "markdown",
   "id": "b3cdf2bd-27d6-48fb-90ef-b287019b87be",
   "metadata": {},
   "source": [
    "## Update DT Format"
   ]
  },
  {
   "cell_type": "code",
   "execution_count": 4,
   "id": "d9150a77-66e1-4ef7-ba97-4553b3b17630",
   "metadata": {
    "tags": []
   },
   "outputs": [],
   "source": [
    "df['DT_min'] = pd.to_datetime(df['DT_min'])\n",
    "df['DT_max'] = pd.to_datetime(df['DT_max'])\n"
   ]
  },
  {
   "cell_type": "markdown",
   "id": "377c54fb-cc07-4ea8-84df-877ee6dcb149",
   "metadata": {},
   "source": [
    "## Sort EC index"
   ]
  },
  {
   "cell_type": "code",
   "execution_count": 5,
   "id": "ce9933e7-fca5-4283-a811-32f914810208",
   "metadata": {
    "tags": []
   },
   "outputs": [
    {
     "data": {
      "text/html": [
       "<div>\n",
       "<style scoped>\n",
       "    .dataframe tbody tr th:only-of-type {\n",
       "        vertical-align: middle;\n",
       "    }\n",
       "\n",
       "    .dataframe tbody tr th {\n",
       "        vertical-align: top;\n",
       "    }\n",
       "\n",
       "    .dataframe thead th {\n",
       "        text-align: right;\n",
       "    }\n",
       "</style>\n",
       "<table border=\"1\" class=\"dataframe\">\n",
       "  <thead>\n",
       "    <tr style=\"text-align: right;\">\n",
       "      <th></th>\n",
       "      <th>PID</th>\n",
       "      <th>ECID</th>\n",
       "      <th>DT_min</th>\n",
       "      <th>DT_max</th>\n",
       "      <th>BasicInfo</th>\n",
       "    </tr>\n",
       "  </thead>\n",
       "  <tbody>\n",
       "    <tr>\n",
       "      <th>0</th>\n",
       "      <td>P0</td>\n",
       "      <td>EC18</td>\n",
       "      <td>2023-03-18</td>\n",
       "      <td>2023-04-16</td>\n",
       "      <td>D&amp;X</td>\n",
       "    </tr>\n",
       "    <tr>\n",
       "      <th>1</th>\n",
       "      <td>P0</td>\n",
       "      <td>EC140</td>\n",
       "      <td>2023-03-19</td>\n",
       "      <td>2023-04-05</td>\n",
       "      <td>D&amp;X</td>\n",
       "    </tr>\n",
       "    <tr>\n",
       "      <th>2</th>\n",
       "      <td>P0</td>\n",
       "      <td>EC23</td>\n",
       "      <td>2023-03-19</td>\n",
       "      <td>2023-04-16</td>\n",
       "      <td>C&amp;W</td>\n",
       "    </tr>\n",
       "    <tr>\n",
       "      <th>3</th>\n",
       "      <td>P0</td>\n",
       "      <td>EC141</td>\n",
       "      <td>2023-03-20</td>\n",
       "      <td>2023-04-16</td>\n",
       "      <td>C&amp;Z</td>\n",
       "    </tr>\n",
       "    <tr>\n",
       "      <th>4</th>\n",
       "      <td>P0</td>\n",
       "      <td>EC142</td>\n",
       "      <td>2023-03-20</td>\n",
       "      <td>2023-04-15</td>\n",
       "      <td>B&amp;W</td>\n",
       "    </tr>\n",
       "    <tr>\n",
       "      <th>...</th>\n",
       "      <td>...</td>\n",
       "      <td>...</td>\n",
       "      <td>...</td>\n",
       "      <td>...</td>\n",
       "      <td>...</td>\n",
       "    </tr>\n",
       "    <tr>\n",
       "      <th>220</th>\n",
       "      <td>P6</td>\n",
       "      <td>EC15</td>\n",
       "      <td>2023-03-21</td>\n",
       "      <td>2023-04-09</td>\n",
       "      <td>B&amp;X</td>\n",
       "    </tr>\n",
       "    <tr>\n",
       "      <th>221</th>\n",
       "      <td>P6</td>\n",
       "      <td>EC93</td>\n",
       "      <td>2023-03-23</td>\n",
       "      <td>2023-04-04</td>\n",
       "      <td>B&amp;X</td>\n",
       "    </tr>\n",
       "    <tr>\n",
       "      <th>222</th>\n",
       "      <td>P6</td>\n",
       "      <td>EC195</td>\n",
       "      <td>2023-03-25</td>\n",
       "      <td>2023-03-25</td>\n",
       "      <td>C&amp;Z</td>\n",
       "    </tr>\n",
       "    <tr>\n",
       "      <th>223</th>\n",
       "      <td>P6</td>\n",
       "      <td>EC173</td>\n",
       "      <td>2023-04-05</td>\n",
       "      <td>2023-04-13</td>\n",
       "      <td>C&amp;W</td>\n",
       "    </tr>\n",
       "    <tr>\n",
       "      <th>224</th>\n",
       "      <td>P7</td>\n",
       "      <td>EC17</td>\n",
       "      <td>2023-03-18</td>\n",
       "      <td>2023-04-06</td>\n",
       "      <td>A&amp;W</td>\n",
       "    </tr>\n",
       "  </tbody>\n",
       "</table>\n",
       "<p>225 rows × 5 columns</p>\n",
       "</div>"
      ],
      "text/plain": [
       "    PID   ECID     DT_min     DT_max BasicInfo\n",
       "0    P0   EC18 2023-03-18 2023-04-16       D&X\n",
       "1    P0  EC140 2023-03-19 2023-04-05       D&X\n",
       "2    P0   EC23 2023-03-19 2023-04-16       C&W\n",
       "3    P0  EC141 2023-03-20 2023-04-16       C&Z\n",
       "4    P0  EC142 2023-03-20 2023-04-15       B&W\n",
       "..   ..    ...        ...        ...       ...\n",
       "220  P6   EC15 2023-03-21 2023-04-09       B&X\n",
       "221  P6   EC93 2023-03-23 2023-04-04       B&X\n",
       "222  P6  EC195 2023-03-25 2023-03-25       C&Z\n",
       "223  P6  EC173 2023-04-05 2023-04-13       C&W\n",
       "224  P7   EC17 2023-03-18 2023-04-06       A&W\n",
       "\n",
       "[225 rows x 5 columns]"
      ]
     },
     "execution_count": 5,
     "metadata": {},
     "output_type": "execute_result"
    }
   ],
   "source": [
    "df = df.sort_values(['PID', 'DT_min']).reset_index(drop = True)\n",
    "df"
   ]
  },
  {
   "cell_type": "markdown",
   "id": "6afc1713-2671-4bd9-8674-39d99c7eab16",
   "metadata": {},
   "source": [
    "# Save To Disk by Bucket"
   ]
  },
  {
   "cell_type": "code",
   "execution_count": 6,
   "id": "0accd58d-ba45-4cb9-b0af-c3ec57ae998c",
   "metadata": {
    "tags": []
   },
   "outputs": [],
   "source": [
    "from recfldgrn.datapoint import convert_PID_to_PIDgroup\n",
    "from recfldgrn.datapoint import RANGE_SIZE, write_df_to_folders, load_df_data_from_folder"
   ]
  },
  {
   "cell_type": "code",
   "execution_count": 7,
   "id": "5de8a634-4b8f-425d-a485-4e99a0cf8281",
   "metadata": {
    "tags": []
   },
   "outputs": [
    {
     "name": "stdout",
     "output_type": "stream",
     "text": [
      "(225, 5) data/ProcData/RecFolder/EC\n"
     ]
    }
   ],
   "source": [
    "rec_folder = 'data/ProcData/RecFolder'\n",
    "fullrec_folder = os.path.join(rec_folder, RecName)\n",
    "print(df.shape, fullrec_folder)\n",
    "\n",
    "if not os.path.exists(fullrec_folder): os.makedirs(fullrec_folder)\n",
    "write_df_to_folders(RecName, fullrec_folder, df)\n"
   ]
  },
  {
   "cell_type": "code",
   "execution_count": 8,
   "id": "2e469447-0d1b-4fd4-8904-acd21d9c8718",
   "metadata": {
    "tags": []
   },
   "outputs": [
    {
     "name": "stdout",
     "output_type": "stream",
     "text": [
      "data/ProcData/RecFolder\n",
      "<recfldgrn.datapoint.PatientDP object at 0x7fbe781d9df0>\n"
     ]
    },
    {
     "data": {
      "text/html": [
       "<div>\n",
       "<style scoped>\n",
       "    .dataframe tbody tr th:only-of-type {\n",
       "        vertical-align: middle;\n",
       "    }\n",
       "\n",
       "    .dataframe tbody tr th {\n",
       "        vertical-align: top;\n",
       "    }\n",
       "\n",
       "    .dataframe thead th {\n",
       "        text-align: right;\n",
       "    }\n",
       "</style>\n",
       "<table border=\"1\" class=\"dataframe\">\n",
       "  <thead>\n",
       "    <tr style=\"text-align: right;\">\n",
       "      <th></th>\n",
       "      <th>PID</th>\n",
       "      <th>ECID</th>\n",
       "      <th>DT_min</th>\n",
       "      <th>DT_max</th>\n",
       "      <th>BasicInfo</th>\n",
       "    </tr>\n",
       "  </thead>\n",
       "  <tbody>\n",
       "    <tr>\n",
       "      <th>0</th>\n",
       "      <td>P4</td>\n",
       "      <td>EC125</td>\n",
       "      <td>2023-03-18</td>\n",
       "      <td>2023-04-02</td>\n",
       "      <td>B&amp;Z</td>\n",
       "    </tr>\n",
       "    <tr>\n",
       "      <th>1</th>\n",
       "      <td>P4</td>\n",
       "      <td>EC24</td>\n",
       "      <td>2023-03-18</td>\n",
       "      <td>2023-04-16</td>\n",
       "      <td>B&amp;Z</td>\n",
       "    </tr>\n",
       "    <tr>\n",
       "      <th>2</th>\n",
       "      <td>P4</td>\n",
       "      <td>EC36</td>\n",
       "      <td>2023-03-18</td>\n",
       "      <td>2023-04-13</td>\n",
       "      <td>C&amp;W</td>\n",
       "    </tr>\n",
       "    <tr>\n",
       "      <th>3</th>\n",
       "      <td>P4</td>\n",
       "      <td>EC80</td>\n",
       "      <td>2023-03-19</td>\n",
       "      <td>2023-04-15</td>\n",
       "      <td>D&amp;X</td>\n",
       "    </tr>\n",
       "    <tr>\n",
       "      <th>4</th>\n",
       "      <td>P4</td>\n",
       "      <td>EC163</td>\n",
       "      <td>2023-03-20</td>\n",
       "      <td>2023-04-06</td>\n",
       "      <td>D&amp;X</td>\n",
       "    </tr>\n",
       "    <tr>\n",
       "      <th>5</th>\n",
       "      <td>P4</td>\n",
       "      <td>EC106</td>\n",
       "      <td>2023-03-21</td>\n",
       "      <td>2023-04-05</td>\n",
       "      <td>A&amp;X</td>\n",
       "    </tr>\n",
       "    <tr>\n",
       "      <th>6</th>\n",
       "      <td>P4</td>\n",
       "      <td>EC85</td>\n",
       "      <td>2023-03-21</td>\n",
       "      <td>2023-03-31</td>\n",
       "      <td>A&amp;Z</td>\n",
       "    </tr>\n",
       "    <tr>\n",
       "      <th>7</th>\n",
       "      <td>P4</td>\n",
       "      <td>EC88</td>\n",
       "      <td>2023-03-21</td>\n",
       "      <td>2023-04-12</td>\n",
       "      <td>A&amp;Y</td>\n",
       "    </tr>\n",
       "    <tr>\n",
       "      <th>8</th>\n",
       "      <td>P4</td>\n",
       "      <td>EC179</td>\n",
       "      <td>2023-03-22</td>\n",
       "      <td>2023-03-23</td>\n",
       "      <td>B&amp;W</td>\n",
       "    </tr>\n",
       "    <tr>\n",
       "      <th>9</th>\n",
       "      <td>P4</td>\n",
       "      <td>EC48</td>\n",
       "      <td>2023-03-22</td>\n",
       "      <td>2023-04-14</td>\n",
       "      <td>A&amp;Y</td>\n",
       "    </tr>\n",
       "    <tr>\n",
       "      <th>10</th>\n",
       "      <td>P4</td>\n",
       "      <td>EC7</td>\n",
       "      <td>2023-03-23</td>\n",
       "      <td>2023-04-12</td>\n",
       "      <td>B&amp;Z</td>\n",
       "    </tr>\n",
       "    <tr>\n",
       "      <th>11</th>\n",
       "      <td>P4</td>\n",
       "      <td>EC70</td>\n",
       "      <td>2023-03-23</td>\n",
       "      <td>2023-04-13</td>\n",
       "      <td>D&amp;Y</td>\n",
       "    </tr>\n",
       "    <tr>\n",
       "      <th>12</th>\n",
       "      <td>P4</td>\n",
       "      <td>EC86</td>\n",
       "      <td>2023-03-23</td>\n",
       "      <td>2023-04-14</td>\n",
       "      <td>B&amp;X</td>\n",
       "    </tr>\n",
       "    <tr>\n",
       "      <th>13</th>\n",
       "      <td>P4</td>\n",
       "      <td>EC10</td>\n",
       "      <td>2023-03-25</td>\n",
       "      <td>2023-04-15</td>\n",
       "      <td>B&amp;Z</td>\n",
       "    </tr>\n",
       "    <tr>\n",
       "      <th>14</th>\n",
       "      <td>P4</td>\n",
       "      <td>EC130</td>\n",
       "      <td>2023-03-26</td>\n",
       "      <td>2023-04-07</td>\n",
       "      <td>A&amp;W</td>\n",
       "    </tr>\n",
       "    <tr>\n",
       "      <th>15</th>\n",
       "      <td>P4</td>\n",
       "      <td>EC110</td>\n",
       "      <td>2023-03-28</td>\n",
       "      <td>2023-04-13</td>\n",
       "      <td>A&amp;X</td>\n",
       "    </tr>\n",
       "    <tr>\n",
       "      <th>16</th>\n",
       "      <td>P4</td>\n",
       "      <td>EC202</td>\n",
       "      <td>2023-03-30</td>\n",
       "      <td>2023-03-30</td>\n",
       "      <td>D&amp;Y</td>\n",
       "    </tr>\n",
       "    <tr>\n",
       "      <th>17</th>\n",
       "      <td>P4</td>\n",
       "      <td>EC121</td>\n",
       "      <td>2023-03-31</td>\n",
       "      <td>2023-04-16</td>\n",
       "      <td>D&amp;Y</td>\n",
       "    </tr>\n",
       "    <tr>\n",
       "      <th>18</th>\n",
       "      <td>P4</td>\n",
       "      <td>EC196</td>\n",
       "      <td>2023-03-31</td>\n",
       "      <td>2023-03-31</td>\n",
       "      <td>B&amp;Z</td>\n",
       "    </tr>\n",
       "    <tr>\n",
       "      <th>19</th>\n",
       "      <td>P4</td>\n",
       "      <td>EC203</td>\n",
       "      <td>2023-04-04</td>\n",
       "      <td>2023-04-04</td>\n",
       "      <td>A&amp;W</td>\n",
       "    </tr>\n",
       "    <tr>\n",
       "      <th>20</th>\n",
       "      <td>P4</td>\n",
       "      <td>EC204</td>\n",
       "      <td>2023-04-12</td>\n",
       "      <td>2023-04-12</td>\n",
       "      <td>A&amp;W</td>\n",
       "    </tr>\n",
       "    <tr>\n",
       "      <th>21</th>\n",
       "      <td>P4</td>\n",
       "      <td>EC197</td>\n",
       "      <td>2023-04-14</td>\n",
       "      <td>2023-04-14</td>\n",
       "      <td>A&amp;X</td>\n",
       "    </tr>\n",
       "  </tbody>\n",
       "</table>\n",
       "</div>"
      ],
      "text/plain": [
       "   PID   ECID     DT_min     DT_max BasicInfo\n",
       "0   P4  EC125 2023-03-18 2023-04-02       B&Z\n",
       "1   P4   EC24 2023-03-18 2023-04-16       B&Z\n",
       "2   P4   EC36 2023-03-18 2023-04-13       C&W\n",
       "3   P4   EC80 2023-03-19 2023-04-15       D&X\n",
       "4   P4  EC163 2023-03-20 2023-04-06       D&X\n",
       "5   P4  EC106 2023-03-21 2023-04-05       A&X\n",
       "6   P4   EC85 2023-03-21 2023-03-31       A&Z\n",
       "7   P4   EC88 2023-03-21 2023-04-12       A&Y\n",
       "8   P4  EC179 2023-03-22 2023-03-23       B&W\n",
       "9   P4   EC48 2023-03-22 2023-04-14       A&Y\n",
       "10  P4    EC7 2023-03-23 2023-04-12       B&Z\n",
       "11  P4   EC70 2023-03-23 2023-04-13       D&Y\n",
       "12  P4   EC86 2023-03-23 2023-04-14       B&X\n",
       "13  P4   EC10 2023-03-25 2023-04-15       B&Z\n",
       "14  P4  EC130 2023-03-26 2023-04-07       A&W\n",
       "15  P4  EC110 2023-03-28 2023-04-13       A&X\n",
       "16  P4  EC202 2023-03-30 2023-03-30       D&Y\n",
       "17  P4  EC121 2023-03-31 2023-04-16       D&Y\n",
       "18  P4  EC196 2023-03-31 2023-03-31       B&Z\n",
       "19  P4  EC203 2023-04-04 2023-04-04       A&W\n",
       "20  P4  EC204 2023-04-12 2023-04-12       A&W\n",
       "21  P4  EC197 2023-04-14 2023-04-14       A&X"
      ]
     },
     "execution_count": 8,
     "metadata": {},
     "output_type": "execute_result"
    }
   ],
   "source": [
    "from recfldgrn.datapoint import PatientDP\n",
    "print(rec_folder)\n",
    "PID = 'P4'\n",
    "Pat = PatientDP(PID, rec_folder, RANGE_SIZE)\n",
    "print(Pat)\n",
    "dfx = Pat.get_df_rec(RecName)\n",
    "dfx"
   ]
  },
  {
   "cell_type": "code",
   "execution_count": 9,
   "id": "2e15574f-d2a6-40c2-b57c-c88fa0d436d7",
   "metadata": {
    "tags": []
   },
   "outputs": [
    {
     "name": "stdout",
     "output_type": "stream",
     "text": [
      "data/ProcData/RecFolder/EC\n"
     ]
    },
    {
     "data": {
      "text/html": [
       "<div>\n",
       "<style scoped>\n",
       "    .dataframe tbody tr th:only-of-type {\n",
       "        vertical-align: middle;\n",
       "    }\n",
       "\n",
       "    .dataframe tbody tr th {\n",
       "        vertical-align: top;\n",
       "    }\n",
       "\n",
       "    .dataframe thead th {\n",
       "        text-align: right;\n",
       "    }\n",
       "</style>\n",
       "<table border=\"1\" class=\"dataframe\">\n",
       "  <thead>\n",
       "    <tr style=\"text-align: right;\">\n",
       "      <th></th>\n",
       "      <th>PID</th>\n",
       "      <th>ECID</th>\n",
       "      <th>DT_min</th>\n",
       "      <th>DT_max</th>\n",
       "      <th>BasicInfo</th>\n",
       "    </tr>\n",
       "  </thead>\n",
       "  <tbody>\n",
       "    <tr>\n",
       "      <th>0</th>\n",
       "      <td>P0</td>\n",
       "      <td>EC18</td>\n",
       "      <td>2023-03-18</td>\n",
       "      <td>2023-04-16</td>\n",
       "      <td>D&amp;X</td>\n",
       "    </tr>\n",
       "    <tr>\n",
       "      <th>1</th>\n",
       "      <td>P0</td>\n",
       "      <td>EC140</td>\n",
       "      <td>2023-03-19</td>\n",
       "      <td>2023-04-05</td>\n",
       "      <td>D&amp;X</td>\n",
       "    </tr>\n",
       "    <tr>\n",
       "      <th>2</th>\n",
       "      <td>P0</td>\n",
       "      <td>EC23</td>\n",
       "      <td>2023-03-19</td>\n",
       "      <td>2023-04-16</td>\n",
       "      <td>C&amp;W</td>\n",
       "    </tr>\n",
       "    <tr>\n",
       "      <th>3</th>\n",
       "      <td>P0</td>\n",
       "      <td>EC141</td>\n",
       "      <td>2023-03-20</td>\n",
       "      <td>2023-04-16</td>\n",
       "      <td>C&amp;Z</td>\n",
       "    </tr>\n",
       "    <tr>\n",
       "      <th>4</th>\n",
       "      <td>P0</td>\n",
       "      <td>EC142</td>\n",
       "      <td>2023-03-20</td>\n",
       "      <td>2023-04-15</td>\n",
       "      <td>B&amp;W</td>\n",
       "    </tr>\n",
       "    <tr>\n",
       "      <th>...</th>\n",
       "      <td>...</td>\n",
       "      <td>...</td>\n",
       "      <td>...</td>\n",
       "      <td>...</td>\n",
       "      <td>...</td>\n",
       "    </tr>\n",
       "    <tr>\n",
       "      <th>220</th>\n",
       "      <td>P6</td>\n",
       "      <td>EC15</td>\n",
       "      <td>2023-03-21</td>\n",
       "      <td>2023-04-09</td>\n",
       "      <td>B&amp;X</td>\n",
       "    </tr>\n",
       "    <tr>\n",
       "      <th>221</th>\n",
       "      <td>P6</td>\n",
       "      <td>EC93</td>\n",
       "      <td>2023-03-23</td>\n",
       "      <td>2023-04-04</td>\n",
       "      <td>B&amp;X</td>\n",
       "    </tr>\n",
       "    <tr>\n",
       "      <th>222</th>\n",
       "      <td>P6</td>\n",
       "      <td>EC195</td>\n",
       "      <td>2023-03-25</td>\n",
       "      <td>2023-03-25</td>\n",
       "      <td>C&amp;Z</td>\n",
       "    </tr>\n",
       "    <tr>\n",
       "      <th>223</th>\n",
       "      <td>P6</td>\n",
       "      <td>EC173</td>\n",
       "      <td>2023-04-05</td>\n",
       "      <td>2023-04-13</td>\n",
       "      <td>C&amp;W</td>\n",
       "    </tr>\n",
       "    <tr>\n",
       "      <th>224</th>\n",
       "      <td>P7</td>\n",
       "      <td>EC17</td>\n",
       "      <td>2023-03-18</td>\n",
       "      <td>2023-04-06</td>\n",
       "      <td>A&amp;W</td>\n",
       "    </tr>\n",
       "  </tbody>\n",
       "</table>\n",
       "<p>225 rows × 5 columns</p>\n",
       "</div>"
      ],
      "text/plain": [
       "    PID   ECID     DT_min     DT_max BasicInfo\n",
       "0    P0   EC18 2023-03-18 2023-04-16       D&X\n",
       "1    P0  EC140 2023-03-19 2023-04-05       D&X\n",
       "2    P0   EC23 2023-03-19 2023-04-16       C&W\n",
       "3    P0  EC141 2023-03-20 2023-04-16       C&Z\n",
       "4    P0  EC142 2023-03-20 2023-04-15       B&W\n",
       "..   ..    ...        ...        ...       ...\n",
       "220  P6   EC15 2023-03-21 2023-04-09       B&X\n",
       "221  P6   EC93 2023-03-23 2023-04-04       B&X\n",
       "222  P6  EC195 2023-03-25 2023-03-25       C&Z\n",
       "223  P6  EC173 2023-04-05 2023-04-13       C&W\n",
       "224  P7   EC17 2023-03-18 2023-04-06       A&W\n",
       "\n",
       "[225 rows x 5 columns]"
      ]
     },
     "execution_count": 9,
     "metadata": {},
     "output_type": "execute_result"
    }
   ],
   "source": [
    "from recfldgrn.datapoint import load_df_data_from_folder\n",
    "print(fullrec_folder)\n",
    "df = load_df_data_from_folder(fullrec_folder)\n",
    "df"
   ]
  },
  {
   "cell_type": "markdown",
   "id": "0d5e6a0f-041b-4bb7-8c3c-243bf4413259",
   "metadata": {},
   "source": [
    "# Field & Grain"
   ]
  },
  {
   "cell_type": "code",
   "execution_count": 10,
   "id": "49c79dfc-3538-42bb-89c8-0f745737a0f2",
   "metadata": {
    "tags": []
   },
   "outputs": [],
   "source": [
    "FieldGrainInfo = []"
   ]
  },
  {
   "cell_type": "code",
   "execution_count": 11,
   "id": "71b269f4-806c-44b7-8e91-b6a926c49b93",
   "metadata": {
    "tags": []
   },
   "outputs": [],
   "source": [
    "RecName = 'EC'\n",
    "prefix_ids = ['PID']\n",
    "focal_ids = ['ECID']\n",
    "field_list = ['BasicInfo', 'DT_min']"
   ]
  },
  {
   "cell_type": "markdown",
   "id": "33aa0658-be8f-43d0-94c8-b03ef196fc34",
   "metadata": {},
   "source": [
    "## Field `BasicInfo`"
   ]
  },
  {
   "cell_type": "code",
   "execution_count": 12,
   "id": "3978b37a-c3be-409d-b109-c6343cbbdc16",
   "metadata": {
    "tags": []
   },
   "outputs": [
    {
     "data": {
      "text/html": [
       "<div>\n",
       "<style scoped>\n",
       "    .dataframe tbody tr th:only-of-type {\n",
       "        vertical-align: middle;\n",
       "    }\n",
       "\n",
       "    .dataframe tbody tr th {\n",
       "        vertical-align: top;\n",
       "    }\n",
       "\n",
       "    .dataframe thead th {\n",
       "        text-align: right;\n",
       "    }\n",
       "</style>\n",
       "<table border=\"1\" class=\"dataframe\">\n",
       "  <thead>\n",
       "    <tr style=\"text-align: right;\">\n",
       "      <th></th>\n",
       "      <th>PID</th>\n",
       "      <th>ECID</th>\n",
       "      <th>BasicInfo</th>\n",
       "    </tr>\n",
       "  </thead>\n",
       "  <tbody>\n",
       "    <tr>\n",
       "      <th>0</th>\n",
       "      <td>P0</td>\n",
       "      <td>EC18</td>\n",
       "      <td>D&amp;X</td>\n",
       "    </tr>\n",
       "    <tr>\n",
       "      <th>1</th>\n",
       "      <td>P0</td>\n",
       "      <td>EC140</td>\n",
       "      <td>D&amp;X</td>\n",
       "    </tr>\n",
       "    <tr>\n",
       "      <th>2</th>\n",
       "      <td>P0</td>\n",
       "      <td>EC23</td>\n",
       "      <td>C&amp;W</td>\n",
       "    </tr>\n",
       "    <tr>\n",
       "      <th>3</th>\n",
       "      <td>P0</td>\n",
       "      <td>EC141</td>\n",
       "      <td>C&amp;Z</td>\n",
       "    </tr>\n",
       "    <tr>\n",
       "      <th>4</th>\n",
       "      <td>P0</td>\n",
       "      <td>EC142</td>\n",
       "      <td>B&amp;W</td>\n",
       "    </tr>\n",
       "    <tr>\n",
       "      <th>...</th>\n",
       "      <td>...</td>\n",
       "      <td>...</td>\n",
       "      <td>...</td>\n",
       "    </tr>\n",
       "    <tr>\n",
       "      <th>220</th>\n",
       "      <td>P6</td>\n",
       "      <td>EC15</td>\n",
       "      <td>B&amp;X</td>\n",
       "    </tr>\n",
       "    <tr>\n",
       "      <th>221</th>\n",
       "      <td>P6</td>\n",
       "      <td>EC93</td>\n",
       "      <td>B&amp;X</td>\n",
       "    </tr>\n",
       "    <tr>\n",
       "      <th>222</th>\n",
       "      <td>P6</td>\n",
       "      <td>EC195</td>\n",
       "      <td>C&amp;Z</td>\n",
       "    </tr>\n",
       "    <tr>\n",
       "      <th>223</th>\n",
       "      <td>P6</td>\n",
       "      <td>EC173</td>\n",
       "      <td>C&amp;W</td>\n",
       "    </tr>\n",
       "    <tr>\n",
       "      <th>224</th>\n",
       "      <td>P7</td>\n",
       "      <td>EC17</td>\n",
       "      <td>A&amp;W</td>\n",
       "    </tr>\n",
       "  </tbody>\n",
       "</table>\n",
       "<p>225 rows × 3 columns</p>\n",
       "</div>"
      ],
      "text/plain": [
       "    PID   ECID BasicInfo\n",
       "0    P0   EC18       D&X\n",
       "1    P0  EC140       D&X\n",
       "2    P0   EC23       C&W\n",
       "3    P0  EC141       C&Z\n",
       "4    P0  EC142       B&W\n",
       "..   ..    ...       ...\n",
       "220  P6   EC15       B&X\n",
       "221  P6   EC93       B&X\n",
       "222  P6  EC195       C&Z\n",
       "223  P6  EC173       C&W\n",
       "224  P7   EC17       A&W\n",
       "\n",
       "[225 rows x 3 columns]"
      ]
     },
     "execution_count": 12,
     "metadata": {},
     "output_type": "execute_result"
    }
   ],
   "source": [
    "# (a) field and (b) get field-focused df\n",
    "field = 'BasicInfo'\n",
    "dfx = df[prefix_ids + focal_ids + [field]]\n",
    "dfx"
   ]
  },
  {
   "cell_type": "markdown",
   "id": "588f5c71-cb29-4c15-9dc1-a18dcd4bbc11",
   "metadata": {},
   "source": [
    "### Grain `BasicDftGrn`"
   ]
  },
  {
   "cell_type": "code",
   "execution_count": 13,
   "id": "abc08c2d-d945-4485-8471-6e75cd38b45c",
   "metadata": {
    "tags": []
   },
   "outputs": [],
   "source": [
    "from recfldgrn.grains import Field2Grain_2_get_GrnStrList_Fn\n",
    "from recfldgrn.grains import Field2Grain_2_get_GrnIdxList_Fn\n",
    "from recfldgrn.grains import Field2Grain_2_get_GrnWgtList_Fn\n",
    "from recfldgrn.utils import generate_grain_vocab_info"
   ]
  },
  {
   "cell_type": "code",
   "execution_count": 14,
   "id": "350d4af0-7a4e-41d5-bbab-d77c116f4e47",
   "metadata": {
    "tags": []
   },
   "outputs": [
    {
     "name": "stdout",
     "output_type": "stream",
     "text": [
      "BasicDftGrn\n",
      "BasicInfo-BasicDftGrn\n",
      "EC@BasicInfo-BasicDftGrn\n"
     ]
    }
   ],
   "source": [
    "# (c) grain\n",
    "grain = 'BasicDftGrn'\n",
    "field2grain = '-'.join([field, grain])\n",
    "recfield2grain = RecName + '@' + field2grain\n",
    "print(grain)\n",
    "print(field2grain)\n",
    "print(recfield2grain)"
   ]
  },
  {
   "cell_type": "code",
   "execution_count": 15,
   "id": "47a40ab2-8581-4d7f-b428-8f45d877e910",
   "metadata": {
    "tags": []
   },
   "outputs": [
    {
     "data": {
      "text/plain": [
       "0      [D, X]\n",
       "1      [D, X]\n",
       "2      [C, W]\n",
       "3      [C, Z]\n",
       "4      [B, W]\n",
       "        ...  \n",
       "220    [B, X]\n",
       "221    [B, X]\n",
       "222    [C, Z]\n",
       "223    [C, W]\n",
       "224    [A, W]\n",
       "Name: BasicInfo, Length: 225, dtype: object"
      ]
     },
     "execution_count": 15,
     "metadata": {},
     "output_type": "execute_result"
    }
   ],
   "source": [
    "grain_str_fn = Field2Grain_2_get_GrnStrList_Fn[recfield2grain]\n",
    "s = dfx[field].apply(lambda x: grain_str_fn(x))\n",
    "s"
   ]
  },
  {
   "cell_type": "code",
   "execution_count": 16,
   "id": "e631b03c-12a5-47a4-9933-3932673f3aa2",
   "metadata": {
    "tags": []
   },
   "outputs": [
    {
     "data": {
      "text/plain": [
       "{'_padding': 0, 'X': 1, 'D': 2, 'Y': 3, 'B': 4, 'Z': 5, 'A': 6, 'C': 7, 'W': 8}"
      ]
     },
     "execution_count": 16,
     "metadata": {},
     "output_type": "execute_result"
    }
   ],
   "source": [
    "Vocab = generate_grain_vocab_info(s) # load from disk\n",
    "v2idx = Vocab['v2idx']\n",
    "v2idx"
   ]
  },
  {
   "cell_type": "code",
   "execution_count": 17,
   "id": "08471b52-78f1-413c-822c-87f873b4ea20",
   "metadata": {
    "tags": []
   },
   "outputs": [
    {
     "data": {
      "text/plain": [
       "0      [2, 1]\n",
       "1      [2, 1]\n",
       "2      [7, 8]\n",
       "3      [7, 5]\n",
       "4      [4, 8]\n",
       "        ...  \n",
       "220    [4, 1]\n",
       "221    [4, 1]\n",
       "222    [7, 5]\n",
       "223    [7, 8]\n",
       "224    [6, 8]\n",
       "Name: BasicInfo, Length: 225, dtype: object"
      ]
     },
     "execution_count": 17,
     "metadata": {},
     "output_type": "execute_result"
    }
   ],
   "source": [
    "grain_idx_fn = Field2Grain_2_get_GrnIdxList_Fn[recfield2grain]\n",
    "s = dfx[field].apply(lambda x: grain_idx_fn(x, v2idx))\n",
    "s"
   ]
  },
  {
   "cell_type": "code",
   "execution_count": 18,
   "id": "845fb2b8-bc48-43c9-b1bd-e162a1b53aa4",
   "metadata": {
    "tags": []
   },
   "outputs": [
    {
     "name": "stdout",
     "output_type": "stream",
     "text": [
      "{'_padding': 0, 'X': 1, 'D': 2, 'Y': 3, 'B': 4, 'Z': 5, 'A': 6, 'C': 7, 'W': 8}\n"
     ]
    },
    {
     "data": {
      "text/plain": [
       "0      [2, 1]\n",
       "1      [2, 1]\n",
       "2      [7, 8]\n",
       "3      [7, 5]\n",
       "4      [4, 8]\n",
       "        ...  \n",
       "220    [4, 1]\n",
       "221    [4, 1]\n",
       "222    [7, 5]\n",
       "223    [7, 8]\n",
       "224    [6, 8]\n",
       "Name: BasicInfo, Length: 225, dtype: object"
      ]
     },
     "execution_count": 18,
     "metadata": {},
     "output_type": "execute_result"
    }
   ],
   "source": [
    "from recfldgrn.grains.misc.dt_grn import load_DTgrn_Dictionary\n",
    "from transformers import AutoTokenizer\n",
    "\n",
    "if 'Nume' in grain:\n",
    "    # print('Current grain is a numeric grain')\n",
    "    grain_wgt_fn = Field2Grain_2_get_GrnWgtList_Fn[recfield2grain]\n",
    "    series_wgt = dfx[field].apply(grain_wgt_fn)\n",
    "    Vocab = {'v2idx': len(series_wgt.iloc[0]) * [1]}\n",
    "    v2idx = Vocab['v2idx']\n",
    "\n",
    "elif 'DT' in grain:\n",
    "    grain_str_fn = Field2Grain_2_get_GrnStrList_Fn[recfield2grain]\n",
    "    series_str = dfx[field].apply(grain_str_fn)\n",
    "    Vocab = load_DTgrn_Dictionary()\n",
    "    v2idx = Vocab['v2idx']\n",
    "    \n",
    "elif 'Tknz' in grain:\n",
    "    tokenizer = AutoTokenizer.from_pretrained(\"bert-base-uncased\")\n",
    "    v2idx = tokenizer\n",
    "    Vocab = {'v2idx': v2idx}\n",
    "\n",
    "else:\n",
    "    grain_str_fn = Field2Grain_2_get_GrnStrList_Fn[recfield2grain]\n",
    "    series_str = dfx[field].apply(grain_str_fn)\n",
    "    Vocab = generate_grain_vocab_info(series_str)\n",
    "    v2idx = Vocab['v2idx']\n",
    "\n",
    "print(v2idx)\n",
    "grain_idx_fn = Field2Grain_2_get_GrnIdxList_Fn[recfield2grain]\n",
    "series_idx = dfx[field].apply(lambda x: grain_idx_fn(x, v2idx))\n",
    "series_idx\n"
   ]
  },
  {
   "cell_type": "code",
   "execution_count": 19,
   "id": "df8e390b-9081-4d03-9f79-afefd8da6386",
   "metadata": {
    "tags": []
   },
   "outputs": [],
   "source": [
    "d = {}\n",
    "d['RecName'] = RecName\n",
    "\n",
    "d['prefix_ids'] = prefix_ids\n",
    "d['focal_ids'] = focal_ids \n",
    "d['field_list'] = field_list\n",
    "\n",
    "d['field'] = field\n",
    "d['grain'] = grain\n",
    "d['field2grain'] = field2grain\n",
    "d['recfield2grain'] = recfield2grain\n",
    "d['Vocab'] = Vocab\n",
    "\n",
    "FieldGrainInfo.append(d)"
   ]
  },
  {
   "cell_type": "code",
   "execution_count": 20,
   "id": "53ed47a2-9ae0-4551-a4da-12dad1d16c0d",
   "metadata": {
    "tags": []
   },
   "outputs": [
    {
     "data": {
      "text/plain": [
       "{'RecName': 'EC',\n",
       " 'prefix_ids': ['PID'],\n",
       " 'focal_ids': ['ECID'],\n",
       " 'field_list': ['BasicInfo', 'DT_min'],\n",
       " 'field': 'BasicInfo',\n",
       " 'grain': 'BasicDftGrn',\n",
       " 'field2grain': 'BasicInfo-BasicDftGrn',\n",
       " 'recfield2grain': 'EC@BasicInfo-BasicDftGrn',\n",
       " 'Vocab': {'idx2v': {0: '_padding',\n",
       "   1: 'X',\n",
       "   2: 'D',\n",
       "   3: 'Y',\n",
       "   4: 'B',\n",
       "   5: 'Z',\n",
       "   6: 'A',\n",
       "   7: 'C',\n",
       "   8: 'W'},\n",
       "  'v2idx': {'_padding': 0,\n",
       "   'X': 1,\n",
       "   'D': 2,\n",
       "   'Y': 3,\n",
       "   'B': 4,\n",
       "   'Z': 5,\n",
       "   'A': 6,\n",
       "   'C': 7,\n",
       "   'W': 8},\n",
       "  'v2freq': {'_padding': 0,\n",
       "   'X': 63,\n",
       "   'D': 61,\n",
       "   'Y': 61,\n",
       "   'B': 57,\n",
       "   'Z': 55,\n",
       "   'A': 55,\n",
       "   'C': 52,\n",
       "   'W': 46}}}"
      ]
     },
     "execution_count": 20,
     "metadata": {},
     "output_type": "execute_result"
    }
   ],
   "source": [
    "d"
   ]
  },
  {
   "cell_type": "markdown",
   "id": "17269be5-8f61-4980-a1a7-5dbdb55d6410",
   "metadata": {},
   "source": [
    "## Field `DT_min`"
   ]
  },
  {
   "cell_type": "code",
   "execution_count": 21,
   "id": "544baac0-2f0f-4812-bcff-aab9c8d83d7f",
   "metadata": {
    "tags": []
   },
   "outputs": [
    {
     "data": {
      "text/html": [
       "<div>\n",
       "<style scoped>\n",
       "    .dataframe tbody tr th:only-of-type {\n",
       "        vertical-align: middle;\n",
       "    }\n",
       "\n",
       "    .dataframe tbody tr th {\n",
       "        vertical-align: top;\n",
       "    }\n",
       "\n",
       "    .dataframe thead th {\n",
       "        text-align: right;\n",
       "    }\n",
       "</style>\n",
       "<table border=\"1\" class=\"dataframe\">\n",
       "  <thead>\n",
       "    <tr style=\"text-align: right;\">\n",
       "      <th></th>\n",
       "      <th>PID</th>\n",
       "      <th>ECID</th>\n",
       "      <th>DT_min</th>\n",
       "    </tr>\n",
       "  </thead>\n",
       "  <tbody>\n",
       "    <tr>\n",
       "      <th>0</th>\n",
       "      <td>P0</td>\n",
       "      <td>EC18</td>\n",
       "      <td>2023-03-18</td>\n",
       "    </tr>\n",
       "    <tr>\n",
       "      <th>1</th>\n",
       "      <td>P0</td>\n",
       "      <td>EC140</td>\n",
       "      <td>2023-03-19</td>\n",
       "    </tr>\n",
       "    <tr>\n",
       "      <th>2</th>\n",
       "      <td>P0</td>\n",
       "      <td>EC23</td>\n",
       "      <td>2023-03-19</td>\n",
       "    </tr>\n",
       "    <tr>\n",
       "      <th>3</th>\n",
       "      <td>P0</td>\n",
       "      <td>EC141</td>\n",
       "      <td>2023-03-20</td>\n",
       "    </tr>\n",
       "    <tr>\n",
       "      <th>4</th>\n",
       "      <td>P0</td>\n",
       "      <td>EC142</td>\n",
       "      <td>2023-03-20</td>\n",
       "    </tr>\n",
       "    <tr>\n",
       "      <th>...</th>\n",
       "      <td>...</td>\n",
       "      <td>...</td>\n",
       "      <td>...</td>\n",
       "    </tr>\n",
       "    <tr>\n",
       "      <th>220</th>\n",
       "      <td>P6</td>\n",
       "      <td>EC15</td>\n",
       "      <td>2023-03-21</td>\n",
       "    </tr>\n",
       "    <tr>\n",
       "      <th>221</th>\n",
       "      <td>P6</td>\n",
       "      <td>EC93</td>\n",
       "      <td>2023-03-23</td>\n",
       "    </tr>\n",
       "    <tr>\n",
       "      <th>222</th>\n",
       "      <td>P6</td>\n",
       "      <td>EC195</td>\n",
       "      <td>2023-03-25</td>\n",
       "    </tr>\n",
       "    <tr>\n",
       "      <th>223</th>\n",
       "      <td>P6</td>\n",
       "      <td>EC173</td>\n",
       "      <td>2023-04-05</td>\n",
       "    </tr>\n",
       "    <tr>\n",
       "      <th>224</th>\n",
       "      <td>P7</td>\n",
       "      <td>EC17</td>\n",
       "      <td>2023-03-18</td>\n",
       "    </tr>\n",
       "  </tbody>\n",
       "</table>\n",
       "<p>225 rows × 3 columns</p>\n",
       "</div>"
      ],
      "text/plain": [
       "    PID   ECID     DT_min\n",
       "0    P0   EC18 2023-03-18\n",
       "1    P0  EC140 2023-03-19\n",
       "2    P0   EC23 2023-03-19\n",
       "3    P0  EC141 2023-03-20\n",
       "4    P0  EC142 2023-03-20\n",
       "..   ..    ...        ...\n",
       "220  P6   EC15 2023-03-21\n",
       "221  P6   EC93 2023-03-23\n",
       "222  P6  EC195 2023-03-25\n",
       "223  P6  EC173 2023-04-05\n",
       "224  P7   EC17 2023-03-18\n",
       "\n",
       "[225 rows x 3 columns]"
      ]
     },
     "execution_count": 21,
     "metadata": {},
     "output_type": "execute_result"
    }
   ],
   "source": [
    "# (a) field and (b) get field-focused df\n",
    "field = 'DT_min'\n",
    "dfx = df[prefix_ids + focal_ids + [field]]\n",
    "dfx"
   ]
  },
  {
   "cell_type": "markdown",
   "id": "a2d95607-bbdc-4267-93ad-3ba55e5b5298",
   "metadata": {},
   "source": [
    "### AgeNumeGrn"
   ]
  },
  {
   "cell_type": "code",
   "execution_count": 22,
   "id": "8ecb820d-a040-4386-92df-8012a093bb7c",
   "metadata": {
    "tags": []
   },
   "outputs": [
    {
     "name": "stdout",
     "output_type": "stream",
     "text": [
      "DTDftGrn\n",
      "DT_min-DTDftGrn\n",
      "EC@DT_min-DTDftGrn\n"
     ]
    }
   ],
   "source": [
    "# (c) grain\n",
    "grain = 'DTDftGrn'\n",
    "field2grain = '-'.join([field, grain])\n",
    "recfield2grain = RecName + '@' + field2grain\n",
    "print(grain)\n",
    "print(field2grain)\n",
    "print(recfield2grain)"
   ]
  },
  {
   "cell_type": "code",
   "execution_count": 23,
   "id": "c9236268-2131-41d6-af56-3d3e4281fda8",
   "metadata": {
    "tags": []
   },
   "outputs": [
    {
     "name": "stdout",
     "output_type": "stream",
     "text": [
      "{'_padding': 0, '_missing': 1, 'Yx': 2, 'Y2010': 3, 'Y2011': 4, 'Y2012': 5, 'Y2013': 6, 'Y2014': 7, 'Y2015': 8, 'Y2016': 9, 'Y2017': 10, 'Y2018': 11, 'Y2019': 12, 'Y2020': 13, 'Y2021': 14, 'Y2022': 15, 'Y2023': 16, 'Y2024': 17, 'Y2025': 18, 'Y2026': 19, 'Y2027': 20, 'Y2028': 21, 'Y2029': 22, 'Mx': 23, 'M1': 24, 'M2': 25, 'M3': 26, 'M4': 27, 'M5': 28, 'M6': 29, 'M7': 30, 'M8': 31, 'M9': 32, 'M10': 33, 'M11': 34, 'M12': 35, 'Dx': 36, 'D1': 37, 'D2': 38, 'D3': 39, 'D4': 40, 'D5': 41, 'D6': 42, 'D7': 43, 'D8': 44, 'D9': 45, 'D10': 46, 'D11': 47, 'D12': 48, 'D13': 49, 'D14': 50, 'D15': 51, 'D16': 52, 'D17': 53, 'D18': 54, 'D19': 55, 'D20': 56, 'D21': 57, 'D22': 58, 'D23': 59, 'D24': 60, 'D25': 61, 'D26': 62, 'D27': 63, 'D28': 64, 'D29': 65, 'D30': 66, 'D31': 67, 'Sx': 68, 'S1': 69, 'S2': 70, 'S3': 71, 'S4': 72, 'Wx': 73, 'W1': 74, 'W2': 75, 'W3': 76, 'W4': 77, 'W5': 78, 'W6': 79, 'W7': 80, 'WYx': 81, 'WY1': 82, 'WY2': 83, 'WY3': 84, 'WY4': 85, 'WY5': 86, 'WY6': 87, 'WY7': 88, 'WY8': 89, 'WY9': 90, 'WY10': 91, 'WY11': 92, 'WY12': 93, 'WY13': 94, 'WY14': 95, 'WY15': 96, 'WY16': 97, 'WY17': 98, 'WY18': 99, 'WY19': 100, 'WY20': 101, 'WY21': 102, 'WY22': 103, 'WY23': 104, 'WY24': 105, 'WY25': 106, 'WY26': 107, 'WY27': 108, 'WY28': 109, 'WY29': 110, 'WY30': 111, 'WY31': 112, 'WY32': 113, 'WY33': 114, 'WY34': 115, 'WY35': 116, 'WY36': 117, 'WY37': 118, 'WY38': 119, 'WY39': 120, 'WY40': 121, 'WY41': 122, 'WY42': 123, 'WY43': 124, 'WY44': 125, 'WY45': 126, 'WY46': 127, 'WY47': 128, 'WY48': 129, 'WY49': 130, 'WY50': 131, 'WY51': 132, 'WY52': 133, 'WY53': 134, 'WY54': 135, 'WY55': 136, 'Hx': 137, 'H0': 138, 'H1': 139, 'H2': 140, 'H3': 141, 'H4': 142, 'H5': 143, 'H6': 144, 'H7': 145, 'H8': 146, 'H9': 147, 'H10': 148, 'H11': 149, 'H12': 150, 'H13': 151, 'H14': 152, 'H15': 153, 'H16': 154, 'H17': 155, 'H18': 156, 'H19': 157, 'H20': 158, 'H21': 159, 'H22': 160, 'H23': 161}\n"
     ]
    },
    {
     "data": {
      "text/plain": [
       "0      [16, 26, 54, 69, 79, 93, 138]\n",
       "1      [16, 26, 55, 69, 80, 93, 138]\n",
       "2      [16, 26, 55, 69, 80, 93, 138]\n",
       "3      [16, 26, 56, 69, 74, 94, 138]\n",
       "4      [16, 26, 56, 69, 74, 94, 138]\n",
       "                   ...              \n",
       "220    [16, 26, 57, 69, 75, 94, 138]\n",
       "221    [16, 26, 59, 69, 77, 94, 138]\n",
       "222    [16, 26, 61, 69, 79, 94, 138]\n",
       "223    [16, 27, 41, 70, 76, 96, 138]\n",
       "224    [16, 26, 54, 69, 79, 93, 138]\n",
       "Name: DT_min, Length: 225, dtype: object"
      ]
     },
     "execution_count": 23,
     "metadata": {},
     "output_type": "execute_result"
    }
   ],
   "source": [
    "from recfldgrn.grains.misc.dt_grn import load_DTgrn_Dictionary\n",
    "from transformers import AutoTokenizer\n",
    "\n",
    "if 'Nume' in grain:\n",
    "    # print('Current grain is a numeric grain')\n",
    "    grain_wgt_fn = Field2Grain_2_get_GrnWgtList_Fn[recfield2grain]\n",
    "    series_wgt = dfx[field].apply(grain_wgt_fn)\n",
    "    Vocab = {'v2idx': len(series_wgt.iloc[0]) * [1]}\n",
    "    v2idx = Vocab['v2idx']\n",
    "\n",
    "elif 'DT' in grain:\n",
    "    grain_str_fn = Field2Grain_2_get_GrnStrList_Fn[recfield2grain]\n",
    "    series_str = dfx[field].apply(grain_str_fn)\n",
    "    Vocab = load_DTgrn_Dictionary()\n",
    "    v2idx = Vocab['v2idx']\n",
    "    \n",
    "elif 'Tknz' in grain:\n",
    "    tokenizer = AutoTokenizer.from_pretrained(\"bert-base-uncased\")\n",
    "    v2idx = tokenizer\n",
    "    Vocab = {'v2idx': v2idx}\n",
    "\n",
    "else:\n",
    "    grain_str_fn = Field2Grain_2_get_GrnStrList_Fn[recfield2grain]\n",
    "    series_str = dfx[field].apply(grain_str_fn)\n",
    "    Vocab = generate_grain_vocab_info(series_str)\n",
    "    v2idx = Vocab['v2idx']\n",
    "\n",
    "print(v2idx)\n",
    "grain_idx_fn = Field2Grain_2_get_GrnIdxList_Fn[recfield2grain]\n",
    "series_idx = dfx[field].apply(lambda x: grain_idx_fn(x, v2idx))\n",
    "series_idx\n"
   ]
  },
  {
   "cell_type": "code",
   "execution_count": 24,
   "id": "1cfa622a-b396-41eb-9ea7-d994d01e7476",
   "metadata": {
    "tags": []
   },
   "outputs": [],
   "source": [
    "d = {}\n",
    "d['RecName'] = RecName\n",
    "\n",
    "d['prefix_ids'] = prefix_ids\n",
    "d['focal_ids'] = focal_ids \n",
    "d['field_list'] = field_list\n",
    "\n",
    "\n",
    "d['field'] = field\n",
    "d['grain'] = grain\n",
    "d['field2grain'] = field2grain\n",
    "d['recfield2grain'] = recfield2grain\n",
    "d['Vocab'] = Vocab\n",
    "\n",
    "FieldGrainInfo.append(d)"
   ]
  },
  {
   "cell_type": "markdown",
   "id": "9dae8268-b49e-4944-a372-47c763ec9dfd",
   "metadata": {},
   "source": [
    "# Save Field Grain Info\n",
    "\n"
   ]
  },
  {
   "cell_type": "code",
   "execution_count": 25,
   "id": "d5ccbac2-b6b5-42d3-9e6d-e088b63d644c",
   "metadata": {
    "tags": []
   },
   "outputs": [
    {
     "data": {
      "text/html": [
       "<div>\n",
       "<style scoped>\n",
       "    .dataframe tbody tr th:only-of-type {\n",
       "        vertical-align: middle;\n",
       "    }\n",
       "\n",
       "    .dataframe tbody tr th {\n",
       "        vertical-align: top;\n",
       "    }\n",
       "\n",
       "    .dataframe thead th {\n",
       "        text-align: right;\n",
       "    }\n",
       "</style>\n",
       "<table border=\"1\" class=\"dataframe\">\n",
       "  <thead>\n",
       "    <tr style=\"text-align: right;\">\n",
       "      <th></th>\n",
       "      <th>RecName</th>\n",
       "      <th>prefix_ids</th>\n",
       "      <th>focal_ids</th>\n",
       "      <th>field_list</th>\n",
       "      <th>field</th>\n",
       "      <th>grain</th>\n",
       "      <th>field2grain</th>\n",
       "      <th>recfield2grain</th>\n",
       "      <th>Vocab</th>\n",
       "    </tr>\n",
       "  </thead>\n",
       "  <tbody>\n",
       "    <tr>\n",
       "      <th>0</th>\n",
       "      <td>EC</td>\n",
       "      <td>[PID]</td>\n",
       "      <td>[ECID]</td>\n",
       "      <td>[BasicInfo, DT_min]</td>\n",
       "      <td>BasicInfo</td>\n",
       "      <td>BasicDftGrn</td>\n",
       "      <td>BasicInfo-BasicDftGrn</td>\n",
       "      <td>EC@BasicInfo-BasicDftGrn</td>\n",
       "      <td>{'idx2v': {0: '_padding', 1: 'X', 2: 'D', 3: '...</td>\n",
       "    </tr>\n",
       "    <tr>\n",
       "      <th>1</th>\n",
       "      <td>EC</td>\n",
       "      <td>[PID]</td>\n",
       "      <td>[ECID]</td>\n",
       "      <td>[BasicInfo, DT_min]</td>\n",
       "      <td>DT_min</td>\n",
       "      <td>DTDftGrn</td>\n",
       "      <td>DT_min-DTDftGrn</td>\n",
       "      <td>EC@DT_min-DTDftGrn</td>\n",
       "      <td>{'idx2v': {0: '_padding', 1: '_missing', 2: 'Y...</td>\n",
       "    </tr>\n",
       "  </tbody>\n",
       "</table>\n",
       "</div>"
      ],
      "text/plain": [
       "  RecName prefix_ids focal_ids           field_list      field        grain  \\\n",
       "0      EC      [PID]    [ECID]  [BasicInfo, DT_min]  BasicInfo  BasicDftGrn   \n",
       "1      EC      [PID]    [ECID]  [BasicInfo, DT_min]     DT_min     DTDftGrn   \n",
       "\n",
       "             field2grain            recfield2grain  \\\n",
       "0  BasicInfo-BasicDftGrn  EC@BasicInfo-BasicDftGrn   \n",
       "1        DT_min-DTDftGrn        EC@DT_min-DTDftGrn   \n",
       "\n",
       "                                               Vocab  \n",
       "0  {'idx2v': {0: '_padding', 1: 'X', 2: 'D', 3: '...  \n",
       "1  {'idx2v': {0: '_padding', 1: '_missing', 2: 'Y...  "
      ]
     },
     "execution_count": 25,
     "metadata": {},
     "output_type": "execute_result"
    }
   ],
   "source": [
    "df_FieldGrainInfo = pd.DataFrame(FieldGrainInfo)\n",
    "df_FieldGrainInfo"
   ]
  },
  {
   "cell_type": "code",
   "execution_count": 26,
   "id": "40db996c-d8fa-4100-9d64-9ab55a6b5559",
   "metadata": {
    "tags": []
   },
   "outputs": [],
   "source": [
    "fldgrn_folder = 'data/ProcData/FldGrnInfo'\n",
    "\n",
    "if not os.path.exists(fldgrn_folder): os.makedirs(fldgrn_folder)\n",
    "\n",
    "fullfldgrn_file = os.path.join(fldgrn_folder, RecName + '.p')\n",
    "df_FieldGrainInfo.to_pickle(fullfldgrn_file)"
   ]
  },
  {
   "cell_type": "code",
   "execution_count": null,
   "id": "1aa254d3-fb3f-4278-baa5-8c120bfd31c2",
   "metadata": {},
   "outputs": [],
   "source": []
  },
  {
   "cell_type": "code",
   "execution_count": null,
   "id": "14a97b4e-badc-4019-9868-3ab852a53204",
   "metadata": {},
   "outputs": [],
   "source": []
  }
 ],
 "metadata": {
  "kernelspec": {
   "display_name": "Python 3 (ipykernel)",
   "language": "python",
   "name": "python3"
  },
  "language_info": {
   "codemirror_mode": {
    "name": "ipython",
    "version": 3
   },
   "file_extension": ".py",
   "mimetype": "text/x-python",
   "name": "python",
   "nbconvert_exporter": "python",
   "pygments_lexer": "ipython3",
   "version": "3.8.8"
  }
 },
 "nbformat": 4,
 "nbformat_minor": 5
}
