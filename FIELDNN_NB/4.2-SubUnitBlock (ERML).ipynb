{
 "cells": [
  {
   "cell_type": "code",
   "execution_count": 1,
   "id": "d0c6d4c1-3173-4cea-a5c3-804177c1bac3",
   "metadata": {
    "tags": []
   },
   "outputs": [
    {
     "name": "stdout",
     "output_type": "stream",
     "text": [
      "/Users/floydluo/Library/CloudStorage/GoogleDrive-jjluo@terpmail.umd.edu/My Drive/0-Research-Project/MedStar/MS_CODE/FieldNN\n"
     ]
    }
   ],
   "source": [
    "%cd .."
   ]
  },
  {
   "cell_type": "markdown",
   "id": "3d27c120-6816-4db6-8c88-54e8d6654829",
   "metadata": {},
   "source": [
    "# Embed"
   ]
  },
  {
   "cell_type": "markdown",
   "id": "a0adae86-76b3-4270-8c12-23bfe55c7ea7",
   "metadata": {},
   "source": [
    "## Get Input Tensor"
   ]
  },
  {
   "cell_type": "code",
   "execution_count": 2,
   "id": "de62ac46-e9a2-42f2-acbb-81d464b7510b",
   "metadata": {
    "tags": []
   },
   "outputs": [
    {
     "name": "stdout",
     "output_type": "stream",
     "text": [
      "4 <---- dataset\n",
      "1 <---- dataset\n",
      "B-P@PatEcInfo-InfoGrn_wgt torch.Size([4, 43])\n",
      "B-P@PatEcInfo-InfoGrn_tknidx torch.Size([4, 43])\n",
      "B-P@PatEcInfo-InfoGrn_fldidx torch.Size([4, 43])\n",
      "B-P-EC-PNSect@AllText-TknzGrn_wgt torch.Size([4, 23, 14, 221])\n",
      "B-P-EC-PNSect@AllText-TknzGrn_tknidx torch.Size([4, 23, 14, 221])\n",
      "B-P-EC-PNSect@AllText-TknzGrn_fldidx torch.Size([4, 23, 14, 221])\n"
     ]
    }
   ],
   "source": [
    "import os\n",
    "from fieldnn.dataset import RFGDataset, my_collate_fn\n",
    "from torch.utils.data import DataLoader\n",
    "\n",
    "Tensor_folder = 'data/ProcData/FldGrnTensor/'\n",
    "recfldgrn_list = ['P@PatEcInfo-InfoGrn',  'P-EC-PNSect@AllText-TknzGrn']\n",
    "full_recfldgrn_list = ['B-' + i for i in recfldgrn_list]\n",
    "\n",
    "# from the get_grain_fn to get the Elig_Set.\n",
    "Elig_Set = ['P4', 'P5', 'P6', 'P7']\n",
    "\n",
    "dataset = RFGDataset(Tensor_folder, recfldgrn_list, Elig_Set, RecRootID = 'PID')\n",
    "print(len(dataset), '<---- dataset')\n",
    "dataloader = DataLoader(dataset, batch_size = 4, shuffle = True, collate_fn = my_collate_fn)\n",
    "print(len(dataloader), '<---- dataset')\n",
    "\n",
    "\n",
    "for idx, batch in enumerate(dataloader):\n",
    "    # print(f'\\n------ {idx}')\n",
    "    batch_rfg, batch_y = batch\n",
    "    for k, v in batch_rfg.items(): print(k, v.shape)\n",
    "    break\n",
    "    # for k, v in batch_rfg.items(): print(k, v.shape)\n",
    "    # print(batch_y.shape)"
   ]
  },
  {
   "cell_type": "code",
   "execution_count": 3,
   "id": "b27333e2-3eed-41c2-b29d-580151f7f64f",
   "metadata": {
    "tags": []
   },
   "outputs": [
    {
     "data": {
      "text/plain": [
       "['B-P@PatEcInfo-InfoGrn', 'B-P-EC-PNSect@AllText-TknzGrn']"
      ]
     },
     "execution_count": 3,
     "metadata": {},
     "output_type": "execute_result"
    }
   ],
   "source": [
    "# Prepare the Input\n",
    "RECFLD_TO_TENSOR = {}\n",
    "for full_recfldgrn in full_recfldgrn_list:\n",
    "    RECFLD_TO_TENSOR[full_recfldgrn] = {k: v for k, v in batch_rfg.items() if full_recfldgrn in k}\n",
    "    \n",
    "[i for i in RECFLD_TO_TENSOR]"
   ]
  },
  {
   "cell_type": "code",
   "execution_count": 4,
   "id": "34e7e92f-ef14-4619-8e6a-8060efb47d04",
   "metadata": {
    "tags": []
   },
   "outputs": [
    {
     "data": {
      "text/html": [
       "<div>\n",
       "<style scoped>\n",
       "    .dataframe tbody tr th:only-of-type {\n",
       "        vertical-align: middle;\n",
       "    }\n",
       "\n",
       "    .dataframe tbody tr th {\n",
       "        vertical-align: top;\n",
       "    }\n",
       "\n",
       "    .dataframe thead th {\n",
       "        text-align: right;\n",
       "    }\n",
       "</style>\n",
       "<table border=\"1\" class=\"dataframe\">\n",
       "  <thead>\n",
       "    <tr style=\"text-align: right;\">\n",
       "      <th></th>\n",
       "      <th>SubUnitName</th>\n",
       "      <th>input_names</th>\n",
       "      <th>output_name</th>\n",
       "      <th>output_layerid</th>\n",
       "      <th>SubUnit_BasicNN_List</th>\n",
       "      <th>SubUnit_DefaultBasicNN_List</th>\n",
       "      <th>SubUnit_BasicNN_Config_List</th>\n",
       "    </tr>\n",
       "  </thead>\n",
       "  <tbody>\n",
       "    <tr>\n",
       "      <th>0</th>\n",
       "      <td>E</td>\n",
       "      <td>[B-P@PatEcInfo-InfoGrn]</td>\n",
       "      <td>B-P@PatEcInfo-Info</td>\n",
       "      <td>3</td>\n",
       "      <td>[expander-CateEmbed]</td>\n",
       "      <td>[{'full_recfldgrn': 'B-P@PatEcInfo-InfoGrn', '...</td>\n",
       "      <td>[{'nn_type_nn_name': 'expander-CateEmbed', 'Ba...</td>\n",
       "    </tr>\n",
       "    <tr>\n",
       "      <th>1</th>\n",
       "      <td>E</td>\n",
       "      <td>[B-P-EC-PNSect@AllText-TknzGrn]</td>\n",
       "      <td>B-P-EC-PNSect@AllText-Tknz</td>\n",
       "      <td>5</td>\n",
       "      <td>[expander-LLMEmbed]</td>\n",
       "      <td>[{'full_recfldgrn': 'B-P-EC-PNSect@AllText-Tkn...</td>\n",
       "      <td>[{'nn_type_nn_name': 'expander-LLMEmbed', 'Bas...</td>\n",
       "    </tr>\n",
       "  </tbody>\n",
       "</table>\n",
       "</div>"
      ],
      "text/plain": [
       "  SubUnitName                      input_names                 output_name  \\\n",
       "0           E          [B-P@PatEcInfo-InfoGrn]          B-P@PatEcInfo-Info   \n",
       "1           E  [B-P-EC-PNSect@AllText-TknzGrn]  B-P-EC-PNSect@AllText-Tknz   \n",
       "\n",
       "   output_layerid  SubUnit_BasicNN_List  \\\n",
       "0               3  [expander-CateEmbed]   \n",
       "1               5   [expander-LLMEmbed]   \n",
       "\n",
       "                         SubUnit_DefaultBasicNN_List  \\\n",
       "0  [{'full_recfldgrn': 'B-P@PatEcInfo-InfoGrn', '...   \n",
       "1  [{'full_recfldgrn': 'B-P-EC-PNSect@AllText-Tkn...   \n",
       "\n",
       "                         SubUnit_BasicNN_Config_List  \n",
       "0  [{'nn_type_nn_name': 'expander-CateEmbed', 'Ba...  \n",
       "1  [{'nn_type_nn_name': 'expander-LLMEmbed', 'Bas...  "
      ]
     },
     "execution_count": 4,
     "metadata": {},
     "output_type": "execute_result"
    }
   ],
   "source": [
    "from fieldnn.dataflowfn.embedflowfn import get_EmbeddingBlock_SubUnit\n",
    "\n",
    "from fieldnn.dataflowfn.baseflowfn import mapping_SubUnitName_to_SubUnitNNList\n",
    "from fieldnn.dataflowfn.baseflowfn import get_SubUnit_Default_NNPara_List\n",
    "from fieldnn.dataflowfn.baseflowfn import get_SubUnit_BasicNN_Config_List\n",
    "\n",
    "############################################# Hyperparameters\n",
    "default_BasicNNtype_To_NNName = {\n",
    "    'expander': None, # will be updated according to the Grn Type\n",
    "    'reducer': 'Max',\n",
    "    'merger': 'Merger',\n",
    "    'learner': None, # TODO: ignore this currently\n",
    "    \n",
    "}\n",
    "#############################################\n",
    "\n",
    "############################\n",
    "embed_size = 128\n",
    "process = {'activator': 'gelu',\n",
    "           'dropout': {'p': 0.5, 'inplace': False},\n",
    "           'layernorm': {'eps': 1e-05, 'elementwise_affine': True}}\n",
    "############################\n",
    "\n",
    "\n",
    "default_SubUnitName = 'E'\n",
    "fldgrn_folder = 'data/ProcData/FldGrnInfo'\n",
    "learner_default_dict = {} # To update it in the future. \n",
    "\n",
    "\n",
    "df_SubUnit = get_EmbeddingBlock_SubUnit(full_recfldgrn_list, default_SubUnitName)\n",
    "\n",
    "s = df_SubUnit.apply(lambda x: mapping_SubUnitName_to_SubUnitNNList(x['SubUnitName'], \n",
    "                                                                    x['input_names'],\n",
    "                                                                    default_BasicNNtype_To_NNName), \n",
    "                    axis = 1)\n",
    "df_SubUnit['SubUnit_BasicNN_List'] = s\n",
    "s = df_SubUnit.apply(lambda x: get_SubUnit_Default_NNPara_List(x['SubUnit_BasicNN_List'], \n",
    "                                                               x['input_names'],\n",
    "                                                               fldgrn_folder, \n",
    "                                                               learner_default_dict), axis = 1)\n",
    "\n",
    "df_SubUnit['SubUnit_DefaultBasicNN_List'] = s\n",
    "\n",
    "\n",
    "\n",
    "s = df_SubUnit.apply(lambda x: get_SubUnit_BasicNN_Config_List(x['SubUnit_BasicNN_List'], \n",
    "                                                               x['SubUnit_DefaultBasicNN_List'], \n",
    "                                                               x['input_names'], \n",
    "                                                               x['output_name'], \n",
    "                                                                embed_size, \n",
    "                                                                process, \n",
    "                                                               ), axis = 1)\n",
    "\n",
    "df_SubUnit['SubUnit_BasicNN_Config_List'] = s\n",
    "df_SubUnit"
   ]
  },
  {
   "cell_type": "code",
   "execution_count": 5,
   "id": "e3f99ca3-f1d1-4a9f-a6c9-74d8849c416e",
   "metadata": {
    "tags": []
   },
   "outputs": [
    {
     "name": "stderr",
     "output_type": "stream",
     "text": [
      "Some weights of the model checkpoint at bert-base-uncased were not used when initializing BertModel: ['cls.seq_relationship.weight', 'cls.seq_relationship.bias', 'cls.predictions.transform.dense.bias', 'cls.predictions.bias', 'cls.predictions.transform.LayerNorm.bias', 'cls.predictions.transform.LayerNorm.weight', 'cls.predictions.transform.dense.weight', 'cls.predictions.decoder.weight']\n",
      "- This IS expected if you are initializing BertModel from the checkpoint of a model trained on another task or with another architecture (e.g. initializing a BertForSequenceClassification model from a BertForPreTraining model).\n",
      "- This IS NOT expected if you are initializing BertModel from the checkpoint of a model that you expect to be exactly identical (initializing a BertForSequenceClassification model from a BertForSequenceClassification model).\n"
     ]
    },
    {
     "name": "stdout",
     "output_type": "stream",
     "text": [
      "B-P@PatEcInfo-Info torch.Size([4, 43, 128])\n",
      "B-P-EC-PNSect@AllText-Tknz torch.Size([4, 23, 14, 221, 128])\n"
     ]
    }
   ],
   "source": [
    "from fieldnn.module.embedblock import EmbedBlockLayer\n",
    "\n",
    "EmbedBlock = EmbedBlockLayer(df_SubUnit)\n",
    "\n",
    "RECFLD_TO_EMBEDTESNOR = EmbedBlock(RECFLD_TO_TENSOR)\n",
    "\n",
    "for k, v in RECFLD_TO_EMBEDTESNOR.items():\n",
    "    print(k, v['info'].shape)"
   ]
  },
  {
   "cell_type": "markdown",
   "id": "dd281abb-1312-41ba-a48f-c0b5cb1c09f5",
   "metadata": {},
   "source": [
    "## Get df_SubUnit\n",
    "\n",
    "### Get Original df_SubUnit"
   ]
  },
  {
   "cell_type": "code",
   "execution_count": 6,
   "id": "d35340d3-9018-414e-b986-49b0ed045690",
   "metadata": {
    "tags": []
   },
   "outputs": [
    {
     "data": {
      "text/html": [
       "<div>\n",
       "<style scoped>\n",
       "    .dataframe tbody tr th:only-of-type {\n",
       "        vertical-align: middle;\n",
       "    }\n",
       "\n",
       "    .dataframe tbody tr th {\n",
       "        vertical-align: top;\n",
       "    }\n",
       "\n",
       "    .dataframe thead th {\n",
       "        text-align: right;\n",
       "    }\n",
       "</style>\n",
       "<table border=\"1\" class=\"dataframe\">\n",
       "  <thead>\n",
       "    <tr style=\"text-align: right;\">\n",
       "      <th></th>\n",
       "      <th>SubUnitName</th>\n",
       "      <th>input_names</th>\n",
       "      <th>output_name</th>\n",
       "      <th>output_layerid</th>\n",
       "    </tr>\n",
       "  </thead>\n",
       "  <tbody>\n",
       "    <tr>\n",
       "      <th>0</th>\n",
       "      <td>EL</td>\n",
       "      <td>[B-P@PatEcInfo-InfoGrn]</td>\n",
       "      <td>B-P@PatEcInfo-Info</td>\n",
       "      <td>3</td>\n",
       "    </tr>\n",
       "    <tr>\n",
       "      <th>1</th>\n",
       "      <td>EL</td>\n",
       "      <td>[B-P-EC-PNSect@AllText-TknzGrn]</td>\n",
       "      <td>B-P-EC-PNSect@AllText-Tknz</td>\n",
       "      <td>5</td>\n",
       "    </tr>\n",
       "  </tbody>\n",
       "</table>\n",
       "</div>"
      ],
      "text/plain": [
       "  SubUnitName                      input_names                 output_name  \\\n",
       "0          EL          [B-P@PatEcInfo-InfoGrn]          B-P@PatEcInfo-Info   \n",
       "1          EL  [B-P-EC-PNSect@AllText-TknzGrn]  B-P-EC-PNSect@AllText-Tknz   \n",
       "\n",
       "   output_layerid  \n",
       "0               3  \n",
       "1               5  "
      ]
     },
     "execution_count": 6,
     "metadata": {},
     "output_type": "execute_result"
    }
   ],
   "source": [
    "from fieldnn.dataflowfn.embedflowfn import get_EmbeddingBlock_SubUnit\n",
    "from fieldnn.dataflowfn.baseflowfn import mapping_SubUnitName_to_SubUnitNNList\n",
    "from fieldnn.dataflowfn.baseflowfn import get_SubUnit_Default_NNPara_List\n",
    "from fieldnn.dataflowfn.baseflowfn import get_SubUnit_BasicNN_Config_List\n",
    "\n",
    "############################################# Hyperparameters\n",
    "default_BasicNNtype_To_NNName = {\n",
    "    'expander': None, # will be updated according to the Grn Type\n",
    "    'reducer': 'Max',\n",
    "    'merger': 'Merger',\n",
    "    'learner': None, # TODO: ignore this currently\n",
    "    \n",
    "}\n",
    "#############################################\n",
    "\n",
    "############################\n",
    "embed_size = 128\n",
    "process = {'activator': 'gelu',\n",
    "           'dropout': {'p': 0.5, 'inplace': False},\n",
    "           'layernorm': {'eps': 1e-05, 'elementwise_affine': True}}\n",
    "############################\n",
    "\n",
    "############################### NEW THING: replace E with EL\n",
    "default_SubUnitName = 'EL'\n",
    "fldgrn_folder = 'data/ProcData/FldGrnInfo'\n",
    "\n",
    "\n",
    "import pandas as pd\n",
    "def get_EmbeddingBlock_SubUnit(full_recfldgrn_list, default_R_subunit_name = 'E'):\n",
    "    SubUnit_List = []\n",
    "    for input_name in full_recfldgrn_list:\n",
    "        d = {}\n",
    "        d['SubUnitName'] = default_R_subunit_name\n",
    "        \n",
    "        recfldgrn = '-'.join(input_name.split('-')[-2:])\n",
    "        output_layerid = len(input_name.split('-'))\n",
    "        output_name = input_name.split('Grn')[0]\n",
    "        \n",
    "        d['input_names'] = [input_name]\n",
    "        d['output_name'] = output_name\n",
    "        \n",
    "        d['output_layerid'] = output_layerid\n",
    "        \n",
    "        SubUnit_List.append(d)\n",
    "        \n",
    "    df_SubUnit = pd.DataFrame(SubUnit_List)\n",
    "    \n",
    "    return df_SubUnit\n",
    "\n",
    "\n",
    "default_R_subunit_name = 'EL'\n",
    "df_SubUnit = get_EmbeddingBlock_SubUnit(full_recfldgrn_list, default_R_subunit_name)\n",
    "df_SubUnit"
   ]
  },
  {
   "cell_type": "markdown",
   "id": "ad113120-d98c-4083-ad2d-9d238e19f355",
   "metadata": {},
   "source": [
    "### Get SubUnit Name's NN List"
   ]
  },
  {
   "cell_type": "code",
   "execution_count": 7,
   "id": "86bf288c-13e6-4785-aa03-1ccbf889772b",
   "metadata": {
    "tags": []
   },
   "outputs": [
    {
     "data": {
      "text/html": [
       "<div>\n",
       "<style scoped>\n",
       "    .dataframe tbody tr th:only-of-type {\n",
       "        vertical-align: middle;\n",
       "    }\n",
       "\n",
       "    .dataframe tbody tr th {\n",
       "        vertical-align: top;\n",
       "    }\n",
       "\n",
       "    .dataframe thead th {\n",
       "        text-align: right;\n",
       "    }\n",
       "</style>\n",
       "<table border=\"1\" class=\"dataframe\">\n",
       "  <thead>\n",
       "    <tr style=\"text-align: right;\">\n",
       "      <th></th>\n",
       "      <th>SubUnitName</th>\n",
       "      <th>input_names</th>\n",
       "      <th>output_name</th>\n",
       "      <th>output_layerid</th>\n",
       "      <th>SubUnit_BasicNN_List</th>\n",
       "    </tr>\n",
       "  </thead>\n",
       "  <tbody>\n",
       "    <tr>\n",
       "      <th>0</th>\n",
       "      <td>EL</td>\n",
       "      <td>[B-P@PatEcInfo-InfoGrn]</td>\n",
       "      <td>B-P@PatEcInfo-Info</td>\n",
       "      <td>3</td>\n",
       "      <td>[expander-CateEmbed, learner-TFM]</td>\n",
       "    </tr>\n",
       "    <tr>\n",
       "      <th>1</th>\n",
       "      <td>EL</td>\n",
       "      <td>[B-P-EC-PNSect@AllText-TknzGrn]</td>\n",
       "      <td>B-P-EC-PNSect@AllText-Tknz</td>\n",
       "      <td>5</td>\n",
       "      <td>[expander-LLMEmbed, learner-TFM]</td>\n",
       "    </tr>\n",
       "  </tbody>\n",
       "</table>\n",
       "</div>"
      ],
      "text/plain": [
       "  SubUnitName                      input_names                 output_name  \\\n",
       "0          EL          [B-P@PatEcInfo-InfoGrn]          B-P@PatEcInfo-Info   \n",
       "1          EL  [B-P-EC-PNSect@AllText-TknzGrn]  B-P-EC-PNSect@AllText-Tknz   \n",
       "\n",
       "   output_layerid               SubUnit_BasicNN_List  \n",
       "0               3  [expander-CateEmbed, learner-TFM]  \n",
       "1               5   [expander-LLMEmbed, learner-TFM]  "
      ]
     },
     "execution_count": 7,
     "metadata": {},
     "output_type": "execute_result"
    }
   ],
   "source": [
    "def mapping_SubUnitName_to_SubUnitNNList(SubUnitName, input_names, \n",
    "                                         default_BasicNNtype_To_NNName):\n",
    "    SubUnitNNList = []\n",
    "    for idx, NAME in enumerate(SubUnitName):\n",
    "        if NAME == 'E':\n",
    "            nn_type = 'expander'\n",
    "            input_name = input_names[0]\n",
    "            \n",
    "            assert 'Grn' in input_name\n",
    "            assert len(input_names) == 1\n",
    "            \n",
    "            if 'Tknz' in input_name:\n",
    "                nn_name = 'LLMEmbed'\n",
    "            elif '_wgt' in input_name:\n",
    "                nn_name = 'NumeEmbed'\n",
    "            else:\n",
    "                nn_name = 'CateEmbed'\n",
    "            \n",
    "        elif NAME == 'R':\n",
    "            if idx == 0: assert len(input_names) == 1\n",
    "            nn_type = 'reducer'\n",
    "            nn_name = default_BasicNNtype_To_NNName[nn_type]\n",
    "            \n",
    "        elif NAME == 'M':\n",
    "            nn_type = 'merger'\n",
    "            nn_name = default_BasicNNtype_To_NNName[nn_type]\n",
    "            \n",
    "        elif NAME == 'L':\n",
    "            assert len(input_names) == 1\n",
    "            nn_type = 'learner'\n",
    "            input_name = input_names[0]\n",
    "            layers_num = len(input_name.split('-'))\n",
    "            if layers_num >= 3:\n",
    "                nn_name = 'TFM'\n",
    "            elif layers_num == 2:\n",
    "                nn_name = 'Linear'\n",
    "            else:\n",
    "                raise ValueError(f'incorrect layers_num {layers_num}')\n",
    "            \n",
    "        else:\n",
    "            raise ValueError(f'The BasicNN is not correct {NAME}')\n",
    "        \n",
    "        SubUnitNNList.append(nn_type + '-' + nn_name)\n",
    "    return SubUnitNNList\n",
    "\n",
    "s = df_SubUnit.apply(lambda x: mapping_SubUnitName_to_SubUnitNNList(x['SubUnitName'], \n",
    "                                                                    x['input_names'],\n",
    "                                                                    default_BasicNNtype_To_NNName), \n",
    "                    axis = 1)\n",
    "df_SubUnit['SubUnit_BasicNN_List'] = s\n",
    "\n",
    "df_SubUnit"
   ]
  },
  {
   "cell_type": "markdown",
   "id": "3a7b8bb1-d1bb-448c-8c6f-4111300103de",
   "metadata": {},
   "source": [
    "### Get Default BasicNN Config List"
   ]
  },
  {
   "cell_type": "code",
   "execution_count": 8,
   "id": "86d32c22-0a0d-4253-8b9b-7607a74b62be",
   "metadata": {
    "tags": []
   },
   "outputs": [
    {
     "data": {
      "text/html": [
       "<div>\n",
       "<style scoped>\n",
       "    .dataframe tbody tr th:only-of-type {\n",
       "        vertical-align: middle;\n",
       "    }\n",
       "\n",
       "    .dataframe tbody tr th {\n",
       "        vertical-align: top;\n",
       "    }\n",
       "\n",
       "    .dataframe thead th {\n",
       "        text-align: right;\n",
       "    }\n",
       "</style>\n",
       "<table border=\"1\" class=\"dataframe\">\n",
       "  <thead>\n",
       "    <tr style=\"text-align: right;\">\n",
       "      <th></th>\n",
       "      <th>SubUnitName</th>\n",
       "      <th>input_names</th>\n",
       "      <th>output_name</th>\n",
       "      <th>output_layerid</th>\n",
       "      <th>SubUnit_BasicNN_List</th>\n",
       "      <th>SubUnit_DefaultBasicNN_List</th>\n",
       "    </tr>\n",
       "  </thead>\n",
       "  <tbody>\n",
       "    <tr>\n",
       "      <th>0</th>\n",
       "      <td>EL</td>\n",
       "      <td>[B-P@PatEcInfo-InfoGrn]</td>\n",
       "      <td>B-P@PatEcInfo-Info</td>\n",
       "      <td>3</td>\n",
       "      <td>[expander-CateEmbed, learner-TFM]</td>\n",
       "      <td>[{'full_recfldgrn': 'B-P@PatEcInfo-InfoGrn', '...</td>\n",
       "    </tr>\n",
       "    <tr>\n",
       "      <th>1</th>\n",
       "      <td>EL</td>\n",
       "      <td>[B-P-EC-PNSect@AllText-TknzGrn]</td>\n",
       "      <td>B-P-EC-PNSect@AllText-Tknz</td>\n",
       "      <td>5</td>\n",
       "      <td>[expander-LLMEmbed, learner-TFM]</td>\n",
       "      <td>[{'full_recfldgrn': 'B-P-EC-PNSect@AllText-Tkn...</td>\n",
       "    </tr>\n",
       "  </tbody>\n",
       "</table>\n",
       "</div>"
      ],
      "text/plain": [
       "  SubUnitName                      input_names                 output_name  \\\n",
       "0          EL          [B-P@PatEcInfo-InfoGrn]          B-P@PatEcInfo-Info   \n",
       "1          EL  [B-P-EC-PNSect@AllText-TknzGrn]  B-P-EC-PNSect@AllText-Tknz   \n",
       "\n",
       "   output_layerid               SubUnit_BasicNN_List  \\\n",
       "0               3  [expander-CateEmbed, learner-TFM]   \n",
       "1               5   [expander-LLMEmbed, learner-TFM]   \n",
       "\n",
       "                         SubUnit_DefaultBasicNN_List  \n",
       "0  [{'full_recfldgrn': 'B-P@PatEcInfo-InfoGrn', '...  \n",
       "1  [{'full_recfldgrn': 'B-P-EC-PNSect@AllText-Tkn...  "
      ]
     },
     "execution_count": 8,
     "metadata": {},
     "output_type": "execute_result"
    }
   ],
   "source": [
    "from fieldnn.dataflowfn.embedflowfn import get_Default_ExpanderNNPara\n",
    "\n",
    "def get_SubUnit_Default_NNPara_List(SubUnit_BasicNN_List, SubUnit_input_names, \n",
    "                                    fldgrn_folder, learner_default_dict):\n",
    "    \n",
    "    SubUnit_DefaultBasicNN_List = []\n",
    "    for basic_nn_idx, nn_type_nn_name in enumerate(SubUnit_BasicNN_List):\n",
    "        nn_type, nn_name = nn_type_nn_name.split('-')\n",
    "        \n",
    "        if basic_nn_idx == 0:\n",
    "            # the first BasicNN in the SubUnit\n",
    "            # expander and merger will only be here.\n",
    "            # this assigments only works for the first iteration\n",
    "            # let's make a village rule: only E, R, M can be the first. \n",
    "            assert nn_type in ['expander', 'reducer', 'merger']\n",
    "        \n",
    "            if nn_type == 'expander':\n",
    "                input_names_nnlvl = SubUnit_input_names \n",
    "                assert len(input_names_nnlvl) == 1\n",
    "                full_recfldgrn = input_names_nnlvl[0]\n",
    "                default_para = get_Default_ExpanderNNPara(full_recfldgrn, fldgrn_folder)\n",
    "                \n",
    "            else:\n",
    "                default_para = {}\n",
    "            \n",
    "        else:\n",
    "            assert nn_type in ['reducer', 'learner']\n",
    "            if nn_type == 'learner':\n",
    "                default_para = learner_default_dict[nn_name] # TODO\n",
    "            else:\n",
    "                default_para = {}\n",
    "        \n",
    "        SubUnit_DefaultBasicNN_List.append(default_para)    \n",
    "        \n",
    "    return SubUnit_DefaultBasicNN_List\n",
    "    \n",
    "\n",
    "\n",
    "###########################################################\n",
    "psn_embedprocess = {\n",
    "    # 'activator': 'gelu',\n",
    "    # 'dropout': {'p': 0.5, 'inplace': False},\n",
    "    # 'layernorm': {'eps': 1e-05, 'elementwise_affine': True}\n",
    "}\n",
    "\n",
    "learner_default_dict = {\n",
    "    'TFM': {'psn_max': 512, \n",
    "            'psn_embedprocess': psn_embedprocess},\n",
    "    'Linear': {'initrange': 0.1},   \n",
    "}\n",
    "###########################################################\n",
    "    \n",
    "    \n",
    "s = df_SubUnit.apply(lambda x: get_SubUnit_Default_NNPara_List(x['SubUnit_BasicNN_List'], \n",
    "                                                               x['input_names'],\n",
    "                                                               fldgrn_folder, \n",
    "                                                               learner_default_dict), axis = 1)\n",
    "\n",
    "df_SubUnit['SubUnit_DefaultBasicNN_List'] = s\n",
    "\n",
    "df_SubUnit"
   ]
  },
  {
   "cell_type": "markdown",
   "id": "35648d77-7fca-497d-aeef-91d068be08f0",
   "metadata": {
    "tags": []
   },
   "source": [
    "### Get BasicNN Config List"
   ]
  },
  {
   "cell_type": "code",
   "execution_count": 9,
   "id": "33fbac2e-db55-4c2e-9a37-9db07ddb5f2f",
   "metadata": {
    "tags": []
   },
   "outputs": [],
   "source": [
    "from fieldnn.configfn.expanderfn import get_expander_para\n",
    "from fieldnn.configfn.mergerfn import get_merger_para\n",
    "from fieldnn.configfn.reducerfn import get_reducer_para\n",
    "from fieldnn.configfn.learnerfn import get_learner_para\n",
    "\n",
    "\n",
    "\n",
    "def generate_BasicNN_Config(nn_type_nn_name, \n",
    "                            input_names_nnlvl, \n",
    "                            default_nnpara, \n",
    "                            embed_size, \n",
    "                            process):\n",
    "    '''\n",
    "        please notince here, this function is not the final version yet.\n",
    "    '''\n",
    "    nn_type, nn_name = nn_type_nn_name.split('-')\n",
    "\n",
    "    if nn_type == 'expander':\n",
    "        \n",
    "        assert len(input_names_nnlvl) == 1\n",
    "        # fld = input_names_nnlvl[0].split('-')[-1]\n",
    "        # Get the output_name_nnlvl\n",
    "        output_name_nnlvl = input_names_nnlvl[0].split('Grn')[0]\n",
    "        \n",
    "        # Get the input_size and output_size\n",
    "        input_size = None\n",
    "        output_size = embed_size \n",
    "        \n",
    "        # Get the postprocess\n",
    "        postprocess = process\n",
    "        \n",
    "        # Derive the para\n",
    "        full_recfldgrn = default_nnpara['full_recfldgrn']\n",
    "        Info = default_nnpara['Info']\n",
    "        # para = get_expander_para(nn_name, default_nnpara, embed_size, vocab_tokenizer, init, postprocess)\n",
    "        para = get_expander_para(full_recfldgrn, Info, embed_size, postprocess)\n",
    "\n",
    "    elif nn_type == 'reducer': \n",
    "        \n",
    "        assert len(input_names_nnlvl) == 1\n",
    "        fld = input_names_nnlvl[0].split('-')[-1]\n",
    "        # Get the output_name_nnlvl\n",
    "        output_name_nnlvl = input_names_nnlvl[0].replace('-' + fld, '@' + fld)\n",
    "\n",
    "        # Get the para for the NN layer\n",
    "        nn_para = default_nnpara # this will be updated.\n",
    "\n",
    "        # Get the input_size\n",
    "        input_size = embed_size\n",
    "\n",
    "        # Get the output_size\n",
    "        if nn_name.lower() == 'concat':\n",
    "            # this types of merger only happened in the R in MLRL. \n",
    "            # you can skip this part safely if you haven't encountered M. \n",
    "            fld_childflds = input_names_nnlvl[0].split('-')[-1]\n",
    "            assert '@' in fld_childflds\n",
    "            childflds = fld_childflds.split('@')[-1]\n",
    "            childflds = childflds.split('&')\n",
    "            output_size = len(childflds) * embed_size\n",
    "        else:\n",
    "            # usually the most case. \n",
    "            output_size = embed_size \n",
    "\n",
    "        # Get the postprocess\n",
    "        postprocess = process\n",
    "\n",
    "        # Derive the para\n",
    "        para = get_reducer_para(nn_name, default_nnpara, input_size, output_size, postprocess)  \n",
    "        \n",
    "    elif nn_type == 'merger':\n",
    "        # generate the output name\n",
    "        \n",
    "        assert len(input_names_nnlvl) > 1\n",
    "        # input_names_nnlvl: ['B-P-EC-A1C@DT', 'B-P-EC-A1C@V']\n",
    "        \n",
    "        childflds = [i.split('-')[-1] for i in input_names_nnlvl]\n",
    "        # childflds: ['A1C@DT', 'A1C@V']\n",
    "        \n",
    "        fld_childflds = '&'.join([i.split('@')[-1] for i in childflds])\n",
    "        # fld_childflds: DT&V\n",
    "        \n",
    "        output_prefix = input_names_nnlvl[0].replace('@' + childflds[0].split('@')[-1], '')\n",
    "        # output_prefix: B-P-EC-A1C\n",
    "        \n",
    "        output_name_nnlvl = output_prefix + '-' + fld_childflds\n",
    "        # output_name_nnlvl: B-P-EC-A1C-DT&V\n",
    "        \n",
    "        # Prepare the para for the NN layer\n",
    "        nn_para = default_nnpara # this will be updated.\n",
    "\n",
    "        # Get the input_size\n",
    "        input_size = embed_size\n",
    "        output_size = embed_size\n",
    "\n",
    "        # Get the postprocess\n",
    "        postprocess = process\n",
    "\n",
    "        # Derive the para\n",
    "        para = get_merger_para(nn_name, default_nnpara, input_size, output_size, postprocess) \n",
    "        \n",
    "        \n",
    "    elif nn_type == 'learner':\n",
    "        # generate the output name\n",
    "        assert len(input_names_nnlvl) == 1\n",
    "        output_name_nnlvl = input_names_nnlvl[0] # just the same name as before\n",
    "        \n",
    "        # Prepare the para for the NN layer\n",
    "        nn_para = default_nnpara # this will be updated.\n",
    "\n",
    "        # Get the input_size\n",
    "        input_size = embed_size\n",
    "        output_size = embed_size\n",
    "\n",
    "        # Get the postprocess\n",
    "        postprocess = process\n",
    "\n",
    "        # Derive the para\n",
    "        para = get_learner_para(nn_name, default_nnpara, input_size, output_size, postprocess)\n",
    "        \n",
    "        \n",
    "    else:\n",
    "        raise ValueError(f'nn_type {nn_type} is not available yet')\n",
    "\n",
    "    Basic_Config = {'input_names_nnlvl': input_names_nnlvl, \n",
    "                    'output_name_nnlvl': output_name_nnlvl, \n",
    "                    f'{nn_type}_para': para}\n",
    "    \n",
    "    return Basic_Config"
   ]
  },
  {
   "cell_type": "code",
   "execution_count": 10,
   "id": "fbcb529a-a00d-4016-99e5-6d671fbbc627",
   "metadata": {
    "tags": []
   },
   "outputs": [
    {
     "data": {
      "text/html": [
       "<div>\n",
       "<style scoped>\n",
       "    .dataframe tbody tr th:only-of-type {\n",
       "        vertical-align: middle;\n",
       "    }\n",
       "\n",
       "    .dataframe tbody tr th {\n",
       "        vertical-align: top;\n",
       "    }\n",
       "\n",
       "    .dataframe thead th {\n",
       "        text-align: right;\n",
       "    }\n",
       "</style>\n",
       "<table border=\"1\" class=\"dataframe\">\n",
       "  <thead>\n",
       "    <tr style=\"text-align: right;\">\n",
       "      <th></th>\n",
       "      <th>SubUnitName</th>\n",
       "      <th>input_names</th>\n",
       "      <th>output_name</th>\n",
       "      <th>output_layerid</th>\n",
       "      <th>SubUnit_BasicNN_List</th>\n",
       "      <th>SubUnit_DefaultBasicNN_List</th>\n",
       "      <th>SubUnit_BasicNN_Config_List</th>\n",
       "    </tr>\n",
       "  </thead>\n",
       "  <tbody>\n",
       "    <tr>\n",
       "      <th>0</th>\n",
       "      <td>EL</td>\n",
       "      <td>[B-P@PatEcInfo-InfoGrn]</td>\n",
       "      <td>B-P@PatEcInfo-Info</td>\n",
       "      <td>3</td>\n",
       "      <td>[expander-CateEmbed, learner-TFM]</td>\n",
       "      <td>[{'full_recfldgrn': 'B-P@PatEcInfo-InfoGrn', '...</td>\n",
       "      <td>[{'nn_type_nn_name': 'expander-CateEmbed', 'Ba...</td>\n",
       "    </tr>\n",
       "    <tr>\n",
       "      <th>1</th>\n",
       "      <td>EL</td>\n",
       "      <td>[B-P-EC-PNSect@AllText-TknzGrn]</td>\n",
       "      <td>B-P-EC-PNSect@AllText-Tknz</td>\n",
       "      <td>5</td>\n",
       "      <td>[expander-LLMEmbed, learner-TFM]</td>\n",
       "      <td>[{'full_recfldgrn': 'B-P-EC-PNSect@AllText-Tkn...</td>\n",
       "      <td>[{'nn_type_nn_name': 'expander-LLMEmbed', 'Bas...</td>\n",
       "    </tr>\n",
       "  </tbody>\n",
       "</table>\n",
       "</div>"
      ],
      "text/plain": [
       "  SubUnitName                      input_names                 output_name  \\\n",
       "0          EL          [B-P@PatEcInfo-InfoGrn]          B-P@PatEcInfo-Info   \n",
       "1          EL  [B-P-EC-PNSect@AllText-TknzGrn]  B-P-EC-PNSect@AllText-Tknz   \n",
       "\n",
       "   output_layerid               SubUnit_BasicNN_List  \\\n",
       "0               3  [expander-CateEmbed, learner-TFM]   \n",
       "1               5   [expander-LLMEmbed, learner-TFM]   \n",
       "\n",
       "                         SubUnit_DefaultBasicNN_List  \\\n",
       "0  [{'full_recfldgrn': 'B-P@PatEcInfo-InfoGrn', '...   \n",
       "1  [{'full_recfldgrn': 'B-P-EC-PNSect@AllText-Tkn...   \n",
       "\n",
       "                         SubUnit_BasicNN_Config_List  \n",
       "0  [{'nn_type_nn_name': 'expander-CateEmbed', 'Ba...  \n",
       "1  [{'nn_type_nn_name': 'expander-LLMEmbed', 'Bas...  "
      ]
     },
     "execution_count": 10,
     "metadata": {},
     "output_type": "execute_result"
    }
   ],
   "source": [
    "s = df_SubUnit.apply(lambda x: get_SubUnit_BasicNN_Config_List(x['SubUnit_BasicNN_List'], \n",
    "                                                               x['SubUnit_DefaultBasicNN_List'], \n",
    "                                                               x['input_names'], \n",
    "                                                               x['output_name'], \n",
    "                                                                embed_size, \n",
    "                                                                process, \n",
    "                                                               ), axis = 1)\n",
    "\n",
    "df_SubUnit['SubUnit_BasicNN_Config_List'] = s\n",
    "df_SubUnit"
   ]
  },
  {
   "cell_type": "markdown",
   "id": "619bb511-4eb0-4820-8c6a-de9b49dd8186",
   "metadata": {},
   "source": [
    "## Embed Block"
   ]
  },
  {
   "cell_type": "code",
   "execution_count": 11,
   "id": "b005bfbc-6346-41c3-83a8-f032c9c77c97",
   "metadata": {
    "tags": []
   },
   "outputs": [
    {
     "name": "stderr",
     "output_type": "stream",
     "text": [
      "Some weights of the model checkpoint at bert-base-uncased were not used when initializing BertModel: ['cls.seq_relationship.weight', 'cls.seq_relationship.bias', 'cls.predictions.transform.dense.bias', 'cls.predictions.bias', 'cls.predictions.transform.LayerNorm.bias', 'cls.predictions.transform.LayerNorm.weight', 'cls.predictions.transform.dense.weight', 'cls.predictions.decoder.weight']\n",
      "- This IS expected if you are initializing BertModel from the checkpoint of a model trained on another task or with another architecture (e.g. initializing a BertForSequenceClassification model from a BertForPreTraining model).\n",
      "- This IS NOT expected if you are initializing BertModel from the checkpoint of a model that you expect to be exactly identical (initializing a BertForSequenceClassification model from a BertForSequenceClassification model).\n"
     ]
    },
    {
     "name": "stdout",
     "output_type": "stream",
     "text": [
      "B-P@PatEcInfo-Info torch.Size([4, 43, 128])\n",
      "B-P-EC-PNSect@AllText-Tknz torch.Size([4, 23, 14, 221, 128])\n"
     ]
    }
   ],
   "source": [
    "from fieldnn.module.embedblock import EmbedBlockLayer\n",
    "\n",
    "EmbedBlock = EmbedBlockLayer(df_SubUnit)\n",
    "\n",
    "RECFLD_TO_EMBEDTESNOR = EmbedBlock(RECFLD_TO_TENSOR)\n",
    "\n",
    "for k, v in RECFLD_TO_EMBEDTESNOR.items():\n",
    "    print(k, v['info'].shape)"
   ]
  },
  {
   "cell_type": "markdown",
   "id": "5d57de11-73a7-4a0c-a7f1-0bed2759b43b",
   "metadata": {},
   "source": [
    "# Repr"
   ]
  },
  {
   "cell_type": "markdown",
   "id": "b5a4bf00-d8a3-4751-8b58-5b8774b680ee",
   "metadata": {},
   "source": [
    "## Get Input Tensor"
   ]
  },
  {
   "cell_type": "code",
   "execution_count": 12,
   "id": "89c6626f-7e2d-42f1-9434-700af2e3e1b0",
   "metadata": {
    "tags": []
   },
   "outputs": [
    {
     "name": "stdout",
     "output_type": "stream",
     "text": [
      "B-P@PatEcInfo-Info torch.Size([4, 43, 128])\n",
      "B-P-EC-PNSect@AllText-Tknz torch.Size([4, 23, 14, 221, 128])\n"
     ]
    }
   ],
   "source": [
    "for full_recfld, info_dict in RECFLD_TO_EMBEDTESNOR.items():\n",
    "    print(full_recfld, info_dict['info'].shape)"
   ]
  },
  {
   "cell_type": "markdown",
   "id": "137e5d36-f7a3-4dab-bf67-813ff958d748",
   "metadata": {},
   "source": [
    "## Get df_SubUnit\n",
    "### Get Original df_SubUnit "
   ]
  },
  {
   "cell_type": "code",
   "execution_count": 13,
   "id": "5fc51afd-f1d1-452c-9027-a748df305894",
   "metadata": {
    "tags": []
   },
   "outputs": [],
   "source": [
    "from fieldnn.dataflowfn.reprflowfn import get_Repr_dataflow_table\n",
    "from fieldnn.dataflowfn.reprflowfn import update_df_Repr_dataflow\n",
    "from fieldnn.dataflowfn.reprflowfn import update_df_Repr_dataflow_completename\n",
    "from fieldnn.dataflowfn.reprflowfn import get_Repr_SubUnit_List"
   ]
  },
  {
   "cell_type": "code",
   "execution_count": 14,
   "id": "1a438d74-2d5b-4fd5-af80-ea3e389664d5",
   "metadata": {
    "tags": []
   },
   "outputs": [
    {
     "data": {
      "text/plain": [
       "['B-P@PatEcInfo-Info', 'B-P-EC-PNSect@AllText-Tknz']"
      ]
     },
     "execution_count": 14,
     "metadata": {},
     "output_type": "execute_result"
    }
   ],
   "source": [
    "full_recfldgrn_list = [i for i in RECFLD_TO_EMBEDTESNOR]\n",
    "full_recfldgrn_list"
   ]
  },
  {
   "cell_type": "code",
   "execution_count": 15,
   "id": "6689ce01-fe8a-4312-b920-9157379f2a26",
   "metadata": {
    "tags": []
   },
   "outputs": [],
   "source": [
    "df_dataflow = get_Repr_dataflow_table(full_recfldgrn_list)\n",
    "# df_dataflow\n",
    "\n",
    "df_dataflow_new = update_df_Repr_dataflow(df_dataflow, style = 'ReducerOnly')\n",
    "# df_dataflow_new\n",
    "\n",
    "df_dataflow_new = update_df_Repr_dataflow(df_dataflow, style = 'Reducer&Merger')\n",
    "# df_dataflow_new"
   ]
  },
  {
   "cell_type": "code",
   "execution_count": 16,
   "id": "ed05af8e-681f-459b-b0ec-d47f3cdc097b",
   "metadata": {
    "tags": []
   },
   "outputs": [],
   "source": [
    "\n",
    "def get_Repr_SubUnit_List(df_dataflow, \n",
    "                          default_R_subunit_name = 'RL', \n",
    "                          default_MR_subunit_name = 'MRL', # or 'MLRL'\n",
    "                         ):\n",
    "    layeridx_list = list(df_dataflow.columns)\n",
    "    \n",
    "    SubUnit_List = []\n",
    "    for idx in range(len(layeridx_list) - 1):\n",
    "        A_layerid = layeridx_list[idx]\n",
    "        B_layerid = layeridx_list[idx + 1]\n",
    "        # print(A_layerid, B_layerid)\n",
    "\n",
    "        A_tensors = df_dataflow[A_layerid]\n",
    "        A_tensors = A_tensors[-A_tensors.isna()].to_dict()\n",
    "\n",
    "        B_tensors = df_dataflow[B_layerid]\n",
    "        B_tensors = B_tensors[-B_tensors.isna()].to_dict()\n",
    "\n",
    "        # print(f'\\nFrom Layer {A_layerid} to {B_layerid}:')\n",
    "\n",
    "        # from A tensor to B tensor, we have the Reducer NNs.\n",
    "        # also notice that some \n",
    "\n",
    "        # print('A', A_tensors)\n",
    "        for k in A_tensors:\n",
    "            if k not in B_tensors: continue\n",
    "\n",
    "            input_name = A_tensors[k]\n",
    "            output_name = B_tensors[k]\n",
    "\n",
    "            if pd.isna(output_name) == True: continue # pass it. \n",
    "\n",
    "            d = {}\n",
    "            d['SubUnitName'] = default_R_subunit_name\n",
    "            d['input_names'] = [input_name]\n",
    "            d['output_name'] = output_name\n",
    "            \n",
    "            d['input_layerid'] = A_layerid\n",
    "            d['output_layerid'] = B_layerid\n",
    "        \n",
    "        \n",
    "            SubUnit_List.append(d)\n",
    "\n",
    "\n",
    "        # from B tensor: potential there are some Merger NNs. \n",
    "        # print('B', B_tensors)\n",
    "        # check whether these is a '(Merger') in the key\n",
    "        merger_tensors = [v for k, v in B_tensors.items() if '(Merge)' in k and '@' not in v]\n",
    "        # print('B-merger_tensors', merger_tensors)\n",
    "\n",
    "        for output_tensor in merger_tensors:\n",
    "            input_tensors = [i for k, i in B_tensors.items() if output_tensor + '@' in i]\n",
    "            # print(output_tensor, ':', input_tensors)\n",
    "\n",
    "            d = {}\n",
    "            d['SubUnitName'] = default_MR_subunit_name\n",
    "            d['input_names'] = input_tensors\n",
    "            d['output_name'] = output_tensor\n",
    "            \n",
    "            d['input_layerid'] = B_layerid\n",
    "            d['output_layerid'] = B_layerid\n",
    "        \n",
    "            SubUnit_List.append(d)\n",
    "            \n",
    "    df_SubUnit = pd.DataFrame(SubUnit_List)\n",
    "    return df_SubUnit\n",
    "\n"
   ]
  },
  {
   "cell_type": "code",
   "execution_count": 17,
   "id": "f8e5501e-ddb3-4ba5-9682-5d895582104d",
   "metadata": {
    "tags": []
   },
   "outputs": [
    {
     "data": {
      "text/html": [
       "<div>\n",
       "<style scoped>\n",
       "    .dataframe tbody tr th:only-of-type {\n",
       "        vertical-align: middle;\n",
       "    }\n",
       "\n",
       "    .dataframe tbody tr th {\n",
       "        vertical-align: top;\n",
       "    }\n",
       "\n",
       "    .dataframe thead th {\n",
       "        text-align: right;\n",
       "    }\n",
       "</style>\n",
       "<table border=\"1\" class=\"dataframe\">\n",
       "  <thead>\n",
       "    <tr style=\"text-align: right;\">\n",
       "      <th></th>\n",
       "      <th>SubUnitName</th>\n",
       "      <th>input_names</th>\n",
       "      <th>output_name</th>\n",
       "      <th>input_layerid</th>\n",
       "      <th>output_layerid</th>\n",
       "    </tr>\n",
       "  </thead>\n",
       "  <tbody>\n",
       "    <tr>\n",
       "      <th>0</th>\n",
       "      <td>RL</td>\n",
       "      <td>[B-P-EC-PNSect@AllText-Tknz]</td>\n",
       "      <td>B-P-EC-PNSect</td>\n",
       "      <td>5</td>\n",
       "      <td>4</td>\n",
       "    </tr>\n",
       "    <tr>\n",
       "      <th>1</th>\n",
       "      <td>RL</td>\n",
       "      <td>[B-P-EC-PNSect]</td>\n",
       "      <td>B-P-EC</td>\n",
       "      <td>4</td>\n",
       "      <td>3</td>\n",
       "    </tr>\n",
       "    <tr>\n",
       "      <th>2</th>\n",
       "      <td>RL</td>\n",
       "      <td>[B-P@PatEcInfo-Info]</td>\n",
       "      <td>B-P@PatEcInfo</td>\n",
       "      <td>3</td>\n",
       "      <td>2</td>\n",
       "    </tr>\n",
       "    <tr>\n",
       "      <th>3</th>\n",
       "      <td>RL</td>\n",
       "      <td>[B-P-EC]</td>\n",
       "      <td>B-P@EC</td>\n",
       "      <td>3</td>\n",
       "      <td>2</td>\n",
       "    </tr>\n",
       "    <tr>\n",
       "      <th>4</th>\n",
       "      <td>MRL</td>\n",
       "      <td>[B-P@PatEcInfo, B-P@EC]</td>\n",
       "      <td>B-P</td>\n",
       "      <td>2</td>\n",
       "      <td>2</td>\n",
       "    </tr>\n",
       "  </tbody>\n",
       "</table>\n",
       "</div>"
      ],
      "text/plain": [
       "  SubUnitName                   input_names    output_name  input_layerid  \\\n",
       "0          RL  [B-P-EC-PNSect@AllText-Tknz]  B-P-EC-PNSect              5   \n",
       "1          RL               [B-P-EC-PNSect]         B-P-EC              4   \n",
       "2          RL          [B-P@PatEcInfo-Info]  B-P@PatEcInfo              3   \n",
       "3          RL                      [B-P-EC]         B-P@EC              3   \n",
       "4         MRL       [B-P@PatEcInfo, B-P@EC]            B-P              2   \n",
       "\n",
       "   output_layerid  \n",
       "0               4  \n",
       "1               3  \n",
       "2               2  \n",
       "3               2  \n",
       "4               2  "
      ]
     },
     "execution_count": 17,
     "metadata": {},
     "output_type": "execute_result"
    }
   ],
   "source": [
    "df_dataflow = df_dataflow_new.copy()\n",
    "default_R_subunit_name = 'RL' # 'RL'\n",
    "default_MR_subunit_name = 'MRL' # 'MLRL', 'MRL', 'MR'\n",
    "df_SubUnit = get_Repr_SubUnit_List(df_dataflow, default_R_subunit_name, default_MR_subunit_name)\n",
    "df_SubUnit"
   ]
  },
  {
   "cell_type": "markdown",
   "id": "118c69b0-5855-4987-b061-adf8b75f689c",
   "metadata": {},
   "source": [
    "### get SubUnit Name's NN List\n",
    "\n",
    "\n",
    "Example\n",
    "* E --> [expander-LLM]\n",
    "* MR --> [merger-Merge, reducer-ReduceMax]\n"
   ]
  },
  {
   "cell_type": "code",
   "execution_count": 18,
   "id": "d8dd1680-5a9d-4ee8-8f71-037b1b884311",
   "metadata": {
    "tags": []
   },
   "outputs": [],
   "source": [
    "# from fieldnn.dataflowfn.baseflowfn import mapping_SubUnitName_to_SubUnitNNList\n",
    "\n",
    "def mapping_SubUnitName_to_SubUnitNNList(SubUnitName, input_names, \n",
    "                                         default_BasicNNtype_To_NNName):\n",
    "    SubUnitNNList = []\n",
    "    for idx, NAME in enumerate(SubUnitName):\n",
    "        if NAME == 'E':\n",
    "            nn_type = 'expander'\n",
    "            input_name = input_names[0]\n",
    "            \n",
    "            assert 'Grn' in input_name\n",
    "            assert len(input_names) == 1\n",
    "            \n",
    "            if 'Tknz' in input_name:\n",
    "                nn_name = 'LLMEmbed'\n",
    "            elif '_wgt' in input_name:\n",
    "                nn_name = 'NumeEmbed'\n",
    "            else:\n",
    "                nn_name = 'CateEmbed'\n",
    "            \n",
    "        elif NAME == 'R':\n",
    "            if idx == 0: assert len(input_names) == 1\n",
    "            nn_type = 'reducer'\n",
    "            nn_name = default_BasicNNtype_To_NNName[nn_type]\n",
    "            \n",
    "        elif NAME == 'M':\n",
    "            nn_type = 'merger'\n",
    "            nn_name = default_BasicNNtype_To_NNName[nn_type]\n",
    "            \n",
    "        elif NAME == 'L':\n",
    "            # print(input_names)\n",
    "            assert idx != 0\n",
    "            # assert len(input_names) == 1; not necessary, L can follow M\n",
    "            nn_type = 'learner'\n",
    "            input_name = input_names[0]\n",
    "            layers_num = len(input_name.split('-'))\n",
    "            if layers_num >= 3:\n",
    "                nn_name = 'TFM'\n",
    "            elif layers_num == 2:\n",
    "                nn_name = 'Linear'\n",
    "            else:\n",
    "                raise ValueError(f'incorrect layers_num {layers_num}')\n",
    "            \n",
    "        else:\n",
    "            raise ValueError(f'The BasicNN is not correct {NAME}')\n",
    "        \n",
    "        SubUnitNNList.append(nn_type + '-' + nn_name)\n",
    "    return SubUnitNNList"
   ]
  },
  {
   "cell_type": "code",
   "execution_count": 19,
   "id": "9e33f1d8-ccb8-4c98-9517-7b1ff83c0296",
   "metadata": {
    "tags": []
   },
   "outputs": [
    {
     "data": {
      "text/html": [
       "<div>\n",
       "<style scoped>\n",
       "    .dataframe tbody tr th:only-of-type {\n",
       "        vertical-align: middle;\n",
       "    }\n",
       "\n",
       "    .dataframe tbody tr th {\n",
       "        vertical-align: top;\n",
       "    }\n",
       "\n",
       "    .dataframe thead th {\n",
       "        text-align: right;\n",
       "    }\n",
       "</style>\n",
       "<table border=\"1\" class=\"dataframe\">\n",
       "  <thead>\n",
       "    <tr style=\"text-align: right;\">\n",
       "      <th></th>\n",
       "      <th>SubUnitName</th>\n",
       "      <th>input_names</th>\n",
       "      <th>output_name</th>\n",
       "      <th>input_layerid</th>\n",
       "      <th>output_layerid</th>\n",
       "      <th>SubUnit_BasicNN_List</th>\n",
       "    </tr>\n",
       "  </thead>\n",
       "  <tbody>\n",
       "    <tr>\n",
       "      <th>0</th>\n",
       "      <td>RL</td>\n",
       "      <td>[B-P-EC-PNSect@AllText-Tknz]</td>\n",
       "      <td>B-P-EC-PNSect</td>\n",
       "      <td>5</td>\n",
       "      <td>4</td>\n",
       "      <td>[reducer-Max, learner-TFM]</td>\n",
       "    </tr>\n",
       "    <tr>\n",
       "      <th>1</th>\n",
       "      <td>RL</td>\n",
       "      <td>[B-P-EC-PNSect]</td>\n",
       "      <td>B-P-EC</td>\n",
       "      <td>4</td>\n",
       "      <td>3</td>\n",
       "      <td>[reducer-Max, learner-TFM]</td>\n",
       "    </tr>\n",
       "    <tr>\n",
       "      <th>2</th>\n",
       "      <td>RL</td>\n",
       "      <td>[B-P@PatEcInfo-Info]</td>\n",
       "      <td>B-P@PatEcInfo</td>\n",
       "      <td>3</td>\n",
       "      <td>2</td>\n",
       "      <td>[reducer-Max, learner-TFM]</td>\n",
       "    </tr>\n",
       "    <tr>\n",
       "      <th>3</th>\n",
       "      <td>RL</td>\n",
       "      <td>[B-P-EC]</td>\n",
       "      <td>B-P@EC</td>\n",
       "      <td>3</td>\n",
       "      <td>2</td>\n",
       "      <td>[reducer-Max, learner-TFM]</td>\n",
       "    </tr>\n",
       "    <tr>\n",
       "      <th>4</th>\n",
       "      <td>MRL</td>\n",
       "      <td>[B-P@PatEcInfo, B-P@EC]</td>\n",
       "      <td>B-P</td>\n",
       "      <td>2</td>\n",
       "      <td>2</td>\n",
       "      <td>[merger-Merger, reducer-Max, learner-Linear]</td>\n",
       "    </tr>\n",
       "  </tbody>\n",
       "</table>\n",
       "</div>"
      ],
      "text/plain": [
       "  SubUnitName                   input_names    output_name  input_layerid  \\\n",
       "0          RL  [B-P-EC-PNSect@AllText-Tknz]  B-P-EC-PNSect              5   \n",
       "1          RL               [B-P-EC-PNSect]         B-P-EC              4   \n",
       "2          RL          [B-P@PatEcInfo-Info]  B-P@PatEcInfo              3   \n",
       "3          RL                      [B-P-EC]         B-P@EC              3   \n",
       "4         MRL       [B-P@PatEcInfo, B-P@EC]            B-P              2   \n",
       "\n",
       "   output_layerid                          SubUnit_BasicNN_List  \n",
       "0               4                    [reducer-Max, learner-TFM]  \n",
       "1               3                    [reducer-Max, learner-TFM]  \n",
       "2               2                    [reducer-Max, learner-TFM]  \n",
       "3               2                    [reducer-Max, learner-TFM]  \n",
       "4               2  [merger-Merger, reducer-Max, learner-Linear]  "
      ]
     },
     "execution_count": 19,
     "metadata": {},
     "output_type": "execute_result"
    }
   ],
   "source": [
    "############################################# Hyperparameters\n",
    "default_BasicNNtype_To_NNName = {\n",
    "    'expander': None, # will be updated according to the Grn Type\n",
    "    'reducer': 'Max',\n",
    "    'merger': 'Merger',\n",
    "    'learner': None, # TODO: ignore this currently\n",
    "    \n",
    "}\n",
    "#############################################\n",
    "\n",
    "s = df_SubUnit.apply(lambda x: mapping_SubUnitName_to_SubUnitNNList(x['SubUnitName'], \n",
    "                                                                    x['input_names'],\n",
    "                                                                    default_BasicNNtype_To_NNName), \n",
    "                    axis = 1)\n",
    "\n",
    "\n",
    "df_SubUnit['SubUnit_BasicNN_List'] = s\n",
    "df_SubUnit"
   ]
  },
  {
   "cell_type": "markdown",
   "id": "3bebad89-e278-4700-b4c6-20ef36786e85",
   "metadata": {},
   "source": [
    "### Get Default BasicNN Config List"
   ]
  },
  {
   "cell_type": "code",
   "execution_count": 20,
   "id": "c91bd0ae-f5c6-43c1-b5bb-fe85773b4810",
   "metadata": {
    "tags": []
   },
   "outputs": [
    {
     "data": {
      "text/html": [
       "<div>\n",
       "<style scoped>\n",
       "    .dataframe tbody tr th:only-of-type {\n",
       "        vertical-align: middle;\n",
       "    }\n",
       "\n",
       "    .dataframe tbody tr th {\n",
       "        vertical-align: top;\n",
       "    }\n",
       "\n",
       "    .dataframe thead th {\n",
       "        text-align: right;\n",
       "    }\n",
       "</style>\n",
       "<table border=\"1\" class=\"dataframe\">\n",
       "  <thead>\n",
       "    <tr style=\"text-align: right;\">\n",
       "      <th></th>\n",
       "      <th>SubUnitName</th>\n",
       "      <th>input_names</th>\n",
       "      <th>output_name</th>\n",
       "      <th>input_layerid</th>\n",
       "      <th>output_layerid</th>\n",
       "      <th>SubUnit_BasicNN_List</th>\n",
       "      <th>SubUnit_DefaultBasicNN_List</th>\n",
       "    </tr>\n",
       "  </thead>\n",
       "  <tbody>\n",
       "    <tr>\n",
       "      <th>0</th>\n",
       "      <td>RL</td>\n",
       "      <td>[B-P-EC-PNSect@AllText-Tknz]</td>\n",
       "      <td>B-P-EC-PNSect</td>\n",
       "      <td>5</td>\n",
       "      <td>4</td>\n",
       "      <td>[reducer-Max, learner-TFM]</td>\n",
       "      <td>[{}, {'psn_max': 512, 'psn_embedprocess': {}}]</td>\n",
       "    </tr>\n",
       "    <tr>\n",
       "      <th>1</th>\n",
       "      <td>RL</td>\n",
       "      <td>[B-P-EC-PNSect]</td>\n",
       "      <td>B-P-EC</td>\n",
       "      <td>4</td>\n",
       "      <td>3</td>\n",
       "      <td>[reducer-Max, learner-TFM]</td>\n",
       "      <td>[{}, {'psn_max': 512, 'psn_embedprocess': {}}]</td>\n",
       "    </tr>\n",
       "    <tr>\n",
       "      <th>2</th>\n",
       "      <td>RL</td>\n",
       "      <td>[B-P@PatEcInfo-Info]</td>\n",
       "      <td>B-P@PatEcInfo</td>\n",
       "      <td>3</td>\n",
       "      <td>2</td>\n",
       "      <td>[reducer-Max, learner-TFM]</td>\n",
       "      <td>[{}, {'psn_max': 512, 'psn_embedprocess': {}}]</td>\n",
       "    </tr>\n",
       "    <tr>\n",
       "      <th>3</th>\n",
       "      <td>RL</td>\n",
       "      <td>[B-P-EC]</td>\n",
       "      <td>B-P@EC</td>\n",
       "      <td>3</td>\n",
       "      <td>2</td>\n",
       "      <td>[reducer-Max, learner-TFM]</td>\n",
       "      <td>[{}, {'psn_max': 512, 'psn_embedprocess': {}}]</td>\n",
       "    </tr>\n",
       "    <tr>\n",
       "      <th>4</th>\n",
       "      <td>MRL</td>\n",
       "      <td>[B-P@PatEcInfo, B-P@EC]</td>\n",
       "      <td>B-P</td>\n",
       "      <td>2</td>\n",
       "      <td>2</td>\n",
       "      <td>[merger-Merger, reducer-Max, learner-Linear]</td>\n",
       "      <td>[{}, {}, {'initrange': 0.1}]</td>\n",
       "    </tr>\n",
       "  </tbody>\n",
       "</table>\n",
       "</div>"
      ],
      "text/plain": [
       "  SubUnitName                   input_names    output_name  input_layerid  \\\n",
       "0          RL  [B-P-EC-PNSect@AllText-Tknz]  B-P-EC-PNSect              5   \n",
       "1          RL               [B-P-EC-PNSect]         B-P-EC              4   \n",
       "2          RL          [B-P@PatEcInfo-Info]  B-P@PatEcInfo              3   \n",
       "3          RL                      [B-P-EC]         B-P@EC              3   \n",
       "4         MRL       [B-P@PatEcInfo, B-P@EC]            B-P              2   \n",
       "\n",
       "   output_layerid                          SubUnit_BasicNN_List  \\\n",
       "0               4                    [reducer-Max, learner-TFM]   \n",
       "1               3                    [reducer-Max, learner-TFM]   \n",
       "2               2                    [reducer-Max, learner-TFM]   \n",
       "3               2                    [reducer-Max, learner-TFM]   \n",
       "4               2  [merger-Merger, reducer-Max, learner-Linear]   \n",
       "\n",
       "                      SubUnit_DefaultBasicNN_List  \n",
       "0  [{}, {'psn_max': 512, 'psn_embedprocess': {}}]  \n",
       "1  [{}, {'psn_max': 512, 'psn_embedprocess': {}}]  \n",
       "2  [{}, {'psn_max': 512, 'psn_embedprocess': {}}]  \n",
       "3  [{}, {'psn_max': 512, 'psn_embedprocess': {}}]  \n",
       "4                    [{}, {}, {'initrange': 0.1}]  "
      ]
     },
     "execution_count": 20,
     "metadata": {},
     "output_type": "execute_result"
    }
   ],
   "source": [
    "\n",
    "    \n",
    "\n",
    "from fieldnn.dataflowfn.baseflowfn import get_SubUnit_Default_NNPara_List\n",
    "\n",
    "###########################################################\n",
    "psn_embedprocess = {\n",
    "    # 'activator': 'gelu',\n",
    "    # 'dropout': {'p': 0.5, 'inplace': False},\n",
    "    # 'layernorm': {'eps': 1e-05, 'elementwise_affine': True}\n",
    "}\n",
    "\n",
    "learner_default_dict = {\n",
    "    'TFM': {'psn_max': 512, \n",
    "            'psn_embedprocess': psn_embedprocess},\n",
    "    'Linear': {'initrange': 0.1},   \n",
    "}\n",
    "###########################################################\n",
    "    \n",
    "    \n",
    "s = df_SubUnit.apply(lambda x: get_SubUnit_Default_NNPara_List(x['SubUnit_BasicNN_List'], \n",
    "                                                               x['input_names'],\n",
    "                                                               fldgrn_folder, \n",
    "                                                               learner_default_dict), axis = 1)\n",
    "\n",
    "df_SubUnit['SubUnit_DefaultBasicNN_List'] = s\n",
    "\n",
    "df_SubUnit"
   ]
  },
  {
   "cell_type": "markdown",
   "id": "e595f51b-366d-418e-a28d-96dbb0ae174c",
   "metadata": {},
   "source": [
    "### Get BasicNN Config List"
   ]
  },
  {
   "cell_type": "code",
   "execution_count": 21,
   "id": "846e409e-8fcc-4ca2-9442-8f7b989ffc56",
   "metadata": {
    "tags": []
   },
   "outputs": [],
   "source": [
    "from fieldnn.dataflowfn.baseflowfn import get_SubUnit_BasicNN_Config_List"
   ]
  },
  {
   "cell_type": "code",
   "execution_count": 22,
   "id": "a55d9e2d-7340-44cc-bdb6-772f6ad495a4",
   "metadata": {
    "tags": []
   },
   "outputs": [
    {
     "data": {
      "text/html": [
       "<div>\n",
       "<style scoped>\n",
       "    .dataframe tbody tr th:only-of-type {\n",
       "        vertical-align: middle;\n",
       "    }\n",
       "\n",
       "    .dataframe tbody tr th {\n",
       "        vertical-align: top;\n",
       "    }\n",
       "\n",
       "    .dataframe thead th {\n",
       "        text-align: right;\n",
       "    }\n",
       "</style>\n",
       "<table border=\"1\" class=\"dataframe\">\n",
       "  <thead>\n",
       "    <tr style=\"text-align: right;\">\n",
       "      <th></th>\n",
       "      <th>SubUnitName</th>\n",
       "      <th>input_names</th>\n",
       "      <th>output_name</th>\n",
       "      <th>input_layerid</th>\n",
       "      <th>output_layerid</th>\n",
       "      <th>SubUnit_BasicNN_List</th>\n",
       "      <th>SubUnit_DefaultBasicNN_List</th>\n",
       "      <th>SubUnit_BasicNN_Config_List</th>\n",
       "    </tr>\n",
       "  </thead>\n",
       "  <tbody>\n",
       "    <tr>\n",
       "      <th>0</th>\n",
       "      <td>RL</td>\n",
       "      <td>[B-P-EC-PNSect@AllText-Tknz]</td>\n",
       "      <td>B-P-EC-PNSect</td>\n",
       "      <td>5</td>\n",
       "      <td>4</td>\n",
       "      <td>[reducer-Max, learner-TFM]</td>\n",
       "      <td>[{}, {'psn_max': 512, 'psn_embedprocess': {}}]</td>\n",
       "      <td>[{'nn_type_nn_name': 'reducer-Max', 'Basic_Con...</td>\n",
       "    </tr>\n",
       "    <tr>\n",
       "      <th>1</th>\n",
       "      <td>RL</td>\n",
       "      <td>[B-P-EC-PNSect]</td>\n",
       "      <td>B-P-EC</td>\n",
       "      <td>4</td>\n",
       "      <td>3</td>\n",
       "      <td>[reducer-Max, learner-TFM]</td>\n",
       "      <td>[{}, {'psn_max': 512, 'psn_embedprocess': {}}]</td>\n",
       "      <td>[{'nn_type_nn_name': 'reducer-Max', 'Basic_Con...</td>\n",
       "    </tr>\n",
       "    <tr>\n",
       "      <th>2</th>\n",
       "      <td>RL</td>\n",
       "      <td>[B-P@PatEcInfo-Info]</td>\n",
       "      <td>B-P@PatEcInfo</td>\n",
       "      <td>3</td>\n",
       "      <td>2</td>\n",
       "      <td>[reducer-Max, learner-TFM]</td>\n",
       "      <td>[{}, {'psn_max': 512, 'psn_embedprocess': {}}]</td>\n",
       "      <td>[{'nn_type_nn_name': 'reducer-Max', 'Basic_Con...</td>\n",
       "    </tr>\n",
       "    <tr>\n",
       "      <th>3</th>\n",
       "      <td>RL</td>\n",
       "      <td>[B-P-EC]</td>\n",
       "      <td>B-P@EC</td>\n",
       "      <td>3</td>\n",
       "      <td>2</td>\n",
       "      <td>[reducer-Max, learner-TFM]</td>\n",
       "      <td>[{}, {'psn_max': 512, 'psn_embedprocess': {}}]</td>\n",
       "      <td>[{'nn_type_nn_name': 'reducer-Max', 'Basic_Con...</td>\n",
       "    </tr>\n",
       "    <tr>\n",
       "      <th>4</th>\n",
       "      <td>MRL</td>\n",
       "      <td>[B-P@PatEcInfo, B-P@EC]</td>\n",
       "      <td>B-P</td>\n",
       "      <td>2</td>\n",
       "      <td>2</td>\n",
       "      <td>[merger-Merger, reducer-Max, learner-Linear]</td>\n",
       "      <td>[{}, {}, {'initrange': 0.1}]</td>\n",
       "      <td>[{'nn_type_nn_name': 'merger-Merger', 'Basic_C...</td>\n",
       "    </tr>\n",
       "  </tbody>\n",
       "</table>\n",
       "</div>"
      ],
      "text/plain": [
       "  SubUnitName                   input_names    output_name  input_layerid  \\\n",
       "0          RL  [B-P-EC-PNSect@AllText-Tknz]  B-P-EC-PNSect              5   \n",
       "1          RL               [B-P-EC-PNSect]         B-P-EC              4   \n",
       "2          RL          [B-P@PatEcInfo-Info]  B-P@PatEcInfo              3   \n",
       "3          RL                      [B-P-EC]         B-P@EC              3   \n",
       "4         MRL       [B-P@PatEcInfo, B-P@EC]            B-P              2   \n",
       "\n",
       "   output_layerid                          SubUnit_BasicNN_List  \\\n",
       "0               4                    [reducer-Max, learner-TFM]   \n",
       "1               3                    [reducer-Max, learner-TFM]   \n",
       "2               2                    [reducer-Max, learner-TFM]   \n",
       "3               2                    [reducer-Max, learner-TFM]   \n",
       "4               2  [merger-Merger, reducer-Max, learner-Linear]   \n",
       "\n",
       "                      SubUnit_DefaultBasicNN_List  \\\n",
       "0  [{}, {'psn_max': 512, 'psn_embedprocess': {}}]   \n",
       "1  [{}, {'psn_max': 512, 'psn_embedprocess': {}}]   \n",
       "2  [{}, {'psn_max': 512, 'psn_embedprocess': {}}]   \n",
       "3  [{}, {'psn_max': 512, 'psn_embedprocess': {}}]   \n",
       "4                    [{}, {}, {'initrange': 0.1}]   \n",
       "\n",
       "                         SubUnit_BasicNN_Config_List  \n",
       "0  [{'nn_type_nn_name': 'reducer-Max', 'Basic_Con...  \n",
       "1  [{'nn_type_nn_name': 'reducer-Max', 'Basic_Con...  \n",
       "2  [{'nn_type_nn_name': 'reducer-Max', 'Basic_Con...  \n",
       "3  [{'nn_type_nn_name': 'reducer-Max', 'Basic_Con...  \n",
       "4  [{'nn_type_nn_name': 'merger-Merger', 'Basic_C...  "
      ]
     },
     "execution_count": 22,
     "metadata": {},
     "output_type": "execute_result"
    }
   ],
   "source": [
    "s = df_SubUnit.apply(lambda x: get_SubUnit_BasicNN_Config_List(x['SubUnit_BasicNN_List'], \n",
    "                                                               x['SubUnit_DefaultBasicNN_List'], \n",
    "                                                               x['input_names'], \n",
    "                                                               x['output_name'], \n",
    "                                                                embed_size, \n",
    "                                                                process, \n",
    "                                                               ), axis = 1)\n",
    "\n",
    "df_SubUnit['SubUnit_BasicNN_Config_List'] = s\n",
    "df_SubUnit"
   ]
  },
  {
   "cell_type": "markdown",
   "id": "f42fe0d0-936f-4bd2-b700-e8fd96d9f197",
   "metadata": {},
   "source": [
    "## Repr Block"
   ]
  },
  {
   "cell_type": "code",
   "execution_count": 23,
   "id": "dd38db84-855b-47f8-b50d-bbe7c33db4c0",
   "metadata": {
    "tags": []
   },
   "outputs": [
    {
     "data": {
      "text/plain": [
       "['B-P@PatEcInfo-Info', 'B-P-EC-PNSect@AllText-Tknz']"
      ]
     },
     "execution_count": 23,
     "metadata": {},
     "output_type": "execute_result"
    }
   ],
   "source": [
    "[i for i in RECFLD_TO_EMBEDTESNOR]"
   ]
  },
  {
   "cell_type": "code",
   "execution_count": 24,
   "id": "6ac407a8-fb55-4db3-bca9-37695caa314f",
   "metadata": {
    "tags": []
   },
   "outputs": [
    {
     "data": {
      "text/plain": [
       "['B-P@PatEcInfo-Info', 'B-P-EC-PNSect@AllText-Tknz']"
      ]
     },
     "execution_count": 24,
     "metadata": {},
     "output_type": "execute_result"
    }
   ],
   "source": [
    "fld_updates_dict = {}\n",
    "for i in RECFLD_TO_EMBEDTESNOR:\n",
    "    layernum = len(i.split('-'))\n",
    "    fld = i.split('-')[-1]\n",
    "    if '@' in fld:\n",
    "        # print(fld)\n",
    "        neat_i = '-'.join(i.split('-')[:-1]) + '-' + fld.split('@')[0]\n",
    "        # print(neat_i)\n",
    "        same_neat_list = [t for t in RECFLD_TO_EMBEDTESNOR if neat_i + '@' in t]\n",
    "        # print(same_neat_list)\n",
    "        if len(same_neat_list) == 1: # itself\n",
    "            # RECFLD_TO_EMBEDTESNOR[]\n",
    "            fld_updates_dict[i] = neat_i\n",
    "            \n",
    "for old, new in fld_updates_dict.items():\n",
    "    RECFLD_TO_EMBEDTESNOR[new] = RECFLD_TO_EMBEDTESNOR.pop(old)\n",
    "    \n",
    "    \n",
    "[i for i in RECFLD_TO_EMBEDTESNOR]"
   ]
  },
  {
   "cell_type": "code",
   "execution_count": 25,
   "id": "0862884b-d8d4-4898-a549-df225c2a7dde",
   "metadata": {
    "tags": []
   },
   "outputs": [],
   "source": [
    "# from fieldnn.module.reprblock import ReprBlockLayer\n",
    "\n",
    "import torch\n",
    "from fieldnn.module.subunit import SubUnit_Layer\n",
    "\n",
    "\n",
    "class ReprBlockLayer(torch.nn.Module):\n",
    "    \n",
    "    def __init__(self, df_SubUnit):\n",
    "        super(ReprBlockLayer, self).__init__()\n",
    "        self.df_SubUnit = df_SubUnit\n",
    "        self.SubUnitDict = torch.nn.ModuleDict()\n",
    "        \n",
    "        for idx, SubUnit_info in df_SubUnit.iterrows():\n",
    "            output_name = SubUnit_info['output_name']\n",
    "            SubUnitLayer = SubUnit_Layer(SubUnit_info)\n",
    "            self.SubUnitDict[output_name] = SubUnitLayer\n",
    "\n",
    "    def forward(self, RECFLD_TO_EMBEDTESNOR):\n",
    "        \n",
    "        OUTPUT_TO_TENSOR = RECFLD_TO_EMBEDTESNOR.copy()\n",
    "        \n",
    "        for output_name, SubUnitLayer in self.SubUnitDict.items():\n",
    "            input_names = SubUnitLayer.SubUnit_input_names\n",
    "            # print(input_names)\n",
    "            # for i in input_names:\n",
    "            #     print(i, OUTPUT_TO_TENSOR[i]['info'].shape)\n",
    "            SubUnit_output_name, info_dict = SubUnitLayer(input_names, OUTPUT_TO_TENSOR)\n",
    "            \n",
    "            assert output_name == SubUnit_output_name\n",
    "            OUTPUT_TO_TENSOR[SubUnit_output_name] = info_dict\n",
    "        \n",
    "        return OUTPUT_TO_TENSOR\n",
    "    "
   ]
  },
  {
   "cell_type": "code",
   "execution_count": 26,
   "id": "39262c33-b6ef-4be1-a041-9d7ac923d272",
   "metadata": {
    "tags": []
   },
   "outputs": [
    {
     "data": {
      "text/plain": [
       "['B-P@PatEcInfo-Info', 'B-P-EC-PNSect@AllText-Tknz']"
      ]
     },
     "execution_count": 26,
     "metadata": {},
     "output_type": "execute_result"
    }
   ],
   "source": [
    "[i for i in RECFLD_TO_EMBEDTESNOR]"
   ]
  },
  {
   "cell_type": "code",
   "execution_count": 27,
   "id": "179cfda6-0103-4b57-b46c-2aa9aaeaee85",
   "metadata": {
    "tags": []
   },
   "outputs": [
    {
     "name": "stdout",
     "output_type": "stream",
     "text": [
      "B-P@PatEcInfo-Info torch.Size([4, 43, 128])\n",
      "B-P-EC-PNSect@AllText-Tknz torch.Size([4, 23, 14, 221, 128])\n",
      "B-P-EC-PNSect torch.Size([4, 23, 14, 128])\n",
      "B-P-EC torch.Size([4, 23, 128])\n",
      "B-P@PatEcInfo torch.Size([4, 128])\n",
      "B-P@EC torch.Size([4, 128])\n",
      "B-P torch.Size([4, 128])\n"
     ]
    }
   ],
   "source": [
    "\n",
    "\n",
    "ReprBlock = ReprBlockLayer(df_SubUnit)\n",
    "\n",
    "OUTPUT_TO_TESNOR = ReprBlock(RECFLD_TO_EMBEDTESNOR)\n",
    "\n",
    "for k, v in OUTPUT_TO_TESNOR.items():\n",
    "    print(k, v['info'].shape)"
   ]
  },
  {
   "cell_type": "code",
   "execution_count": null,
   "id": "4639ad78-90a6-47de-acf9-d7970ec62464",
   "metadata": {},
   "outputs": [],
   "source": []
  },
  {
   "cell_type": "code",
   "execution_count": null,
   "id": "4cb87d1f-aa27-46bd-8782-3f63b681196b",
   "metadata": {},
   "outputs": [],
   "source": []
  }
 ],
 "metadata": {
  "kernelspec": {
   "display_name": "Python 3 (ipykernel)",
   "language": "python",
   "name": "python3"
  },
  "language_info": {
   "codemirror_mode": {
    "name": "ipython",
    "version": 3
   },
   "file_extension": ".py",
   "mimetype": "text/x-python",
   "name": "python",
   "nbconvert_exporter": "python",
   "pygments_lexer": "ipython3",
   "version": "3.8.8"
  },
  "toc-autonumbering": true
 },
 "nbformat": 4,
 "nbformat_minor": 5
}
