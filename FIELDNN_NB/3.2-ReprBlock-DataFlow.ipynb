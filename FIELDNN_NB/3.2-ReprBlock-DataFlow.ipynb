{
 "cells": [
  {
   "cell_type": "code",
   "execution_count": 1,
   "id": "d0c6d4c1-3173-4cea-a5c3-804177c1bac3",
   "metadata": {
    "tags": []
   },
   "outputs": [
    {
     "name": "stdout",
     "output_type": "stream",
     "text": [
      "/Users/floydluo/Library/CloudStorage/OneDrive-JohnsHopkins/000Projects/0000-Infrastructure/0000-RecFld/FieldNN\n"
     ]
    }
   ],
   "source": [
    "%cd .."
   ]
  },
  {
   "cell_type": "markdown",
   "id": "3d27c120-6816-4db6-8c88-54e8d6654829",
   "metadata": {},
   "source": [
    "# Batch"
   ]
  },
  {
   "cell_type": "code",
   "execution_count": 2,
   "id": "b27333e2-3eed-41c2-b29d-580151f7f64f",
   "metadata": {
    "tags": []
   },
   "outputs": [
    {
     "name": "stdout",
     "output_type": "stream",
     "text": [
      "4 <---- dataset\n",
      "1 <---- dataset\n",
      "B-P-InfoGrn_wgt torch.Size([4, 43])\n",
      "B-P-InfoGrn_tknidx torch.Size([4, 43])\n",
      "B-P-InfoGrn_fldidx torch.Size([4, 43])\n",
      "B-P-EC-PNSect-TknzGrn_wgt torch.Size([4, 23, 14, 221])\n",
      "B-P-EC-PNSect-TknzGrn_tknidx torch.Size([4, 23, 14, 221])\n",
      "B-P-EC-PNSect-TknzGrn_fldidx torch.Size([4, 23, 14, 221])\n"
     ]
    }
   ],
   "source": [
    "import os\n",
    "from fieldnn.dataset import RFGDataset, my_collate_fn\n",
    "from torch.utils.data import DataLoader\n",
    "\n",
    "Tensor_folder = 'data/ProcData/FldGrnTensor/'\n",
    "recfldgrn_list = ['P-InfoGrn',  'P-EC-PNSect-TknzGrn']\n",
    "full_recfldgrn_list = ['B-' + i for i in recfldgrn_list]\n",
    "\n",
    "# from the get_grain_fn to get the Elig_Set.\n",
    "Elig_Set = ['P4', 'P5', 'P6', 'P7']\n",
    "\n",
    "dataset = RFGDataset(Tensor_folder, recfldgrn_list, Elig_Set, RecRootID = 'PID')\n",
    "print(len(dataset), '<---- dataset')\n",
    "dataloader = DataLoader(dataset, batch_size = 4, shuffle = True, collate_fn = my_collate_fn)\n",
    "print(len(dataloader), '<---- dataset')\n",
    "\n",
    "\n",
    "for idx, batch in enumerate(dataloader):\n",
    "    # print(f'\\n------ {idx}')\n",
    "    batch_rfg, batch_y = batch\n",
    "    for k, v in batch_rfg.items(): print(k, v.shape)\n",
    "    break\n",
    "    # for k, v in batch_rfg.items(): print(k, v.shape)\n",
    "    # print(batch_y.shape)"
   ]
  },
  {
   "cell_type": "code",
   "execution_count": 3,
   "id": "083e14aa-b70b-4b03-8cf6-f70a56bce79a",
   "metadata": {
    "tags": []
   },
   "outputs": [
    {
     "data": {
      "text/plain": [
       "['B-P-InfoGrn', 'B-P-EC-PNSect-TknzGrn']"
      ]
     },
     "execution_count": 3,
     "metadata": {},
     "output_type": "execute_result"
    }
   ],
   "source": [
    "# Prepare the Input\n",
    "RECFLD_TO_TENSOR = {}\n",
    "for full_recfldgrn in full_recfldgrn_list:\n",
    "    RECFLD_TO_TENSOR[full_recfldgrn] = {k: v for k, v in batch_rfg.items() if full_recfldgrn in k}\n",
    "    \n",
    "[i for i in RECFLD_TO_TENSOR]"
   ]
  },
  {
   "cell_type": "code",
   "execution_count": 4,
   "id": "857f7dbe-e3db-4da2-8c60-a23b49378abe",
   "metadata": {
    "tags": []
   },
   "outputs": [
    {
     "data": {
      "text/html": [
       "<div>\n",
       "<style scoped>\n",
       "    .dataframe tbody tr th:only-of-type {\n",
       "        vertical-align: middle;\n",
       "    }\n",
       "\n",
       "    .dataframe tbody tr th {\n",
       "        vertical-align: top;\n",
       "    }\n",
       "\n",
       "    .dataframe thead th {\n",
       "        text-align: right;\n",
       "    }\n",
       "</style>\n",
       "<table border=\"1\" class=\"dataframe\">\n",
       "  <thead>\n",
       "    <tr style=\"text-align: right;\">\n",
       "      <th></th>\n",
       "      <th>SubUnitName</th>\n",
       "      <th>input_names</th>\n",
       "      <th>output_name</th>\n",
       "      <th>output_layerid</th>\n",
       "      <th>SubUnit_BasicNN_List</th>\n",
       "      <th>SubUnit_DefaultBasicNN_List</th>\n",
       "      <th>SubUnit_BasicNN_Config_List</th>\n",
       "    </tr>\n",
       "  </thead>\n",
       "  <tbody>\n",
       "    <tr>\n",
       "      <th>0</th>\n",
       "      <td>E</td>\n",
       "      <td>[B-P-InfoGrn]</td>\n",
       "      <td>B-P-Info</td>\n",
       "      <td>3</td>\n",
       "      <td>[expander-CateEmbed]</td>\n",
       "      <td>[{'full_recfldgrn': 'B-P-InfoGrn', 'Info': ['P...</td>\n",
       "      <td>[{'nn_type_nn_name': 'expander-CateEmbed', 'Ba...</td>\n",
       "    </tr>\n",
       "    <tr>\n",
       "      <th>1</th>\n",
       "      <td>E</td>\n",
       "      <td>[B-P-EC-PNSect-TknzGrn]</td>\n",
       "      <td>B-P-EC-PNSect-Tknz</td>\n",
       "      <td>5</td>\n",
       "      <td>[expander-LLMEmbed]</td>\n",
       "      <td>[{'full_recfldgrn': 'B-P-EC-PNSect-TknzGrn', '...</td>\n",
       "      <td>[{'nn_type_nn_name': 'expander-LLMEmbed', 'Bas...</td>\n",
       "    </tr>\n",
       "  </tbody>\n",
       "</table>\n",
       "</div>"
      ],
      "text/plain": [
       "  SubUnitName              input_names         output_name  output_layerid  \\\n",
       "0           E            [B-P-InfoGrn]            B-P-Info               3   \n",
       "1           E  [B-P-EC-PNSect-TknzGrn]  B-P-EC-PNSect-Tknz               5   \n",
       "\n",
       "   SubUnit_BasicNN_List                        SubUnit_DefaultBasicNN_List  \\\n",
       "0  [expander-CateEmbed]  [{'full_recfldgrn': 'B-P-InfoGrn', 'Info': ['P...   \n",
       "1   [expander-LLMEmbed]  [{'full_recfldgrn': 'B-P-EC-PNSect-TknzGrn', '...   \n",
       "\n",
       "                         SubUnit_BasicNN_Config_List  \n",
       "0  [{'nn_type_nn_name': 'expander-CateEmbed', 'Ba...  \n",
       "1  [{'nn_type_nn_name': 'expander-LLMEmbed', 'Bas...  "
      ]
     },
     "execution_count": 4,
     "metadata": {},
     "output_type": "execute_result"
    }
   ],
   "source": [
    "from fieldnn.dataflowfn.embedflowfn import get_EmbeddingBlock_SubUnit\n",
    "\n",
    "from fieldnn.dataflowfn.baseflowfn import mapping_SubUnitName_to_SubUnitNNList\n",
    "from fieldnn.dataflowfn.baseflowfn import get_SubUnit_Default_NNPara_List\n",
    "from fieldnn.dataflowfn.baseflowfn import get_SubUnit_BasicNN_Config_List\n",
    "\n",
    "############################################# Hyperparameters\n",
    "default_BasicNNtype_To_NNName = {\n",
    "    'expander': None, # will be updated according to the Grn Type\n",
    "    'reducer': 'Max',\n",
    "    'merger': 'Merger',\n",
    "    'learner': None, # TODO: ignore this currently\n",
    "    \n",
    "}\n",
    "#############################################\n",
    "\n",
    "############################\n",
    "embed_size = 128\n",
    "process = {'activator': 'gelu',\n",
    "           'dropout': {'p': 0.5, 'inplace': False},\n",
    "           'layernorm': {'eps': 1e-05, 'elementwise_affine': True}}\n",
    "############################\n",
    "\n",
    "\n",
    "default_SubUnitName = 'E'\n",
    "fldgrn_folder = 'data/ProcData/FldGrnInfo'\n",
    "learner_default_dict = {} # To update it in the future. \n",
    "\n",
    "\n",
    "df_SubUnit = get_EmbeddingBlock_SubUnit(full_recfldgrn_list, default_SubUnitName)\n",
    "\n",
    "s = df_SubUnit.apply(lambda x: mapping_SubUnitName_to_SubUnitNNList(x['SubUnitName'], \n",
    "                                                                    x['input_names'],\n",
    "                                                                    default_BasicNNtype_To_NNName), \n",
    "                    axis = 1)\n",
    "df_SubUnit['SubUnit_BasicNN_List'] = s\n",
    "s = df_SubUnit.apply(lambda x: get_SubUnit_Default_NNPara_List(x['SubUnit_BasicNN_List'], \n",
    "                                                               x['input_names'],\n",
    "                                                               fldgrn_folder, \n",
    "                                                               learner_default_dict), axis = 1)\n",
    "\n",
    "df_SubUnit['SubUnit_DefaultBasicNN_List'] = s\n",
    "\n",
    "\n",
    "\n",
    "s = df_SubUnit.apply(lambda x: get_SubUnit_BasicNN_Config_List(x['SubUnit_BasicNN_List'], \n",
    "                                                               x['SubUnit_DefaultBasicNN_List'], \n",
    "                                                               x['input_names'], \n",
    "                                                               x['output_name'], \n",
    "                                                                embed_size, \n",
    "                                                                process, \n",
    "                                                               ), axis = 1)\n",
    "\n",
    "df_SubUnit['SubUnit_BasicNN_Config_List'] = s\n",
    "df_SubUnit"
   ]
  },
  {
   "cell_type": "code",
   "execution_count": null,
   "id": "eee1d014-1804-402b-933b-6c866cc40b39",
   "metadata": {
    "tags": []
   },
   "outputs": [
    {
     "name": "stderr",
     "output_type": "stream",
     "text": [
      "Some weights of the model checkpoint at bert-base-uncased were not used when initializing BertModel: ['cls.predictions.transform.LayerNorm.bias', 'cls.seq_relationship.weight', 'cls.predictions.decoder.weight', 'cls.predictions.transform.dense.bias', 'cls.seq_relationship.bias', 'cls.predictions.transform.dense.weight', 'cls.predictions.transform.LayerNorm.weight', 'cls.predictions.bias']\n",
      "- This IS expected if you are initializing BertModel from the checkpoint of a model trained on another task or with another architecture (e.g. initializing a BertForSequenceClassification model from a BertForPreTraining model).\n",
      "- This IS NOT expected if you are initializing BertModel from the checkpoint of a model that you expect to be exactly identical (initializing a BertForSequenceClassification model from a BertForSequenceClassification model).\n"
     ]
    }
   ],
   "source": [
    "from fieldnn.module.embedblock import EmbedBlockLayer\n",
    "\n",
    "EmbedBlock = EmbedBlockLayer(df_SubUnit)\n",
    "\n",
    "RECFLD_TO_EMBEDTESNOR = EmbedBlock(RECFLD_TO_TENSOR)\n",
    "\n",
    "for k, v in RECFLD_TO_EMBEDTESNOR.items():\n",
    "    print(k, v['info'].shape)"
   ]
  },
  {
   "cell_type": "markdown",
   "id": "b5a4bf00-d8a3-4751-8b58-5b8774b680ee",
   "metadata": {},
   "source": [
    "# Get Input Tensors"
   ]
  },
  {
   "cell_type": "code",
   "execution_count": 1,
   "id": "89c6626f-7e2d-42f1-9434-700af2e3e1b0",
   "metadata": {
    "tags": []
   },
   "outputs": [],
   "source": [
    "for full_recfld, info_dict in RECFLD_TO_EMBEDTESNOR.items():\n",
    "    print(full_recfld, info_dict['info'].shape)"
   ]
  },
  {
   "cell_type": "code",
   "execution_count": null,
   "id": "e90bffbd-46f7-4690-b835-b59dff5d782a",
   "metadata": {
    "tags": []
   },
   "outputs": [],
   "source": [
    "max_layer = max([len(i.split('-')) for i in RECFLD_TO_EMBEDTESNOR])\n",
    "max_layer"
   ]
  },
  {
   "cell_type": "markdown",
   "id": "4c154278-7a1b-40f5-bd31-00a0934ff69e",
   "metadata": {},
   "source": [
    "# Get df DataFlow"
   ]
  },
  {
   "cell_type": "code",
   "execution_count": null,
   "id": "d08d2743-bd59-436b-b360-030eb24c0492",
   "metadata": {
    "tags": []
   },
   "outputs": [],
   "source": [
    "# # fieldnn.utils.datanamefn.py\n",
    "\n",
    "# def get_curfld_recinfo(curfld):\n",
    "#     '''\n",
    "#         a helper function that get the rec information from the current recfldgrn name.\n",
    "#         the input is: prefix_rec@fld_grn\n",
    "#         we want to check whether @ is here. \n",
    "#         If there is a @ in the current level, we want to put the rec as the potential merger target. \n",
    "#     '''\n",
    "#     if '@' in curfld:\n",
    "#         fld_list = curfld.split('@')\n",
    "#         return '@'.join(fld_list[:-1]), fld_list[-1]\n",
    "#     else:\n",
    "#         return None, curfld"
   ]
  },
  {
   "cell_type": "code",
   "execution_count": 2,
   "id": "43dc6d31-55f4-4d70-8039-04304b380062",
   "metadata": {
    "tags": []
   },
   "outputs": [],
   "source": [
    "# fieldnn.dataflowfn.reprflowfn.py\n",
    "\n",
    "import numpy as np\n",
    "import pandas as pd\n",
    "\n",
    "\n",
    "def get_Repr_dataflow_table(full_recfldgrn_list):\n",
    "    '''\n",
    "        input: a list of full_recfldgrn\n",
    "        output: the dataframe that shows the data flow from the grain-embedding-tensor to final feature vector.\n",
    "    '''\n",
    "    max_layer = max([len(i.split('-')) for i in full_recfldgrn_list])\n",
    "    L = []\n",
    "    for full_recfldgrn in full_recfldgrn_list:\n",
    "        d = {}\n",
    "        recfldgrn = '-'.join(full_recfldgrn.split('-')[-2:])\n",
    "        current_layer_id = len(full_recfldgrn.split('-'))\n",
    "        d['recfldgrn'] = recfldgrn\n",
    "        for layer_id in range(max_layer, 1, -1):\n",
    "            if layer_id > current_layer_id:\n",
    "                d[layer_id] = np.nan\n",
    "            elif layer_id == current_layer_id:\n",
    "                d[layer_id] = full_recfldgrn\n",
    "            else:\n",
    "                d[layer_id] = np.nan\n",
    "        L.append(d)\n",
    "    df_dataflow = pd.DataFrame(L).set_index('recfldgrn')\n",
    "    return df_dataflow\n"
   ]
  },
  {
   "cell_type": "code",
   "execution_count": 44,
   "id": "4beb698d-c5bd-4c6a-967a-09f62067e65b",
   "metadata": {
    "tags": []
   },
   "outputs": [],
   "source": [
    "def update_df_Repr_dataflow(df):\n",
    "    \n",
    "    df_dataflow = df.copy()\n",
    "\n",
    "    for layer_idx in df_dataflow.columns:\n",
    "        \n",
    "        # from layerid: full_recfldgrn to layerid-1: pfx_rec if pfx_rec is unique.\n",
    "        for index in df_dataflow.index:\n",
    "            full_recfldgrn = df_dataflow.loc[index, layer_idx] \n",
    "            if pd.isna(full_recfldgrn): continue\n",
    "            # if full_recfldgrn == 'ToFill': continue\n",
    "            pfx_rec = '-'.join(full_recfldgrn.split('-')[:-1])\n",
    "            cur_rec = full_recfldgrn.split('-')[-1]\n",
    "            s = df_dataflow.loc[df_dataflow.index != index, layer_idx]\n",
    "            current_fullrfg_list = s[-s.isna()].to_list()\n",
    "            current_pfxrec_list = ['-'.join(i.split('-')[:-1]) for i in current_fullrfg_list]\n",
    "\n",
    "            # print(current_pfxrec_list)\n",
    "            if pfx_rec not in current_pfxrec_list:\n",
    "                pfx_rec_list = pfx_rec.split('-')\n",
    "                pfx_rec_list[-1] = pfx_rec_list[-1].replace('@', '')\n",
    "                output_recfldgrn = '-'.join(pfx_rec_list)\n",
    "                df_dataflow.loc[index, layer_idx - 1] = output_recfldgrn\n",
    "        \n",
    "        # create new merge index.\n",
    "        s = df_dataflow.loc[:, layer_idx]\n",
    "        current_fullrfg_list = s[-s.isna()].to_list()\n",
    "        if len(current_fullrfg_list) == 0: continue\n",
    "        current_pfxrec_list = [{'i': i, 'j': '-'.join(i.split('-')[:-1])} for i in current_fullrfg_list]\n",
    "        dfx = pd.DataFrame(current_pfxrec_list)\n",
    "        s = dfx.groupby('j').apply(lambda x: x['i'].to_list()).to_dict()\n",
    "        s = {k: v for k, v in s.items() if len(v) > 1}\n",
    "        # print(s)\n",
    "        for pfx_rec, fullrec_list in s.items():\n",
    "            \n",
    "            full_recfldgrn_new = pfx_rec + '-' + '&'.join([i.split('-')[-1] for i in fullrec_list])\n",
    "            new_index = '(Merge)' + full_recfldgrn_new\n",
    "            l = list(df_dataflow.index)\n",
    "            \n",
    "            # print(fullrec_list, '<----')\n",
    "            # print(df_dataflow[layer_idx].to_list(), '<----')\n",
    "            \n",
    "            selected_index_list = df_dataflow[df_dataflow[layer_idx].isin(fullrec_list)].index\n",
    "            # print(selected_index_list)\n",
    "            loc = max([l.index(i) for i in selected_index_list])\n",
    "            l.insert(loc + 1, new_index)\n",
    "            \n",
    "            df_dataflow.loc[new_index, layer_idx] = full_recfldgrn_new\n",
    "            df_dataflow.loc[new_index, layer_idx-1] = pfx_rec\n",
    "            df_dataflow = df_dataflow.reindex(l)\n",
    "            \n",
    "            \n",
    "    df_dataflow = df_dataflow.iloc[:, :-1]\n",
    "            \n",
    "    return df_dataflow"
   ]
  },
  {
   "cell_type": "code",
   "execution_count": 45,
   "id": "79072e24-e33d-496e-8b8a-112f41de0ee3",
   "metadata": {
    "tags": []
   },
   "outputs": [],
   "source": [
    "def update_df_Repr_dataflow_completename(df):\n",
    "    df_dataflow = df.copy()\n",
    "    L = []\n",
    "    for recfldgrn, row in df_dataflow.iterrows():\n",
    "        # print(recfldgrn)\n",
    "        new_row = {}\n",
    "        new_row['recfldgrn'] = recfldgrn\n",
    "        full_recfldgrn = [i for i in row.values if not pd.isna(i)][0]\n",
    "        curlayer_idx = len(full_recfldgrn.split('-'))\n",
    "        for layer_idx, full_recfldgrn in row.items():\n",
    "            if curlayer_idx < layer_idx:\n",
    "                new_row[layer_idx] = np.nan\n",
    "            elif curlayer_idx == layer_idx:\n",
    "                new_row[layer_idx] = full_recfldgrn\n",
    "            elif curlayer_idx > layer_idx:\n",
    "                last = new_row[layer_idx+1]\n",
    "                output_fullname = '-'.join(last.split('-')[:-1]) + '@' + last.split('-')[- 1]\n",
    "                new_row[layer_idx] = output_fullname\n",
    "            else:\n",
    "                raise ValueError('wrong information')\n",
    "        L.append(new_row)\n",
    "    df_dataflow_filled = pd.DataFrame(L).set_index('recfldgrn')\n",
    "    return df_dataflow_filled"
   ]
  },
  {
   "cell_type": "markdown",
   "id": "79f09624-6c3a-4ecd-8c40-66e31fafbd0c",
   "metadata": {},
   "source": [
    "## Test"
   ]
  },
  {
   "cell_type": "code",
   "execution_count": 53,
   "id": "1a438d74-2d5b-4fd5-af80-ea3e389664d5",
   "metadata": {
    "tags": []
   },
   "outputs": [
    {
     "data": {
      "text/html": [
       "<div>\n",
       "<style scoped>\n",
       "    .dataframe tbody tr th:only-of-type {\n",
       "        vertical-align: middle;\n",
       "    }\n",
       "\n",
       "    .dataframe tbody tr th {\n",
       "        vertical-align: top;\n",
       "    }\n",
       "\n",
       "    .dataframe thead th {\n",
       "        text-align: right;\n",
       "    }\n",
       "</style>\n",
       "<table border=\"1\" class=\"dataframe\">\n",
       "  <thead>\n",
       "    <tr style=\"text-align: right;\">\n",
       "      <th></th>\n",
       "      <th>5</th>\n",
       "      <th>4</th>\n",
       "      <th>3</th>\n",
       "      <th>2</th>\n",
       "    </tr>\n",
       "    <tr>\n",
       "      <th>recfldgrn</th>\n",
       "      <th></th>\n",
       "      <th></th>\n",
       "      <th></th>\n",
       "      <th></th>\n",
       "    </tr>\n",
       "  </thead>\n",
       "  <tbody>\n",
       "    <tr>\n",
       "      <th>P-Info</th>\n",
       "      <td>NaN</td>\n",
       "      <td>NaN</td>\n",
       "      <td>B-P-Info</td>\n",
       "      <td>NaN</td>\n",
       "    </tr>\n",
       "    <tr>\n",
       "      <th>PNSect-Tknz</th>\n",
       "      <td>B-P-EC-PNSect-Tknz</td>\n",
       "      <td>B-P-EC-PNSect</td>\n",
       "      <td>B-P-EC</td>\n",
       "      <td>NaN</td>\n",
       "    </tr>\n",
       "    <tr>\n",
       "      <th>(Merge)B-P-Info&amp;EC</th>\n",
       "      <td>NaN</td>\n",
       "      <td>NaN</td>\n",
       "      <td>B-P-Info&amp;EC</td>\n",
       "      <td>B-P</td>\n",
       "    </tr>\n",
       "  </tbody>\n",
       "</table>\n",
       "</div>"
      ],
      "text/plain": [
       "                                     5              4            3    2\n",
       "recfldgrn                                                              \n",
       "P-Info                             NaN            NaN     B-P-Info  NaN\n",
       "PNSect-Tknz         B-P-EC-PNSect-Tknz  B-P-EC-PNSect       B-P-EC  NaN\n",
       "(Merge)B-P-Info&EC                 NaN            NaN  B-P-Info&EC  B-P"
      ]
     },
     "execution_count": 53,
     "metadata": {},
     "output_type": "execute_result"
    }
   ],
   "source": [
    "# full_recfldgrn_list = [i for i in RECFLD_TO_EMBEDTESNOR]\n",
    "full_recfldgrn_list = ['B-P-Info', \n",
    "                       'B-P-EC-PNSect-Tknz']\n",
    "\n",
    "df_dataflow = get_Repr_dataflow_table(full_recfldgrn_list)\n",
    "df_dataflow_new = update_df_Repr_dataflow(df_dataflow)\n",
    "df_dataflow_new"
   ]
  },
  {
   "cell_type": "code",
   "execution_count": 87,
   "id": "6689ce01-fe8a-4312-b920-9157379f2a26",
   "metadata": {
    "tags": []
   },
   "outputs": [
    {
     "data": {
      "text/html": [
       "<div>\n",
       "<style scoped>\n",
       "    .dataframe tbody tr th:only-of-type {\n",
       "        vertical-align: middle;\n",
       "    }\n",
       "\n",
       "    .dataframe tbody tr th {\n",
       "        vertical-align: top;\n",
       "    }\n",
       "\n",
       "    .dataframe thead th {\n",
       "        text-align: right;\n",
       "    }\n",
       "</style>\n",
       "<table border=\"1\" class=\"dataframe\">\n",
       "  <thead>\n",
       "    <tr style=\"text-align: right;\">\n",
       "      <th></th>\n",
       "      <th>5</th>\n",
       "      <th>4</th>\n",
       "      <th>3</th>\n",
       "      <th>2</th>\n",
       "    </tr>\n",
       "    <tr>\n",
       "      <th>recfldgrn</th>\n",
       "      <th></th>\n",
       "      <th></th>\n",
       "      <th></th>\n",
       "      <th></th>\n",
       "    </tr>\n",
       "  </thead>\n",
       "  <tbody>\n",
       "    <tr>\n",
       "      <th>P-Info</th>\n",
       "      <td>NaN</td>\n",
       "      <td>NaN</td>\n",
       "      <td>B-P-Info</td>\n",
       "      <td>NaN</td>\n",
       "    </tr>\n",
       "    <tr>\n",
       "      <th>EC-EHR</th>\n",
       "      <td>NaN</td>\n",
       "      <td>B-P-EC-EHR</td>\n",
       "      <td>NaN</td>\n",
       "      <td>NaN</td>\n",
       "    </tr>\n",
       "    <tr>\n",
       "      <th>PNSect-Tknz</th>\n",
       "      <td>B-P-EC-PNSect-Tknz</td>\n",
       "      <td>B-P-EC-PNSect</td>\n",
       "      <td>NaN</td>\n",
       "      <td>NaN</td>\n",
       "    </tr>\n",
       "    <tr>\n",
       "      <th>(Merge)B-P-EC-EHR&amp;PNSect</th>\n",
       "      <td>NaN</td>\n",
       "      <td>B-P-EC-EHR&amp;PNSect</td>\n",
       "      <td>B-P-EC</td>\n",
       "      <td>NaN</td>\n",
       "    </tr>\n",
       "    <tr>\n",
       "      <th>(Merge)B-P-Info&amp;EC</th>\n",
       "      <td>NaN</td>\n",
       "      <td>NaN</td>\n",
       "      <td>B-P-Info&amp;EC</td>\n",
       "      <td>B-P</td>\n",
       "    </tr>\n",
       "  </tbody>\n",
       "</table>\n",
       "</div>"
      ],
      "text/plain": [
       "                                           5                  4            3  \\\n",
       "recfldgrn                                                                      \n",
       "P-Info                                   NaN                NaN     B-P-Info   \n",
       "EC-EHR                                   NaN         B-P-EC-EHR          NaN   \n",
       "PNSect-Tknz               B-P-EC-PNSect-Tknz      B-P-EC-PNSect          NaN   \n",
       "(Merge)B-P-EC-EHR&PNSect                 NaN  B-P-EC-EHR&PNSect       B-P-EC   \n",
       "(Merge)B-P-Info&EC                       NaN                NaN  B-P-Info&EC   \n",
       "\n",
       "                            2  \n",
       "recfldgrn                      \n",
       "P-Info                    NaN  \n",
       "EC-EHR                    NaN  \n",
       "PNSect-Tknz               NaN  \n",
       "(Merge)B-P-EC-EHR&PNSect  NaN  \n",
       "(Merge)B-P-Info&EC        B-P  "
      ]
     },
     "execution_count": 87,
     "metadata": {},
     "output_type": "execute_result"
    }
   ],
   "source": [
    "# full_recfldgrn_list = [i for i in RECFLD_TO_EMBEDTESNOR]\n",
    "full_recfldgrn_list = ['B-P-Info', \n",
    "                       'B-P-EC-EHR', \n",
    "                       'B-P-EC-PNSect-Tknz']\n",
    "\n",
    "df_dataflow = get_Repr_dataflow_table(full_recfldgrn_list)\n",
    "df_dataflow_new = update_df_Repr_dataflow(df_dataflow)\n",
    "df_dataflow_new"
   ]
  },
  {
   "cell_type": "code",
   "execution_count": 88,
   "id": "9edba3d4-5b20-4048-8536-7c8ff400d984",
   "metadata": {
    "tags": []
   },
   "outputs": [],
   "source": [
    "# df_dataflow_new = update_df_Repr_dataflow(df_dataflow, style = 'Reducer&Merger')\n",
    "# df_dataflow_new"
   ]
  },
  {
   "cell_type": "markdown",
   "id": "193cebee-74c7-44bc-a06a-092aac5c7649",
   "metadata": {},
   "source": [
    "# Get df SubUnit"
   ]
  },
  {
   "cell_type": "code",
   "execution_count": 89,
   "id": "ade0aca0-fd7b-44ee-81bc-6b0e1bbeaf1d",
   "metadata": {
    "tags": []
   },
   "outputs": [],
   "source": [
    "df_dataflow = df_dataflow_new.copy()"
   ]
  },
  {
   "cell_type": "code",
   "execution_count": 90,
   "id": "c116f107-884a-407b-b609-0dd4a0bf3e1c",
   "metadata": {
    "tags": []
   },
   "outputs": [
    {
     "data": {
      "text/plain": [
       "[5, 4, 3, 2]"
      ]
     },
     "execution_count": 90,
     "metadata": {},
     "output_type": "execute_result"
    }
   ],
   "source": [
    "layeridx_list = list(df_dataflow.columns)\n",
    "layeridx_list"
   ]
  },
  {
   "cell_type": "code",
   "execution_count": 91,
   "id": "539bae51-0598-4cec-8947-60e89690dacd",
   "metadata": {
    "tags": []
   },
   "outputs": [
    {
     "name": "stdout",
     "output_type": "stream",
     "text": [
      "5 4\n",
      "4 3\n",
      "3 2\n"
     ]
    }
   ],
   "source": [
    "for idx in range(len(layeridx_list) - 1):\n",
    "    A_layerid = layeridx_list[idx]\n",
    "    B_layerid = layeridx_list[idx + 1]\n",
    "    print(A_layerid, B_layerid)"
   ]
  },
  {
   "cell_type": "code",
   "execution_count": 92,
   "id": "afd4f0de-7b4b-4dfb-aac4-602dfb31b62d",
   "metadata": {
    "tags": []
   },
   "outputs": [
    {
     "name": "stdout",
     "output_type": "stream",
     "text": [
      "\n",
      "From Layer 5 to 4:\n",
      "A 5 {'PNSect-Tknz': 'B-P-EC-PNSect-Tknz'}\n",
      "B 4 {'EC-EHR': 'B-P-EC-EHR', 'PNSect-Tknz': 'B-P-EC-PNSect', '(Merge)B-P-EC-EHR&PNSect': 'B-P-EC-EHR&PNSect'}\n",
      "\n",
      "From Layer 4 to 3:\n",
      "A 4 {'EC-EHR': 'B-P-EC-EHR', 'PNSect-Tknz': 'B-P-EC-PNSect', '(Merge)B-P-EC-EHR&PNSect': 'B-P-EC-EHR&PNSect'}\n",
      "B 3 {'P-Info': 'B-P-Info', '(Merge)B-P-EC-EHR&PNSect': 'B-P-EC', '(Merge)B-P-Info&EC': 'B-P-Info&EC'}\n",
      "\n",
      "From Layer 3 to 2:\n",
      "A 3 {'P-Info': 'B-P-Info', '(Merge)B-P-EC-EHR&PNSect': 'B-P-EC', '(Merge)B-P-Info&EC': 'B-P-Info&EC'}\n",
      "B 2 {'(Merge)B-P-Info&EC': 'B-P'}\n"
     ]
    }
   ],
   "source": [
    "for idx in range(len(layeridx_list) - 1):\n",
    "    A_layerid = layeridx_list[idx]\n",
    "    B_layerid = layeridx_list[idx + 1]\n",
    "    # print(A_layerid, B_layerid)\n",
    "    \n",
    "    \n",
    "    A_tensors = df_dataflow[A_layerid]\n",
    "    A_tensors = A_tensors[-A_tensors.isna()].to_dict()\n",
    "    \n",
    "    B_tensors = df_dataflow[B_layerid]\n",
    "    B_tensors = B_tensors[-B_tensors.isna()].to_dict()\n",
    "    \n",
    "    \n",
    "    print(f'\\nFrom Layer {A_layerid} to {B_layerid}:')\n",
    "    \n",
    "    # from A tensor to B tensor, we have the Reducer NNs.\n",
    "    # also notice that some \n",
    "    print('A', A_layerid, A_tensors)\n",
    "\n",
    "    \n",
    "    # from B tensor: potential there are some Merger NNs. \n",
    "    print('B', B_layerid, B_tensors)"
   ]
  },
  {
   "cell_type": "code",
   "execution_count": 101,
   "id": "389f06b2-3fd0-454b-9586-0383b550d461",
   "metadata": {
    "tags": []
   },
   "outputs": [],
   "source": [
    "\n",
    "def get_Repr_SubUnit_List(df_dataflow, \n",
    "                          default_R_subunit_name = 'RL', \n",
    "                          default_MR_subunit_name = 'ML', # or 'MLRL'\n",
    "                         ):\n",
    "    layeridx_list = list(df_dataflow.columns)\n",
    "    \n",
    "    SubUnit_List = []\n",
    "    for idx in range(len(layeridx_list) - 1):\n",
    "        A_layerid = layeridx_list[idx]\n",
    "        B_layerid = layeridx_list[idx + 1]\n",
    "        # print(A_layerid, B_layerid)\n",
    "\n",
    "        A_tensors = df_dataflow[A_layerid]\n",
    "        A_tensors = A_tensors[-A_tensors.isna()].to_dict()\n",
    "\n",
    "        B_tensors = df_dataflow[B_layerid]\n",
    "        B_tensors = B_tensors[-B_tensors.isna()].to_dict()\n",
    "        \n",
    "        \n",
    "        # Deal with the Merge First.\n",
    "        # from B tensor: potential there are some Merger NNs. \n",
    "        # print('B', B_tensors)\n",
    "        # check whether these is a '(Merger') in the key\n",
    "        # merger_tensors = [v for k, v in B_tensors.items() if '(Merge)' in k and '@' not in v]\n",
    "        # merger_tensors = [v for k, v in B_tensors.items() if '(Merge)' in k]\n",
    "        # print('B-merger_tensors', merger_tensors)\n",
    "        \n",
    "        merger_tensors = [tensor for index, tensor in A_tensors.items() \n",
    "                          if '(Merge)' in index and '&' in tensor]\n",
    "        \n",
    "        # print(merger_tensors, '<----- merger_tensors', A_layerid)\n",
    "\n",
    "        for output_tensor in merger_tensors:\n",
    "            # print(B_tensors, '<---- B_tensor')\n",
    "            input_tensors = [i for k, i in A_tensors.items() \n",
    "                             if '-'.join(output_tensor.split('-')[:-1]) == '-'.join(i.split('-')[:-1])]\n",
    "            input_tensors = [i for i in input_tensors if i != output_tensor]\n",
    "            # print(output_tensor, ':', input_tensors)\n",
    "\n",
    "            d = {}\n",
    "            d['SubUnitName'] = default_MR_subunit_name\n",
    "            d['input_names'] = input_tensors\n",
    "            d['output_name'] = output_tensor\n",
    "            \n",
    "            d['input_layerid'] = A_layerid\n",
    "            d['output_layerid'] = A_layerid\n",
    "        \n",
    "            SubUnit_List.append(d)\n",
    "        \n",
    "\n",
    "        # print(f'\\nFrom Layer {A_layerid} to {B_layerid}:')\n",
    "\n",
    "        # from A tensor to B tensor, we have the Reducer NNs.\n",
    "        # also notice that some \n",
    "\n",
    "        # print('A', A_tensors)\n",
    "        for k in A_tensors:\n",
    "            # pass the merged tensors. \n",
    "            if k not in B_tensors: continue\n",
    "\n",
    "            input_name = A_tensors[k]\n",
    "            output_name = B_tensors[k]\n",
    "\n",
    "            if pd.isna(output_name) == True: continue # pass it. \n",
    "\n",
    "            d = {}\n",
    "            d['SubUnitName'] = default_R_subunit_name\n",
    "            d['input_names'] = [input_name]\n",
    "            d['output_name'] = output_name\n",
    "            \n",
    "            d['input_layerid'] = A_layerid\n",
    "            d['output_layerid'] = B_layerid\n",
    "        \n",
    "            SubUnit_List.append(d)\n",
    "    df_SubUnit = pd.DataFrame(SubUnit_List)\n",
    "    return df_SubUnit\n",
    "\n",
    "\n"
   ]
  },
  {
   "cell_type": "code",
   "execution_count": 102,
   "id": "0ceebcef-1cd1-46d8-836e-9a89efec143c",
   "metadata": {
    "tags": []
   },
   "outputs": [
    {
     "data": {
      "text/html": [
       "<div>\n",
       "<style scoped>\n",
       "    .dataframe tbody tr th:only-of-type {\n",
       "        vertical-align: middle;\n",
       "    }\n",
       "\n",
       "    .dataframe tbody tr th {\n",
       "        vertical-align: top;\n",
       "    }\n",
       "\n",
       "    .dataframe thead th {\n",
       "        text-align: right;\n",
       "    }\n",
       "</style>\n",
       "<table border=\"1\" class=\"dataframe\">\n",
       "  <thead>\n",
       "    <tr style=\"text-align: right;\">\n",
       "      <th></th>\n",
       "      <th>SubUnitName</th>\n",
       "      <th>input_names</th>\n",
       "      <th>output_name</th>\n",
       "      <th>input_layerid</th>\n",
       "      <th>output_layerid</th>\n",
       "    </tr>\n",
       "  </thead>\n",
       "  <tbody>\n",
       "    <tr>\n",
       "      <th>0</th>\n",
       "      <td>R</td>\n",
       "      <td>[B-P-EC-PNSect-Tknz]</td>\n",
       "      <td>B-P-EC-PNSect</td>\n",
       "      <td>5</td>\n",
       "      <td>4</td>\n",
       "    </tr>\n",
       "    <tr>\n",
       "      <th>1</th>\n",
       "      <td>M</td>\n",
       "      <td>[B-P-EC-EHR, B-P-EC-PNSect]</td>\n",
       "      <td>B-P-EC-EHR&amp;PNSect</td>\n",
       "      <td>4</td>\n",
       "      <td>4</td>\n",
       "    </tr>\n",
       "    <tr>\n",
       "      <th>2</th>\n",
       "      <td>R</td>\n",
       "      <td>[B-P-EC-EHR&amp;PNSect]</td>\n",
       "      <td>B-P-EC</td>\n",
       "      <td>4</td>\n",
       "      <td>3</td>\n",
       "    </tr>\n",
       "    <tr>\n",
       "      <th>3</th>\n",
       "      <td>M</td>\n",
       "      <td>[B-P-Info, B-P-EC]</td>\n",
       "      <td>B-P-Info&amp;EC</td>\n",
       "      <td>3</td>\n",
       "      <td>3</td>\n",
       "    </tr>\n",
       "    <tr>\n",
       "      <th>4</th>\n",
       "      <td>R</td>\n",
       "      <td>[B-P-Info&amp;EC]</td>\n",
       "      <td>B-P</td>\n",
       "      <td>3</td>\n",
       "      <td>2</td>\n",
       "    </tr>\n",
       "  </tbody>\n",
       "</table>\n",
       "</div>"
      ],
      "text/plain": [
       "  SubUnitName                  input_names        output_name  input_layerid  \\\n",
       "0           R         [B-P-EC-PNSect-Tknz]      B-P-EC-PNSect              5   \n",
       "1           M  [B-P-EC-EHR, B-P-EC-PNSect]  B-P-EC-EHR&PNSect              4   \n",
       "2           R          [B-P-EC-EHR&PNSect]             B-P-EC              4   \n",
       "3           M           [B-P-Info, B-P-EC]        B-P-Info&EC              3   \n",
       "4           R                [B-P-Info&EC]                B-P              3   \n",
       "\n",
       "   output_layerid  \n",
       "0               4  \n",
       "1               4  \n",
       "2               3  \n",
       "3               3  \n",
       "4               2  "
      ]
     },
     "execution_count": 102,
     "metadata": {},
     "output_type": "execute_result"
    }
   ],
   "source": [
    "default_R_subunit_name = 'R'\n",
    "default_MR_subunit_name = 'M'\n",
    "\n",
    "df_SubUnit = get_Repr_SubUnit_List(df_dataflow, default_R_subunit_name, default_MR_subunit_name)\n",
    "df_SubUnit"
   ]
  },
  {
   "cell_type": "code",
   "execution_count": 103,
   "id": "2f533711-10dc-4b91-bd88-c347660615f4",
   "metadata": {},
   "outputs": [
    {
     "data": {
      "text/html": [
       "<div>\n",
       "<style scoped>\n",
       "    .dataframe tbody tr th:only-of-type {\n",
       "        vertical-align: middle;\n",
       "    }\n",
       "\n",
       "    .dataframe tbody tr th {\n",
       "        vertical-align: top;\n",
       "    }\n",
       "\n",
       "    .dataframe thead th {\n",
       "        text-align: right;\n",
       "    }\n",
       "</style>\n",
       "<table border=\"1\" class=\"dataframe\">\n",
       "  <thead>\n",
       "    <tr style=\"text-align: right;\">\n",
       "      <th></th>\n",
       "      <th>5</th>\n",
       "      <th>4</th>\n",
       "      <th>3</th>\n",
       "      <th>2</th>\n",
       "    </tr>\n",
       "    <tr>\n",
       "      <th>recfldgrn</th>\n",
       "      <th></th>\n",
       "      <th></th>\n",
       "      <th></th>\n",
       "      <th></th>\n",
       "    </tr>\n",
       "  </thead>\n",
       "  <tbody>\n",
       "    <tr>\n",
       "      <th>P-Info</th>\n",
       "      <td>NaN</td>\n",
       "      <td>NaN</td>\n",
       "      <td>B-P-Info</td>\n",
       "      <td>NaN</td>\n",
       "    </tr>\n",
       "    <tr>\n",
       "      <th>EC-EHR</th>\n",
       "      <td>NaN</td>\n",
       "      <td>B-P-EC-EHR</td>\n",
       "      <td>NaN</td>\n",
       "      <td>NaN</td>\n",
       "    </tr>\n",
       "    <tr>\n",
       "      <th>PNSect-Tknz</th>\n",
       "      <td>B-P-EC-PNSect-Tknz</td>\n",
       "      <td>B-P-EC-PNSect</td>\n",
       "      <td>NaN</td>\n",
       "      <td>NaN</td>\n",
       "    </tr>\n",
       "    <tr>\n",
       "      <th>(Merge)B-P-EC-EHR&amp;PNSect</th>\n",
       "      <td>NaN</td>\n",
       "      <td>B-P-EC-EHR&amp;PNSect</td>\n",
       "      <td>B-P-EC</td>\n",
       "      <td>NaN</td>\n",
       "    </tr>\n",
       "    <tr>\n",
       "      <th>(Merge)B-P-Info&amp;EC</th>\n",
       "      <td>NaN</td>\n",
       "      <td>NaN</td>\n",
       "      <td>B-P-Info&amp;EC</td>\n",
       "      <td>B-P</td>\n",
       "    </tr>\n",
       "  </tbody>\n",
       "</table>\n",
       "</div>"
      ],
      "text/plain": [
       "                                           5                  4            3  \\\n",
       "recfldgrn                                                                      \n",
       "P-Info                                   NaN                NaN     B-P-Info   \n",
       "EC-EHR                                   NaN         B-P-EC-EHR          NaN   \n",
       "PNSect-Tknz               B-P-EC-PNSect-Tknz      B-P-EC-PNSect          NaN   \n",
       "(Merge)B-P-EC-EHR&PNSect                 NaN  B-P-EC-EHR&PNSect       B-P-EC   \n",
       "(Merge)B-P-Info&EC                       NaN                NaN  B-P-Info&EC   \n",
       "\n",
       "                            2  \n",
       "recfldgrn                      \n",
       "P-Info                    NaN  \n",
       "EC-EHR                    NaN  \n",
       "PNSect-Tknz               NaN  \n",
       "(Merge)B-P-EC-EHR&PNSect  NaN  \n",
       "(Merge)B-P-Info&EC        B-P  "
      ]
     },
     "execution_count": 103,
     "metadata": {},
     "output_type": "execute_result"
    }
   ],
   "source": [
    "df_dataflow"
   ]
  },
  {
   "cell_type": "code",
   "execution_count": null,
   "id": "d2b95e5a-b25d-4a37-a2b0-e7a42c9b1567",
   "metadata": {},
   "outputs": [],
   "source": []
  }
 ],
 "metadata": {
  "kernelspec": {
   "display_name": "Python 3 (ipykernel)",
   "language": "python",
   "name": "python3"
  },
  "language_info": {
   "codemirror_mode": {
    "name": "ipython",
    "version": 3
   },
   "file_extension": ".py",
   "mimetype": "text/x-python",
   "name": "python",
   "nbconvert_exporter": "python",
   "pygments_lexer": "ipython3",
   "version": "3.8.8"
  },
  "toc-autonumbering": true
 },
 "nbformat": 4,
 "nbformat_minor": 5
}
