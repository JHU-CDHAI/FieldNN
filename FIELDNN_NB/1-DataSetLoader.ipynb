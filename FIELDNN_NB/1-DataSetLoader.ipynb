{
 "cells": [
  {
   "cell_type": "code",
   "execution_count": 1,
   "metadata": {
    "tags": []
   },
   "outputs": [
    {
     "name": "stdout",
     "output_type": "stream",
     "text": [
      "/Users/floydluo/Library/CloudStorage/OneDrive-JohnsHopkins/000Projects/0000-Infrastructure/0000-RecFld/FieldNN\n"
     ]
    }
   ],
   "source": [
    "%cd .."
   ]
  },
  {
   "cell_type": "markdown",
   "metadata": {
    "id": "eQp3UmDGB7Xr"
   },
   "source": [
    "# recfldgrn List\n",
    "\n",
    "\n",
    "In this section, we want to get all available `rec@fld_grn list`."
   ]
  },
  {
   "cell_type": "code",
   "execution_count": 2,
   "metadata": {
    "tags": []
   },
   "outputs": [],
   "source": [
    "# load some data reader function from recfldgrn module.\n",
    "from recfldgrn.datapoint import convert_PID_to_PIDgroup\n",
    "from recfldgrn.datapoint import RANGE_SIZE, write_df_to_folders, load_df_data_from_folder\n",
    "import os"
   ]
  },
  {
   "cell_type": "markdown",
   "metadata": {},
   "source": [
    "Load the raw tensor (idx) from a TaskTensor Folder.\n",
    "\n",
    "Here we treat the Task as given (the cohort, X, and Y are ready). \n",
    "\n",
    "Here the task name is `Task2YearXXX` (this name is meaningless, just for demonstration).\n",
    "\n",
    "At the end, we have `recfldgrn_list` which shows all available `rec@fld_grn` we have."
   ]
  },
  {
   "cell_type": "code",
   "execution_count": 3,
   "metadata": {
    "tags": []
   },
   "outputs": [
    {
     "name": "stdout",
     "output_type": "stream",
     "text": [
      "data/ProcData/FldGrnTensor/\n"
     ]
    },
    {
     "data": {
      "text/plain": [
       "['P-EC-PNSect-TknzGrn', 'P-InfoGrn']"
      ]
     },
     "execution_count": 3,
     "metadata": {},
     "output_type": "execute_result"
    }
   ],
   "source": [
    "Tensor_folder = 'data/ProcData/FldGrnTensor/'\n",
    "print(Tensor_folder)\n",
    "recfldgrn_list = sorted([i for i in os.listdir(Tensor_folder) if 'Grn' in i])\n",
    "recfldgrn_list"
   ]
  },
  {
   "cell_type": "markdown",
   "metadata": {},
   "source": [
    "# One recfldgrn"
   ]
  },
  {
   "cell_type": "markdown",
   "metadata": {},
   "source": [
    "Here we focus on one `rec@fld_grn` to check how we parse the information.\n",
    "\n",
    "In the python variable name, we use `recfldgrn` to refer to `rec@fld_grn`.\n"
   ]
  },
  {
   "cell_type": "markdown",
   "metadata": {},
   "source": [
    "## Load df_Pat"
   ]
  },
  {
   "cell_type": "code",
   "execution_count": 4,
   "metadata": {
    "tags": []
   },
   "outputs": [],
   "source": [
    "##############\n",
    "# recfldgrn = 'PNSectSent@Sentence-Tk@TknzLLMGrn'\n",
    "# recfldgrn = 'A1C@DT-DTDftGrn'\n",
    "recfldgrn = 'P-EC-PNSect-TknzGrn'\n",
    "##############"
   ]
  },
  {
   "cell_type": "code",
   "execution_count": 6,
   "metadata": {
    "tags": []
   },
   "outputs": [
    {
     "name": "stdout",
     "output_type": "stream",
     "text": [
      "data/ProcData/FldGrnTensor/P-EC-PNSect-TknzGrn <---- tensor_folder\n",
      "(8, 4) <---- the shape of df_tensor_fnl at top level\n"
     ]
    },
    {
     "data": {
      "text/html": [
       "<div>\n",
       "<style scoped>\n",
       "    .dataframe tbody tr th:only-of-type {\n",
       "        vertical-align: middle;\n",
       "    }\n",
       "\n",
       "    .dataframe tbody tr th {\n",
       "        vertical-align: top;\n",
       "    }\n",
       "\n",
       "    .dataframe thead th {\n",
       "        text-align: right;\n",
       "    }\n",
       "</style>\n",
       "<table border=\"1\" class=\"dataframe\">\n",
       "  <thead>\n",
       "    <tr style=\"text-align: right;\">\n",
       "      <th></th>\n",
       "      <th>PID</th>\n",
       "      <th>P-EC-PNSect-TknzGrn_wgt</th>\n",
       "      <th>P-EC-PNSect-TknzGrn_tknidx</th>\n",
       "      <th>P-EC-PNSect-TknzGrn_fldidx</th>\n",
       "    </tr>\n",
       "  </thead>\n",
       "  <tbody>\n",
       "    <tr>\n",
       "      <th>0</th>\n",
       "      <td>P0</td>\n",
       "      <td>[[[1, 1, 1, 1, 1, 1, 1, 1, 1, 1]], [[1, 1, 1, ...</td>\n",
       "      <td>[[[101, 2053, 2930, 11746, 102, 101, 2053, 293...</td>\n",
       "      <td>[[[2, 2, 2, 2, 2, 1, 1, 1, 1, 1]], [[2, 2, 2, ...</td>\n",
       "    </tr>\n",
       "    <tr>\n",
       "      <th>1</th>\n",
       "      <td>P1</td>\n",
       "      <td>[[[1, 1, 1, 1, 1, 1, 1, 1, 1, 1, 1, 1, 1, 1, 1...</td>\n",
       "      <td>[[[101, 3558, 11360, 102, 101, 3056, 3034, 433...</td>\n",
       "      <td>[[[2, 2, 2, 2, 1, 1, 1, 1, 1, 1, 1, 1, 1, 1, 1...</td>\n",
       "    </tr>\n",
       "    <tr>\n",
       "      <th>2</th>\n",
       "      <td>P2</td>\n",
       "      <td>[[[1, 1, 1, 1, 1, 1, 1, 1, 1, 1]], [[1, 1, 1, ...</td>\n",
       "      <td>[[[101, 2053, 2930, 11746, 102, 101, 2053, 293...</td>\n",
       "      <td>[[[2, 2, 2, 2, 2, 1, 1, 1, 1, 1]], [[2, 2, 2, ...</td>\n",
       "    </tr>\n",
       "    <tr>\n",
       "      <th>3</th>\n",
       "      <td>P3</td>\n",
       "      <td>[[[1, 1, 1, 1, 1, 1, 1, 1, 1, 1, 1, 1, 1, 1, 1...</td>\n",
       "      <td>[[[101, 3558, 11360, 102, 101, 3193, 4769, 199...</td>\n",
       "      <td>[[[2, 2, 2, 2, 1, 1, 1, 1, 1, 1, 1, 1, 1, 1, 1...</td>\n",
       "    </tr>\n",
       "    <tr>\n",
       "      <th>4</th>\n",
       "      <td>P4</td>\n",
       "      <td>[[[1, 1, 1, 1, 1, 1, 1, 1, 1, 1, 1, 1, 1, 1, 1...</td>\n",
       "      <td>[[[101, 2740, 6032, 102, 101, 2036, 3115, 3169...</td>\n",
       "      <td>[[[2, 2, 2, 2, 1, 1, 1, 1, 1, 1, 1, 1, 1, 1, 1...</td>\n",
       "    </tr>\n",
       "    <tr>\n",
       "      <th>5</th>\n",
       "      <td>P5</td>\n",
       "      <td>[[[1, 1, 1, 1, 1, 1, 1, 1, 1, 1]], [[1, 1, 1, ...</td>\n",
       "      <td>[[[101, 2053, 2930, 11746, 102, 101, 2053, 293...</td>\n",
       "      <td>[[[2, 2, 2, 2, 2, 1, 1, 1, 1, 1]], [[2, 2, 2, ...</td>\n",
       "    </tr>\n",
       "    <tr>\n",
       "      <th>6</th>\n",
       "      <td>P6</td>\n",
       "      <td>[[[1, 1, 1, 1, 1, 1, 1, 1, 1, 1]], [[1, 1, 1, ...</td>\n",
       "      <td>[[[101, 2053, 2930, 11746, 102, 101, 2053, 293...</td>\n",
       "      <td>[[[2, 2, 2, 2, 2, 1, 1, 1, 1, 1]], [[2, 2, 2, ...</td>\n",
       "    </tr>\n",
       "    <tr>\n",
       "      <th>7</th>\n",
       "      <td>P7</td>\n",
       "      <td>[[[1, 1, 1, 1, 1, 1, 1, 1, 1, 1, 1, 1], [1, 1,...</td>\n",
       "      <td>[[[101, 2708, 12087, 102, 101, 2482, 2995, 268...</td>\n",
       "      <td>[[[2, 2, 2, 2, 1, 1, 1, 1, 1, 1, 1, 1], [2, 2,...</td>\n",
       "    </tr>\n",
       "  </tbody>\n",
       "</table>\n",
       "</div>"
      ],
      "text/plain": [
       "  PID                            P-EC-PNSect-TknzGrn_wgt  \\\n",
       "0  P0  [[[1, 1, 1, 1, 1, 1, 1, 1, 1, 1]], [[1, 1, 1, ...   \n",
       "1  P1  [[[1, 1, 1, 1, 1, 1, 1, 1, 1, 1, 1, 1, 1, 1, 1...   \n",
       "2  P2  [[[1, 1, 1, 1, 1, 1, 1, 1, 1, 1]], [[1, 1, 1, ...   \n",
       "3  P3  [[[1, 1, 1, 1, 1, 1, 1, 1, 1, 1, 1, 1, 1, 1, 1...   \n",
       "4  P4  [[[1, 1, 1, 1, 1, 1, 1, 1, 1, 1, 1, 1, 1, 1, 1...   \n",
       "5  P5  [[[1, 1, 1, 1, 1, 1, 1, 1, 1, 1]], [[1, 1, 1, ...   \n",
       "6  P6  [[[1, 1, 1, 1, 1, 1, 1, 1, 1, 1]], [[1, 1, 1, ...   \n",
       "7  P7  [[[1, 1, 1, 1, 1, 1, 1, 1, 1, 1, 1, 1], [1, 1,...   \n",
       "\n",
       "                          P-EC-PNSect-TknzGrn_tknidx  \\\n",
       "0  [[[101, 2053, 2930, 11746, 102, 101, 2053, 293...   \n",
       "1  [[[101, 3558, 11360, 102, 101, 3056, 3034, 433...   \n",
       "2  [[[101, 2053, 2930, 11746, 102, 101, 2053, 293...   \n",
       "3  [[[101, 3558, 11360, 102, 101, 3193, 4769, 199...   \n",
       "4  [[[101, 2740, 6032, 102, 101, 2036, 3115, 3169...   \n",
       "5  [[[101, 2053, 2930, 11746, 102, 101, 2053, 293...   \n",
       "6  [[[101, 2053, 2930, 11746, 102, 101, 2053, 293...   \n",
       "7  [[[101, 2708, 12087, 102, 101, 2482, 2995, 268...   \n",
       "\n",
       "                          P-EC-PNSect-TknzGrn_fldidx  \n",
       "0  [[[2, 2, 2, 2, 2, 1, 1, 1, 1, 1]], [[2, 2, 2, ...  \n",
       "1  [[[2, 2, 2, 2, 1, 1, 1, 1, 1, 1, 1, 1, 1, 1, 1...  \n",
       "2  [[[2, 2, 2, 2, 2, 1, 1, 1, 1, 1]], [[2, 2, 2, ...  \n",
       "3  [[[2, 2, 2, 2, 1, 1, 1, 1, 1, 1, 1, 1, 1, 1, 1...  \n",
       "4  [[[2, 2, 2, 2, 1, 1, 1, 1, 1, 1, 1, 1, 1, 1, 1...  \n",
       "5  [[[2, 2, 2, 2, 2, 1, 1, 1, 1, 1]], [[2, 2, 2, ...  \n",
       "6  [[[2, 2, 2, 2, 2, 1, 1, 1, 1, 1]], [[2, 2, 2, ...  \n",
       "7  [[[2, 2, 2, 2, 1, 1, 1, 1, 1, 1, 1, 1], [2, 2,...  "
      ]
     },
     "execution_count": 6,
     "metadata": {},
     "output_type": "execute_result"
    }
   ],
   "source": [
    "# tensor_folder, get the folder of the focal recfldgrn\n",
    "tensor_folder = os.path.join(Tensor_folder, recfldgrn)\n",
    "print(tensor_folder, '<---- tensor_folder')\n",
    "\n",
    "# get the df_Pat: the recfldgrn grouped in the Pat (patient) level.\n",
    "df_tensor_fnl = load_df_data_from_folder(tensor_folder)# .set_index('PID')\n",
    "print(df_tensor_fnl.shape, '<---- the shape of df_tensor_fnl at top level')\n",
    "\n",
    "\n",
    "###################\n",
    "new_names = {i:'-'.join([t.split('@')[0] for t in i.split('-')]) for i in df_tensor_fnl.columns}\n",
    "df_tensor_fnl = df_tensor_fnl.rename(columns = new_names)\n",
    "###################\n",
    "\n",
    "df_tensor_fnl"
   ]
  },
  {
   "cell_type": "markdown",
   "metadata": {},
   "source": [
    "# Build Dataset"
   ]
  },
  {
   "cell_type": "code",
   "execution_count": 7,
   "metadata": {
    "tags": []
   },
   "outputs": [],
   "source": [
    "# How to Get this?\n",
    "Elig_Set = ['P0', 'P1', 'P2', 'P3', 'P4', 'P5', 'P6', 'P7']"
   ]
  },
  {
   "cell_type": "code",
   "execution_count": 8,
   "metadata": {
    "tags": []
   },
   "outputs": [
    {
     "data": {
      "text/html": [
       "<div>\n",
       "<style scoped>\n",
       "    .dataframe tbody tr th:only-of-type {\n",
       "        vertical-align: middle;\n",
       "    }\n",
       "\n",
       "    .dataframe tbody tr th {\n",
       "        vertical-align: top;\n",
       "    }\n",
       "\n",
       "    .dataframe thead th {\n",
       "        text-align: right;\n",
       "    }\n",
       "</style>\n",
       "<table border=\"1\" class=\"dataframe\">\n",
       "  <thead>\n",
       "    <tr style=\"text-align: right;\">\n",
       "      <th></th>\n",
       "      <th>PID</th>\n",
       "      <th>P-EC-PNSect-TknzGrn_wgt</th>\n",
       "      <th>P-EC-PNSect-TknzGrn_tknidx</th>\n",
       "      <th>P-EC-PNSect-TknzGrn_fldidx</th>\n",
       "    </tr>\n",
       "  </thead>\n",
       "  <tbody>\n",
       "    <tr>\n",
       "      <th>0</th>\n",
       "      <td>P0</td>\n",
       "      <td>[[[1, 1, 1, 1, 1, 1, 1, 1, 1, 1]], [[1, 1, 1, ...</td>\n",
       "      <td>[[[101, 2053, 2930, 11746, 102, 101, 2053, 293...</td>\n",
       "      <td>[[[2, 2, 2, 2, 2, 1, 1, 1, 1, 1]], [[2, 2, 2, ...</td>\n",
       "    </tr>\n",
       "    <tr>\n",
       "      <th>1</th>\n",
       "      <td>P1</td>\n",
       "      <td>[[[1, 1, 1, 1, 1, 1, 1, 1, 1, 1, 1, 1, 1, 1, 1...</td>\n",
       "      <td>[[[101, 3558, 11360, 102, 101, 3056, 3034, 433...</td>\n",
       "      <td>[[[2, 2, 2, 2, 1, 1, 1, 1, 1, 1, 1, 1, 1, 1, 1...</td>\n",
       "    </tr>\n",
       "    <tr>\n",
       "      <th>2</th>\n",
       "      <td>P2</td>\n",
       "      <td>[[[1, 1, 1, 1, 1, 1, 1, 1, 1, 1]], [[1, 1, 1, ...</td>\n",
       "      <td>[[[101, 2053, 2930, 11746, 102, 101, 2053, 293...</td>\n",
       "      <td>[[[2, 2, 2, 2, 2, 1, 1, 1, 1, 1]], [[2, 2, 2, ...</td>\n",
       "    </tr>\n",
       "    <tr>\n",
       "      <th>3</th>\n",
       "      <td>P3</td>\n",
       "      <td>[[[1, 1, 1, 1, 1, 1, 1, 1, 1, 1, 1, 1, 1, 1, 1...</td>\n",
       "      <td>[[[101, 3558, 11360, 102, 101, 3193, 4769, 199...</td>\n",
       "      <td>[[[2, 2, 2, 2, 1, 1, 1, 1, 1, 1, 1, 1, 1, 1, 1...</td>\n",
       "    </tr>\n",
       "    <tr>\n",
       "      <th>4</th>\n",
       "      <td>P4</td>\n",
       "      <td>[[[1, 1, 1, 1, 1, 1, 1, 1, 1, 1, 1, 1, 1, 1, 1...</td>\n",
       "      <td>[[[101, 2740, 6032, 102, 101, 2036, 3115, 3169...</td>\n",
       "      <td>[[[2, 2, 2, 2, 1, 1, 1, 1, 1, 1, 1, 1, 1, 1, 1...</td>\n",
       "    </tr>\n",
       "    <tr>\n",
       "      <th>5</th>\n",
       "      <td>P5</td>\n",
       "      <td>[[[1, 1, 1, 1, 1, 1, 1, 1, 1, 1]], [[1, 1, 1, ...</td>\n",
       "      <td>[[[101, 2053, 2930, 11746, 102, 101, 2053, 293...</td>\n",
       "      <td>[[[2, 2, 2, 2, 2, 1, 1, 1, 1, 1]], [[2, 2, 2, ...</td>\n",
       "    </tr>\n",
       "    <tr>\n",
       "      <th>6</th>\n",
       "      <td>P6</td>\n",
       "      <td>[[[1, 1, 1, 1, 1, 1, 1, 1, 1, 1]], [[1, 1, 1, ...</td>\n",
       "      <td>[[[101, 2053, 2930, 11746, 102, 101, 2053, 293...</td>\n",
       "      <td>[[[2, 2, 2, 2, 2, 1, 1, 1, 1, 1]], [[2, 2, 2, ...</td>\n",
       "    </tr>\n",
       "    <tr>\n",
       "      <th>7</th>\n",
       "      <td>P7</td>\n",
       "      <td>[[[1, 1, 1, 1, 1, 1, 1, 1, 1, 1, 1, 1], [1, 1,...</td>\n",
       "      <td>[[[101, 2708, 12087, 102, 101, 2482, 2995, 268...</td>\n",
       "      <td>[[[2, 2, 2, 2, 1, 1, 1, 1, 1, 1, 1, 1], [2, 2,...</td>\n",
       "    </tr>\n",
       "  </tbody>\n",
       "</table>\n",
       "</div>"
      ],
      "text/plain": [
       "  PID                            P-EC-PNSect-TknzGrn_wgt  \\\n",
       "0  P0  [[[1, 1, 1, 1, 1, 1, 1, 1, 1, 1]], [[1, 1, 1, ...   \n",
       "1  P1  [[[1, 1, 1, 1, 1, 1, 1, 1, 1, 1, 1, 1, 1, 1, 1...   \n",
       "2  P2  [[[1, 1, 1, 1, 1, 1, 1, 1, 1, 1]], [[1, 1, 1, ...   \n",
       "3  P3  [[[1, 1, 1, 1, 1, 1, 1, 1, 1, 1, 1, 1, 1, 1, 1...   \n",
       "4  P4  [[[1, 1, 1, 1, 1, 1, 1, 1, 1, 1, 1, 1, 1, 1, 1...   \n",
       "5  P5  [[[1, 1, 1, 1, 1, 1, 1, 1, 1, 1]], [[1, 1, 1, ...   \n",
       "6  P6  [[[1, 1, 1, 1, 1, 1, 1, 1, 1, 1]], [[1, 1, 1, ...   \n",
       "7  P7  [[[1, 1, 1, 1, 1, 1, 1, 1, 1, 1, 1, 1], [1, 1,...   \n",
       "\n",
       "                          P-EC-PNSect-TknzGrn_tknidx  \\\n",
       "0  [[[101, 2053, 2930, 11746, 102, 101, 2053, 293...   \n",
       "1  [[[101, 3558, 11360, 102, 101, 3056, 3034, 433...   \n",
       "2  [[[101, 2053, 2930, 11746, 102, 101, 2053, 293...   \n",
       "3  [[[101, 3558, 11360, 102, 101, 3193, 4769, 199...   \n",
       "4  [[[101, 2740, 6032, 102, 101, 2036, 3115, 3169...   \n",
       "5  [[[101, 2053, 2930, 11746, 102, 101, 2053, 293...   \n",
       "6  [[[101, 2053, 2930, 11746, 102, 101, 2053, 293...   \n",
       "7  [[[101, 2708, 12087, 102, 101, 2482, 2995, 268...   \n",
       "\n",
       "                          P-EC-PNSect-TknzGrn_fldidx  \n",
       "0  [[[2, 2, 2, 2, 2, 1, 1, 1, 1, 1]], [[2, 2, 2, ...  \n",
       "1  [[[2, 2, 2, 2, 1, 1, 1, 1, 1, 1, 1, 1, 1, 1, 1...  \n",
       "2  [[[2, 2, 2, 2, 2, 1, 1, 1, 1, 1]], [[2, 2, 2, ...  \n",
       "3  [[[2, 2, 2, 2, 1, 1, 1, 1, 1, 1, 1, 1, 1, 1, 1...  \n",
       "4  [[[2, 2, 2, 2, 1, 1, 1, 1, 1, 1, 1, 1, 1, 1, 1...  \n",
       "5  [[[2, 2, 2, 2, 2, 1, 1, 1, 1, 1]], [[2, 2, 2, ...  \n",
       "6  [[[2, 2, 2, 2, 2, 1, 1, 1, 1, 1]], [[2, 2, 2, ...  \n",
       "7  [[[2, 2, 2, 2, 1, 1, 1, 1, 1, 1, 1, 1], [2, 2,...  "
      ]
     },
     "execution_count": 8,
     "metadata": {},
     "output_type": "execute_result"
    }
   ],
   "source": [
    "df_tensor_fnl = df_tensor_fnl[df_tensor_fnl['PID'].isin(Elig_Set)].reset_index(drop = True)\n",
    "df_tensor_fnl"
   ]
  },
  {
   "cell_type": "markdown",
   "metadata": {},
   "source": [
    "## get Batch"
   ]
  },
  {
   "cell_type": "code",
   "execution_count": 9,
   "metadata": {
    "tags": []
   },
   "outputs": [],
   "source": [
    "###################### take this as given\n",
    "batch_PID_order = ['P0', 'P2', # 'P1', 'P3', \n",
    "                   'P4', 'P5', # 'P6', 'P7'\n",
    "                  ]\n",
    "######################"
   ]
  },
  {
   "cell_type": "code",
   "execution_count": 14,
   "metadata": {
    "tags": []
   },
   "outputs": [
    {
     "data": {
      "text/html": [
       "<div>\n",
       "<style scoped>\n",
       "    .dataframe tbody tr th:only-of-type {\n",
       "        vertical-align: middle;\n",
       "    }\n",
       "\n",
       "    .dataframe tbody tr th {\n",
       "        vertical-align: top;\n",
       "    }\n",
       "\n",
       "    .dataframe thead th {\n",
       "        text-align: right;\n",
       "    }\n",
       "</style>\n",
       "<table border=\"1\" class=\"dataframe\">\n",
       "  <thead>\n",
       "    <tr style=\"text-align: right;\">\n",
       "      <th></th>\n",
       "      <th>P-EC-PNSect-TknzGrn_wgt</th>\n",
       "      <th>P-EC-PNSect-TknzGrn_tknidx</th>\n",
       "      <th>P-EC-PNSect-TknzGrn_fldidx</th>\n",
       "    </tr>\n",
       "    <tr>\n",
       "      <th>PID</th>\n",
       "      <th></th>\n",
       "      <th></th>\n",
       "      <th></th>\n",
       "    </tr>\n",
       "  </thead>\n",
       "  <tbody>\n",
       "    <tr>\n",
       "      <th>P0</th>\n",
       "      <td>[[[1, 1, 1, 1, 1, 1, 1, 1, 1, 1]], [[1, 1, 1, ...</td>\n",
       "      <td>[[[101, 2053, 2930, 11746, 102, 101, 2053, 293...</td>\n",
       "      <td>[[[2, 2, 2, 2, 2, 1, 1, 1, 1, 1]], [[2, 2, 2, ...</td>\n",
       "    </tr>\n",
       "    <tr>\n",
       "      <th>P2</th>\n",
       "      <td>[[[1, 1, 1, 1, 1, 1, 1, 1, 1, 1]], [[1, 1, 1, ...</td>\n",
       "      <td>[[[101, 2053, 2930, 11746, 102, 101, 2053, 293...</td>\n",
       "      <td>[[[2, 2, 2, 2, 2, 1, 1, 1, 1, 1]], [[2, 2, 2, ...</td>\n",
       "    </tr>\n",
       "    <tr>\n",
       "      <th>P4</th>\n",
       "      <td>[[[1, 1, 1, 1, 1, 1, 1, 1, 1, 1, 1, 1, 1, 1, 1...</td>\n",
       "      <td>[[[101, 2740, 6032, 102, 101, 2036, 3115, 3169...</td>\n",
       "      <td>[[[2, 2, 2, 2, 1, 1, 1, 1, 1, 1, 1, 1, 1, 1, 1...</td>\n",
       "    </tr>\n",
       "    <tr>\n",
       "      <th>P5</th>\n",
       "      <td>[[[1, 1, 1, 1, 1, 1, 1, 1, 1, 1]], [[1, 1, 1, ...</td>\n",
       "      <td>[[[101, 2053, 2930, 11746, 102, 101, 2053, 293...</td>\n",
       "      <td>[[[2, 2, 2, 2, 2, 1, 1, 1, 1, 1]], [[2, 2, 2, ...</td>\n",
       "    </tr>\n",
       "  </tbody>\n",
       "</table>\n",
       "</div>"
      ],
      "text/plain": [
       "                               P-EC-PNSect-TknzGrn_wgt  \\\n",
       "PID                                                      \n",
       "P0   [[[1, 1, 1, 1, 1, 1, 1, 1, 1, 1]], [[1, 1, 1, ...   \n",
       "P2   [[[1, 1, 1, 1, 1, 1, 1, 1, 1, 1]], [[1, 1, 1, ...   \n",
       "P4   [[[1, 1, 1, 1, 1, 1, 1, 1, 1, 1, 1, 1, 1, 1, 1...   \n",
       "P5   [[[1, 1, 1, 1, 1, 1, 1, 1, 1, 1]], [[1, 1, 1, ...   \n",
       "\n",
       "                            P-EC-PNSect-TknzGrn_tknidx  \\\n",
       "PID                                                      \n",
       "P0   [[[101, 2053, 2930, 11746, 102, 101, 2053, 293...   \n",
       "P2   [[[101, 2053, 2930, 11746, 102, 101, 2053, 293...   \n",
       "P4   [[[101, 2740, 6032, 102, 101, 2036, 3115, 3169...   \n",
       "P5   [[[101, 2053, 2930, 11746, 102, 101, 2053, 293...   \n",
       "\n",
       "                            P-EC-PNSect-TknzGrn_fldidx  \n",
       "PID                                                     \n",
       "P0   [[[2, 2, 2, 2, 2, 1, 1, 1, 1, 1]], [[2, 2, 2, ...  \n",
       "P2   [[[2, 2, 2, 2, 2, 1, 1, 1, 1, 1]], [[2, 2, 2, ...  \n",
       "P4   [[[2, 2, 2, 2, 1, 1, 1, 1, 1, 1, 1, 1, 1, 1, 1...  \n",
       "P5   [[[2, 2, 2, 2, 2, 1, 1, 1, 1, 1]], [[2, 2, 2, ...  "
      ]
     },
     "execution_count": 14,
     "metadata": {},
     "output_type": "execute_result"
    }
   ],
   "source": [
    "# # Map Ids to Group\n",
    "# L = []\n",
    "# for df_bucket, DPID_list in Group:\n",
    "# ---- df_batch_sub = df_bucket.set_index(DPID).loc[DPID_list]\n",
    "# ---- L.append(df_batch_sub)\n",
    "# df_batch = pd.concat(L)\n",
    "\n",
    "# generate a batch\n",
    "df_batch = df_tensor_fnl.set_index('PID').loc[batch_PID_order]\n",
    "df_batch"
   ]
  },
  {
   "cell_type": "code",
   "execution_count": 15,
   "metadata": {
    "tags": []
   },
   "outputs": [],
   "source": [
    "# df_batch[full_recfldgrn].to_list()"
   ]
  },
  {
   "cell_type": "code",
   "execution_count": 16,
   "metadata": {
    "tags": []
   },
   "outputs": [
    {
     "data": {
      "text/plain": [
       "['P-EC-PNSect-TknzGrn_wgt',\n",
       " 'P-EC-PNSect-TknzGrn_tknidx',\n",
       " 'P-EC-PNSect-TknzGrn_fldidx']"
      ]
     },
     "execution_count": 16,
     "metadata": {},
     "output_type": "execute_result"
    }
   ],
   "source": [
    "recfldgrn_sfx_list = list(df_batch.columns)\n",
    "recfldgrn_sfx_list"
   ]
  },
  {
   "cell_type": "code",
   "execution_count": 17,
   "metadata": {
    "colab": {
     "base_uri": "https://localhost:8080/"
    },
    "id": "ye2EAdfwtaC_",
    "outputId": "8bdfd122-8f55-4c6d-ab98-83171ed75571",
    "tags": []
   },
   "outputs": [
    {
     "name": "stdout",
     "output_type": "stream",
     "text": [
      "P-EC-PNSect-TknzGrn_wgt <--- full_recfldgrn\n",
      "B-P-EC-PNSect-TknzGrn_wgt <--- B_recfldgrn_sfx\n",
      "_wgt <---- suffix\n",
      "\n",
      "P-EC-PNSect-TknzGrn_tknidx <--- full_recfldgrn\n",
      "B-P-EC-PNSect-TknzGrn_tknidx <--- B_recfldgrn_sfx\n",
      "_tknidx <---- suffix\n",
      "\n",
      "P-EC-PNSect-TknzGrn_fldidx <--- full_recfldgrn\n",
      "B-P-EC-PNSect-TknzGrn_fldidx <--- B_recfldgrn_sfx\n",
      "_fldidx <---- suffix\n",
      "\n"
     ]
    }
   ],
   "source": [
    "# get the relational_list\n",
    "for recfldgrn_sfx in recfldgrn_sfx_list:\n",
    "    print(recfldgrn_sfx, '<--- full_recfldgrn')\n",
    "    relational_list = df_batch[recfldgrn_sfx].to_list()\n",
    "    \n",
    "    # add a batch prefix to the old full_recfldgrn\n",
    "    B_recfldgrn_sfx = 'B-' + recfldgrn_sfx # B- means Batch. \n",
    "    print(B_recfldgrn_sfx, '<--- B_recfldgrn_sfx')\n",
    "    suffix = '_' + B_recfldgrn_sfx.split('_')[-1]\n",
    "    print(suffix, '<---- suffix\\n')"
   ]
  },
  {
   "cell_type": "code",
   "execution_count": 18,
   "metadata": {
    "tags": []
   },
   "outputs": [
    {
     "data": {
      "text/html": [
       "<div>\n",
       "<style scoped>\n",
       "    .dataframe tbody tr th:only-of-type {\n",
       "        vertical-align: middle;\n",
       "    }\n",
       "\n",
       "    .dataframe tbody tr th {\n",
       "        vertical-align: top;\n",
       "    }\n",
       "\n",
       "    .dataframe thead th {\n",
       "        text-align: right;\n",
       "    }\n",
       "</style>\n",
       "<table border=\"1\" class=\"dataframe\">\n",
       "  <thead>\n",
       "    <tr style=\"text-align: right;\">\n",
       "      <th></th>\n",
       "      <th>P-EC-PNSect-TknzGrn_wgt</th>\n",
       "      <th>P-EC-PNSect-TknzGrn_tknidx</th>\n",
       "      <th>P-EC-PNSect-TknzGrn_fldidx</th>\n",
       "    </tr>\n",
       "    <tr>\n",
       "      <th>PID</th>\n",
       "      <th></th>\n",
       "      <th></th>\n",
       "      <th></th>\n",
       "    </tr>\n",
       "  </thead>\n",
       "  <tbody>\n",
       "    <tr>\n",
       "      <th>P0</th>\n",
       "      <td>[[[1, 1, 1, 1, 1, 1, 1, 1, 1, 1]], [[1, 1, 1, ...</td>\n",
       "      <td>[[[101, 2053, 2930, 11746, 102, 101, 2053, 293...</td>\n",
       "      <td>[[[2, 2, 2, 2, 2, 1, 1, 1, 1, 1]], [[2, 2, 2, ...</td>\n",
       "    </tr>\n",
       "    <tr>\n",
       "      <th>P2</th>\n",
       "      <td>[[[1, 1, 1, 1, 1, 1, 1, 1, 1, 1]], [[1, 1, 1, ...</td>\n",
       "      <td>[[[101, 2053, 2930, 11746, 102, 101, 2053, 293...</td>\n",
       "      <td>[[[2, 2, 2, 2, 2, 1, 1, 1, 1, 1]], [[2, 2, 2, ...</td>\n",
       "    </tr>\n",
       "    <tr>\n",
       "      <th>P4</th>\n",
       "      <td>[[[1, 1, 1, 1, 1, 1, 1, 1, 1, 1, 1, 1, 1, 1, 1...</td>\n",
       "      <td>[[[101, 2740, 6032, 102, 101, 2036, 3115, 3169...</td>\n",
       "      <td>[[[2, 2, 2, 2, 1, 1, 1, 1, 1, 1, 1, 1, 1, 1, 1...</td>\n",
       "    </tr>\n",
       "    <tr>\n",
       "      <th>P5</th>\n",
       "      <td>[[[1, 1, 1, 1, 1, 1, 1, 1, 1, 1]], [[1, 1, 1, ...</td>\n",
       "      <td>[[[101, 2053, 2930, 11746, 102, 101, 2053, 293...</td>\n",
       "      <td>[[[2, 2, 2, 2, 2, 1, 1, 1, 1, 1]], [[2, 2, 2, ...</td>\n",
       "    </tr>\n",
       "  </tbody>\n",
       "</table>\n",
       "</div>"
      ],
      "text/plain": [
       "                               P-EC-PNSect-TknzGrn_wgt  \\\n",
       "PID                                                      \n",
       "P0   [[[1, 1, 1, 1, 1, 1, 1, 1, 1, 1]], [[1, 1, 1, ...   \n",
       "P2   [[[1, 1, 1, 1, 1, 1, 1, 1, 1, 1]], [[1, 1, 1, ...   \n",
       "P4   [[[1, 1, 1, 1, 1, 1, 1, 1, 1, 1, 1, 1, 1, 1, 1...   \n",
       "P5   [[[1, 1, 1, 1, 1, 1, 1, 1, 1, 1]], [[1, 1, 1, ...   \n",
       "\n",
       "                            P-EC-PNSect-TknzGrn_tknidx  \\\n",
       "PID                                                      \n",
       "P0   [[[101, 2053, 2930, 11746, 102, 101, 2053, 293...   \n",
       "P2   [[[101, 2053, 2930, 11746, 102, 101, 2053, 293...   \n",
       "P4   [[[101, 2740, 6032, 102, 101, 2036, 3115, 3169...   \n",
       "P5   [[[101, 2053, 2930, 11746, 102, 101, 2053, 293...   \n",
       "\n",
       "                            P-EC-PNSect-TknzGrn_fldidx  \n",
       "PID                                                     \n",
       "P0   [[[2, 2, 2, 2, 2, 1, 1, 1, 1, 1]], [[2, 2, 2, ...  \n",
       "P2   [[[2, 2, 2, 2, 2, 1, 1, 1, 1, 1]], [[2, 2, 2, ...  \n",
       "P4   [[[2, 2, 2, 2, 1, 1, 1, 1, 1, 1, 1, 1, 1, 1, 1...  \n",
       "P5   [[[2, 2, 2, 2, 2, 1, 1, 1, 1, 1]], [[2, 2, 2, ...  "
      ]
     },
     "execution_count": 18,
     "metadata": {},
     "output_type": "execute_result"
    }
   ],
   "source": [
    "# have a look at df_batch\n",
    "df_batch"
   ]
  },
  {
   "cell_type": "markdown",
   "metadata": {},
   "source": [
    "## convert_relational_list_to_numpy"
   ]
  },
  {
   "cell_type": "code",
   "execution_count": 19,
   "metadata": {
    "tags": []
   },
   "outputs": [],
   "source": [
    "# these two functions want to convert the tensor from a nested relational_list to array.\n",
    "# so we need to padding zeros to all the lists in order to make an array.\n",
    "# the function `traverse` and `convert_relational_list_to_numpy` will do this for you. \n",
    "\n",
    "from fieldnn.utils.layerfn import traverse\n",
    "from fieldnn.utils.layerfn import convert_relational_list_to_numpy\n",
    "\n",
    "\n",
    "def convert_relational_list_to_numpy(values_list, new_full_recfldgrn, suffix):\n",
    "    o = values_list\n",
    "    layer_num = len(new_full_recfldgrn.split('-'))\n",
    "    layers = new_full_recfldgrn.replace(suffix, '').split('-')\n",
    "    # L = [len(values_list)] \n",
    "\n",
    "    D = {}\n",
    "\n",
    "    # (1) from first layer: 0\n",
    "    idx = 0\n",
    "    layer_parents = layers[:idx + 1]\n",
    "    layer_children = layers[idx + 1]\n",
    "    len_name = f'{\"-\".join(layer_parents)}_ln{layer_children}'\n",
    "    len_np = np.array(len(values_list))\n",
    "    len_shapes = [len_np.max()] # from layer 0, prepare for layer 1. \n",
    "    D[len_name] = len_np\n",
    "\n",
    "    # (2) from 1 - last one layers\n",
    "    for idx in range(1, layer_num - 1):\n",
    "        output = list(traverse(o, nest_layer = idx))\n",
    "        # print(output)\n",
    "        # data = np.zeros(L)\n",
    "        # print('\\n\\n')\n",
    "        # print(idx)\n",
    "        # print(output)\n",
    "\n",
    "        layer_parents = layers[:idx + 1]\n",
    "        layer_children = layers[idx + 1]\n",
    "        len_name = f'{\"-\".join(layer_parents)}_ln{layer_children}'\n",
    "        # print(len_name)\n",
    "\n",
    "        locidx  = [i[0] for i in output]\n",
    "        length = [i[1] for i in output]\n",
    "        # values = [i[2] for i in output]\n",
    "\n",
    "        len_np = np.zeros(len_shapes).astype(int)\n",
    "        # print(len_np.shape, '<---- len_np.shape')\n",
    "        for locidx, length, _ in output:\n",
    "            len_np[tuple(locidx)] = int(length)\n",
    "        # print(len_np)\n",
    "        len_shapes.append(len_np.max())\n",
    "        # print(len_shapes, '<---- next len_np.shape')\n",
    "        # print(length)\n",
    "        # print()\n",
    "        D[len_name] = len_np\n",
    "\n",
    "    # (3) for the data\n",
    "    idx = layer_num\n",
    "    name = new_full_recfldgrn\n",
    "    data = np.zeros(len_shapes) # don't convert it to int for now. \n",
    "    output = list(traverse(o, nest_layer = idx))\n",
    "    for locidx, _, value in output:\n",
    "        data[tuple(locidx)] = value\n",
    "        # print(locidx, value)\n",
    "        # print(data[tuple(locidx)])# = value\n",
    "    data.shape\n",
    "    D[name] = data.astype(int)\n",
    "    \n",
    "    return D"
   ]
  },
  {
   "cell_type": "code",
   "execution_count": 20,
   "metadata": {
    "tags": []
   },
   "outputs": [
    {
     "name": "stdout",
     "output_type": "stream",
     "text": [
      "B_lnP ()\n",
      "B-P_lnEC (4,)\n",
      "B-P-EC_lnPNSect (4, 34)\n",
      "B-P-EC-PNSect_lnTknzGrn (4, 34, 14)\n",
      "B-P-EC-PNSect-TknzGrn_wgt (4, 34, 14, 283)\n",
      "\n",
      "\n",
      "B_lnP ()\n",
      "B-P_lnEC (4,)\n",
      "B-P-EC_lnPNSect (4, 34)\n",
      "B-P-EC-PNSect_lnTknzGrn (4, 34, 14)\n",
      "B-P-EC-PNSect-TknzGrn_tknidx (4, 34, 14, 283)\n",
      "\n",
      "\n",
      "B_lnP ()\n",
      "B-P_lnEC (4,)\n",
      "B-P-EC_lnPNSect (4, 34)\n",
      "B-P-EC-PNSect_lnTknzGrn (4, 34, 14)\n",
      "B-P-EC-PNSect-TknzGrn_fldidx (4, 34, 14, 283)\n",
      "\n",
      "\n"
     ]
    }
   ],
   "source": [
    "import numpy as np\n",
    "# padding the relatinal list to numpy\n",
    "\n",
    "\n",
    "# inputs: you can check the following inputs in the above cells.\n",
    "# (1): relational_list\n",
    "# (2): B_recfldgrn_suffix\n",
    "# (3): suffix\n",
    "\n",
    "batch_rfg = {}\n",
    "\n",
    "# get the relational_list\n",
    "for recfldgrn_sfx in recfldgrn_sfx_list:\n",
    "    # print(recfldgrn_suffix, '<--- recfldgrn_suffix')\n",
    "    relational_list = df_batch[recfldgrn_sfx].to_list()\n",
    "    # add a batch prefix to the old full_recfldgrn\n",
    "    B_recfldgrn_sfx = 'B-' + recfldgrn_sfx # B- means Batch. \n",
    "    # print(B_recfldgrn_suffix, '<--- new_full_recfldgrn')\n",
    "    suffix = '_' + B_recfldgrn_sfx.split('_')[-1]\n",
    "    # print(suffix, '<---- suffix\\n')\n",
    "\n",
    "    D = convert_relational_list_to_numpy(relational_list, \n",
    "                                         B_recfldgrn_sfx, \n",
    "                                         suffix)\n",
    "\n",
    "    # Here: k is the array name, v is the array\n",
    "    # B_lnP: ln means the leng. B_lnP is a scalar (zero-order). This means how many patients in the batch\n",
    "    # B-P_lnEC: a one-order array, each element is patient's EC number.\n",
    "    # every array name with ln means the length. \n",
    "    # The last one is important: B-P-EC-A1C@DT-DTDftGrn_idx: the real value.\n",
    "    # actually, in the real practice, we will only use the last one: i.e. B-P-EC-A1C@DT-DTDftGrn_idx. \n",
    "    # for k, v in D.items(): print(k, v.shape)\n",
    "    # D2 = {}\n",
    "    # for k, v in D.items(): \n",
    "    #     D2[k.replace('_', '@')] = v\n",
    "\n",
    "\n",
    "    for k, v in D.items(): print(k, v.shape)\n",
    "    \n",
    "    # len of shape\n",
    "    \n",
    "    \n",
    "    # have a look at B-P-EC-A1C@DT-DTDftGrn_idx, the final tensor\n",
    "    tensor_idx = D[B_recfldgrn_sfx]\n",
    "    # print(B_recfldgrn_sfx, '<--- B_recfldgrn_suffix')\n",
    "    # print(tensor_idx.shape, '<------- the shape of tensor_idx')\n",
    "    print('\\n')\n",
    "    \n",
    "    \n",
    "    batch_rfg[B_recfldgrn_sfx] = tensor_idx\n"
   ]
  },
  {
   "cell_type": "markdown",
   "metadata": {},
   "source": [
    "## Validation\n",
    "\n",
    "Here we want to do a validation to check whether the returned padding array is the same value as the origianl relational list. "
   ]
  },
  {
   "cell_type": "code",
   "execution_count": 21,
   "metadata": {
    "tags": []
   },
   "outputs": [],
   "source": [
    "# B_recfldgrn_sfx_list"
   ]
  },
  {
   "cell_type": "code",
   "execution_count": 22,
   "metadata": {
    "tags": []
   },
   "outputs": [
    {
     "name": "stdout",
     "output_type": "stream",
     "text": [
      "B-P-EC-PNSect-TknzGrn_tknidx\n"
     ]
    }
   ],
   "source": [
    "recfldgrn_sfx = recfldgrn_sfx_list[1]\n",
    "B_recfldgrn_sfx = 'B-' + recfldgrn_sfx\n",
    "print(B_recfldgrn_sfx)\n",
    "tensor_idx = batch_rfg[B_recfldgrn_sfx]"
   ]
  },
  {
   "cell_type": "code",
   "execution_count": 23,
   "metadata": {
    "tags": []
   },
   "outputs": [
    {
     "data": {
      "text/plain": [
       "array([ 101, 2740, 6032,  102,  101, 3926, 2668, 4708, 3959, 3604, 1012,\n",
       "       5293, 2236, 2606, 2215, 2604, 3005, 3749, 1012, 2742, 4067, 2009,\n",
       "       2767, 2943, 4368, 1012, 2562, 3746, 2465, 1012, 2090, 3119, 4950,\n",
       "       1012, 4072, 3189, 2694, 3899, 6570, 5060, 2933, 1012, 3392, 2507,\n",
       "       3413, 2166, 1012, 4009, 3265, 3350, 3522, 4366, 2304, 1012,  102,\n",
       "          0,    0,    0,    0,    0,    0,    0,    0,    0,    0,    0,\n",
       "          0,    0,    0,    0,    0,    0,    0,    0,    0,    0,    0,\n",
       "          0,    0,    0,    0,    0,    0,    0,    0,    0,    0,    0,\n",
       "          0,    0,    0,    0,    0,    0,    0,    0,    0,    0,    0,\n",
       "          0,    0,    0,    0,    0,    0,    0,    0,    0,    0,    0,\n",
       "          0,    0,    0,    0,    0,    0,    0,    0,    0,    0,    0,\n",
       "          0,    0,    0,    0,    0,    0,    0,    0,    0,    0,    0,\n",
       "          0,    0,    0,    0,    0,    0,    0,    0,    0,    0,    0,\n",
       "          0,    0,    0,    0,    0,    0,    0,    0,    0,    0,    0,\n",
       "          0,    0,    0,    0,    0,    0,    0,    0,    0,    0,    0,\n",
       "          0,    0,    0,    0,    0,    0,    0,    0,    0,    0,    0,\n",
       "          0,    0,    0,    0,    0,    0,    0,    0,    0,    0,    0,\n",
       "          0,    0,    0,    0,    0,    0,    0,    0,    0,    0,    0,\n",
       "          0,    0,    0,    0,    0,    0,    0,    0,    0,    0,    0,\n",
       "          0,    0,    0,    0,    0,    0,    0,    0,    0,    0,    0,\n",
       "          0,    0,    0,    0,    0,    0,    0,    0,    0,    0,    0,\n",
       "          0,    0,    0,    0,    0,    0,    0,    0,    0,    0,    0,\n",
       "          0,    0,    0,    0,    0,    0,    0,    0,    0,    0,    0,\n",
       "          0,    0,    0,    0,    0,    0,    0,    0,    0,    0,    0,\n",
       "          0,    0,    0,    0,    0,    0,    0,    0,    0,    0,    0,\n",
       "          0,    0,    0,    0,    0,    0,    0,    0])"
      ]
     },
     "execution_count": 23,
     "metadata": {},
     "output_type": "execute_result"
    }
   ],
   "source": [
    "tensor_idx[1][9][0]"
   ]
  },
  {
   "cell_type": "code",
   "execution_count": 24,
   "metadata": {
    "tags": []
   },
   "outputs": [
    {
     "name": "stdout",
     "output_type": "stream",
     "text": [
      "[101, 2740, 6032, 102, 101, 3926, 2668, 4708, 3959, 3604, 1012, 5293, 2236, 2606, 2215, 2604, 3005, 3749, 1012, 2742, 4067, 2009, 2767, 2943, 4368, 1012, 2562, 3746, 2465, 1012, 2090, 3119, 4950, 1012, 4072, 3189, 2694, 3899, 6570, 5060, 2933, 1012, 3392, 2507, 3413, 2166, 1012, 4009, 3265, 3350, 3522, 4366, 2304, 1012, 102]\n"
     ]
    }
   ],
   "source": [
    "relational_list = df_batch[recfldgrn_sfx].to_list()\n",
    "print(relational_list[1][9][0])"
   ]
  },
  {
   "cell_type": "code",
   "execution_count": 25,
   "metadata": {
    "tags": []
   },
   "outputs": [
    {
     "data": {
      "text/plain": [
       "array([  101,  2053,  2930, 11746,   102,   101,  2053,  2930, 11746,\n",
       "         102,     0,     0,     0,     0,     0,     0,     0,     0,\n",
       "           0,     0,     0,     0,     0,     0,     0,     0,     0,\n",
       "           0,     0,     0,     0,     0,     0,     0,     0,     0,\n",
       "           0,     0,     0,     0,     0,     0,     0,     0,     0,\n",
       "           0,     0,     0,     0,     0,     0,     0,     0,     0,\n",
       "           0,     0,     0,     0,     0,     0,     0,     0,     0,\n",
       "           0,     0,     0,     0,     0,     0,     0,     0,     0,\n",
       "           0,     0,     0,     0,     0,     0,     0,     0,     0,\n",
       "           0,     0,     0,     0,     0,     0,     0,     0,     0,\n",
       "           0,     0,     0,     0,     0,     0,     0,     0,     0,\n",
       "           0,     0,     0,     0,     0,     0,     0,     0,     0,\n",
       "           0,     0,     0,     0,     0,     0,     0,     0,     0,\n",
       "           0,     0,     0,     0,     0,     0,     0,     0,     0,\n",
       "           0,     0,     0,     0,     0,     0,     0,     0,     0,\n",
       "           0,     0,     0,     0,     0,     0,     0,     0,     0,\n",
       "           0,     0,     0,     0,     0,     0,     0,     0,     0,\n",
       "           0,     0,     0,     0,     0,     0,     0,     0,     0,\n",
       "           0,     0,     0,     0,     0,     0,     0,     0,     0,\n",
       "           0,     0,     0,     0,     0,     0,     0,     0,     0,\n",
       "           0,     0,     0,     0,     0,     0,     0,     0,     0,\n",
       "           0,     0,     0,     0,     0,     0,     0,     0,     0,\n",
       "           0,     0,     0,     0,     0,     0,     0,     0,     0,\n",
       "           0,     0,     0,     0,     0,     0,     0,     0,     0,\n",
       "           0,     0,     0,     0,     0,     0,     0,     0,     0,\n",
       "           0,     0,     0,     0,     0,     0,     0,     0,     0,\n",
       "           0,     0,     0,     0,     0,     0,     0,     0,     0,\n",
       "           0,     0,     0,     0,     0,     0,     0,     0,     0,\n",
       "           0,     0,     0,     0,     0,     0,     0,     0,     0,\n",
       "           0,     0,     0,     0,     0,     0,     0,     0,     0,\n",
       "           0,     0,     0,     0,     0,     0,     0,     0,     0,\n",
       "           0,     0,     0,     0])"
      ]
     },
     "execution_count": 25,
     "metadata": {},
     "output_type": "execute_result"
    }
   ],
   "source": [
    "tensor_idx[3][7][0]"
   ]
  },
  {
   "cell_type": "code",
   "execution_count": 26,
   "metadata": {
    "tags": []
   },
   "outputs": [
    {
     "data": {
      "text/plain": [
       "[101, 2053, 2930, 11746, 102, 101, 2053, 2930, 11746, 102]"
      ]
     },
     "execution_count": 26,
     "metadata": {},
     "output_type": "execute_result"
    }
   ],
   "source": [
    "relational_list = df_batch[recfldgrn_sfx].to_list()\n",
    "relational_list[3][7][0]"
   ]
  },
  {
   "cell_type": "markdown",
   "metadata": {},
   "source": [
    "# All recfldgrn"
   ]
  },
  {
   "cell_type": "code",
   "execution_count": 27,
   "metadata": {
    "tags": []
   },
   "outputs": [],
   "source": [
    "###################### take this as given\n",
    "batch_PID_order = ['P0', 'P2', # 'P1', 'P3', \n",
    "                   'P4', 'P5', # 'P6', 'P7'\n",
    "                  ]\n",
    "######################"
   ]
  },
  {
   "cell_type": "code",
   "execution_count": 28,
   "metadata": {
    "tags": []
   },
   "outputs": [
    {
     "name": "stdout",
     "output_type": "stream",
     "text": [
      "data/ProcData/FldGrnTensor/\n"
     ]
    },
    {
     "data": {
      "text/plain": [
       "['P-EC-PNSect-TknzGrn', 'P-InfoGrn']"
      ]
     },
     "execution_count": 28,
     "metadata": {},
     "output_type": "execute_result"
    }
   ],
   "source": [
    "Tensor_folder = 'data/ProcData/FldGrnTensor/'\n",
    "print(Tensor_folder)\n",
    "recfldgrn_list = sorted([i for i in os.listdir(Tensor_folder) if 'Grn' in i])\n",
    "recfldgrn_list"
   ]
  },
  {
   "cell_type": "markdown",
   "metadata": {},
   "source": [
    "## Choose a RecFldGrn List"
   ]
  },
  {
   "cell_type": "code",
   "execution_count": 29,
   "metadata": {
    "tags": []
   },
   "outputs": [],
   "source": [
    "# take this as given.\n",
    "# we want to test whether these recfldgrn are important. \n",
    "\n",
    "recfldgrn_list = ['P-InfoGrn', 'P-EC-PNSect-TknzGrn']"
   ]
  },
  {
   "cell_type": "markdown",
   "metadata": {},
   "source": [
    "## Get df_batch"
   ]
  },
  {
   "cell_type": "code",
   "execution_count": 30,
   "metadata": {
    "tags": []
   },
   "outputs": [
    {
     "data": {
      "text/html": [
       "<div>\n",
       "<style scoped>\n",
       "    .dataframe tbody tr th:only-of-type {\n",
       "        vertical-align: middle;\n",
       "    }\n",
       "\n",
       "    .dataframe tbody tr th {\n",
       "        vertical-align: top;\n",
       "    }\n",
       "\n",
       "    .dataframe thead th {\n",
       "        text-align: right;\n",
       "    }\n",
       "</style>\n",
       "<table border=\"1\" class=\"dataframe\">\n",
       "  <thead>\n",
       "    <tr style=\"text-align: right;\">\n",
       "      <th></th>\n",
       "      <th>P-InfoGrn_wgt</th>\n",
       "      <th>P-InfoGrn_tknidx</th>\n",
       "      <th>P-InfoGrn_fldidx</th>\n",
       "      <th>P-EC-PNSect-TknzGrn_wgt</th>\n",
       "      <th>P-EC-PNSect-TknzGrn_tknidx</th>\n",
       "      <th>P-EC-PNSect-TknzGrn_fldidx</th>\n",
       "    </tr>\n",
       "    <tr>\n",
       "      <th>PID</th>\n",
       "      <th></th>\n",
       "      <th></th>\n",
       "      <th></th>\n",
       "      <th></th>\n",
       "      <th></th>\n",
       "      <th></th>\n",
       "    </tr>\n",
       "  </thead>\n",
       "  <tbody>\n",
       "    <tr>\n",
       "      <th>P0</th>\n",
       "      <td>[0, 0, 0, 0, 0, 1, 1.0, 1.0, 1.0, 1.0, 1.0, 1....</td>\n",
       "      <td>[1, 6, 26, 27, 28, 29, 24, 30, 31, 33, 32, 25,...</td>\n",
       "      <td>[2, 2, 2, 2, 2, 2, 2, 2, 2, 2, 2, 2, 2, 2, 2, ...</td>\n",
       "      <td>[[[1, 1, 1, 1, 1, 1, 1, 1, 1, 1]], [[1, 1, 1, ...</td>\n",
       "      <td>[[[101, 2053, 2930, 11746, 102, 101, 2053, 293...</td>\n",
       "      <td>[[[2, 2, 2, 2, 2, 1, 1, 1, 1, 1]], [[2, 2, 2, ...</td>\n",
       "    </tr>\n",
       "    <tr>\n",
       "      <th>P2</th>\n",
       "      <td>[0, 0, 0, 0, 0, 1, 1.0, 0.0, 0.0, 0.0, 0.0, 0....</td>\n",
       "      <td>[1, 6, 26, 27, 28, 29, 24, 30, 31, 33, 32, 25,...</td>\n",
       "      <td>[2, 2, 2, 2, 2, 2, 2, 2, 2, 2, 2, 2, 2, 2, 2, ...</td>\n",
       "      <td>[[[1, 1, 1, 1, 1, 1, 1, 1, 1, 1]], [[1, 1, 1, ...</td>\n",
       "      <td>[[[101, 2053, 2930, 11746, 102, 101, 2053, 293...</td>\n",
       "      <td>[[[2, 2, 2, 2, 2, 1, 1, 1, 1, 1]], [[2, 2, 2, ...</td>\n",
       "    </tr>\n",
       "    <tr>\n",
       "      <th>P4</th>\n",
       "      <td>[0, 0, 0, 0, 0, 1, 1.0, 0.0, 0.0, 0.0, 0.0, 0....</td>\n",
       "      <td>[1, 6, 26, 27, 28, 29, 24, 30, 31, 33, 32, 25,...</td>\n",
       "      <td>[2, 2, 2, 2, 2, 2, 2, 2, 2, 2, 2, 2, 2, 2, 2, ...</td>\n",
       "      <td>[[[1, 1, 1, 1, 1, 1, 1, 1, 1, 1, 1, 1, 1, 1, 1...</td>\n",
       "      <td>[[[101, 2740, 6032, 102, 101, 2036, 3115, 3169...</td>\n",
       "      <td>[[[2, 2, 2, 2, 1, 1, 1, 1, 1, 1, 1, 1, 1, 1, 1...</td>\n",
       "    </tr>\n",
       "    <tr>\n",
       "      <th>P5</th>\n",
       "      <td>[0, 0, 0, 0, 0, 1, 1.0, 1.0, 1.0, 1.0, 1.0, 1....</td>\n",
       "      <td>[1, 6, 26, 27, 28, 29, 24, 30, 31, 33, 32, 25,...</td>\n",
       "      <td>[2, 2, 2, 2, 2, 2, 2, 2, 2, 2, 2, 2, 2, 2, 2, ...</td>\n",
       "      <td>[[[1, 1, 1, 1, 1, 1, 1, 1, 1, 1]], [[1, 1, 1, ...</td>\n",
       "      <td>[[[101, 2053, 2930, 11746, 102, 101, 2053, 293...</td>\n",
       "      <td>[[[2, 2, 2, 2, 2, 1, 1, 1, 1, 1]], [[2, 2, 2, ...</td>\n",
       "    </tr>\n",
       "  </tbody>\n",
       "</table>\n",
       "</div>"
      ],
      "text/plain": [
       "                                         P-InfoGrn_wgt  \\\n",
       "PID                                                      \n",
       "P0   [0, 0, 0, 0, 0, 1, 1.0, 1.0, 1.0, 1.0, 1.0, 1....   \n",
       "P2   [0, 0, 0, 0, 0, 1, 1.0, 0.0, 0.0, 0.0, 0.0, 0....   \n",
       "P4   [0, 0, 0, 0, 0, 1, 1.0, 0.0, 0.0, 0.0, 0.0, 0....   \n",
       "P5   [0, 0, 0, 0, 0, 1, 1.0, 1.0, 1.0, 1.0, 1.0, 1....   \n",
       "\n",
       "                                      P-InfoGrn_tknidx  \\\n",
       "PID                                                      \n",
       "P0   [1, 6, 26, 27, 28, 29, 24, 30, 31, 33, 32, 25,...   \n",
       "P2   [1, 6, 26, 27, 28, 29, 24, 30, 31, 33, 32, 25,...   \n",
       "P4   [1, 6, 26, 27, 28, 29, 24, 30, 31, 33, 32, 25,...   \n",
       "P5   [1, 6, 26, 27, 28, 29, 24, 30, 31, 33, 32, 25,...   \n",
       "\n",
       "                                      P-InfoGrn_fldidx  \\\n",
       "PID                                                      \n",
       "P0   [2, 2, 2, 2, 2, 2, 2, 2, 2, 2, 2, 2, 2, 2, 2, ...   \n",
       "P2   [2, 2, 2, 2, 2, 2, 2, 2, 2, 2, 2, 2, 2, 2, 2, ...   \n",
       "P4   [2, 2, 2, 2, 2, 2, 2, 2, 2, 2, 2, 2, 2, 2, 2, ...   \n",
       "P5   [2, 2, 2, 2, 2, 2, 2, 2, 2, 2, 2, 2, 2, 2, 2, ...   \n",
       "\n",
       "                               P-EC-PNSect-TknzGrn_wgt  \\\n",
       "PID                                                      \n",
       "P0   [[[1, 1, 1, 1, 1, 1, 1, 1, 1, 1]], [[1, 1, 1, ...   \n",
       "P2   [[[1, 1, 1, 1, 1, 1, 1, 1, 1, 1]], [[1, 1, 1, ...   \n",
       "P4   [[[1, 1, 1, 1, 1, 1, 1, 1, 1, 1, 1, 1, 1, 1, 1...   \n",
       "P5   [[[1, 1, 1, 1, 1, 1, 1, 1, 1, 1]], [[1, 1, 1, ...   \n",
       "\n",
       "                            P-EC-PNSect-TknzGrn_tknidx  \\\n",
       "PID                                                      \n",
       "P0   [[[101, 2053, 2930, 11746, 102, 101, 2053, 293...   \n",
       "P2   [[[101, 2053, 2930, 11746, 102, 101, 2053, 293...   \n",
       "P4   [[[101, 2740, 6032, 102, 101, 2036, 3115, 3169...   \n",
       "P5   [[[101, 2053, 2930, 11746, 102, 101, 2053, 293...   \n",
       "\n",
       "                            P-EC-PNSect-TknzGrn_fldidx  \n",
       "PID                                                     \n",
       "P0   [[[2, 2, 2, 2, 2, 1, 1, 1, 1, 1]], [[2, 2, 2, ...  \n",
       "P2   [[[2, 2, 2, 2, 2, 1, 1, 1, 1, 1]], [[2, 2, 2, ...  \n",
       "P4   [[[2, 2, 2, 2, 1, 1, 1, 1, 1, 1, 1, 1, 1, 1, 1...  \n",
       "P5   [[[2, 2, 2, 2, 2, 1, 1, 1, 1, 1]], [[2, 2, 2, ...  "
      ]
     },
     "execution_count": 30,
     "metadata": {},
     "output_type": "execute_result"
    }
   ],
   "source": [
    "# How to Get this?\n",
    "from functools import reduce\n",
    "import pandas as pd\n",
    "\n",
    "\n",
    "Elig_Set = ['P0', 'P1', 'P2', 'P3', 'P4', 'P5', 'P6', 'P7']\n",
    "\n",
    "\n",
    "L = []\n",
    "for recfldgrn in recfldgrn_list:\n",
    "    \n",
    "    # (1) get tensor_folder\n",
    "    tensor_folder = os.path.join(Tensor_folder, recfldgrn)\n",
    "    # (2) get df_Pat and full_recfldgrn\n",
    "    df_tensor_fnl = load_df_data_from_folder(tensor_folder)# .set_index('PID')\n",
    "    # (2+) get your Eligible User\n",
    "    df_tensor_fnl = df_tensor_fnl[df_tensor_fnl['PID'].isin(Elig_Set)].reset_index(drop = True).set_index('PID') \n",
    "    \n",
    "    ###################\n",
    "    new_names = {i:'-'.join([t.split('@')[0] for t in i.split('-')]) for i in df_tensor_fnl.columns}\n",
    "    df_tensor_fnl = df_tensor_fnl.rename(columns = new_names)\n",
    "    ###################\n",
    "\n",
    "    # (3) load batch: TODO: convert this to DataSet and DataLoader\n",
    "    df_batch = df_tensor_fnl.loc[batch_PID_order]\n",
    "    L.append(df_batch)\n",
    "    \n",
    "df_batch = reduce(lambda left, right: pd.merge(left, right, on='PID'), L)\n",
    "df_batch"
   ]
  },
  {
   "cell_type": "code",
   "execution_count": 31,
   "metadata": {
    "tags": []
   },
   "outputs": [],
   "source": [
    "# a = L[0]\n",
    "# b = L[1]\n",
    "# pd.merge(a, b, on = 'PID')"
   ]
  },
  {
   "cell_type": "code",
   "execution_count": 32,
   "metadata": {
    "tags": []
   },
   "outputs": [
    {
     "data": {
      "text/plain": [
       "['P-InfoGrn_wgt',\n",
       " 'P-InfoGrn_tknidx',\n",
       " 'P-InfoGrn_fldidx',\n",
       " 'P-EC-PNSect-TknzGrn_wgt',\n",
       " 'P-EC-PNSect-TknzGrn_tknidx',\n",
       " 'P-EC-PNSect-TknzGrn_fldidx']"
      ]
     },
     "execution_count": 32,
     "metadata": {},
     "output_type": "execute_result"
    }
   ],
   "source": [
    "recfldgrn_sfx_list = list(df_batch.columns)\n",
    "recfldgrn_sfx_list"
   ]
  },
  {
   "cell_type": "code",
   "execution_count": 33,
   "metadata": {
    "tags": []
   },
   "outputs": [],
   "source": [
    "batch_rfg = {}\n",
    "\n",
    "# get the relational_list\n",
    "for recfldgrn_sfx in recfldgrn_sfx_list:\n",
    "    relational_list = df_batch[recfldgrn_sfx].to_list()\n",
    "    B_recfldgrn_sfx = 'B-' + recfldgrn_sfx # B- means Batch. )\n",
    "    suffix = '_' + B_recfldgrn_sfx.split('_')[-1]\n",
    "    D = convert_relational_list_to_numpy(relational_list, B_recfldgrn_sfx, suffix)\n",
    "    tensor_idx = D[B_recfldgrn_sfx]\n",
    "    batch_rfg[B_recfldgrn_sfx] = tensor_idx\n"
   ]
  },
  {
   "cell_type": "code",
   "execution_count": 34,
   "metadata": {
    "tags": []
   },
   "outputs": [
    {
     "name": "stdout",
     "output_type": "stream",
     "text": [
      "B-P-InfoGrn_wgt (4, 43)\n",
      "B-P-InfoGrn_tknidx (4, 43)\n",
      "B-P-InfoGrn_fldidx (4, 43)\n",
      "B-P-EC-PNSect-TknzGrn_wgt (4, 34, 14, 283)\n",
      "B-P-EC-PNSect-TknzGrn_tknidx (4, 34, 14, 283)\n",
      "B-P-EC-PNSect-TknzGrn_fldidx (4, 34, 14, 283)\n"
     ]
    }
   ],
   "source": [
    "for k, v in batch_rfg.items(): \n",
    "    print(k, v.shape)"
   ]
  },
  {
   "cell_type": "markdown",
   "metadata": {
    "tags": []
   },
   "source": [
    "# Develop Dataset and DataLoader\n",
    "\n",
    "We need to define a PyTorch Dataset and DataLoader to generate the batch automatically, based on the information we already have. This function/class will be developed based on the functions described in the following part. \n",
    "\n",
    "\n",
    "Input:\n",
    "- 1. A task tensor folder, where you can load df_Pat for each `recfldgrn`.\n",
    "- 2. A given list of recfldgrn.\n",
    "\n",
    "\n",
    "TODO:\n",
    "\n",
    "- 1. Design a PyTorch Dataset, where X: batch_rfg (only one patient).  Y: 'TODO' (return a the string of 'TODO' for now'. DONE!\n",
    "\n",
    "\n",
    "- 2. Design a PyTorch DataLoader, Define `collate_fn`: https://pytorch.org/docs/stable/data.html#working-with-collate-fn that use the function of `convert_relational_list_to_numpy` to padding the  relational list into array.\n",
    "\n",
    "\n",
    "\n",
    "\n"
   ]
  },
  {
   "cell_type": "code",
   "execution_count": 35,
   "metadata": {
    "tags": []
   },
   "outputs": [
    {
     "data": {
      "text/plain": [
       "['P-InfoGrn', 'P-EC-PNSect-TknzGrn']"
      ]
     },
     "execution_count": 35,
     "metadata": {},
     "output_type": "execute_result"
    }
   ],
   "source": [
    "recfldgrn_list"
   ]
  },
  {
   "cell_type": "code",
   "execution_count": 36,
   "metadata": {
    "tags": []
   },
   "outputs": [
    {
     "name": "stdout",
     "output_type": "stream",
     "text": [
      "8\n"
     ]
    }
   ],
   "source": [
    "print(len(Elig_Set))"
   ]
  },
  {
   "cell_type": "code",
   "execution_count": 39,
   "metadata": {
    "tags": []
   },
   "outputs": [],
   "source": [
    "Tensor_folder = 'data/ProcData/FldGrnTensor/'\n",
    "\n",
    "for recfldgrn in recfldgrn_list:    \n",
    "    # (1) get tensor_folder\n",
    "    tensor_folder = os.path.join(Tensor_folder, recfldgrn)\n",
    "    # (2) get df_Pat and full_recfldgrn\n",
    "    df_tensor_fnl = load_df_data_from_folder(tensor_folder)# .set_index('PID')\n",
    "    # (2+) get your Eligible User\n",
    "    df_tensor_fnl = df_tensor_fnl[df_tensor_fnl['PID'].isin(Elig_Set)].reset_index(drop = True).set_index('PID') \n",
    "\n",
    "    ###################\n",
    "    new_names = {i:'-'.join([t.split('@')[0] for t in i.split('-')]) for i in df_tensor_fnl.columns}\n",
    "    df_tensor_fnl = df_tensor_fnl.rename(columns = new_names)\n",
    "    ###################\n",
    "\n",
    "    \n",
    "    tensor_cols = df_tensor_fnl.columns"
   ]
  },
  {
   "cell_type": "code",
   "execution_count": 40,
   "metadata": {
    "tags": []
   },
   "outputs": [
    {
     "data": {
      "text/html": [
       "<div>\n",
       "<style scoped>\n",
       "    .dataframe tbody tr th:only-of-type {\n",
       "        vertical-align: middle;\n",
       "    }\n",
       "\n",
       "    .dataframe tbody tr th {\n",
       "        vertical-align: top;\n",
       "    }\n",
       "\n",
       "    .dataframe thead th {\n",
       "        text-align: right;\n",
       "    }\n",
       "</style>\n",
       "<table border=\"1\" class=\"dataframe\">\n",
       "  <thead>\n",
       "    <tr style=\"text-align: right;\">\n",
       "      <th></th>\n",
       "      <th>P-EC-PNSect-TknzGrn_wgt</th>\n",
       "      <th>P-EC-PNSect-TknzGrn_tknidx</th>\n",
       "      <th>P-EC-PNSect-TknzGrn_fldidx</th>\n",
       "    </tr>\n",
       "    <tr>\n",
       "      <th>PID</th>\n",
       "      <th></th>\n",
       "      <th></th>\n",
       "      <th></th>\n",
       "    </tr>\n",
       "  </thead>\n",
       "  <tbody>\n",
       "    <tr>\n",
       "      <th>P0</th>\n",
       "      <td>[[[1, 1, 1, 1, 1, 1, 1, 1, 1, 1]], [[1, 1, 1, ...</td>\n",
       "      <td>[[[101, 2053, 2930, 11746, 102, 101, 2053, 293...</td>\n",
       "      <td>[[[2, 2, 2, 2, 2, 1, 1, 1, 1, 1]], [[2, 2, 2, ...</td>\n",
       "    </tr>\n",
       "    <tr>\n",
       "      <th>P1</th>\n",
       "      <td>[[[1, 1, 1, 1, 1, 1, 1, 1, 1, 1, 1, 1, 1, 1, 1...</td>\n",
       "      <td>[[[101, 3558, 11360, 102, 101, 3056, 3034, 433...</td>\n",
       "      <td>[[[2, 2, 2, 2, 1, 1, 1, 1, 1, 1, 1, 1, 1, 1, 1...</td>\n",
       "    </tr>\n",
       "    <tr>\n",
       "      <th>P2</th>\n",
       "      <td>[[[1, 1, 1, 1, 1, 1, 1, 1, 1, 1]], [[1, 1, 1, ...</td>\n",
       "      <td>[[[101, 2053, 2930, 11746, 102, 101, 2053, 293...</td>\n",
       "      <td>[[[2, 2, 2, 2, 2, 1, 1, 1, 1, 1]], [[2, 2, 2, ...</td>\n",
       "    </tr>\n",
       "    <tr>\n",
       "      <th>P3</th>\n",
       "      <td>[[[1, 1, 1, 1, 1, 1, 1, 1, 1, 1, 1, 1, 1, 1, 1...</td>\n",
       "      <td>[[[101, 3558, 11360, 102, 101, 3193, 4769, 199...</td>\n",
       "      <td>[[[2, 2, 2, 2, 1, 1, 1, 1, 1, 1, 1, 1, 1, 1, 1...</td>\n",
       "    </tr>\n",
       "    <tr>\n",
       "      <th>P4</th>\n",
       "      <td>[[[1, 1, 1, 1, 1, 1, 1, 1, 1, 1, 1, 1, 1, 1, 1...</td>\n",
       "      <td>[[[101, 2740, 6032, 102, 101, 2036, 3115, 3169...</td>\n",
       "      <td>[[[2, 2, 2, 2, 1, 1, 1, 1, 1, 1, 1, 1, 1, 1, 1...</td>\n",
       "    </tr>\n",
       "    <tr>\n",
       "      <th>P5</th>\n",
       "      <td>[[[1, 1, 1, 1, 1, 1, 1, 1, 1, 1]], [[1, 1, 1, ...</td>\n",
       "      <td>[[[101, 2053, 2930, 11746, 102, 101, 2053, 293...</td>\n",
       "      <td>[[[2, 2, 2, 2, 2, 1, 1, 1, 1, 1]], [[2, 2, 2, ...</td>\n",
       "    </tr>\n",
       "    <tr>\n",
       "      <th>P6</th>\n",
       "      <td>[[[1, 1, 1, 1, 1, 1, 1, 1, 1, 1]], [[1, 1, 1, ...</td>\n",
       "      <td>[[[101, 2053, 2930, 11746, 102, 101, 2053, 293...</td>\n",
       "      <td>[[[2, 2, 2, 2, 2, 1, 1, 1, 1, 1]], [[2, 2, 2, ...</td>\n",
       "    </tr>\n",
       "    <tr>\n",
       "      <th>P7</th>\n",
       "      <td>[[[1, 1, 1, 1, 1, 1, 1, 1, 1, 1, 1, 1], [1, 1,...</td>\n",
       "      <td>[[[101, 2708, 12087, 102, 101, 2482, 2995, 268...</td>\n",
       "      <td>[[[2, 2, 2, 2, 1, 1, 1, 1, 1, 1, 1, 1], [2, 2,...</td>\n",
       "    </tr>\n",
       "  </tbody>\n",
       "</table>\n",
       "</div>"
      ],
      "text/plain": [
       "                               P-EC-PNSect-TknzGrn_wgt  \\\n",
       "PID                                                      \n",
       "P0   [[[1, 1, 1, 1, 1, 1, 1, 1, 1, 1]], [[1, 1, 1, ...   \n",
       "P1   [[[1, 1, 1, 1, 1, 1, 1, 1, 1, 1, 1, 1, 1, 1, 1...   \n",
       "P2   [[[1, 1, 1, 1, 1, 1, 1, 1, 1, 1]], [[1, 1, 1, ...   \n",
       "P3   [[[1, 1, 1, 1, 1, 1, 1, 1, 1, 1, 1, 1, 1, 1, 1...   \n",
       "P4   [[[1, 1, 1, 1, 1, 1, 1, 1, 1, 1, 1, 1, 1, 1, 1...   \n",
       "P5   [[[1, 1, 1, 1, 1, 1, 1, 1, 1, 1]], [[1, 1, 1, ...   \n",
       "P6   [[[1, 1, 1, 1, 1, 1, 1, 1, 1, 1]], [[1, 1, 1, ...   \n",
       "P7   [[[1, 1, 1, 1, 1, 1, 1, 1, 1, 1, 1, 1], [1, 1,...   \n",
       "\n",
       "                            P-EC-PNSect-TknzGrn_tknidx  \\\n",
       "PID                                                      \n",
       "P0   [[[101, 2053, 2930, 11746, 102, 101, 2053, 293...   \n",
       "P1   [[[101, 3558, 11360, 102, 101, 3056, 3034, 433...   \n",
       "P2   [[[101, 2053, 2930, 11746, 102, 101, 2053, 293...   \n",
       "P3   [[[101, 3558, 11360, 102, 101, 3193, 4769, 199...   \n",
       "P4   [[[101, 2740, 6032, 102, 101, 2036, 3115, 3169...   \n",
       "P5   [[[101, 2053, 2930, 11746, 102, 101, 2053, 293...   \n",
       "P6   [[[101, 2053, 2930, 11746, 102, 101, 2053, 293...   \n",
       "P7   [[[101, 2708, 12087, 102, 101, 2482, 2995, 268...   \n",
       "\n",
       "                            P-EC-PNSect-TknzGrn_fldidx  \n",
       "PID                                                     \n",
       "P0   [[[2, 2, 2, 2, 2, 1, 1, 1, 1, 1]], [[2, 2, 2, ...  \n",
       "P1   [[[2, 2, 2, 2, 1, 1, 1, 1, 1, 1, 1, 1, 1, 1, 1...  \n",
       "P2   [[[2, 2, 2, 2, 2, 1, 1, 1, 1, 1]], [[2, 2, 2, ...  \n",
       "P3   [[[2, 2, 2, 2, 1, 1, 1, 1, 1, 1, 1, 1, 1, 1, 1...  \n",
       "P4   [[[2, 2, 2, 2, 1, 1, 1, 1, 1, 1, 1, 1, 1, 1, 1...  \n",
       "P5   [[[2, 2, 2, 2, 2, 1, 1, 1, 1, 1]], [[2, 2, 2, ...  \n",
       "P6   [[[2, 2, 2, 2, 2, 1, 1, 1, 1, 1]], [[2, 2, 2, ...  \n",
       "P7   [[[2, 2, 2, 2, 1, 1, 1, 1, 1, 1, 1, 1], [2, 2,...  "
      ]
     },
     "execution_count": 40,
     "metadata": {},
     "output_type": "execute_result"
    }
   ],
   "source": [
    "df_tensor_fnl"
   ]
  },
  {
   "cell_type": "markdown",
   "metadata": {},
   "source": [
    "## RFG Dataset"
   ]
  },
  {
   "cell_type": "code",
   "execution_count": 45,
   "metadata": {
    "tags": []
   },
   "outputs": [],
   "source": [
    "import torch\n",
    "import numpy as np\n",
    "import pandas as pd\n",
    "from torch.utils.data import Dataset\n",
    "import pandas as pd\n",
    "from functools import reduce\n",
    "\n",
    "\n",
    "class RFGDataset(Dataset):\n",
    "    def __init__(self, Tensor_folder, recfldgrn_list, Elig_Set, RecRootID = 'PID'):\n",
    "        self.recfldgrn_list = recfldgrn_list\n",
    "        self.Tensor_folder = Tensor_folder\n",
    "        self.Elig_Set = Elig_Set\n",
    "        self.RecRootID = RecRootID\n",
    "        \n",
    "        L = []\n",
    "        for recfldgrn in recfldgrn_list:\n",
    "            # (1) get tensor_folder\n",
    "            tensor_folder = os.path.join(Tensor_folder, recfldgrn)\n",
    "            # (2) get df_Pat and full_recfldgrn\n",
    "            df_tensor_fnl = load_df_data_from_folder(tensor_folder)\n",
    "            df_tensor_fnl = df_tensor_fnl[df_tensor_fnl[RecRootID].isin(Elig_Set)].reset_index(drop = True).set_index(RecRootID) \n",
    "            \n",
    "            ################### adjust the name here. \n",
    "            new_names = {i:'-'.join([t.split('@')[0] for t in i.split('-')]) for i in df_tensor_fnl.columns}\n",
    "            df_tensor_fnl = df_tensor_fnl.rename(columns = new_names)\n",
    "            ###################\n",
    "\n",
    "            L.append(df_tensor_fnl)\n",
    "        data = reduce(lambda left, right: pd.merge(left, right, on=RecRootID), L)\n",
    "        self.data = data\n",
    "        \n",
    "    def __len__(self):\n",
    "        return len(self.data)\n",
    "\n",
    "    def __getitem__(self, index):\n",
    "        x = self.data.iloc[index]# [full_recfldgrn]\n",
    "        y = np.random.choice([0,1]) # go back to label later.\n",
    "        return {'x': x, 'y': y} # torch.tensor(x), torch.tensor(y)\n",
    "    \n",
    "dataset = RFGDataset(Tensor_folder, recfldgrn_list, Elig_Set, RecRootID = 'PID')\n",
    "# len(dataset)"
   ]
  },
  {
   "cell_type": "code",
   "execution_count": 46,
   "metadata": {
    "tags": []
   },
   "outputs": [
    {
     "data": {
      "text/plain": [
       "8"
      ]
     },
     "execution_count": 46,
     "metadata": {},
     "output_type": "execute_result"
    }
   ],
   "source": [
    "len(dataset)"
   ]
  },
  {
   "cell_type": "markdown",
   "metadata": {},
   "source": [
    "## Collate_FN"
   ]
  },
  {
   "cell_type": "code",
   "execution_count": 47,
   "metadata": {
    "tags": []
   },
   "outputs": [],
   "source": [
    "batch_input = [dataset[i] for i in [1, 3, 4, 6]]\n",
    "# batch_input"
   ]
  },
  {
   "cell_type": "code",
   "execution_count": 48,
   "metadata": {
    "tags": []
   },
   "outputs": [
    {
     "data": {
      "text/plain": [
       "['P-InfoGrn_wgt',\n",
       " 'P-InfoGrn_tknidx',\n",
       " 'P-InfoGrn_fldidx',\n",
       " 'P-EC-PNSect-TknzGrn_wgt',\n",
       " 'P-EC-PNSect-TknzGrn_tknidx',\n",
       " 'P-EC-PNSect-TknzGrn_fldidx']"
      ]
     },
     "execution_count": 48,
     "metadata": {},
     "output_type": "execute_result"
    }
   ],
   "source": [
    "df_batch = pd.DataFrame([i['x'].to_dict() for i in batch_input])\n",
    "recfldgrn_sfx_list = [i for i in df_batch.columns]\n",
    "recfldgrn_sfx_list"
   ]
  },
  {
   "cell_type": "code",
   "execution_count": 49,
   "metadata": {
    "tags": []
   },
   "outputs": [
    {
     "name": "stdout",
     "output_type": "stream",
     "text": [
      "B-P-InfoGrn_wgt <--- B_recfldgrn_suffix\n",
      "(4, 43) <------- the shape of tensor_idx\n",
      "\n",
      "\n",
      "B-P-InfoGrn_tknidx <--- B_recfldgrn_suffix\n",
      "(4, 43) <------- the shape of tensor_idx\n",
      "\n",
      "\n",
      "B-P-InfoGrn_fldidx <--- B_recfldgrn_suffix\n",
      "(4, 43) <------- the shape of tensor_idx\n",
      "\n",
      "\n",
      "B-P-EC-PNSect-TknzGrn_wgt <--- B_recfldgrn_suffix\n",
      "(4, 87, 15, 512) <------- the shape of tensor_idx\n",
      "\n",
      "\n",
      "B-P-EC-PNSect-TknzGrn_tknidx <--- B_recfldgrn_suffix\n",
      "(4, 87, 15, 512) <------- the shape of tensor_idx\n",
      "\n",
      "\n",
      "B-P-EC-PNSect-TknzGrn_fldidx <--- B_recfldgrn_suffix\n",
      "(4, 87, 15, 512) <------- the shape of tensor_idx\n",
      "\n",
      "\n"
     ]
    }
   ],
   "source": [
    "# here batch_rfg is dict to hold the padding array for each recfldgrn\n",
    "batch_rfg = {}\n",
    "\n",
    "for recfldgrn_sfx in recfldgrn_sfx_list:\n",
    "    relational_list = df_batch[recfldgrn_sfx].to_list()\n",
    "    B_recfldgrn_sfx = 'B-' + recfldgrn_sfx # B- means Batch. \n",
    "    suffix = '_' + B_recfldgrn_sfx.split('_')[-1]\n",
    "    D = convert_relational_list_to_numpy(relational_list, B_recfldgrn_sfx, suffix)\n",
    "    tensor_idx = D[B_recfldgrn_sfx]\n",
    "    print(B_recfldgrn_sfx, '<--- B_recfldgrn_suffix')\n",
    "    print(tensor_idx.shape, '<------- the shape of tensor_idx')\n",
    "    batch_rfg[B_recfldgrn_sfx] = tensor_idx\n",
    "    print('\\n')"
   ]
  },
  {
   "cell_type": "code",
   "execution_count": 50,
   "metadata": {
    "tags": []
   },
   "outputs": [],
   "source": [
    "def my_collate_fn(batch_input):\n",
    "    ##############\n",
    "    # inputs: you can check the following inputs in the above cells.\n",
    "    # (1): relational_list\n",
    "    # (2): new_full_recfldgrn\n",
    "    # (3): suffix\n",
    "    ##############\n",
    "    df_batch = pd.DataFrame([i['x'].to_dict() for i in batch_input])\n",
    "    recfldgrn_sfx_list = [i for i in df_batch.columns]\n",
    "    \n",
    "    batch_rfg = {}\n",
    "\n",
    "    for recfldgrn_sfx in recfldgrn_sfx_list:\n",
    "        relational_list = df_batch[recfldgrn_sfx].to_list()\n",
    "        B_recfldgrn_sfx = 'B-' + recfldgrn_sfx # B- means Batch. \n",
    "        suffix = '_' + B_recfldgrn_sfx.split('_')[-1]\n",
    "        D = convert_relational_list_to_numpy(relational_list, B_recfldgrn_sfx, suffix)\n",
    "        tensor_idx = D[B_recfldgrn_sfx]\n",
    "        # print(B_recfldgrn_sfx, '<--- B_recfldgrn_suffix')\n",
    "        # print(tensor_idx.shape, '<------- the shape of tensor_idx')\n",
    "        batch_rfg[B_recfldgrn_sfx] = torch.Tensor(tensor_idx)\n",
    "        # print('\\n')\n",
    "        \n",
    "    batch_y = torch.LongTensor([[i['y']] for i in batch_input])  # ignore this\n",
    "    return batch_rfg, batch_y"
   ]
  },
  {
   "cell_type": "code",
   "execution_count": 51,
   "metadata": {
    "tags": []
   },
   "outputs": [],
   "source": [
    "batch_rfg, batch_y = my_collate_fn(batch_input)"
   ]
  },
  {
   "cell_type": "code",
   "execution_count": 52,
   "metadata": {
    "tags": []
   },
   "outputs": [
    {
     "name": "stdout",
     "output_type": "stream",
     "text": [
      "B-P-InfoGrn_wgt torch.Size([4, 43])\n",
      "B-P-InfoGrn_tknidx torch.Size([4, 43])\n",
      "B-P-InfoGrn_fldidx torch.Size([4, 43])\n",
      "B-P-EC-PNSect-TknzGrn_wgt torch.Size([4, 87, 15, 512])\n",
      "B-P-EC-PNSect-TknzGrn_tknidx torch.Size([4, 87, 15, 512])\n",
      "B-P-EC-PNSect-TknzGrn_fldidx torch.Size([4, 87, 15, 512])\n"
     ]
    }
   ],
   "source": [
    "# batch_rfg\n",
    "for k, v in batch_rfg.items(): print(k, v.shape)"
   ]
  },
  {
   "cell_type": "code",
   "execution_count": 53,
   "metadata": {
    "tags": []
   },
   "outputs": [
    {
     "data": {
      "text/plain": [
       "torch.Size([4, 1])"
      ]
     },
     "execution_count": 53,
     "metadata": {},
     "output_type": "execute_result"
    }
   ],
   "source": [
    "batch_y.shape"
   ]
  },
  {
   "cell_type": "markdown",
   "metadata": {},
   "source": [
    "## DataLoader"
   ]
  },
  {
   "cell_type": "code",
   "execution_count": 54,
   "metadata": {
    "tags": []
   },
   "outputs": [],
   "source": [
    "from torch.utils.data import DataLoader\n",
    "\n",
    "my_dataloader = DataLoader(dataset, batch_size = 2, shuffle = True, collate_fn = my_collate_fn)"
   ]
  },
  {
   "cell_type": "code",
   "execution_count": 55,
   "metadata": {
    "tags": []
   },
   "outputs": [
    {
     "name": "stdout",
     "output_type": "stream",
     "text": [
      "\n",
      "------ 0\n",
      "B-P-InfoGrn_wgt torch.Size([2, 43])\n",
      "B-P-InfoGrn_tknidx torch.Size([2, 43])\n",
      "B-P-InfoGrn_fldidx torch.Size([2, 43])\n",
      "B-P-EC-PNSect-TknzGrn_wgt torch.Size([2, 34, 14, 283])\n",
      "B-P-EC-PNSect-TknzGrn_tknidx torch.Size([2, 34, 14, 283])\n",
      "B-P-EC-PNSect-TknzGrn_fldidx torch.Size([2, 34, 14, 283])\n",
      "torch.Size([2, 1])\n",
      "\n",
      "------ 1\n",
      "B-P-InfoGrn_wgt torch.Size([2, 43])\n",
      "B-P-InfoGrn_tknidx torch.Size([2, 43])\n",
      "B-P-InfoGrn_fldidx torch.Size([2, 43])\n",
      "B-P-EC-PNSect-TknzGrn_wgt torch.Size([2, 25, 14, 512])\n",
      "B-P-EC-PNSect-TknzGrn_tknidx torch.Size([2, 25, 14, 512])\n",
      "B-P-EC-PNSect-TknzGrn_fldidx torch.Size([2, 25, 14, 512])\n",
      "torch.Size([2, 1])\n",
      "\n",
      "------ 2\n",
      "B-P-InfoGrn_wgt torch.Size([2, 43])\n",
      "B-P-InfoGrn_tknidx torch.Size([2, 43])\n",
      "B-P-InfoGrn_fldidx torch.Size([2, 43])\n",
      "B-P-EC-PNSect-TknzGrn_wgt torch.Size([2, 87, 15, 269])\n",
      "B-P-EC-PNSect-TknzGrn_tknidx torch.Size([2, 87, 15, 269])\n",
      "B-P-EC-PNSect-TknzGrn_fldidx torch.Size([2, 87, 15, 269])\n",
      "torch.Size([2, 1])\n",
      "\n",
      "------ 3\n",
      "B-P-InfoGrn_wgt torch.Size([2, 43])\n",
      "B-P-InfoGrn_tknidx torch.Size([2, 43])\n",
      "B-P-InfoGrn_fldidx torch.Size([2, 43])\n",
      "B-P-EC-PNSect-TknzGrn_wgt torch.Size([2, 7, 13, 221])\n",
      "B-P-EC-PNSect-TknzGrn_tknidx torch.Size([2, 7, 13, 221])\n",
      "B-P-EC-PNSect-TknzGrn_fldidx torch.Size([2, 7, 13, 221])\n",
      "torch.Size([2, 1])\n"
     ]
    }
   ],
   "source": [
    "for idx, batch in enumerate(my_dataloader):\n",
    "    \n",
    "    print(f'\\n------ {idx}')\n",
    "    batch_rfg, batch_y = batch\n",
    "    \n",
    "    for k, v in batch_rfg.items(): print(k, v.shape)\n",
    "    \n",
    "    print(batch_y.shape)"
   ]
  },
  {
   "cell_type": "code",
   "execution_count": 56,
   "metadata": {
    "tags": []
   },
   "outputs": [],
   "source": [
    "# batch_rfg"
   ]
  },
  {
   "cell_type": "markdown",
   "metadata": {},
   "source": [
    "# Final Test"
   ]
  },
  {
   "cell_type": "code",
   "execution_count": 1,
   "metadata": {
    "tags": []
   },
   "outputs": [
    {
     "name": "stdout",
     "output_type": "stream",
     "text": [
      "/Users/floydluo/Library/CloudStorage/OneDrive-JohnsHopkins/000Projects/0000-Infrastructure/0000-RecFld/FieldNN\n"
     ]
    }
   ],
   "source": [
    "%cd .."
   ]
  },
  {
   "cell_type": "code",
   "execution_count": 2,
   "metadata": {
    "tags": []
   },
   "outputs": [],
   "source": [
    "import os\n",
    "\n",
    "Tensor_folder = 'data/ProcData/FldGrnTensor/'\n",
    "recfldgrn_list = ['P-InfoGrn',  'P-EC-PNSect-TknzGrn']\n",
    "\n",
    "# from the get_grain_fn to get the Elig_Set.\n",
    "Elig_Set = ['P0', 'P1', 'P2', 'P3', 'P4', 'P5', 'P6', 'P7']"
   ]
  },
  {
   "cell_type": "code",
   "execution_count": 3,
   "metadata": {},
   "outputs": [
    {
     "name": "stdout",
     "output_type": "stream",
     "text": [
      "8 <---- dataset\n",
      "4 <---- dataset\n"
     ]
    }
   ],
   "source": [
    "from fieldnn.dataset import RFGDataset, my_collate_fn\n",
    "from torch.utils.data import DataLoader\n",
    "\n",
    "dataset = RFGDataset(Tensor_folder, recfldgrn_list, Elig_Set, RecRootID = 'PID')\n",
    "print(len(dataset), '<---- dataset')\n",
    "dataloader = DataLoader(dataset, batch_size = 2, shuffle = True, collate_fn = my_collate_fn)\n",
    "print(len(dataloader), '<---- dataset')"
   ]
  },
  {
   "cell_type": "code",
   "execution_count": 4,
   "metadata": {
    "tags": []
   },
   "outputs": [
    {
     "name": "stdout",
     "output_type": "stream",
     "text": [
      "\n",
      "------ 0\n",
      "B-P-InfoGrn_wgt torch.Size([2, 43])\n",
      "B-P-InfoGrn_tknidx torch.Size([2, 43])\n",
      "B-P-InfoGrn_fldidx torch.Size([2, 43])\n",
      "B-P-EC-PNSect-TknzGrn_wgt torch.Size([2, 87, 15, 269])\n",
      "B-P-EC-PNSect-TknzGrn_tknidx torch.Size([2, 87, 15, 269])\n",
      "B-P-EC-PNSect-TknzGrn_fldidx torch.Size([2, 87, 15, 269])\n",
      "torch.Size([2, 1])\n",
      "\n",
      "------ 1\n",
      "B-P-InfoGrn_wgt torch.Size([2, 43])\n",
      "B-P-InfoGrn_tknidx torch.Size([2, 43])\n",
      "B-P-InfoGrn_fldidx torch.Size([2, 43])\n",
      "B-P-EC-PNSect-TknzGrn_wgt torch.Size([2, 23, 14, 221])\n",
      "B-P-EC-PNSect-TknzGrn_tknidx torch.Size([2, 23, 14, 221])\n",
      "B-P-EC-PNSect-TknzGrn_fldidx torch.Size([2, 23, 14, 221])\n",
      "torch.Size([2, 1])\n",
      "\n",
      "------ 2\n",
      "B-P-InfoGrn_wgt torch.Size([2, 43])\n",
      "B-P-InfoGrn_tknidx torch.Size([2, 43])\n",
      "B-P-InfoGrn_fldidx torch.Size([2, 43])\n",
      "B-P-EC-PNSect-TknzGrn_wgt torch.Size([2, 34, 13, 199])\n",
      "B-P-EC-PNSect-TknzGrn_tknidx torch.Size([2, 34, 13, 199])\n",
      "B-P-EC-PNSect-TknzGrn_fldidx torch.Size([2, 34, 13, 199])\n",
      "torch.Size([2, 1])\n",
      "\n",
      "------ 3\n",
      "B-P-InfoGrn_wgt torch.Size([2, 43])\n",
      "B-P-InfoGrn_tknidx torch.Size([2, 43])\n",
      "B-P-InfoGrn_fldidx torch.Size([2, 43])\n",
      "B-P-EC-PNSect-TknzGrn_wgt torch.Size([2, 26, 14, 512])\n",
      "B-P-EC-PNSect-TknzGrn_tknidx torch.Size([2, 26, 14, 512])\n",
      "B-P-EC-PNSect-TknzGrn_fldidx torch.Size([2, 26, 14, 512])\n",
      "torch.Size([2, 1])\n"
     ]
    }
   ],
   "source": [
    "for idx, batch in enumerate(dataloader):\n",
    "    print(f'\\n------ {idx}')\n",
    "    batch_rfg, batch_y = batch\n",
    "    for k, v in batch_rfg.items(): print(k, v.shape)\n",
    "    print(batch_y.shape)"
   ]
  },
  {
   "cell_type": "code",
   "execution_count": null,
   "metadata": {},
   "outputs": [],
   "source": []
  },
  {
   "cell_type": "code",
   "execution_count": null,
   "metadata": {},
   "outputs": [],
   "source": []
  }
 ],
 "metadata": {
  "colab": {
   "provenance": [],
   "toc_visible": true
  },
  "kernelspec": {
   "display_name": "Python 3 (ipykernel)",
   "language": "python",
   "name": "python3"
  },
  "language_info": {
   "codemirror_mode": {
    "name": "ipython",
    "version": 3
   },
   "file_extension": ".py",
   "mimetype": "text/x-python",
   "name": "python",
   "nbconvert_exporter": "python",
   "pygments_lexer": "ipython3",
   "version": "3.8.8"
  },
  "toc-autonumbering": true
 },
 "nbformat": 4,
 "nbformat_minor": 4
}
