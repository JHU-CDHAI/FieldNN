{
 "cells": [
  {
   "cell_type": "code",
   "execution_count": 1,
   "metadata": {
    "tags": []
   },
   "outputs": [
    {
     "name": "stdout",
     "output_type": "stream",
     "text": [
      "/Users/floydluo/Library/CloudStorage/GoogleDrive-jjluo@terpmail.umd.edu/.shortcut-targets-by-id/1qNzMmGHCg5Xa63Vw3aKbZdMXvkfT2CgC/MedStar/MS_CODE/FieldNN\n"
     ]
    }
   ],
   "source": [
    "%cd .."
   ]
  },
  {
   "cell_type": "markdown",
   "metadata": {
    "id": "eQp3UmDGB7Xr"
   },
   "source": [
    "# recfldgrn List"
   ]
  },
  {
   "cell_type": "code",
   "execution_count": 2,
   "metadata": {
    "id": "VTNv8LhUp9ws"
   },
   "outputs": [],
   "source": [
    "# def traverse(o, tree_types=(list, tuple), index = None, nest_layer = 100):\n",
    "#     if isinstance(o, tree_types) and nest_layer > 0:\n",
    "#         for idx, value in enumerate(o):\n",
    "#             new_index = index + [idx] if type(index) == list else [idx]\n",
    "#             for subvalue in traverse(value, tree_types, new_index, nest_layer - 1):\n",
    "#                 yield subvalue\n",
    "#     else:\n",
    "#         if not isinstance(o, tree_types): \n",
    "#             length = None\n",
    "#         else:\n",
    "#             length = len(o)\n",
    "#         yield index, length, o\n",
    "        \n",
    "# from recfldgrn.utils import traverse\n",
    "from fieldnn.utils.layerfn import traverse"
   ]
  },
  {
   "cell_type": "code",
   "execution_count": 3,
   "metadata": {
    "tags": []
   },
   "outputs": [],
   "source": [
    "from recfldgrn.datapoint import convert_PID_to_PIDgroup\n",
    "from recfldgrn.datapoint import RANGE_SIZE, write_df_to_folders, load_df_data_from_folder\n",
    "\n",
    "import os"
   ]
  },
  {
   "cell_type": "code",
   "execution_count": 4,
   "metadata": {
    "tags": []
   },
   "outputs": [
    {
     "name": "stdout",
     "output_type": "stream",
     "text": [
      "data/ProcData/TensorFolder/Task2YearXXX\n"
     ]
    },
    {
     "data": {
      "text/plain": [
       "['A1C@DT-DTDftGrn',\n",
       " 'A1C@V-A1CNumeDftGrn',\n",
       " 'Diag@DT-DTDftGrn',\n",
       " 'Diag@Value-DiagDftGrn',\n",
       " 'EC@BasicInfo-BasicDftGrn',\n",
       " 'EC@DT_min-DTDftGrn',\n",
       " 'P@age-AgeNumeDftGrn',\n",
       " 'P@basicInfo-basicInfoDftGrn',\n",
       " 'PNSectSent@Sentence-Tk@TknzLLMGrn']"
      ]
     },
     "execution_count": 4,
     "metadata": {},
     "output_type": "execute_result"
    }
   ],
   "source": [
    "TaskTensor_folder = 'data/ProcData/TensorFolder/Task2YearXXX'\n",
    "print(TaskTensor_folder)\n",
    "recfldgrn_list = sorted([i for i in os.listdir(TaskTensor_folder) if 'Grn' in i])\n",
    "recfldgrn_list"
   ]
  },
  {
   "cell_type": "markdown",
   "metadata": {},
   "source": [
    "# One recfldgrn"
   ]
  },
  {
   "cell_type": "code",
   "execution_count": 5,
   "metadata": {},
   "outputs": [],
   "source": [
    "# recfldgrn = 'PNSectSent@Sentence-Tk@TknzLLMGrn'; prefix_ids = ['P', 'EC', 'PN', 'PNSect']\n",
    "# recfldgrn = 'A1C@DT-DTDftGrn'; prefix_ids = ['P', 'EC']\n",
    "# full_recfldgrn = '-'.join(prefix_ids) + '-' + recfldgrn\n",
    "# print(full_recfldgrn)"
   ]
  },
  {
   "cell_type": "markdown",
   "metadata": {},
   "source": [
    "## Load df_Pat"
   ]
  },
  {
   "cell_type": "code",
   "execution_count": 6,
   "metadata": {
    "tags": []
   },
   "outputs": [],
   "source": [
    "##############\n",
    "# recfldgrn = 'PNSectSent@Sentence-Tk@TknzLLMGrn'\n",
    "recfldgrn = 'A1C@DT-DTDftGrn'\n",
    "##############"
   ]
  },
  {
   "cell_type": "code",
   "execution_count": 7,
   "metadata": {
    "tags": []
   },
   "outputs": [
    {
     "name": "stdout",
     "output_type": "stream",
     "text": [
      "P-EC-A1C@DT-DTDftGrn_idx\n",
      "idx\n"
     ]
    },
    {
     "data": {
      "text/html": [
       "<div>\n",
       "<style scoped>\n",
       "    .dataframe tbody tr th:only-of-type {\n",
       "        vertical-align: middle;\n",
       "    }\n",
       "\n",
       "    .dataframe tbody tr th {\n",
       "        vertical-align: top;\n",
       "    }\n",
       "\n",
       "    .dataframe thead th {\n",
       "        text-align: right;\n",
       "    }\n",
       "</style>\n",
       "<table border=\"1\" class=\"dataframe\">\n",
       "  <thead>\n",
       "    <tr style=\"text-align: right;\">\n",
       "      <th></th>\n",
       "      <th>P-EC-A1C@DT-DTDftGrn_idx</th>\n",
       "    </tr>\n",
       "    <tr>\n",
       "      <th>PID</th>\n",
       "      <th></th>\n",
       "    </tr>\n",
       "  </thead>\n",
       "  <tbody>\n",
       "    <tr>\n",
       "      <th>P0</th>\n",
       "      <td>[[[1, 22, 35, 67, 72, 80, 136]], [[1, 22, 35, ...</td>\n",
       "    </tr>\n",
       "    <tr>\n",
       "      <th>P1</th>\n",
       "      <td>[[[15, 26, 37, 69, 79, 94, 137]], [[1, 22, 35,...</td>\n",
       "    </tr>\n",
       "    <tr>\n",
       "      <th>P2</th>\n",
       "      <td>[[[1, 22, 35, 67, 72, 80, 136]], [[1, 22, 35, ...</td>\n",
       "    </tr>\n",
       "    <tr>\n",
       "      <th>P3</th>\n",
       "      <td>[[[1, 22, 35, 67, 72, 80, 136]], [[1, 22, 35, ...</td>\n",
       "    </tr>\n",
       "    <tr>\n",
       "      <th>P4</th>\n",
       "      <td>[[[1, 22, 35, 67, 72, 80, 136]], [[1, 22, 35, ...</td>\n",
       "    </tr>\n",
       "    <tr>\n",
       "      <th>P5</th>\n",
       "      <td>[[[1, 22, 35, 67, 72, 80, 136]], [[1, 22, 35, ...</td>\n",
       "    </tr>\n",
       "    <tr>\n",
       "      <th>P6</th>\n",
       "      <td>[[[15, 26, 47, 69, 75, 96, 137]], [[1, 22, 35,...</td>\n",
       "    </tr>\n",
       "    <tr>\n",
       "      <th>P7</th>\n",
       "      <td>[[[15, 26, 41, 69, 76, 95, 137]]]</td>\n",
       "    </tr>\n",
       "  </tbody>\n",
       "</table>\n",
       "</div>"
      ],
      "text/plain": [
       "                              P-EC-A1C@DT-DTDftGrn_idx\n",
       "PID                                                   \n",
       "P0   [[[1, 22, 35, 67, 72, 80, 136]], [[1, 22, 35, ...\n",
       "P1   [[[15, 26, 37, 69, 79, 94, 137]], [[1, 22, 35,...\n",
       "P2   [[[1, 22, 35, 67, 72, 80, 136]], [[1, 22, 35, ...\n",
       "P3   [[[1, 22, 35, 67, 72, 80, 136]], [[1, 22, 35, ...\n",
       "P4   [[[1, 22, 35, 67, 72, 80, 136]], [[1, 22, 35, ...\n",
       "P5   [[[1, 22, 35, 67, 72, 80, 136]], [[1, 22, 35, ...\n",
       "P6   [[[15, 26, 47, 69, 75, 96, 137]], [[1, 22, 35,...\n",
       "P7                   [[[15, 26, 41, 69, 76, 95, 137]]]"
      ]
     },
     "execution_count": 7,
     "metadata": {},
     "output_type": "execute_result"
    }
   ],
   "source": [
    "tensor_folder = os.path.join(TaskTensor_folder, recfldgrn)\n",
    "df_Pat = load_df_data_from_folder(tensor_folder).set_index('PID')\n",
    "full_recfldgrn = df_Pat.columns[0]\n",
    "suffix = full_recfldgrn.split('_')[-1]\n",
    "assert recfldgrn in full_recfldgrn\n",
    "print(full_recfldgrn)\n",
    "print(suffix)\n",
    "df_Pat"
   ]
  },
  {
   "cell_type": "code",
   "execution_count": 8,
   "metadata": {
    "colab": {
     "base_uri": "https://localhost:8080/"
    },
    "id": "69tS39JTCTY_",
    "outputId": "efa1f742-b7b4-49ae-f947-5d2edf7487fc"
   },
   "outputs": [
    {
     "name": "stdout",
     "output_type": "stream",
     "text": [
      "P-EC-A1C@DT-DTDftGrn_idx\n"
     ]
    }
   ],
   "source": [
    "print(full_recfldgrn)"
   ]
  },
  {
   "cell_type": "markdown",
   "metadata": {},
   "source": [
    "## get Batch"
   ]
  },
  {
   "cell_type": "code",
   "execution_count": 9,
   "metadata": {
    "tags": []
   },
   "outputs": [],
   "source": [
    "###################### take this as given\n",
    "batch_PID_order = ['P0', 'P2', 'P1', 'P3', 'P4', 'P5', 'P6', 'P7']\n",
    "######################"
   ]
  },
  {
   "cell_type": "code",
   "execution_count": 10,
   "metadata": {},
   "outputs": [
    {
     "data": {
      "text/html": [
       "<div>\n",
       "<style scoped>\n",
       "    .dataframe tbody tr th:only-of-type {\n",
       "        vertical-align: middle;\n",
       "    }\n",
       "\n",
       "    .dataframe tbody tr th {\n",
       "        vertical-align: top;\n",
       "    }\n",
       "\n",
       "    .dataframe thead th {\n",
       "        text-align: right;\n",
       "    }\n",
       "</style>\n",
       "<table border=\"1\" class=\"dataframe\">\n",
       "  <thead>\n",
       "    <tr style=\"text-align: right;\">\n",
       "      <th></th>\n",
       "      <th>P-EC-A1C@DT-DTDftGrn_idx</th>\n",
       "    </tr>\n",
       "    <tr>\n",
       "      <th>PID</th>\n",
       "      <th></th>\n",
       "    </tr>\n",
       "  </thead>\n",
       "  <tbody>\n",
       "    <tr>\n",
       "      <th>P0</th>\n",
       "      <td>[[[1, 22, 35, 67, 72, 80, 136]], [[1, 22, 35, ...</td>\n",
       "    </tr>\n",
       "    <tr>\n",
       "      <th>P2</th>\n",
       "      <td>[[[1, 22, 35, 67, 72, 80, 136]], [[1, 22, 35, ...</td>\n",
       "    </tr>\n",
       "    <tr>\n",
       "      <th>P1</th>\n",
       "      <td>[[[15, 26, 37, 69, 79, 94, 137]], [[1, 22, 35,...</td>\n",
       "    </tr>\n",
       "    <tr>\n",
       "      <th>P3</th>\n",
       "      <td>[[[1, 22, 35, 67, 72, 80, 136]], [[1, 22, 35, ...</td>\n",
       "    </tr>\n",
       "    <tr>\n",
       "      <th>P4</th>\n",
       "      <td>[[[1, 22, 35, 67, 72, 80, 136]], [[1, 22, 35, ...</td>\n",
       "    </tr>\n",
       "    <tr>\n",
       "      <th>P5</th>\n",
       "      <td>[[[1, 22, 35, 67, 72, 80, 136]], [[1, 22, 35, ...</td>\n",
       "    </tr>\n",
       "    <tr>\n",
       "      <th>P6</th>\n",
       "      <td>[[[15, 26, 47, 69, 75, 96, 137]], [[1, 22, 35,...</td>\n",
       "    </tr>\n",
       "    <tr>\n",
       "      <th>P7</th>\n",
       "      <td>[[[15, 26, 41, 69, 76, 95, 137]]]</td>\n",
       "    </tr>\n",
       "  </tbody>\n",
       "</table>\n",
       "</div>"
      ],
      "text/plain": [
       "                              P-EC-A1C@DT-DTDftGrn_idx\n",
       "PID                                                   \n",
       "P0   [[[1, 22, 35, 67, 72, 80, 136]], [[1, 22, 35, ...\n",
       "P2   [[[1, 22, 35, 67, 72, 80, 136]], [[1, 22, 35, ...\n",
       "P1   [[[15, 26, 37, 69, 79, 94, 137]], [[1, 22, 35,...\n",
       "P3   [[[1, 22, 35, 67, 72, 80, 136]], [[1, 22, 35, ...\n",
       "P4   [[[1, 22, 35, 67, 72, 80, 136]], [[1, 22, 35, ...\n",
       "P5   [[[1, 22, 35, 67, 72, 80, 136]], [[1, 22, 35, ...\n",
       "P6   [[[15, 26, 47, 69, 75, 96, 137]], [[1, 22, 35,...\n",
       "P7                   [[[15, 26, 41, 69, 76, 95, 137]]]"
      ]
     },
     "execution_count": 10,
     "metadata": {},
     "output_type": "execute_result"
    }
   ],
   "source": [
    "df_batch = df_Pat.loc[batch_PID_order]\n",
    "df_batch"
   ]
  },
  {
   "cell_type": "code",
   "execution_count": 11,
   "metadata": {
    "colab": {
     "base_uri": "https://localhost:8080/"
    },
    "id": "ye2EAdfwtaC_",
    "outputId": "8bdfd122-8f55-4c6d-ab98-83171ed75571"
   },
   "outputs": [],
   "source": [
    "values_list = df_batch[full_recfldgrn].to_list()\n",
    "# values_list"
   ]
  },
  {
   "cell_type": "code",
   "execution_count": 12,
   "metadata": {
    "tags": []
   },
   "outputs": [],
   "source": [
    "from recfldgrn.utils import convert_relational_list_to_numpy\n",
    "# from fieldnn.utils.layerfn import convert_relational_list_to_numpy"
   ]
  },
  {
   "cell_type": "code",
   "execution_count": 13,
   "metadata": {},
   "outputs": [],
   "source": [
    "# import numpy as np\n",
    "\n",
    "# def convert_relational_list_to_numpy(values_list, new_full_recfldgrn, suffix):\n",
    "#     o = values_list\n",
    "#     layer_num = len(new_full_recfldgrn.split('-'))\n",
    "#     layers = new_full_recfldgrn.replace(suffix, '').split('-')\n",
    "#     # L = [len(values_list)] \n",
    "\n",
    "#     D = {}\n",
    "\n",
    "#     # (1) from first layer: 0\n",
    "#     idx = 0\n",
    "#     layer_parents = layers[:idx + 1]\n",
    "#     layer_children = layers[idx + 1]\n",
    "#     len_name = f'{\"2\".join(layer_parents)}_ln{layer_children}'\n",
    "#     len_np = np.array(len(values_list))\n",
    "#     len_shapes = [len_np.max()] # from layer 0, prepare for layer 1. \n",
    "#     D[len_name] = len_np\n",
    "\n",
    "#     # (2) from 1 - last one layers\n",
    "#     for idx in range(1, layer_num - 1):\n",
    "#         output = list(traverse(o, nest_layer = idx))\n",
    "#         # print(output)\n",
    "#         # data = np.zeros(L)\n",
    "#         # print('\\n\\n')\n",
    "#         # print(idx)\n",
    "#         # print(output)\n",
    "\n",
    "#         layer_parents = layers[:idx + 1]\n",
    "#         layer_children = layers[idx + 1]\n",
    "#         len_name = f'{\"-\".join(layer_parents)}_ln{layer_children}'\n",
    "#         # print(len_name)\n",
    "\n",
    "#         locidx  = [i[0] for i in output]\n",
    "#         length = [i[1] for i in output]\n",
    "#         # values = [i[2] for i in output]\n",
    "\n",
    "#         len_np = np.zeros(len_shapes).astype(int)\n",
    "#         # print(len_np.shape, '<---- len_np.shape')\n",
    "#         for locidx, length, _ in output:\n",
    "#             len_np[tuple(locidx)] = int(length)\n",
    "#         # print(len_np)\n",
    "#         len_shapes.append(len_np.max())\n",
    "#         # print(len_shapes, '<---- next len_np.shape')\n",
    "#         # print(length)\n",
    "#         # print()\n",
    "#         D[len_name] = len_np\n",
    "\n",
    "#     # (3) for the data\n",
    "#     idx = layer_num\n",
    "#     name = new_full_recfldgrn\n",
    "#     data = np.zeros(len_shapes) # don't convert it to int for now. \n",
    "#     output = list(traverse(o, nest_layer = idx))\n",
    "#     for locidx, _, value in output:\n",
    "#         data[tuple(locidx)] = value\n",
    "#         # print(locidx, value)\n",
    "#         # print(data[tuple(locidx)])# = value\n",
    "#     data.shape\n",
    "#     D[name] = data.astype(int)\n",
    "    \n",
    "#     return D\n"
   ]
  },
  {
   "cell_type": "code",
   "execution_count": 14,
   "metadata": {},
   "outputs": [
    {
     "name": "stdout",
     "output_type": "stream",
     "text": [
      "P-EC-A1C@DT-DTDftGrn_idx\n"
     ]
    }
   ],
   "source": [
    "print(full_recfldgrn)"
   ]
  },
  {
   "cell_type": "code",
   "execution_count": 15,
   "metadata": {},
   "outputs": [
    {
     "data": {
      "text/html": [
       "<div>\n",
       "<style scoped>\n",
       "    .dataframe tbody tr th:only-of-type {\n",
       "        vertical-align: middle;\n",
       "    }\n",
       "\n",
       "    .dataframe tbody tr th {\n",
       "        vertical-align: top;\n",
       "    }\n",
       "\n",
       "    .dataframe thead th {\n",
       "        text-align: right;\n",
       "    }\n",
       "</style>\n",
       "<table border=\"1\" class=\"dataframe\">\n",
       "  <thead>\n",
       "    <tr style=\"text-align: right;\">\n",
       "      <th></th>\n",
       "      <th>P-EC-A1C@DT-DTDftGrn_idx</th>\n",
       "    </tr>\n",
       "    <tr>\n",
       "      <th>PID</th>\n",
       "      <th></th>\n",
       "    </tr>\n",
       "  </thead>\n",
       "  <tbody>\n",
       "    <tr>\n",
       "      <th>P0</th>\n",
       "      <td>[[[1, 22, 35, 67, 72, 80, 136]], [[1, 22, 35, ...</td>\n",
       "    </tr>\n",
       "    <tr>\n",
       "      <th>P2</th>\n",
       "      <td>[[[1, 22, 35, 67, 72, 80, 136]], [[1, 22, 35, ...</td>\n",
       "    </tr>\n",
       "    <tr>\n",
       "      <th>P1</th>\n",
       "      <td>[[[15, 26, 37, 69, 79, 94, 137]], [[1, 22, 35,...</td>\n",
       "    </tr>\n",
       "    <tr>\n",
       "      <th>P3</th>\n",
       "      <td>[[[1, 22, 35, 67, 72, 80, 136]], [[1, 22, 35, ...</td>\n",
       "    </tr>\n",
       "    <tr>\n",
       "      <th>P4</th>\n",
       "      <td>[[[1, 22, 35, 67, 72, 80, 136]], [[1, 22, 35, ...</td>\n",
       "    </tr>\n",
       "    <tr>\n",
       "      <th>P5</th>\n",
       "      <td>[[[1, 22, 35, 67, 72, 80, 136]], [[1, 22, 35, ...</td>\n",
       "    </tr>\n",
       "    <tr>\n",
       "      <th>P6</th>\n",
       "      <td>[[[15, 26, 47, 69, 75, 96, 137]], [[1, 22, 35,...</td>\n",
       "    </tr>\n",
       "    <tr>\n",
       "      <th>P7</th>\n",
       "      <td>[[[15, 26, 41, 69, 76, 95, 137]]]</td>\n",
       "    </tr>\n",
       "  </tbody>\n",
       "</table>\n",
       "</div>"
      ],
      "text/plain": [
       "                              P-EC-A1C@DT-DTDftGrn_idx\n",
       "PID                                                   \n",
       "P0   [[[1, 22, 35, 67, 72, 80, 136]], [[1, 22, 35, ...\n",
       "P2   [[[1, 22, 35, 67, 72, 80, 136]], [[1, 22, 35, ...\n",
       "P1   [[[15, 26, 37, 69, 79, 94, 137]], [[1, 22, 35,...\n",
       "P3   [[[1, 22, 35, 67, 72, 80, 136]], [[1, 22, 35, ...\n",
       "P4   [[[1, 22, 35, 67, 72, 80, 136]], [[1, 22, 35, ...\n",
       "P5   [[[1, 22, 35, 67, 72, 80, 136]], [[1, 22, 35, ...\n",
       "P6   [[[15, 26, 47, 69, 75, 96, 137]], [[1, 22, 35,...\n",
       "P7                   [[[15, 26, 41, 69, 76, 95, 137]]]"
      ]
     },
     "execution_count": 15,
     "metadata": {},
     "output_type": "execute_result"
    }
   ],
   "source": [
    "df_batch"
   ]
  },
  {
   "cell_type": "code",
   "execution_count": 16,
   "metadata": {
    "scrolled": true,
    "tags": []
   },
   "outputs": [
    {
     "name": "stdout",
     "output_type": "stream",
     "text": [
      "idx\n",
      "B-P-EC-A1C@DT-DTDftGrn_idx\n"
     ]
    },
    {
     "data": {
      "text/plain": [
       "[[[[1, 22, 35, 67, 72, 80, 136]],\n",
       "  [[1, 22, 35, 67, 72, 80, 136]],\n",
       "  [[1, 22, 35, 67, 72, 80, 136]],\n",
       "  [[15, 25, 62, 68, 73, 94, 137]],\n",
       "  [[15, 26, 41, 69, 76, 95, 137]],\n",
       "  [[1, 22, 35, 67, 72, 80, 136]],\n",
       "  [[1, 22, 35, 67, 72, 80, 136]],\n",
       "  [[1, 22, 35, 67, 72, 80, 136]],\n",
       "  [[1, 22, 35, 67, 72, 80, 136]],\n",
       "  [[1, 22, 35, 67, 72, 80, 136]],\n",
       "  [[1, 22, 35, 67, 72, 80, 136]],\n",
       "  [[1, 22, 35, 67, 72, 80, 136]],\n",
       "  [[1, 22, 35, 67, 72, 80, 136]],\n",
       "  [[1, 22, 35, 67, 72, 80, 136]],\n",
       "  [[1, 22, 35, 67, 72, 80, 136]],\n",
       "  [[1, 22, 35, 67, 72, 80, 136]],\n",
       "  [[1, 22, 35, 67, 72, 80, 136]],\n",
       "  [[1, 22, 35, 67, 72, 80, 136]],\n",
       "  [[1, 22, 35, 67, 72, 80, 136]],\n",
       "  [[1, 22, 35, 67, 72, 80, 136]],\n",
       "  [[15, 26, 43, 69, 78, 95, 137]],\n",
       "  [[1, 22, 35, 67, 72, 80, 136]],\n",
       "  [[1, 22, 35, 67, 72, 80, 136]],\n",
       "  [[1, 22, 35, 67, 72, 80, 136]],\n",
       "  [[15, 26, 47, 69, 75, 96, 137]],\n",
       "  [[1, 22, 35, 67, 72, 80, 136]],\n",
       "  [[1, 22, 35, 67, 72, 80, 136]],\n",
       "  [[1, 22, 35, 67, 72, 80, 136]],\n",
       "  [[1, 22, 35, 67, 72, 80, 136]],\n",
       "  [[1, 22, 35, 67, 72, 80, 136]],\n",
       "  [[1, 22, 35, 67, 72, 80, 136]],\n",
       "  [[1, 22, 35, 67, 72, 80, 136]],\n",
       "  [[15, 26, 44, 69, 79, 95, 137]],\n",
       "  [[1, 22, 35, 67, 72, 80, 136]]],\n",
       " [[[1, 22, 35, 67, 72, 80, 136]],\n",
       "  [[1, 22, 35, 67, 72, 80, 136]],\n",
       "  [[1, 22, 35, 67, 72, 80, 136]],\n",
       "  [[1, 22, 35, 67, 72, 80, 136]],\n",
       "  [[1, 22, 35, 67, 72, 80, 136]],\n",
       "  [[1, 22, 35, 67, 72, 80, 136]],\n",
       "  [[1, 22, 35, 67, 72, 80, 136]],\n",
       "  [[1, 22, 35, 67, 72, 80, 136]],\n",
       "  [[1, 22, 35, 67, 72, 80, 136]],\n",
       "  [[1, 22, 35, 67, 72, 80, 136]],\n",
       "  [[15, 26, 46, 69, 74, 96, 137]],\n",
       "  [[1, 22, 35, 67, 72, 80, 136]],\n",
       "  [[1, 22, 35, 67, 72, 80, 136]],\n",
       "  [[15, 25, 60, 68, 78, 93, 137]],\n",
       "  [[1, 22, 35, 67, 72, 80, 136]],\n",
       "  [[1, 22, 35, 67, 72, 80, 136]],\n",
       "  [[1, 22, 35, 67, 72, 80, 136]],\n",
       "  [[1, 22, 35, 67, 72, 80, 136]],\n",
       "  [[1, 22, 35, 67, 72, 80, 136]],\n",
       "  [[15, 25, 54, 68, 79, 92, 137]],\n",
       "  [[1, 22, 35, 67, 72, 80, 136]],\n",
       "  [[1, 22, 35, 67, 72, 80, 136]],\n",
       "  [[15, 26, 43, 69, 78, 95, 137]],\n",
       "  [[1, 22, 35, 67, 72, 80, 136]],\n",
       "  [[1, 22, 35, 67, 72, 80, 136]],\n",
       "  [[1, 22, 35, 67, 72, 80, 136]]],\n",
       " [[[15, 26, 37, 69, 79, 94, 137]],\n",
       "  [[1, 22, 35, 67, 72, 80, 136]],\n",
       "  [[1, 22, 35, 67, 72, 80, 136]],\n",
       "  [[1, 22, 35, 67, 72, 80, 136]],\n",
       "  [[15, 26, 41, 69, 76, 95, 137]],\n",
       "  [[1, 22, 35, 67, 72, 80, 136]],\n",
       "  [[1, 22, 35, 67, 72, 80, 136]],\n",
       "  [[1, 22, 35, 67, 72, 80, 136]],\n",
       "  [[1, 22, 35, 67, 72, 80, 136]],\n",
       "  [[15, 26, 45, 69, 73, 96, 137]],\n",
       "  [[15, 26, 41, 69, 76, 95, 137]],\n",
       "  [[15, 26, 48, 69, 76, 96, 137]],\n",
       "  [[15, 26, 43, 69, 78, 95, 137]],\n",
       "  [[1, 22, 35, 67, 72, 80, 136]],\n",
       "  [[1, 22, 35, 67, 72, 80, 136]],\n",
       "  [[15, 25, 60, 68, 78, 93, 137]],\n",
       "  [[1, 22, 35, 67, 72, 80, 136]],\n",
       "  [[1, 22, 35, 67, 72, 80, 136]],\n",
       "  [[1, 22, 35, 67, 72, 80, 136]],\n",
       "  [[1, 22, 35, 67, 72, 80, 136]],\n",
       "  [[1, 22, 35, 67, 72, 80, 136]],\n",
       "  [[1, 22, 35, 67, 72, 80, 136]],\n",
       "  [[1, 22, 35, 67, 72, 80, 136]],\n",
       "  [[1, 22, 35, 67, 72, 80, 136]],\n",
       "  [[1, 22, 35, 67, 72, 80, 136]]],\n",
       " [[[1, 22, 35, 67, 72, 80, 136]],\n",
       "  [[1, 22, 35, 67, 72, 80, 136]],\n",
       "  [[1, 22, 35, 67, 72, 80, 136]],\n",
       "  [[1, 22, 35, 67, 72, 80, 136]],\n",
       "  [[1, 22, 35, 67, 72, 80, 136]],\n",
       "  [[1, 22, 35, 67, 72, 80, 136]],\n",
       "  [[1, 22, 35, 67, 72, 80, 136]],\n",
       "  [[1, 22, 35, 67, 72, 80, 136]],\n",
       "  [[1, 22, 35, 67, 72, 80, 136]],\n",
       "  [[1, 22, 35, 67, 72, 80, 136]],\n",
       "  [[1, 22, 35, 67, 72, 80, 136]],\n",
       "  [[1, 22, 35, 67, 72, 80, 136]],\n",
       "  [[1, 22, 35, 67, 72, 80, 136]],\n",
       "  [[1, 22, 35, 67, 72, 80, 136]],\n",
       "  [[1, 22, 35, 67, 72, 80, 136]],\n",
       "  [[1, 22, 35, 67, 72, 80, 136]],\n",
       "  [[1, 22, 35, 67, 72, 80, 136]],\n",
       "  [[1, 22, 35, 67, 72, 80, 136]],\n",
       "  [[1, 22, 35, 67, 72, 80, 136]],\n",
       "  [[1, 22, 35, 67, 72, 80, 136]],\n",
       "  [[1, 22, 35, 67, 72, 80, 136]],\n",
       "  [[1, 22, 35, 67, 72, 80, 136]],\n",
       "  [[1, 22, 35, 67, 72, 80, 136]],\n",
       "  [[1, 22, 35, 67, 72, 80, 136]],\n",
       "  [[1, 22, 35, 67, 72, 80, 136]],\n",
       "  [[1, 22, 35, 67, 72, 80, 136]],\n",
       "  [[1, 22, 35, 67, 72, 80, 136]],\n",
       "  [[1, 22, 35, 67, 72, 80, 136]],\n",
       "  [[1, 22, 35, 67, 72, 80, 136]],\n",
       "  [[1, 22, 35, 67, 72, 80, 136]],\n",
       "  [[1, 22, 35, 67, 72, 80, 136]],\n",
       "  [[1, 22, 35, 67, 72, 80, 136]],\n",
       "  [[1, 22, 35, 67, 72, 80, 136]],\n",
       "  [[1, 22, 35, 67, 72, 80, 136]],\n",
       "  [[1, 22, 35, 67, 72, 80, 136]],\n",
       "  [[1, 22, 35, 67, 72, 80, 136]],\n",
       "  [[1, 22, 35, 67, 72, 80, 136]],\n",
       "  [[1, 22, 35, 67, 72, 80, 136]],\n",
       "  [[1, 22, 35, 67, 72, 80, 136]],\n",
       "  [[1, 22, 35, 67, 72, 80, 136]],\n",
       "  [[1, 22, 35, 67, 72, 80, 136]],\n",
       "  [[1, 22, 35, 67, 72, 80, 136]],\n",
       "  [[1, 22, 35, 67, 72, 80, 136]],\n",
       "  [[1, 22, 35, 67, 72, 80, 136]],\n",
       "  [[1, 22, 35, 67, 72, 80, 136]],\n",
       "  [[1, 22, 35, 67, 72, 80, 136]],\n",
       "  [[1, 22, 35, 67, 72, 80, 136]],\n",
       "  [[1, 22, 35, 67, 72, 80, 136]],\n",
       "  [[1, 22, 35, 67, 72, 80, 136]],\n",
       "  [[1, 22, 35, 67, 72, 80, 136]],\n",
       "  [[1, 22, 35, 67, 72, 80, 136]],\n",
       "  [[1, 22, 35, 67, 72, 80, 136]],\n",
       "  [[1, 22, 35, 67, 72, 80, 136]],\n",
       "  [[1, 22, 35, 67, 72, 80, 136]],\n",
       "  [[1, 22, 35, 67, 72, 80, 136]],\n",
       "  [[1, 22, 35, 67, 72, 80, 136]],\n",
       "  [[1, 22, 35, 67, 72, 80, 136]],\n",
       "  [[1, 22, 35, 67, 72, 80, 136]],\n",
       "  [[1, 22, 35, 67, 72, 80, 136]],\n",
       "  [[1, 22, 35, 67, 72, 80, 136]],\n",
       "  [[1, 22, 35, 67, 72, 80, 136]],\n",
       "  [[1, 22, 35, 67, 72, 80, 136]],\n",
       "  [[1, 22, 35, 67, 72, 80, 136]],\n",
       "  [[1, 22, 35, 67, 72, 80, 136]],\n",
       "  [[1, 22, 35, 67, 72, 80, 136]],\n",
       "  [[1, 22, 35, 67, 72, 80, 136]],\n",
       "  [[1, 22, 35, 67, 72, 80, 136]],\n",
       "  [[1, 22, 35, 67, 72, 80, 136]],\n",
       "  [[1, 22, 35, 67, 72, 80, 136]],\n",
       "  [[1, 22, 35, 67, 72, 80, 136]],\n",
       "  [[1, 22, 35, 67, 72, 80, 136]],\n",
       "  [[1, 22, 35, 67, 72, 80, 136]],\n",
       "  [[1, 22, 35, 67, 72, 80, 136]],\n",
       "  [[1, 22, 35, 67, 72, 80, 136]],\n",
       "  [[1, 22, 35, 67, 72, 80, 136]],\n",
       "  [[1, 22, 35, 67, 72, 80, 136]],\n",
       "  [[1, 22, 35, 67, 72, 80, 136]],\n",
       "  [[1, 22, 35, 67, 72, 80, 136]],\n",
       "  [[1, 22, 35, 67, 72, 80, 136]],\n",
       "  [[15, 26, 50, 69, 78, 96, 137]],\n",
       "  [[1, 22, 35, 67, 72, 80, 136]],\n",
       "  [[1, 22, 35, 67, 72, 80, 136]],\n",
       "  [[1, 22, 35, 67, 72, 80, 136]],\n",
       "  [[1, 22, 35, 67, 72, 80, 136]],\n",
       "  [[1, 22, 35, 67, 72, 80, 136]],\n",
       "  [[1, 22, 35, 67, 72, 80, 136]],\n",
       "  [[1, 22, 35, 67, 72, 80, 136]]],\n",
       " [[[1, 22, 35, 67, 72, 80, 136]],\n",
       "  [[1, 22, 35, 67, 72, 80, 136]],\n",
       "  [[1, 22, 35, 67, 72, 80, 136]],\n",
       "  [[1, 22, 35, 67, 72, 80, 136]],\n",
       "  [[1, 22, 35, 67, 72, 80, 136]],\n",
       "  [[1, 22, 35, 67, 72, 80, 136]],\n",
       "  [[1, 22, 35, 67, 72, 80, 136]],\n",
       "  [[1, 22, 35, 67, 72, 80, 136]],\n",
       "  [[15, 25, 66, 68, 77, 94, 137]],\n",
       "  [[15, 26, 49, 69, 77, 96, 137]],\n",
       "  [[1, 22, 35, 67, 72, 80, 136]],\n",
       "  [[1, 22, 35, 67, 72, 80, 136]],\n",
       "  [[1, 22, 35, 67, 72, 80, 136]],\n",
       "  [[1, 22, 35, 67, 72, 80, 136]],\n",
       "  [[15, 26, 48, 69, 76, 96, 137]],\n",
       "  [[1, 22, 35, 67, 72, 80, 136]],\n",
       "  [[1, 22, 35, 67, 72, 80, 136]],\n",
       "  [[1, 22, 35, 67, 72, 80, 136]],\n",
       "  [[1, 22, 35, 67, 72, 80, 136]],\n",
       "  [[1, 22, 35, 67, 72, 80, 136]],\n",
       "  [[1, 22, 35, 67, 72, 80, 136]],\n",
       "  [[1, 22, 35, 67, 72, 80, 136]]],\n",
       " [[[1, 22, 35, 67, 72, 80, 136]],\n",
       "  [[1, 22, 35, 67, 72, 80, 136]],\n",
       "  [[1, 22, 35, 67, 72, 80, 136]],\n",
       "  [[1, 22, 35, 67, 72, 80, 136]],\n",
       "  [[1, 22, 35, 67, 72, 80, 136]],\n",
       "  [[1, 22, 35, 67, 72, 80, 136]],\n",
       "  [[1, 22, 35, 67, 72, 80, 136]],\n",
       "  [[1, 22, 35, 67, 72, 80, 136]],\n",
       "  [[1, 22, 35, 67, 72, 80, 136]],\n",
       "  [[1, 22, 35, 67, 72, 80, 136]],\n",
       "  [[1, 22, 35, 67, 72, 80, 136]],\n",
       "  [[15, 26, 39, 69, 74, 95, 137]],\n",
       "  [[15, 26, 46, 69, 74, 96, 137]],\n",
       "  [[15, 26, 44, 69, 79, 95, 137]],\n",
       "  [[1, 22, 35, 67, 72, 80, 136]],\n",
       "  [[1, 22, 35, 67, 72, 80, 136]],\n",
       "  [[1, 22, 35, 67, 72, 80, 136]],\n",
       "  [[1, 22, 35, 67, 72, 80, 136]],\n",
       "  [[1, 22, 35, 67, 72, 80, 136]],\n",
       "  [[1, 22, 35, 67, 72, 80, 136]],\n",
       "  [[1, 22, 35, 67, 72, 80, 136]],\n",
       "  [[1, 22, 35, 67, 72, 80, 136]],\n",
       "  [[1, 22, 35, 67, 72, 80, 136]]],\n",
       " [[[15, 26, 47, 69, 75, 96, 137]],\n",
       "  [[1, 22, 35, 67, 72, 80, 136]],\n",
       "  [[15, 26, 44, 69, 79, 95, 137]],\n",
       "  [[1, 22, 35, 67, 72, 80, 136]],\n",
       "  [[15, 25, 60, 68, 78, 93, 137]],\n",
       "  [[1, 22, 35, 67, 72, 80, 136]],\n",
       "  [[1, 22, 35, 67, 72, 80, 136]]],\n",
       " [[[15, 26, 41, 69, 76, 95, 137]]]]"
      ]
     },
     "execution_count": 16,
     "metadata": {},
     "output_type": "execute_result"
    }
   ],
   "source": [
    "new_full_recfldgrn = 'B-' + full_recfldgrn\n",
    "values_list = df_batch[full_recfldgrn].to_list()\n",
    "suffix = full_recfldgrn.split('_')[-1]\n",
    "print(suffix)\n",
    "print(new_full_recfldgrn)\n",
    "values_list"
   ]
  },
  {
   "cell_type": "code",
   "execution_count": 17,
   "metadata": {},
   "outputs": [
    {
     "name": "stdout",
     "output_type": "stream",
     "text": [
      "B_lnP ()\n",
      "B-P_lnEC (8,)\n",
      "B-P-EC_lnA1C@DT (8, 87)\n",
      "B-P-EC-A1C@DT_lnDTDftGrn_ (8, 87, 1)\n",
      "B-P-EC-A1C@DT-DTDftGrn_idx (8, 87, 1, 7)\n"
     ]
    }
   ],
   "source": [
    "D = convert_relational_list_to_numpy(values_list, new_full_recfldgrn, suffix)\n",
    "\n",
    "for k, v in D.items(): print(k, v.shape)"
   ]
  },
  {
   "cell_type": "code",
   "execution_count": 18,
   "metadata": {
    "tags": []
   },
   "outputs": [
    {
     "name": "stdout",
     "output_type": "stream",
     "text": [
      "B-P-EC-A1C@DT-DTDftGrn_idx\n",
      "(8, 87, 1, 7)\n"
     ]
    }
   ],
   "source": [
    "tensor_idx = D[new_full_recfldgrn]# .shape\n",
    "print(new_full_recfldgrn)\n",
    "print(tensor_idx.shape)"
   ]
  },
  {
   "cell_type": "markdown",
   "metadata": {},
   "source": [
    "## Validation"
   ]
  },
  {
   "cell_type": "code",
   "execution_count": 19,
   "metadata": {
    "tags": []
   },
   "outputs": [
    {
     "data": {
      "text/plain": [
       "array([[  1,  22,  35,  67,  72,  80, 136]])"
      ]
     },
     "execution_count": 19,
     "metadata": {},
     "output_type": "execute_result"
    }
   ],
   "source": [
    "tensor_idx[0][0]#[0][0][0]"
   ]
  },
  {
   "cell_type": "code",
   "execution_count": 20,
   "metadata": {
    "tags": []
   },
   "outputs": [
    {
     "data": {
      "text/plain": [
       "[[1, 22, 35, 67, 72, 80, 136]]"
      ]
     },
     "execution_count": 20,
     "metadata": {},
     "output_type": "execute_result"
    }
   ],
   "source": [
    "values_list = df_batch[full_recfldgrn].to_list()\n",
    "values_list[0][0]#[0][0][0]"
   ]
  },
  {
   "cell_type": "code",
   "execution_count": 21,
   "metadata": {
    "tags": []
   },
   "outputs": [
    {
     "data": {
      "text/plain": [
       "array([[ 15,  25,  62,  68,  73,  94, 137]])"
      ]
     },
     "execution_count": 21,
     "metadata": {},
     "output_type": "execute_result"
    }
   ],
   "source": [
    "tensor_idx[0][3]#[0][0][0]"
   ]
  },
  {
   "cell_type": "code",
   "execution_count": 22,
   "metadata": {
    "tags": []
   },
   "outputs": [
    {
     "data": {
      "text/plain": [
       "[[15, 25, 62, 68, 73, 94, 137]]"
      ]
     },
     "execution_count": 22,
     "metadata": {},
     "output_type": "execute_result"
    }
   ],
   "source": [
    "values_list = df_batch[full_recfldgrn].to_list()\n",
    "values_list[0][3]#[0][0][0]"
   ]
  },
  {
   "cell_type": "markdown",
   "metadata": {},
   "source": [
    "# Load Tensor "
   ]
  },
  {
   "cell_type": "code",
   "execution_count": 23,
   "metadata": {
    "tags": []
   },
   "outputs": [],
   "source": [
    "###################### take this as given\n",
    "batch_PID_order = ['P0', 'P2', 'P1', 'P3', 'P4', 'P5', 'P6', 'P7']\n",
    "######################"
   ]
  },
  {
   "cell_type": "code",
   "execution_count": 24,
   "metadata": {
    "tags": []
   },
   "outputs": [
    {
     "name": "stdout",
     "output_type": "stream",
     "text": [
      "data/ProcData/TensorFolder/Task2YearXXX\n"
     ]
    },
    {
     "data": {
      "text/plain": [
       "['A1C@DT-DTDftGrn',\n",
       " 'A1C@V-A1CNumeDftGrn',\n",
       " 'Diag@DT-DTDftGrn',\n",
       " 'Diag@Value-DiagDftGrn',\n",
       " 'EC@BasicInfo-BasicDftGrn',\n",
       " 'EC@DT_min-DTDftGrn',\n",
       " 'P@age-AgeNumeDftGrn',\n",
       " 'P@basicInfo-basicInfoDftGrn',\n",
       " 'PNSectSent@Sentence-Tk@TknzLLMGrn']"
      ]
     },
     "execution_count": 24,
     "metadata": {},
     "output_type": "execute_result"
    }
   ],
   "source": [
    "TaskTensor_folder = 'data/ProcData/TensorFolder/Task2YearXXX'\n",
    "print(TaskTensor_folder)\n",
    "recfldgrn_list = sorted([i for i in os.listdir(TaskTensor_folder) if 'Grn' in i])\n",
    "recfldgrn_list"
   ]
  },
  {
   "cell_type": "code",
   "execution_count": 28,
   "metadata": {
    "tags": []
   },
   "outputs": [],
   "source": [
    "recfldgrn_list = [\n",
    "                  'P@age-AgeNumeDftGrn',\n",
    "                  'P@basicInfo-basicInfoDftGrn',\n",
    "    \n",
    "                  'EC@BasicInfo-BasicDftGrn',\n",
    "                  'EC@DT_min-DTDftGrn',\n",
    "    \n",
    "                  'A1C@DT-DTDftGrn',\n",
    "                  'A1C@V-A1CNumeDftGrn',\n",
    "                  \n",
    "                  'Diag@DT-DTDftGrn',\n",
    "                  'Diag@Value-DiagDftGrn',\n",
    "                  \n",
    "                  'PNSectSent@Sentence-Tk@TknzLLMGrn']"
   ]
  },
  {
   "cell_type": "code",
   "execution_count": 29,
   "metadata": {
    "tags": []
   },
   "outputs": [],
   "source": [
    "batch_rfg = {}\n",
    "\n",
    "for recfldgrn in recfldgrn_list:\n",
    "    \n",
    "    # (1) get tensor_folder\n",
    "    tensor_folder = os.path.join(TaskTensor_folder, recfldgrn)\n",
    "\n",
    "    # (2) get df_Pat and full_recfldgrn\n",
    "    df_Pat = load_df_data_from_folder(tensor_folder).set_index('PID')\n",
    "    full_recfldgrn = df_Pat.columns[0]\n",
    "    suffix = full_recfldgrn.split('_')[-1]\n",
    "    assert recfldgrn in full_recfldgrn\n",
    "\n",
    "    # (3) load batch: TODO: convert this to DataSet and DataLoader\n",
    "    df_batch = df_Pat.loc[batch_PID_order]\n",
    "\n",
    "    # (4) tensor batch as tensor_idx\n",
    "    new_full_recfldgrn = 'B-' + full_recfldgrn\n",
    "    values_list = df_batch[full_recfldgrn].to_list()\n",
    "    suffix = full_recfldgrn.split('_')[-1]\n",
    "    # print(suffix)\n",
    "    # print(new_full_recfldgrn)\n",
    "    D = convert_relational_list_to_numpy(values_list, new_full_recfldgrn, suffix)\n",
    "    tensor_idx = D[new_full_recfldgrn]\n",
    "    \n",
    "    batch_rfg[new_full_recfldgrn] = tensor_idx"
   ]
  },
  {
   "cell_type": "code",
   "execution_count": 30,
   "metadata": {
    "tags": []
   },
   "outputs": [
    {
     "name": "stdout",
     "output_type": "stream",
     "text": [
      "B-P@age-AgeNumeDftGrn_wgt (8, 19)\n",
      "B-P@basicInfo-basicInfoDftGrn_idx (8, 2)\n",
      "B-P-EC@BasicInfo-BasicDftGrn_idx (8, 87, 2)\n",
      "B-P-EC@DT_min-DTDftGrn_idx (8, 87, 7)\n",
      "B-P-EC-A1C@DT-DTDftGrn_idx (8, 87, 1, 7)\n",
      "B-P-EC-A1C@V-A1CNumeDftGrn_wgt (8, 87, 1, 37)\n",
      "B-P-EC-Diag@DT-DTDftGrn_idx (8, 87, 22, 7)\n",
      "B-P-EC-Diag@Value-DiagDftGrn_idx (8, 87, 22, 3)\n",
      "B-P-EC-PN-PNSect-PNSectSent@Sentence-Tk@TknzLLMGrn_idx (8, 87, 1, 15, 121, 11)\n"
     ]
    }
   ],
   "source": [
    "for k, v in batch_rfg.items(): print(k, v.shape)"
   ]
  },
  {
   "cell_type": "code",
   "execution_count": null,
   "metadata": {},
   "outputs": [],
   "source": []
  }
 ],
 "metadata": {
  "colab": {
   "provenance": [],
   "toc_visible": true
  },
  "kernelspec": {
   "display_name": "Python 3 (ipykernel)",
   "language": "python",
   "name": "python3"
  },
  "language_info": {
   "codemirror_mode": {
    "name": "ipython",
    "version": 3
   },
   "file_extension": ".py",
   "mimetype": "text/x-python",
   "name": "python",
   "nbconvert_exporter": "python",
   "pygments_lexer": "ipython3",
   "version": "3.8.8"
  },
  "toc-autonumbering": true
 },
 "nbformat": 4,
 "nbformat_minor": 4
}
