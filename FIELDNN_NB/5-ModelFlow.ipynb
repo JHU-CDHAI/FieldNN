{
 "cells": [
  {
   "cell_type": "markdown",
   "id": "2320cf59-7f18-49f4-acc4-5c76f5259848",
   "metadata": {},
   "source": [
    "# Data Preparation"
   ]
  },
  {
   "cell_type": "code",
   "execution_count": 1,
   "id": "89b98eb8-eab1-49c3-bc3b-be975349a98f",
   "metadata": {},
   "outputs": [],
   "source": [
    "# fld_list = [\n",
    "# 'B2P2EC2PN2PNTxt2PNSctn2PNSctnTxt2PNSent2PNSubTk2PNSubTkCharGrn',\n",
    "# 'B2P2EC2PN2PNTxt2PNSctn2PNSctnTxt2PNSent2PNSubTk2PNSubTkWoodRootGrn',\n",
    "    \n",
    "# 'B2P2EC2PN2PNTxt2PNSctn2PNSctnNm2PNSctnNmTkGrn', \n",
    "# 'B2P2EC2PN2PNTxt2PNSctn2PNSctnTxt2PNSent2PNTkGrn',\n",
    "# 'B2P2EC2PN2PNTxt2PNSctn2PNSctnTxt2PNSent2PNPOSGrn',\n",
    "\n",
    "# 'B2P2EC2PN2PNDT2PNDTdftGrn',\n",
    "    \n",
    "# 'B2P2EC2Diag2DiagV2DiagVdftGrn',\n",
    "# 'B2P2EC2Diag2DiagDT2DiagDTdftGrn',\n",
    "# 'B2P2EC2Med2MedV2MedVdftGrn',\n",
    "# 'B2P2EC2Med2MedDT2MedDTdftGrn',]\n",
    "\n",
    "fld_list = [\n",
    "'B2P2EC2Diag2DiagV2DiagVdftGrn',\n",
    "'B2P2EC2Diag2DiagDT2DiagDTdftGrn',\n",
    "'B2P2EC2Med2MedV2MedVdftGrn',\n",
    "'B2P2EC2Med2MedDT2MedDTdftGrn',]"
   ]
  },
  {
   "cell_type": "code",
   "execution_count": 2,
   "id": "8185007a-ec0f-4fc6-830d-b5f8230533a0",
   "metadata": {},
   "outputs": [
    {
     "data": {
      "text/html": [
       "<div>\n",
       "<style scoped>\n",
       "    .dataframe tbody tr th:only-of-type {\n",
       "        vertical-align: middle;\n",
       "    }\n",
       "\n",
       "    .dataframe tbody tr th {\n",
       "        vertical-align: top;\n",
       "    }\n",
       "\n",
       "    .dataframe thead th {\n",
       "        text-align: right;\n",
       "    }\n",
       "</style>\n",
       "<table border=\"1\" class=\"dataframe\">\n",
       "  <thead>\n",
       "    <tr style=\"text-align: right;\">\n",
       "      <th></th>\n",
       "      <th>layer</th>\n",
       "      <th>name</th>\n",
       "      <th>value</th>\n",
       "      <th>max</th>\n",
       "      <th>shape</th>\n",
       "    </tr>\n",
       "  </thead>\n",
       "  <tbody>\n",
       "    <tr>\n",
       "      <th>0</th>\n",
       "      <td>0</td>\n",
       "      <td>B_lnP</td>\n",
       "      <td>3</td>\n",
       "      <td>3.0</td>\n",
       "      <td>()</td>\n",
       "    </tr>\n",
       "    <tr>\n",
       "      <th>1</th>\n",
       "      <td>1</td>\n",
       "      <td>B2P_lnEC</td>\n",
       "      <td>[6, 5, 3]</td>\n",
       "      <td>6.0</td>\n",
       "      <td>(3,)</td>\n",
       "    </tr>\n",
       "    <tr>\n",
       "      <th>2</th>\n",
       "      <td>2</td>\n",
       "      <td>B2P2EC_lnDiag</td>\n",
       "      <td>[[1, 3, 1, 4, 2, 3], [4, 1, 3, 2, 2, 0], [3, 1...</td>\n",
       "      <td>4.0</td>\n",
       "      <td>(3, 6)</td>\n",
       "    </tr>\n",
       "    <tr>\n",
       "      <th>3</th>\n",
       "      <td>3</td>\n",
       "      <td>B2P2EC2Diag_lnDiagV</td>\n",
       "      <td>[[[1, 0, 0, 0], [1, 1, 1, 0], [1, 0, 0, 0], [1...</td>\n",
       "      <td>1.0</td>\n",
       "      <td>(3, 6, 4)</td>\n",
       "    </tr>\n",
       "    <tr>\n",
       "      <th>4</th>\n",
       "      <td>4</td>\n",
       "      <td>B2P2EC2Diag2DiagV_lnDiagVdftGrn</td>\n",
       "      <td>[[[[2], [0], [0], [0]], [[2], [2], [2], [0]], ...</td>\n",
       "      <td>2.0</td>\n",
       "      <td>(3, 6, 4, 1)</td>\n",
       "    </tr>\n",
       "    <tr>\n",
       "      <th>5</th>\n",
       "      <td>5</td>\n",
       "      <td>B2P2EC2Diag2DiagV2DiagVdftGrn_idx</td>\n",
       "      <td>[[[[[2. 3.]], [[0. 0.]], [[0. 0.]], [[0. 0.]]]...</td>\n",
       "      <td>15.0</td>\n",
       "      <td>(3, 6, 4, 1, 2)</td>\n",
       "    </tr>\n",
       "  </tbody>\n",
       "</table>\n",
       "</div>"
      ],
      "text/plain": [
       "   layer                               name  \\\n",
       "0      0                              B_lnP   \n",
       "1      1                           B2P_lnEC   \n",
       "2      2                      B2P2EC_lnDiag   \n",
       "3      3                B2P2EC2Diag_lnDiagV   \n",
       "4      4    B2P2EC2Diag2DiagV_lnDiagVdftGrn   \n",
       "5      5  B2P2EC2Diag2DiagV2DiagVdftGrn_idx   \n",
       "\n",
       "                                               value   max            shape  \n",
       "0                                                  3   3.0               ()  \n",
       "1                                          [6, 5, 3]   6.0             (3,)  \n",
       "2  [[1, 3, 1, 4, 2, 3], [4, 1, 3, 2, 2, 0], [3, 1...   4.0           (3, 6)  \n",
       "3  [[[1, 0, 0, 0], [1, 1, 1, 0], [1, 0, 0, 0], [1...   1.0        (3, 6, 4)  \n",
       "4  [[[[2], [0], [0], [0]], [[2], [2], [2], [0]], ...   2.0     (3, 6, 4, 1)  \n",
       "5  [[[[[2. 3.]], [[0. 0.]], [[0. 0.]], [[0. 0.]]]...  15.0  (3, 6, 4, 1, 2)  "
      ]
     },
     "execution_count": 2,
     "metadata": {},
     "output_type": "execute_result"
    }
   ],
   "source": [
    "import numpy as np\n",
    "import pandas as pd\n",
    "df = pd.read_pickle('df_batch_np.p')\n",
    "df['max'] = df['value'].apply(lambda x: np.array(x).max())#.shift()\n",
    "df['shape'] = df['value'].apply(lambda x: np.array(x).shape)#.shift()\n",
    "df"
   ]
  },
  {
   "cell_type": "code",
   "execution_count": 3,
   "id": "01fddb5f-eb26-4459-917d-18b8d6ba6167",
   "metadata": {},
   "outputs": [
    {
     "data": {
      "text/plain": [
       "(3, 6, 4, 1, 2)"
      ]
     },
     "execution_count": 3,
     "metadata": {},
     "output_type": "execute_result"
    }
   ],
   "source": [
    "info_idx = df['value'].values[-1]\n",
    "info_idx.shape"
   ]
  },
  {
   "cell_type": "code",
   "execution_count": 4,
   "id": "26971f14-43b3-49ec-a4f5-b1cc2ad423b5",
   "metadata": {},
   "outputs": [
    {
     "data": {
      "text/plain": [
       "[5, 5, 5, 5]"
      ]
     },
     "execution_count": 4,
     "metadata": {},
     "output_type": "execute_result"
    }
   ],
   "source": [
    "[len(i.split('2')) - 1 for i in fld_list]"
   ]
  },
  {
   "cell_type": "code",
   "execution_count": 5,
   "id": "5e7d8370-0197-43a7-8115-069b30fce40b",
   "metadata": {},
   "outputs": [
    {
     "name": "stdout",
     "output_type": "stream",
     "text": [
      "B2P2EC2Diag2DiagV2DiagVdftGrn (3, 6, 4, 1, 2)\n",
      "B2P2EC2Diag2DiagDT2DiagDTdftGrn (3, 6, 4, 1, 2)\n",
      "B2P2EC2Med2MedV2MedVdftGrn (3, 6, 4, 1, 2)\n",
      "B2P2EC2Med2MedDT2MedDTdftGrn (3, 6, 4, 1, 2)\n"
     ]
    }
   ],
   "source": [
    "fld2info_idx_dict = {}\n",
    "for fld in fld_list:\n",
    "    fld2info_idx_dict[fld] = info_idx\n",
    "    \n",
    "for k, v in fld2info_idx_dict.items(): print(k, v.shape)"
   ]
  },
  {
   "cell_type": "markdown",
   "id": "ad5d8886-acf6-4893-bc33-99e2ef4c7705",
   "metadata": {},
   "source": [
    "# Model Structure Info"
   ]
  },
  {
   "cell_type": "code",
   "execution_count": 6,
   "id": "ce4b2312-8fc7-4c84-a5af-20fe68423cdc",
   "metadata": {},
   "outputs": [],
   "source": [
    "def get_dataflow_info(fld_list):\n",
    "\n",
    "    df = pd.DataFrame([i.split('2') for i in fld_list])\n",
    "\n",
    "    L = []\n",
    "    for idx, row in df.iterrows():\n",
    "        for layer_idx in range(1, len(row) - 1):\n",
    "\n",
    "            # f'{layer_idx}-{(layer_idx + 1)}' + ':' +\n",
    "            a, b = layer_idx, layer_idx + 1\n",
    "            if row[b] == None: continue\n",
    "            if row[a] == None: continue\n",
    "            layer_nn_name =  f'{a}-{b}:{row[a]}-{row[b]}'\n",
    "            if layer_nn_name not in L:\n",
    "                L.append(layer_nn_name)\n",
    "    # print(L)\n",
    "    layers = [i.split(':')[0] for i in L]\n",
    "    # print(layers)\n",
    "    info = pd.DataFrame({'layers': layers, 'nn': L}).sort_values('nn').reset_index(drop = True)\n",
    "    return info\n",
    "\n",
    "\n",
    "def get_merge_layernn(x):\n",
    "    D = {}\n",
    "    layer_name = x[0].split(':')[0]\n",
    "    for i in x:\n",
    "        i = i.split(':')[-1]\n",
    "        a, b = i.split('-')\n",
    "        if a not in D:\n",
    "            D[a] = [b]\n",
    "        else:\n",
    "            D[a].append(b)\n",
    "    \n",
    "    L = []\n",
    "    for parent, childrens in D.items():\n",
    "        if len(childrens) >= 2:\n",
    "            L.append(layer_name + ':' + parent + '-' + '&'.join(childrens))\n",
    "    return L\n",
    "\n",
    "\n",
    "def get_single_layernn(x):\n",
    "    D = {}\n",
    "    layer_name = x[0].split(':')[0]\n",
    "    for i in x:\n",
    "        i = i.split(':')[-1]\n",
    "        a, b = i.split('-')\n",
    "        if a not in D:\n",
    "            D[a] = [b]\n",
    "        else:\n",
    "            D[a].append(b)\n",
    "    \n",
    "    L = []\n",
    "    for parent, childrens in D.items():\n",
    "        if len(childrens) == 1:\n",
    "            L.append(layer_name + ':' + parent + '-' + '&'.join(childrens))\n",
    "    return L\n",
    "    "
   ]
  },
  {
   "cell_type": "code",
   "execution_count": 7,
   "id": "31408235-08f8-4af5-af9e-f96a41e71b6c",
   "metadata": {},
   "outputs": [],
   "source": [
    "def generate_df_struct(fld_list, mergefirst_fld_list):\n",
    "    info = get_dataflow_info(fld_list)\n",
    "    df_struct = info.groupby('layers').apply(lambda x: x['nn'].to_list()).reset_index()\n",
    "    df_struct.columns = ['layers', 'nn']\n",
    "    # df_struct['grn'] = df_struct['nn'].apply(lambda x: [i for i in x if 'Grn' in i])\n",
    "    # df_struct['fld'] = df_struct['nn'].apply(lambda x: [i for i in x if 'Grn' not in i])\n",
    "    # df_struct\n",
    "\n",
    "    df_struct['single'] = df_struct['nn'].apply(lambda x: get_single_layernn(x))\n",
    "    df_struct['merge'] = df_struct['nn'].apply(lambda x: get_merge_layernn(x))\n",
    "\n",
    "    df_struct['mergefirst'] = df_struct['merge'].apply(lambda x: [i for i in x if i.split('-')[-1] in mergefirst_fld_list])\n",
    "    df_struct['mergelast'] = df_struct['merge'].apply(lambda x: [i for i in x if i.split('-')[-1] not in mergefirst_fld_list])\n",
    "    df_struct = df_struct.drop(columns = ['merge'])\n",
    "    return df_struct\n",
    "\n"
   ]
  },
  {
   "cell_type": "code",
   "execution_count": 8,
   "id": "3f18e792-a325-4b3b-8e05-cf9c3f857538",
   "metadata": {},
   "outputs": [
    {
     "name": "stdout",
     "output_type": "stream",
     "text": [
      "4\n",
      "B2P2EC2Diag2DiagV2DiagVdftGrn (3, 6, 4, 1, 2)\n",
      "B2P2EC2Diag2DiagDT2DiagDTdftGrn (3, 6, 4, 1, 2)\n",
      "B2P2EC2Med2MedV2MedVdftGrn (3, 6, 4, 1, 2)\n",
      "B2P2EC2Med2MedDT2MedDTdftGrn (3, 6, 4, 1, 2)\n",
      "['B2P2EC2Diag2DiagV2DiagVdftGrn', 'B2P2EC2Diag2DiagDT2DiagDTdftGrn', 'B2P2EC2Med2MedV2MedVdftGrn', 'B2P2EC2Med2MedDT2MedDTdftGrn']\n"
     ]
    }
   ],
   "source": [
    "print(len(fld2info_idx_dict))\n",
    "for k, v in fld2info_idx_dict.items(): print(k, v.shape)\n",
    "fld_list = [i for i in fld2info_idx_dict]\n",
    "print(fld_list)"
   ]
  },
  {
   "cell_type": "code",
   "execution_count": 9,
   "id": "66987295-079a-411b-893d-4b25453f4260",
   "metadata": {},
   "outputs": [
    {
     "data": {
      "text/html": [
       "<div>\n",
       "<style scoped>\n",
       "    .dataframe tbody tr th:only-of-type {\n",
       "        vertical-align: middle;\n",
       "    }\n",
       "\n",
       "    .dataframe tbody tr th {\n",
       "        vertical-align: top;\n",
       "    }\n",
       "\n",
       "    .dataframe thead th {\n",
       "        text-align: right;\n",
       "    }\n",
       "</style>\n",
       "<table border=\"1\" class=\"dataframe\">\n",
       "  <thead>\n",
       "    <tr style=\"text-align: right;\">\n",
       "      <th></th>\n",
       "      <th>layers</th>\n",
       "      <th>nn</th>\n",
       "      <th>single</th>\n",
       "      <th>mergefirst</th>\n",
       "      <th>mergelast</th>\n",
       "    </tr>\n",
       "  </thead>\n",
       "  <tbody>\n",
       "    <tr>\n",
       "      <th>0</th>\n",
       "      <td>1-2</td>\n",
       "      <td>[1-2:P-EC]</td>\n",
       "      <td>[1-2:P-EC]</td>\n",
       "      <td>[]</td>\n",
       "      <td>[]</td>\n",
       "    </tr>\n",
       "    <tr>\n",
       "      <th>1</th>\n",
       "      <td>2-3</td>\n",
       "      <td>[2-3:EC-Diag, 2-3:EC-Med]</td>\n",
       "      <td>[]</td>\n",
       "      <td>[]</td>\n",
       "      <td>[2-3:EC-Diag&amp;Med]</td>\n",
       "    </tr>\n",
       "    <tr>\n",
       "      <th>2</th>\n",
       "      <td>3-4</td>\n",
       "      <td>[3-4:Diag-DiagDT, 3-4:Diag-DiagV, 3-4:Med-MedD...</td>\n",
       "      <td>[]</td>\n",
       "      <td>[3-4:Diag-DiagDT&amp;DiagV, 3-4:Med-MedDT&amp;MedV]</td>\n",
       "      <td>[]</td>\n",
       "    </tr>\n",
       "    <tr>\n",
       "      <th>3</th>\n",
       "      <td>4-5</td>\n",
       "      <td>[4-5:DiagDT-DiagDTdftGrn, 4-5:DiagV-DiagVdftGr...</td>\n",
       "      <td>[4-5:DiagDT-DiagDTdftGrn, 4-5:DiagV-DiagVdftGr...</td>\n",
       "      <td>[]</td>\n",
       "      <td>[]</td>\n",
       "    </tr>\n",
       "  </tbody>\n",
       "</table>\n",
       "</div>"
      ],
      "text/plain": [
       "  layers                                                 nn  \\\n",
       "0    1-2                                         [1-2:P-EC]   \n",
       "1    2-3                          [2-3:EC-Diag, 2-3:EC-Med]   \n",
       "2    3-4  [3-4:Diag-DiagDT, 3-4:Diag-DiagV, 3-4:Med-MedD...   \n",
       "3    4-5  [4-5:DiagDT-DiagDTdftGrn, 4-5:DiagV-DiagVdftGr...   \n",
       "\n",
       "                                              single  \\\n",
       "0                                         [1-2:P-EC]   \n",
       "1                                                 []   \n",
       "2                                                 []   \n",
       "3  [4-5:DiagDT-DiagDTdftGrn, 4-5:DiagV-DiagVdftGr...   \n",
       "\n",
       "                                    mergefirst          mergelast  \n",
       "0                                           []                 []  \n",
       "1                                           []  [2-3:EC-Diag&Med]  \n",
       "2  [3-4:Diag-DiagDT&DiagV, 3-4:Med-MedDT&MedV]                 []  \n",
       "3                                           []                 []  "
      ]
     },
     "execution_count": 9,
     "metadata": {},
     "output_type": "execute_result"
    }
   ],
   "source": [
    "mergefirst_fld_list = [\n",
    "    'DiagDT&DiagV',\n",
    "    'MedDT&MedV',\n",
    "    'PNDT&PNTxt',\n",
    "    'PNSctnNm&PNSctnTxt',\n",
    "    'PNPOSGrn&PNSubTk&PNTkGrn', # TODO: notice the order\n",
    "]\n",
    "\n",
    "mergefirst_fld_list = ['&'.join(sorted(i.split('&'))) for i in mergefirst_fld_list]\n",
    "df_struct = generate_df_struct(fld_list, mergefirst_fld_list)\n",
    "df_struct"
   ]
  },
  {
   "cell_type": "code",
   "execution_count": 10,
   "id": "c8394d63-c333-4ffd-9b5a-e41f33ae1bce",
   "metadata": {},
   "outputs": [
    {
     "data": {
      "text/plain": [
       "{'4-5': ['4-5:DiagDT-DiagDTdftGrn',\n",
       "  '4-5:DiagV-DiagVdftGrn',\n",
       "  '4-5:MedDT-MedDTdftGrn',\n",
       "  '4-5:MedV-MedVdftGrn'],\n",
       " '3-4': ['3-4:Diag-DiagDT&DiagV', '3-4:Med-MedDT&MedV'],\n",
       " '2-3': ['2-3:EC-Diag&Med'],\n",
       " '1-2': ['1-2:P-EC']}"
      ]
     },
     "execution_count": 10,
     "metadata": {},
     "output_type": "execute_result"
    }
   ],
   "source": [
    "LayerTrans2LayerNmae = {}\n",
    "for idx, d in df_struct.iloc[::-1].iterrows():\n",
    "    name = d['layers']\n",
    "    single_list = d['single']\n",
    "    mergefirst_list = d['mergefirst']\n",
    "    mergelast_list = d['mergelast']\n",
    "    layer_list = single_list + mergefirst_list + mergelast_list\n",
    "    # print(name, len(layer_list), layer_list)\n",
    "    LayerTrans2LayerNmae[name] = layer_list\n",
    "    \n",
    "LayerTrans2LayerNmae"
   ]
  },
  {
   "cell_type": "markdown",
   "id": "228c54d6-5eb1-4415-8f50-b33c56bd692e",
   "metadata": {},
   "source": [
    "# Data Flow"
   ]
  },
  {
   "cell_type": "code",
   "execution_count": 11,
   "id": "e0905825-aa73-4eaf-b2e5-7bf09dae8436",
   "metadata": {},
   "outputs": [
    {
     "data": {
      "text/plain": [
       "4"
      ]
     },
     "execution_count": 11,
     "metadata": {},
     "output_type": "execute_result"
    }
   ],
   "source": [
    "len(fld2info_idx_dict)"
   ]
  },
  {
   "cell_type": "code",
   "execution_count": 12,
   "id": "f47d850e-62c0-46d5-a11f-9f1debf7bcbb",
   "metadata": {},
   "outputs": [
    {
     "name": "stdout",
     "output_type": "stream",
     "text": [
      "DiagVdftGrn (3, 6, 4, 1, 2)\n",
      "DiagDTdftGrn (3, 6, 4, 1, 2)\n",
      "MedVdftGrn (3, 6, 4, 1, 2)\n",
      "MedDTdftGrn (3, 6, 4, 1, 2)\n"
     ]
    }
   ],
   "source": [
    "name2tensor_dict = {}\n",
    "for fld, tensor in fld2info_idx_dict.items():\n",
    "    name = fld.split('2')[-1]\n",
    "    name2tensor_dict[name] = tensor\n",
    "\n",
    "for k, v in name2tensor_dict.items(): print(k, v.shape)"
   ]
  },
  {
   "cell_type": "code",
   "execution_count": 13,
   "id": "734a2f3a-5d29-4d92-b3f5-80c2844b1de8",
   "metadata": {},
   "outputs": [
    {
     "name": "stdout",
     "output_type": "stream",
     "text": [
      "\n",
      "\n",
      "4-5:DiagDT-DiagDTdftGrn\n",
      "DiagDT <----- ['DiagDTdftGrn']\n",
      "input info:\n",
      "DiagDTdftGrn (3, 6, 4, 1, 2)\n",
      "    ---> Grain idx, Expander Dims (3, 6, 4, 1, 2, 10)\n",
      "DiagDT (3, 6, 4, 1, 10)\n",
      "\n",
      "\n",
      "4-5:DiagV-DiagVdftGrn\n",
      "DiagV <----- ['DiagVdftGrn']\n",
      "input info:\n",
      "DiagVdftGrn (3, 6, 4, 1, 2)\n",
      "    ---> Grain idx, Expander Dims (3, 6, 4, 1, 2, 10)\n",
      "DiagV (3, 6, 4, 1, 10)\n",
      "\n",
      "\n",
      "4-5:MedDT-MedDTdftGrn\n",
      "MedDT <----- ['MedDTdftGrn']\n",
      "input info:\n",
      "MedDTdftGrn (3, 6, 4, 1, 2)\n",
      "    ---> Grain idx, Expander Dims (3, 6, 4, 1, 2, 10)\n",
      "MedDT (3, 6, 4, 1, 10)\n",
      "\n",
      "\n",
      "4-5:MedV-MedVdftGrn\n",
      "MedV <----- ['MedVdftGrn']\n",
      "input info:\n",
      "MedVdftGrn (3, 6, 4, 1, 2)\n",
      "    ---> Grain idx, Expander Dims (3, 6, 4, 1, 2, 10)\n",
      "MedV (3, 6, 4, 1, 10)\n"
     ]
    }
   ],
   "source": [
    "\n",
    "for layername in LayerTrans2LayerNmae['4-5']:\n",
    "    # print()\n",
    "    print('\\n')\n",
    "    output, inputs = layername.split(':')[-1].split('-')\n",
    "    inputs = inputs.split('&')\n",
    "    print(layername)\n",
    "    print(output,'<-----',  inputs)\n",
    "    print('input info:')\n",
    "    \n",
    "    # From inputs to output\n",
    "    for input_name in inputs:\n",
    "        input_tensor = name2tensor_dict[input_name]\n",
    "        print(input_name, input_tensor.shape)\n",
    "        \n",
    "        if 'Grn' in input_name:\n",
    "            input_tensor = np.stack([input_tensor]*10, axis=-1)\n",
    "            print('    ---> Grain idx, Expander Dims', input_tensor.shape)\n",
    "    \n",
    "    output_tensor = input_tensor.mean(-2)\n",
    "    print(output, output_tensor.shape)\n",
    "    \n",
    "    name2tensor_dict[output] = output_tensor\n",
    "    "
   ]
  },
  {
   "cell_type": "code",
   "execution_count": 14,
   "id": "b3be341f-1adb-4e30-a5f1-fa484559d04b",
   "metadata": {},
   "outputs": [
    {
     "name": "stdout",
     "output_type": "stream",
     "text": [
      "\n",
      "\n",
      "3-4:Diag-DiagDT&DiagV\n",
      "Diag <----- ['DiagDT', 'DiagV']\n",
      "input info:\n",
      "DiagDT (3, 6, 4, 1, 10)\n",
      "DiagV (3, 6, 4, 1, 10)\n",
      "Diag (3, 6, 4, 10)\n",
      "\n",
      "\n",
      "3-4:Med-MedDT&MedV\n",
      "Med <----- ['MedDT', 'MedV']\n",
      "input info:\n",
      "MedDT (3, 6, 4, 1, 10)\n",
      "MedV (3, 6, 4, 1, 10)\n",
      "Med (3, 6, 4, 10)\n"
     ]
    }
   ],
   "source": [
    "\n",
    "for layername in LayerTrans2LayerNmae['3-4']:\n",
    "    # print()\n",
    "    print('\\n')\n",
    "    output, inputs = layername.split(':')[-1].split('-')\n",
    "    inputs = inputs.split('&')\n",
    "    print(layername)\n",
    "    print(output,'<-----',  inputs)\n",
    "    print('input info:')\n",
    "    \n",
    "    \n",
    "    # From inputs to output\n",
    "    for input_name in inputs:\n",
    "        input_tensor = name2tensor_dict[input_name]\n",
    "        print(input_name, input_tensor.shape)\n",
    "        \n",
    "        if 'Grn' in input_name:\n",
    "            input_tensor = np.stack([input_tensor]*10, axis=-1)\n",
    "            print('---> Grain idx, Expander Dims', input_tensor.shape)\n",
    "    \n",
    "    output_tensor = input_tensor.mean(-2)\n",
    "    print(output, output_tensor.shape)\n",
    "    \n",
    "    name2tensor_dict[output] = output_tensor\n",
    "    "
   ]
  },
  {
   "cell_type": "code",
   "execution_count": 15,
   "id": "f22ec5ba-6563-4e86-ab41-e9a40e1278d0",
   "metadata": {},
   "outputs": [
    {
     "name": "stdout",
     "output_type": "stream",
     "text": [
      "\n",
      "\n",
      "2-3:EC-Diag&Med\n",
      "EC <----- ['Diag', 'Med']\n",
      "input info:\n",
      "Diag (3, 6, 4, 10)\n",
      "Med (3, 6, 4, 10)\n",
      "EC (3, 6, 10)\n"
     ]
    }
   ],
   "source": [
    "\n",
    "for layername in LayerTrans2LayerNmae['2-3']:\n",
    "    # print()\n",
    "    print('\\n')\n",
    "    output, inputs = layername.split(':')[-1].split('-')\n",
    "    inputs = inputs.split('&')\n",
    "    print(layername)\n",
    "    print(output,'<-----',  inputs)\n",
    "    print('input info:')\n",
    "    \n",
    "    \n",
    "    # From inputs to output\n",
    "    for input_name in inputs:\n",
    "        input_tensor = name2tensor_dict[input_name]\n",
    "        print(input_name, input_tensor.shape)\n",
    "        \n",
    "        if 'Grn' in input_name:\n",
    "            input_tensor = np.stack([input_tensor]*10, axis=-1)\n",
    "            print('---> Grain idx, Expander Dims', input_tensor.shape)\n",
    "    \n",
    "    output_tensor = input_tensor.mean(-2)\n",
    "    print(output, output_tensor.shape)\n",
    "    \n",
    "    name2tensor_dict[output] = output_tensor\n",
    "    "
   ]
  },
  {
   "cell_type": "code",
   "execution_count": 16,
   "id": "a6a95e0f-ebd3-4711-8d61-1c107d24d776",
   "metadata": {},
   "outputs": [
    {
     "name": "stdout",
     "output_type": "stream",
     "text": [
      "\n",
      "\n",
      "1-2:P-EC\n",
      "P <----- ['EC']\n",
      "input info:\n",
      "EC (3, 6, 10)\n",
      "P (3, 10)\n"
     ]
    }
   ],
   "source": [
    "\n",
    "for layername in LayerTrans2LayerNmae['1-2']:\n",
    "    # print()\n",
    "    print('\\n')\n",
    "    output, inputs = layername.split(':')[-1].split('-')\n",
    "    inputs = inputs.split('&')\n",
    "    print(layername)\n",
    "    print(output,'<-----',  inputs)\n",
    "    print('input info:')\n",
    "    \n",
    "    \n",
    "    # From inputs to output\n",
    "    for input_name in inputs:\n",
    "        input_tensor = name2tensor_dict[input_name]\n",
    "        print(input_name, input_tensor.shape)\n",
    "        \n",
    "        if 'Grn' in input_name:\n",
    "            input_tensor = np.stack([input_tensor]*10, axis=-1)\n",
    "            print('---> Grain idx, Expander Dims', input_tensor.shape)\n",
    "    \n",
    "    output_tensor = input_tensor.mean(-2)\n",
    "    print(output, output_tensor.shape)\n",
    "    \n",
    "    name2tensor_dict[output] = output_tensor\n",
    "    "
   ]
  },
  {
   "cell_type": "code",
   "execution_count": null,
   "id": "f08d9c62-3d1f-4d7a-83bf-a7e08daf2c34",
   "metadata": {},
   "outputs": [],
   "source": []
  },
  {
   "cell_type": "code",
   "execution_count": null,
   "id": "de952f42-7e8b-48d1-872a-e80cb3348c61",
   "metadata": {},
   "outputs": [],
   "source": []
  },
  {
   "cell_type": "code",
   "execution_count": null,
   "id": "287a0730-8333-4f93-a3bf-b62cfeff727c",
   "metadata": {},
   "outputs": [],
   "source": []
  },
  {
   "cell_type": "code",
   "execution_count": null,
   "id": "eb61ca8c-cc58-46d6-b5b3-8cb109138e0f",
   "metadata": {},
   "outputs": [],
   "source": []
  },
  {
   "cell_type": "code",
   "execution_count": null,
   "id": "cf10067a-5f98-4a5d-889f-51879fd58faa",
   "metadata": {},
   "outputs": [],
   "source": []
  },
  {
   "cell_type": "code",
   "execution_count": null,
   "id": "2a4f43a3-6300-4f91-9257-9898bb6ce995",
   "metadata": {},
   "outputs": [],
   "source": []
  },
  {
   "cell_type": "markdown",
   "id": "23a7ff28-5e07-41ee-bb9c-7097370ec3b5",
   "metadata": {},
   "source": [
    "# EMR-L"
   ]
  },
  {
   "cell_type": "code",
   "execution_count": 85,
   "id": "e7305e1f-e261-4f40-be73-5175f05a6c89",
   "metadata": {},
   "outputs": [
    {
     "data": {
      "text/plain": [
       "'3-4:Diag-DiagDT&DiagV'"
      ]
     },
     "execution_count": 85,
     "metadata": {},
     "output_type": "execute_result"
    }
   ],
   "source": [
    "'3-4:Diag-DiagDT&DiagV'"
   ]
  },
  {
   "cell_type": "code",
   "execution_count": null,
   "id": "e0910f1b-8e84-4c19-b751-cfe2b06a0021",
   "metadata": {},
   "outputs": [],
   "source": []
  }
 ],
 "metadata": {
  "kernelspec": {
   "display_name": "Python 3 (ipykernel)",
   "language": "python",
   "name": "python3"
  },
  "language_info": {
   "codemirror_mode": {
    "name": "ipython",
    "version": 3
   },
   "file_extension": ".py",
   "mimetype": "text/x-python",
   "name": "python",
   "nbconvert_exporter": "python",
   "pygments_lexer": "ipython3",
   "version": "3.8.8"
  }
 },
 "nbformat": 4,
 "nbformat_minor": 5
}
