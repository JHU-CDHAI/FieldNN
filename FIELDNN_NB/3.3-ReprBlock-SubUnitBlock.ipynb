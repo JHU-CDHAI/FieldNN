{
 "cells": [
  {
   "cell_type": "code",
   "execution_count": 1,
   "id": "d0c6d4c1-3173-4cea-a5c3-804177c1bac3",
   "metadata": {
    "tags": []
   },
   "outputs": [
    {
     "name": "stdout",
     "output_type": "stream",
     "text": [
      "/Users/floydluo/Library/CloudStorage/OneDrive-JohnsHopkins/000Projects/0000-Infrastructure/0000-RecFld/FieldNN\n"
     ]
    }
   ],
   "source": [
    "%cd .."
   ]
  },
  {
   "cell_type": "markdown",
   "id": "3d27c120-6816-4db6-8c88-54e8d6654829",
   "metadata": {},
   "source": [
    "# PreCode"
   ]
  },
  {
   "cell_type": "code",
   "execution_count": 2,
   "id": "de62ac46-e9a2-42f2-acbb-81d464b7510b",
   "metadata": {
    "tags": []
   },
   "outputs": [
    {
     "name": "stdout",
     "output_type": "stream",
     "text": [
      "4 <---- dataset\n",
      "1 <---- dataset\n",
      "B-P-InfoGrn_wgt torch.Size([4, 43])\n",
      "B-P-InfoGrn_tknidx torch.Size([4, 43])\n",
      "B-P-InfoGrn_fldidx torch.Size([4, 43])\n",
      "B-P-EC-PNSect-TknzGrn_wgt torch.Size([4, 23, 14, 221])\n",
      "B-P-EC-PNSect-TknzGrn_tknidx torch.Size([4, 23, 14, 221])\n",
      "B-P-EC-PNSect-TknzGrn_fldidx torch.Size([4, 23, 14, 221])\n"
     ]
    }
   ],
   "source": [
    "import os\n",
    "from fieldnn.dataset import RFGDataset, my_collate_fn\n",
    "from torch.utils.data import DataLoader\n",
    "\n",
    "Tensor_folder = 'data/ProcData/FldGrnTensor/'\n",
    "recfldgrn_list = ['P-InfoGrn',  'P-EC-PNSect-TknzGrn']\n",
    "full_recfldgrn_list = ['B-' + i for i in recfldgrn_list]\n",
    "\n",
    "# from the get_grain_fn to get the Elig_Set.\n",
    "Elig_Set = ['P4', 'P5', 'P6', 'P7']\n",
    "\n",
    "dataset = RFGDataset(Tensor_folder, recfldgrn_list, Elig_Set, RecRootID = 'PID')\n",
    "print(len(dataset), '<---- dataset')\n",
    "dataloader = DataLoader(dataset, batch_size = 4, shuffle = True, collate_fn = my_collate_fn)\n",
    "print(len(dataloader), '<---- dataset')\n",
    "\n",
    "\n",
    "for idx, batch in enumerate(dataloader):\n",
    "    # print(f'\\n------ {idx}')\n",
    "    batch_rfg, batch_y = batch\n",
    "    for k, v in batch_rfg.items(): print(k, v.shape)\n",
    "    break\n",
    "    # for k, v in batch_rfg.items(): print(k, v.shape)\n",
    "    # print(batch_y.shape)"
   ]
  },
  {
   "cell_type": "code",
   "execution_count": 3,
   "id": "b27333e2-3eed-41c2-b29d-580151f7f64f",
   "metadata": {
    "tags": []
   },
   "outputs": [
    {
     "data": {
      "text/plain": [
       "['B-P-InfoGrn', 'B-P-EC-PNSect-TknzGrn']"
      ]
     },
     "execution_count": 3,
     "metadata": {},
     "output_type": "execute_result"
    }
   ],
   "source": [
    "# Prepare the Input\n",
    "RECFLD_TO_TENSOR = {}\n",
    "for full_recfldgrn in full_recfldgrn_list:\n",
    "    RECFLD_TO_TENSOR[full_recfldgrn] = {k: v for k, v in batch_rfg.items() if full_recfldgrn in k}\n",
    "    \n",
    "[i for i in RECFLD_TO_TENSOR]"
   ]
  },
  {
   "cell_type": "code",
   "execution_count": 4,
   "id": "34e7e92f-ef14-4619-8e6a-8060efb47d04",
   "metadata": {
    "tags": []
   },
   "outputs": [
    {
     "data": {
      "text/html": [
       "<div>\n",
       "<style scoped>\n",
       "    .dataframe tbody tr th:only-of-type {\n",
       "        vertical-align: middle;\n",
       "    }\n",
       "\n",
       "    .dataframe tbody tr th {\n",
       "        vertical-align: top;\n",
       "    }\n",
       "\n",
       "    .dataframe thead th {\n",
       "        text-align: right;\n",
       "    }\n",
       "</style>\n",
       "<table border=\"1\" class=\"dataframe\">\n",
       "  <thead>\n",
       "    <tr style=\"text-align: right;\">\n",
       "      <th></th>\n",
       "      <th>SubUnitName</th>\n",
       "      <th>input_names</th>\n",
       "      <th>output_name</th>\n",
       "      <th>output_layerid</th>\n",
       "      <th>SubUnit_BasicNN_List</th>\n",
       "      <th>SubUnit_DefaultBasicNN_List</th>\n",
       "      <th>SubUnit_BasicNN_Config_List</th>\n",
       "    </tr>\n",
       "  </thead>\n",
       "  <tbody>\n",
       "    <tr>\n",
       "      <th>0</th>\n",
       "      <td>E</td>\n",
       "      <td>[B-P-InfoGrn]</td>\n",
       "      <td>B-P-Info</td>\n",
       "      <td>3</td>\n",
       "      <td>[expander-CateEmbed]</td>\n",
       "      <td>[{'full_recfldgrn': 'B-P-InfoGrn', 'Info': ['P...</td>\n",
       "      <td>[{'nn_type_nn_name': 'expander-CateEmbed', 'Ba...</td>\n",
       "    </tr>\n",
       "    <tr>\n",
       "      <th>1</th>\n",
       "      <td>E</td>\n",
       "      <td>[B-P-EC-PNSect-TknzGrn]</td>\n",
       "      <td>B-P-EC-PNSect-Tknz</td>\n",
       "      <td>5</td>\n",
       "      <td>[expander-LLMEmbed]</td>\n",
       "      <td>[{'full_recfldgrn': 'B-P-EC-PNSect-TknzGrn', '...</td>\n",
       "      <td>[{'nn_type_nn_name': 'expander-LLMEmbed', 'Bas...</td>\n",
       "    </tr>\n",
       "  </tbody>\n",
       "</table>\n",
       "</div>"
      ],
      "text/plain": [
       "  SubUnitName              input_names         output_name  output_layerid  \\\n",
       "0           E            [B-P-InfoGrn]            B-P-Info               3   \n",
       "1           E  [B-P-EC-PNSect-TknzGrn]  B-P-EC-PNSect-Tknz               5   \n",
       "\n",
       "   SubUnit_BasicNN_List                        SubUnit_DefaultBasicNN_List  \\\n",
       "0  [expander-CateEmbed]  [{'full_recfldgrn': 'B-P-InfoGrn', 'Info': ['P...   \n",
       "1   [expander-LLMEmbed]  [{'full_recfldgrn': 'B-P-EC-PNSect-TknzGrn', '...   \n",
       "\n",
       "                         SubUnit_BasicNN_Config_List  \n",
       "0  [{'nn_type_nn_name': 'expander-CateEmbed', 'Ba...  \n",
       "1  [{'nn_type_nn_name': 'expander-LLMEmbed', 'Bas...  "
      ]
     },
     "execution_count": 4,
     "metadata": {},
     "output_type": "execute_result"
    }
   ],
   "source": [
    "from fieldnn.dataflowfn.embedflowfn import get_EmbeddingBlock_SubUnit\n",
    "from fieldnn.dataflowfn.baseflowfn import mapping_SubUnitName_to_SubUnitNNList\n",
    "from fieldnn.dataflowfn.baseflowfn import get_SubUnit_Default_NNPara_List\n",
    "from fieldnn.dataflowfn.baseflowfn import get_SubUnit_BasicNN_Config_List\n",
    "\n",
    "############################################# Hyperparameters\n",
    "default_BasicNNtype_To_NNName = {\n",
    "    'expander': None, # will be updated according to the Grn Type\n",
    "    'reducer': 'Max',\n",
    "    'merger': 'Merger',\n",
    "    'learner': None, # TODO: ignore this currently\n",
    "    \n",
    "}\n",
    "#############################################\n",
    "\n",
    "############################\n",
    "embed_size = 128\n",
    "process = {'activator': 'gelu',\n",
    "           'dropout': {'p': 0.5, 'inplace': False},\n",
    "           'layernorm': {'eps': 1e-05, 'elementwise_affine': True}}\n",
    "############################\n",
    "\n",
    "\n",
    "default_SubUnitName = 'E'\n",
    "fldgrn_folder = 'data/ProcData/FldGrnInfo'\n",
    "learner_default_dict = {} # To update it in the future. \n",
    "\n",
    "\n",
    "df_SubUnit = get_EmbeddingBlock_SubUnit(full_recfldgrn_list, default_SubUnitName)\n",
    "\n",
    "s = df_SubUnit.apply(lambda x: mapping_SubUnitName_to_SubUnitNNList(x['SubUnitName'], \n",
    "                                                                    x['input_names'],\n",
    "                                                                    default_BasicNNtype_To_NNName), \n",
    "                    axis = 1)\n",
    "df_SubUnit['SubUnit_BasicNN_List'] = s\n",
    "s = df_SubUnit.apply(lambda x: get_SubUnit_Default_NNPara_List(x['SubUnit_BasicNN_List'], \n",
    "                                                               x['input_names'],\n",
    "                                                               fldgrn_folder, \n",
    "                                                               learner_default_dict), axis = 1)\n",
    "\n",
    "df_SubUnit['SubUnit_DefaultBasicNN_List'] = s\n",
    "\n",
    "\n",
    "\n",
    "s = df_SubUnit.apply(lambda x: get_SubUnit_BasicNN_Config_List(x['SubUnit_BasicNN_List'], \n",
    "                                                               x['SubUnit_DefaultBasicNN_List'], \n",
    "                                                               x['input_names'], \n",
    "                                                               x['output_name'], \n",
    "                                                                embed_size, \n",
    "                                                                process, \n",
    "                                                               ), axis = 1)\n",
    "\n",
    "df_SubUnit['SubUnit_BasicNN_Config_List'] = s\n",
    "df_SubUnit"
   ]
  },
  {
   "cell_type": "code",
   "execution_count": 5,
   "id": "e3f99ca3-f1d1-4a9f-a6c9-74d8849c416e",
   "metadata": {
    "tags": []
   },
   "outputs": [
    {
     "name": "stderr",
     "output_type": "stream",
     "text": [
      "Some weights of the model checkpoint at bert-base-uncased were not used when initializing BertModel: ['cls.predictions.transform.LayerNorm.weight', 'cls.seq_relationship.weight', 'cls.predictions.transform.LayerNorm.bias', 'cls.predictions.bias', 'cls.predictions.transform.dense.bias', 'cls.seq_relationship.bias', 'cls.predictions.decoder.weight', 'cls.predictions.transform.dense.weight']\n",
      "- This IS expected if you are initializing BertModel from the checkpoint of a model trained on another task or with another architecture (e.g. initializing a BertForSequenceClassification model from a BertForPreTraining model).\n",
      "- This IS NOT expected if you are initializing BertModel from the checkpoint of a model that you expect to be exactly identical (initializing a BertForSequenceClassification model from a BertForSequenceClassification model).\n"
     ]
    },
    {
     "name": "stdout",
     "output_type": "stream",
     "text": [
      "B-P-Info torch.Size([4, 43, 128])\n",
      "B-P-EC-PNSect-Tknz torch.Size([4, 23, 14, 221, 128])\n"
     ]
    }
   ],
   "source": [
    "from fieldnn.module.embedblock import EmbedBlockLayer\n",
    "\n",
    "EmbedBlock = EmbedBlockLayer(df_SubUnit)\n",
    "\n",
    "RECFLD_TO_EMBEDTESNOR = EmbedBlock(RECFLD_TO_TENSOR)\n",
    "\n",
    "for k, v in RECFLD_TO_EMBEDTESNOR.items():\n",
    "    print(k, v['info'].shape)"
   ]
  },
  {
   "cell_type": "markdown",
   "id": "b5a4bf00-d8a3-4751-8b58-5b8774b680ee",
   "metadata": {},
   "source": [
    "# Get Input Tensor"
   ]
  },
  {
   "cell_type": "code",
   "execution_count": 6,
   "id": "89c6626f-7e2d-42f1-9434-700af2e3e1b0",
   "metadata": {
    "tags": []
   },
   "outputs": [
    {
     "name": "stdout",
     "output_type": "stream",
     "text": [
      "B-P-Info torch.Size([4, 43, 128])\n",
      "B-P-EC-PNSect-Tknz torch.Size([4, 23, 14, 221, 128])\n"
     ]
    }
   ],
   "source": [
    "for full_recfld, info_dict in RECFLD_TO_EMBEDTESNOR.items():\n",
    "    print(full_recfld, info_dict['info'].shape)"
   ]
  },
  {
   "cell_type": "code",
   "execution_count": 7,
   "id": "1fe86587-40fe-4693-98bb-c08e826a9330",
   "metadata": {
    "tags": []
   },
   "outputs": [
    {
     "data": {
      "text/plain": [
       "5"
      ]
     },
     "execution_count": 7,
     "metadata": {},
     "output_type": "execute_result"
    }
   ],
   "source": [
    "max_layer = max([len(i.split('-')) for i in RECFLD_TO_EMBEDTESNOR])\n",
    "max_layer"
   ]
  },
  {
   "cell_type": "markdown",
   "id": "137e5d36-f7a3-4dab-bf67-813ff958d748",
   "metadata": {},
   "source": [
    "# Get df_SubUnit "
   ]
  },
  {
   "cell_type": "code",
   "execution_count": 8,
   "id": "5fc51afd-f1d1-452c-9027-a748df305894",
   "metadata": {
    "tags": []
   },
   "outputs": [],
   "source": [
    "from fieldnn.dataflowfn.reprflowfn import get_Repr_dataflow_table\n",
    "from fieldnn.dataflowfn.reprflowfn import update_df_Repr_dataflow\n",
    "from fieldnn.dataflowfn.reprflowfn import update_df_Repr_dataflow_completename\n",
    "from fieldnn.dataflowfn.reprflowfn import get_Repr_SubUnit_List"
   ]
  },
  {
   "cell_type": "code",
   "execution_count": 9,
   "id": "1a438d74-2d5b-4fd5-af80-ea3e389664d5",
   "metadata": {
    "tags": []
   },
   "outputs": [
    {
     "data": {
      "text/plain": [
       "['B-P-Info', 'B-P-EC-PNSect-Tknz']"
      ]
     },
     "execution_count": 9,
     "metadata": {},
     "output_type": "execute_result"
    }
   ],
   "source": [
    "full_recfldgrn_list = [i for i in RECFLD_TO_EMBEDTESNOR]\n",
    "full_recfldgrn_list"
   ]
  },
  {
   "cell_type": "code",
   "execution_count": 10,
   "id": "6689ce01-fe8a-4312-b920-9157379f2a26",
   "metadata": {
    "tags": []
   },
   "outputs": [
    {
     "data": {
      "text/html": [
       "<div>\n",
       "<style scoped>\n",
       "    .dataframe tbody tr th:only-of-type {\n",
       "        vertical-align: middle;\n",
       "    }\n",
       "\n",
       "    .dataframe tbody tr th {\n",
       "        vertical-align: top;\n",
       "    }\n",
       "\n",
       "    .dataframe thead th {\n",
       "        text-align: right;\n",
       "    }\n",
       "</style>\n",
       "<table border=\"1\" class=\"dataframe\">\n",
       "  <thead>\n",
       "    <tr style=\"text-align: right;\">\n",
       "      <th></th>\n",
       "      <th>5</th>\n",
       "      <th>4</th>\n",
       "      <th>3</th>\n",
       "      <th>2</th>\n",
       "    </tr>\n",
       "    <tr>\n",
       "      <th>recfldgrn</th>\n",
       "      <th></th>\n",
       "      <th></th>\n",
       "      <th></th>\n",
       "      <th></th>\n",
       "    </tr>\n",
       "  </thead>\n",
       "  <tbody>\n",
       "    <tr>\n",
       "      <th>P-Info</th>\n",
       "      <td>NaN</td>\n",
       "      <td>NaN</td>\n",
       "      <td>B-P-Info</td>\n",
       "      <td>NaN</td>\n",
       "    </tr>\n",
       "    <tr>\n",
       "      <th>PNSect-Tknz</th>\n",
       "      <td>B-P-EC-PNSect-Tknz</td>\n",
       "      <td>B-P-EC-PNSect</td>\n",
       "      <td>B-P-EC</td>\n",
       "      <td>NaN</td>\n",
       "    </tr>\n",
       "    <tr>\n",
       "      <th>(Merge)B-P-Info&amp;EC</th>\n",
       "      <td>NaN</td>\n",
       "      <td>NaN</td>\n",
       "      <td>B-P-Info&amp;EC</td>\n",
       "      <td>B-P</td>\n",
       "    </tr>\n",
       "  </tbody>\n",
       "</table>\n",
       "</div>"
      ],
      "text/plain": [
       "                                     5              4            3    2\n",
       "recfldgrn                                                              \n",
       "P-Info                             NaN            NaN     B-P-Info  NaN\n",
       "PNSect-Tknz         B-P-EC-PNSect-Tknz  B-P-EC-PNSect       B-P-EC  NaN\n",
       "(Merge)B-P-Info&EC                 NaN            NaN  B-P-Info&EC  B-P"
      ]
     },
     "execution_count": 10,
     "metadata": {},
     "output_type": "execute_result"
    }
   ],
   "source": [
    "df_dataflow = get_Repr_dataflow_table(full_recfldgrn_list)\n",
    "# df_dataflow\n",
    "\n",
    "df_dataflow_new = update_df_Repr_dataflow(df_dataflow)\n",
    "df_dataflow_new\n",
    "\n",
    "# df_dataflow_new = update_df_Repr_dataflow(df_dataflow, style = 'Reducer&Merger')\n",
    "# df_dataflow_new"
   ]
  },
  {
   "cell_type": "code",
   "execution_count": 11,
   "id": "f8e5501e-ddb3-4ba5-9682-5d895582104d",
   "metadata": {
    "tags": []
   },
   "outputs": [
    {
     "data": {
      "text/html": [
       "<div>\n",
       "<style scoped>\n",
       "    .dataframe tbody tr th:only-of-type {\n",
       "        vertical-align: middle;\n",
       "    }\n",
       "\n",
       "    .dataframe tbody tr th {\n",
       "        vertical-align: top;\n",
       "    }\n",
       "\n",
       "    .dataframe thead th {\n",
       "        text-align: right;\n",
       "    }\n",
       "</style>\n",
       "<table border=\"1\" class=\"dataframe\">\n",
       "  <thead>\n",
       "    <tr style=\"text-align: right;\">\n",
       "      <th></th>\n",
       "      <th>SubUnitName</th>\n",
       "      <th>input_names</th>\n",
       "      <th>output_name</th>\n",
       "      <th>input_layerid</th>\n",
       "      <th>output_layerid</th>\n",
       "    </tr>\n",
       "  </thead>\n",
       "  <tbody>\n",
       "    <tr>\n",
       "      <th>0</th>\n",
       "      <td>R</td>\n",
       "      <td>[B-P-EC-PNSect-Tknz]</td>\n",
       "      <td>B-P-EC-PNSect</td>\n",
       "      <td>5</td>\n",
       "      <td>4</td>\n",
       "    </tr>\n",
       "    <tr>\n",
       "      <th>1</th>\n",
       "      <td>R</td>\n",
       "      <td>[B-P-EC-PNSect]</td>\n",
       "      <td>B-P-EC</td>\n",
       "      <td>4</td>\n",
       "      <td>3</td>\n",
       "    </tr>\n",
       "    <tr>\n",
       "      <th>2</th>\n",
       "      <td>M</td>\n",
       "      <td>[B-P-Info, B-P-EC]</td>\n",
       "      <td>B-P-Info&amp;EC</td>\n",
       "      <td>3</td>\n",
       "      <td>3</td>\n",
       "    </tr>\n",
       "    <tr>\n",
       "      <th>3</th>\n",
       "      <td>R</td>\n",
       "      <td>[B-P-Info&amp;EC]</td>\n",
       "      <td>B-P</td>\n",
       "      <td>3</td>\n",
       "      <td>2</td>\n",
       "    </tr>\n",
       "  </tbody>\n",
       "</table>\n",
       "</div>"
      ],
      "text/plain": [
       "  SubUnitName           input_names    output_name  input_layerid  \\\n",
       "0           R  [B-P-EC-PNSect-Tknz]  B-P-EC-PNSect              5   \n",
       "1           R       [B-P-EC-PNSect]         B-P-EC              4   \n",
       "2           M    [B-P-Info, B-P-EC]    B-P-Info&EC              3   \n",
       "3           R         [B-P-Info&EC]            B-P              3   \n",
       "\n",
       "   output_layerid  \n",
       "0               4  \n",
       "1               3  \n",
       "2               3  \n",
       "3               2  "
      ]
     },
     "execution_count": 11,
     "metadata": {},
     "output_type": "execute_result"
    }
   ],
   "source": [
    "df_dataflow = df_dataflow_new.copy()\n",
    "\n",
    "#######################\n",
    "default_R_subunit_name = 'R'\n",
    "default_MR_subunit_name = 'M'\n",
    "#######################\n",
    "df_SubUnit = get_Repr_SubUnit_List(df_dataflow, default_R_subunit_name, default_MR_subunit_name)\n",
    "df_SubUnit"
   ]
  },
  {
   "cell_type": "markdown",
   "id": "9efa6320-b4cf-4ab1-9bff-c62fa9c68b12",
   "metadata": {},
   "source": [
    "# get df_SubUnit Extra Info"
   ]
  },
  {
   "cell_type": "markdown",
   "id": "118c69b0-5855-4987-b061-adf8b75f689c",
   "metadata": {},
   "source": [
    "## get SubUnit Name's NN List\n"
   ]
  },
  {
   "cell_type": "code",
   "execution_count": 12,
   "id": "d8dd1680-5a9d-4ee8-8f71-037b1b884311",
   "metadata": {
    "tags": []
   },
   "outputs": [],
   "source": [
    "from fieldnn.dataflowfn.baseflowfn import mapping_SubUnitName_to_SubUnitNNList"
   ]
  },
  {
   "cell_type": "code",
   "execution_count": 13,
   "id": "9e33f1d8-ccb8-4c98-9517-7b1ff83c0296",
   "metadata": {
    "tags": []
   },
   "outputs": [
    {
     "data": {
      "text/html": [
       "<div>\n",
       "<style scoped>\n",
       "    .dataframe tbody tr th:only-of-type {\n",
       "        vertical-align: middle;\n",
       "    }\n",
       "\n",
       "    .dataframe tbody tr th {\n",
       "        vertical-align: top;\n",
       "    }\n",
       "\n",
       "    .dataframe thead th {\n",
       "        text-align: right;\n",
       "    }\n",
       "</style>\n",
       "<table border=\"1\" class=\"dataframe\">\n",
       "  <thead>\n",
       "    <tr style=\"text-align: right;\">\n",
       "      <th></th>\n",
       "      <th>SubUnitName</th>\n",
       "      <th>input_names</th>\n",
       "      <th>output_name</th>\n",
       "      <th>input_layerid</th>\n",
       "      <th>output_layerid</th>\n",
       "      <th>SubUnit_BasicNN_List</th>\n",
       "    </tr>\n",
       "  </thead>\n",
       "  <tbody>\n",
       "    <tr>\n",
       "      <th>0</th>\n",
       "      <td>R</td>\n",
       "      <td>[B-P-EC-PNSect-Tknz]</td>\n",
       "      <td>B-P-EC-PNSect</td>\n",
       "      <td>5</td>\n",
       "      <td>4</td>\n",
       "      <td>[reducer-ReduceMax]</td>\n",
       "    </tr>\n",
       "    <tr>\n",
       "      <th>1</th>\n",
       "      <td>R</td>\n",
       "      <td>[B-P-EC-PNSect]</td>\n",
       "      <td>B-P-EC</td>\n",
       "      <td>4</td>\n",
       "      <td>3</td>\n",
       "      <td>[reducer-ReduceMax]</td>\n",
       "    </tr>\n",
       "    <tr>\n",
       "      <th>2</th>\n",
       "      <td>M</td>\n",
       "      <td>[B-P-Info, B-P-EC]</td>\n",
       "      <td>B-P-Info&amp;EC</td>\n",
       "      <td>3</td>\n",
       "      <td>3</td>\n",
       "      <td>[merger-MergeConcat]</td>\n",
       "    </tr>\n",
       "    <tr>\n",
       "      <th>3</th>\n",
       "      <td>R</td>\n",
       "      <td>[B-P-Info&amp;EC]</td>\n",
       "      <td>B-P</td>\n",
       "      <td>3</td>\n",
       "      <td>2</td>\n",
       "      <td>[reducer-ReduceMax]</td>\n",
       "    </tr>\n",
       "  </tbody>\n",
       "</table>\n",
       "</div>"
      ],
      "text/plain": [
       "  SubUnitName           input_names    output_name  input_layerid  \\\n",
       "0           R  [B-P-EC-PNSect-Tknz]  B-P-EC-PNSect              5   \n",
       "1           R       [B-P-EC-PNSect]         B-P-EC              4   \n",
       "2           M    [B-P-Info, B-P-EC]    B-P-Info&EC              3   \n",
       "3           R         [B-P-Info&EC]            B-P              3   \n",
       "\n",
       "   output_layerid  SubUnit_BasicNN_List  \n",
       "0               4   [reducer-ReduceMax]  \n",
       "1               3   [reducer-ReduceMax]  \n",
       "2               3  [merger-MergeConcat]  \n",
       "3               2   [reducer-ReduceMax]  "
      ]
     },
     "execution_count": 13,
     "metadata": {},
     "output_type": "execute_result"
    }
   ],
   "source": [
    "############################################# Hyperparameters\n",
    "default_BasicNNtype_To_NNName = {\n",
    "    'expander': None, # will be updated according to the Grn Type\n",
    "    'reducer': 'ReduceMax',\n",
    "    'merger': 'MergeConcat',\n",
    "    'learner': None, # TODO: ignore this currently\n",
    "    \n",
    "}\n",
    "#############################################\n",
    "\n",
    "s = df_SubUnit.apply(lambda x: mapping_SubUnitName_to_SubUnitNNList(x['SubUnitName'], \n",
    "                                                                    x['input_names'],\n",
    "                                                                    default_BasicNNtype_To_NNName), \n",
    "                    axis = 1)\n",
    "\n",
    "\n",
    "df_SubUnit['SubUnit_BasicNN_List'] = s\n",
    "df_SubUnit"
   ]
  },
  {
   "cell_type": "markdown",
   "id": "3bebad89-e278-4700-b4c6-20ef36786e85",
   "metadata": {},
   "source": [
    "## Get Default BasicNN Config List"
   ]
  },
  {
   "cell_type": "code",
   "execution_count": 14,
   "id": "c91bd0ae-f5c6-43c1-b5bb-fe85773b4810",
   "metadata": {
    "tags": []
   },
   "outputs": [],
   "source": [
    "from fieldnn.dataflowfn.baseflowfn import get_SubUnit_Default_NNPara_List\n",
    "# get_SubUnit_Default_NNPara_List(SubUnit_BasicNN_List, SubUnit_input_names, fldgrn_folder, learner_default_dict)"
   ]
  },
  {
   "cell_type": "code",
   "execution_count": 15,
   "id": "c9f0c521-2524-4148-8fa0-0e85bc0705ce",
   "metadata": {
    "tags": []
   },
   "outputs": [
    {
     "name": "stdout",
     "output_type": "stream",
     "text": [
      "['reducer-ReduceMax']\n"
     ]
    }
   ],
   "source": [
    "SubUnit_info = df_SubUnit.iloc[0]\n",
    "SubUnit_BasicNN_List = SubUnit_info['SubUnit_BasicNN_List']\n",
    "SubUnit_input_names = SubUnit_info['input_names']\n",
    "SubUnit_output_name = SubUnit_info['output_name']\n",
    "fldgrn_folder = 'data/ProcData/FldGrnInfo'\n",
    "learner_default_dict = {} # To update it in the future. \n",
    "\n",
    "print(SubUnit_BasicNN_List)"
   ]
  },
  {
   "cell_type": "code",
   "execution_count": 16,
   "id": "19087242-8036-4a7e-9623-63752be625c1",
   "metadata": {
    "tags": []
   },
   "outputs": [
    {
     "data": {
      "text/plain": [
       "[{}]"
      ]
     },
     "execution_count": 16,
     "metadata": {},
     "output_type": "execute_result"
    }
   ],
   "source": [
    "SubUnit_DefaultBasicNN_List = get_SubUnit_Default_NNPara_List(SubUnit_BasicNN_List, SubUnit_input_names, \n",
    "                                                              fldgrn_folder, learner_default_dict)\n",
    "\n",
    "SubUnit_DefaultBasicNN_List"
   ]
  },
  {
   "cell_type": "code",
   "execution_count": 17,
   "id": "5eaaf642-feb1-4c49-b966-9b8c4efb307f",
   "metadata": {
    "tags": []
   },
   "outputs": [
    {
     "data": {
      "text/html": [
       "<div>\n",
       "<style scoped>\n",
       "    .dataframe tbody tr th:only-of-type {\n",
       "        vertical-align: middle;\n",
       "    }\n",
       "\n",
       "    .dataframe tbody tr th {\n",
       "        vertical-align: top;\n",
       "    }\n",
       "\n",
       "    .dataframe thead th {\n",
       "        text-align: right;\n",
       "    }\n",
       "</style>\n",
       "<table border=\"1\" class=\"dataframe\">\n",
       "  <thead>\n",
       "    <tr style=\"text-align: right;\">\n",
       "      <th></th>\n",
       "      <th>SubUnitName</th>\n",
       "      <th>input_names</th>\n",
       "      <th>output_name</th>\n",
       "      <th>input_layerid</th>\n",
       "      <th>output_layerid</th>\n",
       "      <th>SubUnit_BasicNN_List</th>\n",
       "      <th>SubUnit_DefaultBasicNN_List</th>\n",
       "    </tr>\n",
       "  </thead>\n",
       "  <tbody>\n",
       "    <tr>\n",
       "      <th>0</th>\n",
       "      <td>R</td>\n",
       "      <td>[B-P-EC-PNSect-Tknz]</td>\n",
       "      <td>B-P-EC-PNSect</td>\n",
       "      <td>5</td>\n",
       "      <td>4</td>\n",
       "      <td>[reducer-ReduceMax]</td>\n",
       "      <td>[{}]</td>\n",
       "    </tr>\n",
       "    <tr>\n",
       "      <th>1</th>\n",
       "      <td>R</td>\n",
       "      <td>[B-P-EC-PNSect]</td>\n",
       "      <td>B-P-EC</td>\n",
       "      <td>4</td>\n",
       "      <td>3</td>\n",
       "      <td>[reducer-ReduceMax]</td>\n",
       "      <td>[{}]</td>\n",
       "    </tr>\n",
       "    <tr>\n",
       "      <th>2</th>\n",
       "      <td>M</td>\n",
       "      <td>[B-P-Info, B-P-EC]</td>\n",
       "      <td>B-P-Info&amp;EC</td>\n",
       "      <td>3</td>\n",
       "      <td>3</td>\n",
       "      <td>[merger-MergeConcat]</td>\n",
       "      <td>[{}]</td>\n",
       "    </tr>\n",
       "    <tr>\n",
       "      <th>3</th>\n",
       "      <td>R</td>\n",
       "      <td>[B-P-Info&amp;EC]</td>\n",
       "      <td>B-P</td>\n",
       "      <td>3</td>\n",
       "      <td>2</td>\n",
       "      <td>[reducer-ReduceMax]</td>\n",
       "      <td>[{}]</td>\n",
       "    </tr>\n",
       "  </tbody>\n",
       "</table>\n",
       "</div>"
      ],
      "text/plain": [
       "  SubUnitName           input_names    output_name  input_layerid  \\\n",
       "0           R  [B-P-EC-PNSect-Tknz]  B-P-EC-PNSect              5   \n",
       "1           R       [B-P-EC-PNSect]         B-P-EC              4   \n",
       "2           M    [B-P-Info, B-P-EC]    B-P-Info&EC              3   \n",
       "3           R         [B-P-Info&EC]            B-P              3   \n",
       "\n",
       "   output_layerid  SubUnit_BasicNN_List SubUnit_DefaultBasicNN_List  \n",
       "0               4   [reducer-ReduceMax]                        [{}]  \n",
       "1               3   [reducer-ReduceMax]                        [{}]  \n",
       "2               3  [merger-MergeConcat]                        [{}]  \n",
       "3               2   [reducer-ReduceMax]                        [{}]  "
      ]
     },
     "execution_count": 17,
     "metadata": {},
     "output_type": "execute_result"
    }
   ],
   "source": [
    "\n",
    "fldgrn_folder = 'data/ProcData/FldGrnInfo'\n",
    "learner_default_dict = {} # To update it in the future. \n",
    "\n",
    "\n",
    "s = df_SubUnit.apply(lambda x: get_SubUnit_Default_NNPara_List(x['SubUnit_BasicNN_List'], \n",
    "                                                               x['input_names'],\n",
    "                                                               fldgrn_folder, \n",
    "                                                               learner_default_dict), axis = 1)\n",
    "\n",
    "df_SubUnit['SubUnit_DefaultBasicNN_List'] = s\n",
    "df_SubUnit\n"
   ]
  },
  {
   "cell_type": "markdown",
   "id": "e595f51b-366d-418e-a28d-96dbb0ae174c",
   "metadata": {},
   "source": [
    "## Get BasicNN Config List"
   ]
  },
  {
   "cell_type": "code",
   "execution_count": 18,
   "id": "c820ca77-bb5c-40e3-849f-1248cdf8606a",
   "metadata": {
    "tags": []
   },
   "outputs": [],
   "source": [
    "\n",
    "from fieldnn.configfn.expanderfn import get_expander_para\n",
    "from fieldnn.configfn.mergerfn import get_merger_para\n",
    "from fieldnn.configfn.reducerfn import get_reducer_para\n",
    "from fieldnn.configfn.learnerfn import get_learner_para\n",
    "\n",
    "\n",
    "\n",
    "def generate_BasicNN_Config(nn_type_nn_name, \n",
    "                            input_names_nnlvl, \n",
    "                            default_nnpara, \n",
    "                            embed_size, \n",
    "                            process):\n",
    "    '''\n",
    "        please notince here, this function is not the final version yet.\n",
    "    '''\n",
    "    nn_type, nn_name = nn_type_nn_name.split('-')\n",
    "\n",
    "    if nn_type == 'expander':\n",
    "        \n",
    "        assert len(input_names_nnlvl) == 1\n",
    "        # fld = input_names_nnlvl[0].split('-')[-1]\n",
    "        # Get the output_name_nnlvl\n",
    "        output_name_nnlvl = input_names_nnlvl[0].split('Grn')[0]\n",
    "        \n",
    "        # Get the input_size and output_size\n",
    "        input_size = None\n",
    "        output_size = embed_size \n",
    "        \n",
    "        # Get the postprocess\n",
    "        postprocess = process\n",
    "        \n",
    "        # Derive the para\n",
    "        full_recfldgrn = default_nnpara['full_recfldgrn']\n",
    "        Info = default_nnpara['Info']\n",
    "        # para = get_expander_para(nn_name, default_nnpara, embed_size, vocab_tokenizer, init, postprocess)\n",
    "        para = get_expander_para(full_recfldgrn, Info, embed_size, postprocess)\n",
    "\n",
    "    elif nn_type == 'reducer': \n",
    "        \n",
    "        assert len(input_names_nnlvl) == 1\n",
    "        fld = input_names_nnlvl[0].split('-')[-1]\n",
    "        # Get the output_name_nnlvl\n",
    "        output_name_nnlvl = input_names_nnlvl[0].replace('-' + fld, '')\n",
    "\n",
    "        # Get the para for the NN layer\n",
    "        nn_para = default_nnpara # this will be updated.\n",
    "\n",
    "        # Get the input_size\n",
    "        input_size = embed_size\n",
    "        output_size = embed_size \n",
    "        \n",
    "        # Get the postprocess\n",
    "        postprocess = process\n",
    "\n",
    "        # Derive the para\n",
    "        para = get_reducer_para(nn_name, default_nnpara, input_size, output_size, postprocess)  \n",
    "        \n",
    "    elif nn_type == 'merger':\n",
    "        # generate the output name\n",
    "        \n",
    "        assert len(input_names_nnlvl) > 1\n",
    "        # input_names_nnlvl: ['B-P-EC-A1CDT', 'B-P-EC-A1CV']\n",
    "        \n",
    "        childflds = [i.split('-')[-1] for i in input_names_nnlvl]\n",
    "        # childflds: ['A1CDT', 'A1CV']\n",
    "        \n",
    "        fld_childflds = '&'.join([i for i in childflds])\n",
    "        # fld_childflds: A1CDT&A1CV\n",
    "        \n",
    "        # output_prefix = input_names_nnlvl[0].replace('@' + childflds[0].split('@')[-1], '')\n",
    "        output_prefix = '-'.join(input_names_nnlvl[0].split('-')[:-1])\n",
    "        \n",
    "        # output_prefix: B-P-EC-A1C\n",
    "        output_name_nnlvl = output_prefix + '-' + fld_childflds\n",
    "        # output_name_nnlvl: B-P-EC-A1C-DT&V\n",
    "        \n",
    "        # Prepare the para for the NN layer\n",
    "        nn_para = default_nnpara # this will be updated.\n",
    "\n",
    "        # Get the input_size\n",
    "        input_size = embed_size\n",
    "        output_size = embed_size\n",
    "\n",
    "        # Get the postprocess\n",
    "        postprocess = process\n",
    "\n",
    "        # Derive the para\n",
    "        para = get_merger_para(nn_name, default_nnpara, input_size, output_size, postprocess) \n",
    "        \n",
    "        \n",
    "    elif nn_type == 'learner':\n",
    "        # generate the output name\n",
    "        assert len(input_names_nnlvl) == 1\n",
    "        output_name_nnlvl = input_names_nnlvl[0] # just the same name as before\n",
    "        \n",
    "        # Prepare the para for the NN layer\n",
    "        nn_para = default_nnpara # this will be updated.\n",
    "\n",
    "        # Get the input_size\n",
    "        input_size = embed_size\n",
    "        output_size = embed_size\n",
    "\n",
    "        # Get the postprocess\n",
    "        postprocess = process\n",
    "\n",
    "        # Derive the para\n",
    "        para = get_learner_para(nn_name, default_nnpara, input_size, output_size, postprocess)\n",
    "        \n",
    "        \n",
    "    else:\n",
    "        raise ValueError(f'nn_type {nn_type} is not available yet')\n",
    "\n",
    "    Basic_Config = {'input_names_nnlvl': input_names_nnlvl, \n",
    "                    'output_name_nnlvl': output_name_nnlvl, \n",
    "                    f'{nn_type}_para': para}\n",
    "    \n",
    "    return Basic_Config\n"
   ]
  },
  {
   "cell_type": "code",
   "execution_count": 19,
   "id": "bb55c67a-33ac-4840-a3a0-514af157363b",
   "metadata": {
    "tags": []
   },
   "outputs": [],
   "source": [
    "\n",
    "def get_SubUnit_BasicNN_Config_List(SubUnit_BasicNN_List, \n",
    "                                    SubUnit_DefaultBasicNN_List, \n",
    "                                    SubUnit_input_names, \n",
    "                                    SubUnit_output_name, \n",
    "                                    embed_size, \n",
    "                                    process, \n",
    "                                   ):\n",
    "    \n",
    "    \n",
    "    # TODO: also add the layer_idx in order to deal with the learn_layer_para.\n",
    "    # This function also needs to be updated. \n",
    "    \n",
    "    SubUnit_BasicNN_Config_List = []\n",
    "    \n",
    "    # print('\\n\\n************** SubUnit_BasicNN_List ****************')\n",
    "    # print(SubUnit_BasicNN_List)\n",
    "    # print(SubUnit_input_names)\n",
    "    # print(SubUnit_output_name)\n",
    "    for basic_nn_idx, nn_type_nn_name in enumerate(SubUnit_BasicNN_List):\n",
    "\n",
    "        # Get the input_names_nnlvl\n",
    "        if basic_nn_idx == 0:\n",
    "            input_names_nnlvl = SubUnit_input_names # this assigments only works for the first iteration\n",
    "        else:\n",
    "            input_names_nnlvl = [output_name_nnlvl]\n",
    "        \n",
    "        ##############\n",
    "        default_nnpara = SubUnit_DefaultBasicNN_List[basic_nn_idx] \n",
    "        ##############\n",
    "        \n",
    "        \n",
    "        Basic_Config = generate_BasicNN_Config(nn_type_nn_name, \n",
    "                                               input_names_nnlvl, \n",
    "                                               default_nnpara, \n",
    "                                               embed_size, \n",
    "                                               process)\n",
    "        output_name_nnlvl = Basic_Config['output_name_nnlvl']\n",
    "        BasicNN_Config = {'nn_type_nn_name': nn_type_nn_name, 'Basic_Config': Basic_Config}\n",
    "        SubUnit_BasicNN_Config_List.append(BasicNN_Config)\n",
    "        \n",
    "        # print('==========================')\n",
    "        # print(basic_nn_idx, nn_type_nn_name)\n",
    "        # print(input_names_nnlvl, '<-------- input_names_nnlvl')\n",
    "        # print(output_name_nnlvl, '<-------- output_name_nnlvl')\n",
    "        \n",
    "        \n",
    "        # also check the input_size of dim and output_size of dim\n",
    "\n",
    "    final_output_name_nnlvl = output_name_nnlvl\n",
    "\n",
    "    # if not SubUnit_output_name in final_output_name_nnlvl:\n",
    "    #     print('xxx errors xxx')\n",
    "    #     print(final_output_name_nnlvl, '<------- final_output_name_nnlvl')\n",
    "    #     print(SubUnit_output_name, '<------- SubUnit_output_name')\n",
    "    #     print('xxx errors xxx')\n",
    "    assert SubUnit_output_name in final_output_name_nnlvl\n",
    "    # print('\\n************** End SubUnit_BasicNN_List ****************')\n",
    "    return SubUnit_BasicNN_Config_List\n"
   ]
  },
  {
   "cell_type": "code",
   "execution_count": 20,
   "id": "f916c342-9dfe-4b76-9e83-faf5b0b8d6ce",
   "metadata": {
    "tags": []
   },
   "outputs": [],
   "source": [
    "############################\n",
    "embed_size = 128\n",
    "process = {'activator': 'gelu',\n",
    "           'dropout': {'p': 0.5, 'inplace': False},\n",
    "           'layernorm': {'eps': 1e-05, 'elementwise_affine': True}}\n",
    "############################\n",
    "\n",
    "s = get_SubUnit_BasicNN_Config_List(SubUnit_BasicNN_List, \n",
    "                                    SubUnit_DefaultBasicNN_List, \n",
    "                                    SubUnit_input_names, \n",
    "                                    SubUnit_output_name, \n",
    "                                    embed_size, \n",
    "                                    process, \n",
    "                                   )\n",
    "\n",
    "SubUnit_BasicNN_Config_List = s"
   ]
  },
  {
   "cell_type": "code",
   "execution_count": 21,
   "id": "ee7d4671-1de8-489f-bbb4-c64d3780627b",
   "metadata": {
    "tags": []
   },
   "outputs": [
    {
     "data": {
      "text/plain": [
       "[{'nn_type_nn_name': 'reducer-ReduceMax',\n",
       "  'Basic_Config': {'input_names_nnlvl': ['B-P-EC-PNSect-Tknz'],\n",
       "   'output_name_nnlvl': 'B-P-EC-PNSect',\n",
       "   'reducer_para': {'nn_type': 'reducer',\n",
       "    'nn_name': 'ReduceMax',\n",
       "    'nn_para': {},\n",
       "    'input_size': 128,\n",
       "    'output_size': 128,\n",
       "    'postprocess': {'activator': 'gelu',\n",
       "     'dropout': {'p': 0.5, 'inplace': False},\n",
       "     'layernorm': {'eps': 1e-05, 'elementwise_affine': True}}}}}]"
      ]
     },
     "execution_count": 21,
     "metadata": {},
     "output_type": "execute_result"
    }
   ],
   "source": [
    "SubUnit_BasicNN_Config_List"
   ]
  },
  {
   "cell_type": "code",
   "execution_count": 22,
   "id": "73b9944a-727b-4170-b464-6662220330d7",
   "metadata": {
    "tags": []
   },
   "outputs": [],
   "source": [
    "############################\n",
    "embed_size = 128\n",
    "process = {'activator': 'gelu',\n",
    "           'dropout': {'p': 0.5, 'inplace': False},\n",
    "           'layernorm': {'eps': 1e-05, 'elementwise_affine': True}}\n",
    "############################"
   ]
  },
  {
   "cell_type": "code",
   "execution_count": 23,
   "id": "45aadaad-7839-4bcd-9340-14776ae7167e",
   "metadata": {
    "tags": []
   },
   "outputs": [
    {
     "data": {
      "text/html": [
       "<div>\n",
       "<style scoped>\n",
       "    .dataframe tbody tr th:only-of-type {\n",
       "        vertical-align: middle;\n",
       "    }\n",
       "\n",
       "    .dataframe tbody tr th {\n",
       "        vertical-align: top;\n",
       "    }\n",
       "\n",
       "    .dataframe thead th {\n",
       "        text-align: right;\n",
       "    }\n",
       "</style>\n",
       "<table border=\"1\" class=\"dataframe\">\n",
       "  <thead>\n",
       "    <tr style=\"text-align: right;\">\n",
       "      <th></th>\n",
       "      <th>SubUnitName</th>\n",
       "      <th>input_names</th>\n",
       "      <th>output_name</th>\n",
       "      <th>input_layerid</th>\n",
       "      <th>output_layerid</th>\n",
       "      <th>SubUnit_BasicNN_List</th>\n",
       "      <th>SubUnit_DefaultBasicNN_List</th>\n",
       "      <th>SubUnit_BasicNN_Config_List</th>\n",
       "    </tr>\n",
       "  </thead>\n",
       "  <tbody>\n",
       "    <tr>\n",
       "      <th>0</th>\n",
       "      <td>R</td>\n",
       "      <td>[B-P-EC-PNSect-Tknz]</td>\n",
       "      <td>B-P-EC-PNSect</td>\n",
       "      <td>5</td>\n",
       "      <td>4</td>\n",
       "      <td>[reducer-ReduceMax]</td>\n",
       "      <td>[{}]</td>\n",
       "      <td>[{'nn_type_nn_name': 'reducer-ReduceMax', 'Bas...</td>\n",
       "    </tr>\n",
       "    <tr>\n",
       "      <th>1</th>\n",
       "      <td>R</td>\n",
       "      <td>[B-P-EC-PNSect]</td>\n",
       "      <td>B-P-EC</td>\n",
       "      <td>4</td>\n",
       "      <td>3</td>\n",
       "      <td>[reducer-ReduceMax]</td>\n",
       "      <td>[{}]</td>\n",
       "      <td>[{'nn_type_nn_name': 'reducer-ReduceMax', 'Bas...</td>\n",
       "    </tr>\n",
       "    <tr>\n",
       "      <th>2</th>\n",
       "      <td>M</td>\n",
       "      <td>[B-P-Info, B-P-EC]</td>\n",
       "      <td>B-P-Info&amp;EC</td>\n",
       "      <td>3</td>\n",
       "      <td>3</td>\n",
       "      <td>[merger-MergeConcat]</td>\n",
       "      <td>[{}]</td>\n",
       "      <td>[{'nn_type_nn_name': 'merger-MergeConcat', 'Ba...</td>\n",
       "    </tr>\n",
       "    <tr>\n",
       "      <th>3</th>\n",
       "      <td>R</td>\n",
       "      <td>[B-P-Info&amp;EC]</td>\n",
       "      <td>B-P</td>\n",
       "      <td>3</td>\n",
       "      <td>2</td>\n",
       "      <td>[reducer-ReduceMax]</td>\n",
       "      <td>[{}]</td>\n",
       "      <td>[{'nn_type_nn_name': 'reducer-ReduceMax', 'Bas...</td>\n",
       "    </tr>\n",
       "  </tbody>\n",
       "</table>\n",
       "</div>"
      ],
      "text/plain": [
       "  SubUnitName           input_names    output_name  input_layerid  \\\n",
       "0           R  [B-P-EC-PNSect-Tknz]  B-P-EC-PNSect              5   \n",
       "1           R       [B-P-EC-PNSect]         B-P-EC              4   \n",
       "2           M    [B-P-Info, B-P-EC]    B-P-Info&EC              3   \n",
       "3           R         [B-P-Info&EC]            B-P              3   \n",
       "\n",
       "   output_layerid  SubUnit_BasicNN_List SubUnit_DefaultBasicNN_List  \\\n",
       "0               4   [reducer-ReduceMax]                        [{}]   \n",
       "1               3   [reducer-ReduceMax]                        [{}]   \n",
       "2               3  [merger-MergeConcat]                        [{}]   \n",
       "3               2   [reducer-ReduceMax]                        [{}]   \n",
       "\n",
       "                         SubUnit_BasicNN_Config_List  \n",
       "0  [{'nn_type_nn_name': 'reducer-ReduceMax', 'Bas...  \n",
       "1  [{'nn_type_nn_name': 'reducer-ReduceMax', 'Bas...  \n",
       "2  [{'nn_type_nn_name': 'merger-MergeConcat', 'Ba...  \n",
       "3  [{'nn_type_nn_name': 'reducer-ReduceMax', 'Bas...  "
      ]
     },
     "execution_count": 23,
     "metadata": {},
     "output_type": "execute_result"
    }
   ],
   "source": [
    "s = df_SubUnit.apply(lambda x: get_SubUnit_BasicNN_Config_List(x['SubUnit_BasicNN_List'], \n",
    "                                                               x['SubUnit_DefaultBasicNN_List'], \n",
    "                                                               x['input_names'], \n",
    "                                                               x['output_name'], \n",
    "                                                                embed_size, \n",
    "                                                                process, \n",
    "                                                               ), axis = 1)\n",
    "\n",
    "s\n",
    "\n",
    "df_SubUnit['SubUnit_BasicNN_Config_List'] = s\n",
    "df_SubUnit\n"
   ]
  },
  {
   "cell_type": "code",
   "execution_count": 24,
   "id": "68496afe-8c59-4e24-a3ef-6eea98227a58",
   "metadata": {
    "tags": []
   },
   "outputs": [
    {
     "data": {
      "text/plain": [
       "[{'nn_type_nn_name': 'merger-MergeConcat',\n",
       "  'Basic_Config': {'input_names_nnlvl': ['B-P-Info', 'B-P-EC'],\n",
       "   'output_name_nnlvl': 'B-P-Info&EC',\n",
       "   'merger_para': {'nn_type': 'merger',\n",
       "    'nn_name': 'MergeConcat',\n",
       "    'nn_para': {},\n",
       "    'input_size': 128,\n",
       "    'output_size': 128,\n",
       "    'postprocess': {'activator': 'gelu',\n",
       "     'dropout': {'p': 0.5, 'inplace': False},\n",
       "     'layernorm': {'eps': 1e-05, 'elementwise_affine': True}}}}}]"
      ]
     },
     "execution_count": 24,
     "metadata": {},
     "output_type": "execute_result"
    }
   ],
   "source": [
    "df_SubUnit['SubUnit_BasicNN_Config_List'].iloc[2]"
   ]
  },
  {
   "cell_type": "markdown",
   "id": "f42fe0d0-936f-4bd2-b700-e8fd96d9f197",
   "metadata": {},
   "source": [
    "# SubUnit"
   ]
  },
  {
   "cell_type": "markdown",
   "id": "4671bb88-37c0-4a9d-94cc-647c1010fd2a",
   "metadata": {},
   "source": [
    "## Module"
   ]
  },
  {
   "cell_type": "code",
   "execution_count": 25,
   "id": "608dcf51-0ae6-4314-802a-ca22998fad3a",
   "metadata": {
    "tags": []
   },
   "outputs": [],
   "source": [
    "from fieldnn.module.subunit import SubUnit_Layer"
   ]
  },
  {
   "cell_type": "markdown",
   "id": "c1f9efb2-5fca-49d4-bd48-51009c607f8c",
   "metadata": {},
   "source": [
    "## Usage"
   ]
  },
  {
   "cell_type": "code",
   "execution_count": 26,
   "id": "a47b765c-3161-4b31-ad39-2a4bcb5a811f",
   "metadata": {
    "tags": []
   },
   "outputs": [],
   "source": [
    "OutputTensor_2_Repr = {}\n",
    "\n",
    "for idx, SubUnit_info in df_SubUnit.iterrows():\n",
    "    # print(SubUnit_info)\n",
    "    \n",
    "    output_name = SubUnit_info['output_name']\n",
    "    SubUnitLayer = SubUnit_Layer(SubUnit_info)\n",
    "    OutputTensor_2_Repr[output_name] = SubUnitLayer\n",
    "    "
   ]
  },
  {
   "cell_type": "code",
   "execution_count": 27,
   "id": "12eead25-d92e-4781-84f3-49e3be886e12",
   "metadata": {
    "tags": []
   },
   "outputs": [
    {
     "data": {
      "text/plain": [
       "['B-P-Info', 'B-P-EC-PNSect-Tknz']"
      ]
     },
     "execution_count": 27,
     "metadata": {},
     "output_type": "execute_result"
    }
   ],
   "source": [
    "[i for i in RECFLD_TO_EMBEDTESNOR]"
   ]
  },
  {
   "cell_type": "code",
   "execution_count": 28,
   "id": "18e05c4f-9466-4ecf-a9b7-5fe902565257",
   "metadata": {
    "tags": []
   },
   "outputs": [],
   "source": [
    "# fld_updates_dict = {}\n",
    "# for i in RECFLD_TO_EMBEDTESNOR:\n",
    "#     layernum = len(i.split('-'))\n",
    "#     fld = i.split('-')[-1]\n",
    "#     if '@' in fld:\n",
    "#         # print(fld)\n",
    "#         neat_i = '-'.join(i.split('-')[:-1]) + '-' + fld.split('@')[0]\n",
    "#         # print(neat_i)\n",
    "#         same_neat_list = [t for t in RECFLD_TO_EMBEDTESNOR if neat_i + '@' in t]\n",
    "#         # print(same_neat_list)\n",
    "#         if len(same_neat_list) == 1: # itself\n",
    "#             # RECFLD_TO_EMBEDTESNOR[]\n",
    "#             fld_updates_dict[i] = neat_i\n",
    "            \n",
    "# for old, new in fld_updates_dict.items():\n",
    "#     RECFLD_TO_EMBEDTESNOR[new] = RECFLD_TO_EMBEDTESNOR.pop(old)"
   ]
  },
  {
   "cell_type": "code",
   "execution_count": 29,
   "id": "a20decd6-52f5-4037-ac36-ee642d1c4825",
   "metadata": {
    "tags": []
   },
   "outputs": [
    {
     "data": {
      "text/plain": [
       "['B-P-Info', 'B-P-EC-PNSect-Tknz']"
      ]
     },
     "execution_count": 29,
     "metadata": {},
     "output_type": "execute_result"
    }
   ],
   "source": [
    "[i for i in RECFLD_TO_EMBEDTESNOR]"
   ]
  },
  {
   "cell_type": "code",
   "execution_count": 30,
   "id": "a72c9341-517b-493a-9976-c74d6367cf67",
   "metadata": {
    "tags": []
   },
   "outputs": [
    {
     "name": "stdout",
     "output_type": "stream",
     "text": [
      "B-P-EC-PNSect\n",
      "B-P-EC\n",
      "B-P-Info&EC\n",
      "B-P\n"
     ]
    }
   ],
   "source": [
    "OUTPUT_TO_TENSOR = RECFLD_TO_EMBEDTESNOR.copy()\n",
    "\n",
    "for output_name, SubUnitLayer in OutputTensor_2_Repr.items():\n",
    "    input_names = SubUnitLayer.SubUnit_input_names\n",
    "    SubUnit_output_name, info_dict = SubUnitLayer(input_names, OUTPUT_TO_TENSOR)\n",
    "    \n",
    "    print(SubUnit_output_name)\n",
    "    OUTPUT_TO_TENSOR[SubUnit_output_name] = info_dict"
   ]
  },
  {
   "cell_type": "code",
   "execution_count": 31,
   "id": "ae50659e-f269-4b0f-a53d-cf3a0a232532",
   "metadata": {
    "tags": []
   },
   "outputs": [
    {
     "data": {
      "text/plain": [
       "torch.Size([4, 128])"
      ]
     },
     "execution_count": 31,
     "metadata": {},
     "output_type": "execute_result"
    }
   ],
   "source": [
    "info_dict = OUTPUT_TO_TENSOR['B-P']\n",
    "\n",
    "info_dict['info'].shape"
   ]
  },
  {
   "cell_type": "markdown",
   "id": "e7e11393-d536-4528-b415-b95be5bae542",
   "metadata": {},
   "source": [
    "# ReprBlock"
   ]
  },
  {
   "cell_type": "markdown",
   "id": "e4775877-781e-46bd-a5bd-6cf105f9ba76",
   "metadata": {},
   "source": [
    "## Module"
   ]
  },
  {
   "cell_type": "code",
   "execution_count": 32,
   "id": "f2505b32-36f0-44cc-bf32-284783c9f9d0",
   "metadata": {
    "tags": []
   },
   "outputs": [],
   "source": [
    "import torch\n",
    "# from .subunit import SubUnit_Layer\n",
    "\n",
    "\n",
    "class ReprBlockLayer(torch.nn.Module):\n",
    "    \n",
    "    def __init__(self, df_SubUnit):\n",
    "        super(ReprBlockLayer, self).__init__()\n",
    "        self.df_SubUnit = df_SubUnit\n",
    "        self.SubUnitDict = torch.nn.ModuleDict()\n",
    "        \n",
    "        for idx, SubUnit_info in df_SubUnit.iterrows():\n",
    "            output_name = SubUnit_info['output_name']\n",
    "            SubUnitLayer = SubUnit_Layer(SubUnit_info)\n",
    "            self.SubUnitDict[output_name] = SubUnitLayer\n",
    "\n",
    "    def forward(self, RECFLD_TO_EMBEDTESNOR):\n",
    "        \n",
    "        OUTPUT_TO_TENSOR = RECFLD_TO_EMBEDTESNOR.copy()\n",
    "        \n",
    "        for output_name, SubUnitLayer in self.SubUnitDict.items():\n",
    "            input_names = SubUnitLayer.SubUnit_input_names\n",
    "            SubUnit_output_name, info_dict = SubUnitLayer(input_names, OUTPUT_TO_TENSOR)\n",
    "            \n",
    "            assert output_name == SubUnit_output_name\n",
    "            OUTPUT_TO_TENSOR[SubUnit_output_name] = info_dict\n",
    "        \n",
    "        return OUTPUT_TO_TENSOR\n",
    "    "
   ]
  },
  {
   "cell_type": "markdown",
   "id": "541de071-d85f-4ca8-abe1-5009bb7d6f57",
   "metadata": {},
   "source": [
    "## Usage"
   ]
  },
  {
   "cell_type": "code",
   "execution_count": 33,
   "id": "149acaa1-1b90-4992-9c29-b48ed8fa6d13",
   "metadata": {
    "tags": []
   },
   "outputs": [],
   "source": [
    "ReprBlock = ReprBlockLayer(df_SubUnit)\n",
    "\n",
    "# ReprBlock"
   ]
  },
  {
   "cell_type": "code",
   "execution_count": 34,
   "id": "914291f6-4003-4bc4-97f1-e3300f9f074e",
   "metadata": {
    "tags": []
   },
   "outputs": [],
   "source": [
    "# fld_updates_dict = {}\n",
    "# for i in RECFLD_TO_EMBEDTESNOR:\n",
    "#     layernum = len(i.split('-'))\n",
    "#     fld = i.split('-')[-1]\n",
    "#     if '@' in fld:\n",
    "#         # print(fld)\n",
    "#         neat_i = '-'.join(i.split('-')[:-1]) + '-' + fld.split('@')[0]\n",
    "#         # print(neat_i)\n",
    "#         same_neat_list = [t for t in RECFLD_TO_EMBEDTESNOR if neat_i + '@' in t]\n",
    "#         # print(same_neat_list)\n",
    "#         if len(same_neat_list) == 1: # itself\n",
    "#             # RECFLD_TO_EMBEDTESNOR[]\n",
    "#             fld_updates_dict[i] = neat_i\n",
    "            \n",
    "# for old, new in fld_updates_dict.items():\n",
    "#     RECFLD_TO_EMBEDTESNOR[new] = RECFLD_TO_EMBEDTESNOR.pop(old)"
   ]
  },
  {
   "cell_type": "code",
   "execution_count": 35,
   "id": "631e0260-abe0-4921-920c-6e5c05ff91a4",
   "metadata": {
    "tags": []
   },
   "outputs": [
    {
     "data": {
      "text/plain": [
       "['B-P-Info', 'B-P-EC-PNSect-Tknz']"
      ]
     },
     "execution_count": 35,
     "metadata": {},
     "output_type": "execute_result"
    }
   ],
   "source": [
    "[i for i in RECFLD_TO_EMBEDTESNOR]"
   ]
  },
  {
   "cell_type": "code",
   "execution_count": 36,
   "id": "abf973f1-30a0-4129-8e8f-4cef615be99d",
   "metadata": {
    "tags": []
   },
   "outputs": [
    {
     "data": {
      "text/plain": [
       "['B-P-Info',\n",
       " 'B-P-EC-PNSect-Tknz',\n",
       " 'B-P-EC-PNSect',\n",
       " 'B-P-EC',\n",
       " 'B-P-Info&EC',\n",
       " 'B-P']"
      ]
     },
     "execution_count": 36,
     "metadata": {},
     "output_type": "execute_result"
    }
   ],
   "source": [
    "OUTPUT_TO_TENSOR = ReprBlock(RECFLD_TO_EMBEDTESNOR)\n",
    "[i for i in OUTPUT_TO_TENSOR]"
   ]
  },
  {
   "cell_type": "code",
   "execution_count": 48,
   "id": "d2bea4f7-8e6d-4980-add5-fb88650e53cf",
   "metadata": {},
   "outputs": [],
   "source": [
    "holder = OUTPUT_TO_TENSOR['B-P']['holder']#.shape\n",
    "info   = OUTPUT_TO_TENSOR['B-P']['info']#.shape"
   ]
  },
  {
   "cell_type": "code",
   "execution_count": 49,
   "id": "159f6207-b72d-46dc-a9e1-053880b8d25a",
   "metadata": {},
   "outputs": [
    {
     "data": {
      "text/plain": [
       "torch.Size([4, 128])"
      ]
     },
     "execution_count": 49,
     "metadata": {},
     "output_type": "execute_result"
    }
   ],
   "source": [
    "info.shape"
   ]
  },
  {
   "cell_type": "code",
   "execution_count": 50,
   "id": "9b487163-88ff-4b16-8144-7115f6566dc7",
   "metadata": {
    "tags": []
   },
   "outputs": [
    {
     "data": {
      "text/plain": [
       "tensor([50, 66, 44, 65])"
      ]
     },
     "execution_count": 50,
     "metadata": {},
     "output_type": "execute_result"
    }
   ],
   "source": [
    "holder"
   ]
  },
  {
   "cell_type": "code",
   "execution_count": null,
   "id": "8b5fa04c-9abb-4f2c-a393-6ebe29af8600",
   "metadata": {},
   "outputs": [],
   "source": []
  }
 ],
 "metadata": {
  "kernelspec": {
   "display_name": "Python 3 (ipykernel)",
   "language": "python",
   "name": "python3"
  },
  "language_info": {
   "codemirror_mode": {
    "name": "ipython",
    "version": 3
   },
   "file_extension": ".py",
   "mimetype": "text/x-python",
   "name": "python",
   "nbconvert_exporter": "python",
   "pygments_lexer": "ipython3",
   "version": "3.8.8"
  },
  "toc-autonumbering": true
 },
 "nbformat": 4,
 "nbformat_minor": 5
}
